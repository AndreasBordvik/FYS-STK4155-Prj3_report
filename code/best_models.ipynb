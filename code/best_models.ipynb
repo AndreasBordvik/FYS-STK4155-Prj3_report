{
 "cells": [
  {
   "cell_type": "code",
   "execution_count": 1,
   "metadata": {},
   "outputs": [],
   "source": [
    "from sklearn.metrics import mean_absolute_error as MSE\n",
    "from cmcrameri import cm\n",
    "from tqdm import tqdm\n",
    "import seaborn as sns\n",
    "from common import *\n",
    "from models import *"
   ]
  },
  {
   "cell_type": "markdown",
   "metadata": {},
   "source": [
    "# Loading our data"
   ]
  },
  {
   "cell_type": "code",
   "execution_count": 2,
   "metadata": {},
   "outputs": [],
   "source": [
    "df = pd.read_csv(\"../data/input_data/MAIN_DATASET.csv\")\n",
    "\n",
    "price = df['NO2_price'].values.reshape(-1,1)\n",
    "fload = df['NO2_load_forecasted'].values.reshape(-1,1)\n",
    "fgen = df['NO2_generation_forecast'].values.reshape(-1,1)\n",
    "\n",
    "\n",
    "price_days = seperate_column_to_days(price)\n",
    "fload_days = seperate_column_to_days(fload)\n",
    "fgen_days = seperate_column_to_days(fgen)"
   ]
  },
  {
   "cell_type": "markdown",
   "metadata": {},
   "source": [
    "# Structuring our data"
   ]
  },
  {
   "cell_type": "code",
   "execution_count": 3,
   "metadata": {},
   "outputs": [
    {
     "name": "stdout",
     "output_type": "stream",
     "text": [
      "(2145, 192, 3)\n"
     ]
    }
   ],
   "source": [
    "lookbehind = 7\n",
    "input_width = lookbehind*24\n",
    "horizon = 24\n",
    "no_hours = input_width + horizon\n",
    "stride = 24\n",
    "hour_in_days = int(no_hours / stride)\n",
    "\n",
    "price_dataset = []\n",
    "fload_dataset = []\n",
    "fgen_dataset = []\n",
    "\n",
    "for i in range(len(price_days) - hour_in_days+1):\n",
    "    price_dataset.append(np.concatenate((price_days[i:i+hour_in_days])))\n",
    "    fload_dataset.append(np.concatenate((fload_days[i:i+hour_in_days])))\n",
    "    fgen_dataset.append(np.concatenate((fgen_days[i:i+hour_in_days])))\n",
    "\n",
    "price_dataset = np.array(price_dataset)\n",
    "fload_dataset = np.array(fload_dataset)\n",
    "fgen_dataset = np.array(fgen_dataset)\n",
    "\n",
    "scaler = MinMaxScaler()\n",
    "price_dataset = scaler.fit_transform(price_dataset[:,:,0])\n",
    "price_dataset = price_dataset[..., np.newaxis].astype(np.float32)\n",
    "\n",
    "fload_dataset = scaler.fit_transform(fload_dataset[:,:,0])\n",
    "fload_dataset = fload_dataset[..., np.newaxis].astype(np.float32)\n",
    "\n",
    "fgen_dataset = scaler.fit_transform(fgen_dataset[:,:,0])\n",
    "fgen_dataset = fgen_dataset[..., np.newaxis].astype(np.float32)\n",
    "\n",
    "dataset_forecast = np.concatenate((price_dataset, fload_dataset, fgen_dataset), axis=2)\n",
    "\n",
    "n,m,k = dataset_forecast.shape\n",
    "\n",
    "print(dataset_forecast.shape)\n"
   ]
  },
  {
   "cell_type": "markdown",
   "metadata": {},
   "source": [
    "# Train test split"
   ]
  },
  {
   "cell_type": "code",
   "execution_count": 4,
   "metadata": {},
   "outputs": [],
   "source": [
    "train = int(0.7*n)\n",
    "valid = int(0.9*n)\n",
    "x_train, X_train = price_dataset[:train, :input_width], dataset_forecast[:train, :input_width]\n",
    "x_valid, X_valid = price_dataset[train:valid, :input_width], dataset_forecast[train:valid, :input_width]\n",
    "x_test, X_test = price_dataset[valid:, :input_width], dataset_forecast[valid:, :input_width]\n",
    "\n",
    "Y = np.empty((n, input_width, horizon))\n",
    "for step_ahead in range(1, horizon + 1):\n",
    "    Y[:,:, step_ahead - 1] = dataset_forecast[:,step_ahead:step_ahead + input_width, 0]\n",
    "\n",
    "Y_train = Y[:train]\n",
    "Y_valid = Y[train:valid]\n",
    "Y_test = Y[valid:]"
   ]
  },
  {
   "cell_type": "markdown",
   "metadata": {},
   "source": [
    "# Setting up the models"
   ]
  },
  {
   "cell_type": "markdown",
   "metadata": {},
   "source": [
    "## Common parameters"
   ]
  },
  {
   "cell_type": "code",
   "execution_count": 5,
   "metadata": {},
   "outputs": [],
   "source": [
    "epochs = 2\n",
    "loss = \"mse\" \n",
    "optimizer = \"adam\"\n",
    "univ_neurons = 128\n",
    "batch_size = [200, 400, 600, 800]\n",
    "eta_list = np.logspace(-1, -4, 4)\n",
    "multi_neurons_first = 128\n",
    "multi_neurons_second = 64\n",
    "filters = 64\n",
    "kernel_size = 3\n",
    "strides = 3"
   ]
  },
  {
   "cell_type": "markdown",
   "metadata": {},
   "source": [
    "# Setting up the univariate SimpleRNN"
   ]
  },
  {
   "cell_type": "code",
   "execution_count": 7,
   "metadata": {},
   "outputs": [
    {
     "name": "stdout",
     "output_type": "stream",
     "text": [
      "Epoch 1/2\n",
      "16/16 [==============================] - 8s 492ms/step - loss: 0.0448 - val_loss: 0.0066\n",
      "Epoch 2/2\n",
      "16/16 [==============================] - 8s 478ms/step - loss: 0.0073 - val_loss: 0.0035\n"
     ]
    }
   ],
   "source": [
    "rnn = keras.models.Sequential([\n",
    "    keras.layers.SimpleRNN(univ_neurons, return_sequences=True, input_shape=[None, 1]),\n",
    "    keras.layers.SimpleRNN(univ_neurons, return_sequences=True),\n",
    "    keras.layers.Dense(horizon)\n",
    "])\n",
    "\n",
    "rnn.compile(loss=loss, optimizer=optimizer)\n",
    "rnn.fit(x_train, Y_train, epochs=epochs, batch_size = 100, validation_data=(x_valid, Y_valid))\n",
    "Y_pred_rnn = rnn.predict(x_test)"
   ]
  },
  {
   "cell_type": "code",
   "execution_count": 8,
   "metadata": {},
   "outputs": [
    {
     "name": "stdout",
     "output_type": "stream",
     "text": [
      "(215, 168, 24)\n",
      "(215, 168, 24)\n",
      "0.16606449980562776\n"
     ]
    }
   ],
   "source": [
    "print(Y_test.shape)\n",
    "print(Y_pred_rnn.shape)\n",
    "\n",
    "print(MSE(Y_test[:,-1], Y_pred_rnn[:,-1]))"
   ]
  },
  {
   "cell_type": "markdown",
   "metadata": {},
   "source": [
    "# Setting up the multivariate ConvGRU"
   ]
  },
  {
   "cell_type": "code",
   "execution_count": 10,
   "metadata": {},
   "outputs": [
    {
     "name": "stdout",
     "output_type": "stream",
     "text": [
      "Epoch 1/2\n",
      "16/16 [==============================] - 7s 444ms/step - loss: 0.0168 - val_loss: 0.0108\n",
      "Epoch 2/2\n",
      "16/16 [==============================] - 4s 226ms/step - loss: 0.0053 - val_loss: 0.0051\n",
      "0.12115978574073138\n"
     ]
    }
   ],
   "source": [
    "gru = keras.models.Sequential([\n",
    "    keras.layers.Conv1D(filters=filters, kernel_size=kernel_size, strides=strides, padding=\"valid\", input_shape=[None, k]),\n",
    "    keras.layers.GRU(multi_neurons_first, return_sequences=True),\n",
    "    keras.layers.GRU(multi_neurons_second, return_sequences=True),\n",
    "    keras.layers.Dense(horizon)\n",
    "])\n",
    "\n",
    "gru.compile(loss=loss, optimizer=optimizer)\n",
    "gru.fit(X_train, Y_train[:,2::3], epochs=epochs, batch_size=100, validation_data=(X_valid, Y_valid[:,2::3]))\n",
    "Y_pred_gru = gru.predict(X_test)\n",
    "\n",
    "print(MSE(Y_test[:,-1], Y_pred_gru[:,-1]))"
   ]
  },
  {
   "cell_type": "code",
   "execution_count": null,
   "metadata": {},
   "outputs": [],
   "source": []
  }
 ],
 "metadata": {
  "interpreter": {
   "hash": "f9f85f796d01129d0dd105a088854619f454435301f6ffec2fea96ecbd9be4ac"
  },
  "kernelspec": {
   "display_name": "Python 3.9.5 64-bit",
   "language": "python",
   "name": "python3"
  },
  "language_info": {
   "codemirror_mode": {
    "name": "ipython",
    "version": 3
   },
   "file_extension": ".py",
   "mimetype": "text/x-python",
   "name": "python",
   "nbconvert_exporter": "python",
   "pygments_lexer": "ipython3",
   "version": "3.8.11"
  },
  "orig_nbformat": 4
 },
 "nbformat": 4,
 "nbformat_minor": 2
}
