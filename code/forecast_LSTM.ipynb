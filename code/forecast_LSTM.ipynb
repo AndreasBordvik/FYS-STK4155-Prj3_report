{
 "cells": [
  {
   "cell_type": "code",
   "execution_count": 1,
   "metadata": {},
   "outputs": [],
   "source": [
    "from sklearn.model_selection import train_test_split\n",
    "from sklearn.preprocessing import MinMaxScaler\n",
    "from tensorflow.keras.callbacks import Callback, EarlyStopping, ReduceLROnPlateau, History\n",
    "from tensorflow.keras.layers import Dense, Dropout, LSTM, BatchNormalization, Bidirectional, TimeDistributed\n",
    "from sklearn.linear_model import LinearRegression\n",
    "import pandas as pd\n",
    "from common import *\n",
    "\n",
    "# Python ≥3.5 is required\n",
    "import sys\n",
    "assert sys.version_info >= (3, 5)\n",
    "\n",
    "# Is this notebook running on Colab or Kaggle?\n",
    "IS_COLAB = \"google.colab\" in sys.modules\n",
    "IS_KAGGLE = \"kaggle_secrets\" in sys.modules\n",
    "\n",
    "# Scikit-Learn ≥0.20 is required\n",
    "import sklearn\n",
    "assert sklearn.__version__ >= \"0.20\"\n",
    "\n",
    "# TensorFlow ≥2.0 is required\n",
    "import tensorflow as tf\n",
    "from tensorflow import keras\n",
    "assert tf.__version__ >= \"2.0\"\n",
    "\n",
    "if not tf.config.list_physical_devices('GPU'):\n",
    "    print(\"No GPU was detected. LSTMs and CNNs can be very slow without a GPU.\")\n",
    "    if IS_COLAB:\n",
    "        print(\"Go to Runtime > Change runtime and select a GPU hardware accelerator.\")\n",
    "    if IS_KAGGLE:\n",
    "        print(\"Go to Settings > Accelerator and select GPU.\")\n",
    "\n",
    "# Common imports\n",
    "import numpy as np\n",
    "import os\n",
    "from pathlib import Path\n",
    "\n",
    "# to make this notebook's output stable across runs\n",
    "np.random.seed(42)\n",
    "tf.random.set_seed(42)\n",
    "\n",
    "# To plot pretty figures\n",
    "%matplotlib inline\n",
    "import matplotlib as mpl\n",
    "import matplotlib.pyplot as plt\n",
    "mpl.rc('axes', labelsize=14)\n",
    "mpl.rc('xtick', labelsize=12)\n",
    "mpl.rc('ytick', labelsize=12)\n",
    "\n",
    "# Where to save the figures\n",
    "PROJECT_ROOT_DIR = \".\"\n",
    "CHAPTER_ID = \"rnn\"\n",
    "IMAGES_PATH = os.path.join(PROJECT_ROOT_DIR, \"images\", CHAPTER_ID)\n",
    "os.makedirs(IMAGES_PATH, exist_ok=True)\n",
    "\n",
    "def save_fig(fig_id, tight_layout=True, fig_extension=\"png\", resolution=300):\n",
    "    path = os.path.join(IMAGES_PATH, fig_id + \".\" + fig_extension)\n",
    "    print(\"Saving figure\", fig_id)\n",
    "    if tight_layout:\n",
    "        plt.tight_layout()\n",
    "    plt.savefig(path, format=fig_extension, dpi=resolution)"
   ]
  },
  {
   "cell_type": "code",
   "execution_count": 2,
   "metadata": {},
   "outputs": [],
   "source": [
    "def plot_series(series, y=None, y_pred=None, x_label=\"$t$\", y_label=\"$x(t)$\", legend=True):\n",
    "    plt.plot(series, \".-\")\n",
    "    if y is not None:\n",
    "        plt.plot(n_steps, y, \"bo\", label=\"Target\")\n",
    "    if y_pred is not None:\n",
    "        plt.plot(n_steps, y_pred, \"rx\", markersize=10, label=\"Prediction\")\n",
    "    plt.grid(True)\n",
    "    if x_label:\n",
    "        plt.xlabel(x_label, fontsize=16)\n",
    "    if y_label:\n",
    "        plt.ylabel(y_label, fontsize=16, rotation=0)\n",
    "    plt.hlines(0, 0, 100, linewidth=1)\n",
    "    plt.axis([0, n_steps + 1, -1, 1])\n",
    "    plt.ylim(0,1)\n",
    "    if legend and (y or y_pred):\n",
    "        plt.legend(fontsize=14, loc=\"upper left\")"
   ]
  },
  {
   "cell_type": "code",
   "execution_count": 3,
   "metadata": {},
   "outputs": [],
   "source": [
    "def plot_multiple_forecasts(X, Y, Y_pred):\n",
    "    n_steps = X.shape[1]\n",
    "    ahead = Y.shape[1]\n",
    "    plot_series(X[0, :, 0])\n",
    "    plt.plot(np.arange(n_steps, n_steps + ahead), Y[0, :, 0], \"bo-\", label=\"Actual\")\n",
    "    plt.plot(np.arange(n_steps, n_steps + ahead), Y_pred[0, :, 0], \"rx-\", label=\"Forecast\", markersize=10)\n",
    "    plt.ylim(0,1)\n",
    "    plt.axis([0, n_steps + ahead, -1, 1])\n",
    "    plt.legend(fontsize=14)"
   ]
  },
  {
   "cell_type": "code",
   "execution_count": 4,
   "metadata": {},
   "outputs": [],
   "source": [
    "def plot_learning_curves(loss, val_loss):\n",
    "    plt.plot(np.arange(len(loss)) + 0.5, loss, \"b.-\", label=\"Training loss\")\n",
    "    plt.plot(np.arange(len(val_loss)) + 1, val_loss, \"r.-\", label=\"Validation loss\")\n",
    "    plt.gca().xaxis.set_major_locator(mpl.ticker.MaxNLocator(integer=True))\n",
    "    #plt.axis([1, 20, 0, 0.05])\n",
    "    plt.legend(fontsize=14)\n",
    "    plt.xlabel(\"Epochs\")\n",
    "    plt.ylabel(\"Loss\")\n",
    "    plt.grid(True)"
   ]
  },
  {
   "cell_type": "code",
   "execution_count": 5,
   "metadata": {},
   "outputs": [],
   "source": [
    "def create_time_series_data(raw_train_df, nbf_features, nbf_outputs, column_key, column_suffix=\"\", include_target_outputs=True):\n",
    "    nbf_columns = nbf_features + nbf_outputs\n",
    "    time_series_df, time_series = sliding_window_algorithm(raw_train_df, nbf_columns, nbf_features, nbf_outputs, column_key, column_suffix, include_target_outputs)\n",
    "    return time_series, time_series_df\n",
    "\n",
    "\n",
    "def sliding_window_algorithm(raw_data_df, nbf_columns, input_window, output_window, column_key, column_suffix, include_target_outputs, string_array=False):\n",
    "    raw_data = raw_data_df[column_key].to_numpy()\n",
    "    dim0 = raw_data.shape[0] - (nbf_columns - 1) # Number of time-slices\n",
    "    dim1 = nbf_columns # Time-step length including input window and output window\n",
    "    \n",
    "    if string_array:\n",
    "        data = np.empty((dim0,dim1), dtype=object) # Time series matrix\n",
    "    else:\n",
    "        data = np.zeros((dim0,dim1)) # Time series matrix\n",
    "\n",
    "    data[0, :] = raw_data[:dim1] # First initial sample/time-slice (n equals 0)\n",
    "    n = 1 # n is the count variable\n",
    "    \n",
    "    # Looping through the initial input data and constucting the \n",
    "    # time series data based on the sliding window approach. \n",
    "    # See the report for more descriptions\n",
    "    for j in range(dim1, raw_data.shape[0]):\n",
    "        data[n, :-1] = data[n-1, 1:]\n",
    "        data[n, nbf_columns-1:] = raw_data[j]\n",
    "        n += 1\n",
    "\n",
    "    if include_target_outputs:\n",
    "        # Creating dataframe    \n",
    "        feature_names = [f\"x{i}_{column_suffix}\" for i in range(1,input_window+1)]\n",
    "        if(output_window > 1):\n",
    "            output_names = [f\"y{i}_{column_suffix}\" for i in range(1,output_window+1)]    \n",
    "        else:\n",
    "            output_names = [f\"y_{column_suffix}\"]\n",
    "        \n",
    "        time_series_df = pd.DataFrame(data=data, columns=feature_names+output_names)\n",
    "    else:\n",
    "        feature_names = [f\"x{i}_{column_suffix}\" for i in range(1,input_window+2)]\n",
    "        time_series_df = pd.DataFrame(data=data, columns=feature_names)\n",
    "\n",
    "    return time_series_df, data"
   ]
  },
  {
   "cell_type": "code",
   "execution_count": 6,
   "metadata": {},
   "outputs": [
    {
     "name": "stdout",
     "output_type": "stream",
     "text": [
      "(44267, 7)\n"
     ]
    },
    {
     "data": {
      "text/html": [
       "<div>\n",
       "<style scoped>\n",
       "    .dataframe tbody tr th:only-of-type {\n",
       "        vertical-align: middle;\n",
       "    }\n",
       "\n",
       "    .dataframe tbody tr th {\n",
       "        vertical-align: top;\n",
       "    }\n",
       "\n",
       "    .dataframe thead th {\n",
       "        text-align: right;\n",
       "    }\n",
       "</style>\n",
       "<table border=\"1\" class=\"dataframe\">\n",
       "  <thead>\n",
       "    <tr style=\"text-align: right;\">\n",
       "      <th></th>\n",
       "      <th>NO5_price</th>\n",
       "      <th>NO5_load_actual</th>\n",
       "      <th>NO5_load_delta</th>\n",
       "      <th>NO5_generation_actual</th>\n",
       "      <th>NO5_generation_delta</th>\n",
       "      <th>dato_id</th>\n",
       "      <th>date_time</th>\n",
       "    </tr>\n",
       "  </thead>\n",
       "  <tbody>\n",
       "    <tr>\n",
       "      <th>44264</th>\n",
       "      <td>35.69</td>\n",
       "      <td>2459</td>\n",
       "      <td>-241</td>\n",
       "      <td>8286</td>\n",
       "      <td>-4139</td>\n",
       "      <td>2021-01-20 20:00:00+01:00</td>\n",
       "      <td>2021-01-20-20</td>\n",
       "    </tr>\n",
       "    <tr>\n",
       "      <th>44265</th>\n",
       "      <td>32.19</td>\n",
       "      <td>2385</td>\n",
       "      <td>-308</td>\n",
       "      <td>6884</td>\n",
       "      <td>-3499</td>\n",
       "      <td>2021-01-20 21:00:00+01:00</td>\n",
       "      <td>2021-01-20-21</td>\n",
       "    </tr>\n",
       "    <tr>\n",
       "      <th>44266</th>\n",
       "      <td>29.49</td>\n",
       "      <td>2326</td>\n",
       "      <td>-360</td>\n",
       "      <td>5496</td>\n",
       "      <td>-2752</td>\n",
       "      <td>2021-01-20 22:00:00+01:00</td>\n",
       "      <td>2021-01-20-22</td>\n",
       "    </tr>\n",
       "  </tbody>\n",
       "</table>\n",
       "</div>"
      ],
      "text/plain": [
       "       NO5_price  NO5_load_actual  NO5_load_delta  NO5_generation_actual  \\\n",
       "44264      35.69             2459            -241                   8286   \n",
       "44265      32.19             2385            -308                   6884   \n",
       "44266      29.49             2326            -360                   5496   \n",
       "\n",
       "       NO5_generation_delta                    dato_id      date_time  \n",
       "44264                 -4139  2021-01-20 20:00:00+01:00  2021-01-20-20  \n",
       "44265                 -3499  2021-01-20 21:00:00+01:00  2021-01-20-21  \n",
       "44266                 -2752  2021-01-20 22:00:00+01:00  2021-01-20-22  "
      ]
     },
     "metadata": {},
     "output_type": "display_data"
    },
    {
     "name": "stdout",
     "output_type": "stream",
     "text": [
      "*** (44267, 1)\n"
     ]
    }
   ],
   "source": [
    "# Training data\n",
    "dataset_df = pd.read_csv(f\"{INPUT_DATA}MAIN_DATASET.csv\")[[\"NO5_price\", \"NO5_load_actual\",\"NO5_load_delta\", \"NO5_generation_actual\", \"NO5_generation_delta\", \"dato_id\",\"date_time\"]][:-7381]; print(dataset_df.shape)\n",
    "\n",
    "display(dataset_df.tail(3))\n",
    "\n",
    "\n",
    "scaler = MinMaxScaler()\n",
    "print(\"***\",dataset_df[\"NO5_price\"].values.reshape(-1,1).shape)\n",
    "\n",
    "dataset_df[\"NO5_price\"] = scaler.fit_transform(dataset_df[\"NO5_price\"].values.reshape(-1,1))\n",
    "dataset_df[\"NO5_load_actual\"] = scaler.fit_transform(dataset_df[\"NO5_load_actual\"].values.reshape(-1,1))\n",
    "dataset_df[\"NO5_load_delta\"] = scaler.fit_transform(dataset_df[\"NO5_load_delta\"].values.reshape(-1,1))\n",
    "dataset_df[\"NO5_generation_actual\"] = scaler.fit_transform(dataset_df[\"NO5_generation_actual\"].values.reshape(-1,1))\n",
    "dataset_df[\"NO5_generation_delta\"] = scaler.fit_transform(dataset_df[\"NO5_generation_delta\"].values.reshape(-1,1))\n",
    "\n",
    "# Forecast solutions\n",
    "# training_df, forcast_sol_df = train_test_split(training_df, shuffle=False, test_size=0.2, random_state=4155)\n",
    "\n",
    "# Displaying the loaded data\n",
    "# display(training_df.tail(3))\n",
    "# print(training_df.shape)\n",
    "# display(forcast_sol_df.head(3))\n",
    "# print(forcast_sol_df.shape)\n",
    "\n",
    "# print(training_df.max())\n",
    "\n",
    "# print(training_df.min())\n",
    "# print(forcast_sol_df.max())\n",
    "# print(forcast_sol_df.min())"
   ]
  },
  {
   "cell_type": "markdown",
   "metadata": {},
   "source": [
    "## SeqToVec\n",
    "Returning only the last output"
   ]
  },
  {
   "cell_type": "code",
   "execution_count": 7,
   "metadata": {},
   "outputs": [
    {
     "name": "stdout",
     "output_type": "stream",
     "text": [
      "(44195, 73)\n",
      "(44195, 73)\n",
      "(34272, 72, 1) (34272, 1)\n",
      "(6581, 72, 1) (6581, 1)\n",
      "(3342, 72, 1) (3342, 1)\n"
     ]
    }
   ],
   "source": [
    "# Time series slicing parameters\n",
    "nbf_features = input_window = n_steps = 72 \n",
    "nbf_outputs = output_window = horizon = 1\n",
    "\n",
    "# Creating time series traing and evaluation (test) data besed on sliding window approach\n",
    "time_series, time_series_df = create_time_series_data(dataset_df,                                                                             \n",
    "                                                      nbf_features, \n",
    "                                                      nbf_outputs, \n",
    "                                                      column_key=\"NO5_price\", \n",
    "                                                      column_suffix=\"DA\",\n",
    "                                                      include_target_outputs=True)\n",
    "#time_series_df.to_csv(\"TIMESERIES_VALIDATION.csv\")\n",
    "\n",
    "\n",
    "# Displaying time series data\n",
    "time_series_df.index.name = \"t\"\n",
    "\n",
    "print(time_series.shape)\n",
    "print(time_series_df.shape)\n",
    "# print(time_series_df.columns)\n",
    "\n",
    "X_train, y_train = time_series[ :34272, :input_window], time_series[ :34272, input_window:]\n",
    "X_valid, y_valid = time_series[34272:34272+6581, :input_window], time_series[34272:34272+6581, input_window:]\n",
    "X_test, y_test = time_series[34272+6581:, :input_window], time_series[34272+6581:, input_window:]\n",
    "\n",
    "X_train = np.expand_dims(X_train, axis=2)\n",
    "X_valid = np.expand_dims(X_valid, axis=2)\n",
    "X_test = np.expand_dims(X_test, axis=2)\n",
    "\n",
    "print(X_train.shape, y_train.shape)\n",
    "print(X_valid.shape, y_valid.shape)\n",
    "print(X_test.shape, y_test.shape)"
   ]
  },
  {
   "cell_type": "code",
   "execution_count": 8,
   "metadata": {},
   "outputs": [
    {
     "name": "stdout",
     "output_type": "stream",
     "text": [
      "X_train.shape=(34272, 72, 1)\n",
      "y_train.shape=(34272, 1)\n",
      "X_valid.shape=(6581, 72, 1)\n",
      "y_valid.shape=(6581, 1)\n",
      "(34272, 72, 1)\n",
      "(34272, 1)\n",
      "Epoch 1/20\n",
      "343/343 [==============================] - 7s 9ms/step - loss: 0.0029 - val_loss: 0.0110 - lr: 0.0020\n",
      "Epoch 2/20\n",
      "343/343 [==============================] - 2s 5ms/step - loss: 0.0022 - val_loss: 0.0120 - lr: 0.0020\n",
      "Epoch 3/20\n",
      "343/343 [==============================] - 2s 6ms/step - loss: 0.0022 - val_loss: 0.0109 - lr: 0.0020\n",
      "Epoch 4/20\n",
      "343/343 [==============================] - 2s 5ms/step - loss: 0.0020 - val_loss: 0.0094 - lr: 0.0020\n",
      "Epoch 5/20\n",
      "343/343 [==============================] - 2s 5ms/step - loss: 0.0018 - val_loss: 0.0079 - lr: 0.0020\n",
      "Epoch 6/20\n",
      "343/343 [==============================] - 2s 5ms/step - loss: 0.0016 - val_loss: 0.0066 - lr: 0.0020\n",
      "Epoch 7/20\n",
      "343/343 [==============================] - 2s 6ms/step - loss: 0.0014 - val_loss: 0.0058 - lr: 0.0020\n",
      "Epoch 8/20\n",
      "343/343 [==============================] - 2s 6ms/step - loss: 0.0013 - val_loss: 0.0053 - lr: 0.0020\n",
      "Epoch 9/20\n",
      "343/343 [==============================] - 2s 6ms/step - loss: 0.0012 - val_loss: 0.0052 - lr: 0.0020\n",
      "Epoch 10/20\n",
      "343/343 [==============================] - 2s 5ms/step - loss: 0.0011 - val_loss: 0.0053 - lr: 0.0020\n",
      "Epoch 11/20\n",
      "343/343 [==============================] - 2s 5ms/step - loss: 0.0011 - val_loss: 0.0055 - lr: 0.0020\n",
      "Epoch 12/20\n",
      "334/343 [============================>.] - ETA: 0s - loss: 0.0011\n",
      "Epoch 00012: ReduceLROnPlateau reducing learning rate to 0.0010000000474974513.\n",
      "343/343 [==============================] - 2s 5ms/step - loss: 0.0011 - val_loss: 0.0058 - lr: 0.0020\n",
      "Epoch 13/20\n",
      "343/343 [==============================] - 2s 5ms/step - loss: 9.9125e-04 - val_loss: 0.0030 - lr: 0.0010\n",
      "Epoch 14/20\n",
      "343/343 [==============================] - 2s 5ms/step - loss: 7.1263e-04 - val_loss: 0.0025 - lr: 0.0010\n",
      "Epoch 15/20\n",
      "343/343 [==============================] - 2s 5ms/step - loss: 6.0348e-04 - val_loss: 0.0026 - lr: 0.0010\n",
      "Epoch 16/20\n",
      "343/343 [==============================] - 2s 5ms/step - loss: 5.5922e-04 - val_loss: 0.0030 - lr: 0.0010\n",
      "Epoch 17/20\n",
      "337/343 [============================>.] - ETA: 0s - loss: 5.3516e-04\n",
      "Epoch 00017: ReduceLROnPlateau reducing learning rate to 0.0005000000237487257.\n",
      "343/343 [==============================] - 2s 5ms/step - loss: 5.3554e-04 - val_loss: 0.0033 - lr: 0.0010\n",
      "Epoch 18/20\n",
      "343/343 [==============================] - 2s 5ms/step - loss: 4.8543e-04 - val_loss: 0.0026 - lr: 5.0000e-04\n",
      "Epoch 19/20\n",
      "343/343 [==============================] - 2s 6ms/step - loss: 4.3812e-04 - val_loss: 0.0026 - lr: 5.0000e-04\n",
      "Epoch 20/20\n",
      "341/343 [============================>.] - ETA: 0s - loss: 4.1886e-04\n",
      "Epoch 00020: ReduceLROnPlateau reducing learning rate to 0.0002500000118743628.\n",
      "343/343 [==============================] - 2s 6ms/step - loss: 4.2108e-04 - val_loss: 0.0029 - lr: 5.0000e-04\n"
     ]
    }
   ],
   "source": [
    "print(f\"{X_train.shape=}\")\n",
    "print(f\"{y_train.shape=}\")\n",
    "print(f\"{X_valid.shape=}\")\n",
    "print(f\"{y_valid.shape=}\")\n",
    "\n",
    "eta = 0.002\n",
    "batch_size = 100\n",
    "epochs =20\n",
    "model = keras.models.Sequential([\n",
    "    LSTM(20, return_sequences=True, input_shape=[None, 72]),\n",
    "    LSTM(20, return_sequences=True),\n",
    "    TimeDistributed(keras.layers.Dense(1))\n",
    "])\n",
    "\n",
    "learning_rate_reduction = ReduceLROnPlateau(monitor='val_loss', \n",
    "                                            patience=3, \n",
    "                                            verbose=1, \n",
    "                                            factor=0.5, \n",
    "                                            min_lr=0.000001)\n",
    "\n",
    "opt = tf.keras.optimizers.Adam(learning_rate=eta)\n",
    "model.compile(loss=\"mse\", optimizer=opt)\n",
    "\n",
    "callbacks = [learning_rate_reduction]\n",
    "\n",
    "print(X_train.shape)\n",
    "print(y_train.shape)\n",
    "\n",
    "history = model.fit(np.swapaxes(X_train, 1, 2), y_train, \n",
    "                    epochs=20, shuffle=False, \n",
    "                    batch_size=batch_size,\n",
    "                    validation_data=(np.swapaxes(X_valid, 1, 2), y_valid),\n",
    "                    callbacks= callbacks)   "
   ]
  },
  {
   "cell_type": "code",
   "execution_count": 9,
   "metadata": {},
   "outputs": [
    {
     "name": "stdout",
     "output_type": "stream",
     "text": [
      "206/206 [==============================] - 1s 3ms/step - loss: 0.0029\n"
     ]
    },
    {
     "data": {
      "text/plain": [
       "0.00288283615373075"
      ]
     },
     "execution_count": 9,
     "metadata": {},
     "output_type": "execute_result"
    }
   ],
   "source": [
    "model.evaluate(np.swapaxes(X_valid, 1,2), y_valid)"
   ]
  },
  {
   "cell_type": "code",
   "execution_count": 10,
   "metadata": {},
   "outputs": [
    {
     "data": {
      "image/png": "[encoded data removed]",
      "text/plain": [
       "<Figure size 432x288 with 1 Axes>"
      ]
     },
     "metadata": {
      "needs_background": "light"
     },
     "output_type": "display_data"
    }
   ],
   "source": [
    "plot_learning_curves(history.history[\"loss\"], history.history[\"val_loss\"])\n",
    "plt.show()"
   ]
  },
  {
   "cell_type": "code",
   "execution_count": 11,
   "metadata": {},
   "outputs": [
    {
     "data": {
      "image/png": "[encoded data removed]",
      "text/plain": [
       "<Figure size 432x288 with 1 Axes>"
      ]
     },
     "metadata": {
      "needs_background": "light"
     },
     "output_type": "display_data"
    }
   ],
   "source": [
    "y_pred = model.predict(np.swapaxes(X_valid, 1,2))\n",
    "plot_series(X_valid[0, :, 0], y_valid[0, 0], y_pred[0, 0])\n",
    "plt.show()"
   ]
  },
  {
   "cell_type": "markdown",
   "metadata": {
    "id": "HtbelVxDOq63"
   },
   "source": [
    "## Forecasting Several Steps Ahead\n",
    "Iterative method"
   ]
  },
  {
   "cell_type": "code",
   "execution_count": 12,
   "metadata": {},
   "outputs": [
    {
     "name": "stdout",
     "output_type": "stream",
     "text": [
      "(44172, 96)\n",
      "(44172, 96)\n",
      "(34272, 72, 1) (34272, 24)\n",
      "(6581, 72, 1) (6581, 24)\n",
      "(3319, 72, 1) (3319, 24)\n"
     ]
    }
   ],
   "source": [
    "# Time series slicing parameters\n",
    "nbf_features = input_window = n_steps = 72 \n",
    "nbf_outputs = output_window = horizon = 24\n",
    "\n",
    "# Creating time series traing and evaluation (test) data besed on sliding window approach\n",
    "time_series, time_series_df = create_time_series_data(dataset_df,                                                                             \n",
    "                                                      nbf_features, \n",
    "                                                      nbf_outputs, \n",
    "                                                      column_key=\"NO5_price\", \n",
    "                                                      column_suffix=\"DA\",\n",
    "                                                      include_target_outputs=True)\n",
    "#time_series_df.to_csv(\"TIMESERIES_VALIDATION.csv\")\n",
    "\n",
    "\n",
    "# Displaying time series data\n",
    "time_series_df.index.name = \"t\"\n",
    "\n",
    "print(time_series.shape)\n",
    "print(time_series_df.shape)\n",
    "# print(time_series_df.columns)\n",
    "\n",
    "X_train, y_train = time_series[ :34272, :input_window], time_series[ :34272, input_window:]\n",
    "X_valid, y_valid = time_series[34272:34272+6581, :input_window], time_series[34272:34272+6581, input_window:]\n",
    "X_test, y_test = time_series[34272+6581:, :input_window], time_series[34272+6581:, input_window:]\n",
    "\n",
    "X_train = np.expand_dims(X_train, axis=2)\n",
    "X_valid = np.expand_dims(X_valid, axis=2)\n",
    "X_test = np.expand_dims(X_test, axis=2)\n",
    "\n",
    "print(X_train.shape, y_train.shape)\n",
    "print(X_valid.shape, y_valid.shape)\n",
    "print(X_test.shape, y_test.shape)"
   ]
  },
  {
   "cell_type": "code",
   "execution_count": 13,
   "metadata": {},
   "outputs": [
    {
     "data": {
      "text/html": [
       "<div>\n",
       "<style scoped>\n",
       "    .dataframe tbody tr th:only-of-type {\n",
       "        vertical-align: middle;\n",
       "    }\n",
       "\n",
       "    .dataframe tbody tr th {\n",
       "        vertical-align: top;\n",
       "    }\n",
       "\n",
       "    .dataframe thead th {\n",
       "        text-align: right;\n",
       "    }\n",
       "</style>\n",
       "<table border=\"1\" class=\"dataframe\">\n",
       "  <thead>\n",
       "    <tr style=\"text-align: right;\">\n",
       "      <th></th>\n",
       "      <th>NO5_price</th>\n",
       "      <th>date_time</th>\n",
       "    </tr>\n",
       "  </thead>\n",
       "  <tbody>\n",
       "    <tr>\n",
       "      <th>44266</th>\n",
       "      <td>0.257688</td>\n",
       "      <td>2021-01-20-22</td>\n",
       "    </tr>\n",
       "  </tbody>\n",
       "</table>\n",
       "</div>"
      ],
      "text/plain": [
       "       NO5_price      date_time\n",
       "44266   0.257688  2021-01-20-22"
      ]
     },
     "metadata": {},
     "output_type": "display_data"
    },
    {
     "name": "stdout",
     "output_type": "stream",
     "text": [
      "X_new.shape=(1, 72, 1)\n",
      "Y_new.shape=(1, 24, 1)\n",
      "(1, 1, 72)\n",
      "y_pred_one.shape=(1, 1, 1)\n",
      "y_pred_one.shape=(1, 1, 1)\n",
      "X.shape=(1, 1, 73)\n",
      "y_pred_one.shape=(1, 1, 1)\n",
      "y_pred_one.shape=(1, 1, 1)\n",
      "X.shape=(1, 1, 74)\n",
      "y_pred_one.shape=(1, 1, 1)\n",
      "y_pred_one.shape=(1, 1, 1)\n",
      "X.shape=(1, 1, 75)\n",
      "y_pred_one.shape=(1, 1, 1)\n",
      "y_pred_one.shape=(1, 1, 1)\n",
      "X.shape=(1, 1, 76)\n",
      "y_pred_one.shape=(1, 1, 1)\n",
      "y_pred_one.shape=(1, 1, 1)\n",
      "X.shape=(1, 1, 77)\n",
      "y_pred_one.shape=(1, 1, 1)\n",
      "y_pred_one.shape=(1, 1, 1)\n",
      "X.shape=(1, 1, 78)\n",
      "y_pred_one.shape=(1, 1, 1)\n",
      "y_pred_one.shape=(1, 1, 1)\n",
      "X.shape=(1, 1, 79)\n",
      "y_pred_one.shape=(1, 1, 1)\n",
      "y_pred_one.shape=(1, 1, 1)\n",
      "X.shape=(1, 1, 80)\n",
      "y_pred_one.shape=(1, 1, 1)\n",
      "y_pred_one.shape=(1, 1, 1)\n",
      "X.shape=(1, 1, 81)\n",
      "y_pred_one.shape=(1, 1, 1)\n",
      "y_pred_one.shape=(1, 1, 1)\n",
      "X.shape=(1, 1, 82)\n",
      "y_pred_one.shape=(1, 1, 1)\n",
      "y_pred_one.shape=(1, 1, 1)\n",
      "X.shape=(1, 1, 83)\n",
      "y_pred_one.shape=(1, 1, 1)\n",
      "y_pred_one.shape=(1, 1, 1)\n",
      "X.shape=(1, 1, 84)\n",
      "y_pred_one.shape=(1, 1, 1)\n",
      "y_pred_one.shape=(1, 1, 1)\n",
      "X.shape=(1, 1, 85)\n",
      "y_pred_one.shape=(1, 1, 1)\n",
      "y_pred_one.shape=(1, 1, 1)\n",
      "X.shape=(1, 1, 86)\n",
      "y_pred_one.shape=(1, 1, 1)\n",
      "y_pred_one.shape=(1, 1, 1)\n",
      "X.shape=(1, 1, 87)\n",
      "y_pred_one.shape=(1, 1, 1)\n",
      "y_pred_one.shape=(1, 1, 1)\n",
      "X.shape=(1, 1, 88)\n",
      "y_pred_one.shape=(1, 1, 1)\n",
      "y_pred_one.shape=(1, 1, 1)\n",
      "X.shape=(1, 1, 89)\n",
      "y_pred_one.shape=(1, 1, 1)\n",
      "y_pred_one.shape=(1, 1, 1)\n",
      "X.shape=(1, 1, 90)\n",
      "y_pred_one.shape=(1, 1, 1)\n",
      "y_pred_one.shape=(1, 1, 1)\n",
      "X.shape=(1, 1, 91)\n",
      "y_pred_one.shape=(1, 1, 1)\n",
      "y_pred_one.shape=(1, 1, 1)\n",
      "X.shape=(1, 1, 92)\n",
      "y_pred_one.shape=(1, 1, 1)\n",
      "y_pred_one.shape=(1, 1, 1)\n",
      "X.shape=(1, 1, 93)\n",
      "y_pred_one.shape=(1, 1, 1)\n",
      "y_pred_one.shape=(1, 1, 1)\n",
      "X.shape=(1, 1, 94)\n",
      "y_pred_one.shape=(1, 1, 1)\n",
      "y_pred_one.shape=(1, 1, 1)\n",
      "X.shape=(1, 1, 95)\n",
      "y_pred_one.shape=(1, 1, 1)\n",
      "y_pred_one.shape=(1, 1, 1)\n",
      "X.shape=(1, 1, 96)\n",
      "X.shape=(1, 1, 96)\n"
     ]
    }
   ],
   "source": [
    "np.random.seed(43) # not 42, as it would give the first series in the train set\n",
    "\n",
    "X_new = X_test[-1:, :]\n",
    "Y_new = np.expand_dims(y_test[-1:, :], 2)\n",
    "\n",
    "display(dataset_df[[\"NO5_price\", \"date_time\"]].tail(1))\n",
    "\n",
    "print(f\"{X_new.shape=}\")\n",
    "print(f\"{Y_new.shape=}\")\n",
    "\n",
    "# X = X_new\n",
    "X = np.swapaxes(X_new, 1,2)\n",
    "\n",
    "print(X.shape)\n",
    "\n",
    "for step_ahead in range(horizon):\n",
    "    # y_pred_one = model.predict(X[:, step_ahead:])[:, np.newaxis, :]\n",
    "    y_pred_one = model.predict(X[:, :, step_ahead:])\n",
    "\n",
    "    print(f\"{y_pred_one.shape=}\")\n",
    "    #y_pred_one = y_pred_one[:, np.newaxis, :]\n",
    "\n",
    "    # X = np.concatenate([X, y_pred_one], axis=1)\n",
    "    print(f\"{y_pred_one.shape=}\")\n",
    "\n",
    "    X = np.concatenate([X, y_pred_one], axis=2)\n",
    "    print(f\"{X.shape=}\")\n",
    "\n",
    "print(f\"{X.shape=}\")\n",
    "Y_pred = X[:, n_steps:]\n",
    "Y_pred = X[:,:, n_steps:]"
   ]
  },
  {
   "cell_type": "code",
   "execution_count": 14,
   "metadata": {},
   "outputs": [
    {
     "name": "stdout",
     "output_type": "stream",
     "text": [
      "(1, 24, 1)\n"
     ]
    }
   ],
   "source": [
    "Y_pred = np.swapaxes(Y_pred, 1,2)\n",
    "print(Y_pred.shape)"
   ]
  },
  {
   "cell_type": "code",
   "execution_count": 15,
   "metadata": {},
   "outputs": [
    {
     "name": "stdout",
     "output_type": "stream",
     "text": [
      "Saving figure forecast_ahead_plot\n"
     ]
    },
    {
     "data": {
      "image/png": "[encoded data removed]",
      "text/plain": [
       "<Figure size 432x288 with 1 Axes>"
      ]
     },
     "metadata": {
      "needs_background": "light"
     },
     "output_type": "display_data"
    },
    {
     "name": "stdout",
     "output_type": "stream",
     "text": [
      "MSE: 0.0029840518714377047\n"
     ]
    }
   ],
   "source": [
    "plot_multiple_forecasts(X_new, Y_new, Y_pred)\n",
    "save_fig(\"forecast_ahead_plot\")\n",
    "plt.ylim(0.10,0.70)\n",
    "plt.show()\n",
    "\n",
    "mse = keras.metrics.mean_squared_error(Y_new, Y_pred)\n",
    "print(\"MSE:\",np.mean(mse))"
   ]
  },
  {
   "cell_type": "markdown",
   "metadata": {},
   "source": [
    "# Linear Regression"
   ]
  },
  {
   "cell_type": "code",
   "execution_count": 16,
   "metadata": {},
   "outputs": [
    {
     "name": "stdout",
     "output_type": "stream",
     "text": [
      "(44172, 96)\n",
      "(44172, 96)\n",
      "(34272, 72) (34272, 24)\n",
      "(6581, 72) (6581, 24)\n",
      "(3319, 72) (3319, 24)\n"
     ]
    }
   ],
   "source": [
    "# Time series slicing parameters\n",
    "nbf_features = input_window = n_steps = 72 \n",
    "nbf_outputs = output_window = 24\n",
    "\n",
    "\n",
    "# Creating time series traing and evaluation (test) data besed on sliding window approach\n",
    "time_series, time_series_df = create_time_series_data(dataset_df,                                                                             \n",
    "                                                      nbf_features, \n",
    "                                                      nbf_outputs, \n",
    "                                                      column_key=\"NO5_price\", \n",
    "                                                      column_suffix=\"DA\",\n",
    "                                                      include_target_outputs=True)\n",
    "#time_series_df.to_csv(\"TIMESERIES_VALIDATION.csv\")\n",
    "\n",
    "\n",
    "# Displaying time series data\n",
    "time_series_df.index.name = \"t\"\n",
    "\n",
    "print(time_series.shape)\n",
    "print(time_series_df.shape)\n",
    "# print(time_series_df.columns)\n",
    "\n",
    "X_train, y_train = time_series[ :34272, :input_window], time_series[ :34272, input_window:]\n",
    "X_valid, y_valid = time_series[34272:34272+6581, :input_window], time_series[34272:34272+6581, input_window:]\n",
    "X_test, y_test = time_series[34272+6581:, :input_window], time_series[34272+6581:, input_window:]\n",
    "\n",
    "# X_train = np.expand_dims(X_train, axis=2)\n",
    "# X_valid = np.expand_dims(X_valid, axis=2)\n",
    "# X_test = np.expand_dims(X_test, axis=2)\n",
    "\n",
    "print(X_train.shape, y_train.shape)\n",
    "print(X_valid.shape, y_valid.shape)\n",
    "print(X_test.shape, y_test.shape)"
   ]
  },
  {
   "cell_type": "code",
   "execution_count": 17,
   "metadata": {},
   "outputs": [
    {
     "data": {
      "text/plain": [
       "LinearRegression()"
      ]
     },
     "execution_count": 17,
     "metadata": {},
     "output_type": "execute_result"
    }
   ],
   "source": [
    "MLR_model = LinearRegression()\n",
    "MLR_model.fit(X_train, y_train)"
   ]
  },
  {
   "cell_type": "code",
   "execution_count": 18,
   "metadata": {},
   "outputs": [
    {
     "data": {
      "text/html": [
       "<div>\n",
       "<style scoped>\n",
       "    .dataframe tbody tr th:only-of-type {\n",
       "        vertical-align: middle;\n",
       "    }\n",
       "\n",
       "    .dataframe tbody tr th {\n",
       "        vertical-align: top;\n",
       "    }\n",
       "\n",
       "    .dataframe thead th {\n",
       "        text-align: right;\n",
       "    }\n",
       "</style>\n",
       "<table border=\"1\" class=\"dataframe\">\n",
       "  <thead>\n",
       "    <tr style=\"text-align: right;\">\n",
       "      <th></th>\n",
       "      <th>NO5_price</th>\n",
       "      <th>date_time</th>\n",
       "    </tr>\n",
       "  </thead>\n",
       "  <tbody>\n",
       "    <tr>\n",
       "      <th>44266</th>\n",
       "      <td>0.257688</td>\n",
       "      <td>2021-01-20-22</td>\n",
       "    </tr>\n",
       "  </tbody>\n",
       "</table>\n",
       "</div>"
      ],
      "text/plain": [
       "       NO5_price      date_time\n",
       "44266   0.257688  2021-01-20-22"
      ]
     },
     "metadata": {},
     "output_type": "display_data"
    },
    {
     "name": "stdout",
     "output_type": "stream",
     "text": [
      "X_new.shape=(1, 72)\n",
      "Y_new.shape=(1, 24)\n",
      "Y_pred.shape=(1, 24)\n"
     ]
    }
   ],
   "source": [
    "\n",
    "X_new = X_test[-1:, :]\n",
    "Y_new = y_test[-1:, :]\n",
    "\n",
    "display(dataset_df[[\"NO5_price\", \"date_time\"]].tail(1))\n",
    "\n",
    "print(f\"{X_new.shape=}\")\n",
    "print(f\"{Y_new.shape=}\")\n",
    "\n",
    "# X = X_new\n",
    "X = X_new\n",
    "\n",
    "Y_pred = MLR_model.predict(X)\n",
    "\n",
    "print(f\"{Y_pred.shape=}\")\n",
    "\n",
    "\n"
   ]
  },
  {
   "cell_type": "code",
   "execution_count": 19,
   "metadata": {},
   "outputs": [
    {
     "name": "stdout",
     "output_type": "stream",
     "text": [
      "MSE: 0.007375429515970737\n"
     ]
    }
   ],
   "source": [
    "\n",
    "\n",
    "mse = keras.metrics.mean_squared_error(Y_new, Y_pred)\n",
    "print(\"MSE:\",np.mean(mse))"
   ]
  },
  {
   "cell_type": "markdown",
   "metadata": {},
   "source": [
    "# Own NN"
   ]
  },
  {
   "cell_type": "code",
   "execution_count": 20,
   "metadata": {},
   "outputs": [],
   "source": [
    "from models_project2 import *\n",
    "eta = 0.05\n",
    "lmb = 0\n",
    "hidden_size = 64\n",
    "act_func = \"relu\"\n",
    "act_func = \"leaky_relu\"\n",
    "epochs = 200"
   ]
  },
  {
   "cell_type": "code",
   "execution_count": 21,
   "metadata": {},
   "outputs": [],
   "source": [
    "own_model, tf_model = NN_simple_architecture(eta, nbf_features,\n",
    "                                                         problem_type=\"regression\",\n",
    "                                                         nbf_outputs=1,\n",
    "                                                         X_test=X_test.copy(), t_test=y_test.copy()[:, :1],\n",
    "                                                         lmb=lmb, \n",
    "                                                         hidden_size=hidden_size, \n",
    "                                                         act_func=act_func)\n",
    "\n",
    "own_model, tf_model = NN_large_architecture(eta, nbf_features,\n",
    "                                                         problem_type=\"regression\",\n",
    "                                                         nbf_outputs=1,\n",
    "                                                         X_test=X_test.copy(), t_test=y_test.copy()[:, :1],\n",
    "                                                         lmb=lmb, \n",
    "                                                         hidden_size=hidden_size, \n",
    "                                                         act_func=act_func)"
   ]
  },
  {
   "cell_type": "code",
   "execution_count": 22,
   "metadata": {},
   "outputs": [
    {
     "name": "stdout",
     "output_type": "stream",
     "text": [
      "(34272, 72)\n",
      "(34272, 24)\n",
      "[[0.32633505]\n",
      " [0.31971426]\n",
      " [0.25995296]\n",
      " ...\n",
      " [0.38888405]\n",
      " [0.3819148 ]\n",
      " [0.37816883]]\n"
     ]
    }
   ],
   "source": [
    "print(X_train.shape)\n",
    "print(y_train.shape)\n",
    "print(y_train[:, :1])\n",
    "\n",
    "train_losses, test_losses = own_model.fit(X_train, y_train[:, :1], \n",
    "                                                            batch_size=batch_size, epochs=epochs,\n",
    "                                                            lr_scheduler=False, verbose=True)"
   ]
  },
  {
   "cell_type": "code",
   "execution_count": 23,
   "metadata": {},
   "outputs": [
    {
     "data": {
      "text/plain": [
       "[<matplotlib.lines.Line2D at 0x26e9fb9e310>]"
      ]
     },
     "execution_count": 23,
     "metadata": {},
     "output_type": "execute_result"
    },
    {
     "data": {
      "image/png": "[encoded data removed]",
      "text/plain": [
       "<Figure size 432x288 with 1 Axes>"
      ]
     },
     "metadata": {
      "needs_background": "light"
     },
     "output_type": "display_data"
    }
   ],
   "source": [
    "plt.figure()\n",
    "x_plot = np.arange(train_losses.shape[0])\n",
    "plt.plot(x_plot, train_losses)\n",
    "plt.plot(x_plot, test_losses)"
   ]
  },
  {
   "cell_type": "code",
   "execution_count": 24,
   "metadata": {},
   "outputs": [],
   "source": [
    "#t_hat_test_own = own_model.predict(X)"
   ]
  },
  {
   "cell_type": "code",
   "execution_count": 25,
   "metadata": {},
   "outputs": [
    {
     "name": "stdout",
     "output_type": "stream",
     "text": [
      "[[0.32538206]]\n",
      "y_pred_one.shape=(1, 1)\n",
      "y_pred_one.shape=(1, 1)\n",
      "X.shape=(1, 73)\n",
      "[[0.29884599]]\n",
      "y_pred_one.shape=(1, 1)\n",
      "y_pred_one.shape=(1, 1)\n",
      "X.shape=(1, 74)\n",
      "[[0.31111256]]\n",
      "y_pred_one.shape=(1, 1)\n",
      "y_pred_one.shape=(1, 1)\n",
      "X.shape=(1, 75)\n",
      "[[0.32236522]]\n",
      "y_pred_one.shape=(1, 1)\n",
      "y_pred_one.shape=(1, 1)\n",
      "X.shape=(1, 76)\n",
      "[[0.31862067]]\n",
      "y_pred_one.shape=(1, 1)\n",
      "y_pred_one.shape=(1, 1)\n",
      "X.shape=(1, 77)\n",
      "[[0.32479616]]\n",
      "y_pred_one.shape=(1, 1)\n",
      "y_pred_one.shape=(1, 1)\n",
      "X.shape=(1, 78)\n",
      "[[0.32974562]]\n",
      "y_pred_one.shape=(1, 1)\n",
      "y_pred_one.shape=(1, 1)\n",
      "X.shape=(1, 79)\n",
      "[[0.37741974]]\n",
      "y_pred_one.shape=(1, 1)\n",
      "y_pred_one.shape=(1, 1)\n",
      "X.shape=(1, 80)\n",
      "[[0.43266632]]\n",
      "y_pred_one.shape=(1, 1)\n",
      "y_pred_one.shape=(1, 1)\n",
      "X.shape=(1, 81)\n",
      "[[0.47134365]]\n",
      "y_pred_one.shape=(1, 1)\n",
      "y_pred_one.shape=(1, 1)\n",
      "X.shape=(1, 82)\n",
      "[[0.48589702]]\n",
      "y_pred_one.shape=(1, 1)\n",
      "y_pred_one.shape=(1, 1)\n",
      "X.shape=(1, 83)\n",
      "[[0.47272198]]\n",
      "y_pred_one.shape=(1, 1)\n",
      "y_pred_one.shape=(1, 1)\n",
      "X.shape=(1, 84)\n",
      "[[0.46069167]]\n",
      "y_pred_one.shape=(1, 1)\n",
      "y_pred_one.shape=(1, 1)\n",
      "X.shape=(1, 85)\n",
      "[[0.45089659]]\n",
      "y_pred_one.shape=(1, 1)\n",
      "y_pred_one.shape=(1, 1)\n",
      "X.shape=(1, 86)\n",
      "[[0.45301396]]\n",
      "y_pred_one.shape=(1, 1)\n",
      "y_pred_one.shape=(1, 1)\n",
      "X.shape=(1, 87)\n",
      "[[0.46323604]]\n",
      "y_pred_one.shape=(1, 1)\n",
      "y_pred_one.shape=(1, 1)\n",
      "X.shape=(1, 88)\n",
      "[[0.45641057]]\n",
      "y_pred_one.shape=(1, 1)\n",
      "y_pred_one.shape=(1, 1)\n",
      "X.shape=(1, 89)\n",
      "[[0.49038775]]\n",
      "y_pred_one.shape=(1, 1)\n",
      "y_pred_one.shape=(1, 1)\n",
      "X.shape=(1, 90)\n",
      "[[0.50278475]]\n",
      "y_pred_one.shape=(1, 1)\n",
      "y_pred_one.shape=(1, 1)\n",
      "X.shape=(1, 91)\n",
      "[[0.49332559]]\n",
      "y_pred_one.shape=(1, 1)\n",
      "y_pred_one.shape=(1, 1)\n",
      "X.shape=(1, 92)\n",
      "[[0.46116041]]\n",
      "y_pred_one.shape=(1, 1)\n",
      "y_pred_one.shape=(1, 1)\n",
      "X.shape=(1, 93)\n",
      "[[0.43776697]]\n",
      "y_pred_one.shape=(1, 1)\n",
      "y_pred_one.shape=(1, 1)\n",
      "X.shape=(1, 94)\n",
      "[[0.41856418]]\n",
      "y_pred_one.shape=(1, 1)\n",
      "y_pred_one.shape=(1, 1)\n",
      "X.shape=(1, 95)\n",
      "[[0.40310603]]\n",
      "y_pred_one.shape=(1, 1)\n",
      "y_pred_one.shape=(1, 1)\n",
      "X.shape=(1, 96)\n",
      "X.shape=(1, 96)\n"
     ]
    }
   ],
   "source": [
    "\n",
    "np.random.seed(43) # not 42, as it would give the first series in the train set\n",
    "\n",
    "X_new = X_test[-1:, :]\n",
    "Y_new = y_test[-1:, :]\n",
    "\n",
    "X = X_new\n",
    "\n",
    "\n",
    "for step_ahead in range(24):\n",
    "    # y_pred_one = model.predict(X[:, step_ahead:])[:, np.newaxis, :]\n",
    "    y_pred_one = own_model.predict(X[:, step_ahead:])\n",
    "\n",
    "    print(y_pred_one)\n",
    "\n",
    "    print(f\"{y_pred_one.shape=}\")\n",
    "    #y_pred_one = y_pred_one[:, np.newaxis, :]\n",
    "\n",
    "    # X = np.concatenate([X, y_pred_one], axis=1)\n",
    "    print(f\"{y_pred_one.shape=}\")\n",
    "\n",
    "    X = np.concatenate([X, y_pred_one], axis=1)\n",
    "    print(f\"{X.shape=}\")\n",
    "\n",
    "print(f\"{X.shape=}\")\n",
    "Y_pred = X[:, n_steps:]\n"
   ]
  },
  {
   "cell_type": "code",
   "execution_count": 26,
   "metadata": {},
   "outputs": [
    {
     "name": "stdout",
     "output_type": "stream",
     "text": [
      "Y_pred.shape=(1, 24, 1)\n",
      "Y_new.shape=(1, 24, 1)\n",
      "X_new.shape=(1, 72, 1)\n"
     ]
    }
   ],
   "source": [
    "X_new = np.expand_dims(X_new,2)\n",
    "Y_new = np.expand_dims(Y_new,2)\n",
    "Y_pred = np.expand_dims(Y_pred,2)\n",
    "print(f\"{Y_pred.shape=}\")\n",
    "print(f\"{Y_new.shape=}\")\n",
    "print(f\"{X_new.shape=}\")\n"
   ]
  },
  {
   "cell_type": "code",
   "execution_count": 27,
   "metadata": {},
   "outputs": [
    {
     "name": "stdout",
     "output_type": "stream",
     "text": [
      "Saving figure forecast_ahead_plot\n"
     ]
    },
    {
     "data": {
      "image/png": "[encoded data removed]",
      "text/plain": [
       "<Figure size 432x288 with 1 Axes>"
      ]
     },
     "metadata": {
      "needs_background": "light"
     },
     "output_type": "display_data"
    },
    {
     "name": "stdout",
     "output_type": "stream",
     "text": [
      "MSE: 0.01262290403525429\n"
     ]
    }
   ],
   "source": [
    "plot_multiple_forecasts(X_new, Y_new, Y_pred)\n",
    "save_fig(\"forecast_ahead_plot\")\n",
    "plt.ylim(0.10,0.70)\n",
    "plt.show()\n",
    "\n",
    "\n",
    "\n",
    "mse = keras.metrics.mean_squared_error(Y_new, Y_pred)\n",
    "print(\"MSE:\",np.mean(mse))"
   ]
  },
  {
   "cell_type": "code",
   "execution_count": null,
   "metadata": {},
   "outputs": [],
   "source": []
  },
  {
   "cell_type": "code",
   "execution_count": null,
   "metadata": {},
   "outputs": [],
   "source": []
  },
  {
   "cell_type": "code",
   "execution_count": null,
   "metadata": {},
   "outputs": [],
   "source": []
  },
  {
   "cell_type": "code",
   "execution_count": null,
   "metadata": {},
   "outputs": [],
   "source": []
  }
 ],
 "metadata": {
  "interpreter": {
   "hash": "664767e83c7b06364e16bf4bb7694b1f8b5947c6e3e0843db3deeed47f8be06a"
  },
  "kernelspec": {
   "display_name": "Python 3.8.11 64-bit ('fysstk1': conda)",
   "language": "python",
   "name": "python3"
  },
  "language_info": {
   "codemirror_mode": {
    "name": "ipython",
    "version": 3
   },
   "file_extension": ".py",
   "mimetype": "text/x-python",
   "name": "python",
   "nbconvert_exporter": "python",
   "pygments_lexer": "ipython3",
   "version": "3.8.12"
  },
  "orig_nbformat": 4
 },
 "nbformat": 4,
 "nbformat_minor": 2
}
