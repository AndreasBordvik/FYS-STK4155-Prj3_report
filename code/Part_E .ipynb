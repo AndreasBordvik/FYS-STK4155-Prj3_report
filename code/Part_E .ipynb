{
 "cells": [
  {
   "cell_type": "code",
   "execution_count": null,
   "metadata": {},
   "outputs": [],
   "source": [
    "from sklearn.datasets import load_breast_cancer\n",
    "from sklearn.model_selection import train_test_split\n",
    "import matplotlib.pyplot as plt\n",
    "from sklearn.preprocessing import StandardScaler\n",
    "from common import *\n",
    "from models import LogReg, NeuralNetwork, Layer\n",
    "from cmcrameri import cm\n",
    "from sklearn.metrics import confusion_matrix\n",
    "\n",
    "import seaborn as sns\n",
    "from matplotlib.pyplot import figure\n",
    "\n",
    "import numpy as np \n",
    "%matplotlib inline"
   ]
  },
  {
   "cell_type": "markdown",
   "metadata": {},
   "source": [
    "### Logistic Regression Gridsearch:"
   ]
  },
  {
   "cell_type": "code",
   "execution_count": null,
   "metadata": {},
   "outputs": [],
   "source": [
    "cancer = load_breast_cancer()\n",
    "\n",
    "X_train, X_test, y_train, y_test = train_test_split(cancer.data,cancer.target,test_size=0.30,random_state=4155)\n",
    "scaler = StandardScaler()\n",
    "scaler.fit(X_train)\n",
    "X_train_scaled = scaler.transform(X_train)\n",
    "X_test_scaled = scaler.transform(X_test)"
   ]
  },
  {
   "cell_type": "code",
   "execution_count": null,
   "metadata": {},
   "outputs": [],
   "source": [
    "\n",
    "eta_list = np.logspace(-1, -4, 12)\n",
    "lmb_list = np.concatenate([np.zeros(1),np.logspace(-5, 0, 11)], axis = 0)\n",
    "acu_scores = np.zeros(len(eta_list))\n",
    " \n",
    "heatmap_mtrx = np.zeros(shape=(len(eta_list), len(lmb_list)))\n",
    "\n",
    "\n",
    "for eta in range(len(eta_list)):\n",
    "    for lmb in range(len(lmb_list)):\n",
    "        logreg_SGD = LogReg(eta = eta_list[eta], lmb = lmb_list[lmb])\n",
    "        logreg_SGD.fit(X_train_scaled,y_train,batch_size= 5, epochs=100, solver = \"SGD\")\n",
    "\n",
    "        heatmap_mtrx[eta,lmb] =  logreg_SGD.accuracy(X_test_scaled, y_test)\n",
    "        \n",
    "\n",
    "figure(figsize=(8,8))\n",
    "eta_list = np.around(eta_list, decimals=4)\n",
    "lmb_list = np.around(lmb_list, decimals=5)\n",
    "gridsearch = sns.heatmap(heatmap_mtrx.T,annot=True, xticklabels= eta_list, yticklabels= lmb_list, cmap=cm.lajolla_r)\n",
    "gridsearch.invert_yaxis()\n",
    "gridsearch.set_xticklabels(gridsearch.get_xticklabels(),rotation = 80)\n",
    "gridsearch.set_yticklabels(gridsearch.get_yticklabels(),rotation = 60)\n",
    "\n",
    "plt.title(\"$\\eta$, $\\lambda$ grid search for logistic regression. Batch size = 5, epochs = 100.\")\n",
    "plt.xlabel(\"$\\eta$\")\n",
    "plt.ylabel(\"$\\lambda$\")\n",
    "# plt.savefig(f\"{REPORT_FIGURES}{EX_E}logreg_gridsearch.pdf\")\n",
    "\n"
   ]
  },
  {
   "cell_type": "markdown",
   "metadata": {},
   "source": [
    "### Confusion Matricies: "
   ]
  },
  {
   "cell_type": "code",
   "execution_count": null,
   "metadata": {},
   "outputs": [],
   "source": [
    "from sklearn import metrics\n",
    "logreg_NRM = LogReg()\n",
    "logreg_NRM.fit(X_train_scaled,y_train,batch_size= 5, epochs=100, solver = \"NRM\")\n",
    "logreg_NRM_accu =  logreg_NRM.accuracy(X_test_scaled, y_test)\n",
    "logits_NRM = logreg_NRM.forward(X_test_scaled)\n",
    "\n",
    "y_hat_NRM = logreg_NRM.predict(X_test_scaled)\n",
    "\n",
    "conf_mat_NRM = confusion_matrix(y_test, y_hat_NRM)\n",
    "\n",
    "\n",
    "\n",
    "confmatr_NRM = sns.heatmap(conf_mat_NRM,annot = True, annot_kws={\"fontsize\":\"xx-large\"}, fmt=\".0f\", cmap=cm.grayC_r)\n",
    "#gridsearch.set_xticklabels(gridsearch.get_xticklabels(),rotation = 80)\n",
    "plt.title(f\"Confusion Matrix, Logistic Regression with NRM \\nAccuracy: {np.around(logreg_NRM_accu, decimals = 4)}\")\n",
    "plt.xlabel(\"Predicted Label\")\n",
    "plt.ylabel(\"True Label\")\n",
    "# plt.savefig(f\"{REPORT_FIGURES}{EX_E}logreg_nrm_confmat.pdf\")\n"
   ]
  },
  {
   "cell_type": "code",
   "execution_count": null,
   "metadata": {},
   "outputs": [],
   "source": [
    "logreg_SGD = LogReg(eta = 0.1, lmb=0)\n",
    "logreg_SGD.fit(X_train_scaled,y_train,batch_size= 5, epochs=100, solver = \"SGD\")\n",
    "logreg_SGD_accu =  logreg_SGD.accuracy(X_test_scaled, y_test)\n",
    "\n",
    "y_hat_SGD = logreg_SGD.predict(X_test_scaled)\n",
    "\n",
    "conf_mat_SGD = confusion_matrix(y_test, y_hat_SGD)\n",
    "\n",
    "\n",
    "\n",
    "confmatr_SGD = sns.heatmap(conf_mat_SGD,annot=True, annot_kws={\"fontsize\":\"xx-large\"}, fmt=\".0f\", cmap=cm.grayC_r)\n",
    "#gridsearch.set_xticklabels(gridsearch.get_xticklabels(),rotation = 80)\n",
    "plt.title(f\"Confusion Matrix, Logistic Regression with SGD \\nAccuracy: {np.around(logreg_SGD_accu, decimals = 4)}\")\n",
    "plt.xlabel(\"Predicted Label\")\n",
    "plt.ylabel(\"True Label\")\n",
    "# plt.savefig(f\"{REPORT_FIGURES}{EX_E}logreg_sgd_confmat.pdf\")\n"
   ]
  },
  {
   "cell_type": "markdown",
   "metadata": {},
   "source": [
    "### Logistic regression with Sklearn: "
   ]
  },
  {
   "cell_type": "code",
   "execution_count": null,
   "metadata": {},
   "outputs": [],
   "source": [
    "from sklearn.linear_model import LogisticRegression\n",
    "\n",
    "def sci_kit_test_acu(X_train, X_test, y_train, y_test):\n",
    "    logreg = LogisticRegression(solver= \"sag\")\n",
    "    logreg.fit(X_train, y_train)\n",
    "    y_pred = logreg.predict(X_test)\n",
    "    \n",
    "\n",
    "    return sum(y_pred == y_test) / len(y_pred)\n",
    "\n",
    "sci_kit_test_acu(X_train_scaled, X_test_scaled, y_train, y_test)\n",
    "\n"
   ]
  },
  {
   "cell_type": "markdown",
   "metadata": {},
   "source": [
    "### Compare neural network classification results with Logistic regression results, using ROC curve:\n"
   ]
  },
  {
   "cell_type": "code",
   "execution_count": null,
   "metadata": {},
   "outputs": [],
   "source": [
    "\n",
    "from sklearn import metrics\n",
    "from matplotlib.pyplot import figure\n",
    "\n",
    "figure(figsize=(10, 10), dpi=80)\n",
    "\n",
    "df_NN = pd.read_pickle(f\"{REPORT_DATA}{EX_D}_best_yhats\")\n",
    "best_yhat_homebrew = df_NN[['Own NN']].to_numpy()\n",
    "best_yhat_torch = df_NN[['Torch']].to_numpy()\n",
    "\n",
    "\n",
    "fpr, tpr, _ = metrics.roc_curve(y_test, best_yhat_homebrew)\n",
    "roc_auc = metrics.auc(fpr, tpr)\n",
    "\n",
    "fpr_torch, tpr_torch, _ = metrics.roc_curve(y_test, best_yhat_torch)\n",
    "roc_auc = metrics.auc(fpr_torch, tpr_torch)\n",
    "\n",
    "\n",
    "logreg_SGD = LogReg(eta = 0.1, lmb = 0)\n",
    "logreg_SGD.fit(X_train_scaled,y_train,batch_size= 5, epochs=10, solver = \"SGD\")\n",
    "y_hat_SGD = logreg_SGD.forward(X_test_scaled)\n",
    "\n",
    "\n",
    "fpr_SGD, tpr_SGD, _ = metrics.roc_curve(y_test, best_yhat_torch)\n",
    "roc_auc = metrics.auc(fpr_SGD, tpr_SGD)\n",
    "plt.plot(fpr_SGD, tpr_SGD,\"o--\", label = 'LogReg SGD' % roc_auc)\n",
    "\n",
    "\n",
    "fpr_NRM, tpr_NRM, _ = metrics.roc_curve(y_test, logits_NRM)\n",
    "roc_auc = metrics.auc(fpr_NRM, tpr_NRM)\n",
    "plt.plot(fpr_NRM, tpr_NRM,\"o-\", label = 'LogReg NRM')\n",
    "\n",
    "plt.plot(fpr_torch, tpr_torch,\"--\", label = 'PyTorch' % roc_auc)\n",
    "plt.title('Receiver Operating Characteristic')\n",
    "plt.plot(fpr, tpr,\"o--\", label = 'Implemented NN' % roc_auc)\n",
    "plt.legend(loc = 'lower right')\n",
    "plt.plot([0, 1], [0, 1],'k--')\n",
    "plt.xlim([-0.01, 1.01])\n",
    "plt.ylim([-0.01, 1.01])\n",
    "plt.ylabel('True Positive Rate')\n",
    "plt.xlabel('False Positive Rate')\n",
    "# plt.savefig(f\"{REPORT_FIGURES}{EX_E}roc_curve.pdf\")\n"
   ]
  }
 ],
 "metadata": {
  "interpreter": {
   "hash": "20551ddceb59dc51fa628b42bb2a7289171df926f90359af355cededb82457a3"
  },
  "kernelspec": {
   "display_name": "Python 3.9.7 64-bit ('in5520': conda)",
   "name": "python3"
  },
  "language_info": {
   "codemirror_mode": {
    "name": "ipython",
    "version": 3
   },
   "file_extension": ".py",
   "mimetype": "text/x-python",
   "name": "python",
   "nbconvert_exporter": "python",
   "pygments_lexer": "ipython3",
   "version": "3.7.11"
  },
  "orig_nbformat": 4
 },
 "nbformat": 4,
 "nbformat_minor": 2
}
