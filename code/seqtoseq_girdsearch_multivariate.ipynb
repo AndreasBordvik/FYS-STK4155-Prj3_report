{
 "cells": [
  {
   "cell_type": "code",
   "execution_count": 1,
   "metadata": {},
   "outputs": [
    {
     "name": "stderr",
     "output_type": "stream",
     "text": [
      "2021-12-16 17:44:29.308406: W tensorflow/stream_executor/platform/default/dso_loader.cc:64] Could not load dynamic library 'libcudart.so.11.0'; dlerror: libcudart.so.11.0: cannot open shared object file: No such file or directory\n",
      "2021-12-16 17:44:29.308443: I tensorflow/stream_executor/cuda/cudart_stub.cc:29] Ignore above cudart dlerror if you do not have a GPU set up on your machine.\n"
     ]
    }
   ],
   "source": [
    "from sklearn.metrics import mean_absolute_error as MSE\n",
    "from cmcrameri import cm\n",
    "from tqdm import tqdm\n",
    "import seaborn as sns\n",
    "from common import *\n",
    "from models import *"
   ]
  },
  {
   "cell_type": "code",
   "execution_count": 2,
   "metadata": {},
   "outputs": [],
   "source": [
    "df = pd.read_csv(\"../data/input_data/MAIN_DATASET.csv\")\n",
    "\n",
    "price = df['NO2_price'].values.reshape(-1,1)\n",
    "fload = df['NO2_load_forecasted'].values.reshape(-1,1)\n",
    "aload = df['NO2_load_actual'].values.reshape(-1,1)\n",
    "fgen = df['NO2_generation_forecast'].values.reshape(-1,1)\n",
    "agen = df['NO2_generation_actual'].values.reshape(-1,1)\n",
    "\n",
    "\n",
    "price_days = seperate_column_to_days(price)\n",
    "aload_days = seperate_column_to_days(aload)\n",
    "fload_days = seperate_column_to_days(fload)\n",
    "fgen_days = seperate_column_to_days(fgen)\n",
    "agen_days = seperate_column_to_days(agen)"
   ]
  },
  {
   "cell_type": "code",
   "execution_count": 3,
   "metadata": {},
   "outputs": [],
   "source": [
    "lookbehind = 7\n",
    "input_width = lookbehind*24\n",
    "horizon = 24\n",
    "no_hours = input_width + horizon\n",
    "hour_in_days = int(no_hours / 24)\n",
    "\n",
    "price_dataset = []\n",
    "aload_dataset = []\n",
    "fload_dataset = []\n",
    "fgen_dataset = []\n",
    "agen_dataset = []\n",
    "\n",
    "for i in range(len(price_days) - hour_in_days+1):\n",
    "    price_dataset.append(np.concatenate((price_days[i:i+hour_in_days])))\n",
    "    aload_dataset.append(np.concatenate((aload_days[i:i+hour_in_days])))\n",
    "    fload_dataset.append(np.concatenate((fload_days[i:i+hour_in_days])))\n",
    "    fgen_dataset.append(np.concatenate((fgen_days[i:i+hour_in_days])))\n",
    "    agen_dataset.append(np.concatenate((agen_days[i:i+hour_in_days])))\n",
    "\n",
    "price_dataset = np.array(price_dataset)\n",
    "aload_dataset = np.array(aload_dataset)\n",
    "fload_dataset = np.array(fload_dataset)\n",
    "fgen_dataset = np.array(fgen_dataset)\n",
    "agen_dataset = np.array(agen_dataset)\n",
    "\n",
    "scaler = MinMaxScaler()\n",
    "price_dataset = scaler.fit_transform(price_dataset[:,:,0])\n",
    "price_dataset = price_dataset[..., np.newaxis].astype(np.float32)\n",
    "\n",
    "aload_dataset = scaler.fit_transform(aload_dataset[:,:,0])\n",
    "aload_dataset = aload_dataset[..., np.newaxis].astype(np.float32)\n",
    "\n",
    "fload_dataset = scaler.fit_transform(fload_dataset[:,:,0])\n",
    "fload_dataset = fload_dataset[..., np.newaxis].astype(np.float32)\n",
    "\n",
    "fgen_dataset = scaler.fit_transform(fgen_dataset[:,:,0])\n",
    "fgen_dataset = fgen_dataset[..., np.newaxis].astype(np.float32)\n",
    "\n",
    "agen_dataset = scaler.fit_transform(agen_dataset[:,:,0])\n",
    "agen_dataset = agen_dataset[..., np.newaxis].astype(np.float32)\n",
    "\n",
    "dataset_actual = np.concatenate((price_dataset, aload_dataset, agen_dataset), axis=2)\n",
    "dataset_forecast = np.concatenate((price_dataset, fload_dataset, fgen_dataset), axis=2)\n",
    "\n",
    "n,m,k = dataset_actual.shape"
   ]
  },
  {
   "cell_type": "markdown",
   "metadata": {},
   "source": [
    "# Splitting the data, actual case"
   ]
  },
  {
   "cell_type": "code",
   "execution_count": 4,
   "metadata": {},
   "outputs": [],
   "source": [
    "train = int(0.7*n)\n",
    "valid = int(0.9*n)\n",
    "X_train = dataset_actual[:train, :input_width]\n",
    "X_valid = dataset_actual[train:valid, :input_width]\n",
    "X_test = dataset_actual[valid:, :input_width]\n",
    "\n",
    "Y = np.empty((n, input_width, horizon))\n",
    "for step_ahead in range(1, horizon + 1):\n",
    "    Y[:,:, step_ahead - 1] = dataset_actual[:,step_ahead:step_ahead + input_width, 0]\n",
    "\n",
    "Y_train = Y[:train]\n",
    "Y_valid = Y[train:valid]\n",
    "Y_test = Y[valid:]"
   ]
  },
  {
   "cell_type": "markdown",
   "metadata": {},
   "source": [
    "# Grid search, first small then large architecture"
   ]
  },
  {
   "cell_type": "code",
   "execution_count": 5,
   "metadata": {},
   "outputs": [],
   "source": [
    "epochs = 10\n",
    "no_neurons = np.array([16,32,64,128])\n",
    "mse_list_small_actual = np.zeros((3, len(no_neurons)))\n",
    "best_mse_small_actual = np.inf*np.ones(3)"
   ]
  },
  {
   "cell_type": "code",
   "execution_count": 6,
   "metadata": {},
   "outputs": [
    {
     "name": "stdout",
     "output_type": "stream",
     "text": [
      "Iteration 0\n"
     ]
    },
    {
     "name": "stderr",
     "output_type": "stream",
     "text": [
      "2021-12-16 17:44:30.879912: I tensorflow/stream_executor/cuda/cuda_gpu_executor.cc:925] could not open file to read NUMA node: /sys/bus/pci/devices/0000:01:00.0/numa_node\n",
      "Your kernel may have been built without NUMA support.\n",
      "2021-12-16 17:44:30.880016: W tensorflow/stream_executor/platform/default/dso_loader.cc:64] Could not load dynamic library 'libcudart.so.11.0'; dlerror: libcudart.so.11.0: cannot open shared object file: No such file or directory\n",
      "2021-12-16 17:44:30.880064: W tensorflow/stream_executor/platform/default/dso_loader.cc:64] Could not load dynamic library 'libcublas.so.11'; dlerror: libcublas.so.11: cannot open shared object file: No such file or directory\n",
      "2021-12-16 17:44:30.880108: W tensorflow/stream_executor/platform/default/dso_loader.cc:64] Could not load dynamic library 'libcublasLt.so.11'; dlerror: libcublasLt.so.11: cannot open shared object file: No such file or directory\n",
      "2021-12-16 17:44:30.880151: W tensorflow/stream_executor/platform/default/dso_loader.cc:64] Could not load dynamic library 'libcufft.so.10'; dlerror: libcufft.so.10: cannot open shared object file: No such file or directory\n",
      "2021-12-16 17:44:30.880195: W tensorflow/stream_executor/platform/default/dso_loader.cc:64] Could not load dynamic library 'libcurand.so.10'; dlerror: libcurand.so.10: cannot open shared object file: No such file or directory\n",
      "2021-12-16 17:44:30.880238: W tensorflow/stream_executor/platform/default/dso_loader.cc:64] Could not load dynamic library 'libcusolver.so.11'; dlerror: libcusolver.so.11: cannot open shared object file: No such file or directory\n",
      "2021-12-16 17:44:30.880297: W tensorflow/stream_executor/platform/default/dso_loader.cc:64] Could not load dynamic library 'libcusparse.so.11'; dlerror: libcusparse.so.11: cannot open shared object file: No such file or directory\n",
      "2021-12-16 17:44:30.880345: W tensorflow/stream_executor/platform/default/dso_loader.cc:64] Could not load dynamic library 'libcudnn.so.8'; dlerror: libcudnn.so.8: cannot open shared object file: No such file or directory\n",
      "2021-12-16 17:44:30.880352: W tensorflow/core/common_runtime/gpu/gpu_device.cc:1850] Cannot dlopen some GPU libraries. Please make sure the missing libraries mentioned above are installed properly if you would like to use GPU. Follow the guide at https://www.tensorflow.org/install/gpu for how to download and setup the required libraries for your platform.\n",
      "Skipping registering GPU devices...\n",
      "2021-12-16 17:44:30.880732: I tensorflow/core/platform/cpu_feature_guard.cc:151] This TensorFlow binary is optimized with oneAPI Deep Neural Network Library (oneDNN) to use the following CPU instructions in performance-critical operations:  AVX2 FMA\n",
      "To enable them in other operations, rebuild TensorFlow with the appropriate compiler flags.\n"
     ]
    },
    {
     "name": "stdout",
     "output_type": "stream",
     "text": [
      "Found new best SimpleRNN mse 0.19734908388104236 with 16 neurons\n",
      "Found new best LSTM mse 0.1225966507253791 with 16 neurons\n",
      "Found new best GRU mse 0.1288491254393341 with 16 neurons\n",
      "Iteration 1\n",
      "Found new best SimpleRNN mse 0.1545433752795347 with 32 neurons\n",
      "Found new best LSTM mse 0.09939052416758605 with 32 neurons\n",
      "Found new best GRU mse 0.10463674291054763 with 32 neurons\n",
      "Iteration 2\n",
      "Found new best SimpleRNN mse 0.11052958150166536 with 64 neurons\n",
      "Found new best LSTM mse 0.09029571044810758 with 64 neurons\n",
      "Found new best GRU mse 0.08479715501156493 with 64 neurons\n",
      "Iteration 3\n",
      "Found new best SimpleRNN mse 0.08323987602396708 with 128 neurons\n",
      "Found new best LSTM mse 0.08311498666102435 with 128 neurons\n",
      "Found new best GRU mse 0.07793998344999593 with 128 neurons\n"
     ]
    }
   ],
   "source": [
    "for n, neurons in enumerate(no_neurons):\n",
    "    print(f\"Iteration {n}\")\n",
    "    rnn = keras.models.Sequential([\n",
    "        keras.layers.SimpleRNN(neurons, return_sequences=True, input_shape=[None, k]),\n",
    "        keras.layers.Dense(horizon)\n",
    "    ])\n",
    "\n",
    "    lstm = keras.models.Sequential([\n",
    "        keras.layers.LSTM(neurons, return_sequences=True, input_shape=[None, k]),\n",
    "        keras.layers.Dense(horizon)\n",
    "    ])\n",
    "\n",
    "    gru = keras.models.Sequential([\n",
    "        keras.layers.GRU(neurons, return_sequences=True, input_shape=[None, k]),\n",
    "        keras.layers.Dense(horizon)\n",
    "    ])\n",
    "\n",
    "    rnn.compile(loss=\"mse\", optimizer=\"adam\")\n",
    "    lstm.compile(loss=\"mse\", optimizer=\"adam\")\n",
    "    gru.compile(loss=\"mse\", optimizer=\"adam\")\n",
    "\n",
    "    rnn.fit(X_train, Y_train, epochs=epochs, validation_data=(X_valid, Y_valid), verbose=False)\n",
    "    lstm.fit(X_train, Y_train, epochs=epochs, validation_data=(X_valid, Y_valid), verbose=False)\n",
    "    gru.fit(X_train, Y_train, epochs=epochs, validation_data=(X_valid, Y_valid), verbose=False)\n",
    "\n",
    "    Y_pred_rnn = rnn.predict(X_test)\n",
    "    Y_pred_lstm = lstm.predict(X_test)\n",
    "    Y_pred_gru = gru.predict(X_test)\n",
    "\n",
    "    mse_rnn = MSE(Y_test[:,-1], Y_pred_rnn[:,-1])\n",
    "    mse_lstm = MSE(Y_test[:,-1], Y_pred_lstm[:,-1])\n",
    "    mse_gru = MSE(Y_test[:,-1], Y_pred_gru[:,-1])\n",
    "\n",
    "    if mse_rnn < best_mse_small_actual[0]:\n",
    "        print(f\"Found new best SimpleRNN mse {mse_rnn} with {neurons} neurons\")\n",
    "        best_mse_small_actual[0] = mse_rnn\n",
    "        fname = f\"../data/models/multivariate_actual_small_rnn.h5\"\n",
    "        keras.models.save_model(rnn, fname)\n",
    "\n",
    "    if mse_lstm < best_mse_small_actual[1]:\n",
    "        print(f\"Found new best LSTM mse {mse_lstm} with {neurons} neurons\")\n",
    "        best_mse_small_actual[1] = mse_lstm\n",
    "        fname = f\"../data/models/multivariate_actual_small_lstm.h5\"\n",
    "        keras.models.save_model(lstm, fname)\n",
    "        \n",
    "\n",
    "    if mse_gru < best_mse_small_actual[2]:\n",
    "        print(f\"Found new best GRU mse {mse_gru} with {neurons} neurons\")\n",
    "        best_mse_small_actual[2] = mse_gru\n",
    "        fname = f\"../data/models/multivariate_actual_small_gru.h5\"\n",
    "        keras.models.save_model(gru, fname)\n",
    "\n",
    "    mse_list_small_actual[0,n] = mse_rnn\n",
    "    mse_list_small_actual[1,n] = mse_lstm\n",
    "    mse_list_small_actual[2,n] = mse_gru\n"
   ]
  },
  {
   "cell_type": "code",
   "execution_count": 7,
   "metadata": {},
   "outputs": [
    {
     "data": {
      "image/png": "[encoded data removed]",
      "text/plain": [
       "<Figure size 432x288 with 1 Axes>"
      ]
     },
     "metadata": {
      "needs_background": "light"
     },
     "output_type": "display_data"
    }
   ],
   "source": [
    "plt.figure()\n",
    "plt.plot(mse_list_small_actual[0], '.--', markersize=20, label=\"SimpleRNN\")\n",
    "plt.plot(mse_list_small_actual[1], '.--', markersize=20, label=\"LSTM\")\n",
    "plt.plot(mse_list_small_actual[2], '.--', markersize=20, label=\"GRU\")\n",
    "plt.xticks(ticks = np.arange(4), labels=no_neurons)\n",
    "plt.xlabel(f\"Number of neurons\")\n",
    "plt.ylabel(f\"Mean Squared Error\")\n",
    "plt.grid()\n",
    "plt.legend()\n",
    "plt.savefig(f\"../figures/multivariate_actual_small_architecture_grid_search.pdf\")"
   ]
  },
  {
   "cell_type": "code",
   "execution_count": 8,
   "metadata": {},
   "outputs": [],
   "source": [
    "mse_list_actual = np.zeros((3, len(no_neurons), len(no_neurons)))\n",
    "best_mse_actual = np.inf*np.ones(3)"
   ]
  },
  {
   "cell_type": "code",
   "execution_count": 9,
   "metadata": {},
   "outputs": [
    {
     "name": "stdout",
     "output_type": "stream",
     "text": [
      "Iteration 00\n",
      "Found new best SimpleRNN mse 0.18151121938449213 with 16 and 16 neurons\n",
      "Found new best LSTM mse 0.11791089348404453 with 16 and 16 neurons\n",
      "Found new best GRU mse 0.11984453750221657 with 16 and 16 neurons\n",
      "Iteration 01\n"
     ]
    }
   ],
   "source": [
    "for n, neurons_first in enumerate(no_neurons):\n",
    "    for m, neurons_second in enumerate(no_neurons):\n",
    "        print(f\"Iteration {n}{m}\")\n",
    "        rnn = keras.models.Sequential([\n",
    "            keras.layers.SimpleRNN(neurons_first, return_sequences=True, input_shape=[None, k]),\n",
    "            keras.layers.SimpleRNN(neurons_second, return_sequences=True),\n",
    "            keras.layers.Dense(horizon)\n",
    "        ])\n",
    "\n",
    "        lstm = keras.models.Sequential([\n",
    "            keras.layers.LSTM(neurons_first, return_sequences=True, input_shape=[None, k]),\n",
    "            keras.layers.LSTM(neurons_second, return_sequences=True),\n",
    "            keras.layers.Dense(horizon)\n",
    "        ])\n",
    "\n",
    "        gru = keras.models.Sequential([\n",
    "            keras.layers.GRU(neurons_first, return_sequences=True, input_shape=[None, k]),\n",
    "            keras.layers.GRU(neurons_second, return_sequences=True),\n",
    "            keras.layers.Dense(horizon)\n",
    "        ])\n",
    "\n",
    "        rnn.compile(loss=\"mse\", optimizer=\"adam\", metrics=[last_time_step_mse])\n",
    "        lstm.compile(loss=\"mse\", optimizer=\"adam\", metrics=[last_time_step_mse])\n",
    "        gru.compile(loss=\"mse\", optimizer=\"adam\", metrics=[last_time_step_mse])\n",
    "\n",
    "        rnn.fit(X_train, Y_train, epochs=epochs, validation_data=(X_valid, Y_valid), verbose=False)\n",
    "        lstm.fit(X_train, Y_train, epochs=epochs, validation_data=(X_valid, Y_valid), verbose=False)\n",
    "        gru.fit(X_train, Y_train, epochs=epochs, validation_data=(X_valid, Y_valid), verbose=False)\n",
    "\n",
    "        Y_pred_rnn = rnn.predict(X_test)\n",
    "        Y_pred_lstm = lstm.predict(X_test)\n",
    "        Y_pred_gru = gru.predict(X_test)\n",
    "\n",
    "        mse_rnn = MSE(Y_test[:,-1], Y_pred_rnn[:,-1])\n",
    "        mse_lstm = MSE(Y_test[:,-1], Y_pred_lstm[:,-1])\n",
    "        mse_gru = MSE(Y_test[:,-1], Y_pred_gru[:,-1])\n",
    "\n",
    "        if mse_rnn < best_mse_actual[0]:\n",
    "            print(f\"Found new best SimpleRNN mse {mse_rnn} with {neurons_first} and {neurons_second} neurons\")\n",
    "            best_mse_actual[0] = mse_rnn\n",
    "            fname = f\"../data/models/multivariate_actual_large_rnn.h5\"\n",
    "            keras.models.save_model(rnn, fname)\n",
    "\n",
    "        if mse_lstm < best_mse_actual[1]:\n",
    "            print(f\"Found new best LSTM mse {mse_lstm} with {neurons_first} and {neurons_second} neurons\")\n",
    "            best_mse_actual[1] = mse_lstm\n",
    "            fname = f\"../data/models/multivariate_actual_large_lstm.h5\"\n",
    "            keras.models.save_model(lstm, fname)\n",
    "\n",
    "        if mse_gru < best_mse_actual[2]:\n",
    "            print(f\"Found new best GRU mse {mse_gru} with {neurons_first} and {neurons_second} neurons\")\n",
    "            best_mse_actual[2] = mse_gru\n",
    "            fname = f\"../data/models/multivariate_actual_large_gru.h5\"\n",
    "            keras.models.save_model(gru, fname)\n",
    "\n",
    "        mse_list_actual[0,n,m] = mse_rnn\n",
    "        mse_list_actual[1,n,m] = mse_lstm\n",
    "        mse_list_actual[2,n,m] = mse_gru"
   ]
  },
  {
   "cell_type": "code",
   "execution_count": null,
   "metadata": {},
   "outputs": [],
   "source": [
    "print(mse_list_actual)\n",
    "print(best_mse_actual)"
   ]
  },
  {
   "cell_type": "code",
   "execution_count": null,
   "metadata": {},
   "outputs": [],
   "source": [
    "plt.figure()\n",
    "gridsearch = sns.heatmap(mse_list_actual[0],annot=True, annot_kws={'fontsize':'xx-large'}, fmt=\".5f\", xticklabels= no_neurons, yticklabels= no_neurons, cmap=cm.lajolla)\n",
    "gridsearch.set_yticklabels(gridsearch.get_yticklabels(),rotation = 0)\n",
    "\n",
    "plt.title(\"SimpleRNN architecture GridSearch\")\n",
    "plt.xlabel(\"Neurons Second Layer\")\n",
    "plt.ylabel(\"Neurons First Layer\")\n",
    "plt.savefig(f\"../figures/Large_actual_gridsearch_rnn.pdf\")\n",
    "\n",
    "plt.figure()\n",
    "gridsearch = sns.heatmap(mse_list_actual[1],annot=True, annot_kws={'fontsize':'xx-large'}, fmt=\".5f\", xticklabels= no_neurons, yticklabels= no_neurons, cmap=cm.lajolla)\n",
    "gridsearch.set_yticklabels(gridsearch.get_yticklabels(),rotation = 0)\n",
    "\n",
    "plt.title(\"LSTM architecture GridSearch\")\n",
    "plt.xlabel(\"Neurons Second Layer\")\n",
    "plt.ylabel(\"Neurons First Layer\")\n",
    "plt.savefig(f\"../figures/Large_actual_gridsearch_lstm.pdf\")\n",
    "\n",
    "plt.figure()\n",
    "gridsearch = sns.heatmap(mse_list_actual[2],annot=True, annot_kws={'fontsize':'xx-large'}, fmt=\".5f\", xticklabels= no_neurons, yticklabels= no_neurons, cmap=cm.lajolla)\n",
    "gridsearch.set_yticklabels(gridsearch.get_yticklabels(),rotation = 0)\n",
    "\n",
    "plt.title(\"GRU architecture GridSearch\")\n",
    "plt.xlabel(\"Neurons Second Layer\")\n",
    "plt.ylabel(\"Neurons First Layer\")\n",
    "plt.savefig(f\"../figures/Large_actual_gridsearch_gru.pdf\")"
   ]
  },
  {
   "cell_type": "markdown",
   "metadata": {},
   "source": [
    "# Splitting the data, forecast case"
   ]
  },
  {
   "cell_type": "code",
   "execution_count": null,
   "metadata": {},
   "outputs": [],
   "source": [
    "n,m,k = dataset_forecast.shape\n",
    "\n",
    "train = int(0.7*n)\n",
    "valid = int(0.9*n)\n",
    "X_train = dataset_forecast[:train, :input_width]\n",
    "X_valid = dataset_forecast[train:valid, :input_width]\n",
    "X_test = dataset_forecast[valid:, :input_width]\n",
    "\n",
    "Y = np.empty((n, input_width, horizon))\n",
    "for step_ahead in range(1, horizon + 1):\n",
    "    Y[:,:, step_ahead - 1] = dataset_forecast[:,step_ahead:step_ahead + input_width, 0]\n",
    "\n",
    "Y_train = Y[:train]\n",
    "Y_valid = Y[train:valid]\n",
    "Y_test = Y[valid:]"
   ]
  },
  {
   "cell_type": "code",
   "execution_count": null,
   "metadata": {},
   "outputs": [],
   "source": [
    "epochs = 10\n",
    "no_neurons = np.array([16,32,64,128])\n",
    "mse_list_small_forecast = np.zeros((3, len(no_neurons)))\n",
    "best_mse_small_forecast = np.inf*np.ones(3)"
   ]
  },
  {
   "cell_type": "code",
   "execution_count": null,
   "metadata": {},
   "outputs": [],
   "source": [
    "for n, neurons in enumerate(no_neurons):\n",
    "    print(f\"Iteration {n}\")\n",
    "    rnn = keras.models.Sequential([\n",
    "        keras.layers.SimpleRNN(neurons, return_sequences=True, input_shape=[None, k]),\n",
    "        keras.layers.Dense(horizon)\n",
    "    ])\n",
    "\n",
    "    lstm = keras.models.Sequential([\n",
    "        keras.layers.LSTM(neurons, return_sequences=True, input_shape=[None, k]),\n",
    "        keras.layers.Dense(horizon)\n",
    "    ])\n",
    "\n",
    "    gru = keras.models.Sequential([\n",
    "        keras.layers.GRU(neurons, return_sequences=True, input_shape=[None, k]),\n",
    "        keras.layers.Dense(horizon)\n",
    "    ])\n",
    "\n",
    "    rnn.compile(loss=\"mse\", optimizer=\"adam\", metrics=[last_time_step_mse])\n",
    "    lstm.compile(loss=\"mse\", optimizer=\"adam\", metrics=[last_time_step_mse])\n",
    "    gru.compile(loss=\"mse\", optimizer=\"adam\", metrics=[last_time_step_mse])\n",
    "\n",
    "    rnn.fit(X_train, Y_train, epochs=epochs, validation_data=(X_valid, Y_valid), verbose=False)\n",
    "    lstm.fit(X_train, Y_train, epochs=epochs, validation_data=(X_valid, Y_valid), verbose=False)\n",
    "    gru.fit(X_train, Y_train, epochs=epochs, validation_data=(X_valid, Y_valid), verbose=False)\n",
    "\n",
    "    Y_pred_rnn = rnn.predict(X_test)\n",
    "    Y_pred_lstm = lstm.predict(X_test)\n",
    "    Y_pred_gru = gru.predict(X_test)\n",
    "\n",
    "    mse_rnn = MSE(Y_test[:,-1], Y_pred_rnn[:,-1])\n",
    "    mse_lstm = MSE(Y_test[:,-1], Y_pred_lstm[:,-1])\n",
    "    mse_gru = MSE(Y_test[:,-1], Y_pred_gru[:,-1])\n",
    "\n",
    "    if mse_rnn < best_mse_small_forecast[0]:\n",
    "        print(f\"Found new best SimpleRNN mse {mse_rnn} with {neurons} neurons\")\n",
    "        best_mse_small_forecast[0] = mse_rnn\n",
    "        fname = f\"../data/models/multivariate_forecast_small_rnn.h5\"\n",
    "        keras.models.save_model(rnn, fname)\n",
    "\n",
    "    if mse_lstm < best_mse_small_forecast[1]:\n",
    "        print(f\"Found new best LSTM mse {mse_lstm} with {neurons} neurons\")\n",
    "        best_mse_small_forecast[1] = mse_lstm\n",
    "        fname = f\"../data/models/multivariate_forecast_small_lstm.h5\"\n",
    "        keras.models.save_model(lstm, fname)\n",
    "        \n",
    "\n",
    "    if mse_gru < best_mse_small_forecast[2]:\n",
    "        print(f\"Found new best GRU mse {mse_gru} with {neurons} neurons\")\n",
    "        best_mse_small_forecast[2] = mse_gru\n",
    "        fname = f\"../data/models/multivariate_forecast_small_gru.h5\"\n",
    "        keras.models.save_model(gru, fname)\n",
    "\n",
    "    mse_list_small_forecast[0,n] = mse_rnn\n",
    "    mse_list_small_forecast[1,n] = mse_lstm\n",
    "    mse_list_small_forecast[2,n] = mse_gru\n"
   ]
  },
  {
   "cell_type": "code",
   "execution_count": null,
   "metadata": {},
   "outputs": [],
   "source": [
    "plt.figure()\n",
    "plt.plot(mse_list_small_forecast[0], '.--', markersize=20, label=\"SimpleRNN\")\n",
    "plt.plot(mse_list_small_forecast[1], '.--', markersize=20, label=\"LSTM\")\n",
    "plt.plot(mse_list_small_forecast[2], '.--', markersize=20, label=\"GRU\")\n",
    "plt.xticks(ticks = np.arange(4), labels=no_neurons)\n",
    "plt.xlabel(f\"Number of neurons\")\n",
    "plt.ylabel(f\"Mean Squared Error\")\n",
    "plt.grid()\n",
    "plt.legend()\n",
    "plt.savefig(f\"../figures/multivariate_forecast_small_architecture_grid_search.pdf\")"
   ]
  },
  {
   "cell_type": "code",
   "execution_count": null,
   "metadata": {},
   "outputs": [],
   "source": [
    "mse_list_forecast = np.zeros((3, len(no_neurons), len(no_neurons)))\n",
    "best_mse_forecast = np.inf*np.ones(3)"
   ]
  },
  {
   "cell_type": "code",
   "execution_count": null,
   "metadata": {},
   "outputs": [],
   "source": [
    "for n, neurons_first in enumerate(no_neurons):\n",
    "    for m, neurons_second in enumerate(no_neurons):\n",
    "        print(f\"Iteration {n}{m}\")\n",
    "        rnn = keras.models.Sequential([\n",
    "            keras.layers.SimpleRNN(neurons_first, return_sequences=True, input_shape=[None, k]),\n",
    "            keras.layers.SimpleRNN(neurons_second, return_sequences=True),\n",
    "            keras.layers.Dense(horizon)\n",
    "        ])\n",
    "\n",
    "        lstm = keras.models.Sequential([\n",
    "            keras.layers.LSTM(neurons_first, return_sequences=True, input_shape=[None, k]),\n",
    "            keras.layers.LSTM(neurons_second, return_sequences=True),\n",
    "            keras.layers.Dense(horizon)\n",
    "        ])\n",
    "\n",
    "        gru = keras.models.Sequential([\n",
    "            keras.layers.GRU(neurons_first, return_sequences=True, input_shape=[None, k]),\n",
    "            keras.layers.GRU(neurons_second, return_sequences=True),\n",
    "            keras.layers.Dense(horizon)\n",
    "        ])\n",
    "\n",
    "        rnn.compile(loss=\"mse\", optimizer=\"adam\", metrics=[last_time_step_mse])\n",
    "        lstm.compile(loss=\"mse\", optimizer=\"adam\", metrics=[last_time_step_mse])\n",
    "        gru.compile(loss=\"mse\", optimizer=\"adam\", metrics=[last_time_step_mse])\n",
    "\n",
    "        rnn.fit(X_train, Y_train, epochs=epochs, validation_data=(X_valid, Y_valid), verbose=False)\n",
    "        lstm.fit(X_train, Y_train, epochs=epochs, validation_data=(X_valid, Y_valid), verbose=False)\n",
    "        gru.fit(X_train, Y_train, epochs=epochs, validation_data=(X_valid, Y_valid), verbose=False)\n",
    "\n",
    "        Y_pred_rnn = rnn.predict(X_test)\n",
    "        Y_pred_lstm = lstm.predict(X_test)\n",
    "        Y_pred_gru = gru.predict(X_test)\n",
    "\n",
    "        mse_rnn = MSE(Y_test[:,-1], Y_pred_rnn[:,-1])\n",
    "        mse_lstm = MSE(Y_test[:,-1], Y_pred_lstm[:,-1])\n",
    "        mse_gru = MSE(Y_test[:,-1], Y_pred_gru[:,-1])\n",
    "\n",
    "        if mse_rnn < best_mse_forecast[0]:\n",
    "            print(f\"Found new best SimpleRNN mse {mse_rnn} with {neurons_first} and {neurons_second} neurons\")\n",
    "            best_mse_forecast[0] = mse_rnn\n",
    "            fname = f\"../data/models/multivariate_forecast_large_rnn.h5\"\n",
    "            keras.models.save_model(rnn, fname)\n",
    "\n",
    "        if mse_lstm < best_mse_forecast[1]:\n",
    "            print(f\"Found new best LSTM mse {mse_lstm} with {neurons_first} and {neurons_second} neurons\")\n",
    "            best_mse_forecast[1] = mse_lstm\n",
    "            fname = f\"../data/models/multivariate_forecast_large_lstm.h5\"\n",
    "            keras.models.save_model(lstm, fname)\n",
    "\n",
    "        if mse_gru < best_mse_forecast[2]:\n",
    "            print(f\"Found new best GRU mse {mse_gru} with {neurons_first} and {neurons_second} neurons\")\n",
    "            best_mse_forecast[2] = mse_gru\n",
    "            fname = f\"../data/models/multivariate_forecast_large_gru.h5\"\n",
    "            keras.models.save_model(gru, fname)\n",
    "\n",
    "        mse_list_forecast[0,n,m] = mse_rnn\n",
    "        mse_list_forecast[1,n,m] = mse_lstm\n",
    "        mse_list_forecast[2,n,m] = mse_gru"
   ]
  },
  {
   "cell_type": "code",
   "execution_count": null,
   "metadata": {},
   "outputs": [],
   "source": [
    "print(mse_list_forecast)\n",
    "print(best_mse_forecast)"
   ]
  },
  {
   "cell_type": "code",
   "execution_count": null,
   "metadata": {},
   "outputs": [],
   "source": [
    "fig = plt.figure()\n",
    "gridsearch = sns.heatmap(mse_list_forecast[0],annot=True, annot_kws={'fontsize':'xx-large'}, fmt=\".5f\", xticklabels= no_neurons, yticklabels= no_neurons, cmap=cm.lajolla)\n",
    "gridsearch.set_yticklabels(gridsearch.get_yticklabels(),rotation = 0)\n",
    "\n",
    "plt.title(\"SimpleRNN architecture GridSearch\")\n",
    "plt.xlabel(\"Neurons Second Layer\")\n",
    "plt.ylabel(\"Neurons First Layer\")\n",
    "plt.savefig(f\"../figures/Large_forecast_gridsearch_rnn.pdf\")\n",
    "\n",
    "fig = plt.figure()\n",
    "gridsearch = sns.heatmap(mse_list_forecast[1],annot=True, annot_kws={'fontsize':'xx-large'}, fmt=\".5f\", xticklabels= no_neurons, yticklabels= no_neurons, cmap=cm.lajolla)\n",
    "gridsearch.set_yticklabels(gridsearch.get_yticklabels(),rotation = 0)\n",
    "\n",
    "plt.title(\"LSTM architecture GridSearch\")\n",
    "plt.xlabel(\"Neurons Second Layer\")\n",
    "plt.ylabel(\"Neurons First Layer\")\n",
    "plt.savefig(f\"../figures/Large_forecast_gridsearch_lstm.pdf\")\n",
    "\n",
    "plt.figure()\n",
    "gridsearch = sns.heatmap(mse_list_forecast[2],annot=True, annot_kws={'fontsize':'xx-large'}, fmt=\".5f\", xticklabels= no_neurons, yticklabels= no_neurons, cmap=cm.lajolla)\n",
    "gridsearch.set_yticklabels(gridsearch.get_yticklabels(),rotation = 0)\n",
    "\n",
    "fig = plt.title(\"GRU architecture GridSearch\")\n",
    "plt.xlabel(\"Neurons Second Layer\")\n",
    "plt.ylabel(\"Neurons First Layer\")\n",
    "plt.savefig(f\"../figures/Large_forecast_gridsearch_gru.pdf\")"
   ]
  }
 ],
 "metadata": {
  "interpreter": {
   "hash": "f9f85f796d01129d0dd105a088854619f454435301f6ffec2fea96ecbd9be4ac"
  },
  "kernelspec": {
   "display_name": "Python 3.9.5 64-bit",
   "language": "python",
   "name": "python3"
  },
  "language_info": {
   "codemirror_mode": {
    "name": "ipython",
    "version": 3
   },
   "file_extension": ".py",
   "mimetype": "text/x-python",
   "name": "python",
   "nbconvert_exporter": "python",
   "pygments_lexer": "ipython3",
   "version": "3.9.7"
  },
  "orig_nbformat": 4
 },
 "nbformat": 4,
 "nbformat_minor": 2
}
