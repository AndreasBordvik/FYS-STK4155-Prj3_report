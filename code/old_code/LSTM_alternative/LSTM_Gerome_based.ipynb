{
 "cells": [
  {
   "cell_type": "code",
   "execution_count": 1,
   "metadata": {},
   "outputs": [
    {
     "name": "stdout",
     "output_type": "stream",
     "text": [
      "No GPU was detected. LSTMs and CNNs can be very slow without a GPU.\n"
     ]
    }
   ],
   "source": [
    "from sklearn.model_selection import train_test_split\n",
    "from sklearn.preprocessing import MinMaxScaler\n",
    "from tensorflow.keras.callbacks import Callback, EarlyStopping, ReduceLROnPlateau, History\n",
    "from tensorflow.keras.layers import Dense, Dropout, LSTM, BatchNormalization, Bidirectional, TimeDistributed\n",
    "import pandas as pd\n",
    "\n",
    "# Python ≥3.5 is required\n",
    "import sys\n",
    "assert sys.version_info >= (3, 5)\n",
    "\n",
    "# Is this notebook running on Colab or Kaggle?\n",
    "IS_COLAB = \"google.colab\" in sys.modules\n",
    "IS_KAGGLE = \"kaggle_secrets\" in sys.modules\n",
    "\n",
    "# Scikit-Learn ≥0.20 is required\n",
    "import sklearn\n",
    "assert sklearn.__version__ >= \"0.20\"\n",
    "\n",
    "# TensorFlow ≥2.0 is required\n",
    "import tensorflow as tf\n",
    "from tensorflow import keras\n",
    "assert tf.__version__ >= \"2.0\"\n",
    "\n",
    "if not tf.config.list_physical_devices('GPU'):\n",
    "    print(\"No GPU was detected. LSTMs and CNNs can be very slow without a GPU.\")\n",
    "    if IS_COLAB:\n",
    "        print(\"Go to Runtime > Change runtime and select a GPU hardware accelerator.\")\n",
    "    if IS_KAGGLE:\n",
    "        print(\"Go to Settings > Accelerator and select GPU.\")\n",
    "\n",
    "# Common imports\n",
    "import numpy as np\n",
    "import os\n",
    "from pathlib import Path\n",
    "\n",
    "# to make this notebook's output stable across runs\n",
    "np.random.seed(42)\n",
    "tf.random.set_seed(42)\n",
    "\n",
    "# To plot pretty figures\n",
    "%matplotlib inline\n",
    "import matplotlib as mpl\n",
    "import matplotlib.pyplot as plt\n",
    "mpl.rc('axes', labelsize=14)\n",
    "mpl.rc('xtick', labelsize=12)\n",
    "mpl.rc('ytick', labelsize=12)\n",
    "\n",
    "# Where to save the figures\n",
    "PROJECT_ROOT_DIR = \".\"\n",
    "CHAPTER_ID = \"rnn\"\n",
    "IMAGES_PATH = os.path.join(PROJECT_ROOT_DIR, \"images\", CHAPTER_ID)\n",
    "os.makedirs(IMAGES_PATH, exist_ok=True)\n",
    "\n",
    "def save_fig(fig_id, tight_layout=True, fig_extension=\"png\", resolution=300):\n",
    "    path = os.path.join(IMAGES_PATH, fig_id + \".\" + fig_extension)\n",
    "    print(\"Saving figure\", fig_id)\n",
    "    if tight_layout:\n",
    "        plt.tight_layout()\n",
    "    plt.savefig(path, format=fig_extension, dpi=resolution)"
   ]
  },
  {
   "cell_type": "code",
   "execution_count": 2,
   "metadata": {},
   "outputs": [],
   "source": [
    "def plot_series(series, y=None, y_pred=None, x_label=\"$t$\", y_label=\"$x(t)$\", legend=True):\n",
    "    plt.plot(series, \".-\")\n",
    "    if y is not None:\n",
    "        plt.plot(n_steps, y, \"bo\", label=\"Target\")\n",
    "    if y_pred is not None:\n",
    "        plt.plot(n_steps, y_pred, \"rx\", markersize=10, label=\"Prediction\")\n",
    "    plt.grid(True)\n",
    "    if x_label:\n",
    "        plt.xlabel(x_label, fontsize=16)\n",
    "    if y_label:\n",
    "        plt.ylabel(y_label, fontsize=16, rotation=0)\n",
    "    plt.hlines(0, 0, 100, linewidth=1)\n",
    "    plt.axis([0, n_steps + 1, -1, 1])\n",
    "    plt.ylim(0,1)\n",
    "    if legend and (y or y_pred):\n",
    "        plt.legend(fontsize=14, loc=\"upper left\")"
   ]
  },
  {
   "cell_type": "code",
   "execution_count": 3,
   "metadata": {},
   "outputs": [],
   "source": [
    "def plot_learning_curves(loss, val_loss):\n",
    "    plt.plot(np.arange(len(loss)) + 0.5, loss, \"b.-\", label=\"Training loss\")\n",
    "    plt.plot(np.arange(len(val_loss)) + 1, val_loss, \"r.-\", label=\"Validation loss\")\n",
    "    plt.gca().xaxis.set_major_locator(mpl.ticker.MaxNLocator(integer=True))\n",
    "    #plt.axis([1, 20, 0, 0.05])\n",
    "    plt.legend(fontsize=14)\n",
    "    plt.xlabel(\"Epochs\")\n",
    "    plt.ylabel(\"Loss\")\n",
    "    plt.grid(True)"
   ]
  },
  {
   "cell_type": "code",
   "execution_count": 4,
   "metadata": {},
   "outputs": [],
   "source": [
    "def create_time_series_data(raw_train_df, nbf_features, nbf_outputs, column_key, column_suffix=\"\", include_target_outputs=True):\n",
    "    nbf_columns = nbf_features + nbf_outputs\n",
    "    time_series_df, time_series = sliding_window_algorithm(raw_train_df, nbf_columns, nbf_features, nbf_outputs, column_key, column_suffix, include_target_outputs)\n",
    "    return time_series, time_series_df\n",
    "\n",
    "\n",
    "def sliding_window_algorithm(raw_data_df, nbf_columns, input_window, output_window, column_key, column_suffix, include_target_outputs, string_array=False):\n",
    "    raw_data = raw_data_df[column_key].to_numpy()\n",
    "    dim0 = raw_data.shape[0] - (nbf_columns - 1) # Number of time-slices\n",
    "    dim1 = nbf_columns # Time-step length including input window and output window\n",
    "    \n",
    "    if string_array:\n",
    "        data = np.empty((dim0,dim1), dtype=object) # Time series matrix\n",
    "    else:\n",
    "        data = np.zeros((dim0,dim1)) # Time series matrix\n",
    "\n",
    "    data[0, :] = raw_data[:dim1] # First initial sample/time-slice (n equals 0)\n",
    "    n = 1 # n is the count variable\n",
    "    \n",
    "    # Looping through the initial input data and constucting the \n",
    "    # time series data based on the sliding window approach. \n",
    "    # See the report for more descriptions\n",
    "    for j in range(dim1, raw_data.shape[0]):\n",
    "        data[n, :-1] = data[n-1, 1:]\n",
    "        data[n, nbf_columns-1:] = raw_data[j]\n",
    "        n += 1\n",
    "\n",
    "    if include_target_outputs:\n",
    "        # Creating dataframe    \n",
    "        feature_names = [f\"x{i}_{column_suffix}\" for i in range(1,input_window+1)]\n",
    "        if(output_window > 1):\n",
    "            output_names = [f\"y{i}_{column_suffix}\" for i in range(1,output_window+1)]    \n",
    "        else:\n",
    "            output_names = [f\"y_{column_suffix}\"]\n",
    "        \n",
    "        time_series_df = pd.DataFrame(data=data, columns=feature_names+output_names)\n",
    "    else:\n",
    "        feature_names = [f\"x{i}_{column_suffix}\" for i in range(1,input_window+2)]\n",
    "        time_series_df = pd.DataFrame(data=data, columns=feature_names)\n",
    "\n",
    "    return time_series_df, data"
   ]
  },
  {
   "cell_type": "markdown",
   "metadata": {},
   "source": [
    "# Own Dataset"
   ]
  },
  {
   "cell_type": "code",
   "execution_count": 244,
   "metadata": {},
   "outputs": [
    {
     "name": "stdout",
     "output_type": "stream",
     "text": [
      "(44280, 7)\n"
     ]
    },
    {
     "data": {
      "text/html": [
       "<div>\n",
       "<style scoped>\n",
       "    .dataframe tbody tr th:only-of-type {\n",
       "        vertical-align: middle;\n",
       "    }\n",
       "\n",
       "    .dataframe tbody tr th {\n",
       "        vertical-align: top;\n",
       "    }\n",
       "\n",
       "    .dataframe thead th {\n",
       "        text-align: right;\n",
       "    }\n",
       "</style>\n",
       "<table border=\"1\" class=\"dataframe\">\n",
       "  <thead>\n",
       "    <tr style=\"text-align: right;\">\n",
       "      <th></th>\n",
       "      <th>NO5_price</th>\n",
       "      <th>NO5_load_actual</th>\n",
       "      <th>NO5_load_delta</th>\n",
       "      <th>NO5_generation_actual</th>\n",
       "      <th>NO5_generation_delta</th>\n",
       "      <th>dato_id</th>\n",
       "      <th>date_time</th>\n",
       "    </tr>\n",
       "  </thead>\n",
       "  <tbody>\n",
       "    <tr>\n",
       "      <th>44277</th>\n",
       "      <td>35.29</td>\n",
       "      <td>2490</td>\n",
       "      <td>-423</td>\n",
       "      <td>6910</td>\n",
       "      <td>-3275</td>\n",
       "      <td>2021-01-21 09:00:00+01:00</td>\n",
       "      <td>2021-01-21-09</td>\n",
       "    </tr>\n",
       "    <tr>\n",
       "      <th>44278</th>\n",
       "      <td>33.01</td>\n",
       "      <td>2499</td>\n",
       "      <td>-460</td>\n",
       "      <td>6568</td>\n",
       "      <td>-3186</td>\n",
       "      <td>2021-01-21 10:00:00+01:00</td>\n",
       "      <td>2021-01-21-10</td>\n",
       "    </tr>\n",
       "    <tr>\n",
       "      <th>44279</th>\n",
       "      <td>33.38</td>\n",
       "      <td>2460</td>\n",
       "      <td>-412</td>\n",
       "      <td>6722</td>\n",
       "      <td>-3267</td>\n",
       "      <td>2021-01-21 11:00:00+01:00</td>\n",
       "      <td>2021-01-21-11</td>\n",
       "    </tr>\n",
       "  </tbody>\n",
       "</table>\n",
       "</div>"
      ],
      "text/plain": [
       "       NO5_price  NO5_load_actual  NO5_load_delta  NO5_generation_actual  \\\n",
       "44277      35.29             2490            -423                   6910   \n",
       "44278      33.01             2499            -460                   6568   \n",
       "44279      33.38             2460            -412                   6722   \n",
       "\n",
       "       NO5_generation_delta                    dato_id      date_time  \n",
       "44277                 -3275  2021-01-21 09:00:00+01:00  2021-01-21-09  \n",
       "44278                 -3186  2021-01-21 10:00:00+01:00  2021-01-21-10  \n",
       "44279                 -3267  2021-01-21 11:00:00+01:00  2021-01-21-11  "
      ]
     },
     "metadata": {},
     "output_type": "display_data"
    },
    {
     "name": "stdout",
     "output_type": "stream",
     "text": [
      "*** (44280, 1)\n"
     ]
    }
   ],
   "source": [
    "# Training data\n",
    "dataset_df = pd.read_csv(\"MAIN_DATASET.csv\")[[\"NO5_price\", \"NO5_load_actual\",\"NO5_load_delta\", \"NO5_generation_actual\", \"NO5_generation_delta\", \"dato_id\",\"date_time\"]][:-7381]; print(dataset_df.shape)\n",
    "\n",
    "display(dataset_df.tail(3))\n",
    "\n",
    "\n",
    "scaler = MinMaxScaler()\n",
    "print(\"***\",dataset_df[\"NO5_price\"].values.reshape(-1,1).shape)\n",
    "\n",
    "dataset_df[\"NO5_price\"] = scaler.fit_transform(dataset_df[\"NO5_price\"].values.reshape(-1,1))\n",
    "dataset_df[\"NO5_load_actual\"] = scaler.fit_transform(dataset_df[\"NO5_load_actual\"].values.reshape(-1,1))\n",
    "dataset_df[\"NO5_load_delta\"] = scaler.fit_transform(dataset_df[\"NO5_load_delta\"].values.reshape(-1,1))\n",
    "dataset_df[\"NO5_generation_actual\"] = scaler.fit_transform(dataset_df[\"NO5_generation_actual\"].values.reshape(-1,1))\n",
    "dataset_df[\"NO5_generation_delta\"] = scaler.fit_transform(dataset_df[\"NO5_generation_delta\"].values.reshape(-1,1))\n",
    "\n",
    "# Forecast solutions\n",
    "# training_df, forcast_sol_df = train_test_split(training_df, shuffle=False, test_size=0.2, random_state=4155)\n",
    "\n",
    "# Displaying the loaded data\n",
    "# display(training_df.tail(3))\n",
    "# print(training_df.shape)\n",
    "# display(forcast_sol_df.head(3))\n",
    "# print(forcast_sol_df.shape)\n",
    "\n",
    "# print(training_df.max())\n",
    "\n",
    "# print(training_df.min())\n",
    "# print(forcast_sol_df.max())\n",
    "# print(forcast_sol_df.min())"
   ]
  },
  {
   "cell_type": "markdown",
   "metadata": {},
   "source": [
    "## SeqToVec\n",
    "Returning only the last output"
   ]
  },
  {
   "cell_type": "code",
   "execution_count": 290,
   "metadata": {},
   "outputs": [
    {
     "name": "stdout",
     "output_type": "stream",
     "text": [
      "(44208, 73)\n",
      "(44208, 73)\n",
      "(34272, 72, 1) (34272, 1)\n",
      "(6581, 72, 1) (6581, 1)\n",
      "(3355, 72, 1) (3355, 1)\n"
     ]
    }
   ],
   "source": [
    "# Time series slicing parameters\n",
    "nbf_features = input_window = n_steps = 72 \n",
    "nbf_outputs = output_window = horizon = 1\n",
    "\n",
    "# Creating time series traing and evaluation (test) data besed on sliding window approach\n",
    "time_series, time_series_df = create_time_series_data(dataset_df,                                                                             \n",
    "                                                      nbf_features, \n",
    "                                                      nbf_outputs, \n",
    "                                                      column_key=\"NO5_price\", \n",
    "                                                      column_suffix=\"DA\",\n",
    "                                                      include_target_outputs=True)\n",
    "#time_series_df.to_csv(\"TIMESERIES_VALIDATION.csv\")\n",
    "\n",
    "\n",
    "# Displaying time series data\n",
    "time_series_df.index.name = \"t\"\n",
    "\n",
    "print(time_series.shape)\n",
    "print(time_series_df.shape)\n",
    "# print(time_series_df.columns)\n",
    "\n",
    "X_train, y_train = time_series[ :34272, :input_window], time_series[ :34272, input_window:]\n",
    "X_valid, y_valid = time_series[34272:34272+6581, :input_window], time_series[34272:34272+6581, input_window:]\n",
    "X_test, y_test = time_series[34272+6581:, :input_window], time_series[34272+6581:, input_window:]\n",
    "\n",
    "X_train = np.expand_dims(X_train, axis=2)\n",
    "X_valid = np.expand_dims(X_valid, axis=2)\n",
    "X_test = np.expand_dims(X_test, axis=2)\n",
    "\n",
    "print(X_train.shape, y_train.shape)\n",
    "print(X_valid.shape, y_valid.shape)\n",
    "print(X_test.shape, y_test.shape)"
   ]
  },
  {
   "cell_type": "code",
   "execution_count": 277,
   "metadata": {},
   "outputs": [
    {
     "name": "stdout",
     "output_type": "stream",
     "text": [
      "X_train.shape=(34272, 72, 1)\n",
      "y_train.shape=(34272, 1)\n",
      "X_valid.shape=(6581, 72, 1)\n",
      "y_valid.shape=(6581, 1)\n",
      "(34272, 72, 1)\n",
      "(34272, 1)\n",
      "Epoch 1/20\n",
      "343/343 [==============================] - 2s 5ms/step - loss: 0.0030 - val_loss: 0.0099\n",
      "Epoch 2/20\n",
      "343/343 [==============================] - 1s 2ms/step - loss: 0.0021 - val_loss: 0.0118\n",
      "Epoch 3/20\n",
      "343/343 [==============================] - 1s 2ms/step - loss: 0.0020 - val_loss: 0.0119\n",
      "Epoch 4/20\n",
      "335/343 [============================>.] - ETA: 0s - loss: 0.0019\n",
      "Epoch 00004: ReduceLROnPlateau reducing learning rate to 0.0010000000474974513.\n",
      "343/343 [==============================] - 1s 2ms/step - loss: 0.0019 - val_loss: 0.0114\n",
      "Epoch 5/20\n",
      "343/343 [==============================] - 1s 2ms/step - loss: 0.0016 - val_loss: 0.0063\n",
      "Epoch 6/20\n",
      "343/343 [==============================] - 1s 2ms/step - loss: 0.0011 - val_loss: 0.0048\n",
      "Epoch 7/20\n",
      "343/343 [==============================] - 1s 3ms/step - loss: 7.9667e-04 - val_loss: 0.0041\n",
      "Epoch 8/20\n",
      "343/343 [==============================] - 1s 2ms/step - loss: 6.8145e-04 - val_loss: 0.0043\n",
      "Epoch 9/20\n",
      "343/343 [==============================] - 1s 2ms/step - loss: 6.2299e-04 - val_loss: 0.0043\n",
      "Epoch 10/20\n",
      "326/343 [===========================>..] - ETA: 0s - loss: 5.7916e-04\n",
      "Epoch 00010: ReduceLROnPlateau reducing learning rate to 0.0005000000237487257.\n",
      "343/343 [==============================] - 1s 2ms/step - loss: 5.7357e-04 - val_loss: 0.0040\n",
      "Epoch 11/20\n",
      "343/343 [==============================] - 1s 2ms/step - loss: 5.2379e-04 - val_loss: 0.0036\n",
      "Epoch 12/20\n",
      "343/343 [==============================] - 1s 2ms/step - loss: 4.8554e-04 - val_loss: 0.0034\n",
      "Epoch 13/20\n",
      "343/343 [==============================] - 1s 2ms/step - loss: 4.6198e-04 - val_loss: 0.0034\n",
      "Epoch 14/20\n",
      "343/343 [==============================] - 1s 3ms/step - loss: 4.4495e-04 - val_loss: 0.0035\n",
      "Epoch 15/20\n",
      "334/343 [============================>.] - ETA: 0s - loss: 4.2686e-04\n",
      "Epoch 00015: ReduceLROnPlateau reducing learning rate to 0.0002500000118743628.\n",
      "343/343 [==============================] - 1s 3ms/step - loss: 4.2964e-04 - val_loss: 0.0034\n",
      "Epoch 16/20\n",
      "343/343 [==============================] - 1s 3ms/step - loss: 4.0110e-04 - val_loss: 0.0028\n",
      "Epoch 17/20\n",
      "343/343 [==============================] - 1s 3ms/step - loss: 3.7789e-04 - val_loss: 0.0026\n",
      "Epoch 18/20\n",
      "343/343 [==============================] - 1s 3ms/step - loss: 3.6607e-04 - val_loss: 0.0026\n",
      "Epoch 19/20\n",
      "343/343 [==============================] - 1s 2ms/step - loss: 3.5816e-04 - val_loss: 0.0026\n",
      "Epoch 20/20\n",
      "334/343 [============================>.] - ETA: 0s - loss: 3.4905e-04\n",
      "Epoch 00020: ReduceLROnPlateau reducing learning rate to 0.0001250000059371814.\n",
      "343/343 [==============================] - 1s 3ms/step - loss: 3.5202e-04 - val_loss: 0.0027\n"
     ]
    }
   ],
   "source": [
    "print(f\"{X_train.shape=}\")\n",
    "print(f\"{y_train.shape=}\")\n",
    "print(f\"{X_valid.shape=}\")\n",
    "print(f\"{y_valid.shape=}\")\n",
    "\n",
    "eta = 0.002\n",
    "batch_size = 100\n",
    "model = keras.models.Sequential([\n",
    "    LSTM(20, return_sequences=True, input_shape=[None, 72]),\n",
    "    LSTM(20, return_sequences=True),\n",
    "    TimeDistributed(keras.layers.Dense(1))\n",
    "])\n",
    "\n",
    "learning_rate_reduction = ReduceLROnPlateau(monitor='val_loss', \n",
    "                                            patience=3, \n",
    "                                            verbose=1, \n",
    "                                            factor=0.5, \n",
    "                                            min_lr=0.000001)\n",
    "\n",
    "opt = tf.keras.optimizers.Adam(learning_rate=eta)\n",
    "model.compile(loss=\"mse\", optimizer=opt)\n",
    "\n",
    "callbacks = [learning_rate_reduction]\n",
    "\n",
    "print(X_train.shape)\n",
    "print(y_train.shape)\n",
    "\n",
    "history = model.fit(np.swapaxes(X_train, 1, 2), y_train, \n",
    "                    epochs=20, shuffle=False, \n",
    "                    batch_size=batch_size,\n",
    "                    validation_data=(np.swapaxes(X_valid, 1, 2), y_valid),\n",
    "                    callbacks= callbacks)   "
   ]
  },
  {
   "cell_type": "code",
   "execution_count": 278,
   "metadata": {},
   "outputs": [
    {
     "name": "stdout",
     "output_type": "stream",
     "text": [
      "206/206 [==============================] - 0s 1ms/step - loss: 0.0027\n"
     ]
    },
    {
     "data": {
      "text/plain": [
       "0.0027136141434311867"
      ]
     },
     "execution_count": 278,
     "metadata": {},
     "output_type": "execute_result"
    }
   ],
   "source": [
    "model.evaluate(np.swapaxes(X_valid, 1,2), y_valid)"
   ]
  },
  {
   "cell_type": "code",
   "execution_count": 279,
   "metadata": {},
   "outputs": [
    {
     "data": {
      "image/png": "[encoded data removed]",
      "text/plain": [
       "<Figure size 432x288 with 1 Axes>"
      ]
     },
     "metadata": {
      "needs_background": "light"
     },
     "output_type": "display_data"
    }
   ],
   "source": [
    "plot_learning_curves(history.history[\"loss\"], history.history[\"val_loss\"])\n",
    "plt.show()"
   ]
  },
  {
   "cell_type": "code",
   "execution_count": 280,
   "metadata": {},
   "outputs": [
    {
     "data": {
      "image/png": "[encoded data removed]",
      "text/plain": [
       "<Figure size 432x288 with 1 Axes>"
      ]
     },
     "metadata": {
      "needs_background": "light"
     },
     "output_type": "display_data"
    }
   ],
   "source": [
    "y_pred = model.predict(np.swapaxes(X_valid, 1,2))\n",
    "plot_series(X_valid[0, :, 0], y_valid[0, 0], y_pred[0, 0])\n",
    "plt.show()"
   ]
  },
  {
   "cell_type": "markdown",
   "metadata": {
    "id": "HtbelVxDOq63"
   },
   "source": [
    "## Forecasting Several Steps Ahead"
   ]
  },
  {
   "cell_type": "code",
   "execution_count": 281,
   "metadata": {},
   "outputs": [
    {
     "name": "stdout",
     "output_type": "stream",
     "text": [
      "(44185, 96)\n",
      "(44185, 96)\n",
      "(34272, 72, 1) (34272, 24)\n",
      "(6581, 72, 1) (6581, 24)\n",
      "(3332, 72, 1) (3332, 24)\n"
     ]
    }
   ],
   "source": [
    "# Time series slicing parameters\n",
    "nbf_features = input_window = n_steps = 72 \n",
    "nbf_outputs = output_window = horizon = 24\n",
    "\n",
    "# Creating time series traing and evaluation (test) data besed on sliding window approach\n",
    "time_series, time_series_df = create_time_series_data(dataset_df,                                                                             \n",
    "                                                      nbf_features, \n",
    "                                                      nbf_outputs, \n",
    "                                                      column_key=\"NO5_price\", \n",
    "                                                      column_suffix=\"DA\",\n",
    "                                                      include_target_outputs=True)\n",
    "#time_series_df.to_csv(\"TIMESERIES_VALIDATION.csv\")\n",
    "\n",
    "\n",
    "# Displaying time series data\n",
    "time_series_df.index.name = \"t\"\n",
    "\n",
    "print(time_series.shape)\n",
    "print(time_series_df.shape)\n",
    "# print(time_series_df.columns)\n",
    "\n",
    "X_train, y_train = time_series[ :34272, :input_window], time_series[ :34272, input_window:]\n",
    "X_valid, y_valid = time_series[34272:34272+6581, :input_window], time_series[34272:34272+6581, input_window:]\n",
    "X_test, y_test = time_series[34272+6581:, :input_window], time_series[34272+6581:, input_window:]\n",
    "\n",
    "X_train = np.expand_dims(X_train, axis=2)\n",
    "X_valid = np.expand_dims(X_valid, axis=2)\n",
    "X_test = np.expand_dims(X_test, axis=2)\n",
    "\n",
    "print(X_train.shape, y_train.shape)\n",
    "print(X_valid.shape, y_valid.shape)\n",
    "print(X_test.shape, y_test.shape)"
   ]
  },
  {
   "cell_type": "code",
   "execution_count": null,
   "metadata": {},
   "outputs": [],
   "source": []
  },
  {
   "cell_type": "code",
   "execution_count": 282,
   "metadata": {},
   "outputs": [
    {
     "data": {
      "text/html": [
       "<div>\n",
       "<style scoped>\n",
       "    .dataframe tbody tr th:only-of-type {\n",
       "        vertical-align: middle;\n",
       "    }\n",
       "\n",
       "    .dataframe tbody tr th {\n",
       "        vertical-align: top;\n",
       "    }\n",
       "\n",
       "    .dataframe thead th {\n",
       "        text-align: right;\n",
       "    }\n",
       "</style>\n",
       "<table border=\"1\" class=\"dataframe\">\n",
       "  <thead>\n",
       "    <tr style=\"text-align: right;\">\n",
       "      <th></th>\n",
       "      <th>NO5_price</th>\n",
       "      <th>date_time</th>\n",
       "    </tr>\n",
       "  </thead>\n",
       "  <tbody>\n",
       "    <tr>\n",
       "      <th>44279</th>\n",
       "      <td>0.291576</td>\n",
       "      <td>2021-01-21-11</td>\n",
       "    </tr>\n",
       "  </tbody>\n",
       "</table>\n",
       "</div>"
      ],
      "text/plain": [
       "       NO5_price      date_time\n",
       "44279   0.291576  2021-01-21-11"
      ]
     },
     "metadata": {},
     "output_type": "display_data"
    },
    {
     "name": "stdout",
     "output_type": "stream",
     "text": [
      "X_new.shape=(1, 72, 1)\n",
      "Y_new.shape=(1, 24, 1)\n",
      "(1, 1, 72)\n",
      "y_pred_one.shape=(1, 1, 1)\n",
      "y_pred_one.shape=(1, 1, 1)\n",
      "X.shape=(1, 1, 73)\n",
      "y_pred_one.shape=(1, 1, 1)\n",
      "y_pred_one.shape=(1, 1, 1)\n",
      "X.shape=(1, 1, 74)\n",
      "y_pred_one.shape=(1, 1, 1)\n",
      "y_pred_one.shape=(1, 1, 1)\n",
      "X.shape=(1, 1, 75)\n",
      "y_pred_one.shape=(1, 1, 1)\n",
      "y_pred_one.shape=(1, 1, 1)\n",
      "X.shape=(1, 1, 76)\n",
      "y_pred_one.shape=(1, 1, 1)\n",
      "y_pred_one.shape=(1, 1, 1)\n",
      "X.shape=(1, 1, 77)\n",
      "y_pred_one.shape=(1, 1, 1)\n",
      "y_pred_one.shape=(1, 1, 1)\n",
      "X.shape=(1, 1, 78)\n",
      "y_pred_one.shape=(1, 1, 1)\n",
      "y_pred_one.shape=(1, 1, 1)\n",
      "X.shape=(1, 1, 79)\n",
      "y_pred_one.shape=(1, 1, 1)\n",
      "y_pred_one.shape=(1, 1, 1)\n",
      "X.shape=(1, 1, 80)\n",
      "y_pred_one.shape=(1, 1, 1)\n",
      "y_pred_one.shape=(1, 1, 1)\n",
      "X.shape=(1, 1, 81)\n",
      "y_pred_one.shape=(1, 1, 1)\n",
      "y_pred_one.shape=(1, 1, 1)\n",
      "X.shape=(1, 1, 82)\n",
      "y_pred_one.shape=(1, 1, 1)\n",
      "y_pred_one.shape=(1, 1, 1)\n",
      "X.shape=(1, 1, 83)\n",
      "y_pred_one.shape=(1, 1, 1)\n",
      "y_pred_one.shape=(1, 1, 1)\n",
      "X.shape=(1, 1, 84)\n",
      "y_pred_one.shape=(1, 1, 1)\n",
      "y_pred_one.shape=(1, 1, 1)\n",
      "X.shape=(1, 1, 85)\n",
      "y_pred_one.shape=(1, 1, 1)\n",
      "y_pred_one.shape=(1, 1, 1)\n",
      "X.shape=(1, 1, 86)\n",
      "y_pred_one.shape=(1, 1, 1)\n",
      "y_pred_one.shape=(1, 1, 1)\n",
      "X.shape=(1, 1, 87)\n",
      "y_pred_one.shape=(1, 1, 1)\n",
      "y_pred_one.shape=(1, 1, 1)\n",
      "X.shape=(1, 1, 88)\n",
      "y_pred_one.shape=(1, 1, 1)\n",
      "y_pred_one.shape=(1, 1, 1)\n",
      "X.shape=(1, 1, 89)\n",
      "y_pred_one.shape=(1, 1, 1)\n",
      "y_pred_one.shape=(1, 1, 1)\n",
      "X.shape=(1, 1, 90)\n",
      "y_pred_one.shape=(1, 1, 1)\n",
      "y_pred_one.shape=(1, 1, 1)\n",
      "X.shape=(1, 1, 91)\n",
      "y_pred_one.shape=(1, 1, 1)\n",
      "y_pred_one.shape=(1, 1, 1)\n",
      "X.shape=(1, 1, 92)\n",
      "y_pred_one.shape=(1, 1, 1)\n",
      "y_pred_one.shape=(1, 1, 1)\n",
      "X.shape=(1, 1, 93)\n",
      "y_pred_one.shape=(1, 1, 1)\n",
      "y_pred_one.shape=(1, 1, 1)\n",
      "X.shape=(1, 1, 94)\n",
      "y_pred_one.shape=(1, 1, 1)\n",
      "y_pred_one.shape=(1, 1, 1)\n",
      "X.shape=(1, 1, 95)\n",
      "y_pred_one.shape=(1, 1, 1)\n",
      "y_pred_one.shape=(1, 1, 1)\n",
      "X.shape=(1, 1, 96)\n",
      "X.shape=(1, 1, 96)\n"
     ]
    }
   ],
   "source": [
    "np.random.seed(43) # not 42, as it would give the first series in the train set\n",
    "\n",
    "X_new = X_test[-1:, :]\n",
    "Y_new = np.expand_dims(y_test[-1:, :], 2)\n",
    "\n",
    "display(dataset_df[[\"NO5_price\", \"date_time\"]].tail(1))\n",
    "\n",
    "print(f\"{X_new.shape=}\")\n",
    "print(f\"{Y_new.shape=}\")\n",
    "\n",
    "# X = X_new\n",
    "X = np.swapaxes(X_new, 1,2)\n",
    "\n",
    "print(X.shape)\n",
    "\n",
    "for step_ahead in range(horizon):\n",
    "    # y_pred_one = model.predict(X[:, step_ahead:])[:, np.newaxis, :]\n",
    "    y_pred_one = model.predict(X[:, :, step_ahead:])\n",
    "\n",
    "    print(f\"{y_pred_one.shape=}\")\n",
    "    #y_pred_one = y_pred_one[:, np.newaxis, :]\n",
    "\n",
    "    # X = np.concatenate([X, y_pred_one], axis=1)\n",
    "    print(f\"{y_pred_one.shape=}\")\n",
    "\n",
    "    X = np.concatenate([X, y_pred_one], axis=2)\n",
    "    print(f\"{X.shape=}\")\n",
    "\n",
    "print(f\"{X.shape=}\")\n",
    "Y_pred = X[:, n_steps:]\n",
    "Y_pred = X[:,:, n_steps:]"
   ]
  },
  {
   "cell_type": "code",
   "execution_count": 291,
   "metadata": {
    "id": "G8a0durfOq63"
   },
   "outputs": [
    {
     "name": "stdout",
     "output_type": "stream",
     "text": [
      "(1, 24, 1)\n"
     ]
    }
   ],
   "source": [
    "Y_pred = np.swapaxes(Y_pred, 1,2)\n",
    "print(Y_pred.shape)"
   ]
  },
  {
   "cell_type": "code",
   "execution_count": 286,
   "metadata": {
    "id": "TPkffJjsOq64"
   },
   "outputs": [
    {
     "name": "stdout",
     "output_type": "stream",
     "text": [
      "Saving figure forecast_ahead_plot\n"
     ]
    },
    {
     "data": {
      "image/png": "[encoded data removed]",
      "text/plain": [
       "<Figure size 432x288 with 1 Axes>"
      ]
     },
     "metadata": {
      "needs_background": "light"
     },
     "output_type": "display_data"
    },
    {
     "name": "stdout",
     "output_type": "stream",
     "text": [
      "MSE: 0.0002782513119321815\n"
     ]
    }
   ],
   "source": [
    "def plot_multiple_forecasts(X, Y, Y_pred):\n",
    "    n_steps = X.shape[1]\n",
    "    ahead = Y.shape[1]\n",
    "    plot_series(X[0, :, 0])\n",
    "    plt.plot(np.arange(n_steps, n_steps + ahead), Y[0, :, 0], \"bo-\", label=\"Actual\")\n",
    "    plt.plot(np.arange(n_steps, n_steps + ahead), Y_pred[0, :, 0], \"rx-\", label=\"Forecast\", markersize=10)\n",
    "    plt.ylim(0,1)\n",
    "    plt.axis([0, n_steps + ahead, -1, 1])\n",
    "    plt.legend(fontsize=14)\n",
    "\n",
    "plot_multiple_forecasts(X_new, Y_new, Y_pred)\n",
    "save_fig(\"forecast_ahead_plot\")\n",
    "plt.ylim(0.10,0.70)\n",
    "plt.show()\n",
    "\n",
    "mse = keras.metrics.mean_squared_error(Y_new, Y_pred)\n",
    "print(\"MSE:\",np.mean(mse))"
   ]
  },
  {
   "cell_type": "code",
   "execution_count": null,
   "metadata": {},
   "outputs": [],
   "source": []
  },
  {
   "cell_type": "markdown",
   "metadata": {},
   "source": [
    "# Do not touch above"
   ]
  },
  {
   "cell_type": "code",
   "execution_count": null,
   "metadata": {},
   "outputs": [],
   "source": []
  },
  {
   "cell_type": "code",
   "execution_count": null,
   "metadata": {},
   "outputs": [],
   "source": []
  },
  {
   "cell_type": "code",
   "execution_count": null,
   "metadata": {},
   "outputs": [],
   "source": []
  },
  {
   "cell_type": "code",
   "execution_count": null,
   "metadata": {},
   "outputs": [],
   "source": []
  },
  {
   "cell_type": "code",
   "execution_count": null,
   "metadata": {},
   "outputs": [],
   "source": []
  },
  {
   "cell_type": "code",
   "execution_count": null,
   "metadata": {},
   "outputs": [],
   "source": []
  },
  {
   "cell_type": "code",
   "execution_count": null,
   "metadata": {},
   "outputs": [],
   "source": []
  },
  {
   "cell_type": "markdown",
   "metadata": {
    "id": "5h8hZrHQOq64"
   },
   "source": [
    "Now let's use this model to predict the next 24 values. We first need to regenerate the sequences with 23 more time steps."
   ]
  },
  {
   "cell_type": "code",
   "execution_count": 254,
   "metadata": {},
   "outputs": [
    {
     "name": "stdout",
     "output_type": "stream",
     "text": [
      "(44256, 25)\n",
      "(44256, 25)\n",
      "before\n",
      "(34272, 1) (34272, 24)\n",
      "(6581, 1) (6581, 24)\n",
      "(3403, 1) (3403, 24)\n",
      "After\n",
      "(476, 72, 1) (476, 72, 24)\n",
      "(91, 72, 1) (91, 72, 24)\n",
      "(47, 72, 1) (47, 72, 24)\n"
     ]
    }
   ],
   "source": [
    "# Time series slicing parameters\n",
    "nbf_features = input_window = 1\n",
    "nbf_outputs = output_window = horizon = 24\n",
    "n_steps = time_steps = 72\n",
    "\n",
    "# Creating time series traing and evaluation (test) data besed on sliding window approach\n",
    "time_series, time_series_df = create_time_series_data(dataset_df,                                                                             \n",
    "                                                      nbf_features, \n",
    "                                                      nbf_outputs, \n",
    "                                                      column_key=\"NO5_price\", \n",
    "                                                      column_suffix=\"DA\",\n",
    "                                                      include_target_outputs=True)\n",
    "#time_series_df.to_csv(\"TIMESERIES_VALIDATION.csv\")\n",
    "\n",
    "# Displaying time series data\n",
    "time_series_df.index.name = \"t\"\n",
    "\n",
    "print(time_series.shape)\n",
    "print(time_series_df.shape)\n",
    "# print(time_series_df.columns)\n",
    "\n",
    "X_train, y_train = time_series[ :34272, :input_window], time_series[ :34272, input_window:]\n",
    "X_valid, y_valid = time_series[34272:34272+6581, :input_window], time_series[34272:34272+6581, input_window:]\n",
    "X_test, y_test = time_series[34272+6581:, :input_window], time_series[34272+6581:, input_window:]\n",
    "\n",
    "# X_train = np.expand_dims(X_train, axis=1)\n",
    "# X_valid = np.expand_dims(X_valid, axis=1)\n",
    "# X_test = np.expand_dims(X_test, axis=1)\n",
    "\n",
    "# print(X_train.shape, y_train.shape)\n",
    "# print(X_valid.shape, y_valid.shape)\n",
    "# print(X_test.shape, y_test.shape)\n",
    "\n",
    "print(\"before\")\n",
    "print(X_train.shape, y_train.shape)\n",
    "print(X_valid.shape, y_valid.shape)\n",
    "print(X_test.shape, y_test.shape)\n",
    "\n",
    "train_start_idx = X_train.shape[0]%time_steps\n",
    "X_train = X_train[train_start_idx: , :] # \n",
    "y_train = y_train[train_start_idx: , :] # \n",
    "\n",
    "batch_size_train = X_train.shape[0] // time_steps\n",
    "x_train_RNN = X_train.reshape((batch_size_train, time_steps, nbf_features))\n",
    "y_train_RNN = y_train.copy()\n",
    "y_train_RNN = y_train_RNN.reshape((batch_size_train, time_steps, nbf_outputs))\n",
    "\n",
    "\n",
    "# Validation \n",
    "valid_start_idx = X_valid.shape[0]%time_steps\n",
    "X_valid = X_valid[valid_start_idx: , :] # \n",
    "y_valid = y_valid[valid_start_idx: , :] # \n",
    "\n",
    "batch_size_valid = X_valid.shape[0] // time_steps\n",
    "x_valid_RNN = X_valid.reshape((batch_size_valid, time_steps, nbf_features))\n",
    "y_valid_RNN = y_valid.copy()\n",
    "y_valid_RNN = y_valid_RNN.reshape((batch_size_valid, time_steps, nbf_outputs))\n",
    "\n",
    "# Test \n",
    "test_start_idx = X_test.shape[0]%time_steps\n",
    "X_test = X_test[test_start_idx: , :] # \n",
    "y_test = y_test[test_start_idx: , :] # \n",
    "\n",
    "batch_size_test = X_test.shape[0] // time_steps\n",
    "x_test_RNN = X_test.reshape((batch_size_test, time_steps, nbf_features))\n",
    "y_test_RNN = y_test.copy()\n",
    "y_test_RNN = y_test_RNN.reshape((batch_size_test, time_steps, nbf_outputs))\n",
    "\n",
    "X_train = x_train_RNN#.swapaxes(1,2)\n",
    "y_train = y_train_RNN#.squeeze()   \n",
    "\n",
    "X_valid = x_valid_RNN#.swapaxes(1,2)   \n",
    "y_valid = y_valid_RNN#.squeeze()   \n",
    "\n",
    "X_test = x_test_RNN#.swapaxes(1,2)   \n",
    "y_test = y_test_RNN#.squeeze()\n",
    "\n",
    "print(\"After\")\n",
    "print(X_train.shape, y_train.shape)\n",
    "print(X_valid.shape, y_valid.shape)\n",
    "print(X_test.shape, y_test.shape)"
   ]
  },
  {
   "cell_type": "code",
   "execution_count": 263,
   "metadata": {},
   "outputs": [
    {
     "name": "stdout",
     "output_type": "stream",
     "text": [
      "(476, 72, 1)\n",
      "(476, 72, 24)\n",
      "Epoch 1/20\n",
      "5/5 [==============================] - 2s 469ms/step - loss: 0.0909 - val_loss: 0.0156\n",
      "Epoch 2/20\n",
      "5/5 [==============================] - 0s 36ms/step - loss: 0.0699 - val_loss: 0.0118\n",
      "Epoch 3/20\n",
      "5/5 [==============================] - 0s 37ms/step - loss: 0.0456 - val_loss: 0.0157\n",
      "Epoch 4/20\n",
      "5/5 [==============================] - 0s 37ms/step - loss: 0.0281 - val_loss: 0.0144\n",
      "Epoch 5/20\n",
      "5/5 [==============================] - ETA: 0s - loss: 0.0164\n",
      "Epoch 00005: ReduceLROnPlateau reducing learning rate to 0.0010000000474974513.\n",
      "5/5 [==============================] - 0s 37ms/step - loss: 0.0164 - val_loss: 0.0204\n",
      "Epoch 6/20\n",
      "5/5 [==============================] - 0s 40ms/step - loss: 0.0124 - val_loss: 0.0237\n",
      "Epoch 7/20\n",
      "5/5 [==============================] - 0s 39ms/step - loss: 0.0114 - val_loss: 0.0216\n",
      "Epoch 8/20\n",
      "5/5 [==============================] - ETA: 0s - loss: 0.0102\n",
      "Epoch 00008: ReduceLROnPlateau reducing learning rate to 0.0005000000237487257.\n",
      "5/5 [==============================] - 0s 36ms/step - loss: 0.0102 - val_loss: 0.0186\n",
      "Epoch 9/20\n",
      "5/5 [==============================] - 0s 38ms/step - loss: 0.0093 - val_loss: 0.0178\n",
      "Epoch 10/20\n",
      "5/5 [==============================] - 0s 37ms/step - loss: 0.0089 - val_loss: 0.0174\n",
      "Epoch 11/20\n",
      "5/5 [==============================] - ETA: 0s - loss: 0.0087\n",
      "Epoch 00011: ReduceLROnPlateau reducing learning rate to 0.0002500000118743628.\n",
      "5/5 [==============================] - 0s 38ms/step - loss: 0.0087 - val_loss: 0.0170\n",
      "Epoch 12/20\n",
      "5/5 [==============================] - 0s 38ms/step - loss: 0.0085 - val_loss: 0.0167\n",
      "Epoch 13/20\n",
      "5/5 [==============================] - 0s 38ms/step - loss: 0.0084 - val_loss: 0.0164\n",
      "Epoch 14/20\n",
      "5/5 [==============================] - ETA: 0s - loss: 0.0083\n",
      "Epoch 00014: ReduceLROnPlateau reducing learning rate to 0.0001250000059371814.\n",
      "5/5 [==============================] - 0s 41ms/step - loss: 0.0083 - val_loss: 0.0161\n",
      "Epoch 15/20\n",
      "5/5 [==============================] - 0s 47ms/step - loss: 0.0082 - val_loss: 0.0160\n",
      "Epoch 16/20\n",
      "5/5 [==============================] - 0s 44ms/step - loss: 0.0081 - val_loss: 0.0159\n",
      "Epoch 17/20\n",
      "5/5 [==============================] - ETA: 0s - loss: 0.0081\n",
      "Epoch 00017: ReduceLROnPlateau reducing learning rate to 6.25000029685907e-05.\n",
      "5/5 [==============================] - 0s 38ms/step - loss: 0.0081 - val_loss: 0.0158\n",
      "Epoch 18/20\n",
      "5/5 [==============================] - 0s 40ms/step - loss: 0.0081 - val_loss: 0.0158\n",
      "Epoch 19/20\n",
      "5/5 [==============================] - 0s 39ms/step - loss: 0.0080 - val_loss: 0.0157\n",
      "Epoch 20/20\n",
      "5/5 [==============================] - ETA: 0s - loss: 0.0080\n",
      "Epoch 00020: ReduceLROnPlateau reducing learning rate to 3.125000148429535e-05.\n",
      "5/5 [==============================] - 0s 39ms/step - loss: 0.0080 - val_loss: 0.0157\n"
     ]
    }
   ],
   "source": [
    "eta = 0.002\n",
    "batch_size = 100\n",
    "model = keras.models.Sequential([\n",
    "    LSTM(20, return_sequences=True, input_shape=[None, nbf_features]),\n",
    "    # keras.layers.LSTM(20, return_sequences=True, input_shape=[None, nbf_features]),\n",
    "    # keras.layers.LSTM(20, return_sequences=True, input_shape=[None, 1]),\n",
    "    LSTM(20, return_sequences=True),\n",
    "    TimeDistributed(keras.layers.Dense(24))\n",
    "])\n",
    "\n",
    "learning_rate_reduction = ReduceLROnPlateau(monitor='val_loss', \n",
    "                                            patience=3, \n",
    "                                            verbose=1, \n",
    "                                            factor=0.5, \n",
    "                                            min_lr=0.000001)\n",
    "\n",
    "opt = tf.keras.optimizers.Adam(learning_rate=eta)\n",
    "model.compile(loss=\"mse\", optimizer=opt)\n",
    "\n",
    "callbacks = [learning_rate_reduction]\n",
    "\n",
    "print(X_train.shape)\n",
    "print(y_train.shape)\n",
    "\n",
    "history = model.fit(X_train, y_train, \n",
    "                    epochs=20, shuffle=False, \n",
    "                    batch_size=batch_size,\n",
    "                    validation_data=(X_valid, y_valid),\n",
    "                    callbacks= callbacks)   "
   ]
  },
  {
   "cell_type": "code",
   "execution_count": 271,
   "metadata": {},
   "outputs": [
    {
     "name": "stdout",
     "output_type": "stream",
     "text": [
      "y_horizon_pred.shape=(1, 72, 24)\n",
      "y_horizon_target.shape=(1, 72, 24)\n"
     ]
    },
    {
     "data": {
      "image/png": "[encoded data removed]",
      "text/plain": [
       "<Figure size 432x288 with 1 Axes>"
      ]
     },
     "metadata": {
      "needs_background": "light"
     },
     "output_type": "display_data"
    }
   ],
   "source": [
    "X_new = X_test[-2:-1, :, :]\n",
    "y_horizon_pred = model.predict(X_new)\n",
    "print(f\"{y_horizon_pred.shape=}\")\n",
    "\n",
    "y_horizon_target = y_test[-1:, :, :]\n",
    "print(f\"{y_horizon_target.shape=}\")\n",
    "\n",
    "\n",
    "plot_multiple_forecasts(X_new, y_horizon_target, y_horizon_pred)\n",
    "plt.ylim(0.10,0.70)\n",
    "plt.show()"
   ]
  },
  {
   "cell_type": "markdown",
   "metadata": {
    "id": "bmJHirS7Oq64"
   },
   "source": [
    "Now let's predict the next 24 values one by one:"
   ]
  },
  {
   "cell_type": "code",
   "execution_count": 261,
   "metadata": {},
   "outputs": [
    {
     "name": "stdout",
     "output_type": "stream",
     "text": [
      "(91, 72, 1)\n",
      "y_pred_one.shape=(1, 72, 1)\n",
      "X.shape=(91, 72, 1)\n"
     ]
    },
    {
     "ename": "ValueError",
     "evalue": "all the input array dimensions for the concatenation axis must match exactly, but along dimension 0, the array at index 0 has size 91 and the array at index 1 has size 1",
     "output_type": "error",
     "traceback": [
      "\u001b[1;31m---------------------------------------------------------------------------\u001b[0m",
      "\u001b[1;31mValueError\u001b[0m                                Traceback (most recent call last)",
      "\u001b[1;32m<ipython-input-261-3567ee1c9762>\u001b[0m in \u001b[0;36m<module>\u001b[1;34m\u001b[0m\n\u001b[0;32m     15\u001b[0m     \u001b[0mprint\u001b[0m\u001b[1;33m(\u001b[0m\u001b[1;34mf\"{X.shape=}\"\u001b[0m\u001b[1;33m)\u001b[0m\u001b[1;33m\u001b[0m\u001b[1;33m\u001b[0m\u001b[0m\n\u001b[0;32m     16\u001b[0m \u001b[1;33m\u001b[0m\u001b[0m\n\u001b[1;32m---> 17\u001b[1;33m     \u001b[0mX\u001b[0m \u001b[1;33m=\u001b[0m \u001b[0mnp\u001b[0m\u001b[1;33m.\u001b[0m\u001b[0mconcatenate\u001b[0m\u001b[1;33m(\u001b[0m\u001b[1;33m[\u001b[0m\u001b[0mX\u001b[0m\u001b[1;33m,\u001b[0m \u001b[0my_pred_one\u001b[0m\u001b[1;33m]\u001b[0m\u001b[1;33m,\u001b[0m \u001b[0maxis\u001b[0m\u001b[1;33m=\u001b[0m\u001b[1;36m1\u001b[0m\u001b[1;33m)\u001b[0m\u001b[1;33m\u001b[0m\u001b[1;33m\u001b[0m\u001b[0m\n\u001b[0m\u001b[0;32m     18\u001b[0m     \u001b[0mprint\u001b[0m\u001b[1;33m(\u001b[0m\u001b[1;34mf\"{X.shape=}\"\u001b[0m\u001b[1;33m)\u001b[0m\u001b[1;33m\u001b[0m\u001b[1;33m\u001b[0m\u001b[0m\n\u001b[0;32m     19\u001b[0m \u001b[1;33m\u001b[0m\u001b[0m\n",
      "\u001b[1;32m<__array_function__ internals>\u001b[0m in \u001b[0;36mconcatenate\u001b[1;34m(*args, **kwargs)\u001b[0m\n",
      "\u001b[1;31mValueError\u001b[0m: all the input array dimensions for the concatenation axis must match exactly, but along dimension 0, the array at index 0 has size 91 and the array at index 1 has size 1"
     ]
    }
   ],
   "source": [
    "\n",
    "# X = np.swapaxes(X_valid, 1, 2)\n",
    "X = X_valid\n",
    "print(X.shape)\n",
    "\n",
    "for step_ahead in range(24):\n",
    "    y_pred_one = model.predict(X[-1:,step_ahead:,:])\n",
    "\n",
    "    #print(f\"{y_pred_one.shape=}\")\n",
    "    #y_pred_one = y_pred_one[:, np.newaxis, :]\n",
    "    \n",
    "    print(f\"{y_pred_one.shape=}\")\n",
    "    #y_pred_one = y_pred_one[:, np.newaxis, :]\n",
    "    #print(f\"{y_pred_one.shape=}\")\n",
    "    \n",
    "    print(f\"{X.shape=}\")\n",
    "\n",
    "    X = np.concatenate([X, y_pred_one], axis=1)\n",
    "    print(f\"{X.shape=}\")\n",
    "\n",
    "print(f\"{X.shape=}\")\n",
    "#X = X.swapaxes(1,2)\n",
    "Y_pred = X[:, n_steps:, 0]\n",
    "print(f\"{Y_pred.shape=}\")"
   ]
  },
  {
   "cell_type": "code",
   "execution_count": 257,
   "metadata": {},
   "outputs": [
    {
     "data": {
      "text/plain": [
       "(91, 0)"
      ]
     },
     "execution_count": 257,
     "metadata": {},
     "output_type": "execute_result"
    }
   ],
   "source": [
    "Y_pred.shape"
   ]
  },
  {
   "cell_type": "code",
   "execution_count": 206,
   "metadata": {},
   "outputs": [
    {
     "ename": "InvalidArgumentError",
     "evalue": "Incompatible shapes: [91,1,0] vs. [91,72,24] [Op:SquaredDifference]",
     "output_type": "error",
     "traceback": [
      "\u001b[1;31m---------------------------------------------------------------------------\u001b[0m",
      "\u001b[1;31mInvalidArgumentError\u001b[0m                      Traceback (most recent call last)",
      "\u001b[1;32m<ipython-input-206-0c98ed4fb4d6>\u001b[0m in \u001b[0;36m<module>\u001b[1;34m\u001b[0m\n\u001b[1;32m----> 1\u001b[1;33m \u001b[0mmse\u001b[0m \u001b[1;33m=\u001b[0m \u001b[0mkeras\u001b[0m\u001b[1;33m.\u001b[0m\u001b[0mmetrics\u001b[0m\u001b[1;33m.\u001b[0m\u001b[0mmean_squared_error\u001b[0m\u001b[1;33m(\u001b[0m\u001b[0my_valid\u001b[0m\u001b[1;33m,\u001b[0m \u001b[0mnp\u001b[0m\u001b[1;33m.\u001b[0m\u001b[0mexpand_dims\u001b[0m\u001b[1;33m(\u001b[0m\u001b[0mY_pred\u001b[0m\u001b[1;33m,\u001b[0m \u001b[1;36m1\u001b[0m\u001b[1;33m)\u001b[0m\u001b[1;33m)\u001b[0m\u001b[1;33m\u001b[0m\u001b[1;33m\u001b[0m\u001b[0m\n\u001b[0m\u001b[0;32m      2\u001b[0m \u001b[0mprint\u001b[0m\u001b[1;33m(\u001b[0m\u001b[0mmse\u001b[0m\u001b[1;33m.\u001b[0m\u001b[0mshape\u001b[0m\u001b[1;33m)\u001b[0m\u001b[1;33m\u001b[0m\u001b[1;33m\u001b[0m\u001b[0m\n\u001b[0;32m      3\u001b[0m \u001b[0mprint\u001b[0m\u001b[1;33m(\u001b[0m\u001b[0mnp\u001b[0m\u001b[1;33m.\u001b[0m\u001b[0mmean\u001b[0m\u001b[1;33m(\u001b[0m\u001b[0mmse\u001b[0m\u001b[1;33m)\u001b[0m\u001b[1;33m)\u001b[0m\u001b[1;33m\u001b[0m\u001b[1;33m\u001b[0m\u001b[0m\n",
      "\u001b[1;32m~\\anaconda3\\envs\\fysstk1\\lib\\site-packages\\tensorflow\\python\\util\\dispatch.py\u001b[0m in \u001b[0;36mwrapper\u001b[1;34m(*args, **kwargs)\u001b[0m\n\u001b[0;32m    199\u001b[0m     \u001b[1;34m\"\"\"Call target, and fall back on dispatchers if there is a TypeError.\"\"\"\u001b[0m\u001b[1;33m\u001b[0m\u001b[1;33m\u001b[0m\u001b[0m\n\u001b[0;32m    200\u001b[0m     \u001b[1;32mtry\u001b[0m\u001b[1;33m:\u001b[0m\u001b[1;33m\u001b[0m\u001b[1;33m\u001b[0m\u001b[0m\n\u001b[1;32m--> 201\u001b[1;33m       \u001b[1;32mreturn\u001b[0m \u001b[0mtarget\u001b[0m\u001b[1;33m(\u001b[0m\u001b[1;33m*\u001b[0m\u001b[0margs\u001b[0m\u001b[1;33m,\u001b[0m \u001b[1;33m**\u001b[0m\u001b[0mkwargs\u001b[0m\u001b[1;33m)\u001b[0m\u001b[1;33m\u001b[0m\u001b[1;33m\u001b[0m\u001b[0m\n\u001b[0m\u001b[0;32m    202\u001b[0m     \u001b[1;32mexcept\u001b[0m \u001b[1;33m(\u001b[0m\u001b[0mTypeError\u001b[0m\u001b[1;33m,\u001b[0m \u001b[0mValueError\u001b[0m\u001b[1;33m)\u001b[0m\u001b[1;33m:\u001b[0m\u001b[1;33m\u001b[0m\u001b[1;33m\u001b[0m\u001b[0m\n\u001b[0;32m    203\u001b[0m       \u001b[1;31m# Note: convert_to_eager_tensor currently raises a ValueError, not a\u001b[0m\u001b[1;33m\u001b[0m\u001b[1;33m\u001b[0m\u001b[1;33m\u001b[0m\u001b[0m\n",
      "\u001b[1;32m~\\anaconda3\\envs\\fysstk1\\lib\\site-packages\\tensorflow\\python\\keras\\losses.py\u001b[0m in \u001b[0;36mmean_squared_error\u001b[1;34m(y_true, y_pred)\u001b[0m\n\u001b[0;32m   1193\u001b[0m   \u001b[0my_pred\u001b[0m \u001b[1;33m=\u001b[0m \u001b[0mops\u001b[0m\u001b[1;33m.\u001b[0m\u001b[0mconvert_to_tensor_v2\u001b[0m\u001b[1;33m(\u001b[0m\u001b[0my_pred\u001b[0m\u001b[1;33m)\u001b[0m\u001b[1;33m\u001b[0m\u001b[1;33m\u001b[0m\u001b[0m\n\u001b[0;32m   1194\u001b[0m   \u001b[0my_true\u001b[0m \u001b[1;33m=\u001b[0m \u001b[0mmath_ops\u001b[0m\u001b[1;33m.\u001b[0m\u001b[0mcast\u001b[0m\u001b[1;33m(\u001b[0m\u001b[0my_true\u001b[0m\u001b[1;33m,\u001b[0m \u001b[0my_pred\u001b[0m\u001b[1;33m.\u001b[0m\u001b[0mdtype\u001b[0m\u001b[1;33m)\u001b[0m\u001b[1;33m\u001b[0m\u001b[1;33m\u001b[0m\u001b[0m\n\u001b[1;32m-> 1195\u001b[1;33m   \u001b[1;32mreturn\u001b[0m \u001b[0mK\u001b[0m\u001b[1;33m.\u001b[0m\u001b[0mmean\u001b[0m\u001b[1;33m(\u001b[0m\u001b[0mmath_ops\u001b[0m\u001b[1;33m.\u001b[0m\u001b[0msquared_difference\u001b[0m\u001b[1;33m(\u001b[0m\u001b[0my_pred\u001b[0m\u001b[1;33m,\u001b[0m \u001b[0my_true\u001b[0m\u001b[1;33m)\u001b[0m\u001b[1;33m,\u001b[0m \u001b[0maxis\u001b[0m\u001b[1;33m=\u001b[0m\u001b[1;33m-\u001b[0m\u001b[1;36m1\u001b[0m\u001b[1;33m)\u001b[0m\u001b[1;33m\u001b[0m\u001b[1;33m\u001b[0m\u001b[0m\n\u001b[0m\u001b[0;32m   1196\u001b[0m \u001b[1;33m\u001b[0m\u001b[0m\n\u001b[0;32m   1197\u001b[0m \u001b[1;33m\u001b[0m\u001b[0m\n",
      "\u001b[1;32m~\\anaconda3\\envs\\fysstk1\\lib\\site-packages\\tensorflow\\python\\ops\\gen_math_ops.py\u001b[0m in \u001b[0;36msquared_difference\u001b[1;34m(x, y, name)\u001b[0m\n\u001b[0;32m  10378\u001b[0m       \u001b[1;32mreturn\u001b[0m \u001b[0m_result\u001b[0m\u001b[1;33m\u001b[0m\u001b[1;33m\u001b[0m\u001b[0m\n\u001b[0;32m  10379\u001b[0m     \u001b[1;32mexcept\u001b[0m \u001b[0m_core\u001b[0m\u001b[1;33m.\u001b[0m\u001b[0m_NotOkStatusException\u001b[0m \u001b[1;32mas\u001b[0m \u001b[0me\u001b[0m\u001b[1;33m:\u001b[0m\u001b[1;33m\u001b[0m\u001b[1;33m\u001b[0m\u001b[0m\n\u001b[1;32m> 10380\u001b[1;33m       \u001b[0m_ops\u001b[0m\u001b[1;33m.\u001b[0m\u001b[0mraise_from_not_ok_status\u001b[0m\u001b[1;33m(\u001b[0m\u001b[0me\u001b[0m\u001b[1;33m,\u001b[0m \u001b[0mname\u001b[0m\u001b[1;33m)\u001b[0m\u001b[1;33m\u001b[0m\u001b[1;33m\u001b[0m\u001b[0m\n\u001b[0m\u001b[0;32m  10381\u001b[0m     \u001b[1;32mexcept\u001b[0m \u001b[0m_core\u001b[0m\u001b[1;33m.\u001b[0m\u001b[0m_FallbackException\u001b[0m\u001b[1;33m:\u001b[0m\u001b[1;33m\u001b[0m\u001b[1;33m\u001b[0m\u001b[0m\n\u001b[0;32m  10382\u001b[0m       \u001b[1;32mpass\u001b[0m\u001b[1;33m\u001b[0m\u001b[1;33m\u001b[0m\u001b[0m\n",
      "\u001b[1;32m~\\anaconda3\\envs\\fysstk1\\lib\\site-packages\\tensorflow\\python\\framework\\ops.py\u001b[0m in \u001b[0;36mraise_from_not_ok_status\u001b[1;34m(e, name)\u001b[0m\n\u001b[0;32m   6841\u001b[0m   \u001b[0mmessage\u001b[0m \u001b[1;33m=\u001b[0m \u001b[0me\u001b[0m\u001b[1;33m.\u001b[0m\u001b[0mmessage\u001b[0m \u001b[1;33m+\u001b[0m \u001b[1;33m(\u001b[0m\u001b[1;34m\" name: \"\u001b[0m \u001b[1;33m+\u001b[0m \u001b[0mname\u001b[0m \u001b[1;32mif\u001b[0m \u001b[0mname\u001b[0m \u001b[1;32mis\u001b[0m \u001b[1;32mnot\u001b[0m \u001b[1;32mNone\u001b[0m \u001b[1;32melse\u001b[0m \u001b[1;34m\"\"\u001b[0m\u001b[1;33m)\u001b[0m\u001b[1;33m\u001b[0m\u001b[1;33m\u001b[0m\u001b[0m\n\u001b[0;32m   6842\u001b[0m   \u001b[1;31m# pylint: disable=protected-access\u001b[0m\u001b[1;33m\u001b[0m\u001b[1;33m\u001b[0m\u001b[1;33m\u001b[0m\u001b[0m\n\u001b[1;32m-> 6843\u001b[1;33m   \u001b[0msix\u001b[0m\u001b[1;33m.\u001b[0m\u001b[0mraise_from\u001b[0m\u001b[1;33m(\u001b[0m\u001b[0mcore\u001b[0m\u001b[1;33m.\u001b[0m\u001b[0m_status_to_exception\u001b[0m\u001b[1;33m(\u001b[0m\u001b[0me\u001b[0m\u001b[1;33m.\u001b[0m\u001b[0mcode\u001b[0m\u001b[1;33m,\u001b[0m \u001b[0mmessage\u001b[0m\u001b[1;33m)\u001b[0m\u001b[1;33m,\u001b[0m \u001b[1;32mNone\u001b[0m\u001b[1;33m)\u001b[0m\u001b[1;33m\u001b[0m\u001b[1;33m\u001b[0m\u001b[0m\n\u001b[0m\u001b[0;32m   6844\u001b[0m   \u001b[1;31m# pylint: enable=protected-access\u001b[0m\u001b[1;33m\u001b[0m\u001b[1;33m\u001b[0m\u001b[1;33m\u001b[0m\u001b[0m\n\u001b[0;32m   6845\u001b[0m \u001b[1;33m\u001b[0m\u001b[0m\n",
      "\u001b[1;32m~\\anaconda3\\envs\\fysstk1\\lib\\site-packages\\six.py\u001b[0m in \u001b[0;36mraise_from\u001b[1;34m(value, from_value)\u001b[0m\n",
      "\u001b[1;31mInvalidArgumentError\u001b[0m: Incompatible shapes: [91,1,0] vs. [91,72,24] [Op:SquaredDifference]"
     ]
    }
   ],
   "source": [
    "\n",
    "mse = keras.metrics.mean_squared_error(y_valid, np.expand_dims(Y_pred, 1))\n",
    "print(mse.shape)\n",
    "print(np.mean(mse))"
   ]
  },
  {
   "cell_type": "markdown",
   "metadata": {},
   "source": [
    "Let's compare this performance with some baselines: naive predictions and a simple linear model:"
   ]
  },
  {
   "cell_type": "code",
   "execution_count": 96,
   "metadata": {},
   "outputs": [],
   "source": [
    "# print(X_valid[:, -1].shape)\n",
    "# Y_naive_pred = np.tile(X_valid[:, -1], 24) # take the last time step value, and repeat it 10 times\n",
    "# print(Y_naive_pred.shape)\n",
    "# print(y_valid.shape)\n",
    "# np.mean(keras.metrics.mean_squared_error(y_valid, Y_naive_pred))"
   ]
  },
  {
   "cell_type": "code",
   "execution_count": 15,
   "metadata": {
    "id": "O3y6rtjKOq64"
   },
   "outputs": [],
   "source": [
    "# X = X_valid#[-1:, :]\n",
    "# X = np.swapaxes(X, 1,2)\n",
    "# print(X.shape)\n",
    "\n",
    "# for step_ahead in range(horizon):\n",
    "#     y_pred_one = model.predict(X)\n",
    "#     print(f\"{y_pred_one.shape=}\")\n",
    "    \n",
    "#     # y_pred_one = y_pred_one[:, np.newaxis, :]\n",
    "#     # print(f\"{y_pred_one.shape=}\")\n",
    "    \n",
    "#     X = np.concatenate([X, y_pred_one], axis=1)\n",
    "\n",
    "# Y_pred = X[:, n_steps:, 0]"
   ]
  },
  {
   "cell_type": "code",
   "execution_count": 16,
   "metadata": {},
   "outputs": [],
   "source": [
    "# X_new = X_test[-1:, :]\n",
    "# print(X_new.shape)\n",
    "# Y_new = np.expand_dims(y_test[-1:, :], 2)\n",
    "# Y_pred = model.predict(X_new.swapaxes(1,2))#[..., np.newaxis]\n",
    "\n",
    "# print(Y_pred.shape)"
   ]
  },
  {
   "cell_type": "code",
   "execution_count": 17,
   "metadata": {},
   "outputs": [],
   "source": [
    "# plot_multiple_forecasts(X_new, Y_new, Y_pred)\n",
    "# plt.ylim(0.10,0.70)\n",
    "# plt.show()"
   ]
  },
  {
   "cell_type": "markdown",
   "metadata": {},
   "source": [
    "Now let's create an RNN that predicts all 10 next values at once:"
   ]
  },
  {
   "cell_type": "code",
   "execution_count": null,
   "metadata": {},
   "outputs": [],
   "source": []
  },
  {
   "cell_type": "code",
   "execution_count": null,
   "metadata": {},
   "outputs": [],
   "source": []
  },
  {
   "cell_type": "code",
   "execution_count": null,
   "metadata": {},
   "outputs": [],
   "source": []
  },
  {
   "cell_type": "markdown",
   "metadata": {
    "id": "ESgrz_CIOq65"
   },
   "source": [
    "Now let's create an RNN that predicts the next 10 steps at each time step. That is, instead of just forecasting time steps 72 to 72+9 based on time steps 0 to 71, it will forecast time steps 1 to 24 at time step 0, then time steps 2 to 11 at time step 1, and so on, and finally it will forecast time steps 72 to 72+9 at the last time step. Notice that the model is causal: when it makes predictions at any time step, it can only see past time steps."
   ]
  },
  {
   "cell_type": "code",
   "execution_count": 149,
   "metadata": {},
   "outputs": [],
   "source": [
    "Y = np.empty((time_series.shape[0], n_steps, horizon))\n",
    "for step_ahead in range(1, horizon + 1):\n",
    "    Y[..., step_ahead - 1] = time_series[..., step_ahead:step_ahead + n_steps, 0]\n"
   ]
  },
  {
   "cell_type": "code",
   "execution_count": 150,
   "metadata": {},
   "outputs": [
    {
     "data": {
      "text/plain": [
       "((476, 72, 1), (476, 72, 24))"
      ]
     },
     "execution_count": 150,
     "metadata": {},
     "output_type": "execute_result"
    }
   ],
   "source": [
    "X_train.shape, y_train.shape"
   ]
  },
  {
   "cell_type": "code",
   "execution_count": 151,
   "metadata": {},
   "outputs": [
    {
     "name": "stdout",
     "output_type": "stream",
     "text": [
      "Y.shape=(549, 72, 24)\n"
     ]
    }
   ],
   "source": [
    "np.random.seed(42)\n",
    "\n",
    "#n_steps = 48\n",
    "dataset_len = X_train.shape[0] + X_train.shape[1] + X_train.shape[2]\n",
    "\n",
    "Y = np.empty((dataset_len, n_steps, horizon))\n",
    "for step_ahead in range(1, horizon + 1):\n",
    "    Y[..., step_ahead - 1] = time_series[..., step_ahead:step_ahead + n_steps, 0]\n",
    "\n",
    "print(f\"{Y.shape=}\")\n",
    "Y_train = Y[:y_train.shape[0]]\n",
    "Y_valid = Y[y_train.shape[0]:y_train.shape[0]+y_valid.shape[0]]\n",
    "Y_test = Y[y_train.shape[0]+y_valid.shape[0]:]"
   ]
  },
  {
   "cell_type": "code",
   "execution_count": 152,
   "metadata": {},
   "outputs": [
    {
     "name": "stdout",
     "output_type": "stream",
     "text": [
      "(476, 72, 1) (476, 72, 24)\n",
      "(91, 72, 1) (73, 72, 24)\n",
      "(47, 72, 1) (0, 72, 24)\n"
     ]
    }
   ],
   "source": [
    "print(X_train.shape, Y_train.shape)\n",
    "print(X_valid.shape, Y_valid.shape)\n",
    "print(X_test.shape, Y_test.shape)"
   ]
  },
  {
   "cell_type": "code",
   "execution_count": 24,
   "metadata": {},
   "outputs": [
    {
     "name": "stdout",
     "output_type": "stream",
     "text": [
      "(44185, 96)\n",
      "(44185, 96)\n",
      "(34272, 72) (34272, 24)\n",
      "(6581, 72) (6581, 24)\n",
      "(3332, 72) (3332, 24)\n",
      "After\n",
      "(34272, 1, 72) (34272, 1, 24)\n",
      "(6581, 72) (6581, 24)\n",
      "(3332, 72) (3332, 24)\n"
     ]
    }
   ],
   "source": []
  },
  {
   "cell_type": "code",
   "execution_count": 162,
   "metadata": {},
   "outputs": [
    {
     "name": "stdout",
     "output_type": "stream",
     "text": [
      "(476, 72, 1)\n",
      "(476, 72, 24)\n",
      "Epoch 1/20\n",
      "5/5 [==============================] - 1s 202ms/step - loss: 0.0895 - val_loss: 0.0151\n",
      "Epoch 2/20\n",
      "5/5 [==============================] - 0s 36ms/step - loss: 0.0673 - val_loss: 0.0127\n",
      "Epoch 3/20\n",
      "5/5 [==============================] - 0s 37ms/step - loss: 0.0452 - val_loss: 0.0185\n",
      "Epoch 4/20\n",
      "5/5 [==============================] - 0s 36ms/step - loss: 0.0313 - val_loss: 0.0185\n",
      "Epoch 5/20\n",
      "5/5 [==============================] - ETA: 0s - loss: 0.0214\n",
      "Epoch 00005: ReduceLROnPlateau reducing learning rate to 0.0010000000474974513.\n",
      "5/5 [==============================] - 0s 36ms/step - loss: 0.0214 - val_loss: 0.0158\n",
      "Epoch 6/20\n",
      "5/5 [==============================] - 0s 39ms/step - loss: 0.0155 - val_loss: 0.0166\n",
      "Epoch 7/20\n",
      "5/5 [==============================] - 0s 39ms/step - loss: 0.0129 - val_loss: 0.0177\n",
      "Epoch 8/20\n",
      "4/5 [=======================>......] - ETA: 0s - loss: 0.0118\n",
      "Epoch 00008: ReduceLROnPlateau reducing learning rate to 0.0005000000237487257.\n",
      "5/5 [==============================] - 0s 45ms/step - loss: 0.0113 - val_loss: 0.0175\n",
      "Epoch 9/20\n",
      "5/5 [==============================] - 0s 46ms/step - loss: 0.0102 - val_loss: 0.0167\n",
      "Epoch 10/20\n",
      "5/5 [==============================] - 0s 38ms/step - loss: 0.0097 - val_loss: 0.0160\n",
      "Epoch 11/20\n",
      "4/5 [=======================>......] - ETA: 0s - loss: 0.0096\n",
      "Epoch 00011: ReduceLROnPlateau reducing learning rate to 0.0002500000118743628.\n",
      "5/5 [==============================] - 0s 40ms/step - loss: 0.0092 - val_loss: 0.0155\n",
      "Epoch 12/20\n",
      "5/5 [==============================] - 0s 40ms/step - loss: 0.0088 - val_loss: 0.0155\n",
      "Epoch 13/20\n",
      "5/5 [==============================] - 0s 40ms/step - loss: 0.0086 - val_loss: 0.0154\n",
      "Epoch 14/20\n",
      "4/5 [=======================>......] - ETA: 0s - loss: 0.0089\n",
      "Epoch 00014: ReduceLROnPlateau reducing learning rate to 0.0001250000059371814.\n",
      "5/5 [==============================] - 0s 39ms/step - loss: 0.0085 - val_loss: 0.0153\n",
      "Epoch 15/20\n",
      "5/5 [==============================] - 0s 38ms/step - loss: 0.0084 - val_loss: 0.0153\n",
      "Epoch 16/20\n",
      "5/5 [==============================] - 0s 39ms/step - loss: 0.0083 - val_loss: 0.0152\n",
      "Epoch 17/20\n",
      "4/5 [=======================>......] - ETA: 0s - loss: 0.0087\n",
      "Epoch 00017: ReduceLROnPlateau reducing learning rate to 6.25000029685907e-05.\n",
      "5/5 [==============================] - 0s 40ms/step - loss: 0.0083 - val_loss: 0.0151\n",
      "Epoch 18/20\n",
      "5/5 [==============================] - 0s 40ms/step - loss: 0.0082 - val_loss: 0.0150\n",
      "Epoch 19/20\n",
      "5/5 [==============================] - 0s 40ms/step - loss: 0.0082 - val_loss: 0.0150\n",
      "Epoch 20/20\n",
      "5/5 [==============================] - ETA: 0s - loss: 0.0081\n",
      "Epoch 00020: ReduceLROnPlateau reducing learning rate to 3.125000148429535e-05.\n",
      "5/5 [==============================] - 0s 39ms/step - loss: 0.0081 - val_loss: 0.0149\n"
     ]
    }
   ],
   "source": [
    "np.random.seed(42)\n",
    "tf.random.set_seed(42)\n",
    "\n",
    "eta = 0.002\n",
    "batch_size = 100\n",
    "\n",
    "model = keras.models.Sequential([\n",
    "    # keras.layers.LSTM(20, return_sequences=True, input_shape=[None, 1]),\n",
    "    keras.layers.LSTM(20, return_sequences=True, input_shape=[None, 1]),\n",
    "    # keras.layers.LSTM(20, return_sequences=True, input_shape=[None, 1]),\n",
    "    keras.layers.LSTM(20, return_sequences=True),\n",
    "    keras.layers.TimeDistributed(keras.layers.Dense(horizon))\n",
    "])\n",
    "\n",
    "learning_rate_reduction = ReduceLROnPlateau(monitor='val_loss', \n",
    "                                            patience=3, \n",
    "                                            verbose=1, \n",
    "                                            factor=0.5, \n",
    "                                            min_lr=0.000001)\n",
    "\n",
    "opt = tf.keras.optimizers.Adam(learning_rate=eta)\n",
    "model.compile(loss=\"mse\", optimizer=opt)\n",
    "\n",
    "callbacks = [learning_rate_reduction]\n",
    "\n",
    "print(X_train.shape)\n",
    "print(y_train.squeeze().shape)\n",
    "\n",
    "history = model.fit(X_train, y_train, \n",
    "                    epochs=20, shuffle=False, \n",
    "                    batch_size=batch_size,\n",
    "                    validation_data=(X_valid, y_valid),\n",
    "                    callbacks= callbacks)"
   ]
  },
  {
   "cell_type": "code",
   "execution_count": 163,
   "metadata": {},
   "outputs": [
    {
     "name": "stdout",
     "output_type": "stream",
     "text": [
      "3/3 [==============================] - 0s 6ms/step - loss: 0.0149\n"
     ]
    },
    {
     "data": {
      "image/png": "[encoded data removed]",
      "text/plain": [
       "<Figure size 432x288 with 1 Axes>"
      ]
     },
     "metadata": {
      "needs_background": "light"
     },
     "output_type": "display_data"
    }
   ],
   "source": [
    "model.evaluate(X_valid, y_valid)\n",
    "\n",
    "plot_learning_curves(history.history[\"loss\"], history.history[\"val_loss\"])\n",
    "plt.show()"
   ]
  },
  {
   "cell_type": "code",
   "execution_count": 180,
   "metadata": {},
   "outputs": [
    {
     "name": "stdout",
     "output_type": "stream",
     "text": [
      "X_test.shape: (47, 72, 1)\n",
      "y_test.shape: (47, 72, 24)\n",
      "X_new.shape: (1, 72, 1)\n",
      "Y_new.shape: (1, 24, 1)\n",
      "Y_pred.shape: (1, 72, 24)\n",
      "Y_pred[:, -1]: (1, 24)\n",
      "Y_pred[..., np.newaxis]: (1, 24, 1)\n"
     ]
    }
   ],
   "source": [
    "np.random.seed(43)\n",
    "\n",
    "# series = generate_time_series(1, 50 + 10)\n",
    "# X_new, Y_new = series[:, :50, :], series[:, 50:, :]\n",
    "\n",
    "#print(f\"{X_test.shape=}\")\n",
    "\n",
    "print(\"X_test.shape:\",X_test.shape)\n",
    "print(\"y_test.shape:\",y_test.shape)\n",
    "\n",
    "\n",
    "X_new = X_test[-1:, :, :]\n",
    "# Y_new = np.expand_dims(y_test[-1:, :], 2)\n",
    "Y_new = y_test[-1:, :, :]\n",
    "# Y_new = y_test[-1:, -1:, :].swapaxes(1,2)\n",
    "\n",
    "# Y_new = Y_new[..., np.newaxis].squeeze(0)\n",
    "Y_new = Y_new[:, -1]\n",
    "Y_new = Y_new[..., np.newaxis]\n",
    "\n",
    "\n",
    "print(\"X_new.shape:\",X_new.shape)\n",
    "print(\"Y_new.shape:\",Y_new.shape)\n",
    "\n",
    "Y_pred = model.predict(X_new)\n",
    "print(\"Y_pred.shape:\",Y_pred.shape)\n",
    "\n",
    "Y_pred = Y_pred[:, -1]\n",
    "print(\"Y_pred[:, -1]:\",Y_pred.shape)\n",
    "\n",
    "Y_pred = Y_pred[..., np.newaxis]\n",
    "print(\"Y_pred[..., np.newaxis]:\",Y_pred.shape)\n",
    "\n",
    "\n",
    "\n",
    "# Y_pred = model.predict(X_new)\n",
    "# print(f\"Before: {Y_pred.shape=}\")\n",
    "\n",
    "# Y_pred = Y_pred[:, -1][..., np.newaxis]\n",
    "\n",
    "# print(f\"{X_new.shape=}\")\n",
    "# print(f\"{Y_new.shape=}\")\n",
    "# print(f\"After: {Y_pred.shape=}\")"
   ]
  },
  {
   "cell_type": "code",
   "execution_count": 181,
   "metadata": {},
   "outputs": [
    {
     "name": "stdout",
     "output_type": "stream",
     "text": [
      "(1, 72, 1)\n",
      "(1, 24, 1)\n",
      "(1, 24, 1)\n"
     ]
    },
    {
     "data": {
      "image/png": "[encoded data removed]",
      "text/plain": [
       "<Figure size 432x288 with 1 Axes>"
      ]
     },
     "metadata": {
      "needs_background": "light"
     },
     "output_type": "display_data"
    }
   ],
   "source": [
    "print(X_new.shape)\n",
    "print(Y_new.shape)\n",
    "print(Y_pred.shape)\n",
    "\n",
    "plot_multiple_forecasts(X_new, Y_new, Y_pred)\n",
    "plt.ylim(0.10,0.70)\n",
    "plt.show()"
   ]
  }
 ],
 "metadata": {
  "interpreter": {
   "hash": "664767e83c7b06364e16bf4bb7694b1f8b5947c6e3e0843db3deeed47f8be06a"
  },
  "kernelspec": {
   "display_name": "Python 3.8.11 64-bit ('fysstk1': conda)",
   "language": "python",
   "name": "python3"
  },
  "language_info": {
   "codemirror_mode": {
    "name": "ipython",
    "version": 3
   },
   "file_extension": ".py",
   "mimetype": "text/x-python",
   "name": "python",
   "nbconvert_exporter": "python",
   "pygments_lexer": "ipython3",
   "version": "3.8.11"
  },
  "orig_nbformat": 4
 },
 "nbformat": 4,
 "nbformat_minor": 2
}
