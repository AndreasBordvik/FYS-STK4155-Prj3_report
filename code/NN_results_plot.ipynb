{
 "cells": [
  {
   "cell_type": "code",
   "execution_count": 1,
   "metadata": {},
   "outputs": [
    {
     "name": "stdout",
     "output_type": "stream",
     "text": [
      "Root directory: /home/arefrode/uio/fys-stk4155/projects/FYS-STK4155-Prj2_report/code\n"
     ]
    }
   ],
   "source": [
    "import numpy as np\n",
    "import pandas as pd\n",
    "from imageio import imread\n",
    "import matplotlib.pyplot as plt\n",
    "from matplotlib import cm\n",
    "import seaborn as sns\n",
    "import os\n",
    "import cv2\n",
    "from models import *\n",
    "from common import createTerrainData, create_X, standard_scaling_single, remove_intercept, load_model, create_img_patches\n",
    "from cmcrameri import cm\n",
    "\n",
    "\n",
    "print(f\"Root directory: {os.getcwd()}\")\n",
    "# plt.rcParams.update({\n",
    "#     \"text.usetex\": True,\n",
    "#     \"font.family\": \"serif\",\n",
    "#     \"font.serif\": [\"Palatino\"],\n",
    "#     \"font.size\": 10,\n",
    "# })\n",
    "\n",
    "#%matplotlib"
   ]
  },
  {
   "cell_type": "markdown",
   "metadata": {},
   "source": [
    "# Reading data and resizing"
   ]
  },
  {
   "cell_type": "code",
   "execution_count": null,
   "metadata": {},
   "outputs": [],
   "source": [
    "# Load the terrain\n",
    "terrain1_file = \"SRTM_data_Norway_1.tif\"\n",
    "terrain2_file = \"SRTM_data_Norway_2.tif\"\n",
    "terrain1 =  imread(f'{INPUT_DATA}{terrain1_file}')\n",
    "terrain2 = imread(f'{INPUT_DATA}{terrain2_file}')\n",
    "\n",
    "# Resizing the image\n",
    "rescale_factor = 0.1\n",
    "y_size = int(terrain1.shape[0] * rescale_factor)\n",
    "x_size = int(terrain1.shape[1] * rescale_factor)\n",
    "terrain1Resized = cv2.resize(terrain1, (x_size, y_size))\n",
    "terrain2Resized = cv2.resize(terrain2, (x_size, y_size))\n",
    "\n",
    "# Plotting terrain\n",
    "fig, (ax1, ax2) = plt.subplots(1, 2)\n",
    "ax1.title.set_text(\"Terrain over Norway 1 (Resized)\")\n",
    "ax1.set_xlabel(\"X\"); ax1.set_ylabel(\"Y\")\n",
    "surf1 = ax1.imshow(terrain1Resized, cmap='gray')\n",
    "ax2.title.set_text(\"Terrain over Norway 2 (Resized)\")\n",
    "ax2.set_xlabel(\"X\"); ax2.set_ylabel(\"Y\")\n",
    "surf2 = ax2.imshow(terrain2Resized, cmap='gray')\n",
    "plt.show()"
   ]
  },
  {
   "cell_type": "markdown",
   "metadata": {},
   "source": [
    "# Creating image patches and Terrain data selection"
   ]
  },
  {
   "cell_type": "code",
   "execution_count": null,
   "metadata": {},
   "outputs": [],
   "source": [
    "nXpatches = 3; nYpatches=6\n",
    "y_steps = int(terrain2Resized.shape[0] / nYpatches); print(y_steps)\n",
    "x_steps = int(terrain2Resized.shape[1] / nXpatches); print(x_steps)\n",
    "patches_1 = create_img_patches(terrain1Resized, y_steps, x_steps)\n",
    "#fig1 = plotTerrainPatches(patches_1, nYpatches, nXpatches, plotTitle=\"Terrain1 patches\")\n",
    "#plt.show()\n",
    "patches_2 = create_img_patches(terrain2Resized, y_steps, x_steps)\n",
    "#fig2 = plotTerrainPatches(patches_2, nYpatches, nXpatches, plotTitle=\"Terrain2 patches\")\n",
    "#plt.show()\n",
    "\n",
    "# Choosing two interesting terrain patches\n",
    "img1 = patches_1[2]\n",
    "img2 = patches_2[5]\n",
    "x1, y1, z1 = createTerrainData(img1)\n",
    "x2, y2, z2 = createTerrainData(img2)\n",
    "\n",
    "# Constructing the terrain data\n",
    "terrain_data = 1\n",
    "if terrain_data == 1: # Choosing terrain1*\n",
    "    x, y, z = x1, y1, z1.copy() \n",
    "    #z_min = np.min(z)\n",
    "    z_max = np.max(z)\n",
    "    z = z1\n",
    "\n",
    "elif terrain_data == 2: # Choosing terrain2\n",
    "    x, y, z = x2, y2, z2.copy() \n",
    "    #z_min = np.min(z)\n",
    "    z_max = np.max(z)\n",
    "    z = z2\n",
    "    \n",
    "z_flat = z.ravel(); z_flat = z_flat.reshape(-1,1)"
   ]
  },
  {
   "cell_type": "code",
   "execution_count": null,
   "metadata": {},
   "outputs": [],
   "source": [
    "deg = 10\n",
    "X = create_X(x, y, deg) # Design Matrix \n",
    "X = remove_intercept(X)\n",
    "print(\"Number of features:\", X.shape[1])\n",
    "X_scaled, _ = standard_scaling_single(X)\n",
    "z_scaled, z_scaler = standard_scaling_single(z.ravel().reshape(-1,1))\n",
    "        \n",
    "# Using fitted model to predict the terrain patch \n",
    "path_OLS = \"../data/models/best_OLS_model_degree_10_MSE_0.16814632605067817.pkl\"\n",
    "best_OLS_model = load_model(path_OLS)\n",
    "\n",
    "z_hat_OLS = best_OLS_model.predict(X_scaled).reshape(60,60)\n",
    "#z_hat_OLS = z_scaler.inverse_transform(z_hat_OLS.reshape(-1,1))\n",
    "#z_hat_OLS = z_hat_OLS.reshape((60,60))\n",
    "MSE_OLS = MSE(z_scaled, z_hat_OLS.flatten())\n",
    "print(z_hat_OLS.shape)\n",
    "print(\"OLS_MSE:\", MSE_OLS)"
   ]
  },
  {
   "cell_type": "markdown",
   "metadata": {},
   "source": [
    "# Best NN vs OLS"
   ]
  },
  {
   "cell_type": "code",
   "execution_count": null,
   "metadata": {},
   "outputs": [],
   "source": [
    "deg = 1\n",
    "X = create_X(x, y, deg) # Design Matrix \n",
    "X = remove_intercept(X)\n",
    "X_scaled, _ = standard_scaling_single(X)\n",
    "z_scaled, z_scaler = standard_scaling_single(z.ravel().reshape(-1,1))\n",
    "path= \"../data/models/the_very_best_model/\"\n",
    "filename = f\"{path}best_large_model_leaky_relu_mse_0.108.pkl\"\n",
    "best_NN_model = load_model(filename)\n",
    "z_hat_NN = best_NN_model.predict(X_scaled.copy()).reshape(60,60)\n",
    "# z_hat = z_scaler.inverse_transform(z_hat.reshape(-1,1))\n",
    "# z_hat = z_hat.reshape((y_steps,x_steps))\n",
    "# mean_val = np.round(np.mean(z_hat),decimals=1)\n",
    "# var_val = np.round(np.var(z_hat),decimals=1)\n",
    "MSE_NN = MSE(z_scaled, z_hat_NN.flatten())\n",
    "print(z_hat_NN.shape)\n",
    "print(\"NN_MSE:\", MSE_NN)"
   ]
  },
  {
   "cell_type": "code",
   "execution_count": null,
   "metadata": {},
   "outputs": [],
   "source": [
    "colormap = cm.vik\n",
    "\n",
    "# 2D plots\n",
    "plt.figure()\n",
    "fig, axes = plt.subplots(1, 3, sharex=True, sharey=True, figsize=(7,2))\n",
    "axes[0].imshow(z, cmap=colormap )\n",
    "axes[0].set_xlabel(\"Target terrain\")\n",
    "axes[0].set_xticks([])\n",
    "axes[0].set_yticks([])\n",
    "axes[1].imshow(z_hat_NN, cmap=colormap )\n",
    "axes[1].set_xlabel(f\"NN prediction\\nMSE: {np.around(MSE_NN, decimals=4)}\")\n",
    "axes[2].imshow(z_hat_OLS, cmap=colormap )\n",
    "axes[2].set_xlabel(f\"OLS prediction\\nMSE: {np.around(MSE_OLS, decimals=4)}\")\n",
    "plt.suptitle(\"Comparing NN with OLS predictions\")\n",
    "plt.savefig(\"../figures/NN_vs_OLS_2D.pdf\", bbox_inches='tight')\n",
    "plt.show()\n",
    "\n",
    "\n",
    "# 3D plots\n",
    "fig = plt.figure(figsize=(8,12))\n",
    "ax = fig.add_subplot(3,3,1, projection='3d')\n",
    "title = f\"Target terrain in 3D \"\n",
    "ax.title.set_text(title)\n",
    "#ax.set_xlabel(\"x\"); ax.set_ylabel(\"y\"); ax.set_zlabel(\"z\")\n",
    "ax.view_init(elev=-75., azim=-91)\n",
    "ax.plot_surface(x, y, z, cmap=colormap, linewidth = 0, antialiased=False)\n",
    "\n",
    "ax = fig.add_subplot(3,3,2, projection='3d')\n",
    "title = f\"NN prediction in 3D\\nMSE: {np.around(MSE_NN, decimals=4)}\"\n",
    "ax.title.set_text(title)\n",
    "# ax.set_xlabel(\"x\"); ax.set_ylabel(\"y\"); ax.set_zlabel(\"z\")\n",
    "ax.view_init(elev=-75., azim=-91)\n",
    "ax.plot_surface(x, y, z_hat_NN, cmap=colormap, linewidth = 0, antialiased=False)\n",
    "\n",
    "ax = fig.add_subplot(3,3,3, projection='3d')\n",
    "title = f\"OLS prediction in 3D\\nMSE: {np.around(MSE_OLS, decimals=4)}\"\n",
    "ax.title.set_text(title)\n",
    "# ax.set_xlabel(\"x\"); ax.set_ylabel(\"y\"); ax.set_zlabel(\"z\")\n",
    "ax.view_init(elev=-75., azim=-91)\n",
    "ax.plot_surface(x, y, z_hat_OLS, cmap=colormap, linewidth = 0, antialiased=False)\n",
    "\n",
    "plt.suptitle(\"Comparing NN with OLS predictions in 3D\")\n",
    "plt.tight_layout()\n",
    "plt.savefig(\"../figures/NN_vs_OLS_3D.pdf\", bbox_inches='tight')\n",
    "plt.show()"
   ]
  },
  {
   "cell_type": "markdown",
   "metadata": {},
   "source": [
    "# Parameters VS MSE - Sigmoid function"
   ]
  },
  {
   "cell_type": "code",
   "execution_count": null,
   "metadata": {},
   "outputs": [],
   "source": [
    "sigmoid_file = f\"{REPORT_DATA}PARAMETERS_sigmoid_results.csv\"\n",
    "sigmoid_results = pd.read_csv(sigmoid_file)\n",
    "\n",
    "relu_file = f\"{REPORT_DATA}PARAMETERS_relu_results.csv\"\n",
    "relu_results = pd.read_csv(relu_file)\n",
    "\n",
    "leaky_relu_file = f\"{REPORT_DATA}PARAMETERS_leaky_relu_results.csv\"\n",
    "leaky_relu_results = pd.read_csv(leaky_relu_file)\n",
    "\n",
    "# Plot\n",
    "fig, [ax1, ax2, ax3] = plt.subplots(3, figsize=(5,7))\n",
    "plt.suptitle(\"Grid search - own NN\\nMSE relative to the number of parameters\")\n",
    "sns.pointplot(data=sigmoid_results, x=\"parameters_own_NN\", y=\"MSE_own_NN\", ax=ax1) #categorical plot\n",
    "sns.pointplot(data=relu_results, x=\"parameters_own_NN\", y=\"MSE_own_NN\", ax=ax2) #categorical plot\n",
    "sns.pointplot(data=leaky_relu_results, x=\"parameters_own_NN\", y=\"MSE_own_NN\", ax=ax3) #categorical plot\n",
    "ax1.set_xlabel(\"\")\n",
    "ax2.set_xlabel(\"\")\n",
    "ax3.set_xlabel(\"Number of parameters\")\n",
    "ax1.set_ylabel(\"MSE using sigmoid\")\n",
    "ax2.set_ylabel(\"MSE using RELU\")\n",
    "ax3.set_ylabel(\"MSE using Leaky RELU\")\n",
    "plt.savefig(f\"{REPORT_FIGURES}NN_MSE_vs_Parameters.pdf\")\n",
    "plt.show()"
   ]
  },
  {
   "cell_type": "markdown",
   "metadata": {},
   "source": [
    "# Our NN vs Tensorflow - Large architecture using Leaky RELU"
   ]
  },
  {
   "cell_type": "code",
   "execution_count": 2,
   "metadata": {},
   "outputs": [
    {
     "data": {
      "image/png": "[encoded data removed]",
      "text/plain": [
       "<Figure size 720x288 with 1 Axes>"
      ]
     },
     "metadata": {
      "needs_background": "light"
     },
     "output_type": "display_data"
    }
   ],
   "source": [
    "NN_vs_TF_file = f\"{REPORT_DATA}NN_vs_TF_large_leaky_relu.csv\"\n",
    "NN_vs_TF_results = pd.read_csv(NN_vs_TF_file)\n",
    "x = np.arange(NN_vs_TF_results.shape[0])\n",
    "y_nn = NN_vs_TF_results[\"MSE_own_NN\"].to_numpy()\n",
    "y_tf = NN_vs_TF_results[\"MSE_tensorflow\"].to_numpy()\n",
    "\n",
    "plt.figure(figsize=(10,4))\n",
    "plt.plot(x,y_nn, label=f\"Own NN\")\n",
    "plt.plot(x,y_tf, label=f\"Tensorflow\")\n",
    "plt.legend()\n",
    "plt.ylabel(\"MSE \\nSorted descending relative to own NN\")\n",
    "plt.xlabel(\"Epochs\")\n",
    "plt.title(\"Own NN vs Tensorflow - Model performance relative to the grid search parameters\\nLarge models using Leaky RELU\")\n",
    "plt.savefig(f\"{REPORT_FIGURES}Own_NN_vs_Tensorflow_Leaky_RELU_Large_architecture.pdf\")\n",
    "plt.show()\n",
    "\n"
   ]
  },
  {
   "cell_type": "code",
   "execution_count": null,
   "metadata": {},
   "outputs": [],
   "source": []
  }
 ],
 "metadata": {
  "interpreter": {
   "hash": "664767e83c7b06364e16bf4bb7694b1f8b5947c6e3e0843db3deeed47f8be06a"
  },
  "kernelspec": {
   "display_name": "Python 3.8.11 64-bit ('fysstk1': conda)",
   "name": "python3"
  },
  "language_info": {
   "codemirror_mode": {
    "name": "ipython",
    "version": 3
   },
   "file_extension": ".py",
   "mimetype": "text/x-python",
   "name": "python",
   "nbconvert_exporter": "python",
   "pygments_lexer": "ipython3",
   "version": "3.9.7"
  },
  "orig_nbformat": 4
 },
 "nbformat": 4,
 "nbformat_minor": 2
}
