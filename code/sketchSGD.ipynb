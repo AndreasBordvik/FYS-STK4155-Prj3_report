{
 "cells": [
  {
   "cell_type": "code",
   "execution_count": 1,
   "metadata": {},
   "outputs": [
    {
     "name": "stdout",
     "output_type": "stream",
     "text": [
      "Number of minibatches: 23.0\n",
      "Using learning rate scheduler with initial learning rate: 0.01\n",
      "[[ 0.45945576]\n",
      " [ 2.03848686]\n",
      " [ 1.29176093]\n",
      " [-0.26991551]\n",
      " [-1.08446026]\n",
      " [-1.18331525]\n",
      " [ 2.73549097]\n",
      " [-0.68914536]\n",
      " [ 0.63176637]\n",
      " [-0.74215667]\n",
      " [-0.58040533]\n",
      " [ 0.48675633]\n",
      " [ 0.65554228]\n",
      " [-1.0605555 ]\n",
      " [-0.0183737 ]\n",
      " [-1.67968043]\n",
      " [ 0.75375443]\n",
      " [ 0.16755203]\n",
      " [-1.53868823]\n",
      " [ 0.07445346]\n",
      " [-0.21297361]\n",
      " [ 0.60819648]\n",
      " [-0.05635564]\n",
      " [ 0.01368971]\n",
      " [ 0.75510727]\n",
      " [-0.44556403]\n",
      " [ 1.11935797]\n",
      " [-0.14590972]\n",
      " [ 0.51328984]\n",
      " [-1.20208134]]\n"
     ]
    },
    {
     "data": {
      "text/plain": [
       "0.45029480688142715"
      ]
     },
     "execution_count": 1,
     "metadata": {},
     "output_type": "execute_result"
    }
   ],
   "source": [
    "from sklearn.datasets import load_breast_cancer\n",
    "from sklearn.model_selection import train_test_split\n",
    "import matplotlib.pyplot as plt\n",
    "from sklearn.preprocessing import StandardScaler\n",
    "import autograd.numpy as np\n",
    "from autograd import grad\n",
    "from common import *\n",
    "\n",
    "import numpy as np \n",
    "%matplotlib inline\n",
    "\n",
    "def cost_MSE(X,y,theta, lmb=0):\n",
    "    return ((y - X @ theta)**2).sum() + lmb*(theta**2).sum()\n",
    "\n",
    "d_cost_MSE = grad(cost_MSE, 2)\n",
    "\n",
    "def step_length(t, t0, t1):\n",
    "    return t0/(t+t1)\n",
    "\n",
    "def new_sgd(X_train, t_train, theta, n_epoch, batch_size, eta, lr_scheduler=False, lmb=0):\n",
    "    n_batches = np.ceil(X_train.shape[0] / batch_size)\n",
    "    print(f\"Number of minibatches: {n_batches}\")\n",
    "    \n",
    "    if lr_scheduler:\n",
    "        t0 = 1.; t1 = 100\n",
    "        eta = t0/t1\n",
    "        \n",
    "    print(f\"Using learning rate scheduler with initial learning rate: {eta}\")\n",
    "\n",
    "    indicies = np.arange(X_train.shape[0])\n",
    "    \n",
    "    print(theta)\n",
    "    \n",
    "    for epoch in range(n_epoch):\n",
    "        np.random.shuffle(indicies)\n",
    "        minibatches_idx = np.array_split(indicies, n_batches)\n",
    "        \n",
    "        for minibatch in range(len(minibatches_idx)):\n",
    "            \n",
    "            \n",
    "            xi = np.take(X_train, minibatches_idx[minibatch],axis=0)\n",
    "            yi = np.take(t_train, minibatches_idx[minibatch],axis=0).reshape(-1,1)\n",
    "\n",
    "            gradients = (2./xi.shape[0])*d_cost_MSE(xi, yi, theta, lmb)\n",
    "            theta = theta - eta*gradients\n",
    "\n",
    "            if lr_scheduler:\n",
    "                t = epoch*n_batches+epoch\n",
    "                eta = step_length(t, t0, t1)\n",
    "                #eta = learning_scheduler(eta, epoch*batch_counter)\n",
    "            \n",
    "            \n",
    "    return theta.ravel()\n",
    "   \n",
    "cancer = load_breast_cancer()\n",
    "\n",
    "X_train, X_test, y_train, y_test = train_test_split(cancer.data,cancer.target,test_size=0.2,random_state=0)\n",
    "\n",
    "scaler = StandardScaler()\n",
    "scaler.fit(X_train)\n",
    "X_train_scaled = scaler.transform(X_train)\n",
    "X_test_scaled = scaler.transform(X_test)\n",
    "init_theta = np.random.randn(X_train_scaled.shape[1],1)\n",
    "new_theta = new_sgd(X_train_scaled, y_train, init_theta, n_epoch= 100, batch_size= 20, eta =  0.01)\n",
    "\n",
    "MSE(y_test, X_test_scaled@new_theta)\n"
   ]
  },
  {
   "cell_type": "code",
   "execution_count": null,
   "metadata": {},
   "outputs": [],
   "source": []
  },
  {
   "cell_type": "code",
   "execution_count": null,
   "metadata": {},
   "outputs": [],
   "source": []
  }
 ],
 "metadata": {
  "interpreter": {
   "hash": "20551ddceb59dc51fa628b42bb2a7289171df926f90359af355cededb82457a3"
  },
  "kernelspec": {
   "display_name": "Python 3.9.7 64-bit ('in5520': conda)",
   "language": "python",
   "name": "python3"
  },
  "language_info": {
   "codemirror_mode": {
    "name": "ipython",
    "version": 3
   },
   "file_extension": ".py",
   "mimetype": "text/x-python",
   "name": "python",
   "nbconvert_exporter": "python",
   "pygments_lexer": "ipython3",
   "version": "3.7.11"
  },
  "orig_nbformat": 4
 },
 "nbformat": 4,
 "nbformat_minor": 2
}
