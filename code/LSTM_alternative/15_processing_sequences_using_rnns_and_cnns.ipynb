{
  "cells": [
    {
      "cell_type": "markdown",
      "metadata": {
        "id": "StJG-7SNOq6n"
      },
      "source": [
        "**Chapter 15 – Processing Sequences Using RNNs and CNNs**"
      ]
    },
    {
      "cell_type": "markdown",
      "metadata": {
        "id": "yLxMn3UiOq6r"
      },
      "source": [
        "_This notebook contains all the sample code in chapter 15._"
      ]
    },
    {
      "cell_type": "markdown",
      "metadata": {
        "id": "jHmng4YnOq6r"
      },
      "source": [
        "<table align=\"left\">\n",
        "  <td>\n",
        "    <a href=\"https://colab.research.google.com/github/ageron/handson-ml2/blob/master/15_processing_sequences_using_rnns_and_cnns.ipynb\" target=\"_parent\"><img src=\"https://colab.research.google.com/assets/colab-badge.svg\" alt=\"Open In Colab\"/></a>\n",
        "  </td>\n",
        "  <td>\n",
        "    <a target=\"_blank\" href=\"https://kaggle.com/kernels/welcome?src=https://github.com/ageron/handson-ml2/blob/master/15_processing_sequences_using_rnns_and_cnns.ipynb\"><img src=\"https://kaggle.com/static/images/open-in-kaggle.svg\" /></a>\n",
        "  </td>\n",
        "</table>"
      ]
    },
    {
      "cell_type": "markdown",
      "metadata": {
        "id": "lJe1kQLHOq6s"
      },
      "source": [
        "# Setup"
      ]
    },
    {
      "cell_type": "markdown",
      "metadata": {
        "id": "YRGrxnmeOq6s"
      },
      "source": [
        "First, let's import a few common modules, ensure MatplotLib plots figures inline and prepare a function to save the figures. We also check that Python 3.5 or later is installed (although Python 2.x may work, it is deprecated so we strongly recommend you use Python 3 instead), as well as Scikit-Learn ≥0.20 and TensorFlow ≥2.0."
      ]
    },
    {
      "cell_type": "code",
      "execution_count": 1,
      "metadata": {
        "colab": {
          "base_uri": "https://localhost:8080/"
        },
        "id": "C35QMumUOq6t",
        "outputId": "f953ba90-c26c-4dd8-eab9-7fb0295bebfd"
      },
      "outputs": [
        {
          "name": "stdout",
          "output_type": "stream",
          "text": [
            "No GPU was detected. LSTMs and CNNs can be very slow without a GPU.\n"
          ]
        }
      ],
      "source": [
        "from sklearn.model_selection import train_test_split\n",
        "from sklearn.preprocessing import MinMaxScaler\n",
        "import pandas as pd\n",
        "\n",
        "# Python ≥3.5 is required\n",
        "import sys\n",
        "assert sys.version_info >= (3, 5)\n",
        "\n",
        "# Is this notebook running on Colab or Kaggle?\n",
        "IS_COLAB = \"google.colab\" in sys.modules\n",
        "IS_KAGGLE = \"kaggle_secrets\" in sys.modules\n",
        "\n",
        "# Scikit-Learn ≥0.20 is required\n",
        "import sklearn\n",
        "assert sklearn.__version__ >= \"0.20\"\n",
        "\n",
        "# TensorFlow ≥2.0 is required\n",
        "import tensorflow as tf\n",
        "from tensorflow import keras\n",
        "assert tf.__version__ >= \"2.0\"\n",
        "\n",
        "if not tf.config.list_physical_devices('GPU'):\n",
        "    print(\"No GPU was detected. LSTMs and CNNs can be very slow without a GPU.\")\n",
        "    if IS_COLAB:\n",
        "        print(\"Go to Runtime > Change runtime and select a GPU hardware accelerator.\")\n",
        "    if IS_KAGGLE:\n",
        "        print(\"Go to Settings > Accelerator and select GPU.\")\n",
        "\n",
        "# Common imports\n",
        "import numpy as np\n",
        "import os\n",
        "from pathlib import Path\n",
        "\n",
        "# to make this notebook's output stable across runs\n",
        "np.random.seed(42)\n",
        "tf.random.set_seed(42)\n",
        "\n",
        "# To plot pretty figures\n",
        "%matplotlib inline\n",
        "import matplotlib as mpl\n",
        "import matplotlib.pyplot as plt\n",
        "mpl.rc('axes', labelsize=14)\n",
        "mpl.rc('xtick', labelsize=12)\n",
        "mpl.rc('ytick', labelsize=12)\n",
        "\n",
        "# Where to save the figures\n",
        "PROJECT_ROOT_DIR = \".\"\n",
        "CHAPTER_ID = \"rnn\"\n",
        "IMAGES_PATH = os.path.join(PROJECT_ROOT_DIR, \"images\", CHAPTER_ID)\n",
        "os.makedirs(IMAGES_PATH, exist_ok=True)\n",
        "\n",
        "def save_fig(fig_id, tight_layout=True, fig_extension=\"png\", resolution=300):\n",
        "    path = os.path.join(IMAGES_PATH, fig_id + \".\" + fig_extension)\n",
        "    print(\"Saving figure\", fig_id)\n",
        "    if tight_layout:\n",
        "        plt.tight_layout()\n",
        "    plt.savefig(path, format=fig_extension, dpi=resolution)"
      ]
    },
    {
      "cell_type": "markdown",
      "metadata": {},
      "source": [
        "# Sliding window"
      ]
    },
    {
      "cell_type": "code",
      "execution_count": 18,
      "metadata": {},
      "outputs": [],
      "source": [
        "def create_time_series_data(raw_train_df, nbf_features, nbf_outputs, column_key, column_suffix=\"\", include_target_outputs=True):\n",
        "    nbf_columns = nbf_features + nbf_outputs\n",
        "    time_series_df, time_series = sliding_window_algorithm(raw_train_df, nbf_columns, nbf_features, nbf_outputs, column_key, column_suffix, include_target_outputs)\n",
        "    return time_series, time_series_df\n",
        "\n",
        "\n",
        "def sliding_window_algorithm(raw_data_df, nbf_columns, input_window, output_window, column_key, column_suffix, include_target_outputs, string_array=False):\n",
        "    raw_data = raw_data_df[column_key].to_numpy()\n",
        "    dim0 = raw_data.shape[0] - (nbf_columns - 1) # Number of time-slices\n",
        "    dim1 = nbf_columns # Time-step length including input window and output window\n",
        "    \n",
        "    if string_array:\n",
        "        data = np.empty((dim0,dim1), dtype=object) # Time series matrix\n",
        "    else:\n",
        "        data = np.zeros((dim0,dim1)) # Time series matrix\n",
        "\n",
        "    data[0, :] = raw_data[:dim1] # First initial sample/time-slice (n equals 0)\n",
        "    n = 1 # n is the count variable\n",
        "    \n",
        "    # Looping through the initial input data and constucting the \n",
        "    # time series data based on the sliding window approach. \n",
        "    # See the report for more descriptions\n",
        "    for j in range(dim1, raw_data.shape[0]):\n",
        "        data[n, :-1] = data[n-1, 1:]\n",
        "        data[n, nbf_columns-1:] = raw_data[j]\n",
        "        n += 1\n",
        "\n",
        "    if include_target_outputs:\n",
        "        # Creating dataframe    \n",
        "        feature_names = [f\"x{i}_{column_suffix}\" for i in range(1,input_window+1)]\n",
        "        if(output_window > 1):\n",
        "            output_names = [f\"y{i}_{column_suffix}\" for i in range(1,output_window+1)]    \n",
        "        else:\n",
        "            output_names = [f\"y_{column_suffix}\"]\n",
        "        \n",
        "        time_series_df = pd.DataFrame(data=data, columns=feature_names+output_names)\n",
        "    else:\n",
        "        feature_names = [f\"x{i}_{column_suffix}\" for i in range(1,input_window+2)]\n",
        "        time_series_df = pd.DataFrame(data=data, columns=feature_names)\n",
        "\n",
        "    return time_series_df, data"
      ]
    },
    {
      "cell_type": "markdown",
      "metadata": {
        "id": "l1wGABWoOq6u"
      },
      "source": [
        "# Basic RNNs"
      ]
    },
    {
      "cell_type": "markdown",
      "metadata": {
        "id": "A9mQwveeOq6v"
      },
      "source": [
        "## Generate the Dataset"
      ]
    },
    {
      "cell_type": "code",
      "execution_count": 47,
      "metadata": {},
      "outputs": [],
      "source": [
        "def generate_time_series(batch_size, n_steps):\n",
        "    freq1, freq2, offsets1, offsets2 = np.random.rand(4, batch_size, 1)\n",
        "    time = np.linspace(0, 1, n_steps)\n",
        "    series = 0.5 * np.sin((time - offsets1) * (freq1 * 10 + 10))  #   wave 1\n",
        "    series += 0.2 * np.sin((time - offsets2) * (freq2 * 20 + 20)) # + wave 2\n",
        "    series += 0.1 * (np.random.rand(batch_size, n_steps) - 0.5)   # + noise\n",
        "    return series[..., np.newaxis].astype(np.float32)"
      ]
    },
    {
      "cell_type": "code",
      "execution_count": null,
      "metadata": {
        "id": "DLlVsP0WOq6w"
      },
      "outputs": [],
      "source": [
        "np.random.seed(42)\n",
        "\n",
        "n_steps = 48\n",
        "series = generate_time_series(10000, n_steps + 1)\n",
        "\n",
        "\n",
        "X_train, y_train = series[:7000, :n_steps], series[:7000, -1]\n",
        "X_valid, y_valid = series[7000:9000, :n_steps], series[7000:9000, -1]\n",
        "X_test, y_test = series[9000:, :n_steps], series[9000:, -1]\n",
        "\n",
        "print(f\"{series.shape=}\")\n",
        "print(X_train.shape, y_train.shape)\n",
        "print(X_test.shape, y_test.shape)\n",
        "print(X_valid.shape, y_valid.shape)"
      ]
    },
    {
      "cell_type": "markdown",
      "metadata": {},
      "source": [
        "# Own Dataset"
      ]
    },
    {
      "cell_type": "code",
      "execution_count": 92,
      "metadata": {},
      "outputs": [
        {
          "name": "stdout",
          "output_type": "stream",
          "text": [
            "(44280, 7)\n"
          ]
        },
        {
          "data": {
            "text/html": [
              "<div>\n",
              "<style scoped>\n",
              "    .dataframe tbody tr th:only-of-type {\n",
              "        vertical-align: middle;\n",
              "    }\n",
              "\n",
              "    .dataframe tbody tr th {\n",
              "        vertical-align: top;\n",
              "    }\n",
              "\n",
              "    .dataframe thead th {\n",
              "        text-align: right;\n",
              "    }\n",
              "</style>\n",
              "<table border=\"1\" class=\"dataframe\">\n",
              "  <thead>\n",
              "    <tr style=\"text-align: right;\">\n",
              "      <th></th>\n",
              "      <th>NO5_price</th>\n",
              "      <th>NO5_load_actual</th>\n",
              "      <th>NO5_load_delta</th>\n",
              "      <th>NO5_generation_actual</th>\n",
              "      <th>NO5_generation_delta</th>\n",
              "      <th>dato_id</th>\n",
              "      <th>date_time</th>\n",
              "    </tr>\n",
              "  </thead>\n",
              "  <tbody>\n",
              "    <tr>\n",
              "      <th>44277</th>\n",
              "      <td>35.29</td>\n",
              "      <td>2490</td>\n",
              "      <td>-423</td>\n",
              "      <td>6910</td>\n",
              "      <td>-3275</td>\n",
              "      <td>2021-01-21 09:00:00+01:00</td>\n",
              "      <td>2021-01-21-09</td>\n",
              "    </tr>\n",
              "    <tr>\n",
              "      <th>44278</th>\n",
              "      <td>33.01</td>\n",
              "      <td>2499</td>\n",
              "      <td>-460</td>\n",
              "      <td>6568</td>\n",
              "      <td>-3186</td>\n",
              "      <td>2021-01-21 10:00:00+01:00</td>\n",
              "      <td>2021-01-21-10</td>\n",
              "    </tr>\n",
              "    <tr>\n",
              "      <th>44279</th>\n",
              "      <td>33.38</td>\n",
              "      <td>2460</td>\n",
              "      <td>-412</td>\n",
              "      <td>6722</td>\n",
              "      <td>-3267</td>\n",
              "      <td>2021-01-21 11:00:00+01:00</td>\n",
              "      <td>2021-01-21-11</td>\n",
              "    </tr>\n",
              "  </tbody>\n",
              "</table>\n",
              "</div>"
            ],
            "text/plain": [
              "       NO5_price  NO5_load_actual  NO5_load_delta  NO5_generation_actual  \\\n",
              "44277      35.29             2490            -423                   6910   \n",
              "44278      33.01             2499            -460                   6568   \n",
              "44279      33.38             2460            -412                   6722   \n",
              "\n",
              "       NO5_generation_delta                    dato_id      date_time  \n",
              "44277                 -3275  2021-01-21 09:00:00+01:00  2021-01-21-09  \n",
              "44278                 -3186  2021-01-21 10:00:00+01:00  2021-01-21-10  \n",
              "44279                 -3267  2021-01-21 11:00:00+01:00  2021-01-21-11  "
            ]
          },
          "metadata": {},
          "output_type": "display_data"
        },
        {
          "name": "stdout",
          "output_type": "stream",
          "text": [
            "*** (44280, 1)\n"
          ]
        }
      ],
      "source": [
        "# Training data\n",
        "dataset_df = pd.read_csv(\"MAIN_DATASET.csv\")[[\"NO5_price\", \"NO5_load_actual\",\"NO5_load_delta\", \"NO5_generation_actual\", \"NO5_generation_delta\", \"dato_id\",\"date_time\"]][:-7381]; print(dataset_df.shape)\n",
        "\n",
        "display(dataset_df.tail(3))\n",
        "\n",
        "\n",
        "scaler = MinMaxScaler()\n",
        "print(\"***\",dataset_df[\"NO5_price\"].values.reshape(-1,1).shape)\n",
        "\n",
        "dataset_df[\"NO5_price\"] = scaler.fit_transform(dataset_df[\"NO5_price\"].values.reshape(-1,1))\n",
        "dataset_df[\"NO5_load_actual\"] = scaler.fit_transform(dataset_df[\"NO5_load_actual\"].values.reshape(-1,1))\n",
        "dataset_df[\"NO5_load_delta\"] = scaler.fit_transform(dataset_df[\"NO5_load_delta\"].values.reshape(-1,1))\n",
        "dataset_df[\"NO5_generation_actual\"] = scaler.fit_transform(dataset_df[\"NO5_generation_actual\"].values.reshape(-1,1))\n",
        "dataset_df[\"NO5_generation_delta\"] = scaler.fit_transform(dataset_df[\"NO5_generation_delta\"].values.reshape(-1,1))\n",
        "\n",
        "# Forecast solutions\n",
        "# training_df, forcast_sol_df = train_test_split(training_df, shuffle=False, test_size=0.2, random_state=4155)\n",
        "\n",
        "# Displaying the loaded data\n",
        "# display(training_df.tail(3))\n",
        "# print(training_df.shape)\n",
        "# display(forcast_sol_df.head(3))\n",
        "# print(forcast_sol_df.shape)\n",
        "\n",
        "# print(training_df.max())\n",
        "\n",
        "# print(training_df.min())\n",
        "# print(forcast_sol_df.max())\n",
        "# print(forcast_sol_df.min())"
      ]
    },
    {
      "cell_type": "code",
      "execution_count": 93,
      "metadata": {
        "colab": {
          "base_uri": "https://localhost:8080/"
        },
        "id": "m6cvZzB_Oq6x",
        "outputId": "184b34ab-c250-4767-fda9-3bb49a0953b8"
      },
      "outputs": [
        {
          "name": "stdout",
          "output_type": "stream",
          "text": [
            "(44232, 49)\n",
            "(44232, 49)\n",
            "(34272, 48, 1) (34272, 1)\n",
            "(6581, 48, 1) (6581, 1)\n",
            "(3379, 48, 1) (3379, 1)\n"
          ]
        }
      ],
      "source": [
        "# Time series slicing parameters\n",
        "nbf_features = input_window = 48 \n",
        "nbf_outputs = output_window = 1\n",
        "\n",
        "# Creating time series traing and evaluation (test) data besed on sliding window approach\n",
        "time_series, time_series_df = create_time_series_data(dataset_df,                                                                             \n",
        "                                                      nbf_features, \n",
        "                                                      nbf_outputs, \n",
        "                                                      column_key=\"NO5_price\", \n",
        "                                                      column_suffix=\"DA\",\n",
        "                                                      include_target_outputs=True)\n",
        "#time_series_df.to_csv(\"TIMESERIES_VALIDATION.csv\")\n",
        "\n",
        "# Lag\n",
        "n_steps = 48\n",
        "\n",
        "# Displaying time series data\n",
        "time_series_df.index.name = \"t\"\n",
        "\n",
        "print(time_series.shape)\n",
        "print(time_series_df.shape)\n",
        "# print(time_series_df.columns)\n",
        "\n",
        "X_train, y_train = time_series[ :34272, :-1], time_series[ :34272, -1:]\n",
        "X_valid, y_valid = time_series[34272:34272+6581, :-1], time_series[34272:34272+6581, -1:]\n",
        "X_test, y_test = time_series[34272+6581:, :-1], time_series[34272+6581:, -1:]\n",
        "\n",
        "X_train = np.expand_dims(X_train, axis=2)\n",
        "X_valid = np.expand_dims(X_valid, axis=2)\n",
        "X_test = np.expand_dims(X_test, axis=2)\n",
        "\n",
        "print(X_train.shape, y_train.shape)\n",
        "print(X_valid.shape, y_valid.shape)\n",
        "print(X_test.shape, y_test.shape)"
      ]
    },
    {
      "cell_type": "code",
      "execution_count": 103,
      "metadata": {
        "colab": {
          "base_uri": "https://localhost:8080/",
          "height": 314
        },
        "id": "o3Zxfy6fOq6x",
        "outputId": "d8ad84dd-01e1-4ef9-87e8-39140b6161e1"
      },
      "outputs": [
        {
          "name": "stdout",
          "output_type": "stream",
          "text": [
            "Saving figure time_series_plot\n"
          ]
        },
        {
          "data": {
            "image/png": "[encoded data removed]",
            "text/plain": [
              "<Figure size 864x288 with 3 Axes>"
            ]
          },
          "metadata": {
            "needs_background": "light"
          },
          "output_type": "display_data"
        }
      ],
      "source": [
        "def plot_series(series, y=None, y_pred=None, x_label=\"$t$\", y_label=\"$x(t)$\", legend=True):\n",
        "    plt.plot(series, \".-\")\n",
        "    if y is not None:\n",
        "        plt.plot(n_steps, y, \"bo\", label=\"Target\")\n",
        "    if y_pred is not None:\n",
        "        plt.plot(n_steps, y_pred, \"rx\", markersize=10, label=\"Prediction\")\n",
        "    plt.grid(True)\n",
        "    if x_label:\n",
        "        plt.xlabel(x_label, fontsize=16)\n",
        "    if y_label:\n",
        "        plt.ylabel(y_label, fontsize=16, rotation=0)\n",
        "    plt.hlines(0, 0, 100, linewidth=1)\n",
        "    plt.axis([0, n_steps + 1, -1, 1])\n",
        "    plt.ylim(0,1)\n",
        "    if legend and (y or y_pred):\n",
        "        plt.legend(fontsize=14, loc=\"upper left\")\n",
        "\n",
        "fig, axes = plt.subplots(nrows=1, ncols=3, sharey=True, figsize=(12, 4))\n",
        "for col in range(3):\n",
        "    plt.sca(axes[col])\n",
        "    plot_series(X_valid[col, :, 0], y_valid[col, 0],\n",
        "                y_label=(\"$x(t)$\" if col==0 else None),\n",
        "                legend=(col == 0))\n",
        "save_fig(\"time_series_plot\")\n",
        "plt.show()"
      ]
    },
    {
      "cell_type": "markdown",
      "metadata": {
        "id": "8kfqGkcKOq6x"
      },
      "source": [
        "**Note**: in this notebook, the blue dots represent targets, and red crosses represent predictions. In the book, I first used blue crosses for targets and red dots for predictions, then I reversed this later in the chapter. Sorry if this caused some confusion."
      ]
    },
    {
      "cell_type": "markdown",
      "metadata": {
        "id": "1wPxAcG6Oq6y"
      },
      "source": [
        "## Computing Some Baselines"
      ]
    },
    {
      "cell_type": "markdown",
      "metadata": {
        "id": "kQSO6NJ1Oq6y"
      },
      "source": [
        "Naive predictions (just predict the last observed value):"
      ]
    },
    {
      "cell_type": "code",
      "execution_count": 23,
      "metadata": {
        "colab": {
          "base_uri": "https://localhost:8080/"
        },
        "id": "LIRmAQcQOq6y",
        "outputId": "ce849c30-8243-458c-8bec-54c019428bfc"
      },
      "outputs": [
        {
          "data": {
            "text/plain": [
              "1.8073636193339164e-05"
            ]
          },
          "execution_count": 23,
          "metadata": {},
          "output_type": "execute_result"
        }
      ],
      "source": [
        "y_pred = X_valid[:, -1]\n",
        "np.mean(keras.losses.mean_squared_error(y_valid, y_pred))"
      ]
    },
    {
      "cell_type": "code",
      "execution_count": 24,
      "metadata": {
        "colab": {
          "base_uri": "https://localhost:8080/",
          "height": 293
        },
        "id": "_o4rUVrCOq6y",
        "outputId": "cd1b3653-7ebb-4966-e9b7-456de6c7dd5d"
      },
      "outputs": [
        {
          "data": {
            "image/png": "[encoded data removed]",
            "text/plain": [
              "<Figure size 432x288 with 1 Axes>"
            ]
          },
          "metadata": {
            "needs_background": "light"
          },
          "output_type": "display_data"
        }
      ],
      "source": [
        "plot_series(X_valid[0, :, 0], y_valid[0, 0], y_pred[0, 0])\n",
        "plt.show()"
      ]
    },
    {
      "cell_type": "markdown",
      "metadata": {
        "id": "F2gQlftFOq6z"
      },
      "source": [
        "Linear predictions:"
      ]
    },
    {
      "cell_type": "code",
      "execution_count": 25,
      "metadata": {
        "colab": {
          "base_uri": "https://localhost:8080/"
        },
        "id": "l0MoSca3Oq6z",
        "outputId": "4f5811ea-e9da-4175-aba7-9f56da8d1aa6"
      },
      "outputs": [
        {
          "name": "stdout",
          "output_type": "stream",
          "text": [
            "Epoch 1/20\n",
            "1071/1071 [==============================] - 1s 682us/step - loss: 0.0015 - val_loss: 9.2537e-05\n",
            "Epoch 2/20\n",
            "1071/1071 [==============================] - 1s 564us/step - loss: 7.5820e-04 - val_loss: 6.1483e-05\n",
            "Epoch 3/20\n",
            "1071/1071 [==============================] - 1s 605us/step - loss: 5.5880e-04 - val_loss: 4.7448e-05\n",
            "Epoch 4/20\n",
            "1071/1071 [==============================] - 1s 588us/step - loss: 4.5985e-04 - val_loss: 4.1241e-05\n",
            "Epoch 5/20\n",
            "1071/1071 [==============================] - 1s 623us/step - loss: 3.9192e-04 - val_loss: 4.3713e-05\n",
            "Epoch 6/20\n",
            "1071/1071 [==============================] - 1s 642us/step - loss: 3.4989e-04 - val_loss: 3.2469e-05\n",
            "Epoch 7/20\n",
            "1071/1071 [==============================] - 1s 558us/step - loss: 3.2180e-04 - val_loss: 3.3781e-05\n",
            "Epoch 8/20\n",
            "1071/1071 [==============================] - 1s 560us/step - loss: 2.9939e-04 - val_loss: 3.0744e-05\n",
            "Epoch 9/20\n",
            "1071/1071 [==============================] - 1s 558us/step - loss: 2.8655e-04 - val_loss: 3.3547e-05\n",
            "Epoch 10/20\n",
            "1071/1071 [==============================] - 1s 545us/step - loss: 2.7472e-04 - val_loss: 3.5372e-05\n",
            "Epoch 11/20\n",
            "1071/1071 [==============================] - 1s 579us/step - loss: 2.6201e-04 - val_loss: 2.7102e-05\n",
            "Epoch 12/20\n",
            "1071/1071 [==============================] - 1s 550us/step - loss: 2.5348e-04 - val_loss: 2.4824e-05\n",
            "Epoch 13/20\n",
            "1071/1071 [==============================] - 1s 572us/step - loss: 2.4576e-04 - val_loss: 2.0854e-05\n",
            "Epoch 14/20\n",
            "1071/1071 [==============================] - 1s 563us/step - loss: 2.3588e-04 - val_loss: 2.0587e-05\n",
            "Epoch 15/20\n",
            "1071/1071 [==============================] - 1s 613us/step - loss: 2.3274e-04 - val_loss: 4.1794e-05\n",
            "Epoch 16/20\n",
            "1071/1071 [==============================] - 1s 590us/step - loss: 2.2812e-04 - val_loss: 2.0779e-05\n",
            "Epoch 17/20\n",
            "1071/1071 [==============================] - 1s 524us/step - loss: 2.2436e-04 - val_loss: 3.9242e-05\n",
            "Epoch 18/20\n",
            "1071/1071 [==============================] - 1s 578us/step - loss: 2.2201e-04 - val_loss: 2.0412e-05\n",
            "Epoch 19/20\n",
            "1071/1071 [==============================] - 1s 561us/step - loss: 2.1571e-04 - val_loss: 1.8398e-05\n",
            "Epoch 20/20\n",
            "1071/1071 [==============================] - 1s 530us/step - loss: 2.1241e-04 - val_loss: 1.9056e-05\n"
          ]
        }
      ],
      "source": [
        "np.random.seed(42)\n",
        "tf.random.set_seed(42)\n",
        "\n",
        "model = keras.models.Sequential([\n",
        "    keras.layers.Flatten(input_shape=[48, 1]),\n",
        "    keras.layers.Dense(1)\n",
        "])\n",
        "\n",
        "model.compile(loss=\"mse\", optimizer=\"adam\")\n",
        "history = model.fit(X_train, y_train, epochs=20,\n",
        "                    validation_data=(X_valid, y_valid))"
      ]
    },
    {
      "cell_type": "code",
      "execution_count": 26,
      "metadata": {
        "colab": {
          "base_uri": "https://localhost:8080/"
        },
        "id": "h5nNLPxJOq6z",
        "outputId": "060ca63e-fb70-4273-b27f-fc3a99dbc8e1"
      },
      "outputs": [
        {
          "name": "stdout",
          "output_type": "stream",
          "text": [
            "206/206 [==============================] - 0s 612us/step - loss: 1.9056e-05\n"
          ]
        },
        {
          "data": {
            "text/plain": [
              "1.9056185919907875e-05"
            ]
          },
          "execution_count": 26,
          "metadata": {},
          "output_type": "execute_result"
        }
      ],
      "source": [
        "model.evaluate(X_valid, y_valid)"
      ]
    },
    {
      "cell_type": "code",
      "execution_count": 27,
      "metadata": {
        "colab": {
          "base_uri": "https://localhost:8080/",
          "height": 291
        },
        "id": "fpzE8jyzOq60",
        "outputId": "2ddadb2b-bab6-4c74-bdc5-ba32cc458835"
      },
      "outputs": [
        {
          "data": {
            "image/png": "[encoded data removed]",
            "text/plain": [
              "<Figure size 432x288 with 1 Axes>"
            ]
          },
          "metadata": {
            "needs_background": "light"
          },
          "output_type": "display_data"
        }
      ],
      "source": [
        "def plot_learning_curves(loss, val_loss):\n",
        "    plt.plot(np.arange(len(loss)) + 0.5, loss, \"b.-\", label=\"Training loss\")\n",
        "    plt.plot(np.arange(len(val_loss)) + 1, val_loss, \"r.-\", label=\"Validation loss\")\n",
        "    plt.gca().xaxis.set_major_locator(mpl.ticker.MaxNLocator(integer=True))\n",
        "    #plt.axis([1, 20, 0, 0.05])\n",
        "    plt.legend(fontsize=14)\n",
        "    plt.xlabel(\"Epochs\")\n",
        "    plt.ylabel(\"Loss\")\n",
        "    plt.grid(True)\n",
        "\n",
        "plot_learning_curves(history.history[\"loss\"], history.history[\"val_loss\"])\n",
        "plt.show()"
      ]
    },
    {
      "cell_type": "code",
      "execution_count": 28,
      "metadata": {
        "colab": {
          "base_uri": "https://localhost:8080/",
          "height": 293
        },
        "id": "OVvlFuzxOq60",
        "outputId": "252cc042-bd05-4415-80cb-55cf1053a3ac"
      },
      "outputs": [
        {
          "data": {
            "image/png": "[encoded data removed]",
            "text/plain": [
              "<Figure size 432x288 with 1 Axes>"
            ]
          },
          "metadata": {
            "needs_background": "light"
          },
          "output_type": "display_data"
        }
      ],
      "source": [
        "y_pred = model.predict(X_valid)\n",
        "plot_series(X_valid[0, :, 0], y_valid[0, 0], y_pred[0, 0])\n",
        "plt.show()"
      ]
    },
    {
      "cell_type": "markdown",
      "metadata": {
        "id": "MNS_nNENOq60"
      },
      "source": [
        "## Using a Simple RNN"
      ]
    },
    {
      "cell_type": "code",
      "execution_count": 29,
      "metadata": {
        "colab": {
          "base_uri": "https://localhost:8080/"
        },
        "id": "4Z2WXvbzOq61",
        "outputId": "80bb6219-23f0-4b82-cad5-9d49afdb3221"
      },
      "outputs": [
        {
          "name": "stdout",
          "output_type": "stream",
          "text": [
            "Epoch 1/20\n",
            "1071/1071 [==============================] - 4s 4ms/step - loss: 0.0025 - val_loss: 0.0019\n",
            "Epoch 2/20\n",
            "1071/1071 [==============================] - 4s 4ms/step - loss: 5.7357e-04 - val_loss: 0.0012\n",
            "Epoch 3/20\n",
            "1071/1071 [==============================] - 4s 3ms/step - loss: 4.8961e-04 - val_loss: 7.6715e-04\n",
            "Epoch 4/20\n",
            "1071/1071 [==============================] - 3s 3ms/step - loss: 4.1266e-04 - val_loss: 3.9576e-04\n",
            "Epoch 5/20\n",
            "1071/1071 [==============================] - 3s 3ms/step - loss: 3.4893e-04 - val_loss: 2.3253e-04\n",
            "Epoch 6/20\n",
            "1071/1071 [==============================] - 3s 3ms/step - loss: 3.0016e-04 - val_loss: 2.0025e-04\n",
            "Epoch 7/20\n",
            "1071/1071 [==============================] - 3s 3ms/step - loss: 2.6597e-04 - val_loss: 1.6765e-04\n",
            "Epoch 8/20\n",
            "1071/1071 [==============================] - 3s 3ms/step - loss: 2.4345e-04 - val_loss: 7.8349e-05\n",
            "Epoch 9/20\n",
            "1071/1071 [==============================] - 3s 3ms/step - loss: 2.3147e-04 - val_loss: 8.2246e-05\n",
            "Epoch 10/20\n",
            "1071/1071 [==============================] - 4s 3ms/step - loss: 2.2646e-04 - val_loss: 9.6810e-05\n",
            "Epoch 11/20\n",
            "1071/1071 [==============================] - 3s 3ms/step - loss: 2.2440e-04 - val_loss: 7.1595e-05\n",
            "Epoch 12/20\n",
            "1071/1071 [==============================] - 3s 3ms/step - loss: 2.2517e-04 - val_loss: 4.5636e-05\n",
            "Epoch 13/20\n",
            "1071/1071 [==============================] - 4s 3ms/step - loss: 2.2565e-04 - val_loss: 8.4848e-05\n",
            "Epoch 14/20\n",
            "1071/1071 [==============================] - 4s 3ms/step - loss: 2.2493e-04 - val_loss: 5.2291e-05\n",
            "Epoch 15/20\n",
            "1071/1071 [==============================] - 4s 3ms/step - loss: 2.2443e-04 - val_loss: 6.0335e-05\n",
            "Epoch 16/20\n",
            "1071/1071 [==============================] - 4s 3ms/step - loss: 2.2428e-04 - val_loss: 1.7575e-04\n",
            "Epoch 17/20\n",
            "1071/1071 [==============================] - 4s 3ms/step - loss: 2.2512e-04 - val_loss: 1.0496e-04\n",
            "Epoch 18/20\n",
            "1071/1071 [==============================] - 4s 3ms/step - loss: 2.2456e-04 - val_loss: 1.1305e-04\n",
            "Epoch 19/20\n",
            "1071/1071 [==============================] - 4s 3ms/step - loss: 2.2421e-04 - val_loss: 7.0817e-05\n",
            "Epoch 20/20\n",
            "1071/1071 [==============================] - 4s 3ms/step - loss: 2.2500e-04 - val_loss: 1.0739e-04\n"
          ]
        }
      ],
      "source": [
        "np.random.seed(42)\n",
        "tf.random.set_seed(42)\n",
        "\n",
        "model = keras.models.Sequential([\n",
        "    keras.layers.SimpleRNN(1, input_shape=[None, 1])\n",
        "])\n",
        "\n",
        "optimizer = keras.optimizers.Adam(learning_rate=0.005)\n",
        "model.compile(loss=\"mse\", optimizer=optimizer)\n",
        "history = model.fit(X_train, y_train, epochs=20,\n",
        "                    validation_data=(X_valid, y_valid))"
      ]
    },
    {
      "cell_type": "code",
      "execution_count": 30,
      "metadata": {
        "colab": {
          "base_uri": "https://localhost:8080/"
        },
        "id": "-QZaIf9EOq61",
        "outputId": "f8aa2d93-d8b9-4d0c-a94b-b2d92c045d1d"
      },
      "outputs": [
        {
          "name": "stdout",
          "output_type": "stream",
          "text": [
            "206/206 [==============================] - 0s 2ms/step - loss: 1.0739e-04\n"
          ]
        },
        {
          "data": {
            "text/plain": [
              "0.00010738553100964054"
            ]
          },
          "execution_count": 30,
          "metadata": {},
          "output_type": "execute_result"
        }
      ],
      "source": [
        "model.evaluate(X_valid, y_valid)"
      ]
    },
    {
      "cell_type": "code",
      "execution_count": 31,
      "metadata": {
        "colab": {
          "base_uri": "https://localhost:8080/",
          "height": 0
        },
        "id": "bmywd3I-Oq61",
        "outputId": "03226be2-088b-4052-85ed-f2c170dbaca1"
      },
      "outputs": [
        {
          "data": {
            "image/png": "[encoded data removed]",
            "text/plain": [
              "<Figure size 432x288 with 1 Axes>"
            ]
          },
          "metadata": {
            "needs_background": "light"
          },
          "output_type": "display_data"
        }
      ],
      "source": [
        "plot_learning_curves(history.history[\"loss\"], history.history[\"val_loss\"])\n",
        "plt.show()"
      ]
    },
    {
      "cell_type": "code",
      "execution_count": 32,
      "metadata": {
        "colab": {
          "base_uri": "https://localhost:8080/",
          "height": 0
        },
        "id": "3OTgNvhLOq61",
        "outputId": "f9c9d36d-860e-421e-b7e0-84781885618c"
      },
      "outputs": [
        {
          "data": {
            "image/png": "[encoded data removed]",
            "text/plain": [
              "<Figure size 432x288 with 1 Axes>"
            ]
          },
          "metadata": {
            "needs_background": "light"
          },
          "output_type": "display_data"
        }
      ],
      "source": [
        "y_pred = model.predict(X_valid)\n",
        "plot_series(X_valid[0, :, 0], y_valid[0, 0], y_pred[0, 0])\n",
        "plt.show()"
      ]
    },
    {
      "cell_type": "markdown",
      "metadata": {
        "id": "B4RrrUvVOq61"
      },
      "source": [
        "## Deep RNNs"
      ]
    },
    {
      "cell_type": "code",
      "execution_count": 33,
      "metadata": {
        "colab": {
          "base_uri": "https://localhost:8080/",
          "height": 588
        },
        "id": "e97yZTXHOq61",
        "outputId": "b94d9ff1-cabb-45b6-fabf-4026657ed157"
      },
      "outputs": [
        {
          "name": "stdout",
          "output_type": "stream",
          "text": [
            "Epoch 1/20\n",
            "1071/1071 [==============================] - 12s 11ms/step - loss: 0.0093 - val_loss: 0.0013\n",
            "Epoch 2/20\n",
            "1071/1071 [==============================] - 12s 11ms/step - loss: 8.0999e-04 - val_loss: 0.0165\n",
            "Epoch 3/20\n",
            "1071/1071 [==============================] - 12s 11ms/step - loss: 4.4866e-04 - val_loss: 0.0174\n",
            "Epoch 4/20\n",
            "1071/1071 [==============================] - 12s 11ms/step - loss: 4.0357e-04 - val_loss: 0.0037\n",
            "Epoch 5/20\n",
            "1071/1071 [==============================] - 12s 11ms/step - loss: 3.1222e-04 - val_loss: 1.9353e-04\n",
            "Epoch 6/20\n",
            "1071/1071 [==============================] - 12s 11ms/step - loss: 3.0098e-04 - val_loss: 1.1190e-04\n",
            "Epoch 7/20\n",
            "1071/1071 [==============================] - 12s 11ms/step - loss: 2.5741e-04 - val_loss: 1.0650e-04\n",
            "Epoch 8/20\n",
            "1071/1071 [==============================] - 12s 11ms/step - loss: 2.5696e-04 - val_loss: 1.7533e-04\n",
            "Epoch 9/20\n",
            "1071/1071 [==============================] - 12s 11ms/step - loss: 2.3297e-04 - val_loss: 5.8474e-05\n",
            "Epoch 10/20\n",
            "1071/1071 [==============================] - 12s 11ms/step - loss: 2.4037e-04 - val_loss: 2.3208e-04\n",
            "Epoch 11/20\n",
            "1071/1071 [==============================] - 12s 11ms/step - loss: 2.3347e-04 - val_loss: 1.5247e-04\n",
            "Epoch 12/20\n",
            "1071/1071 [==============================] - 12s 11ms/step - loss: 2.1407e-04 - val_loss: 2.3151e-05\n",
            "Epoch 13/20\n",
            "1071/1071 [==============================] - 12s 11ms/step - loss: 2.1387e-04 - val_loss: 1.9975e-05\n",
            "Epoch 14/20\n",
            "1071/1071 [==============================] - 12s 11ms/step - loss: 2.1002e-04 - val_loss: 7.9022e-05\n",
            "Epoch 15/20\n",
            "1071/1071 [==============================] - 12s 11ms/step - loss: 2.1077e-04 - val_loss: 4.2706e-05\n",
            "Epoch 16/20\n",
            "1071/1071 [==============================] - 12s 11ms/step - loss: 2.0382e-04 - val_loss: 3.2998e-05\n",
            "Epoch 17/20\n",
            "1071/1071 [==============================] - 13s 12ms/step - loss: 2.0139e-04 - val_loss: 6.5799e-05\n",
            "Epoch 18/20\n",
            "1071/1071 [==============================] - 13s 12ms/step - loss: 1.9875e-04 - val_loss: 3.4502e-05\n",
            "Epoch 19/20\n",
            "1071/1071 [==============================] - 13s 12ms/step - loss: 2.0043e-04 - val_loss: 1.0463e-04\n",
            "Epoch 20/20\n",
            "1071/1071 [==============================] - 13s 12ms/step - loss: 1.9439e-04 - val_loss: 4.8015e-05\n"
          ]
        }
      ],
      "source": [
        "np.random.seed(42)\n",
        "tf.random.set_seed(42)\n",
        "\n",
        "model = keras.models.Sequential([\n",
        "    keras.layers.SimpleRNN(20, return_sequences=True, input_shape=[None, 1]),\n",
        "    keras.layers.SimpleRNN(20, return_sequences=True),\n",
        "    keras.layers.SimpleRNN(1)\n",
        "])\n",
        "\n",
        "model.compile(loss=\"mse\", optimizer=\"adam\")\n",
        "history = model.fit(X_train, y_train, epochs=20,\n",
        "                    validation_data=(X_valid, y_valid))"
      ]
    },
    {
      "cell_type": "code",
      "execution_count": 34,
      "metadata": {
        "id": "XStMBavAOq62"
      },
      "outputs": [
        {
          "name": "stdout",
          "output_type": "stream",
          "text": [
            "206/206 [==============================] - 1s 4ms/step - loss: 4.8015e-05\n"
          ]
        },
        {
          "data": {
            "text/plain": [
              "4.801488830707967e-05"
            ]
          },
          "execution_count": 34,
          "metadata": {},
          "output_type": "execute_result"
        }
      ],
      "source": [
        "model.evaluate(X_valid, y_valid)"
      ]
    },
    {
      "cell_type": "code",
      "execution_count": 35,
      "metadata": {
        "id": "XZkWFWOhOq62"
      },
      "outputs": [
        {
          "data": {
            "image/png": "[encoded data removed]",
            "text/plain": [
              "<Figure size 432x288 with 1 Axes>"
            ]
          },
          "metadata": {
            "needs_background": "light"
          },
          "output_type": "display_data"
        }
      ],
      "source": [
        "plot_learning_curves(history.history[\"loss\"], history.history[\"val_loss\"])\n",
        "plt.show()"
      ]
    },
    {
      "cell_type": "code",
      "execution_count": 36,
      "metadata": {
        "id": "2m1V4uN0Oq62"
      },
      "outputs": [
        {
          "data": {
            "image/png": "[encoded data removed]",
            "text/plain": [
              "<Figure size 432x288 with 1 Axes>"
            ]
          },
          "metadata": {
            "needs_background": "light"
          },
          "output_type": "display_data"
        }
      ],
      "source": [
        "y_pred = model.predict(X_valid)\n",
        "plot_series(X_valid[0, :, 0], y_valid[0, 0], y_pred[0, 0])\n",
        "plt.show()"
      ]
    },
    {
      "cell_type": "markdown",
      "metadata": {
        "id": "HYrAZdzKOq62"
      },
      "source": [
        "Make the second `SimpleRNN` layer return only the last output:"
      ]
    },
    {
      "cell_type": "code",
      "execution_count": 37,
      "metadata": {
        "id": "t-_FfZrGOq62"
      },
      "outputs": [
        {
          "name": "stdout",
          "output_type": "stream",
          "text": [
            "Epoch 1/20\n",
            "1071/1071 [==============================] - 8s 8ms/step - loss: 0.0030 - val_loss: 1.4453e-04\n",
            "Epoch 2/20\n",
            "1071/1071 [==============================] - 8s 8ms/step - loss: 2.9724e-04 - val_loss: 2.7762e-04\n",
            "Epoch 3/20\n",
            "1071/1071 [==============================] - 8s 8ms/step - loss: 2.4266e-04 - val_loss: 2.2994e-04\n",
            "Epoch 4/20\n",
            "1071/1071 [==============================] - 8s 7ms/step - loss: 2.2708e-04 - val_loss: 2.4227e-05\n",
            "Epoch 5/20\n",
            "1071/1071 [==============================] - 8s 8ms/step - loss: 2.2251e-04 - val_loss: 2.3563e-05\n",
            "Epoch 6/20\n",
            "1071/1071 [==============================] - 8s 8ms/step - loss: 2.2115e-04 - val_loss: 3.6177e-05\n",
            "Epoch 7/20\n",
            "1071/1071 [==============================] - 8s 8ms/step - loss: 2.1613e-04 - val_loss: 4.5063e-05\n",
            "Epoch 8/20\n",
            "1071/1071 [==============================] - 8s 8ms/step - loss: 2.1343e-04 - val_loss: 2.0079e-05\n",
            "Epoch 9/20\n",
            "1071/1071 [==============================] - 9s 8ms/step - loss: 1.9747e-04 - val_loss: 2.4114e-05\n",
            "Epoch 10/20\n",
            "1071/1071 [==============================] - 9s 8ms/step - loss: 1.9214e-04 - val_loss: 2.2556e-05\n",
            "Epoch 11/20\n",
            "1071/1071 [==============================] - 9s 8ms/step - loss: 1.9139e-04 - val_loss: 9.6416e-05\n",
            "Epoch 12/20\n",
            "1071/1071 [==============================] - 9s 9ms/step - loss: 1.9122e-04 - val_loss: 1.9992e-05\n",
            "Epoch 13/20\n",
            "1071/1071 [==============================] - 9s 9ms/step - loss: 1.8854e-04 - val_loss: 1.6952e-05\n",
            "Epoch 14/20\n",
            "1071/1071 [==============================] - 9s 8ms/step - loss: 1.8812e-04 - val_loss: 2.2661e-05\n",
            "Epoch 15/20\n",
            "1071/1071 [==============================] - 9s 8ms/step - loss: 1.8830e-04 - val_loss: 2.4980e-05\n",
            "Epoch 16/20\n",
            "1071/1071 [==============================] - 8s 8ms/step - loss: 1.8850e-04 - val_loss: 8.2536e-05\n",
            "Epoch 17/20\n",
            "1071/1071 [==============================] - 8s 7ms/step - loss: 1.8520e-04 - val_loss: 1.2242e-04\n",
            "Epoch 18/20\n",
            "1071/1071 [==============================] - 8s 8ms/step - loss: 1.8606e-04 - val_loss: 3.4338e-05\n",
            "Epoch 19/20\n",
            "1071/1071 [==============================] - 8s 8ms/step - loss: 1.8589e-04 - val_loss: 7.6613e-05\n",
            "Epoch 20/20\n",
            "1071/1071 [==============================] - 8s 8ms/step - loss: 1.8332e-04 - val_loss: 4.8507e-05\n"
          ]
        }
      ],
      "source": [
        "np.random.seed(42)\n",
        "tf.random.set_seed(42)\n",
        "\n",
        "model = keras.models.Sequential([\n",
        "    keras.layers.SimpleRNN(20, return_sequences=True, input_shape=[None, 1]),\n",
        "    keras.layers.SimpleRNN(20),\n",
        "    keras.layers.Dense(1)\n",
        "])\n",
        "\n",
        "model.compile(loss=\"mse\", optimizer=\"adam\")\n",
        "history = model.fit(X_train, y_train, epochs=20,\n",
        "                    validation_data=(X_valid, y_valid))"
      ]
    },
    {
      "cell_type": "code",
      "execution_count": 38,
      "metadata": {
        "id": "RnmlSlKlOq62"
      },
      "outputs": [
        {
          "name": "stdout",
          "output_type": "stream",
          "text": [
            "206/206 [==============================] - 1s 3ms/step - loss: 4.8507e-05\n"
          ]
        },
        {
          "data": {
            "text/plain": [
              "4.850681943935342e-05"
            ]
          },
          "execution_count": 38,
          "metadata": {},
          "output_type": "execute_result"
        }
      ],
      "source": [
        "model.evaluate(X_valid, y_valid)"
      ]
    },
    {
      "cell_type": "code",
      "execution_count": 39,
      "metadata": {
        "id": "5hhgHOELOq63"
      },
      "outputs": [
        {
          "data": {
            "image/png": "[encoded data removed]",
            "text/plain": [
              "<Figure size 432x288 with 1 Axes>"
            ]
          },
          "metadata": {
            "needs_background": "light"
          },
          "output_type": "display_data"
        }
      ],
      "source": [
        "plot_learning_curves(history.history[\"loss\"], history.history[\"val_loss\"])\n",
        "plt.show()"
      ]
    },
    {
      "cell_type": "code",
      "execution_count": 40,
      "metadata": {
        "id": "rKXECgdkOq63"
      },
      "outputs": [
        {
          "data": {
            "image/png": "[encoded data removed]",
            "text/plain": [
              "<Figure size 432x288 with 1 Axes>"
            ]
          },
          "metadata": {
            "needs_background": "light"
          },
          "output_type": "display_data"
        }
      ],
      "source": [
        "y_pred = model.predict(X_valid)\n",
        "plot_series(X_valid[0, :, 0], y_valid[0, 0], y_pred[0, 0])\n",
        "plt.show()"
      ]
    },
    {
      "cell_type": "markdown",
      "metadata": {
        "id": "HtbelVxDOq63"
      },
      "source": [
        "## Forecasting Several Steps Ahead"
      ]
    },
    {
      "cell_type": "code",
      "execution_count": 165,
      "metadata": {},
      "outputs": [
        {
          "name": "stdout",
          "output_type": "stream",
          "text": [
            "(44185, 96)\n",
            "(44185, 96)\n",
            "(34272, 72, 1) (34272, 24)\n",
            "(6581, 72, 1) (6581, 24)\n",
            "(3332, 72, 1) (3332, 24)\n"
          ]
        }
      ],
      "source": [
        "# Time series slicing parameters\n",
        "nbf_features = input_window = n_steps = 72 \n",
        "nbf_outputs = output_window = horizon = 24\n",
        "\n",
        "# Creating time series traing and evaluation (test) data besed on sliding window approach\n",
        "time_series, time_series_df = create_time_series_data(dataset_df,                                                                             \n",
        "                                                      nbf_features, \n",
        "                                                      nbf_outputs, \n",
        "                                                      column_key=\"NO5_price\", \n",
        "                                                      column_suffix=\"DA\",\n",
        "                                                      include_target_outputs=True)\n",
        "#time_series_df.to_csv(\"TIMESERIES_VALIDATION.csv\")\n",
        "\n",
        "\n",
        "# Displaying time series data\n",
        "time_series_df.index.name = \"t\"\n",
        "\n",
        "print(time_series.shape)\n",
        "print(time_series_df.shape)\n",
        "# print(time_series_df.columns)\n",
        "\n",
        "X_train, y_train = time_series[ :34272, :input_window], time_series[ :34272, input_window:]\n",
        "X_valid, y_valid = time_series[34272:34272+6581, :input_window], time_series[34272:34272+6581, input_window:]\n",
        "X_test, y_test = time_series[34272+6581:, :input_window], time_series[34272+6581:, input_window:]\n",
        "\n",
        "X_train = np.expand_dims(X_train, axis=2)\n",
        "X_valid = np.expand_dims(X_valid, axis=2)\n",
        "X_test = np.expand_dims(X_test, axis=2)\n",
        "\n",
        "print(X_train.shape, y_train.shape)\n",
        "print(X_valid.shape, y_valid.shape)\n",
        "print(X_test.shape, y_test.shape)"
      ]
    },
    {
      "cell_type": "code",
      "execution_count": 133,
      "metadata": {},
      "outputs": [
        {
          "name": "stdout",
          "output_type": "stream",
          "text": [
            "X_new.shape=(1, 72, 1)\n",
            "Y_new.shape=(1, 24, 1)\n"
          ]
        }
      ],
      "source": [
        "np.random.seed(43) # not 42, as it would give the first series in the train set\n",
        "series = generate_time_series(1, n_steps + horizon)\n",
        "X_new, Y_new = series[:, :n_steps], series[:, n_steps:]\n",
        "\n",
        "print(f\"{X_new.shape=}\")\n",
        "print(f\"{Y_new.shape=}\")\n",
        "\n",
        "X = X_new\n",
        "for step_ahead in range(horizon):\n",
        "    y_pred_one = model.predict(X[:, step_ahead:])[:, np.newaxis, :]\n",
        "    X = np.concatenate([X, y_pred_one], axis=1)\n",
        "\n",
        "Y_pred = X[:, n_steps:]"
      ]
    },
    {
      "cell_type": "code",
      "execution_count": 140,
      "metadata": {
        "id": "t8dSrsJbOq63"
      },
      "outputs": [
        {
          "data": {
            "text/html": [
              "<div>\n",
              "<style scoped>\n",
              "    .dataframe tbody tr th:only-of-type {\n",
              "        vertical-align: middle;\n",
              "    }\n",
              "\n",
              "    .dataframe tbody tr th {\n",
              "        vertical-align: top;\n",
              "    }\n",
              "\n",
              "    .dataframe thead th {\n",
              "        text-align: right;\n",
              "    }\n",
              "</style>\n",
              "<table border=\"1\" class=\"dataframe\">\n",
              "  <thead>\n",
              "    <tr style=\"text-align: right;\">\n",
              "      <th></th>\n",
              "      <th>NO5_price</th>\n",
              "      <th>date_time</th>\n",
              "    </tr>\n",
              "  </thead>\n",
              "  <tbody>\n",
              "    <tr>\n",
              "      <th>44279</th>\n",
              "      <td>0.291576</td>\n",
              "      <td>2021-01-21-11</td>\n",
              "    </tr>\n",
              "  </tbody>\n",
              "</table>\n",
              "</div>"
            ],
            "text/plain": [
              "       NO5_price      date_time\n",
              "44279   0.291576  2021-01-21-11"
            ]
          },
          "metadata": {},
          "output_type": "display_data"
        },
        {
          "name": "stdout",
          "output_type": "stream",
          "text": [
            "X_new.shape=(1, 72, 1)\n",
            "Y_new.shape=(1, 24, 1)\n"
          ]
        }
      ],
      "source": [
        "np.random.seed(43) # not 42, as it would give the first series in the train set\n",
        "\n",
        "X_new = X_test[-1:, :]\n",
        "Y_new = np.expand_dims(y_test[-1:, :], 2)\n",
        "\n",
        "display(dataset_df[[\"NO5_price\", \"date_time\"]].tail(1))\n",
        "\n",
        "print(f\"{X_new.shape=}\")\n",
        "print(f\"{Y_new.shape=}\")\n",
        "\n",
        "X = X_new\n",
        "for step_ahead in range(horizon):\n",
        "    y_pred_one = model.predict(X[:, step_ahead:])[:, np.newaxis, :]\n",
        "    X = np.concatenate([X, y_pred_one], axis=1)\n",
        "\n",
        "Y_pred = X[:, n_steps:]"
      ]
    },
    {
      "cell_type": "code",
      "execution_count": 135,
      "metadata": {
        "id": "G8a0durfOq63"
      },
      "outputs": [
        {
          "data": {
            "text/plain": [
              "(1, 24, 1)"
            ]
          },
          "execution_count": 135,
          "metadata": {},
          "output_type": "execute_result"
        }
      ],
      "source": [
        "Y_pred.shape"
      ]
    },
    {
      "cell_type": "code",
      "execution_count": 136,
      "metadata": {
        "id": "TPkffJjsOq64"
      },
      "outputs": [
        {
          "name": "stdout",
          "output_type": "stream",
          "text": [
            "Saving figure forecast_ahead_plot\n"
          ]
        },
        {
          "data": {
            "image/png": "[encoded data removed]",
            "text/plain": [
              "<Figure size 432x288 with 1 Axes>"
            ]
          },
          "metadata": {
            "needs_background": "light"
          },
          "output_type": "display_data"
        }
      ],
      "source": [
        "def plot_multiple_forecasts(X, Y, Y_pred):\n",
        "    n_steps = X.shape[1]\n",
        "    ahead = Y.shape[1]\n",
        "    plot_series(X[0, :, 0])\n",
        "    plt.plot(np.arange(n_steps, n_steps + ahead), Y[0, :, 0], \"bo-\", label=\"Actual\")\n",
        "    plt.plot(np.arange(n_steps, n_steps + ahead), Y_pred[0, :, 0], \"rx-\", label=\"Forecast\", markersize=10)\n",
        "    plt.ylim(0,1)\n",
        "    plt.axis([0, n_steps + ahead, -1, 1])\n",
        "    plt.legend(fontsize=14)\n",
        "\n",
        "plot_multiple_forecasts(X_new, Y_new, Y_pred)\n",
        "save_fig(\"forecast_ahead_plot\")\n",
        "plt.ylim(0.10,0.70)\n",
        "plt.show()"
      ]
    },
    {
      "cell_type": "markdown",
      "metadata": {
        "id": "5h8hZrHQOq64"
      },
      "source": [
        "Now let's use this model to predict the next 10 values. We first need to regenerate the sequences with 9 more time steps."
      ]
    },
    {
      "cell_type": "code",
      "execution_count": null,
      "metadata": {
        "id": "dAAiA-ADOq64"
      },
      "outputs": [],
      "source": [
        "np.random.seed(42)\n",
        "\n",
        "# n_steps = 50\n",
        "# series = generate_time_series(10000, n_steps + 10)\n",
        "# X_train, Y_train = series[:7000, :n_steps], series[:7000, -10:, 0]\n",
        "# X_valid, Y_valid = series[7000:9000, :n_steps], series[7000:9000, -10:, 0]\n",
        "# X_test, Y_test = series[9000:, :n_steps], series[9000:, -10:, 0]"
      ]
    },
    {
      "cell_type": "markdown",
      "metadata": {
        "id": "bmJHirS7Oq64"
      },
      "source": [
        "Now let's predict the next 10 values one by one:"
      ]
    },
    {
      "cell_type": "code",
      "execution_count": 145,
      "metadata": {
        "id": "O3y6rtjKOq64"
      },
      "outputs": [],
      "source": [
        "X = X_valid\n",
        "for step_ahead in range(horizon):\n",
        "    y_pred_one = model.predict(X)[:, np.newaxis, :]\n",
        "    X = np.concatenate([X, y_pred_one], axis=1)\n",
        "\n",
        "Y_pred = X[:, n_steps:, 0]"
      ]
    },
    {
      "cell_type": "code",
      "execution_count": 146,
      "metadata": {
        "id": "uAriAFIpOq64"
      },
      "outputs": [
        {
          "data": {
            "text/plain": [
              "(6581, 24)"
            ]
          },
          "execution_count": 146,
          "metadata": {},
          "output_type": "execute_result"
        }
      ],
      "source": [
        "Y_pred.shape"
      ]
    },
    {
      "cell_type": "code",
      "execution_count": 147,
      "metadata": {
        "id": "JxxzbsjhOq64"
      },
      "outputs": [
        {
          "data": {
            "text/plain": [
              "0.005463549756363638"
            ]
          },
          "execution_count": 147,
          "metadata": {},
          "output_type": "execute_result"
        }
      ],
      "source": [
        "np.mean(keras.metrics.mean_squared_error(y_valid, Y_pred))"
      ]
    },
    {
      "cell_type": "markdown",
      "metadata": {
        "id": "gDkBfxYlOq64"
      },
      "source": [
        "Let's compare this performance with some baselines: naive predictions and a simple linear model:"
      ]
    },
    {
      "cell_type": "code",
      "execution_count": 149,
      "metadata": {
        "id": "8wbLhLVPOq65"
      },
      "outputs": [
        {
          "data": {
            "text/plain": [
              "0.00015479788176902585"
            ]
          },
          "execution_count": 149,
          "metadata": {},
          "output_type": "execute_result"
        }
      ],
      "source": [
        "Y_naive_pred = np.tile(X_valid[:, -1], horizon) # take the last time step value, and repeat it 10 times\n",
        "np.mean(keras.metrics.mean_squared_error(y_valid, Y_naive_pred))"
      ]
    },
    {
      "cell_type": "code",
      "execution_count": 151,
      "metadata": {
        "id": "nIqhMkSeOq65"
      },
      "outputs": [
        {
          "name": "stdout",
          "output_type": "stream",
          "text": [
            "Epoch 1/20\n",
            "1071/1071 [==============================] - 1s 711us/step - loss: 0.0044 - val_loss: 3.1098e-04\n",
            "Epoch 2/20\n",
            "1071/1071 [==============================] - 1s 673us/step - loss: 0.0015 - val_loss: 1.8626e-04\n",
            "Epoch 3/20\n",
            "1071/1071 [==============================] - 1s 644us/step - loss: 0.0013 - val_loss: 1.6538e-04\n",
            "Epoch 4/20\n",
            "1071/1071 [==============================] - 1s 665us/step - loss: 0.0011 - val_loss: 1.8567e-04\n",
            "Epoch 5/20\n",
            "1071/1071 [==============================] - 1s 739us/step - loss: 0.0011 - val_loss: 1.8516e-04\n",
            "Epoch 6/20\n",
            "1071/1071 [==============================] - 1s 648us/step - loss: 0.0011 - val_loss: 1.4038e-04\n",
            "Epoch 7/20\n",
            "1071/1071 [==============================] - 1s 648us/step - loss: 0.0010 - val_loss: 1.5431e-04\n",
            "Epoch 8/20\n",
            "1071/1071 [==============================] - 1s 774us/step - loss: 0.0010 - val_loss: 1.5829e-04\n",
            "Epoch 9/20\n",
            "1071/1071 [==============================] - 1s 670us/step - loss: 0.0010 - val_loss: 1.3307e-04\n",
            "Epoch 10/20\n",
            "1071/1071 [==============================] - 1s 765us/step - loss: 0.0010 - val_loss: 1.3551e-04\n",
            "Epoch 11/20\n",
            "1071/1071 [==============================] - 1s 659us/step - loss: 0.0010 - val_loss: 1.4430e-04\n",
            "Epoch 12/20\n",
            "1071/1071 [==============================] - 1s 635us/step - loss: 0.0010 - val_loss: 1.4060e-04\n",
            "Epoch 13/20\n",
            "1071/1071 [==============================] - 1s 608us/step - loss: 0.0010 - val_loss: 1.5285e-04\n",
            "Epoch 14/20\n",
            "1071/1071 [==============================] - 1s 621us/step - loss: 0.0010 - val_loss: 1.4509e-04\n",
            "Epoch 15/20\n",
            "1071/1071 [==============================] - 1s 733us/step - loss: 0.0010 - val_loss: 1.5136e-04\n",
            "Epoch 16/20\n",
            "1071/1071 [==============================] - 1s 664us/step - loss: 9.9692e-04 - val_loss: 1.4738e-04\n",
            "Epoch 17/20\n",
            "1071/1071 [==============================] - 1s 641us/step - loss: 9.9537e-04 - val_loss: 1.5281e-04\n",
            "Epoch 18/20\n",
            "1071/1071 [==============================] - 1s 613us/step - loss: 9.9246e-04 - val_loss: 1.2902e-04\n",
            "Epoch 19/20\n",
            "1071/1071 [==============================] - 1s 605us/step - loss: 0.0010 - val_loss: 1.5858e-04\n",
            "Epoch 20/20\n",
            "1071/1071 [==============================] - 1s 603us/step - loss: 9.9121e-04 - val_loss: 1.7945e-04\n"
          ]
        }
      ],
      "source": [
        "np.random.seed(42)\n",
        "tf.random.set_seed(42)\n",
        "\n",
        "model = keras.models.Sequential([\n",
        "    keras.layers.Flatten(input_shape=[n_steps, 1]),\n",
        "    keras.layers.Dense(horizon)\n",
        "])\n",
        "\n",
        "model.compile(loss=\"mse\", optimizer=\"adam\")\n",
        "history = model.fit(X_train, y_train, epochs=20,\n",
        "                    validation_data=(X_valid, y_valid))"
      ]
    },
    {
      "cell_type": "markdown",
      "metadata": {
        "id": "zd3xdd6NOq65"
      },
      "source": [
        "Now let's create an RNN that predicts all 10 next values at once:"
      ]
    },
    {
      "cell_type": "code",
      "execution_count": 153,
      "metadata": {
        "id": "yawgY833Oq65"
      },
      "outputs": [
        {
          "name": "stdout",
          "output_type": "stream",
          "text": [
            "Epoch 1/20\n",
            "1071/1071 [==============================] - 13s 13ms/step - loss: 0.0060 - val_loss: 0.0019\n",
            "Epoch 2/20\n",
            "1071/1071 [==============================] - 13s 13ms/step - loss: 0.0015 - val_loss: 0.0010\n",
            "Epoch 3/20\n",
            "1071/1071 [==============================] - 13s 12ms/step - loss: 0.0014 - val_loss: 8.5230e-04\n",
            "Epoch 4/20\n",
            "1071/1071 [==============================] - 13s 12ms/step - loss: 0.0013 - val_loss: 0.0016\n",
            "Epoch 5/20\n",
            "1071/1071 [==============================] - 13s 12ms/step - loss: 0.0012 - val_loss: 0.0012\n",
            "Epoch 6/20\n",
            "1071/1071 [==============================] - 13s 12ms/step - loss: 0.0011 - val_loss: 0.0015\n",
            "Epoch 7/20\n",
            "1071/1071 [==============================] - 13s 12ms/step - loss: 0.0010 - val_loss: 0.0013\n",
            "Epoch 8/20\n",
            "1071/1071 [==============================] - 13s 12ms/step - loss: 0.0010 - val_loss: 0.0012\n",
            "Epoch 9/20\n",
            "1071/1071 [==============================] - 13s 12ms/step - loss: 0.0010 - val_loss: 0.0015\n",
            "Epoch 10/20\n",
            "1071/1071 [==============================] - 13s 12ms/step - loss: 0.0010 - val_loss: 0.0017\n",
            "Epoch 11/20\n",
            "1071/1071 [==============================] - 13s 12ms/step - loss: 9.9869e-04 - val_loss: 0.0021\n",
            "Epoch 12/20\n",
            "1071/1071 [==============================] - 13s 12ms/step - loss: 9.8869e-04 - val_loss: 0.0011\n",
            "Epoch 13/20\n",
            "1071/1071 [==============================] - 14s 13ms/step - loss: 9.9229e-04 - val_loss: 0.0019\n",
            "Epoch 14/20\n",
            "1071/1071 [==============================] - 15s 14ms/step - loss: 9.8215e-04 - val_loss: 0.0015\n",
            "Epoch 15/20\n",
            "1071/1071 [==============================] - 15s 14ms/step - loss: 9.8270e-04 - val_loss: 0.0021\n",
            "Epoch 16/20\n",
            "1071/1071 [==============================] - 15s 14ms/step - loss: 9.7423e-04 - val_loss: 0.0014\n",
            "Epoch 17/20\n",
            "1071/1071 [==============================] - 17s 16ms/step - loss: 9.7718e-04 - val_loss: 0.0020\n",
            "Epoch 18/20\n",
            "1071/1071 [==============================] - 14s 13ms/step - loss: 9.7075e-04 - val_loss: 0.0028\n",
            "Epoch 19/20\n",
            "1071/1071 [==============================] - 16s 15ms/step - loss: 9.7082e-04 - val_loss: 0.0020\n",
            "Epoch 20/20\n",
            "1071/1071 [==============================] - 13s 12ms/step - loss: 9.6699e-04 - val_loss: 0.0027\n"
          ]
        }
      ],
      "source": [
        "np.random.seed(42)\n",
        "tf.random.set_seed(42)\n",
        "\n",
        "model = keras.models.Sequential([\n",
        "    keras.layers.SimpleRNN(20, return_sequences=True, input_shape=[None, 1]),\n",
        "    keras.layers.SimpleRNN(20),\n",
        "    keras.layers.Dense(horizon)\n",
        "])\n",
        "\n",
        "model.compile(loss=\"mse\", optimizer=\"adam\")\n",
        "history = model.fit(X_train, y_train, epochs=20,\n",
        "                    validation_data=(X_valid, y_valid))"
      ]
    },
    {
      "cell_type": "code",
      "execution_count": 154,
      "metadata": {
        "id": "V56YiNVrOq65"
      },
      "outputs": [],
      "source": [
        "np.random.seed(43)\n",
        "\n",
        "# series = generate_time_series(1, 48 + 10)\n",
        "# X_new, Y_new = series[:, :48, :], series[:, -10:, :]\n",
        "\n",
        "Y_pred = model.predict(X_new)[..., np.newaxis]"
      ]
    },
    {
      "cell_type": "code",
      "execution_count": 157,
      "metadata": {
        "id": "fX2yLkMvOq65"
      },
      "outputs": [
        {
          "data": {
            "image/png": "[encoded data removed]",
            "text/plain": [
              "<Figure size 432x288 with 1 Axes>"
            ]
          },
          "metadata": {
            "needs_background": "light"
          },
          "output_type": "display_data"
        }
      ],
      "source": [
        "plot_multiple_forecasts(X_new, Y_new, Y_pred)\n",
        "plt.ylim(0.10,0.70)\n",
        "plt.show()"
      ]
    },
    {
      "cell_type": "markdown",
      "metadata": {
        "id": "ESgrz_CIOq65"
      },
      "source": [
        "Now let's create an RNN that predicts the next 10 steps at each time step. That is, instead of just forecasting time steps 50 to 59 based on time steps 0 to 49, it will forecast time steps 1 to 10 at time step 0, then time steps 2 to 11 at time step 1, and so on, and finally it will forecast time steps 50 to 59 at the last time step. Notice that the model is causal: when it makes predictions at any time step, it can only see past time steps."
      ]
    },
    {
      "cell_type": "code",
      "execution_count": null,
      "metadata": {
        "id": "NLCGaKC0Oq66"
      },
      "outputs": [],
      "source": [
        "np.random.seed(42)\n",
        "# n_steps = 50\n",
        "# series = generate_time_series(10000, n_steps + 10)\n",
        "# X_train = series[:7000, :n_steps]\n",
        "# X_valid = series[7000:9000, :n_steps]\n",
        "# X_test = series[9000:, :n_steps]\n",
        "# Y = np.empty((10000, n_steps, 10))\n",
        "# for step_ahead in range(1, 10 + 1):\n",
        "#     Y[..., step_ahead - 1] = series[..., step_ahead:step_ahead + n_steps, 0]\n",
        "# Y_train = Y[:7000]\n",
        "# Y_valid = Y[7000:9000]\n",
        "# Y_test = Y[9000:]\n",
        "\n",
        "Y = np.empty((time_series.shape[0], n_steps, horizon))\n",
        "for step_ahead in range(1, horizon + 1):\n",
        "    Y[..., step_ahead - 1] = time_series[..., step_ahead:step_ahead + n_steps, 0]\n",
        "\n",
        "# Y_train = Y[:7000]\n",
        "# Y_valid = Y[7000:9000]\n",
        "# Y_test = Y[9000:]"
      ]
    },
    {
      "cell_type": "code",
      "execution_count": null,
      "metadata": {},
      "outputs": [],
      "source": [
        "X_train.shape, Y_train.shape"
      ]
    },
    {
      "cell_type": "code",
      "execution_count": 166,
      "metadata": {
        "id": "NLCGaKC0Oq66"
      },
      "outputs": [
        {
          "name": "stdout",
          "output_type": "stream",
          "text": [
            "Y.shape=(34345, 72, 24)\n"
          ]
        }
      ],
      "source": [
        "np.random.seed(42)\n",
        "\n",
        "#n_steps = 48\n",
        "dataset_len = X_train.shape[0] + X_train.shape[1] + X_train.shape[2]\n",
        "\n",
        "Y = np.empty((dataset_len, n_steps, horizon))\n",
        "for step_ahead in range(1, horizon + 1):\n",
        "    Y[..., step_ahead - 1] = time_series[..., step_ahead:step_ahead + n_steps, 0]\n",
        "\n",
        "print(f\"{Y.shape=}\")\n",
        "Y_train = Y[:y_train.shape[0]]\n",
        "Y_valid = Y[y_train.shape[0]:y_train.shape[0]+y_valid.shape[0]]\n",
        "Y_test = Y[y_train.shape[0]+y_valid.shape[0]:]\n",
        "# Y_train = Y[:7000]\n",
        "# Y_valid = Y[7000:9000]\n",
        "# Y_test = Y[9000:]"
      ]
    },
    {
      "cell_type": "code",
      "execution_count": 167,
      "metadata": {
        "id": "Mec8NLgDOq66"
      },
      "outputs": [
        {
          "name": "stdout",
          "output_type": "stream",
          "text": [
            "(34272, 72, 1) (34272, 72, 24)\n",
            "(6581, 72, 1) (73, 72, 24)\n",
            "(3332, 72, 1) (0, 72, 24)\n"
          ]
        }
      ],
      "source": [
        "print(X_train.shape, Y_train.shape)\n",
        "print(X_valid.shape, Y_valid.shape)\n",
        "print(X_test.shape, Y_test.shape)"
      ]
    },
    {
      "cell_type": "code",
      "execution_count": 160,
      "metadata": {
        "id": "gBwsXztgOq66"
      },
      "outputs": [
        {
          "name": "stdout",
          "output_type": "stream",
          "text": [
            "Epoch 1/20\n"
          ]
        },
        {
          "ename": "ValueError",
          "evalue": "in user code:\n\n    C:\\Users\\andre\\anaconda3\\envs\\fysstk1\\lib\\site-packages\\tensorflow\\python\\keras\\engine\\training.py:806 train_function  *\n        return step_function(self, iterator)\n    C:\\Users\\andre\\anaconda3\\envs\\fysstk1\\lib\\site-packages\\tensorflow\\python\\keras\\engine\\training.py:796 step_function  **\n        outputs = model.distribute_strategy.run(run_step, args=(data,))\n    C:\\Users\\andre\\anaconda3\\envs\\fysstk1\\lib\\site-packages\\tensorflow\\python\\distribute\\distribute_lib.py:1211 run\n        return self._extended.call_for_each_replica(fn, args=args, kwargs=kwargs)\n    C:\\Users\\andre\\anaconda3\\envs\\fysstk1\\lib\\site-packages\\tensorflow\\python\\distribute\\distribute_lib.py:2585 call_for_each_replica\n        return self._call_for_each_replica(fn, args, kwargs)\n    C:\\Users\\andre\\anaconda3\\envs\\fysstk1\\lib\\site-packages\\tensorflow\\python\\distribute\\distribute_lib.py:2945 _call_for_each_replica\n        return fn(*args, **kwargs)\n    C:\\Users\\andre\\anaconda3\\envs\\fysstk1\\lib\\site-packages\\tensorflow\\python\\keras\\engine\\training.py:789 run_step  **\n        outputs = model.train_step(data)\n    C:\\Users\\andre\\anaconda3\\envs\\fysstk1\\lib\\site-packages\\tensorflow\\python\\keras\\engine\\training.py:748 train_step\n        loss = self.compiled_loss(\n    C:\\Users\\andre\\anaconda3\\envs\\fysstk1\\lib\\site-packages\\tensorflow\\python\\keras\\engine\\compile_utils.py:204 __call__\n        loss_value = loss_obj(y_t, y_p, sample_weight=sw)\n    C:\\Users\\andre\\anaconda3\\envs\\fysstk1\\lib\\site-packages\\tensorflow\\python\\keras\\losses.py:149 __call__\n        losses = ag_call(y_true, y_pred)\n    C:\\Users\\andre\\anaconda3\\envs\\fysstk1\\lib\\site-packages\\tensorflow\\python\\keras\\losses.py:253 call  **\n        return ag_fn(y_true, y_pred, **self._fn_kwargs)\n    C:\\Users\\andre\\anaconda3\\envs\\fysstk1\\lib\\site-packages\\tensorflow\\python\\util\\dispatch.py:201 wrapper\n        return target(*args, **kwargs)\n    C:\\Users\\andre\\anaconda3\\envs\\fysstk1\\lib\\site-packages\\tensorflow\\python\\keras\\losses.py:1195 mean_squared_error\n        return K.mean(math_ops.squared_difference(y_pred, y_true), axis=-1)\n    C:\\Users\\andre\\anaconda3\\envs\\fysstk1\\lib\\site-packages\\tensorflow\\python\\ops\\gen_math_ops.py:10397 squared_difference\n        _, _, _op, _outputs = _op_def_library._apply_op_helper(\n    C:\\Users\\andre\\anaconda3\\envs\\fysstk1\\lib\\site-packages\\tensorflow\\python\\framework\\op_def_library.py:742 _apply_op_helper\n        op = g._create_op_internal(op_type_name, inputs, dtypes=None,\n    C:\\Users\\andre\\anaconda3\\envs\\fysstk1\\lib\\site-packages\\tensorflow\\python\\framework\\func_graph.py:591 _create_op_internal\n        return super(FuncGraph, self)._create_op_internal(  # pylint: disable=protected-access\n    C:\\Users\\andre\\anaconda3\\envs\\fysstk1\\lib\\site-packages\\tensorflow\\python\\framework\\ops.py:3477 _create_op_internal\n        ret = Operation(\n    C:\\Users\\andre\\anaconda3\\envs\\fysstk1\\lib\\site-packages\\tensorflow\\python\\framework\\ops.py:1974 __init__\n        self._c_op = _create_c_op(self._graph, node_def, inputs,\n    C:\\Users\\andre\\anaconda3\\envs\\fysstk1\\lib\\site-packages\\tensorflow\\python\\framework\\ops.py:1815 _create_c_op\n        raise ValueError(str(e))\n\n    ValueError: Dimensions must be equal, but are 10 and 24 for '{{node mean_squared_error/SquaredDifference}} = SquaredDifference[T=DT_FLOAT](sequential_9/time_distributed/Reshape_1, IteratorGetNext:1)' with input shapes: [32,72,10], [32,72,24].\n",
          "output_type": "error",
          "traceback": [
            "\u001b[1;31m---------------------------------------------------------------------------\u001b[0m",
            "\u001b[1;31mValueError\u001b[0m                                Traceback (most recent call last)",
            "\u001b[1;32m<ipython-input-160-717f26de2f63>\u001b[0m in \u001b[0;36m<module>\u001b[1;34m\u001b[0m\n\u001b[0;32m     12\u001b[0m \u001b[1;33m\u001b[0m\u001b[0m\n\u001b[0;32m     13\u001b[0m \u001b[0mmodel\u001b[0m\u001b[1;33m.\u001b[0m\u001b[0mcompile\u001b[0m\u001b[1;33m(\u001b[0m\u001b[0mloss\u001b[0m\u001b[1;33m=\u001b[0m\u001b[1;34m\"mse\"\u001b[0m\u001b[1;33m,\u001b[0m \u001b[0moptimizer\u001b[0m\u001b[1;33m=\u001b[0m\u001b[0mkeras\u001b[0m\u001b[1;33m.\u001b[0m\u001b[0moptimizers\u001b[0m\u001b[1;33m.\u001b[0m\u001b[0mAdam\u001b[0m\u001b[1;33m(\u001b[0m\u001b[0mlearning_rate\u001b[0m\u001b[1;33m=\u001b[0m\u001b[1;36m0.01\u001b[0m\u001b[1;33m)\u001b[0m\u001b[1;33m,\u001b[0m \u001b[0mmetrics\u001b[0m\u001b[1;33m=\u001b[0m\u001b[1;33m[\u001b[0m\u001b[0mlast_time_step_mse\u001b[0m\u001b[1;33m]\u001b[0m\u001b[1;33m)\u001b[0m\u001b[1;33m\u001b[0m\u001b[1;33m\u001b[0m\u001b[0m\n\u001b[1;32m---> 14\u001b[1;33m history = model.fit(X_train, Y_train, epochs=20,\n\u001b[0m\u001b[0;32m     15\u001b[0m                     validation_data=(X_valid, Y_valid))\n",
            "\u001b[1;32m~\\anaconda3\\envs\\fysstk1\\lib\\site-packages\\tensorflow\\python\\keras\\engine\\training.py\u001b[0m in \u001b[0;36m_method_wrapper\u001b[1;34m(self, *args, **kwargs)\u001b[0m\n\u001b[0;32m    106\u001b[0m   \u001b[1;32mdef\u001b[0m \u001b[0m_method_wrapper\u001b[0m\u001b[1;33m(\u001b[0m\u001b[0mself\u001b[0m\u001b[1;33m,\u001b[0m \u001b[1;33m*\u001b[0m\u001b[0margs\u001b[0m\u001b[1;33m,\u001b[0m \u001b[1;33m**\u001b[0m\u001b[0mkwargs\u001b[0m\u001b[1;33m)\u001b[0m\u001b[1;33m:\u001b[0m\u001b[1;33m\u001b[0m\u001b[1;33m\u001b[0m\u001b[0m\n\u001b[0;32m    107\u001b[0m     \u001b[1;32mif\u001b[0m \u001b[1;32mnot\u001b[0m \u001b[0mself\u001b[0m\u001b[1;33m.\u001b[0m\u001b[0m_in_multi_worker_mode\u001b[0m\u001b[1;33m(\u001b[0m\u001b[1;33m)\u001b[0m\u001b[1;33m:\u001b[0m  \u001b[1;31m# pylint: disable=protected-access\u001b[0m\u001b[1;33m\u001b[0m\u001b[1;33m\u001b[0m\u001b[0m\n\u001b[1;32m--> 108\u001b[1;33m       \u001b[1;32mreturn\u001b[0m \u001b[0mmethod\u001b[0m\u001b[1;33m(\u001b[0m\u001b[0mself\u001b[0m\u001b[1;33m,\u001b[0m \u001b[1;33m*\u001b[0m\u001b[0margs\u001b[0m\u001b[1;33m,\u001b[0m \u001b[1;33m**\u001b[0m\u001b[0mkwargs\u001b[0m\u001b[1;33m)\u001b[0m\u001b[1;33m\u001b[0m\u001b[1;33m\u001b[0m\u001b[0m\n\u001b[0m\u001b[0;32m    109\u001b[0m \u001b[1;33m\u001b[0m\u001b[0m\n\u001b[0;32m    110\u001b[0m     \u001b[1;31m# Running inside `run_distribute_coordinator` already.\u001b[0m\u001b[1;33m\u001b[0m\u001b[1;33m\u001b[0m\u001b[1;33m\u001b[0m\u001b[0m\n",
            "\u001b[1;32m~\\anaconda3\\envs\\fysstk1\\lib\\site-packages\\tensorflow\\python\\keras\\engine\\training.py\u001b[0m in \u001b[0;36mfit\u001b[1;34m(self, x, y, batch_size, epochs, verbose, callbacks, validation_split, validation_data, shuffle, class_weight, sample_weight, initial_epoch, steps_per_epoch, validation_steps, validation_batch_size, validation_freq, max_queue_size, workers, use_multiprocessing)\u001b[0m\n\u001b[0;32m   1096\u001b[0m                 batch_size=batch_size):\n\u001b[0;32m   1097\u001b[0m               \u001b[0mcallbacks\u001b[0m\u001b[1;33m.\u001b[0m\u001b[0mon_train_batch_begin\u001b[0m\u001b[1;33m(\u001b[0m\u001b[0mstep\u001b[0m\u001b[1;33m)\u001b[0m\u001b[1;33m\u001b[0m\u001b[1;33m\u001b[0m\u001b[0m\n\u001b[1;32m-> 1098\u001b[1;33m               \u001b[0mtmp_logs\u001b[0m \u001b[1;33m=\u001b[0m \u001b[0mtrain_function\u001b[0m\u001b[1;33m(\u001b[0m\u001b[0miterator\u001b[0m\u001b[1;33m)\u001b[0m\u001b[1;33m\u001b[0m\u001b[1;33m\u001b[0m\u001b[0m\n\u001b[0m\u001b[0;32m   1099\u001b[0m               \u001b[1;32mif\u001b[0m \u001b[0mdata_handler\u001b[0m\u001b[1;33m.\u001b[0m\u001b[0mshould_sync\u001b[0m\u001b[1;33m:\u001b[0m\u001b[1;33m\u001b[0m\u001b[1;33m\u001b[0m\u001b[0m\n\u001b[0;32m   1100\u001b[0m                 \u001b[0mcontext\u001b[0m\u001b[1;33m.\u001b[0m\u001b[0masync_wait\u001b[0m\u001b[1;33m(\u001b[0m\u001b[1;33m)\u001b[0m\u001b[1;33m\u001b[0m\u001b[1;33m\u001b[0m\u001b[0m\n",
            "\u001b[1;32m~\\anaconda3\\envs\\fysstk1\\lib\\site-packages\\tensorflow\\python\\eager\\def_function.py\u001b[0m in \u001b[0;36m__call__\u001b[1;34m(self, *args, **kwds)\u001b[0m\n\u001b[0;32m    778\u001b[0m       \u001b[1;32melse\u001b[0m\u001b[1;33m:\u001b[0m\u001b[1;33m\u001b[0m\u001b[1;33m\u001b[0m\u001b[0m\n\u001b[0;32m    779\u001b[0m         \u001b[0mcompiler\u001b[0m \u001b[1;33m=\u001b[0m \u001b[1;34m\"nonXla\"\u001b[0m\u001b[1;33m\u001b[0m\u001b[1;33m\u001b[0m\u001b[0m\n\u001b[1;32m--> 780\u001b[1;33m         \u001b[0mresult\u001b[0m \u001b[1;33m=\u001b[0m \u001b[0mself\u001b[0m\u001b[1;33m.\u001b[0m\u001b[0m_call\u001b[0m\u001b[1;33m(\u001b[0m\u001b[1;33m*\u001b[0m\u001b[0margs\u001b[0m\u001b[1;33m,\u001b[0m \u001b[1;33m**\u001b[0m\u001b[0mkwds\u001b[0m\u001b[1;33m)\u001b[0m\u001b[1;33m\u001b[0m\u001b[1;33m\u001b[0m\u001b[0m\n\u001b[0m\u001b[0;32m    781\u001b[0m \u001b[1;33m\u001b[0m\u001b[0m\n\u001b[0;32m    782\u001b[0m       \u001b[0mnew_tracing_count\u001b[0m \u001b[1;33m=\u001b[0m \u001b[0mself\u001b[0m\u001b[1;33m.\u001b[0m\u001b[0m_get_tracing_count\u001b[0m\u001b[1;33m(\u001b[0m\u001b[1;33m)\u001b[0m\u001b[1;33m\u001b[0m\u001b[1;33m\u001b[0m\u001b[0m\n",
            "\u001b[1;32m~\\anaconda3\\envs\\fysstk1\\lib\\site-packages\\tensorflow\\python\\eager\\def_function.py\u001b[0m in \u001b[0;36m_call\u001b[1;34m(self, *args, **kwds)\u001b[0m\n\u001b[0;32m    821\u001b[0m       \u001b[1;31m# This is the first call of __call__, so we have to initialize.\u001b[0m\u001b[1;33m\u001b[0m\u001b[1;33m\u001b[0m\u001b[1;33m\u001b[0m\u001b[0m\n\u001b[0;32m    822\u001b[0m       \u001b[0minitializers\u001b[0m \u001b[1;33m=\u001b[0m \u001b[1;33m[\u001b[0m\u001b[1;33m]\u001b[0m\u001b[1;33m\u001b[0m\u001b[1;33m\u001b[0m\u001b[0m\n\u001b[1;32m--> 823\u001b[1;33m       \u001b[0mself\u001b[0m\u001b[1;33m.\u001b[0m\u001b[0m_initialize\u001b[0m\u001b[1;33m(\u001b[0m\u001b[0margs\u001b[0m\u001b[1;33m,\u001b[0m \u001b[0mkwds\u001b[0m\u001b[1;33m,\u001b[0m \u001b[0madd_initializers_to\u001b[0m\u001b[1;33m=\u001b[0m\u001b[0minitializers\u001b[0m\u001b[1;33m)\u001b[0m\u001b[1;33m\u001b[0m\u001b[1;33m\u001b[0m\u001b[0m\n\u001b[0m\u001b[0;32m    824\u001b[0m     \u001b[1;32mfinally\u001b[0m\u001b[1;33m:\u001b[0m\u001b[1;33m\u001b[0m\u001b[1;33m\u001b[0m\u001b[0m\n\u001b[0;32m    825\u001b[0m       \u001b[1;31m# At this point we know that the initialization is complete (or less\u001b[0m\u001b[1;33m\u001b[0m\u001b[1;33m\u001b[0m\u001b[1;33m\u001b[0m\u001b[0m\n",
            "\u001b[1;32m~\\anaconda3\\envs\\fysstk1\\lib\\site-packages\\tensorflow\\python\\eager\\def_function.py\u001b[0m in \u001b[0;36m_initialize\u001b[1;34m(self, args, kwds, add_initializers_to)\u001b[0m\n\u001b[0;32m    694\u001b[0m     \u001b[0mself\u001b[0m\u001b[1;33m.\u001b[0m\u001b[0m_graph_deleter\u001b[0m \u001b[1;33m=\u001b[0m \u001b[0mFunctionDeleter\u001b[0m\u001b[1;33m(\u001b[0m\u001b[0mself\u001b[0m\u001b[1;33m.\u001b[0m\u001b[0m_lifted_initializer_graph\u001b[0m\u001b[1;33m)\u001b[0m\u001b[1;33m\u001b[0m\u001b[1;33m\u001b[0m\u001b[0m\n\u001b[0;32m    695\u001b[0m     self._concrete_stateful_fn = (\n\u001b[1;32m--> 696\u001b[1;33m         self._stateful_fn._get_concrete_function_internal_garbage_collected(  # pylint: disable=protected-access\n\u001b[0m\u001b[0;32m    697\u001b[0m             *args, **kwds))\n\u001b[0;32m    698\u001b[0m \u001b[1;33m\u001b[0m\u001b[0m\n",
            "\u001b[1;32m~\\anaconda3\\envs\\fysstk1\\lib\\site-packages\\tensorflow\\python\\eager\\function.py\u001b[0m in \u001b[0;36m_get_concrete_function_internal_garbage_collected\u001b[1;34m(self, *args, **kwargs)\u001b[0m\n\u001b[0;32m   2853\u001b[0m       \u001b[0margs\u001b[0m\u001b[1;33m,\u001b[0m \u001b[0mkwargs\u001b[0m \u001b[1;33m=\u001b[0m \u001b[1;32mNone\u001b[0m\u001b[1;33m,\u001b[0m \u001b[1;32mNone\u001b[0m\u001b[1;33m\u001b[0m\u001b[1;33m\u001b[0m\u001b[0m\n\u001b[0;32m   2854\u001b[0m     \u001b[1;32mwith\u001b[0m \u001b[0mself\u001b[0m\u001b[1;33m.\u001b[0m\u001b[0m_lock\u001b[0m\u001b[1;33m:\u001b[0m\u001b[1;33m\u001b[0m\u001b[1;33m\u001b[0m\u001b[0m\n\u001b[1;32m-> 2855\u001b[1;33m       \u001b[0mgraph_function\u001b[0m\u001b[1;33m,\u001b[0m \u001b[0m_\u001b[0m\u001b[1;33m,\u001b[0m \u001b[0m_\u001b[0m \u001b[1;33m=\u001b[0m \u001b[0mself\u001b[0m\u001b[1;33m.\u001b[0m\u001b[0m_maybe_define_function\u001b[0m\u001b[1;33m(\u001b[0m\u001b[0margs\u001b[0m\u001b[1;33m,\u001b[0m \u001b[0mkwargs\u001b[0m\u001b[1;33m)\u001b[0m\u001b[1;33m\u001b[0m\u001b[1;33m\u001b[0m\u001b[0m\n\u001b[0m\u001b[0;32m   2856\u001b[0m     \u001b[1;32mreturn\u001b[0m \u001b[0mgraph_function\u001b[0m\u001b[1;33m\u001b[0m\u001b[1;33m\u001b[0m\u001b[0m\n\u001b[0;32m   2857\u001b[0m \u001b[1;33m\u001b[0m\u001b[0m\n",
            "\u001b[1;32m~\\anaconda3\\envs\\fysstk1\\lib\\site-packages\\tensorflow\\python\\eager\\function.py\u001b[0m in \u001b[0;36m_maybe_define_function\u001b[1;34m(self, args, kwargs)\u001b[0m\n\u001b[0;32m   3211\u001b[0m \u001b[1;33m\u001b[0m\u001b[0m\n\u001b[0;32m   3212\u001b[0m       \u001b[0mself\u001b[0m\u001b[1;33m.\u001b[0m\u001b[0m_function_cache\u001b[0m\u001b[1;33m.\u001b[0m\u001b[0mmissed\u001b[0m\u001b[1;33m.\u001b[0m\u001b[0madd\u001b[0m\u001b[1;33m(\u001b[0m\u001b[0mcall_context_key\u001b[0m\u001b[1;33m)\u001b[0m\u001b[1;33m\u001b[0m\u001b[1;33m\u001b[0m\u001b[0m\n\u001b[1;32m-> 3213\u001b[1;33m       \u001b[0mgraph_function\u001b[0m \u001b[1;33m=\u001b[0m \u001b[0mself\u001b[0m\u001b[1;33m.\u001b[0m\u001b[0m_create_graph_function\u001b[0m\u001b[1;33m(\u001b[0m\u001b[0margs\u001b[0m\u001b[1;33m,\u001b[0m \u001b[0mkwargs\u001b[0m\u001b[1;33m)\u001b[0m\u001b[1;33m\u001b[0m\u001b[1;33m\u001b[0m\u001b[0m\n\u001b[0m\u001b[0;32m   3214\u001b[0m       \u001b[0mself\u001b[0m\u001b[1;33m.\u001b[0m\u001b[0m_function_cache\u001b[0m\u001b[1;33m.\u001b[0m\u001b[0mprimary\u001b[0m\u001b[1;33m[\u001b[0m\u001b[0mcache_key\u001b[0m\u001b[1;33m]\u001b[0m \u001b[1;33m=\u001b[0m \u001b[0mgraph_function\u001b[0m\u001b[1;33m\u001b[0m\u001b[1;33m\u001b[0m\u001b[0m\n\u001b[0;32m   3215\u001b[0m       \u001b[1;32mreturn\u001b[0m \u001b[0mgraph_function\u001b[0m\u001b[1;33m,\u001b[0m \u001b[0margs\u001b[0m\u001b[1;33m,\u001b[0m \u001b[0mkwargs\u001b[0m\u001b[1;33m\u001b[0m\u001b[1;33m\u001b[0m\u001b[0m\n",
            "\u001b[1;32m~\\anaconda3\\envs\\fysstk1\\lib\\site-packages\\tensorflow\\python\\eager\\function.py\u001b[0m in \u001b[0;36m_create_graph_function\u001b[1;34m(self, args, kwargs, override_flat_arg_shapes)\u001b[0m\n\u001b[0;32m   3063\u001b[0m     \u001b[0marg_names\u001b[0m \u001b[1;33m=\u001b[0m \u001b[0mbase_arg_names\u001b[0m \u001b[1;33m+\u001b[0m \u001b[0mmissing_arg_names\u001b[0m\u001b[1;33m\u001b[0m\u001b[1;33m\u001b[0m\u001b[0m\n\u001b[0;32m   3064\u001b[0m     graph_function = ConcreteFunction(\n\u001b[1;32m-> 3065\u001b[1;33m         func_graph_module.func_graph_from_py_func(\n\u001b[0m\u001b[0;32m   3066\u001b[0m             \u001b[0mself\u001b[0m\u001b[1;33m.\u001b[0m\u001b[0m_name\u001b[0m\u001b[1;33m,\u001b[0m\u001b[1;33m\u001b[0m\u001b[1;33m\u001b[0m\u001b[0m\n\u001b[0;32m   3067\u001b[0m             \u001b[0mself\u001b[0m\u001b[1;33m.\u001b[0m\u001b[0m_python_function\u001b[0m\u001b[1;33m,\u001b[0m\u001b[1;33m\u001b[0m\u001b[1;33m\u001b[0m\u001b[0m\n",
            "\u001b[1;32m~\\anaconda3\\envs\\fysstk1\\lib\\site-packages\\tensorflow\\python\\framework\\func_graph.py\u001b[0m in \u001b[0;36mfunc_graph_from_py_func\u001b[1;34m(name, python_func, args, kwargs, signature, func_graph, autograph, autograph_options, add_control_dependencies, arg_names, op_return_value, collections, capture_by_value, override_flat_arg_shapes)\u001b[0m\n\u001b[0;32m    984\u001b[0m         \u001b[0m_\u001b[0m\u001b[1;33m,\u001b[0m \u001b[0moriginal_func\u001b[0m \u001b[1;33m=\u001b[0m \u001b[0mtf_decorator\u001b[0m\u001b[1;33m.\u001b[0m\u001b[0munwrap\u001b[0m\u001b[1;33m(\u001b[0m\u001b[0mpython_func\u001b[0m\u001b[1;33m)\u001b[0m\u001b[1;33m\u001b[0m\u001b[1;33m\u001b[0m\u001b[0m\n\u001b[0;32m    985\u001b[0m \u001b[1;33m\u001b[0m\u001b[0m\n\u001b[1;32m--> 986\u001b[1;33m       \u001b[0mfunc_outputs\u001b[0m \u001b[1;33m=\u001b[0m \u001b[0mpython_func\u001b[0m\u001b[1;33m(\u001b[0m\u001b[1;33m*\u001b[0m\u001b[0mfunc_args\u001b[0m\u001b[1;33m,\u001b[0m \u001b[1;33m**\u001b[0m\u001b[0mfunc_kwargs\u001b[0m\u001b[1;33m)\u001b[0m\u001b[1;33m\u001b[0m\u001b[1;33m\u001b[0m\u001b[0m\n\u001b[0m\u001b[0;32m    987\u001b[0m \u001b[1;33m\u001b[0m\u001b[0m\n\u001b[0;32m    988\u001b[0m       \u001b[1;31m# invariant: `func_outputs` contains only Tensors, CompositeTensors,\u001b[0m\u001b[1;33m\u001b[0m\u001b[1;33m\u001b[0m\u001b[1;33m\u001b[0m\u001b[0m\n",
            "\u001b[1;32m~\\anaconda3\\envs\\fysstk1\\lib\\site-packages\\tensorflow\\python\\eager\\def_function.py\u001b[0m in \u001b[0;36mwrapped_fn\u001b[1;34m(*args, **kwds)\u001b[0m\n\u001b[0;32m    598\u001b[0m         \u001b[1;31m# __wrapped__ allows AutoGraph to swap in a converted function. We give\u001b[0m\u001b[1;33m\u001b[0m\u001b[1;33m\u001b[0m\u001b[1;33m\u001b[0m\u001b[0m\n\u001b[0;32m    599\u001b[0m         \u001b[1;31m# the function a weak reference to itself to avoid a reference cycle.\u001b[0m\u001b[1;33m\u001b[0m\u001b[1;33m\u001b[0m\u001b[1;33m\u001b[0m\u001b[0m\n\u001b[1;32m--> 600\u001b[1;33m         \u001b[1;32mreturn\u001b[0m \u001b[0mweak_wrapped_fn\u001b[0m\u001b[1;33m(\u001b[0m\u001b[1;33m)\u001b[0m\u001b[1;33m.\u001b[0m\u001b[0m__wrapped__\u001b[0m\u001b[1;33m(\u001b[0m\u001b[1;33m*\u001b[0m\u001b[0margs\u001b[0m\u001b[1;33m,\u001b[0m \u001b[1;33m**\u001b[0m\u001b[0mkwds\u001b[0m\u001b[1;33m)\u001b[0m\u001b[1;33m\u001b[0m\u001b[1;33m\u001b[0m\u001b[0m\n\u001b[0m\u001b[0;32m    601\u001b[0m     \u001b[0mweak_wrapped_fn\u001b[0m \u001b[1;33m=\u001b[0m \u001b[0mweakref\u001b[0m\u001b[1;33m.\u001b[0m\u001b[0mref\u001b[0m\u001b[1;33m(\u001b[0m\u001b[0mwrapped_fn\u001b[0m\u001b[1;33m)\u001b[0m\u001b[1;33m\u001b[0m\u001b[1;33m\u001b[0m\u001b[0m\n\u001b[0;32m    602\u001b[0m \u001b[1;33m\u001b[0m\u001b[0m\n",
            "\u001b[1;32m~\\anaconda3\\envs\\fysstk1\\lib\\site-packages\\tensorflow\\python\\framework\\func_graph.py\u001b[0m in \u001b[0;36mwrapper\u001b[1;34m(*args, **kwargs)\u001b[0m\n\u001b[0;32m    971\u001b[0m           \u001b[1;32mexcept\u001b[0m \u001b[0mException\u001b[0m \u001b[1;32mas\u001b[0m \u001b[0me\u001b[0m\u001b[1;33m:\u001b[0m  \u001b[1;31m# pylint:disable=broad-except\u001b[0m\u001b[1;33m\u001b[0m\u001b[1;33m\u001b[0m\u001b[0m\n\u001b[0;32m    972\u001b[0m             \u001b[1;32mif\u001b[0m \u001b[0mhasattr\u001b[0m\u001b[1;33m(\u001b[0m\u001b[0me\u001b[0m\u001b[1;33m,\u001b[0m \u001b[1;34m\"ag_error_metadata\"\u001b[0m\u001b[1;33m)\u001b[0m\u001b[1;33m:\u001b[0m\u001b[1;33m\u001b[0m\u001b[1;33m\u001b[0m\u001b[0m\n\u001b[1;32m--> 973\u001b[1;33m               \u001b[1;32mraise\u001b[0m \u001b[0me\u001b[0m\u001b[1;33m.\u001b[0m\u001b[0mag_error_metadata\u001b[0m\u001b[1;33m.\u001b[0m\u001b[0mto_exception\u001b[0m\u001b[1;33m(\u001b[0m\u001b[0me\u001b[0m\u001b[1;33m)\u001b[0m\u001b[1;33m\u001b[0m\u001b[1;33m\u001b[0m\u001b[0m\n\u001b[0m\u001b[0;32m    974\u001b[0m             \u001b[1;32melse\u001b[0m\u001b[1;33m:\u001b[0m\u001b[1;33m\u001b[0m\u001b[1;33m\u001b[0m\u001b[0m\n\u001b[0;32m    975\u001b[0m               \u001b[1;32mraise\u001b[0m\u001b[1;33m\u001b[0m\u001b[1;33m\u001b[0m\u001b[0m\n",
            "\u001b[1;31mValueError\u001b[0m: in user code:\n\n    C:\\Users\\andre\\anaconda3\\envs\\fysstk1\\lib\\site-packages\\tensorflow\\python\\keras\\engine\\training.py:806 train_function  *\n        return step_function(self, iterator)\n    C:\\Users\\andre\\anaconda3\\envs\\fysstk1\\lib\\site-packages\\tensorflow\\python\\keras\\engine\\training.py:796 step_function  **\n        outputs = model.distribute_strategy.run(run_step, args=(data,))\n    C:\\Users\\andre\\anaconda3\\envs\\fysstk1\\lib\\site-packages\\tensorflow\\python\\distribute\\distribute_lib.py:1211 run\n        return self._extended.call_for_each_replica(fn, args=args, kwargs=kwargs)\n    C:\\Users\\andre\\anaconda3\\envs\\fysstk1\\lib\\site-packages\\tensorflow\\python\\distribute\\distribute_lib.py:2585 call_for_each_replica\n        return self._call_for_each_replica(fn, args, kwargs)\n    C:\\Users\\andre\\anaconda3\\envs\\fysstk1\\lib\\site-packages\\tensorflow\\python\\distribute\\distribute_lib.py:2945 _call_for_each_replica\n        return fn(*args, **kwargs)\n    C:\\Users\\andre\\anaconda3\\envs\\fysstk1\\lib\\site-packages\\tensorflow\\python\\keras\\engine\\training.py:789 run_step  **\n        outputs = model.train_step(data)\n    C:\\Users\\andre\\anaconda3\\envs\\fysstk1\\lib\\site-packages\\tensorflow\\python\\keras\\engine\\training.py:748 train_step\n        loss = self.compiled_loss(\n    C:\\Users\\andre\\anaconda3\\envs\\fysstk1\\lib\\site-packages\\tensorflow\\python\\keras\\engine\\compile_utils.py:204 __call__\n        loss_value = loss_obj(y_t, y_p, sample_weight=sw)\n    C:\\Users\\andre\\anaconda3\\envs\\fysstk1\\lib\\site-packages\\tensorflow\\python\\keras\\losses.py:149 __call__\n        losses = ag_call(y_true, y_pred)\n    C:\\Users\\andre\\anaconda3\\envs\\fysstk1\\lib\\site-packages\\tensorflow\\python\\keras\\losses.py:253 call  **\n        return ag_fn(y_true, y_pred, **self._fn_kwargs)\n    C:\\Users\\andre\\anaconda3\\envs\\fysstk1\\lib\\site-packages\\tensorflow\\python\\util\\dispatch.py:201 wrapper\n        return target(*args, **kwargs)\n    C:\\Users\\andre\\anaconda3\\envs\\fysstk1\\lib\\site-packages\\tensorflow\\python\\keras\\losses.py:1195 mean_squared_error\n        return K.mean(math_ops.squared_difference(y_pred, y_true), axis=-1)\n    C:\\Users\\andre\\anaconda3\\envs\\fysstk1\\lib\\site-packages\\tensorflow\\python\\ops\\gen_math_ops.py:10397 squared_difference\n        _, _, _op, _outputs = _op_def_library._apply_op_helper(\n    C:\\Users\\andre\\anaconda3\\envs\\fysstk1\\lib\\site-packages\\tensorflow\\python\\framework\\op_def_library.py:742 _apply_op_helper\n        op = g._create_op_internal(op_type_name, inputs, dtypes=None,\n    C:\\Users\\andre\\anaconda3\\envs\\fysstk1\\lib\\site-packages\\tensorflow\\python\\framework\\func_graph.py:591 _create_op_internal\n        return super(FuncGraph, self)._create_op_internal(  # pylint: disable=protected-access\n    C:\\Users\\andre\\anaconda3\\envs\\fysstk1\\lib\\site-packages\\tensorflow\\python\\framework\\ops.py:3477 _create_op_internal\n        ret = Operation(\n    C:\\Users\\andre\\anaconda3\\envs\\fysstk1\\lib\\site-packages\\tensorflow\\python\\framework\\ops.py:1974 __init__\n        self._c_op = _create_c_op(self._graph, node_def, inputs,\n    C:\\Users\\andre\\anaconda3\\envs\\fysstk1\\lib\\site-packages\\tensorflow\\python\\framework\\ops.py:1815 _create_c_op\n        raise ValueError(str(e))\n\n    ValueError: Dimensions must be equal, but are 10 and 24 for '{{node mean_squared_error/SquaredDifference}} = SquaredDifference[T=DT_FLOAT](sequential_9/time_distributed/Reshape_1, IteratorGetNext:1)' with input shapes: [32,72,10], [32,72,24].\n"
          ]
        }
      ],
      "source": [
        "\n",
        "\n",
        "np.random.seed(42)\n",
        "tf.random.set_seed(42)\n",
        "\n",
        "model = keras.models.Sequential([\n",
        "    keras.layers.SimpleRNN(20, return_sequences=True, input_shape=[None, 1]),\n",
        "    keras.layers.SimpleRNN(20, return_sequences=True),\n",
        "    keras.layers.TimeDistributed(keras.layers.Dense(10))\n",
        "])\n",
        "\n",
        "def last_time_step_mse(Y_true, Y_pred):\n",
        "    return keras.metrics.mean_squared_error(Y_true[:, -1], Y_pred[:, -1])\n",
        "\n",
        "model.compile(loss=\"mse\", optimizer=keras.optimizers.Adam(learning_rate=0.01), metrics=[last_time_step_mse])\n",
        "history = model.fit(X_train, Y_train, epochs=20,\n",
        "                    validation_data=(X_valid, Y_valid))"
      ]
    },
    {
      "cell_type": "code",
      "execution_count": null,
      "metadata": {
        "id": "yGZ-bKCBOq66"
      },
      "outputs": [],
      "source": [
        "np.random.seed(43)\n",
        "\n",
        "series = generate_time_series(1, 50 + 10)\n",
        "X_new, Y_new = series[:, :50, :], series[:, 50:, :]\n",
        "Y_pred = model.predict(X_new)[:, -1][..., np.newaxis]"
      ]
    },
    {
      "cell_type": "code",
      "execution_count": null,
      "metadata": {
        "id": "OmXItotWOq66"
      },
      "outputs": [],
      "source": [
        "plot_multiple_forecasts(X_new, Y_new, Y_pred)\n",
        "plt.show()"
      ]
    },
    {
      "cell_type": "markdown",
      "metadata": {
        "id": "LBOQvF0qOq66"
      },
      "source": [
        "# Deep RNN with Batch Norm"
      ]
    },
    {
      "cell_type": "code",
      "execution_count": null,
      "metadata": {
        "id": "iKp9hxrjOq66"
      },
      "outputs": [],
      "source": [
        "np.random.seed(42)\n",
        "tf.random.set_seed(42)\n",
        "\n",
        "model = keras.models.Sequential([\n",
        "    keras.layers.SimpleRNN(20, return_sequences=True, input_shape=[None, 1]),\n",
        "    keras.layers.BatchNormalization(),\n",
        "    keras.layers.SimpleRNN(20, return_sequences=True),\n",
        "    keras.layers.BatchNormalization(),\n",
        "    keras.layers.TimeDistributed(keras.layers.Dense(10))\n",
        "])\n",
        "\n",
        "model.compile(loss=\"mse\", optimizer=\"adam\", metrics=[last_time_step_mse])\n",
        "history = model.fit(X_train, Y_train, epochs=20,\n",
        "                    validation_data=(X_valid, Y_valid))"
      ]
    },
    {
      "cell_type": "markdown",
      "metadata": {
        "id": "4-98yNz0Oq67"
      },
      "source": [
        "# Deep RNNs with Layer Norm"
      ]
    },
    {
      "cell_type": "code",
      "execution_count": null,
      "metadata": {
        "id": "kgjc-VS-Oq67"
      },
      "outputs": [],
      "source": [
        "from tensorflow.keras.layers import LayerNormalization"
      ]
    },
    {
      "cell_type": "code",
      "execution_count": null,
      "metadata": {
        "id": "a59uDFFMOq67"
      },
      "outputs": [],
      "source": [
        "class LNSimpleRNNCell(keras.layers.Layer):\n",
        "    def __init__(self, units, activation=\"tanh\", **kwargs):\n",
        "        super().__init__(**kwargs)\n",
        "        self.state_size = units\n",
        "        self.output_size = units\n",
        "        self.simple_rnn_cell = keras.layers.SimpleRNNCell(units,\n",
        "                                                          activation=None)\n",
        "        self.layer_norm = LayerNormalization()\n",
        "        self.activation = keras.activations.get(activation)\n",
        "    def get_initial_state(self, inputs=None, batch_size=None, dtype=None):\n",
        "        if inputs is not None:\n",
        "            batch_size = tf.shape(inputs)[0]\n",
        "            dtype = inputs.dtype\n",
        "        return [tf.zeros([batch_size, self.state_size], dtype=dtype)]\n",
        "    def call(self, inputs, states):\n",
        "        outputs, new_states = self.simple_rnn_cell(inputs, states)\n",
        "        norm_outputs = self.activation(self.layer_norm(outputs))\n",
        "        return norm_outputs, [norm_outputs]"
      ]
    },
    {
      "cell_type": "code",
      "execution_count": null,
      "metadata": {
        "id": "rx_C_UIfOq67"
      },
      "outputs": [],
      "source": [
        "np.random.seed(42)\n",
        "tf.random.set_seed(42)\n",
        "\n",
        "model = keras.models.Sequential([\n",
        "    keras.layers.RNN(LNSimpleRNNCell(20), return_sequences=True,\n",
        "                     input_shape=[None, 1]),\n",
        "    keras.layers.RNN(LNSimpleRNNCell(20), return_sequences=True),\n",
        "    keras.layers.TimeDistributed(keras.layers.Dense(10))\n",
        "])\n",
        "\n",
        "model.compile(loss=\"mse\", optimizer=\"adam\", metrics=[last_time_step_mse])\n",
        "history = model.fit(X_train, Y_train, epochs=20,\n",
        "                    validation_data=(X_valid, Y_valid))"
      ]
    },
    {
      "cell_type": "markdown",
      "metadata": {
        "id": "tuC0n-yzOq67"
      },
      "source": [
        "# Creating a Custom RNN Class"
      ]
    },
    {
      "cell_type": "code",
      "execution_count": null,
      "metadata": {
        "id": "kLBZBiUROq67"
      },
      "outputs": [],
      "source": [
        "class MyRNN(keras.layers.Layer):\n",
        "    def __init__(self, cell, return_sequences=False, **kwargs):\n",
        "        super().__init__(**kwargs)\n",
        "        self.cell = cell\n",
        "        self.return_sequences = return_sequences\n",
        "        self.get_initial_state = getattr(\n",
        "            self.cell, \"get_initial_state\", self.fallback_initial_state)\n",
        "    def fallback_initial_state(self, inputs):\n",
        "        batch_size = tf.shape(inputs)[0]\n",
        "        return [tf.zeros([batch_size, self.cell.state_size], dtype=inputs.dtype)]\n",
        "    @tf.function\n",
        "    def call(self, inputs):\n",
        "        states = self.get_initial_state(inputs)\n",
        "        shape = tf.shape(inputs)\n",
        "        batch_size = shape[0]\n",
        "        n_steps = shape[1]\n",
        "        sequences = tf.TensorArray(\n",
        "            inputs.dtype, size=(n_steps if self.return_sequences else 0))\n",
        "        outputs = tf.zeros(shape=[batch_size, self.cell.output_size], dtype=inputs.dtype)\n",
        "        for step in tf.range(n_steps):\n",
        "            outputs, states = self.cell(inputs[:, step], states)\n",
        "            if self.return_sequences:\n",
        "                sequences = sequences.write(step, outputs)\n",
        "        if self.return_sequences:\n",
        "            return tf.transpose(sequences.stack(), [1, 0, 2])\n",
        "        else:\n",
        "            return outputs"
      ]
    },
    {
      "cell_type": "code",
      "execution_count": null,
      "metadata": {
        "id": "dF-6v_udOq67"
      },
      "outputs": [],
      "source": [
        "np.random.seed(42)\n",
        "tf.random.set_seed(42)\n",
        "\n",
        "model = keras.models.Sequential([\n",
        "    MyRNN(LNSimpleRNNCell(20), return_sequences=True,\n",
        "          input_shape=[None, 1]),\n",
        "    MyRNN(LNSimpleRNNCell(20), return_sequences=True),\n",
        "    keras.layers.TimeDistributed(keras.layers.Dense(10))\n",
        "])\n",
        "\n",
        "model.compile(loss=\"mse\", optimizer=\"adam\", metrics=[last_time_step_mse])\n",
        "history = model.fit(X_train, Y_train, epochs=20,\n",
        "                    validation_data=(X_valid, Y_valid))"
      ]
    },
    {
      "cell_type": "markdown",
      "metadata": {
        "id": "k_E5PgGBOq68"
      },
      "source": [
        "# LSTMs"
      ]
    },
    {
      "cell_type": "code",
      "execution_count": null,
      "metadata": {
        "id": "V9wHyEjjOq68",
        "scrolled": true
      },
      "outputs": [],
      "source": [
        "np.random.seed(42)\n",
        "tf.random.set_seed(42)\n",
        "\n",
        "model = keras.models.Sequential([\n",
        "    keras.layers.LSTM(20, return_sequences=True, input_shape=[None, 1]),\n",
        "    keras.layers.LSTM(20, return_sequences=True),\n",
        "    keras.layers.TimeDistributed(keras.layers.Dense(10))\n",
        "])\n",
        "\n",
        "model.compile(loss=\"mse\", optimizer=\"adam\", metrics=[last_time_step_mse])\n",
        "history = model.fit(X_train, Y_train, epochs=20,\n",
        "                    validation_data=(X_valid, Y_valid))"
      ]
    },
    {
      "cell_type": "code",
      "execution_count": null,
      "metadata": {
        "id": "fJRMLvaAOq68"
      },
      "outputs": [],
      "source": [
        "model.evaluate(X_valid, Y_valid)"
      ]
    },
    {
      "cell_type": "code",
      "execution_count": null,
      "metadata": {
        "id": "gwv0if-EOq68"
      },
      "outputs": [],
      "source": [
        "plot_learning_curves(history.history[\"loss\"], history.history[\"val_loss\"])\n",
        "plt.show()"
      ]
    },
    {
      "cell_type": "code",
      "execution_count": null,
      "metadata": {
        "id": "7RvjsQ-VOq68"
      },
      "outputs": [],
      "source": [
        "np.random.seed(43)\n",
        "\n",
        "series = generate_time_series(1, 50 + 10)\n",
        "X_new, Y_new = series[:, :50, :], series[:, 50:, :]\n",
        "Y_pred = model.predict(X_new)[:, -1][..., np.newaxis]"
      ]
    },
    {
      "cell_type": "code",
      "execution_count": null,
      "metadata": {
        "id": "Vy2PCRdbOq68",
        "scrolled": true
      },
      "outputs": [],
      "source": [
        "plot_multiple_forecasts(X_new, Y_new, Y_pred)\n",
        "plt.show()"
      ]
    },
    {
      "cell_type": "markdown",
      "metadata": {
        "id": "dWgHSPN3Oq68"
      },
      "source": [
        "# GRUs"
      ]
    },
    {
      "cell_type": "code",
      "execution_count": null,
      "metadata": {
        "id": "6Pz6LgsrOq68"
      },
      "outputs": [],
      "source": [
        "np.random.seed(42)\n",
        "tf.random.set_seed(42)\n",
        "\n",
        "model = keras.models.Sequential([\n",
        "    keras.layers.GRU(20, return_sequences=True, input_shape=[None, 1]),\n",
        "    keras.layers.GRU(20, return_sequences=True),\n",
        "    keras.layers.TimeDistributed(keras.layers.Dense(10))\n",
        "])\n",
        "\n",
        "model.compile(loss=\"mse\", optimizer=\"adam\", metrics=[last_time_step_mse])\n",
        "history = model.fit(X_train, Y_train, epochs=20,\n",
        "                    validation_data=(X_valid, Y_valid))"
      ]
    },
    {
      "cell_type": "code",
      "execution_count": null,
      "metadata": {
        "id": "FDHEIwxXOq69"
      },
      "outputs": [],
      "source": [
        "model.evaluate(X_valid, Y_valid)"
      ]
    },
    {
      "cell_type": "code",
      "execution_count": null,
      "metadata": {
        "id": "YG0wxxTZOq69"
      },
      "outputs": [],
      "source": [
        "plot_learning_curves(history.history[\"loss\"], history.history[\"val_loss\"])\n",
        "plt.show()"
      ]
    },
    {
      "cell_type": "code",
      "execution_count": null,
      "metadata": {
        "id": "G0lyNwbnOq69"
      },
      "outputs": [],
      "source": [
        "np.random.seed(43)\n",
        "\n",
        "series = generate_time_series(1, 50 + 10)\n",
        "X_new, Y_new = series[:, :50, :], series[:, 50:, :]\n",
        "Y_pred = model.predict(X_new)[:, -1][..., np.newaxis]"
      ]
    },
    {
      "cell_type": "code",
      "execution_count": null,
      "metadata": {
        "id": "s_zC6ceVOq69",
        "scrolled": true
      },
      "outputs": [],
      "source": [
        "plot_multiple_forecasts(X_new, Y_new, Y_pred)\n",
        "plt.show()"
      ]
    },
    {
      "cell_type": "markdown",
      "metadata": {
        "id": "-fWv7MjTOq69"
      },
      "source": [
        "## Using One-Dimensional Convolutional Layers to Process Sequences"
      ]
    },
    {
      "cell_type": "markdown",
      "metadata": {
        "id": "oIaQS0UaOq69"
      },
      "source": [
        "```\n",
        "1D conv layer with kernel size 4, stride 2, VALID padding:\n",
        "\n",
        "              |-----2-----|     |-----5---...------|     |-----23----|\n",
        "        |-----1-----|     |-----4-----|   ...      |-----22----|\n",
        "  |-----0----|      |-----3-----|     |---...|-----21----|\n",
        "X: 0  1  2  3  4  5  6  7  8  9  10 11 12 ... 42 43 44 45 46 47 48 49\n",
        "Y: 1  2  3  4  5  6  7  8  9  10 11 12 13 ... 43 44 45 46 47 48 49 50\n",
        "  /10 11 12 13 14 15 16 17 18 19 20 21 22 ... 52 53 54 55 56 57 58 59\n",
        "\n",
        "Output:\n",
        "\n",
        "X:     0/3   2/5   4/7   6/9   8/11 10/13 .../43 42/45 44/47 46/49\n",
        "Y:     4/13  6/15  8/17 10/19 12/21 14/23 .../53 46/55 48/57 50/59\n",
        "```"
      ]
    },
    {
      "cell_type": "code",
      "execution_count": null,
      "metadata": {
        "id": "HB8PGHPcOq69"
      },
      "outputs": [],
      "source": [
        "np.random.seed(42)\n",
        "tf.random.set_seed(42)\n",
        "\n",
        "model = keras.models.Sequential([\n",
        "    keras.layers.Conv1D(filters=20, kernel_size=4, strides=2, padding=\"valid\",\n",
        "                        input_shape=[None, 1]),\n",
        "    keras.layers.GRU(20, return_sequences=True),\n",
        "    keras.layers.GRU(20, return_sequences=True),\n",
        "    keras.layers.TimeDistributed(keras.layers.Dense(10))\n",
        "])\n",
        "\n",
        "model.compile(loss=\"mse\", optimizer=\"adam\", metrics=[last_time_step_mse])\n",
        "history = model.fit(X_train, Y_train[:, 3::2], epochs=20,\n",
        "                    validation_data=(X_valid, Y_valid[:, 3::2]))"
      ]
    },
    {
      "cell_type": "markdown",
      "metadata": {
        "id": "5AOO7iioOq69"
      },
      "source": [
        "## WaveNet"
      ]
    },
    {
      "cell_type": "markdown",
      "metadata": {
        "id": "31ijLJl4Oq6-"
      },
      "source": [
        "```\n",
        "C2  /\\ /\\ /\\ /\\ /\\ /\\ /\\ /\\ /\\ /\\ /\\ /\\ /\\.../\\ /\\ /\\ /\\ /\\ /\\\n",
        "   \\  /  \\  /  \\  /  \\  /  \\  /  \\  /  \\       /  \\  /  \\  /  \\\n",
        "     /    \\      /    \\      /    \\                 /    \\\n",
        "C1  /\\ /\\ /\\ /\\ /\\ /\\ /\\ /\\ /\\ /\\ /\\  /\\ /.../\\ /\\ /\\ /\\ /\\ /\\ /\\\n",
        "X: 0  1  2  3  4  5  6  7  8  9  10 11 12 ... 43 44 45 46 47 48 49\n",
        "Y: 1  2  3  4  5  6  7  8  9  10 11 12 13 ... 44 45 46 47 48 49 50\n",
        "  /10 11 12 13 14 15 16 17 18 19 20 21 22 ... 53 54 55 56 57 58 59\n",
        "```"
      ]
    },
    {
      "cell_type": "code",
      "execution_count": null,
      "metadata": {
        "id": "hBKUuWLoOq6-"
      },
      "outputs": [],
      "source": [
        "np.random.seed(42)\n",
        "tf.random.set_seed(42)\n",
        "\n",
        "model = keras.models.Sequential()\n",
        "model.add(keras.layers.InputLayer(input_shape=[None, 1]))\n",
        "for rate in (1, 2, 4, 8) * 2:\n",
        "    model.add(keras.layers.Conv1D(filters=20, kernel_size=2, padding=\"causal\",\n",
        "                                  activation=\"relu\", dilation_rate=rate))\n",
        "model.add(keras.layers.Conv1D(filters=10, kernel_size=1))\n",
        "model.compile(loss=\"mse\", optimizer=\"adam\", metrics=[last_time_step_mse])\n",
        "history = model.fit(X_train, Y_train, epochs=20,\n",
        "                    validation_data=(X_valid, Y_valid))"
      ]
    },
    {
      "cell_type": "markdown",
      "metadata": {
        "id": "9PpgWtFlOq6-"
      },
      "source": [
        "Here is the original WaveNet defined in the paper: it uses Gated Activation Units instead of ReLU and parametrized skip connections, plus it pads with zeros on the left to avoid getting shorter and shorter sequences:"
      ]
    },
    {
      "cell_type": "code",
      "execution_count": null,
      "metadata": {
        "id": "ZpTCBFIuOq6-"
      },
      "outputs": [],
      "source": [
        "class GatedActivationUnit(keras.layers.Layer):\n",
        "    def __init__(self, activation=\"tanh\", **kwargs):\n",
        "        super().__init__(**kwargs)\n",
        "        self.activation = keras.activations.get(activation)\n",
        "    def call(self, inputs):\n",
        "        n_filters = inputs.shape[-1] // 2\n",
        "        linear_output = self.activation(inputs[..., :n_filters])\n",
        "        gate = keras.activations.sigmoid(inputs[..., n_filters:])\n",
        "        return self.activation(linear_output) * gate"
      ]
    },
    {
      "cell_type": "code",
      "execution_count": null,
      "metadata": {
        "id": "GoqyNUAYOq6-"
      },
      "outputs": [],
      "source": [
        "def wavenet_residual_block(inputs, n_filters, dilation_rate):\n",
        "    z = keras.layers.Conv1D(2 * n_filters, kernel_size=2, padding=\"causal\",\n",
        "                            dilation_rate=dilation_rate)(inputs)\n",
        "    z = GatedActivationUnit()(z)\n",
        "    z = keras.layers.Conv1D(n_filters, kernel_size=1)(z)\n",
        "    return keras.layers.Add()([z, inputs]), z"
      ]
    },
    {
      "cell_type": "code",
      "execution_count": null,
      "metadata": {
        "id": "le1EzMNSOq6-"
      },
      "outputs": [],
      "source": [
        "keras.backend.clear_session()\n",
        "np.random.seed(42)\n",
        "tf.random.set_seed(42)\n",
        "\n",
        "n_layers_per_block = 3 # 10 in the paper\n",
        "n_blocks = 1 # 3 in the paper\n",
        "n_filters = 32 # 128 in the paper\n",
        "n_outputs = 10 # 256 in the paper\n",
        "\n",
        "inputs = keras.layers.Input(shape=[None, 1])\n",
        "z = keras.layers.Conv1D(n_filters, kernel_size=2, padding=\"causal\")(inputs)\n",
        "skip_to_last = []\n",
        "for dilation_rate in [2**i for i in range(n_layers_per_block)] * n_blocks:\n",
        "    z, skip = wavenet_residual_block(z, n_filters, dilation_rate)\n",
        "    skip_to_last.append(skip)\n",
        "z = keras.activations.relu(keras.layers.Add()(skip_to_last))\n",
        "z = keras.layers.Conv1D(n_filters, kernel_size=1, activation=\"relu\")(z)\n",
        "Y_proba = keras.layers.Conv1D(n_outputs, kernel_size=1, activation=\"softmax\")(z)\n",
        "\n",
        "model = keras.models.Model(inputs=[inputs], outputs=[Y_proba])"
      ]
    },
    {
      "cell_type": "code",
      "execution_count": null,
      "metadata": {
        "id": "QR4CUGwOOq6-"
      },
      "outputs": [],
      "source": [
        "model.compile(loss=\"mse\", optimizer=\"adam\", metrics=[last_time_step_mse])\n",
        "history = model.fit(X_train, Y_train, epochs=2,\n",
        "                    validation_data=(X_valid, Y_valid))"
      ]
    },
    {
      "cell_type": "markdown",
      "metadata": {
        "id": "ePvrLddYOq6-"
      },
      "source": [
        "In this chapter we explored the fundamentals of RNNs and used them to process sequences (namely, time series). In the process we also looked at other ways to process sequences, including CNNs. In the next chapter we will use RNNs for Natural Language Processing, and we will learn more about RNNs (bidirectional RNNs, stateful vs stateless RNNs, Encoder–Decoders, and Attention-augmented Encoder-Decoders). We will also look at the Transformer, an Attention-only architecture."
      ]
    },
    {
      "cell_type": "markdown",
      "metadata": {
        "id": "ZUJ-9f4lOq6-"
      },
      "source": [
        "# Exercise solutions"
      ]
    },
    {
      "cell_type": "markdown",
      "metadata": {
        "id": "VwW-aR6wOq6_"
      },
      "source": [
        "## 1. to 8."
      ]
    },
    {
      "cell_type": "markdown",
      "metadata": {
        "id": "nyU-4BQFOq6_"
      },
      "source": [
        "See Appendix A."
      ]
    },
    {
      "cell_type": "markdown",
      "metadata": {
        "id": "4U_ANaazOq6_"
      },
      "source": [
        "## 9. Tackling the SketchRNN Dataset"
      ]
    },
    {
      "cell_type": "markdown",
      "metadata": {
        "id": "vPPstMdEOq6_"
      },
      "source": [
        "_Exercise: Train a classification model for the SketchRNN dataset, available in TensorFlow Datasets._"
      ]
    },
    {
      "cell_type": "markdown",
      "metadata": {
        "id": "amGRjnA0Oq6_"
      },
      "source": [
        "The dataset is not available in TFDS yet, the [pull request](https://github.com/tensorflow/datasets/pull/361) is still work in progress. Luckily, the data is conveniently available as TFRecords, so let's download it (it might take a while, as it's about 1 GB large, with 3,450,000 training sketches and 345,000 test sketches):"
      ]
    },
    {
      "cell_type": "code",
      "execution_count": null,
      "metadata": {
        "id": "pKpRSNYPOq6_"
      },
      "outputs": [],
      "source": [
        "DOWNLOAD_ROOT = \"http://download.tensorflow.org/data/\"\n",
        "FILENAME = \"quickdraw_tutorial_dataset_v1.tar.gz\"\n",
        "filepath = keras.utils.get_file(FILENAME,\n",
        "                                DOWNLOAD_ROOT + FILENAME,\n",
        "                                cache_subdir=\"datasets/quickdraw\",\n",
        "                                extract=True)"
      ]
    },
    {
      "cell_type": "code",
      "execution_count": null,
      "metadata": {
        "id": "LPEHrpLiOq6_"
      },
      "outputs": [],
      "source": [
        "quickdraw_dir = Path(filepath).parent\n",
        "train_files = sorted([str(path) for path in quickdraw_dir.glob(\"training.tfrecord-*\")])\n",
        "eval_files = sorted([str(path) for path in quickdraw_dir.glob(\"eval.tfrecord-*\")])"
      ]
    },
    {
      "cell_type": "code",
      "execution_count": null,
      "metadata": {
        "id": "vLpyChfDOq6_"
      },
      "outputs": [],
      "source": [
        "train_files"
      ]
    },
    {
      "cell_type": "code",
      "execution_count": null,
      "metadata": {
        "id": "1k-pT6JyOq6_"
      },
      "outputs": [],
      "source": [
        "eval_files"
      ]
    },
    {
      "cell_type": "code",
      "execution_count": null,
      "metadata": {
        "id": "xLAQRAbDOq6_"
      },
      "outputs": [],
      "source": [
        "with open(quickdraw_dir / \"eval.tfrecord.classes\") as test_classes_file:\n",
        "    test_classes = test_classes_file.readlines()\n",
        "    \n",
        "with open(quickdraw_dir / \"training.tfrecord.classes\") as train_classes_file:\n",
        "    train_classes = train_classes_file.readlines()"
      ]
    },
    {
      "cell_type": "code",
      "execution_count": null,
      "metadata": {
        "id": "Jufq-WhhOq7A"
      },
      "outputs": [],
      "source": [
        "assert train_classes == test_classes\n",
        "class_names = [name.strip().lower() for name in train_classes]"
      ]
    },
    {
      "cell_type": "code",
      "execution_count": null,
      "metadata": {
        "id": "AKyq79GROq7A"
      },
      "outputs": [],
      "source": [
        "sorted(class_names)"
      ]
    },
    {
      "cell_type": "code",
      "execution_count": null,
      "metadata": {
        "id": "QqugIJbtOq7A"
      },
      "outputs": [],
      "source": [
        "def parse(data_batch):\n",
        "    feature_descriptions = {\n",
        "        \"ink\": tf.io.VarLenFeature(dtype=tf.float32),\n",
        "        \"shape\": tf.io.FixedLenFeature([2], dtype=tf.int64),\n",
        "        \"class_index\": tf.io.FixedLenFeature([1], dtype=tf.int64)\n",
        "    }\n",
        "    examples = tf.io.parse_example(data_batch, feature_descriptions)\n",
        "    flat_sketches = tf.sparse.to_dense(examples[\"ink\"])\n",
        "    sketches = tf.reshape(flat_sketches, shape=[tf.size(data_batch), -1, 3])\n",
        "    lengths = examples[\"shape\"][:, 0]\n",
        "    labels = examples[\"class_index\"][:, 0]\n",
        "    return sketches, lengths, labels"
      ]
    },
    {
      "cell_type": "code",
      "execution_count": null,
      "metadata": {
        "id": "u3Tt6KhTOq7A"
      },
      "outputs": [],
      "source": [
        "def quickdraw_dataset(filepaths, batch_size=32, shuffle_buffer_size=None,\n",
        "                      n_parse_threads=5, n_read_threads=5, cache=False):\n",
        "    dataset = tf.data.TFRecordDataset(filepaths,\n",
        "                                      num_parallel_reads=n_read_threads)\n",
        "    if cache:\n",
        "        dataset = dataset.cache()\n",
        "    if shuffle_buffer_size:\n",
        "        dataset = dataset.shuffle(shuffle_buffer_size)\n",
        "    dataset = dataset.batch(batch_size)\n",
        "    dataset = dataset.map(parse, num_parallel_calls=n_parse_threads)\n",
        "    return dataset.prefetch(1)"
      ]
    },
    {
      "cell_type": "code",
      "execution_count": null,
      "metadata": {
        "id": "kPkZmzHPOq7A"
      },
      "outputs": [],
      "source": [
        "train_set = quickdraw_dataset(train_files, shuffle_buffer_size=10000)\n",
        "valid_set = quickdraw_dataset(eval_files[:5])\n",
        "test_set = quickdraw_dataset(eval_files[5:])"
      ]
    },
    {
      "cell_type": "code",
      "execution_count": null,
      "metadata": {
        "id": "hOcxJl-oOq7A"
      },
      "outputs": [],
      "source": [
        "for sketches, lengths, labels in train_set.take(1):\n",
        "    print(\"sketches =\", sketches)\n",
        "    print(\"lengths =\", lengths)\n",
        "    print(\"labels =\", labels)"
      ]
    },
    {
      "cell_type": "code",
      "execution_count": null,
      "metadata": {
        "id": "Rmxp8Q88Oq7A"
      },
      "outputs": [],
      "source": [
        "def draw_sketch(sketch, label=None):\n",
        "    origin = np.array([[0., 0., 0.]])\n",
        "    sketch = np.r_[origin, sketch]\n",
        "    stroke_end_indices = np.argwhere(sketch[:, -1]==1.)[:, 0]\n",
        "    coordinates = np.cumsum(sketch[:, :2], axis=0)\n",
        "    strokes = np.split(coordinates, stroke_end_indices + 1)\n",
        "    title = class_names[label.numpy()] if label is not None else \"Try to guess\"\n",
        "    plt.title(title)\n",
        "    plt.plot(coordinates[:, 0], -coordinates[:, 1], \"y:\")\n",
        "    for stroke in strokes:\n",
        "        plt.plot(stroke[:, 0], -stroke[:, 1], \".-\")\n",
        "    plt.axis(\"off\")\n",
        "\n",
        "def draw_sketches(sketches, lengths, labels):\n",
        "    n_sketches = len(sketches)\n",
        "    n_cols = 4\n",
        "    n_rows = (n_sketches - 1) // n_cols + 1\n",
        "    plt.figure(figsize=(n_cols * 3, n_rows * 3.5))\n",
        "    for index, sketch, length, label in zip(range(n_sketches), sketches, lengths, labels):\n",
        "        plt.subplot(n_rows, n_cols, index + 1)\n",
        "        draw_sketch(sketch[:length], label)\n",
        "    plt.show()\n",
        "\n",
        "for sketches, lengths, labels in train_set.take(1):\n",
        "    draw_sketches(sketches, lengths, labels)"
      ]
    },
    {
      "cell_type": "markdown",
      "metadata": {
        "id": "Z4Hvh3MwOq7B"
      },
      "source": [
        "Most sketches are composed of less than 100 points:"
      ]
    },
    {
      "cell_type": "code",
      "execution_count": null,
      "metadata": {
        "id": "mO9zLR04Oq7B"
      },
      "outputs": [],
      "source": [
        "lengths = np.concatenate([lengths for _, lengths, _ in train_set.take(1000)])\n",
        "plt.hist(lengths, bins=150, density=True)\n",
        "plt.axis([0, 200, 0, 0.03])\n",
        "plt.xlabel(\"length\")\n",
        "plt.ylabel(\"density\")\n",
        "plt.show()"
      ]
    },
    {
      "cell_type": "code",
      "execution_count": null,
      "metadata": {
        "id": "cr-KWBJ6Oq7B"
      },
      "outputs": [],
      "source": [
        "def crop_long_sketches(dataset, max_length=100):\n",
        "    return dataset.map(lambda inks, lengths, labels: (inks[:, :max_length], labels))\n",
        "\n",
        "cropped_train_set = crop_long_sketches(train_set)\n",
        "cropped_valid_set = crop_long_sketches(valid_set)\n",
        "cropped_test_set = crop_long_sketches(test_set)"
      ]
    },
    {
      "cell_type": "code",
      "execution_count": null,
      "metadata": {
        "id": "yafNrzTOOq7B"
      },
      "outputs": [],
      "source": [
        "model = keras.models.Sequential([\n",
        "    keras.layers.Conv1D(32, kernel_size=5, strides=2, activation=\"relu\"),\n",
        "    keras.layers.BatchNormalization(),\n",
        "    keras.layers.Conv1D(64, kernel_size=5, strides=2, activation=\"relu\"),\n",
        "    keras.layers.BatchNormalization(),\n",
        "    keras.layers.Conv1D(128, kernel_size=3, strides=2, activation=\"relu\"),\n",
        "    keras.layers.BatchNormalization(),\n",
        "    keras.layers.LSTM(128, return_sequences=True),\n",
        "    keras.layers.LSTM(128),\n",
        "    keras.layers.Dense(len(class_names), activation=\"softmax\")\n",
        "])\n",
        "optimizer = keras.optimizers.SGD(learning_rate=1e-2, clipnorm=1.)\n",
        "model.compile(loss=\"sparse_categorical_crossentropy\",\n",
        "              optimizer=optimizer,\n",
        "              metrics=[\"accuracy\", \"sparse_top_k_categorical_accuracy\"])\n",
        "history = model.fit(cropped_train_set, epochs=2,\n",
        "                    validation_data=cropped_valid_set)"
      ]
    },
    {
      "cell_type": "code",
      "execution_count": null,
      "metadata": {
        "id": "figeZNaYOq7B"
      },
      "outputs": [],
      "source": [
        "y_test = np.concatenate([labels for _, _, labels in test_set])\n",
        "y_probas = model.predict(test_set)"
      ]
    },
    {
      "cell_type": "code",
      "execution_count": null,
      "metadata": {
        "id": "Em35bHyTOq7B"
      },
      "outputs": [],
      "source": [
        "np.mean(keras.metrics.sparse_top_k_categorical_accuracy(y_test, y_probas))"
      ]
    },
    {
      "cell_type": "code",
      "execution_count": null,
      "metadata": {
        "id": "Vm6nyCmMOq7B"
      },
      "outputs": [],
      "source": [
        "n_new = 10\n",
        "Y_probas = model.predict(sketches)\n",
        "top_k = tf.nn.top_k(Y_probas, k=5)\n",
        "for index in range(n_new):\n",
        "    plt.figure(figsize=(3, 3.5))\n",
        "    draw_sketch(sketches[index])\n",
        "    plt.show()\n",
        "    print(\"Top-5 predictions:\".format(index + 1))\n",
        "    for k in range(5):\n",
        "        class_name = class_names[top_k.indices[index, k]]\n",
        "        proba = 100 * top_k.values[index, k]\n",
        "        print(\"  {}. {} {:.3f}%\".format(k + 1, class_name, proba))\n",
        "    print(\"Answer: {}\".format(class_names[labels[index].numpy()]))"
      ]
    },
    {
      "cell_type": "code",
      "execution_count": null,
      "metadata": {
        "id": "N6XisGCnOq7C"
      },
      "outputs": [],
      "source": [
        "model.save(\"my_sketchrnn\")"
      ]
    },
    {
      "cell_type": "markdown",
      "metadata": {
        "id": "TfHFXVD1Oq7C"
      },
      "source": [
        "## 10. Bach Chorales\n",
        "_Exercise: Download the [Bach chorales](https://homl.info/bach) dataset and unzip it. It is composed of 382 chorales composed by Johann Sebastian Bach. Each chorale is 100 to 640 time steps long, and each time step contains 4 integers, where each integer corresponds to a note's index on a piano (except for the value 0, which means that no note is played). Train a model—recurrent, convolutional, or both—that can predict the next time step (four notes), given a sequence of time steps from a chorale. Then use this model to generate Bach-like music, one note at a time: you can do this by giving the model the start of a chorale and asking it to predict the next time step, then appending these time steps to the input sequence and asking the model for the next note, and so on. Also make sure to check out [Google's Coconet model](https://homl.info/coconet), which was used for a nice [Google doodle about Bach](https://www.google.com/doodles/celebrating-johann-sebastian-bach)._\n",
        "\n"
      ]
    },
    {
      "cell_type": "code",
      "execution_count": null,
      "metadata": {
        "id": "x9DFv42-Oq7C"
      },
      "outputs": [],
      "source": [
        "DOWNLOAD_ROOT = \"https://github.com/ageron/handson-ml2/raw/master/datasets/jsb_chorales/\"\n",
        "FILENAME = \"jsb_chorales.tgz\"\n",
        "filepath = keras.utils.get_file(FILENAME,\n",
        "                                DOWNLOAD_ROOT + FILENAME,\n",
        "                                cache_subdir=\"datasets/jsb_chorales\",\n",
        "                                extract=True)"
      ]
    },
    {
      "cell_type": "code",
      "execution_count": null,
      "metadata": {
        "id": "7cUV1emDOq7C"
      },
      "outputs": [],
      "source": [
        "jsb_chorales_dir = Path(filepath).parent\n",
        "train_files = sorted(jsb_chorales_dir.glob(\"train/chorale_*.csv\"))\n",
        "valid_files = sorted(jsb_chorales_dir.glob(\"valid/chorale_*.csv\"))\n",
        "test_files = sorted(jsb_chorales_dir.glob(\"test/chorale_*.csv\"))"
      ]
    },
    {
      "cell_type": "code",
      "execution_count": null,
      "metadata": {
        "id": "pQXBvSc0Oq7C"
      },
      "outputs": [],
      "source": [
        "import pandas as pd\n",
        "\n",
        "def load_chorales(filepaths):\n",
        "    return [pd.read_csv(filepath).values.tolist() for filepath in filepaths]\n",
        "\n",
        "train_chorales = load_chorales(train_files)\n",
        "valid_chorales = load_chorales(valid_files)\n",
        "test_chorales = load_chorales(test_files)"
      ]
    },
    {
      "cell_type": "code",
      "execution_count": null,
      "metadata": {
        "id": "_SKVX_sPOq7C"
      },
      "outputs": [],
      "source": [
        "train_chorales[0]"
      ]
    },
    {
      "cell_type": "markdown",
      "metadata": {
        "id": "us1DfA_DOq7C"
      },
      "source": [
        "Notes range from 36 (C1 = C on octave 1) to 81 (A5 = A on octave 5), plus 0 for silence:"
      ]
    },
    {
      "cell_type": "code",
      "execution_count": null,
      "metadata": {
        "id": "p3ZHodHcOq7C"
      },
      "outputs": [],
      "source": [
        "notes = set()\n",
        "for chorales in (train_chorales, valid_chorales, test_chorales):\n",
        "    for chorale in chorales:\n",
        "        for chord in chorale:\n",
        "            notes |= set(chord)\n",
        "\n",
        "n_notes = len(notes)\n",
        "min_note = min(notes - {0})\n",
        "max_note = max(notes)\n",
        "\n",
        "assert min_note == 36\n",
        "assert max_note == 81"
      ]
    },
    {
      "cell_type": "markdown",
      "metadata": {
        "id": "RQ2dyZfeOq7D"
      },
      "source": [
        "Let's write a few functions to listen to these chorales (you don't need to understand the details here, and in fact there are certainly simpler ways to do this, for example using MIDI players, but I just wanted to have a bit of fun writing a synthesizer):"
      ]
    },
    {
      "cell_type": "code",
      "execution_count": null,
      "metadata": {
        "id": "aY-ayw5hOq7D"
      },
      "outputs": [],
      "source": [
        "from IPython.display import Audio\n",
        "\n",
        "def notes_to_frequencies(notes):\n",
        "    # Frequency doubles when you go up one octave; there are 12 semi-tones\n",
        "    # per octave; Note A on octave 4 is 440 Hz, and it is note number 69.\n",
        "    return 2 ** ((np.array(notes) - 69) / 12) * 440\n",
        "\n",
        "def frequencies_to_samples(frequencies, tempo, sample_rate):\n",
        "    note_duration = 60 / tempo # the tempo is measured in beats per minutes\n",
        "    # To reduce click sound at every beat, we round the frequencies to try to\n",
        "    # get the samples close to zero at the end of each note.\n",
        "    frequencies = np.round(note_duration * frequencies) / note_duration\n",
        "    n_samples = int(note_duration * sample_rate)\n",
        "    time = np.linspace(0, note_duration, n_samples)\n",
        "    sine_waves = np.sin(2 * np.pi * frequencies.reshape(-1, 1) * time)\n",
        "    # Removing all notes with frequencies ≤ 9 Hz (includes note 0 = silence)\n",
        "    sine_waves *= (frequencies > 9.).reshape(-1, 1)\n",
        "    return sine_waves.reshape(-1)\n",
        "\n",
        "def chords_to_samples(chords, tempo, sample_rate):\n",
        "    freqs = notes_to_frequencies(chords)\n",
        "    freqs = np.r_[freqs, freqs[-1:]] # make last note a bit longer\n",
        "    merged = np.mean([frequencies_to_samples(melody, tempo, sample_rate)\n",
        "                     for melody in freqs.T], axis=0)\n",
        "    n_fade_out_samples = sample_rate * 60 // tempo # fade out last note\n",
        "    fade_out = np.linspace(1., 0., n_fade_out_samples)**2\n",
        "    merged[-n_fade_out_samples:] *= fade_out\n",
        "    return merged\n",
        "\n",
        "def play_chords(chords, tempo=160, amplitude=0.1, sample_rate=44100, filepath=None):\n",
        "    samples = amplitude * chords_to_samples(chords, tempo, sample_rate)\n",
        "    if filepath:\n",
        "        from scipy.io import wavfile\n",
        "        samples = (2**15 * samples).astype(np.int16)\n",
        "        wavfile.write(filepath, sample_rate, samples)\n",
        "        return display(Audio(filepath))\n",
        "    else:\n",
        "        return display(Audio(samples, rate=sample_rate))"
      ]
    },
    {
      "cell_type": "markdown",
      "metadata": {
        "id": "ln-71nfiOq7D"
      },
      "source": [
        "Now let's listen to a few chorales:"
      ]
    },
    {
      "cell_type": "code",
      "execution_count": null,
      "metadata": {
        "id": "DkFqE0nyOq7D"
      },
      "outputs": [],
      "source": [
        "for index in range(3):\n",
        "    play_chords(train_chorales[index])"
      ]
    },
    {
      "cell_type": "markdown",
      "metadata": {
        "id": "pkptnTZpOq7D"
      },
      "source": [
        "Divine! :)"
      ]
    },
    {
      "cell_type": "markdown",
      "metadata": {
        "id": "bVuYQYtFOq7D"
      },
      "source": [
        "In order to be able to generate new chorales, we want to train a model that can predict the next chord given all the previous chords. If we naively try to predict the next chord in one shot, predicting all 4 notes at once, we run the risk of getting notes that don't go very well together (believe me, I tried). It's much better and simpler to predict one note at a time. So we will need to preprocess every chorale, turning each chord into an arpegio (i.e., a sequence of notes rather than notes played simultaneuously). So each chorale will be a long sequence of notes (rather than chords), and we can just train a model that can predict the next note given all the previous notes. We will use a sequence-to-sequence approach, where we feed a window to the neural net, and it tries to predict that same window shifted one time step into the future.\n",
        "\n",
        "We will also shift the values so that they range from 0 to 46, where 0 represents silence, and values 1 to 46 represent notes 36 (C1) to 81 (A5).\n",
        "\n",
        "And we will train the model on windows of 128 notes (i.e., 32 chords).\n",
        "\n",
        "Since the dataset fits in memory, we could preprocess the chorales in RAM using any Python code we like, but I will demonstrate here how to do all the preprocessing using tf.data (there will be more details about creating windows using tf.data in the next chapter)."
      ]
    },
    {
      "cell_type": "code",
      "execution_count": null,
      "metadata": {
        "id": "ORngL971Oq7D"
      },
      "outputs": [],
      "source": [
        "def create_target(batch):\n",
        "    X = batch[:, :-1]\n",
        "    Y = batch[:, 1:] # predict next note in each arpegio, at each step\n",
        "    return X, Y\n",
        "\n",
        "def preprocess(window):\n",
        "    window = tf.where(window == 0, window, window - min_note + 1) # shift values\n",
        "    return tf.reshape(window, [-1]) # convert to arpegio\n",
        "\n",
        "def bach_dataset(chorales, batch_size=32, shuffle_buffer_size=None,\n",
        "                 window_size=32, window_shift=16, cache=True):\n",
        "    def batch_window(window):\n",
        "        return window.batch(window_size + 1)\n",
        "\n",
        "    def to_windows(chorale):\n",
        "        dataset = tf.data.Dataset.from_tensor_slices(chorale)\n",
        "        dataset = dataset.window(window_size + 1, window_shift, drop_remainder=True)\n",
        "        return dataset.flat_map(batch_window)\n",
        "\n",
        "    chorales = tf.ragged.constant(chorales, ragged_rank=1)\n",
        "    dataset = tf.data.Dataset.from_tensor_slices(chorales)\n",
        "    dataset = dataset.flat_map(to_windows).map(preprocess)\n",
        "    if cache:\n",
        "        dataset = dataset.cache()\n",
        "    if shuffle_buffer_size:\n",
        "        dataset = dataset.shuffle(shuffle_buffer_size)\n",
        "    dataset = dataset.batch(batch_size)\n",
        "    dataset = dataset.map(create_target)\n",
        "    return dataset.prefetch(1)"
      ]
    },
    {
      "cell_type": "markdown",
      "metadata": {
        "id": "SxFabzmuOq7D"
      },
      "source": [
        "Now let's create the training set, the validation set and the test set:"
      ]
    },
    {
      "cell_type": "code",
      "execution_count": null,
      "metadata": {
        "id": "yh8I2e89Oq7D"
      },
      "outputs": [],
      "source": [
        "train_set = bach_dataset(train_chorales, shuffle_buffer_size=1000)\n",
        "valid_set = bach_dataset(valid_chorales)\n",
        "test_set = bach_dataset(test_chorales)"
      ]
    },
    {
      "cell_type": "markdown",
      "metadata": {
        "id": "D13R3aUJOq7E"
      },
      "source": [
        "Now let's create the model:\n",
        "\n",
        "* We could feed the note values directly to the model, as floats, but this would probably not give good results. Indeed, the relationships between notes are not that simple: for example, if you replace a C3 with a C4, the melody will still sound fine, even though these notes are 12 semi-tones apart (i.e., one octave). Conversely, if you replace a C3 with a C\\#3, it's very likely that the chord will sound horrible, despite these notes being just next to each other. So we will use an `Embedding` layer to convert each note to a small vector representation (see Chapter 16 for more details on embeddings). We will use 5-dimensional embeddings, so the output of this first layer will have a shape of `[batch_size, window_size, 5]`.\n",
        "* We will then feed this data to a small WaveNet-like neural network, composed of a stack of 4 `Conv1D` layers with doubling dilation rates. We will intersperse these layers with `BatchNormalization` layers for faster better convergence.\n",
        "* Then one `LSTM` layer to try to capture long-term patterns.\n",
        "* And finally a `Dense` layer to produce the final note probabilities. It will predict one probability for each chorale in the batch, for each time step, and for each possible note (including silence). So the output shape will be `[batch_size, window_size, 47]`."
      ]
    },
    {
      "cell_type": "code",
      "execution_count": null,
      "metadata": {
        "id": "DZKh65JhOq7E"
      },
      "outputs": [],
      "source": [
        "n_embedding_dims = 5\n",
        "\n",
        "model = keras.models.Sequential([\n",
        "    keras.layers.Embedding(input_dim=n_notes, output_dim=n_embedding_dims,\n",
        "                           input_shape=[None]),\n",
        "    keras.layers.Conv1D(32, kernel_size=2, padding=\"causal\", activation=\"relu\"),\n",
        "    keras.layers.BatchNormalization(),\n",
        "    keras.layers.Conv1D(48, kernel_size=2, padding=\"causal\", activation=\"relu\", dilation_rate=2),\n",
        "    keras.layers.BatchNormalization(),\n",
        "    keras.layers.Conv1D(64, kernel_size=2, padding=\"causal\", activation=\"relu\", dilation_rate=4),\n",
        "    keras.layers.BatchNormalization(),\n",
        "    keras.layers.Conv1D(96, kernel_size=2, padding=\"causal\", activation=\"relu\", dilation_rate=8),\n",
        "    keras.layers.BatchNormalization(),\n",
        "    keras.layers.LSTM(256, return_sequences=True),\n",
        "    keras.layers.Dense(n_notes, activation=\"softmax\")\n",
        "])\n",
        "\n",
        "model.summary()"
      ]
    },
    {
      "cell_type": "markdown",
      "metadata": {
        "id": "L6LudsRcOq7E"
      },
      "source": [
        "Now we're ready to compile and train the model!"
      ]
    },
    {
      "cell_type": "code",
      "execution_count": null,
      "metadata": {
        "id": "pDtoz2otOq7E"
      },
      "outputs": [],
      "source": [
        "optimizer = keras.optimizers.Nadam(learning_rate=1e-3)\n",
        "model.compile(loss=\"sparse_categorical_crossentropy\", optimizer=optimizer,\n",
        "              metrics=[\"accuracy\"])\n",
        "model.fit(train_set, epochs=20, validation_data=valid_set)"
      ]
    },
    {
      "cell_type": "markdown",
      "metadata": {
        "id": "J3gc-YFdOq7E"
      },
      "source": [
        "I have not done much hyperparameter search, so feel free to iterate on this model now and try to optimize it. For example, you could try removing the `LSTM` layer and replacing it with `Conv1D` layers. You could also play with the number of layers, the learning rate, the optimizer, and so on."
      ]
    },
    {
      "cell_type": "markdown",
      "metadata": {
        "id": "Xb5sg0AoOq7E"
      },
      "source": [
        "Once you're satisfied with the performance of the model on the validation set, you can save it and evaluate it one last time on the test set:"
      ]
    },
    {
      "cell_type": "code",
      "execution_count": null,
      "metadata": {
        "id": "rsFW057DOq7E"
      },
      "outputs": [],
      "source": [
        "model.save(\"my_bach_model.h5\")\n",
        "model.evaluate(test_set)"
      ]
    },
    {
      "cell_type": "markdown",
      "metadata": {
        "id": "EVU8BzuKOq7F"
      },
      "source": [
        "**Note:** There's no real need for a test set in this exercise, since we will perform the final evaluation by just listening to the music produced by the model. So if you want, you can add the test set to the train set, and train the model again, hopefully getting a slightly better model."
      ]
    },
    {
      "cell_type": "markdown",
      "metadata": {
        "id": "ufTCyjT2Oq7F"
      },
      "source": [
        "Now let's write a function that will generate a new chorale. We will give it a few seed chords, it will convert them to arpegios (the format expected by the model), and use the model to predict the next note, then the next, and so on. In the end, it will group the notes 4 by 4 to create chords again, and return the resulting chorale."
      ]
    },
    {
      "cell_type": "markdown",
      "metadata": {
        "id": "RJEFlM2fOq7F"
      },
      "source": [
        "**Warning**: `model.predict_classes(X)` is deprecated. It is replaced with `np.argmax(model.predict(X), axis=-1)`."
      ]
    },
    {
      "cell_type": "code",
      "execution_count": null,
      "metadata": {
        "id": "4xpepFMOOq7F"
      },
      "outputs": [],
      "source": [
        "def generate_chorale(model, seed_chords, length):\n",
        "    arpegio = preprocess(tf.constant(seed_chords, dtype=tf.int64))\n",
        "    arpegio = tf.reshape(arpegio, [1, -1])\n",
        "    for chord in range(length):\n",
        "        for note in range(4):\n",
        "            #next_note = model.predict_classes(arpegio)[:1, -1:]\n",
        "            next_note = np.argmax(model.predict(arpegio), axis=-1)[:1, -1:]\n",
        "            arpegio = tf.concat([arpegio, next_note], axis=1)\n",
        "    arpegio = tf.where(arpegio == 0, arpegio, arpegio + min_note - 1)\n",
        "    return tf.reshape(arpegio, shape=[-1, 4])"
      ]
    },
    {
      "cell_type": "markdown",
      "metadata": {
        "id": "FuFrPGDhOq7F"
      },
      "source": [
        "To test this function, we need some seed chords. Let's use the first 8 chords of one of the test chorales (it's actually just 2 different chords, each played 4 times):"
      ]
    },
    {
      "cell_type": "code",
      "execution_count": null,
      "metadata": {
        "id": "uBSFuj5lOq7F"
      },
      "outputs": [],
      "source": [
        "seed_chords = test_chorales[2][:8]\n",
        "play_chords(seed_chords, amplitude=0.2)"
      ]
    },
    {
      "cell_type": "markdown",
      "metadata": {
        "id": "uvFQWu_MOq7F"
      },
      "source": [
        "Now we are ready to generate our first chorale! Let's ask the function to generate 56 more chords, for a total of 64 chords, i.e., 16 bars (assuming 4 chords per bar, i.e., a 4/4 signature):"
      ]
    },
    {
      "cell_type": "code",
      "execution_count": null,
      "metadata": {
        "id": "HnZNpIXAOq7F"
      },
      "outputs": [],
      "source": [
        "new_chorale = generate_chorale(model, seed_chords, 56)\n",
        "play_chords(new_chorale)"
      ]
    },
    {
      "cell_type": "markdown",
      "metadata": {
        "id": "L0x49OhAOq7F"
      },
      "source": [
        "This approach has one major flaw: it is often too conservative. Indeed, the model will not take any risk, it will always choose the note with the highest score, and since repeating the previous note generally sounds good enough, it's the least risky option, so the algorithm will tend to make notes last longer and longer. Pretty boring. Plus, if you run the model multiple times, it will always generate the same melody.\n",
        "\n",
        "So let's spice things up a bit! Instead of always picking the note with the highest score, we will pick the next note randomly, according to the predicted probabilities. For example, if the model predicts a C3 with 75% probability, and a G3 with a 25% probability, then we will pick one of these two notes randomly, with these probabilities. We will also add a `temperature` parameter that will control how \"hot\" (i.e., daring) we want the system to feel. A high temperature will bring the predicted probabilities closer together, reducing the probability of the likely notes and increasing the probability of the unlikely ones."
      ]
    },
    {
      "cell_type": "code",
      "execution_count": null,
      "metadata": {
        "id": "m1IhRb28Oq7F"
      },
      "outputs": [],
      "source": [
        "def generate_chorale_v2(model, seed_chords, length, temperature=1):\n",
        "    arpegio = preprocess(tf.constant(seed_chords, dtype=tf.int64))\n",
        "    arpegio = tf.reshape(arpegio, [1, -1])\n",
        "    for chord in range(length):\n",
        "        for note in range(4):\n",
        "            next_note_probas = model.predict(arpegio)[0, -1:]\n",
        "            rescaled_logits = tf.math.log(next_note_probas) / temperature\n",
        "            next_note = tf.random.categorical(rescaled_logits, num_samples=1)\n",
        "            arpegio = tf.concat([arpegio, next_note], axis=1)\n",
        "    arpegio = tf.where(arpegio == 0, arpegio, arpegio + min_note - 1)\n",
        "    return tf.reshape(arpegio, shape=[-1, 4])"
      ]
    },
    {
      "cell_type": "markdown",
      "metadata": {
        "id": "lR0uW3DNOq7G"
      },
      "source": [
        "Let's generate 3 chorales using this new function: one cold, one medium, and one hot (feel free to experiment with other seeds, lengths and temperatures). The code saves each chorale to a separate file. You can run these cells over an over again until you generate a masterpiece!\n",
        "\n",
        "**Please share your most beautiful generated chorale with me on Twitter @aureliengeron, I would really appreciate it! :))**"
      ]
    },
    {
      "cell_type": "code",
      "execution_count": null,
      "metadata": {
        "id": "nFEZA753Oq7G",
        "scrolled": true
      },
      "outputs": [],
      "source": [
        "new_chorale_v2_cold = generate_chorale_v2(model, seed_chords, 56, temperature=0.8)\n",
        "play_chords(new_chorale_v2_cold, filepath=\"bach_cold.wav\")"
      ]
    },
    {
      "cell_type": "code",
      "execution_count": null,
      "metadata": {
        "id": "aFT2eFEJOq7G"
      },
      "outputs": [],
      "source": [
        "new_chorale_v2_medium = generate_chorale_v2(model, seed_chords, 56, temperature=1.0)\n",
        "play_chords(new_chorale_v2_medium, filepath=\"bach_medium.wav\")"
      ]
    },
    {
      "cell_type": "code",
      "execution_count": null,
      "metadata": {
        "id": "Kgh4HbKiOq7G"
      },
      "outputs": [],
      "source": [
        "new_chorale_v2_hot = generate_chorale_v2(model, seed_chords, 56, temperature=1.5)\n",
        "play_chords(new_chorale_v2_hot, filepath=\"bach_hot.wav\")"
      ]
    },
    {
      "cell_type": "markdown",
      "metadata": {
        "id": "bfStQ0tsOq7G"
      },
      "source": [
        "Lastly, you can try a fun social experiment: send your friends a few of your favorite generated chorales, plus the real chorale, and ask them to guess which one is the real one!"
      ]
    },
    {
      "cell_type": "code",
      "execution_count": null,
      "metadata": {
        "id": "UEv-zHw-Oq7G"
      },
      "outputs": [],
      "source": [
        "play_chords(test_chorales[2][:64], filepath=\"bach_test_4.wav\")"
      ]
    }
  ],
  "metadata": {
    "colab": {
      "name": "15_processing_sequences_using_rnns_and_cnns.ipynb",
      "provenance": []
    },
    "kernelspec": {
      "display_name": "Python 3",
      "language": "python",
      "name": "python3"
    },
    "language_info": {
      "codemirror_mode": {
        "name": "ipython",
        "version": 3
      },
      "file_extension": ".py",
      "mimetype": "text/x-python",
      "name": "python",
      "nbconvert_exporter": "python",
      "pygments_lexer": "ipython3",
      "version": "3.8.11"
    },
    "nav_menu": {},
    "toc": {
      "navigate_menu": true,
      "number_sections": true,
      "sideBar": true,
      "threshold": 6,
      "toc_cell": false,
      "toc_section_display": "block",
      "toc_window_display": false
    }
  },
  "nbformat": 4,
  "nbformat_minor": 0
}
