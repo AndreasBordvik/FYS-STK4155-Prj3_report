{
 "cells": [
  {
   "cell_type": "code",
   "execution_count": null,
   "metadata": {},
   "outputs": [],
   "source": [
    "import pandas as pd\n",
    "import numpy as np\n",
    "import matplotlib.pyplot as plt\n",
    "from statsmodels.tsa.stattools import adfuller\n",
    "from statsmodels.graphics.tsaplots import plot_acf,plot_pacf\n",
    "from statsmodels.regression.linear_model import yule_walker\n",
    "from sklearn.metrics import r2_score, mean_squared_error\n",
    "from sklearn.model_selection import TimeSeriesSplit\n",
    "\n",
    "\n",
    "\n",
    "df = pd.read_csv(f\"../data/input_data/MAIN_DATASET.csv\", index_col=[0])\n",
    "df['year'] = pd.DatetimeIndex(df['date_time']).year\n",
    "df['month'] = pd.DatetimeIndex(df['date_time']).month\n",
    "selceted_df = df[df['year'] == 2021]\n",
    "selceted_df = selceted_df[selceted_df['month'] >= 6]\n",
    "\n",
    "day_ahead_prices = selceted_df[[\"dato_id\",\"NO2_price\", \"NO5_price\"]]\n"
   ]
  },
  {
   "cell_type": "code",
   "execution_count": null,
   "metadata": {},
   "outputs": [],
   "source": [
    "\n",
    "\n",
    "time_steps = 3\n",
    "order = 3\n",
    "\n",
    "\n",
    "\n",
    "train = day_ahead_prices[\"NO2_price\"][:-time_steps].to_numpy()\n",
    "test = day_ahead_prices[\"NO2_price\"][-time_steps:].to_numpy()\n",
    "\n",
    "\n",
    "def AR_model(train:np.ndarray, test:np.ndarray, time_steps:int,model_order:int, is_differenced = False)->np.ndarray:\n",
    "    phi, _ = yule_walker(train, order = order)\n",
    "    #create empty array with lagged values and room for preds(currently zeros)\n",
    "    X_hat = np.zeros(model_order + time_steps)\n",
    "    X_hat[:order] = train[-order:]\n",
    "    \n",
    "    \n",
    "    print(f\"{X_hat=}\")\n",
    "    # print(f\"{phi=}\")\n",
    "\n",
    "    for step in range(time_steps):\n",
    "        X_t = 0\n",
    "        for p in range(model_order):\n",
    "            print(f\"step: [{step}], p:[{p}]  {X_hat[(model_order+step)-(p+1)]}\")\n",
    "            X_t += phi[p] * X_hat[(model_order+step)-(p+1)]\n",
    "        X_hat[model_order+step] = X_t\n",
    "    print(f\"{X_hat[-time_steps:]=}\")\n",
    "    print(f\"{test=}\")\n",
    "    \n",
    "    \n",
    "AR_model(train,test,time_steps,order)\n",
    "# for t in range(time_steps):\n",
    "#     X_t = 0\n",
    "#     for i in range(1,len(coefficients)+1):\n",
    "#         X_t += coefficients[i-1] * X_hat[-i]\n",
    "    \n",
    "#     X_hat[-t] = X_t\n",
    "  \n",
    "\n",
    "# # print(X_hat[-time_steps:])\n",
    "# # print(test)\n",
    "# print(f\"{mean_squared_error(test,X_hat[-time_steps:])=}\")\n",
    "# plt.plot(np.arange((time_steps), X_hat[-time_steps:]))\n",
    "# # plt.plot(np.arange((test), test))\n",
    "# print()\n",
    "# print('Test R2:', r2_score(validation.iloc[-10:, 0], validation.iloc[-10:, 1]))\n",
    "\n",
    "# # Plot the newly obtained list\n",
    "# plot_window = n_steps+24\n",
    "\n",
    "# plt.plot(np.arange(plot_window),validation[\"Prediction\"].tail(plot_window))\n",
    "# plt.plot(np.arange(plot_window),validation[\"Original\"].tail(plot_window))\n",
    "# plt.legend(validation.columns)\n",
    "# plt.title(f\"{n_steps} hour prediction with AR({order})\")\n",
    "# plt.ylabel('Day Ahead Price')\n",
    "# plt.xlabel('t')\n",
    "# plt.show()"
   ]
  },
  {
   "cell_type": "code",
   "execution_count": null,
   "metadata": {},
   "outputs": [],
   "source": []
  }
 ],
 "metadata": {
  "interpreter": {
   "hash": "1341f2ca8bae0273958fc68fc9062d4567e8214cb67a8c75fe7f4d8d8f4d5eac"
  },
  "kernelspec": {
   "display_name": "Python 3.9.7 64-bit ('geo4300_env': conda)",
   "language": "python",
   "name": "python3"
  },
  "language_info": {
   "codemirror_mode": {
    "name": "ipython",
    "version": 3
   },
   "file_extension": ".py",
   "mimetype": "text/x-python",
   "name": "python",
   "nbconvert_exporter": "python",
   "pygments_lexer": "ipython3",
   "version": "3.9.7"
  },
  "orig_nbformat": 4
 },
 "nbformat": 4,
 "nbformat_minor": 2
}
