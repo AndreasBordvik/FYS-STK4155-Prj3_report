{
 "cells": [
  {
   "cell_type": "markdown",
   "metadata": {},
   "source": [
    "## Imports and data loading"
   ]
  },
  {
   "cell_type": "code",
   "execution_count": 1,
   "metadata": {},
   "outputs": [],
   "source": [
    "import numpy as np\n",
    "import pandas as pd\n",
    "import seaborn as sns\n",
    "import matplotlib.pyplot as plt\n",
    "from sklearn.linear_model import LinearRegression\n",
    "from sklearn.metrics import mean_squared_error as MSE\n",
    "from sklearn.svm import SVR\n",
    "import tensorflow as tf\n",
    "from tensorflow.keras.models import Sequential\n",
    "from tensorflow.keras.layers import Dense, Dropout, LSTM, BatchNormalization, Bidirectional, TimeDistributed\n",
    "from tensorflow.keras.callbacks import Callback, EarlyStopping, ReduceLROnPlateau, History\n",
    "from xgboost import XGBRegressor\n",
    "from sklearn.model_selection import train_test_split\n",
    "\n",
    "plt.rcParams.update({\n",
    "    \"text.usetex\": True,\n",
    "    \"font.family\": \"serif\",\n",
    "    \"font.serif\": [\"Palatino\"],\n",
    "    \"font.size\": 10,\n",
    "})\n",
    "\n",
    "def RMSE(true, predicted):\n",
    "    MSE_score = MSE(true, predicted)\n",
    "    return np.round(np.sqrt(MSE_score), decimals=4)"
   ]
  },
  {
   "cell_type": "code",
   "execution_count": 2,
   "metadata": {},
   "outputs": [],
   "source": [
    "# # Training data\n",
    "# training_df = pd.read_csv(\"TrainData.csv\")[[\"TIMESTAMP\",\"POWER\"]]; print(training_df.shape)\n",
    "\n",
    "# # Forecast solutions\n",
    "# forcast_sol_df = pd.read_csv(\"Solution.csv\")[[\"TIMESTAMP\",\"POWER\"]]; print(forcast_sol_df.shape)\n",
    "\n",
    "# # Displaying the loaded data\n",
    "# display(training_df.tail(3))\n",
    "# display(forcast_sol_df.head(3))"
   ]
  },
  {
   "cell_type": "code",
   "execution_count": 3,
   "metadata": {},
   "outputs": [
    {
     "name": "stdout",
     "output_type": "stream",
     "text": [
      "(42960, 2)\n"
     ]
    },
    {
     "data": {
      "text/html": [
       "<div>\n",
       "<style scoped>\n",
       "    .dataframe tbody tr th:only-of-type {\n",
       "        vertical-align: middle;\n",
       "    }\n",
       "\n",
       "    .dataframe tbody tr th {\n",
       "        vertical-align: top;\n",
       "    }\n",
       "\n",
       "    .dataframe thead th {\n",
       "        text-align: right;\n",
       "    }\n",
       "</style>\n",
       "<table border=\"1\" class=\"dataframe\">\n",
       "  <thead>\n",
       "    <tr style=\"text-align: right;\">\n",
       "      <th></th>\n",
       "      <th>NO5_day_ahead_prices</th>\n",
       "      <th>dato_id</th>\n",
       "    </tr>\n",
       "  </thead>\n",
       "  <tbody>\n",
       "    <tr>\n",
       "      <th>34365</th>\n",
       "      <td>41.62</td>\n",
       "      <td>2019-12-02 22:00:00+01:00</td>\n",
       "    </tr>\n",
       "    <tr>\n",
       "      <th>34366</th>\n",
       "      <td>40.48</td>\n",
       "      <td>2019-12-02 23:00:00+01:00</td>\n",
       "    </tr>\n",
       "    <tr>\n",
       "      <th>34367</th>\n",
       "      <td>40.19</td>\n",
       "      <td>2019-12-03 00:00:00+01:00</td>\n",
       "    </tr>\n",
       "  </tbody>\n",
       "</table>\n",
       "</div>"
      ],
      "text/plain": [
       "       NO5_day_ahead_prices                    dato_id\n",
       "34365                 41.62  2019-12-02 22:00:00+01:00\n",
       "34366                 40.48  2019-12-02 23:00:00+01:00\n",
       "34367                 40.19  2019-12-03 00:00:00+01:00"
      ]
     },
     "metadata": {},
     "output_type": "display_data"
    },
    {
     "data": {
      "text/html": [
       "<div>\n",
       "<style scoped>\n",
       "    .dataframe tbody tr th:only-of-type {\n",
       "        vertical-align: middle;\n",
       "    }\n",
       "\n",
       "    .dataframe tbody tr th {\n",
       "        vertical-align: top;\n",
       "    }\n",
       "\n",
       "    .dataframe thead th {\n",
       "        text-align: right;\n",
       "    }\n",
       "</style>\n",
       "<table border=\"1\" class=\"dataframe\">\n",
       "  <thead>\n",
       "    <tr style=\"text-align: right;\">\n",
       "      <th></th>\n",
       "      <th>NO5_day_ahead_prices</th>\n",
       "      <th>dato_id</th>\n",
       "    </tr>\n",
       "  </thead>\n",
       "  <tbody>\n",
       "    <tr>\n",
       "      <th>34368</th>\n",
       "      <td>39.73</td>\n",
       "      <td>2019-12-03 01:00:00+01:00</td>\n",
       "    </tr>\n",
       "    <tr>\n",
       "      <th>34369</th>\n",
       "      <td>39.51</td>\n",
       "      <td>2019-12-03 02:00:00+01:00</td>\n",
       "    </tr>\n",
       "    <tr>\n",
       "      <th>34370</th>\n",
       "      <td>39.43</td>\n",
       "      <td>2019-12-03 03:00:00+01:00</td>\n",
       "    </tr>\n",
       "  </tbody>\n",
       "</table>\n",
       "</div>"
      ],
      "text/plain": [
       "       NO5_day_ahead_prices                    dato_id\n",
       "34368                 39.73  2019-12-03 01:00:00+01:00\n",
       "34369                 39.51  2019-12-03 02:00:00+01:00\n",
       "34370                 39.43  2019-12-03 03:00:00+01:00"
      ]
     },
     "metadata": {},
     "output_type": "display_data"
    }
   ],
   "source": [
    "# Training data\n",
    "training_df = pd.read_csv(\"entsoe_dataset_main.csv\")[[\"NO5_day_ahead_prices\",\"dato_id\"]][0:-8760]; print(training_df.shape)\n",
    "\n",
    "# Forecast solutions\n",
    "training_df, forcast_sol_df = train_test_split(training_df, shuffle=False, test_size=0.2, random_state=4155)\n",
    "\n",
    "# Displaying the loaded data\n",
    "display(training_df.tail(3))\n",
    "display(forcast_sol_df.head(3))"
   ]
  },
  {
   "cell_type": "markdown",
   "metadata": {},
   "source": [
    "## Time series data processing"
   ]
  },
  {
   "cell_type": "markdown",
   "metadata": {},
   "source": [
    "### Sliding window process"
   ]
  },
  {
   "cell_type": "code",
   "execution_count": 4,
   "metadata": {},
   "outputs": [],
   "source": [
    "def create_time_series_data(raw_train_df, raw_forcast_df, nbf_features, nbf_outputs):\n",
    "    '''\n",
    "    This method takes inn the training dataframe, and the forcast solution dataframe.\n",
    "    It also takes in the desired number of features and outputs. \n",
    "    The method uses the sliding window algorithm for creating the time-series dataset.\n",
    "    Finally the method return traning data and test (evaluation) data both as \n",
    "    numerical numpy arrays and as dataframes.\n",
    "    The method does three operations, one just for the training data, one for the \n",
    "    test solution, and one where they are combined. This was done to be able to\n",
    "    investigate the data separatly. However, only the return values are relevant \n",
    "    for the traning and evaluation process of the models.\n",
    "    '''\n",
    "    nbf_columns = nbf_features + nbf_outputs\n",
    "    \n",
    "    # Timeseries combining training and solutions\n",
    "    train_and_forcast_df = pd.concat([raw_train_df, raw_forcast_df], axis=0)\n",
    "    ts_df_combined, ts_data_combined = sliding_window_algorithm(train_and_forcast_df,nbf_columns, nbf_features, nbf_outputs)\n",
    "    ts_df_combined.to_csv(\"timeseries_combined.csv\")\n",
    "    \n",
    "    # Timeseries training only\n",
    "    ts_df_train, ts_data_train = sliding_window_algorithm(raw_train_df,nbf_columns, nbf_features, nbf_outputs)\n",
    "    ts_df_train.to_csv(\"timeseries_train.csv\")\n",
    "    \n",
    "    # Forcast solution only\n",
    "    ts_df_forcast, ts_data_forcast = sliding_window_algorithm(raw_forcast_df,nbf_columns, nbf_features, nbf_outputs)\n",
    "    ts_df_forcast.to_csv(\"timeseries_forcast.csv\")\n",
    "    n_forcasts = raw_forcast_df.shape[0]\n",
    "    training_data_df = ts_df_combined[:-n_forcasts]; print(\"training_data_df.shape:\", training_data_df.shape)\n",
    "    \n",
    "    # Adding timestamp to the training data frame \n",
    "    train_timestamps_df = raw_train_df[\"dato_id\"][nbf_features:]; \n",
    "    if(nbf_outputs>1):\n",
    "        train_timestamp = train_timestamps_df.to_numpy()[ :(-nbf_outputs)+1]\n",
    "    else:\n",
    "        train_timestamp = train_timestamps_df.to_numpy()\n",
    "    \n",
    "    training_data_df.insert(0,'dato_id',train_timestamp)\n",
    "    training_data_df.to_csv(\"training_data_processed.csv\")\n",
    "\n",
    "    # Adding timestamp to the evaluation data frame\n",
    "    evaluation_data_df = ts_df_combined[-n_forcasts:]; print(\"evaluation_data_df:\", evaluation_data_df.shape)\n",
    "    eval_timestamps_df = raw_forcast_df[\"dato_id\"]\n",
    "    evaluation_data_df.insert(0,'dato_id',eval_timestamps_df.to_numpy())\n",
    "    evaluation_data_df.to_csv(\"evaluation_data_processed.csv\")\n",
    "    \n",
    "    # Creating numerical and trainable data\n",
    "    y_train = training_data_df.iloc[:, 1+nbf_features:].to_numpy()\n",
    "    x_train = training_data_df.iloc[:, 1:1+nbf_features].to_numpy()\n",
    "    \n",
    "    # Creating numerical evaluation data\n",
    "    y_test = evaluation_data_df.iloc[:, 1+nbf_features:].to_numpy()\n",
    "    x_test = evaluation_data_df.iloc[:, 1:1+nbf_features].to_numpy()\n",
    "    \n",
    "    return x_train, y_train, x_test, y_test, training_data_df, evaluation_data_df\n",
    "\n",
    "\n",
    "def sliding_window_algorithm(raw_data_df, nbf_columns, input_window, output_window):\n",
    "    raw_data = raw_data_df[\"NO5_day_ahead_prices\"].to_numpy()\n",
    "    dim0 = raw_data.shape[0] - (nbf_columns - 1) # Number of time-slices\n",
    "    dim1 = nbf_columns # Time-step length including input window and output window\n",
    "    data = np.zeros((dim0,dim1)) # Time series matrix\n",
    "    data[0, :] = raw_data[:dim1] # First initial sample/time-slice (n equals 0)\n",
    "    n = 1 # n is the count variable\n",
    "    \n",
    "    # Looping through the initial input data and constucting the \n",
    "    # time series data based on the sliding window approach. \n",
    "    # See the report for more descriptions\n",
    "    for j in range(dim1, raw_data.shape[0]):\n",
    "        data[n, :-1] = data[n-1, 1:]\n",
    "        data[n, nbf_columns-1:] = raw_data[j]\n",
    "        n += 1\n",
    "\n",
    "    # Creating dataframe    \n",
    "    feature_names = [f\"x{i}\" for i in range(1,input_window+1)]\n",
    "    if(output_window > 1):\n",
    "        output_names = [f\"y{i}\" for i in range(1,output_window+1)]    \n",
    "    else:\n",
    "        output_names = [\"y\"]\n",
    "    \n",
    "    time_series_df = pd.DataFrame(data=data, columns=feature_names+output_names)\n",
    "    return time_series_df, data"
   ]
  },
  {
   "cell_type": "markdown",
   "metadata": {},
   "source": [
    "## Create windowed time series data"
   ]
  },
  {
   "cell_type": "code",
   "execution_count": 39,
   "metadata": {},
   "outputs": [
    {
     "name": "stdout",
     "output_type": "stream",
     "text": [
      "training_data_df.shape: (34351, 18)\n",
      "evaluation_data_df: (8592, 18)\n",
      "x_test.shape=(8592, 12)\n",
      "y_test.shape=(8592, 6)\n",
      "eval_df.shape=(8592, 19)\n",
      "Index(['dato_id', 'x1', 'x2', 'x3', 'x4', 'x5', 'x6', 'x7', 'x8', 'x9', 'x10',\n",
      "       'x11', 'x12', 'y1', 'y2', 'y3', 'y4', 'y5', 'y6'],\n",
      "      dtype='object')\n"
     ]
    },
    {
     "data": {
      "text/html": [
       "<div>\n",
       "<style scoped>\n",
       "    .dataframe tbody tr th:only-of-type {\n",
       "        vertical-align: middle;\n",
       "    }\n",
       "\n",
       "    .dataframe tbody tr th {\n",
       "        vertical-align: top;\n",
       "    }\n",
       "\n",
       "    .dataframe thead th {\n",
       "        text-align: right;\n",
       "    }\n",
       "</style>\n",
       "<table border=\"1\" class=\"dataframe\">\n",
       "  <thead>\n",
       "    <tr style=\"text-align: right;\">\n",
       "      <th></th>\n",
       "      <th>dato_id</th>\n",
       "      <th>x1</th>\n",
       "      <th>x2</th>\n",
       "      <th>x3</th>\n",
       "      <th>x4</th>\n",
       "      <th>x5</th>\n",
       "      <th>x6</th>\n",
       "      <th>x7</th>\n",
       "      <th>x8</th>\n",
       "      <th>x9</th>\n",
       "      <th>x10</th>\n",
       "      <th>x11</th>\n",
       "      <th>x12</th>\n",
       "      <th>y1</th>\n",
       "      <th>y2</th>\n",
       "      <th>y3</th>\n",
       "      <th>y4</th>\n",
       "      <th>y5</th>\n",
       "      <th>y6</th>\n",
       "    </tr>\n",
       "    <tr>\n",
       "      <th>t</th>\n",
       "      <th></th>\n",
       "      <th></th>\n",
       "      <th></th>\n",
       "      <th></th>\n",
       "      <th></th>\n",
       "      <th></th>\n",
       "      <th></th>\n",
       "      <th></th>\n",
       "      <th></th>\n",
       "      <th></th>\n",
       "      <th></th>\n",
       "      <th></th>\n",
       "      <th></th>\n",
       "      <th></th>\n",
       "      <th></th>\n",
       "      <th></th>\n",
       "      <th></th>\n",
       "      <th></th>\n",
       "      <th></th>\n",
       "    </tr>\n",
       "  </thead>\n",
       "  <tbody>\n",
       "    <tr>\n",
       "      <th>0</th>\n",
       "      <td>2016-01-01 13:00:00+01:00</td>\n",
       "      <td>16.04</td>\n",
       "      <td>15.74</td>\n",
       "      <td>15.57</td>\n",
       "      <td>15.47</td>\n",
       "      <td>15.75</td>\n",
       "      <td>15.36</td>\n",
       "      <td>15.37</td>\n",
       "      <td>15.19</td>\n",
       "      <td>15.39</td>\n",
       "      <td>15.78</td>\n",
       "      <td>16.15</td>\n",
       "      <td>16.50</td>\n",
       "      <td>16.72</td>\n",
       "      <td>17.17</td>\n",
       "      <td>18.00</td>\n",
       "      <td>18.53</td>\n",
       "      <td>19.11</td>\n",
       "      <td>18.68</td>\n",
       "    </tr>\n",
       "    <tr>\n",
       "      <th>1</th>\n",
       "      <td>2016-01-01 14:00:00+01:00</td>\n",
       "      <td>15.74</td>\n",
       "      <td>15.57</td>\n",
       "      <td>15.47</td>\n",
       "      <td>15.75</td>\n",
       "      <td>15.36</td>\n",
       "      <td>15.37</td>\n",
       "      <td>15.19</td>\n",
       "      <td>15.39</td>\n",
       "      <td>15.78</td>\n",
       "      <td>16.15</td>\n",
       "      <td>16.50</td>\n",
       "      <td>16.72</td>\n",
       "      <td>17.17</td>\n",
       "      <td>18.00</td>\n",
       "      <td>18.53</td>\n",
       "      <td>19.11</td>\n",
       "      <td>18.68</td>\n",
       "      <td>17.93</td>\n",
       "    </tr>\n",
       "    <tr>\n",
       "      <th>2</th>\n",
       "      <td>2016-01-01 15:00:00+01:00</td>\n",
       "      <td>15.57</td>\n",
       "      <td>15.47</td>\n",
       "      <td>15.75</td>\n",
       "      <td>15.36</td>\n",
       "      <td>15.37</td>\n",
       "      <td>15.19</td>\n",
       "      <td>15.39</td>\n",
       "      <td>15.78</td>\n",
       "      <td>16.15</td>\n",
       "      <td>16.50</td>\n",
       "      <td>16.72</td>\n",
       "      <td>17.17</td>\n",
       "      <td>18.00</td>\n",
       "      <td>18.53</td>\n",
       "      <td>19.11</td>\n",
       "      <td>18.68</td>\n",
       "      <td>17.93</td>\n",
       "      <td>17.69</td>\n",
       "    </tr>\n",
       "    <tr>\n",
       "      <th>3</th>\n",
       "      <td>2016-01-01 16:00:00+01:00</td>\n",
       "      <td>15.47</td>\n",
       "      <td>15.75</td>\n",
       "      <td>15.36</td>\n",
       "      <td>15.37</td>\n",
       "      <td>15.19</td>\n",
       "      <td>15.39</td>\n",
       "      <td>15.78</td>\n",
       "      <td>16.15</td>\n",
       "      <td>16.50</td>\n",
       "      <td>16.72</td>\n",
       "      <td>17.17</td>\n",
       "      <td>18.00</td>\n",
       "      <td>18.53</td>\n",
       "      <td>19.11</td>\n",
       "      <td>18.68</td>\n",
       "      <td>17.93</td>\n",
       "      <td>17.69</td>\n",
       "      <td>17.33</td>\n",
       "    </tr>\n",
       "    <tr>\n",
       "      <th>4</th>\n",
       "      <td>2016-01-01 17:00:00+01:00</td>\n",
       "      <td>15.75</td>\n",
       "      <td>15.36</td>\n",
       "      <td>15.37</td>\n",
       "      <td>15.19</td>\n",
       "      <td>15.39</td>\n",
       "      <td>15.78</td>\n",
       "      <td>16.15</td>\n",
       "      <td>16.50</td>\n",
       "      <td>16.72</td>\n",
       "      <td>17.17</td>\n",
       "      <td>18.00</td>\n",
       "      <td>18.53</td>\n",
       "      <td>19.11</td>\n",
       "      <td>18.68</td>\n",
       "      <td>17.93</td>\n",
       "      <td>17.69</td>\n",
       "      <td>17.33</td>\n",
       "      <td>16.75</td>\n",
       "    </tr>\n",
       "  </tbody>\n",
       "</table>\n",
       "</div>"
      ],
      "text/plain": [
       "                     dato_id     x1     x2     x3     x4     x5     x6     x7  \\\n",
       "t                                                                               \n",
       "0  2016-01-01 13:00:00+01:00  16.04  15.74  15.57  15.47  15.75  15.36  15.37   \n",
       "1  2016-01-01 14:00:00+01:00  15.74  15.57  15.47  15.75  15.36  15.37  15.19   \n",
       "2  2016-01-01 15:00:00+01:00  15.57  15.47  15.75  15.36  15.37  15.19  15.39   \n",
       "3  2016-01-01 16:00:00+01:00  15.47  15.75  15.36  15.37  15.19  15.39  15.78   \n",
       "4  2016-01-01 17:00:00+01:00  15.75  15.36  15.37  15.19  15.39  15.78  16.15   \n",
       "\n",
       "      x8     x9    x10    x11    x12     y1     y2     y3     y4     y5     y6  \n",
       "t                                                                               \n",
       "0  15.19  15.39  15.78  16.15  16.50  16.72  17.17  18.00  18.53  19.11  18.68  \n",
       "1  15.39  15.78  16.15  16.50  16.72  17.17  18.00  18.53  19.11  18.68  17.93  \n",
       "2  15.78  16.15  16.50  16.72  17.17  18.00  18.53  19.11  18.68  17.93  17.69  \n",
       "3  16.15  16.50  16.72  17.17  18.00  18.53  19.11  18.68  17.93  17.69  17.33  \n",
       "4  16.50  16.72  17.17  18.00  18.53  19.11  18.68  17.93  17.69  17.33  16.75  "
      ]
     },
     "metadata": {},
     "output_type": "display_data"
    }
   ],
   "source": [
    "# Time series slicing parameters\n",
    "nbf_features = input_window = 12 \n",
    "nbf_outputs = output_window = 6\n",
    "\n",
    "# Creating time series traing and evaluation (test) data besed on sliding window approach\n",
    "x_train, y_train, x_test, y_test, train_df, eval_df = create_time_series_data(training_df, forcast_sol_df, nbf_features, nbf_outputs)\n",
    "\n",
    "print(f\"{x_test.shape=}\")\n",
    "print(f\"{y_test.shape=}\")\n",
    "print(f\"{eval_df.shape=}\")\n",
    "print(eval_df.columns)\n",
    "\n",
    "# Displaying time series data\n",
    "train_df.index.name = \"t\"\n",
    "display(train_df.head())\n",
    "\n",
    "# Save the table.\n",
    "train_df.head().to_csv(\"time_series_data.csv\")"
   ]
  },
  {
   "cell_type": "markdown",
   "metadata": {},
   "source": [
    "## Analysing the data "
   ]
  },
  {
   "cell_type": "code",
   "execution_count": 40,
   "metadata": {},
   "outputs": [
    {
     "data": {
      "image/png": "[encoded data removed]",
      "text/plain": [
       "<Figure size 252x180 with 2 Axes>"
      ]
     },
     "metadata": {
      "needs_background": "light"
     },
     "output_type": "display_data"
    }
   ],
   "source": [
    "# Create correlation matrix\n",
    "corr_matrix = train_df.corr(method='spearman')\n",
    "# Plot\n",
    "fig, axs = plt.subplots(1, 1,figsize=(3.5, 2.5))\n",
    "sns.heatmap(abs(corr_matrix), annot=True, cmap = plt.cm.autumn_r, fmt='.2f', ax=axs)\n",
    "#axs.set_title(f'Correlation analysis on times series data')\n",
    "\n",
    "# Save the figure.\n",
    "fig.savefig(\"corr_analysis.pdf\", bbox_inches='tight')"
   ]
  },
  {
   "cell_type": "code",
   "execution_count": 41,
   "metadata": {},
   "outputs": [
    {
     "data": {
      "text/plain": [
       "(8592,)"
      ]
     },
     "execution_count": 41,
     "metadata": {},
     "output_type": "execute_result"
    }
   ],
   "source": [
    "y_test[:, 5].shape"
   ]
  },
  {
   "cell_type": "markdown",
   "metadata": {},
   "source": [
    "# Linear regression model "
   ]
  },
  {
   "cell_type": "markdown",
   "metadata": {},
   "source": [
    "#### Creating model"
   ]
  },
  {
   "cell_type": "code",
   "execution_count": 42,
   "metadata": {},
   "outputs": [],
   "source": [
    "MLR_model = LinearRegression()"
   ]
  },
  {
   "cell_type": "markdown",
   "metadata": {},
   "source": [
    "#### Training the model"
   ]
  },
  {
   "cell_type": "code",
   "execution_count": 43,
   "metadata": {},
   "outputs": [
    {
     "data": {
      "text/plain": [
       "LinearRegression()"
      ]
     },
     "execution_count": 43,
     "metadata": {},
     "output_type": "execute_result"
    }
   ],
   "source": [
    "MLR_model.fit(x_train, y_train)"
   ]
  },
  {
   "cell_type": "markdown",
   "metadata": {},
   "source": [
    "#### Prediction"
   ]
  },
  {
   "cell_type": "code",
   "execution_count": 45,
   "metadata": {},
   "outputs": [],
   "source": [
    "y_hat_MLR = MLR_model.predict(x_test)\n",
    "\n",
    "\n",
    "\n",
    "# Save the forecast in a CSV file.\n",
    "forecast_MLR = pd.read_csv(\"FYS_STK_ForecastTemplate.csv\", index_col=0)\n",
    "forecast_MLR[\"TIMESTAMP\"] = eval_df[\"dato_id\"]\n",
    "forecast_MLR[\"FORECAST\"] = y_hat_MLR[:, 5]\n",
    "forecast_MLR.to_csv(\"FYS_STK_ForecastTemplate-LR.csv\")"
   ]
  },
  {
   "cell_type": "markdown",
   "metadata": {},
   "source": [
    "#### Evaluation"
   ]
  },
  {
   "cell_type": "code",
   "execution_count": 47,
   "metadata": {},
   "outputs": [
    {
     "name": "stdout",
     "output_type": "stream",
     "text": [
      "Overall model score evaluated on training data using RMSE: 2.1358\n"
     ]
    }
   ],
   "source": [
    "RMSE_MLR = RMSE(y_test[:, 5], y_hat_MLR[:, 5])\n",
    "print(f\"Overall model score evaluated on training data using RMSE: {RMSE_MLR}\")"
   ]
  },
  {
   "cell_type": "markdown",
   "metadata": {},
   "source": [
    "-----\n"
   ]
  },
  {
   "cell_type": "markdown",
   "metadata": {},
   "source": [
    "# XGBOOST"
   ]
  },
  {
   "cell_type": "code",
   "execution_count": 11,
   "metadata": {},
   "outputs": [
    {
     "name": "stdout",
     "output_type": "stream",
     "text": [
      "Overall model score evaluated on training data using RMSE: 4.2557\n"
     ]
    }
   ],
   "source": [
    "# fit model\n",
    "#xgboost = XGBRegressor(objective='reg:squarederror', n_estimators=5000)\n",
    "xgboost = XGBRegressor(objective='reg:squarederror', eta=0.1)\n",
    "xgboost.fit(x_train, y_train)\n",
    "# construct an input for a new preduction\n",
    "#row = values[-6:].flatten()\n",
    "# make a one-step prediction\n",
    "yhat = xgboost.predict(x_test)\n",
    "RMSE_xgboost = RMSE(y_test, yhat)\n",
    "print(f\"Overall model score evaluated on training data using RMSE: {RMSE_xgboost}\")"
   ]
  },
  {
   "cell_type": "code",
   "execution_count": 19,
   "metadata": {},
   "outputs": [
    {
     "data": {
      "image/png": "[encoded data removed]",
      "text/plain": [
       "<Figure size 1008x432 with 1 Axes>"
      ]
     },
     "metadata": {
      "needs_background": "light"
     },
     "output_type": "display_data"
    }
   ],
   "source": [
    "idx_from=0; \n",
    "idx_to=720\n",
    "idx_to = y_test.shape[0]\n",
    "\n",
    "x_plot = np.arange(x_test.shape[0])\n",
    "\n",
    "fig, ax = plt.subplots(figsize=(14, 6))\n",
    "ax.set_xlabel(\"Time\")\n",
    "ax.set_ylabel(\"Price\")\n",
    "ax.plot(x_plot[idx_from:idx_to], y_test[idx_from:idx_to], label=\"Actual data / Target data\")\n",
    "ax.plot(x_plot[idx_from:idx_to], yhat[idx_from:idx_to], c=\"r\",linewidth=1, label=f\"XGBOOST , RMSE:{RMSE_xgboost}\")\n",
    "ax.legend(loc=\"upper center\", bbox_to_anchor=(0.5, -0.2))\n",
    "\n",
    "\n",
    "\n",
    "# Save the figure.\n",
    "plt.savefig(\"forecast_plot0.pdf\", bbox_inches='tight')\n",
    "\n"
   ]
  },
  {
   "cell_type": "markdown",
   "metadata": {},
   "source": [
    "# SVR"
   ]
  },
  {
   "cell_type": "markdown",
   "metadata": {},
   "source": [
    "#### Creating model"
   ]
  },
  {
   "cell_type": "code",
   "execution_count": 48,
   "metadata": {},
   "outputs": [],
   "source": [
    "SVR_model = SVR(C=1.0, epsilon=0.05) "
   ]
  },
  {
   "cell_type": "markdown",
   "metadata": {},
   "source": [
    "#### Training the model"
   ]
  },
  {
   "cell_type": "code",
   "execution_count": 50,
   "metadata": {},
   "outputs": [
    {
     "data": {
      "text/plain": [
       "SVR(epsilon=0.05)"
      ]
     },
     "execution_count": 50,
     "metadata": {},
     "output_type": "execute_result"
    }
   ],
   "source": [
    "SVR_model.fit(x_train, y_train[:, 5].flatten()) "
   ]
  },
  {
   "cell_type": "markdown",
   "metadata": {},
   "source": [
    "#### Prediction"
   ]
  },
  {
   "cell_type": "code",
   "execution_count": 51,
   "metadata": {},
   "outputs": [
    {
     "name": "stdout",
     "output_type": "stream",
     "text": [
      "(8592,)\n"
     ]
    }
   ],
   "source": [
    "y_hat_SVR = SVR_model.predict(x_test)\n",
    "\n",
    "print(y_hat_SVR.shape)\n",
    "\n",
    "# Save the forecast in a CSV file.\n",
    "forecast_SVR = pd.read_csv(\"FYS_STK_ForecastTemplate.csv\", index_col=0)\n",
    "forecast_SVR[\"TIMESTAMP\"] = eval_df[\"dato_id\"]\n",
    "forecast_SVR[\"FORECAST\"] = y_hat_SVR\n",
    "forecast_SVR.to_csv(\"FYS_STK_ForecastTemplate-SVR.csv\")"
   ]
  },
  {
   "cell_type": "markdown",
   "metadata": {},
   "source": [
    "#### Evaluation"
   ]
  },
  {
   "cell_type": "code",
   "execution_count": 52,
   "metadata": {},
   "outputs": [
    {
     "name": "stdout",
     "output_type": "stream",
     "text": [
      "Overall model score evaluated on training data using RMSE: 9.7821\n"
     ]
    }
   ],
   "source": [
    "# Calculation the model score using RMSE\n",
    "RMSE_SVR = RMSE(y_test[:, 5], y_hat_SVR)\n",
    "print(f\"Overall model score evaluated on training data using RMSE: {RMSE_SVR}\")"
   ]
  },
  {
   "cell_type": "markdown",
   "metadata": {},
   "source": [
    "# Evaluation results"
   ]
  },
  {
   "cell_type": "code",
   "execution_count": 55,
   "metadata": {},
   "outputs": [
    {
     "data": {
      "image/png": "[encoded data removed]",
      "text/plain": [
       "<Figure size 504x288 with 1 Axes>"
      ]
     },
     "metadata": {
      "needs_background": "light"
     },
     "output_type": "display_data"
    }
   ],
   "source": [
    "idx_from=0; \n",
    "#idx_to=720\n",
    "idx_to = y_test.shape[0]\n",
    "\n",
    "x_plot = np.arange(x_test.shape[0])\n",
    "\n",
    "fig, ax = plt.subplots(figsize=(7, 4))\n",
    "ax.set_xlabel(\"Time\")\n",
    "ax.set_ylabel(\"Price\")\n",
    "ax.plot(x_plot[idx_from:idx_to], y_test[idx_from:idx_to, 5], linewidth=1, label=\"Actual data / Target data\")\n",
    "ax.plot(x_plot[idx_from:idx_to], y_hat_MLR[idx_from:idx_to, 5], c=\"r\",linewidth=1, label=f\"MLR, RMSE: {RMSE_MLR}\")\n",
    "ax.plot(x_plot[idx_from:idx_to], y_hat_SVR[idx_from:idx_to], c=\"orange\", linewidth=1, label=f\"SVR, RMSE: {RMSE_SVR}\")\n",
    "#ax.set_title(f\"Predicted data using Multiple Linear Regression (MLR) and Support Vector Regression (SVR)\")\n",
    "ax.legend(loc=\"upper center\", bbox_to_anchor=(0.5, -0.2))\n",
    "\n",
    "# Save the figure.\n",
    "plt.savefig(\"forecast_plot1.pdf\", bbox_inches='tight')"
   ]
  },
  {
   "cell_type": "markdown",
   "metadata": {},
   "source": [
    "# Neural Networks\n",
    "We chose to use mean square error as our loss function. Adam is used as the optimizer."
   ]
  },
  {
   "cell_type": "markdown",
   "metadata": {},
   "source": [
    "# ANN - Simple architecture"
   ]
  },
  {
   "cell_type": "markdown",
   "metadata": {},
   "source": [
    "#### Hyperparameters"
   ]
  },
  {
   "cell_type": "code",
   "execution_count": null,
   "metadata": {},
   "outputs": [],
   "source": [
    "eta = 0.004\n",
    "units = 32\n",
    "batch_size = 500\n",
    "EPOCHS = 100"
   ]
  },
  {
   "cell_type": "markdown",
   "metadata": {},
   "source": [
    "#### Model architecture"
   ]
  },
  {
   "cell_type": "code",
   "execution_count": null,
   "metadata": {},
   "outputs": [],
   "source": [
    "class ANN_simple(Sequential):\n",
    "    def __init__(self, eta, units, nbf_outputs):\n",
    "        super(self.__class__, self).__init__()\n",
    "       \n",
    "        self.add(Dense(units, activation='relu')) # First layer\n",
    "        self.add(Dense(units//2, activation='relu')) # Second layer\n",
    "        self.add(Dense(nbf_outputs)) # Output layer\n",
    "\n",
    "        # Model optimizer\n",
    "        opt = tf.keras.optimizers.Adam(learning_rate=eta)\n",
    "        \n",
    "        ## Compile model\n",
    "        self.compile(loss='mse',  optimizer=opt)"
   ]
  },
  {
   "cell_type": "markdown",
   "metadata": {},
   "source": [
    "#### Create model"
   ]
  },
  {
   "cell_type": "code",
   "execution_count": null,
   "metadata": {},
   "outputs": [],
   "source": [
    "ANN_model1 = ANN_simple(eta, units, nbf_outputs)"
   ]
  },
  {
   "cell_type": "markdown",
   "metadata": {},
   "source": [
    "#### Preparing data for training and evaluation"
   ]
  },
  {
   "cell_type": "code",
   "execution_count": null,
   "metadata": {},
   "outputs": [],
   "source": [
    "# Reshaping the training data for it to fit to the model\n",
    "x_train_ANN = x_train.reshape((x_train.shape[0],x_train.shape[1],1))\n",
    "x_train_ANN = np.swapaxes(x_train_ANN,1,2)\n",
    "y_train_ANN = y_train.copy()\n",
    "\n",
    "# Reshaping the test data for it to fit to the model\n",
    "x_test_ANN = x_test.copy()\n",
    "x_test_ANN = x_test_ANN.reshape((x_test_ANN.shape[0],x_test_ANN.shape[1],1))\n",
    "x_test_ANN = np.swapaxes(x_test_ANN,1,2)"
   ]
  },
  {
   "cell_type": "markdown",
   "metadata": {},
   "source": [
    "#### Training the model"
   ]
  },
  {
   "cell_type": "code",
   "execution_count": null,
   "metadata": {},
   "outputs": [],
   "source": [
    "ANN_model1.fit(x_train_ANN, y_train_ANN, shuffle=True, batch_size=batch_size, epochs=EPOCHS, verbose=0)\n",
    "print(ANN_model1.summary())"
   ]
  },
  {
   "cell_type": "markdown",
   "metadata": {},
   "source": [
    "#### Prediction"
   ]
  },
  {
   "cell_type": "code",
   "execution_count": null,
   "metadata": {},
   "outputs": [],
   "source": [
    "y_hat_ANN1 = ANN_model1.predict(x_test_ANN)\n",
    "y_hat_ANN1 = np.squeeze(y_hat_ANN1) # Removing excess dimensions\n",
    "\n",
    "# Save the forecast in a CSV file.\n",
    "forecast_ANN = pd.read_csv(\"FYS_STK_ForecastTemplate.csv\", index_col=0)\n",
    "forecast_ANN[\"TIMESTAMP\"] = eval_df[\"dato_id\"]\n",
    "forecast_ANN[\"FORECAST\"] = y_hat_ANN1.flatten()\n",
    "forecast_ANN.to_csv(\"FYS_STK_ForecastTemplate-ANN.csv\")"
   ]
  },
  {
   "cell_type": "markdown",
   "metadata": {},
   "source": [
    "#### Evaluation"
   ]
  },
  {
   "cell_type": "code",
   "execution_count": null,
   "metadata": {},
   "outputs": [],
   "source": [
    "# Calculation the model score using RMSE\n",
    "RMSE_ANN1 = RMSE(y_test, y_hat_ANN1)\n",
    "print(f\"Overall model score evaluated on training data using RMSE: {RMSE_ANN1}\")"
   ]
  },
  {
   "cell_type": "markdown",
   "metadata": {},
   "source": [
    "# ANN - Complex architecture"
   ]
  },
  {
   "cell_type": "markdown",
   "metadata": {},
   "source": [
    "#### Hyperparameters"
   ]
  },
  {
   "cell_type": "code",
   "execution_count": null,
   "metadata": {},
   "outputs": [],
   "source": [
    "decay= 1e-5\n",
    "eta = 0.005\n",
    "lam = 0.0001\n",
    "units = 32\n",
    "batch_size = 1000\n",
    "drop = 0.2\n",
    "EPOCHS=100"
   ]
  },
  {
   "cell_type": "markdown",
   "metadata": {},
   "source": [
    "#### Model architecture"
   ]
  },
  {
   "cell_type": "code",
   "execution_count": null,
   "metadata": {},
   "outputs": [],
   "source": [
    "class ANN_complex1(Sequential):\n",
    "    def __init__(self, eta, lam, decay, units, drop,  nbf_outputs):\n",
    "        super(self.__class__, self).__init__()\n",
    "       \n",
    "        # Initialization\n",
    "        regz = tf.keras.regularizers.l2(lam)\n",
    "        self.add(Dense(units, kernel_regularizer=regz, activation='relu'))\n",
    "        self.add(BatchNormalization())\n",
    "        self.add(Dropout(drop))\n",
    "        \n",
    "        self.add(Dense(units*2, kernel_regularizer=regz, activation='relu'))\n",
    "        self.add(BatchNormalization())\n",
    "        self.add(Dropout(drop))\n",
    "        \n",
    "        self.add(Dense(units*4, kernel_regularizer=regz, activation='relu'))\n",
    "        self.add(BatchNormalization())\n",
    "        self.add(Dropout(drop))\n",
    "        \n",
    "        self.add(Dense(units*2, kernel_regularizer=regz, activation='relu'))\n",
    "        self.add(BatchNormalization())\n",
    "        self.add(Dropout(drop))\n",
    "        \n",
    "        self.add(Dense(units//2, kernel_regularizer=regz, activation='relu'))\n",
    "        self.add(BatchNormalization())\n",
    "        self.add(Dropout(drop))\n",
    "          \n",
    "        self.add(Dense(nbf_outputs))\n",
    "\n",
    "        # Model optimizer\n",
    "        opt = tf.keras.optimizers.Adam(learning_rate=eta, decay=decay)\n",
    "        \n",
    "        ## Compile model\n",
    "        self.compile(loss='mse',  optimizer=opt, metrics=[tf.keras.metrics.RootMeanSquaredError()])\n",
    "        \n",
    "        tf.keras.backend.clear_session()\n",
    "        \n",
    "    \n",
    "    def fit(self, x_train, y_train, shuffle = True, batch_size = 32, epochs=100,\n",
    "            validation_split=0.2, verbose=0):\n",
    "        \"\"\"\n",
    "        Wrapper method that builds regularization into the training to \n",
    "        intentionally prevent overfitting. This method splits the\n",
    "        training data into traning and validation such that validation \n",
    "        data can be used to validate the model during the traning process.\n",
    "        \"\"\"\n",
    "        learning_rate_reduction = ReduceLROnPlateau(monitor='val_loss', \n",
    "                                            patience=6, \n",
    "                                            verbose=1, \n",
    "                                            factor=0.1, \n",
    "                                            min_lr=0.000001)\n",
    "        earlystop = EarlyStopping(patience=20)\n",
    "        callbacks = [earlystop, learning_rate_reduction]\n",
    "        \n",
    "        return super().fit(x_train, y_train, shuffle=shuffle, batch_size=batch_size, epochs=epochs, \n",
    "                      validation_split=validation_split, callbacks= callbacks, verbose=verbose)"
   ]
  },
  {
   "cell_type": "markdown",
   "metadata": {},
   "source": [
    "#### Create model"
   ]
  },
  {
   "cell_type": "code",
   "execution_count": null,
   "metadata": {},
   "outputs": [],
   "source": [
    "ANN_model2 = ANN_complex1(eta, lam, decay, units, drop, nbf_outputs)"
   ]
  },
  {
   "cell_type": "markdown",
   "metadata": {},
   "source": [
    "#### Preparing data for training and evaluation"
   ]
  },
  {
   "cell_type": "code",
   "execution_count": null,
   "metadata": {},
   "outputs": [],
   "source": [
    "print(f\"x_train.shape:{x_train.shape}, y_train.shape:{y_train.shape}\")\n",
    "# Reshaping the training data for it to fit to the model\n",
    "x_train_ANN = x_train.reshape((x_train.shape[0],x_train.shape[1],1))\n",
    "x_train_ANN = np.swapaxes(x_train_ANN,1,2)\n",
    "y_train_ANN = y_train.copy()\n",
    "\n",
    "# Reshaping the test data for it to fit to the model\n",
    "x_test_ANN = x_test.copy()\n",
    "x_test_ANN = x_test_ANN.reshape((x_test_ANN.shape[0],x_test_ANN.shape[1],1))\n",
    "x_test_ANN = np.swapaxes(x_test_ANN,1,2)"
   ]
  },
  {
   "cell_type": "markdown",
   "metadata": {},
   "source": [
    "#### Training the model"
   ]
  },
  {
   "cell_type": "code",
   "execution_count": null,
   "metadata": {},
   "outputs": [],
   "source": [
    "training = ANN_model2.fit(x_train_ANN, y_train_ANN,shuffle=True,batch_size=batch_size, epochs=EPOCHS,\n",
    "               validation_split=0.1, verbose=0)\n",
    "print(ANN_model2.summary())"
   ]
  },
  {
   "cell_type": "code",
   "execution_count": null,
   "metadata": {},
   "outputs": [],
   "source": [
    "train_losses = np.array(training.history['loss'])\n",
    "val_losses = np.array(training.history['val_loss'])\n",
    "val_rmse = np.array(training.history['val_root_mean_squared_error'])\n",
    "x = np.arange(train_losses.shape[0])\n",
    "\n",
    "fig, ax = plt.subplots(figsize=(6, 2))\n",
    "ax.set_xlabel(\"Epoch\")\n",
    "ax.set_ylabel(\"Loss values\")\n",
    "ax.plot(x, train_losses, linewidth=1, label=\"Training loss\")\n",
    "ax.plot(x, val_losses, linewidth=1, label=\"Validation loss\")\n",
    "ax.legend(loc=\"upper center\")\n",
    "\n",
    "plt.savefig(\"ANN_training.pdf\", bbox_inches='tight')"
   ]
  },
  {
   "cell_type": "markdown",
   "metadata": {},
   "source": [
    "The plot above indicates how the training went. We can see from the plot that the validation loss does not have an increasing trend, and it converge towards the training loss. This shows us that the model is not overfitted to the training data despite the relatively advanced model architecture. \n",
    "\n",
    "The model is constructed with regularization; regularizers, dropouts, early stopping, and learning rate reduction. The main purpose of regularization is to prevent underfitting and overfitting of the model and generalize it properly for new previously unseen data. The regularization definitely contributes to the curvature of the losses in the plot. However, it seems that the models we explored for this assignment were not so easy overfitted to the training data. The regularization may have been unnecessary considering the data we have and the setup we are using. "
   ]
  },
  {
   "cell_type": "markdown",
   "metadata": {},
   "source": [
    "#### Prediction"
   ]
  },
  {
   "cell_type": "code",
   "execution_count": null,
   "metadata": {},
   "outputs": [],
   "source": [
    "y_hat_ANN2 = ANN_model2.predict(x_test_ANN)\n",
    "y_hat_ANN2 = np.squeeze(y_hat_ANN2) # Removing excess dimensions"
   ]
  },
  {
   "cell_type": "markdown",
   "metadata": {},
   "source": [
    "#### Evaluation"
   ]
  },
  {
   "cell_type": "code",
   "execution_count": null,
   "metadata": {},
   "outputs": [],
   "source": [
    "# Calculation the model score using RMSE\n",
    "RMSE_ANN2 = RMSE(y_test, y_hat_ANN2)\n",
    "print(f\"Overall model score evaluated on test data using RMSE: {RMSE_ANN2}\")"
   ]
  },
  {
   "cell_type": "markdown",
   "metadata": {},
   "source": [
    "# LSTM (RNN)\n",
    "We are using the LSTM model as our RNN model. The LSTM is configured for a many-to-one problem using a bidirectional wrapper."
   ]
  },
  {
   "cell_type": "markdown",
   "metadata": {},
   "source": [
    "#### Hyperparameters"
   ]
  },
  {
   "cell_type": "code",
   "execution_count": null,
   "metadata": {},
   "outputs": [],
   "source": [
    "eta = 0.004\n",
    "units = 64\n",
    "batch_size = 16\n",
    "EPOCHS=100"
   ]
  },
  {
   "cell_type": "markdown",
   "metadata": {},
   "source": [
    "#### Model architecture"
   ]
  },
  {
   "cell_type": "code",
   "execution_count": null,
   "metadata": {},
   "outputs": [],
   "source": [
    "class LSTM_model(Sequential):\n",
    "    def __init__(self, eta, units, model_shape, nbf_outputs):\n",
    "        super(self.__class__, self).__init__()\n",
    "       \n",
    "        # Bidirectional LSTM layer\n",
    "        self.add(Bidirectional(LSTM(units, input_shape = model_shape, return_sequences = True)))\n",
    "                \n",
    "        # Dense layer\n",
    "        self.add(Dense(units, activation='relu'))\n",
    "\n",
    "        # Output layer\n",
    "        self.add(Dense(nbf_outputs))\n",
    "\n",
    "        # Model compile settings\n",
    "        opt = tf.keras.optimizers.Adam(learning_rate=eta)\n",
    "        \n",
    "        ## Compile model\n",
    "        self.compile(loss='mse', optimizer=opt)"
   ]
  },
  {
   "cell_type": "markdown",
   "metadata": {},
   "source": [
    "#### Model shape\n",
    "LSTM requires a shape of (batch_size, time_steps, num_features)"
   ]
  },
  {
   "cell_type": "code",
   "execution_count": null,
   "metadata": {},
   "outputs": [],
   "source": [
    "time_steps = 72 # 72 hours = 3 days of history per training sequence\n",
    "model_shape = (time_steps, nbf_features); print(model_shape)"
   ]
  },
  {
   "cell_type": "markdown",
   "metadata": {},
   "source": [
    "#### Create model"
   ]
  },
  {
   "cell_type": "code",
   "execution_count": null,
   "metadata": {},
   "outputs": [],
   "source": [
    "RNN_model1 = LSTM_model(eta, units, model_shape, nbf_outputs)"
   ]
  },
  {
   "cell_type": "markdown",
   "metadata": {},
   "source": [
    "#### Preparing data for training and evaluation"
   ]
  },
  {
   "cell_type": "code",
   "execution_count": null,
   "metadata": {},
   "outputs": [],
   "source": [
    "# Training data pre-processing\n",
    "trainX = x_train[20:] # Discarding some samples to make the shapes add up\n",
    "trainY = y_train[20:] # Discarding some samples to make the shapes add up\n",
    "\n",
    "batch_size_train = x_train.shape[0] // time_steps\n",
    "x_train_RNN = trainX.reshape((batch_size_train, time_steps, nbf_features))\n",
    "y_train_RNN = trainY.copy()\n",
    "y_train_RNN = y_train_RNN.reshape((batch_size_train, time_steps, 1))\n",
    "\n",
    "# Test data pre-processing\n",
    "batch_size_test = x_test.shape[0] // time_steps\n",
    "x_test_RNN = x_test.reshape((batch_size_test, time_steps, nbf_features))\n",
    "y_test_RNN = y_test.copy()\n",
    "y_test_RNN = y_test_RNN.reshape((batch_size_test, time_steps, 1))\n",
    "y_test_RNN = y_test_RNN.flatten()"
   ]
  },
  {
   "cell_type": "markdown",
   "metadata": {},
   "source": [
    "#### Training the model"
   ]
  },
  {
   "cell_type": "code",
   "execution_count": null,
   "metadata": {},
   "outputs": [],
   "source": [
    "RNN_model1.fit(x_train_RNN, y_train_RNN, shuffle=True, batch_size=batch_size, epochs=EPOCHS, verbose=0)\n",
    "print(RNN_model1.summary())"
   ]
  },
  {
   "cell_type": "markdown",
   "metadata": {},
   "source": [
    "#### Prediction"
   ]
  },
  {
   "cell_type": "code",
   "execution_count": null,
   "metadata": {},
   "outputs": [],
   "source": [
    "y_hat_RNN1 = RNN_model1.predict(x_test_RNN)\n",
    "y_hat_RNN1 = y_hat_RNN1.flatten()\n",
    "\n",
    "# Save the forecast in a CSV file.\n",
    "forecast_RNN = pd.read_csv(\"FYS_STK_ForecastTemplate.csv\", index_col=0)\n",
    "forecast_RNN[\"TIMESTAMP\"] = eval_df[\"dato_id\"]\n",
    "forecast_RNN[\"FORECAST\"] = y_hat_RNN1\n",
    "forecast_RNN.to_csv(\"FYS_STK_ForecastTemplate-RNN.csv\")"
   ]
  },
  {
   "cell_type": "markdown",
   "metadata": {},
   "source": [
    "#### Evaluation"
   ]
  },
  {
   "cell_type": "code",
   "execution_count": null,
   "metadata": {},
   "outputs": [],
   "source": [
    "RMSE_RNN1 = RMSE(y_test_RNN, y_hat_RNN1)\n",
    "print(RMSE_RNN1)"
   ]
  },
  {
   "cell_type": "markdown",
   "metadata": {},
   "source": [
    "# Evaluation results"
   ]
  },
  {
   "cell_type": "code",
   "execution_count": null,
   "metadata": {},
   "outputs": [],
   "source": [
    "idx_from=0; idx_to=720\n",
    "x_plot = np.arange(x_test.shape[0])\n",
    "\n",
    "fig, ax = plt.subplots(figsize=(14, 6))\n",
    "ax.set_xlabel(\"Time\")\n",
    "ax.set_ylabel(\"Power\")\n",
    "ax.plot(x_plot[idx_from:idx_to], y_test[idx_from:idx_to], label=\"Actual data / Target data\")\n",
    "ax.plot(x_plot[idx_from:idx_to], y_hat_ANN1[idx_from:idx_to], c=\"r\",linewidth=1, label=f\"ANN , RMSE:{RMSE_ANN1}\")\n",
    "ax.plot(x_plot[idx_from:idx_to], y_hat_RNN1[idx_from:idx_to], c=\"orange\", linewidth=1, label=f\"LSTM, RMSE:{RMSE_RNN1}\")\n",
    "ax.legend(loc=\"upper center\", bbox_to_anchor=(0.5, -0.2))"
   ]
  },
  {
   "cell_type": "markdown",
   "metadata": {},
   "source": [
    "# Final results"
   ]
  },
  {
   "cell_type": "code",
   "execution_count": null,
   "metadata": {},
   "outputs": [],
   "source": [
    "data = {'RMSE': [RMSE_MLR, RMSE_SVR, RMSE_ANN1, RMSE_RNN1]}\n",
    "results = pd.DataFrame.from_dict(data, orient='index',  columns=['MLR', 'SVR', 'ANN', 'RNN'])\n",
    "results = results.style.background_gradient(cmap='RdYlGn_r',axis=1)\n",
    "display(results) "
   ]
  },
  {
   "cell_type": "markdown",
   "metadata": {},
   "source": [
    "-----\n"
   ]
  },
  {
   "cell_type": "markdown",
   "metadata": {},
   "source": [
    "# Stateful LSTM (RNN)\n",
    "We are using the LSTM model as our RNN model\n",
    "Many-to-one configuration using the stateful flag"
   ]
  },
  {
   "cell_type": "markdown",
   "metadata": {},
   "source": [
    "#### Hyperparameters"
   ]
  },
  {
   "cell_type": "code",
   "execution_count": null,
   "metadata": {},
   "outputs": [],
   "source": [
    "eta = 0.004\n",
    "units = 64\n",
    "batch_size = 1\n",
    "EPOCHS = 100"
   ]
  },
  {
   "cell_type": "markdown",
   "metadata": {},
   "source": [
    "#### Model architecture"
   ]
  },
  {
   "cell_type": "code",
   "execution_count": null,
   "metadata": {},
   "outputs": [],
   "source": [
    "# The best performing model\n",
    "class LSTM_stateful_model(Sequential):\n",
    "    def __init__(self, eta, units, model_shape, nbf_outputs):\n",
    "        super(self.__class__, self).__init__()\n",
    "       \n",
    "        self.add(Bidirectional(LSTM(units, input_shape=model_shape, stateful=True, return_sequences = True)))\n",
    "        self.add(Dense(units, activation='relu'))\n",
    "\n",
    "        # Output layer\n",
    "        self.add(TimeDistributed(Dense(1)))\n",
    "\n",
    "        # Model compile settings\n",
    "        opt = tf.keras.optimizers.Adam(learning_rate=eta)\n",
    "        \n",
    "        ## Compile model\n",
    "        self.compile(loss='mse', optimizer=opt)"
   ]
  },
  {
   "cell_type": "markdown",
   "metadata": {},
   "source": [
    "#### Model shape\n",
    "LSTM requires a shape of (batch_size, time_steps, num_features). Stateful models are trained using a fixed batch size of 1 since it uses the hidden state output from the previous batch as input to the initial hidden state for the current batch"
   ]
  },
  {
   "cell_type": "code",
   "execution_count": null,
   "metadata": {},
   "outputs": [],
   "source": [
    "time_steps = 72 # 72 hours = 3 days of history per training sequence\n",
    "model_shape = (time_steps, nbf_features); print(model_shape)"
   ]
  },
  {
   "cell_type": "markdown",
   "metadata": {},
   "source": [
    "#### Create model"
   ]
  },
  {
   "cell_type": "code",
   "execution_count": null,
   "metadata": {},
   "outputs": [],
   "source": [
    "RNN_model2 = LSTM_stateful_model(eta, units, model_shape, nbf_outputs)"
   ]
  },
  {
   "cell_type": "markdown",
   "metadata": {},
   "source": [
    "#### Preparing data for training and evaluation"
   ]
  },
  {
   "cell_type": "code",
   "execution_count": null,
   "metadata": {},
   "outputs": [],
   "source": [
    "# Training data pre-processing\n",
    "trainX = x_train[20:] # Discarding some samples to make the shapes add up\n",
    "trainY = y_train[20:] # Discarding some samples to make the shapes add up\n",
    "\n",
    "batch_size_train = x_train.shape[0] // time_steps\n",
    "x_train_RNN2 = trainX.reshape((batch_size_train, time_steps, nbf_features))\n",
    "y_train_RNN2 = trainY.copy()\n",
    "y_train_RNN2 = y_train_RNN2.reshape((batch_size_train, time_steps, 1))\n",
    "\n",
    "# Test data pre-processing\n",
    "batch_size_test = x_test.shape[0] // time_steps\n",
    "x_test_RNN = x_test.reshape((batch_size_test, time_steps, nbf_features))\n",
    "y_test_RNN = y_test.copy()\n",
    "y_test_RNN = y_test_RNN.reshape((batch_size_test, time_steps, 1))\n",
    "y_test_RNN = y_test_RNN.flatten()"
   ]
  },
  {
   "cell_type": "markdown",
   "metadata": {},
   "source": [
    "#### Training the model\n",
    "Stateful LSTMs are trained differently than the default LSTM. Since they carry over the hidden state from batch-to-batch, the batch size must be 1. Shuffle must be false, since the order of the batches matter in the data series. Lastly the hidden state must be reset at the ende of the each epoch, otherwise the hidden state at the end of the dataset will be feed into the starte of the next epoch. You only want batches to be orderly chained, not epochs.  "
   ]
  },
  {
   "cell_type": "code",
   "execution_count": null,
   "metadata": {
    "collapsed": true,
    "jupyter": {
     "outputs_hidden": true
    }
   },
   "outputs": [],
   "source": [
    "for e in range(EPOCHS):\n",
    "    print(f\"Training epoch {e}\")\n",
    "    RNN_model2.fit(x_train_RNN2, y_train_RNN2, epochs=1, batch_size=batch_size, verbose=0, shuffle=False)\n",
    "    RNN_model2.reset_states()\n",
    "print(RNN_model2.summary())"
   ]
  },
  {
   "cell_type": "markdown",
   "metadata": {},
   "source": [
    "#### Prediction"
   ]
  },
  {
   "cell_type": "code",
   "execution_count": null,
   "metadata": {},
   "outputs": [],
   "source": [
    "y_hat_RNN2 = RNN_model2.predict(x_test_RNN, batch_size=1)\n",
    "y_hat_RNN2 = y_hat_RNN2.flatten()"
   ]
  },
  {
   "cell_type": "markdown",
   "metadata": {},
   "source": [
    "#### Evaluation"
   ]
  },
  {
   "cell_type": "code",
   "execution_count": null,
   "metadata": {},
   "outputs": [],
   "source": [
    "RMSE_RNN2 = RMSE(y_test_RNN, y_hat_RNN2)\n",
    "print(RMSE_RNN2)"
   ]
  },
  {
   "cell_type": "markdown",
   "metadata": {},
   "source": [
    "\n",
    "\n",
    "\n",
    "\n",
    "\n",
    "\n",
    "\n",
    "\n",
    "\n",
    "\n",
    "\n",
    "\n",
    "\n",
    "# Evaluation results"
   ]
  },
  {
   "cell_type": "code",
   "execution_count": null,
   "metadata": {},
   "outputs": [],
   "source": [
    "idx_from=0; idx_to=720\n",
    "x_plot = np.arange(x_test.shape[0])\n",
    "\n",
    "fig, ax = plt.subplots(figsize=(7, 4))\n",
    "ax.set_xlabel(\"Time\")\n",
    "ax.set_ylabel(\"Power\")\n",
    "ax.plot(x_plot[idx_from:idx_to], y_test[idx_from:idx_to], linewidth=1, label=\"Actual data / Target data\")\n",
    "ax.plot(x_plot[idx_from:idx_to], y_hat_ANN1[idx_from:idx_to], c=\"r\",linewidth=1, label=f\"ANN, RMSE: {RMSE_ANN1}\")\n",
    "ax.plot(x_plot[idx_from:idx_to], y_hat_RNN2[idx_from:idx_to], c=\"orange\", linewidth=1, label=f\"RNN (LSTM), RMSE: {RMSE_RNN1}\")\n",
    "#ax.set_title(f\"Predicted data using Artificial Neural Network (ANN) and Recurrent Neural Network (RNN)\")\n",
    "ax.legend(loc=\"upper center\", bbox_to_anchor=(0.5, -0.2))\n",
    "\n",
    "# Save the figure.\n",
    "plt.savefig(\"forecast_plot2.pdf\", bbox_inches='tight')"
   ]
  },
  {
   "cell_type": "markdown",
   "metadata": {},
   "source": [
    "# Final results"
   ]
  },
  {
   "cell_type": "code",
   "execution_count": null,
   "metadata": {},
   "outputs": [],
   "source": [
    "data = {'RMSE': [RMSE_MLR, RMSE_SVR, RMSE_ANN1, RMSE_RNN1]}\n",
    "RMSEs = pd.DataFrame.from_dict(data, orient='index',  columns=['MLR', 'SVR', 'ANN', 'RNN'])\n",
    "RMSEs_styled = RMSEs.style.background_gradient(cmap='RdYlGn_r',axis=1)\n",
    "display(RMSEs_styled)"
   ]
  },
  {
   "cell_type": "markdown",
   "metadata": {},
   "source": [
    "## A table of all relevant RMSEs"
   ]
  },
  {
   "cell_type": "code",
   "execution_count": null,
   "metadata": {},
   "outputs": [],
   "source": [
    "RMSEs = RMSEs.T\n",
    "RMSEs = RMSEs.rename({\"RNN\" : \"RNN (LSTM)\"})\n",
    "RMSEs.to_csv(\"q3_RMSE.csv\")"
   ]
  },
  {
   "cell_type": "markdown",
   "metadata": {},
   "source": [
    "----------------------------\n",
    "# Tests using different window size in the time series data"
   ]
  },
  {
   "cell_type": "markdown",
   "metadata": {},
   "source": [
    "## Create windowed time series data"
   ]
  },
  {
   "cell_type": "code",
   "execution_count": null,
   "metadata": {},
   "outputs": [],
   "source": [
    "# Training data\n",
    "training_df = pd.read_csv(\"entsoe_dataset_main.csv\")[[\"NO5_day_ahead_prices\",\"dato_id\"]][0:-8760]; print(training_df.shape)\n",
    "\n",
    "# Forecast solutions\n",
    "training_df, forcast_sol_df = train_test_split(training_df, shuffle=False, test_size=0.2, random_state=4155)\n",
    "\n",
    "nbf_features = window_size = 20\n",
    "nbf_outputs = 1\n",
    "\n",
    "# Creating time series traing and evaluation (test) data besed on sliding window approach\n",
    "x_train, y_train, x_test, y_test, train_df, eval_df = create_time_series_data(training_df, forcast_sol_df, window_size, nbf_outputs)"
   ]
  },
  {
   "cell_type": "markdown",
   "metadata": {},
   "source": [
    "# Linear regression model "
   ]
  },
  {
   "cell_type": "code",
   "execution_count": null,
   "metadata": {},
   "outputs": [],
   "source": [
    "MLR_model2 = LinearRegression()\n",
    "MLR_model2.fit(x_train, y_train)\n",
    "y_hat_MLR2 = MLR_model2.predict(x_test)\n",
    "RMSE_MLR2 = RMSE(y_test, y_hat_MLR2)\n",
    "print(f\"Overall model score evaluated on training data using RMSE: {RMSE_MLR2}\")"
   ]
  },
  {
   "cell_type": "markdown",
   "metadata": {},
   "source": [
    "# SVR"
   ]
  },
  {
   "cell_type": "code",
   "execution_count": null,
   "metadata": {},
   "outputs": [],
   "source": [
    "SVR_model2 = SVR(C=1.0, epsilon=0.05) \n",
    "SVR_model2.fit(x_train, y_train.flatten()) \n",
    "y_hat_SVR2 = SVR_model2.predict(x_test)\n",
    "RMSE_SVR2 = RMSE(y_test, y_hat_SVR2)\n",
    "print(f\"Overall model score evaluated on training data using RMSE: {RMSE_SVR2}\")"
   ]
  },
  {
   "cell_type": "markdown",
   "metadata": {},
   "source": [
    "# ANN - Simple architecture"
   ]
  },
  {
   "cell_type": "code",
   "execution_count": null,
   "metadata": {},
   "outputs": [],
   "source": [
    "# Hyperparameters\n",
    "eta = 0.004\n",
    "units = 64\n",
    "batch_size = 500\n",
    "EPOCHS = 100\n",
    "\n",
    "# Create model\n",
    "ANN_model3 = ANN_simple(eta, units, nbf_outputs)\n",
    "\n",
    "# Reshaping the training data for it to fit to the model\n",
    "x_train_ANN = x_train.reshape((x_train.shape[0],x_train.shape[1],1))\n",
    "x_train_ANN = np.swapaxes(x_train_ANN,1,2)\n",
    "y_train_ANN = y_train.copy()\n",
    "\n",
    "# Reshaping the test data for it to fit to the model\n",
    "x_test_ANN = x_test.copy()\n",
    "x_test_ANN = x_test_ANN.reshape((x_test_ANN.shape[0],x_test_ANN.shape[1],1))\n",
    "x_test_ANN = np.swapaxes(x_test_ANN,1,2)\n",
    "\n",
    "# Training\n",
    "ANN_model3.fit(x_train_ANN, y_train_ANN, shuffle=True, batch_size=batch_size, epochs=EPOCHS, verbose=0)\n",
    "\n",
    "# Prediction\n",
    "y_hat_ANN3 = ANN_model3.predict(x_test_ANN)\n",
    "y_hat_ANN3 = np.squeeze(y_hat_ANN3) # Removing excess dimensions\n",
    "\n",
    "# Calculation the model score using RMSE\n",
    "RMSE_ANN3 = RMSE(y_test, y_hat_ANN3)\n",
    "print(f\"Overall model score evaluated on training data using RMSE: {RMSE_ANN3}\")"
   ]
  },
  {
   "cell_type": "markdown",
   "metadata": {},
   "source": [
    "# ANN - Complex architecture"
   ]
  },
  {
   "cell_type": "code",
   "execution_count": null,
   "metadata": {},
   "outputs": [],
   "source": [
    "# Hyperparameters\n",
    "decay= 1e-5\n",
    "eta = 0.005\n",
    "lam = 0.0001\n",
    "units = 64\n",
    "batch_size = 500\n",
    "drop = 0.3\n",
    "EPOCHS=100\n",
    "\n",
    "# Create model\n",
    "ANN_model4 = ANN_complex1(eta, lam, decay, units, drop, nbf_outputs)\n",
    "\n",
    "# Reshaping the training data for it to fit to the model\n",
    "x_train_ANN = x_train.reshape((x_train.shape[0],x_train.shape[1],1))\n",
    "x_train_ANN = np.swapaxes(x_train_ANN,1,2)\n",
    "y_train_ANN = y_train.copy()\n",
    "\n",
    "# Reshaping the test data for it to fit to the model\n",
    "x_test_ANN = x_test.copy()\n",
    "x_test_ANN = x_test_ANN.reshape((x_test_ANN.shape[0],x_test_ANN.shape[1],1))\n",
    "x_test_ANN = np.swapaxes(x_test_ANN,1,2)\n",
    "\n",
    "# Training\n",
    "ANN_model4.fit(x_train_ANN, y_train_ANN,shuffle=True,batch_size=batch_size, epochs=EPOCHS,\n",
    "               validation_split=0.1, verbose=0)\n",
    "\n",
    "# Prediction\n",
    "y_hat_ANN4 = ANN_model4.predict(x_test_ANN)\n",
    "y_hat_ANN4 = np.squeeze(y_hat_ANN4) # Removing excess dimensions\n",
    "\n",
    "# Calculation the model score using RMSE\n",
    "RMSE_ANN4 = RMSE(y_test, y_hat_ANN4)\n",
    "print(f\"Overall model score evaluated on test data using RMSE: {RMSE_ANN4}\")"
   ]
  },
  {
   "cell_type": "markdown",
   "metadata": {},
   "source": [
    "# LSTM (RNN)"
   ]
  },
  {
   "cell_type": "code",
   "execution_count": null,
   "metadata": {},
   "outputs": [],
   "source": [
    "# Hyperparameters\n",
    "eta = 0.004\n",
    "units = 64\n",
    "batch_size = 16\n",
    "EPOCHS=100\n",
    "\n",
    "# Model shape\n",
    "time_steps = 72 # 72 hours = 3 days of history per training sequence\n",
    "model_shape = (time_steps, nbf_features); print(model_shape)\n",
    "\n",
    "# Create model\n",
    "RNN_model3 = LSTM_model(eta, units, model_shape, nbf_outputs)\n",
    "\n",
    "# Training data pre-processing\n",
    "trainX = x_train[4:]\n",
    "trainY = y_train[4:]\n",
    "batch_size_train = x_train.shape[0] // time_steps\n",
    "x_train_RNN = trainX.reshape((batch_size_train, time_steps, nbf_features))\n",
    "y_train_RNN = trainY.copy()\n",
    "y_train_RNN = y_train_RNN.reshape((batch_size_train, time_steps, 1))\n",
    "\n",
    "# Test data pre-processing\n",
    "batch_size_test = x_test.shape[0] // time_steps\n",
    "x_test_RNN = x_test.reshape((batch_size_test, time_steps, nbf_features))\n",
    "y_test_RNN = y_test.copy()\n",
    "y_test_RNN = y_test_RNN.reshape((batch_size_test, time_steps, 1))\n",
    "y_test_RNN = y_test_RNN.flatten()\n",
    "\n",
    "# Training\n",
    "RNN_model3.fit(x_train_RNN, y_train_RNN, shuffle=False, batch_size=batch_size, epochs=EPOCHS, verbose=0)\n",
    "\n",
    "# Prediction\n",
    "y_hat_RNN3 = RNN_model3.predict(x_test_RNN)\n",
    "y_hat_RNN3 = y_hat_RNN3.flatten()\n",
    "\n",
    "# Calculation the model score using RMSE\n",
    "RMSE_RNN3 = RMSE(y_test_RNN, y_hat_RNN3)\n",
    "print(RMSE_RNN3)"
   ]
  },
  {
   "cell_type": "markdown",
   "metadata": {},
   "source": [
    "# Final results on window size of 20"
   ]
  },
  {
   "cell_type": "code",
   "execution_count": null,
   "metadata": {},
   "outputs": [],
   "source": [
    "data = {'RMSE': [RMSE_MLR, RMSE_SVR, RMSE_ANN1, RMSE_RNN3]}\n",
    "RMSEs = pd.DataFrame.from_dict(data, orient='index',  columns=['MLR', 'SVR', 'ANN', 'RNN'])\n",
    "RMSEs_styled = RMSEs.style.background_gradient(cmap='RdYlGn_r',axis=1)\n",
    "display(RMSEs_styled)"
   ]
  },
  {
   "cell_type": "markdown",
   "metadata": {},
   "source": [
    "# Stateful LSTM (RNN)\n",
    "Many-to-one configuration using the stateful flag"
   ]
  },
  {
   "cell_type": "code",
   "execution_count": null,
   "metadata": {
    "collapsed": true,
    "jupyter": {
     "outputs_hidden": true
    }
   },
   "outputs": [],
   "source": [
    "# Hyperparameters\n",
    "eta = 0.004\n",
    "units = 64\n",
    "batch_size = 1\n",
    "EPOCHS = 100\n",
    "\n",
    "# Model shape\n",
    "time_steps = 72 # 72 hours = 3 days of history per training sequence\n",
    "model_shape = (time_steps, nbf_features); print(model_shape)\n",
    "\n",
    "# Create model\n",
    "RNN_model4 = LSTM_stateful_model(eta, units, model_shape, nbf_outputs)\n",
    "\n",
    "# Training data pre-processing\n",
    "trainX = x_train[4:]\n",
    "trainY = y_train[4:]\n",
    "batch_size_train = x_train.shape[0] // time_steps\n",
    "x_train_RNN4 = trainX.reshape((batch_size_train, time_steps, nbf_features))\n",
    "y_train_RNN4 = trainY.copy()\n",
    "y_train_RNN4 = y_train_RNN4.reshape((batch_size_train, time_steps, 1))\n",
    "\n",
    "# Test data pre-processing\n",
    "batch_size_test = x_test.shape[0] // time_steps\n",
    "x_test_RNN = x_test.reshape((batch_size_test, time_steps, nbf_features))\n",
    "y_test_RNN = y_test.copy()\n",
    "y_test_RNN = y_test_RNN.reshape((batch_size_test, time_steps, 1))\n",
    "y_test_RNN = y_test_RNN.flatten()\n",
    "\n",
    "\n",
    "# Training\n",
    "for e in range(EPOCHS):\n",
    "    print(f\"Training epoch {e}\")\n",
    "    RNN_model4.fit(x_train_RNN4, y_train_RNN4, epochs=1, batch_size=batch_size, verbose=0, shuffle=False)\n",
    "    RNN_model4.reset_states()\n",
    "    \n",
    "# Prediction\n",
    "y_hat_RNN4 = RNN_model4.predict(x_test_RNN, batch_size=1)\n",
    "y_hat_RNN4 = y_hat_RNN4.flatten()"
   ]
  },
  {
   "cell_type": "code",
   "execution_count": null,
   "metadata": {},
   "outputs": [],
   "source": [
    "# Calculation the model score using RMSE\n",
    "RMSE_RNN4 = RMSE(y_test_RNN, y_hat_RNN4)\n",
    "print(RMSE_RNN4)"
   ]
  },
  {
   "cell_type": "markdown",
   "metadata": {},
   "source": [
    "# Final results on window size of 20"
   ]
  },
  {
   "cell_type": "code",
   "execution_count": null,
   "metadata": {},
   "outputs": [],
   "source": [
    "data = {'RMSE': [RMSE_MLR, RMSE_SVR, RMSE_ANN1, RMSE_RNN4]}\n",
    "RMSEs = pd.DataFrame.from_dict(data, orient='index',  columns=['MLR', 'SVR', 'ANN', 'RNN'])\n",
    "RMSEs_styled = RMSEs.style.background_gradient(cmap='RdYlGn_r',axis=1)\n",
    "display(RMSEs_styled)"
   ]
  },
  {
   "cell_type": "code",
   "execution_count": null,
   "metadata": {},
   "outputs": [],
   "source": []
  }
 ],
 "metadata": {
  "kernelspec": {
   "display_name": "Python 3",
   "language": "python",
   "name": "python3"
  },
  "language_info": {
   "codemirror_mode": {
    "name": "ipython",
    "version": 3
   },
   "file_extension": ".py",
   "mimetype": "text/x-python",
   "name": "python",
   "nbconvert_exporter": "python",
   "pygments_lexer": "ipython3",
   "version": "3.8.12"
  }
 },
 "nbformat": 4,
 "nbformat_minor": 4
}
