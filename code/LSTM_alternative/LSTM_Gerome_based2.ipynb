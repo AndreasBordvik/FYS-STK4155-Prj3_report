{
 "cells": [
  {
   "cell_type": "code",
   "execution_count": 1,
   "metadata": {},
   "outputs": [
    {
     "name": "stdout",
     "output_type": "stream",
     "text": [
      "No GPU was detected. LSTMs and CNNs can be very slow without a GPU.\n"
     ]
    }
   ],
   "source": [
    "from sklearn.model_selection import train_test_split\n",
    "from sklearn.preprocessing import MinMaxScaler\n",
    "from tensorflow.keras.callbacks import Callback, EarlyStopping, ReduceLROnPlateau, History\n",
    "from tensorflow.keras.layers import Dense, Dropout, LSTM, BatchNormalization, Bidirectional, TimeDistributed\n",
    "import pandas as pd\n",
    "\n",
    "# Python ≥3.5 is required\n",
    "import sys\n",
    "assert sys.version_info >= (3, 5)\n",
    "\n",
    "# Is this notebook running on Colab or Kaggle?\n",
    "IS_COLAB = \"google.colab\" in sys.modules\n",
    "IS_KAGGLE = \"kaggle_secrets\" in sys.modules\n",
    "\n",
    "# Scikit-Learn ≥0.20 is required\n",
    "import sklearn\n",
    "assert sklearn.__version__ >= \"0.20\"\n",
    "\n",
    "# TensorFlow ≥2.0 is required\n",
    "import tensorflow as tf\n",
    "from tensorflow import keras\n",
    "assert tf.__version__ >= \"2.0\"\n",
    "\n",
    "if not tf.config.list_physical_devices('GPU'):\n",
    "    print(\"No GPU was detected. LSTMs and CNNs can be very slow without a GPU.\")\n",
    "    if IS_COLAB:\n",
    "        print(\"Go to Runtime > Change runtime and select a GPU hardware accelerator.\")\n",
    "    if IS_KAGGLE:\n",
    "        print(\"Go to Settings > Accelerator and select GPU.\")\n",
    "\n",
    "# Common imports\n",
    "import numpy as np\n",
    "import os\n",
    "from pathlib import Path\n",
    "\n",
    "# to make this notebook's output stable across runs\n",
    "np.random.seed(42)\n",
    "tf.random.set_seed(42)\n",
    "\n",
    "# To plot pretty figures\n",
    "%matplotlib inline\n",
    "import matplotlib as mpl\n",
    "import matplotlib.pyplot as plt\n",
    "mpl.rc('axes', labelsize=14)\n",
    "mpl.rc('xtick', labelsize=12)\n",
    "mpl.rc('ytick', labelsize=12)\n",
    "\n",
    "# Where to save the figures\n",
    "PROJECT_ROOT_DIR = \".\"\n",
    "CHAPTER_ID = \"rnn\"\n",
    "IMAGES_PATH = os.path.join(PROJECT_ROOT_DIR, \"images\", CHAPTER_ID)\n",
    "os.makedirs(IMAGES_PATH, exist_ok=True)\n",
    "\n",
    "def save_fig(fig_id, tight_layout=True, fig_extension=\"png\", resolution=300):\n",
    "    path = os.path.join(IMAGES_PATH, fig_id + \".\" + fig_extension)\n",
    "    print(\"Saving figure\", fig_id)\n",
    "    if tight_layout:\n",
    "        plt.tight_layout()\n",
    "    plt.savefig(path, format=fig_extension, dpi=resolution)"
   ]
  },
  {
   "cell_type": "code",
   "execution_count": 2,
   "metadata": {},
   "outputs": [],
   "source": [
    "def plot_series(series, y=None, y_pred=None, x_label=\"$t$\", y_label=\"$x(t)$\", legend=True):\n",
    "    plt.plot(series, \".-\")\n",
    "    if y is not None:\n",
    "        plt.plot(n_steps, y, \"bo\", label=\"Target\")\n",
    "    if y_pred is not None:\n",
    "        plt.plot(n_steps, y_pred, \"rx\", markersize=10, label=\"Prediction\")\n",
    "    plt.grid(True)\n",
    "    if x_label:\n",
    "        plt.xlabel(x_label, fontsize=16)\n",
    "    if y_label:\n",
    "        plt.ylabel(y_label, fontsize=16, rotation=0)\n",
    "    plt.hlines(0, 0, 100, linewidth=1)\n",
    "    plt.axis([0, n_steps + 1, -1, 1])\n",
    "    plt.ylim(0,1)\n",
    "    if legend and (y or y_pred):\n",
    "        plt.legend(fontsize=14, loc=\"upper left\")"
   ]
  },
  {
   "cell_type": "code",
   "execution_count": 18,
   "metadata": {},
   "outputs": [],
   "source": [
    "def plot_multiple_forecasts(X, Y, Y_pred):\n",
    "    n_steps = X.shape[1]\n",
    "    ahead = Y.shape[1]\n",
    "    plot_series(X[0, :, 0])\n",
    "    #plt.plot(np.arange(n_steps, n_steps + ahead), Y[0, :, 0], \"bo-\", label=\"Actual\")\n",
    "    plt.plot(np.arange(n_steps, n_steps + ahead), Y_pred[0, :, 0], \"rx-\", label=\"Forecast\", markersize=10)\n",
    "    #plt.ylim(0,1)\n",
    "    plt.axis([0, n_steps + ahead, -1, 1])\n",
    "    plt.legend(fontsize=14)"
   ]
  },
  {
   "cell_type": "code",
   "execution_count": 3,
   "metadata": {},
   "outputs": [],
   "source": [
    "def plot_learning_curves(loss, val_loss):\n",
    "    plt.plot(np.arange(len(loss)) + 0.5, loss, \"b.-\", label=\"Training loss\")\n",
    "    plt.plot(np.arange(len(val_loss)) + 1, val_loss, \"r.-\", label=\"Validation loss\")\n",
    "    plt.gca().xaxis.set_major_locator(mpl.ticker.MaxNLocator(integer=True))\n",
    "    #plt.axis([1, 20, 0, 0.05])\n",
    "    plt.legend(fontsize=14)\n",
    "    plt.xlabel(\"Epochs\")\n",
    "    plt.ylabel(\"Loss\")\n",
    "    plt.grid(True)"
   ]
  },
  {
   "cell_type": "code",
   "execution_count": 4,
   "metadata": {},
   "outputs": [],
   "source": [
    "def create_time_series_data(raw_train_df, nbf_features, nbf_outputs, column_key, column_suffix=\"\", include_target_outputs=True):\n",
    "    nbf_columns = nbf_features + nbf_outputs\n",
    "    time_series_df, time_series = sliding_window_algorithm(raw_train_df, nbf_columns, nbf_features, nbf_outputs, column_key, column_suffix, include_target_outputs)\n",
    "    return time_series, time_series_df\n",
    "\n",
    "\n",
    "def sliding_window_algorithm(raw_data_df, nbf_columns, input_window, output_window, column_key, column_suffix, include_target_outputs, string_array=False):\n",
    "    raw_data = raw_data_df[column_key].to_numpy()\n",
    "    dim0 = raw_data.shape[0] - (nbf_columns - 1) # Number of time-slices\n",
    "    dim1 = nbf_columns # Time-step length including input window and output window\n",
    "    \n",
    "    if string_array:\n",
    "        data = np.empty((dim0,dim1), dtype=object) # Time series matrix\n",
    "    else:\n",
    "        data = np.zeros((dim0,dim1)) # Time series matrix\n",
    "\n",
    "    data[0, :] = raw_data[:dim1] # First initial sample/time-slice (n equals 0)\n",
    "    n = 1 # n is the count variable\n",
    "    \n",
    "    # Looping through the initial input data and constucting the \n",
    "    # time series data based on the sliding window approach. \n",
    "    # See the report for more descriptions\n",
    "    for j in range(dim1, raw_data.shape[0]):\n",
    "        data[n, :-1] = data[n-1, 1:]\n",
    "        data[n, nbf_columns-1:] = raw_data[j]\n",
    "        n += 1\n",
    "\n",
    "    if include_target_outputs:\n",
    "        # Creating dataframe    \n",
    "        feature_names = [f\"x{i}_{column_suffix}\" for i in range(1,input_window+1)]\n",
    "        if(output_window > 1):\n",
    "            output_names = [f\"y{i}_{column_suffix}\" for i in range(1,output_window+1)]    \n",
    "        else:\n",
    "            output_names = [f\"y_{column_suffix}\"]\n",
    "        \n",
    "        time_series_df = pd.DataFrame(data=data, columns=feature_names+output_names)\n",
    "    else:\n",
    "        feature_names = [f\"x{i}_{column_suffix}\" for i in range(1,input_window+2)]\n",
    "        time_series_df = pd.DataFrame(data=data, columns=feature_names)\n",
    "\n",
    "    return time_series_df, data"
   ]
  },
  {
   "cell_type": "markdown",
   "metadata": {},
   "source": [
    "# Own Dataset"
   ]
  },
  {
   "cell_type": "code",
   "execution_count": 5,
   "metadata": {},
   "outputs": [
    {
     "name": "stdout",
     "output_type": "stream",
     "text": [
      "(44280, 7)\n"
     ]
    },
    {
     "data": {
      "text/html": [
       "<div>\n",
       "<style scoped>\n",
       "    .dataframe tbody tr th:only-of-type {\n",
       "        vertical-align: middle;\n",
       "    }\n",
       "\n",
       "    .dataframe tbody tr th {\n",
       "        vertical-align: top;\n",
       "    }\n",
       "\n",
       "    .dataframe thead th {\n",
       "        text-align: right;\n",
       "    }\n",
       "</style>\n",
       "<table border=\"1\" class=\"dataframe\">\n",
       "  <thead>\n",
       "    <tr style=\"text-align: right;\">\n",
       "      <th></th>\n",
       "      <th>NO5_price</th>\n",
       "      <th>NO5_load_actual</th>\n",
       "      <th>NO5_load_delta</th>\n",
       "      <th>NO5_generation_actual</th>\n",
       "      <th>NO5_generation_delta</th>\n",
       "      <th>dato_id</th>\n",
       "      <th>date_time</th>\n",
       "    </tr>\n",
       "  </thead>\n",
       "  <tbody>\n",
       "    <tr>\n",
       "      <th>44277</th>\n",
       "      <td>35.29</td>\n",
       "      <td>2490</td>\n",
       "      <td>-423</td>\n",
       "      <td>6910</td>\n",
       "      <td>-3275</td>\n",
       "      <td>2021-01-21 09:00:00+01:00</td>\n",
       "      <td>2021-01-21-09</td>\n",
       "    </tr>\n",
       "    <tr>\n",
       "      <th>44278</th>\n",
       "      <td>33.01</td>\n",
       "      <td>2499</td>\n",
       "      <td>-460</td>\n",
       "      <td>6568</td>\n",
       "      <td>-3186</td>\n",
       "      <td>2021-01-21 10:00:00+01:00</td>\n",
       "      <td>2021-01-21-10</td>\n",
       "    </tr>\n",
       "    <tr>\n",
       "      <th>44279</th>\n",
       "      <td>33.38</td>\n",
       "      <td>2460</td>\n",
       "      <td>-412</td>\n",
       "      <td>6722</td>\n",
       "      <td>-3267</td>\n",
       "      <td>2021-01-21 11:00:00+01:00</td>\n",
       "      <td>2021-01-21-11</td>\n",
       "    </tr>\n",
       "  </tbody>\n",
       "</table>\n",
       "</div>"
      ],
      "text/plain": [
       "       NO5_price  NO5_load_actual  NO5_load_delta  NO5_generation_actual  \\\n",
       "44277      35.29             2490            -423                   6910   \n",
       "44278      33.01             2499            -460                   6568   \n",
       "44279      33.38             2460            -412                   6722   \n",
       "\n",
       "       NO5_generation_delta                    dato_id      date_time  \n",
       "44277                 -3275  2021-01-21 09:00:00+01:00  2021-01-21-09  \n",
       "44278                 -3186  2021-01-21 10:00:00+01:00  2021-01-21-10  \n",
       "44279                 -3267  2021-01-21 11:00:00+01:00  2021-01-21-11  "
      ]
     },
     "metadata": {},
     "output_type": "display_data"
    },
    {
     "name": "stdout",
     "output_type": "stream",
     "text": [
      "*** (44280, 1)\n"
     ]
    }
   ],
   "source": [
    "# Training data\n",
    "dataset_df = pd.read_csv(\"MAIN_DATASET.csv\")[[\"NO5_price\", \"NO5_load_actual\",\"NO5_load_delta\", \"NO5_generation_actual\", \"NO5_generation_delta\", \"dato_id\",\"date_time\"]][:-7381]; print(dataset_df.shape)\n",
    "\n",
    "display(dataset_df.tail(3))\n",
    "\n",
    "\n",
    "scaler = MinMaxScaler()\n",
    "print(\"***\",dataset_df[\"NO5_price\"].values.reshape(-1,1).shape)\n",
    "\n",
    "dataset_df[\"NO5_price\"] = scaler.fit_transform(dataset_df[\"NO5_price\"].values.reshape(-1,1))\n",
    "dataset_df[\"NO5_load_actual\"] = scaler.fit_transform(dataset_df[\"NO5_load_actual\"].values.reshape(-1,1))\n",
    "dataset_df[\"NO5_load_delta\"] = scaler.fit_transform(dataset_df[\"NO5_load_delta\"].values.reshape(-1,1))\n",
    "dataset_df[\"NO5_generation_actual\"] = scaler.fit_transform(dataset_df[\"NO5_generation_actual\"].values.reshape(-1,1))\n",
    "dataset_df[\"NO5_generation_delta\"] = scaler.fit_transform(dataset_df[\"NO5_generation_delta\"].values.reshape(-1,1))\n",
    "\n",
    "# Forecast solutions\n",
    "# training_df, forcast_sol_df = train_test_split(training_df, shuffle=False, test_size=0.2, random_state=4155)\n",
    "\n",
    "# Displaying the loaded data\n",
    "# display(training_df.tail(3))\n",
    "# print(training_df.shape)\n",
    "# display(forcast_sol_df.head(3))\n",
    "# print(forcast_sol_df.shape)\n",
    "\n",
    "# print(training_df.max())\n",
    "\n",
    "# print(training_df.min())\n",
    "# print(forcast_sol_df.max())\n",
    "# print(forcast_sol_df.min())"
   ]
  },
  {
   "cell_type": "markdown",
   "metadata": {},
   "source": [
    "## SeqToOne\n",
    "Returning only the last output"
   ]
  },
  {
   "cell_type": "code",
   "execution_count": null,
   "metadata": {},
   "outputs": [],
   "source": [
    "# Time series slicing parameters\n",
    "nbf_features = input_window = 1 \n",
    "nbf_outputs = output_window = horizon = 1\n",
    "time_steps = 72\n",
    "\n",
    "# Creating time series traing and evaluation (test) data besed on sliding window approach\n",
    "time_series, time_series_df = create_time_series_data(dataset_df,                                                                             \n",
    "                                                      nbf_features, \n",
    "                                                      nbf_outputs, \n",
    "                                                      column_key=\"NO5_price\", \n",
    "                                                      column_suffix=\"DA\",\n",
    "                                                      include_target_outputs=True)\n",
    "#time_series_df.to_csv(\"TIMESERIES_VALIDATION.csv\")\n",
    "\n",
    "\n",
    "# Displaying time series data\n",
    "time_series_df.index.name = \"t\"\n",
    "\n",
    "print(time_series.shape)\n",
    "print(time_series_df.shape)\n",
    "# print(time_series_df.columns)\n",
    "\n",
    "X_train, y_train = time_series[ :34272, :input_window], time_series[ :34272, input_window:]\n",
    "X_valid, y_valid = time_series[34272:34272+6581, :input_window], time_series[34272:34272+6581, input_window:]\n",
    "X_test, y_test = time_series[34272+6581:, :input_window], time_series[34272+6581:, input_window:]\n",
    "\n",
    "# X_train = np.expand_dims(X_train, axis=2)\n",
    "# X_valid = np.expand_dims(X_valid, axis=2)\n",
    "# X_test = np.expand_dims(X_test, axis=2)\n",
    "\n",
    "# print(X_train.shape, y_train.shape)\n",
    "# print(X_valid.shape, y_valid.shape)\n",
    "# print(X_test.shape, y_test.shape)\n",
    "\n",
    "print(X_train.shape, y_train.shape)\n",
    "print(X_valid.shape, y_valid.shape)\n",
    "print(X_test.shape, y_test.shape)\n",
    "\n",
    "print(\"before\")\n",
    "print(X_train.shape, y_train.shape)\n",
    "print(X_valid.shape, y_valid.shape)\n",
    "print(X_test.shape, y_test.shape)\n",
    "\n",
    "train_start_idx = X_train.shape[0]%time_steps\n",
    "X_train = X_train[train_start_idx: , :] # \n",
    "y_train = y_train[train_start_idx: , :] # \n",
    "\n",
    "batch_size_train = X_train.shape[0] // time_steps\n",
    "x_train_RNN = X_train.reshape((batch_size_train, time_steps, nbf_features))\n",
    "y_train_RNN = y_train.copy()\n",
    "y_train_RNN = y_train_RNN.reshape((batch_size_train, time_steps, nbf_outputs))\n",
    "\n",
    "\n",
    "# Validation \n",
    "valid_start_idx = X_valid.shape[0]%time_steps\n",
    "X_valid = X_valid[valid_start_idx: , :] # \n",
    "y_valid = y_valid[valid_start_idx: , :] # \n",
    "\n",
    "batch_size_valid = X_valid.shape[0] // time_steps\n",
    "x_valid_RNN = X_valid.reshape((batch_size_valid, time_steps, nbf_features))\n",
    "y_valid_RNN = y_valid.copy()\n",
    "y_valid_RNN = y_valid_RNN.reshape((batch_size_valid, time_steps, nbf_outputs))\n",
    "\n",
    "# Test \n",
    "test_start_idx = X_test.shape[0]%time_steps\n",
    "X_test = X_test[test_start_idx: , :] # \n",
    "y_test = y_test[test_start_idx: , :] # \n",
    "\n",
    "batch_size_test = X_test.shape[0] // time_steps\n",
    "x_test_RNN = X_test.reshape((batch_size_test, time_steps, nbf_features))\n",
    "y_test_RNN = y_test.copy()\n",
    "y_test_RNN = y_test_RNN.reshape((batch_size_test, time_steps, nbf_outputs))\n",
    "\n",
    "X_train = x_train_RNN#.swapaxes(1,2)\n",
    "y_train = y_train_RNN#.squeeze()   \n",
    "\n",
    "X_valid = x_valid_RNN#.swapaxes(1,2)   \n",
    "y_valid = y_valid_RNN#.squeeze()   \n",
    "\n",
    "X_test = x_test_RNN#.swapaxes(1,2)   \n",
    "y_test = y_test_RNN#.squeeze()\n",
    "\n",
    "print(\"After\")\n",
    "print(X_train.shape, y_train.shape)\n",
    "print(X_valid.shape, y_valid.shape)\n",
    "print(X_test.shape, y_test.shape)"
   ]
  },
  {
   "cell_type": "code",
   "execution_count": null,
   "metadata": {},
   "outputs": [],
   "source": [
    "print(f\"{X_train.shape=}\")\n",
    "print(f\"{y_train.shape=}\")\n",
    "print(f\"{X_valid.shape=}\")\n",
    "print(f\"{y_valid.shape=}\")\n",
    "\n",
    "eta = 0.002\n",
    "batch_size = 100\n",
    "model = keras.models.Sequential([\n",
    "    LSTM(20, return_sequences=True, input_shape=[None, 1]),\n",
    "    # keras.layers.LSTM(20, return_sequences=True, input_shape=[None, nbf_features]),\n",
    "    # keras.layers.LSTM(20, return_sequences=True, input_shape=[None, 1]),\n",
    "    LSTM(20, return_sequences=True),\n",
    "    TimeDistributed(keras.layers.Dense(1))\n",
    "])\n",
    "\n",
    "learning_rate_reduction = ReduceLROnPlateau(monitor='val_loss', \n",
    "                                            patience=3, \n",
    "                                            verbose=1, \n",
    "                                            factor=0.5, \n",
    "                                            min_lr=0.000001)\n",
    "\n",
    "opt = tf.keras.optimizers.Adam(learning_rate=eta)\n",
    "model.compile(loss=\"mse\", optimizer=opt)\n",
    "\n",
    "callbacks = [learning_rate_reduction]\n",
    "\n",
    "print(X_train.shape)\n",
    "print(y_train.shape)\n",
    "\n",
    "history = model.fit(X_train, y_train, \n",
    "                    epochs=20, shuffle=False, \n",
    "                    batch_size=batch_size,\n",
    "                    validation_data=(X_valid, y_valid),\n",
    "                    callbacks= callbacks)   "
   ]
  },
  {
   "cell_type": "code",
   "execution_count": null,
   "metadata": {},
   "outputs": [],
   "source": [
    "model.evaluate(X_valid, y_valid)"
   ]
  },
  {
   "cell_type": "code",
   "execution_count": null,
   "metadata": {},
   "outputs": [],
   "source": [
    "plot_learning_curves(history.history[\"loss\"], history.history[\"val_loss\"])\n",
    "plt.show()"
   ]
  },
  {
   "cell_type": "code",
   "execution_count": null,
   "metadata": {},
   "outputs": [],
   "source": [
    "y_pred = model.predict(X_valid)\n",
    "plot_series(X_valid[0, :, 0], y_valid[0, 0], y_pred[0, 0])\n",
    "plt.show()"
   ]
  },
  {
   "cell_type": "markdown",
   "metadata": {},
   "source": [
    "## SeqToVec"
   ]
  },
  {
   "cell_type": "markdown",
   "metadata": {
    "id": "HtbelVxDOq63"
   },
   "source": [
    "## Forecasting Several Steps Ahead - With horizon equal to 1"
   ]
  },
  {
   "cell_type": "code",
   "execution_count": 6,
   "metadata": {},
   "outputs": [
    {
     "name": "stdout",
     "output_type": "stream",
     "text": [
      "(44279, 2)\n",
      "(44279, 2)\n",
      "(34272, 1, 1) (34272, 1)\n",
      "(6581, 1, 1) (6581, 1)\n",
      "(3426, 1, 1) (3426, 1)\n"
     ]
    }
   ],
   "source": [
    "# Time series slicing parameters\n",
    "nbf_features = input_window = 1 \n",
    "nbf_outputs = output_window = horizon = 1\n",
    "n_steps = time_steps = 72\n",
    "\n",
    "# Creating time series traing and evaluation (test) data besed on sliding window approach\n",
    "time_series, time_series_df = create_time_series_data(dataset_df,                                                                             \n",
    "                                                      nbf_features, \n",
    "                                                      nbf_outputs, \n",
    "                                                      column_key=\"NO5_price\", \n",
    "                                                      column_suffix=\"DA\",\n",
    "                                                      include_target_outputs=True)\n",
    "#time_series_df.to_csv(\"TIMESERIES_VALIDATION.csv\")\n",
    "\n",
    "\n",
    "\n",
    "# Displaying time series data\n",
    "time_series_df.index.name = \"t\"\n",
    "\n",
    "print(time_series.shape)\n",
    "print(time_series_df.shape)\n",
    "# print(time_series_df.columns)\n",
    "\n",
    "X_train, y_train = time_series[ :34272, :input_window], time_series[ :34272, input_window:]\n",
    "X_valid, y_valid = time_series[34272:34272+6581, :input_window], time_series[34272:34272+6581, input_window:]\n",
    "X_test, y_test = time_series[34272+6581:, :input_window], time_series[34272+6581:, input_window:]\n",
    "\n",
    "X_train = np.expand_dims(X_train, axis=2)\n",
    "X_valid = np.expand_dims(X_valid, axis=2)\n",
    "X_test = np.expand_dims(X_test, axis=2)\n",
    "\n",
    "print(X_train.shape, y_train.shape)\n",
    "print(X_valid.shape, y_valid.shape)\n",
    "print(X_test.shape, y_test.shape)"
   ]
  },
  {
   "cell_type": "code",
   "execution_count": 7,
   "metadata": {},
   "outputs": [
    {
     "name": "stdout",
     "output_type": "stream",
     "text": [
      "X_train.shape=(34272, 1, 1)\n",
      "y_train.shape=(34272, 1)\n",
      "X_valid.shape=(6581, 1, 1)\n",
      "y_valid.shape=(6581, 1)\n",
      "(34272, 1, 1)\n",
      "(34272, 1)\n",
      "Epoch 1/20\n",
      "343/343 [==============================] - 2s 6ms/step - loss: 0.0044 - val_loss: 0.0420\n",
      "Epoch 2/20\n",
      "343/343 [==============================] - 1s 3ms/step - loss: 0.0023 - val_loss: 0.0285\n",
      "Epoch 3/20\n",
      "343/343 [==============================] - 1s 2ms/step - loss: 0.0013 - val_loss: 0.0126\n",
      "Epoch 4/20\n",
      "343/343 [==============================] - 1s 3ms/step - loss: 5.6129e-04 - val_loss: 0.0047\n",
      "Epoch 5/20\n",
      "343/343 [==============================] - 1s 3ms/step - loss: 3.4334e-04 - val_loss: 0.0030\n",
      "Epoch 6/20\n",
      "343/343 [==============================] - 1s 2ms/step - loss: 3.1401e-04 - val_loss: 0.0027\n",
      "Epoch 7/20\n",
      "343/343 [==============================] - 1s 3ms/step - loss: 3.0240e-04 - val_loss: 0.0023\n",
      "Epoch 8/20\n",
      "343/343 [==============================] - 1s 2ms/step - loss: 2.8747e-04 - val_loss: 0.0017\n",
      "Epoch 9/20\n",
      "343/343 [==============================] - 1s 2ms/step - loss: 2.7286e-04 - val_loss: 0.0013\n",
      "Epoch 10/20\n",
      "343/343 [==============================] - 1s 2ms/step - loss: 2.6499e-04 - val_loss: 8.9878e-04\n",
      "Epoch 11/20\n",
      "343/343 [==============================] - 1s 3ms/step - loss: 2.6355e-04 - val_loss: 6.4500e-04\n",
      "Epoch 12/20\n",
      "343/343 [==============================] - 1s 2ms/step - loss: 2.6473e-04 - val_loss: 5.5528e-04\n",
      "Epoch 13/20\n",
      "343/343 [==============================] - 1s 2ms/step - loss: 2.6587e-04 - val_loss: 5.5539e-04\n",
      "Epoch 14/20\n",
      "338/343 [============================>.] - ETA: 0s - loss: 2.6789e-04\n",
      "Epoch 00014: ReduceLROnPlateau reducing learning rate to 0.0010000000474974513.\n",
      "343/343 [==============================] - 1s 2ms/step - loss: 2.6687e-04 - val_loss: 5.5973e-04\n",
      "Epoch 15/20\n",
      "343/343 [==============================] - 1s 2ms/step - loss: 2.5750e-04 - val_loss: 4.2638e-04\n",
      "Epoch 16/20\n",
      "343/343 [==============================] - 1s 2ms/step - loss: 2.5551e-04 - val_loss: 3.5190e-04\n",
      "Epoch 17/20\n",
      "343/343 [==============================] - 1s 2ms/step - loss: 2.5460e-04 - val_loss: 2.9970e-04\n",
      "Epoch 18/20\n",
      "343/343 [==============================] - 1s 2ms/step - loss: 2.5452e-04 - val_loss: 2.7089e-04\n",
      "Epoch 19/20\n",
      "343/343 [==============================] - 1s 2ms/step - loss: 2.5496e-04 - val_loss: 2.5637e-04\n",
      "Epoch 20/20\n",
      "343/343 [==============================] - ETA: 0s - loss: 2.5550e-04\n",
      "Epoch 00020: ReduceLROnPlateau reducing learning rate to 0.0005000000237487257.\n",
      "343/343 [==============================] - 1s 2ms/step - loss: 2.5550e-04 - val_loss: 2.4924e-04\n"
     ]
    }
   ],
   "source": [
    "print(f\"{X_train.shape=}\")\n",
    "print(f\"{y_train.shape=}\")\n",
    "print(f\"{X_valid.shape=}\")\n",
    "print(f\"{y_valid.shape=}\")\n",
    "\n",
    "eta = 0.002\n",
    "batch_size = 100\n",
    "model = keras.models.Sequential([\n",
    "    LSTM(20, return_sequences=True, input_shape=[None, nbf_features]),\n",
    "    # keras.layers.LSTM(20, return_sequences=True, input_shape=[None, nbf_features]),\n",
    "    # keras.layers.LSTM(20, return_sequences=True, input_shape=[None, 1]),\n",
    "    LSTM(20, return_sequences=False),\n",
    "    keras.layers.Dense(horizon)\n",
    "    # TimeDistributed(keras.layers.Dense(horizon))\n",
    "])\n",
    "\n",
    "learning_rate_reduction = ReduceLROnPlateau(monitor='val_loss', \n",
    "                                            patience=3, \n",
    "                                            verbose=1, \n",
    "                                            factor=0.5, \n",
    "                                            min_lr=0.000001)\n",
    "\n",
    "opt = tf.keras.optimizers.Adam(learning_rate=eta)\n",
    "model.compile(loss=\"mse\", optimizer=opt)\n",
    "\n",
    "callbacks = [learning_rate_reduction]\n",
    "\n",
    "print(X_train.shape)\n",
    "print(y_train.shape)\n",
    "\n",
    "history = model.fit(X_train, y_train, \n",
    "                    epochs=20, shuffle=False, \n",
    "                    batch_size=batch_size,\n",
    "                    validation_data=(X_valid, y_valid),\n",
    "                    callbacks= callbacks)   "
   ]
  },
  {
   "cell_type": "code",
   "execution_count": 8,
   "metadata": {},
   "outputs": [
    {
     "name": "stdout",
     "output_type": "stream",
     "text": [
      "206/206 [==============================] - 0s 2ms/step - loss: 2.4924e-04\n"
     ]
    },
    {
     "data": {
      "text/plain": [
       "0.000249244156293571"
      ]
     },
     "execution_count": 8,
     "metadata": {},
     "output_type": "execute_result"
    }
   ],
   "source": [
    "model.evaluate(np.swapaxes(X_valid, 1,2), y_valid)"
   ]
  },
  {
   "cell_type": "code",
   "execution_count": 9,
   "metadata": {},
   "outputs": [
    {
     "data": {
      "image/png": "[encoded data removed]",
      "text/plain": [
       "<Figure size 432x288 with 1 Axes>"
      ]
     },
     "metadata": {
      "needs_background": "light"
     },
     "output_type": "display_data"
    }
   ],
   "source": [
    "plot_learning_curves(history.history[\"loss\"], history.history[\"val_loss\"])\n",
    "plt.show()"
   ]
  },
  {
   "cell_type": "code",
   "execution_count": 10,
   "metadata": {},
   "outputs": [
    {
     "data": {
      "image/png": "[encoded data removed]",
      "text/plain": [
       "<Figure size 432x288 with 1 Axes>"
      ]
     },
     "metadata": {
      "needs_background": "light"
     },
     "output_type": "display_data"
    }
   ],
   "source": [
    "y_pred = model.predict(np.swapaxes(X_valid, 1,2))\n",
    "plot_series(X_valid[0, :, 0], y_valid[0, 0], y_pred[0, 0])\n",
    "plt.show()"
   ]
  },
  {
   "cell_type": "code",
   "execution_count": 11,
   "metadata": {},
   "outputs": [
    {
     "name": "stdout",
     "output_type": "stream",
     "text": [
      "y_test.shape=(3426, 1)\n",
      "X_test.shape=(3426, 1, 1)\n",
      "Y_new.shape=(1, 24, 1)\n"
     ]
    },
    {
     "data": {
      "text/html": [
       "<div>\n",
       "<style scoped>\n",
       "    .dataframe tbody tr th:only-of-type {\n",
       "        vertical-align: middle;\n",
       "    }\n",
       "\n",
       "    .dataframe tbody tr th {\n",
       "        vertical-align: top;\n",
       "    }\n",
       "\n",
       "    .dataframe thead th {\n",
       "        text-align: right;\n",
       "    }\n",
       "</style>\n",
       "<table border=\"1\" class=\"dataframe\">\n",
       "  <thead>\n",
       "    <tr style=\"text-align: right;\">\n",
       "      <th></th>\n",
       "      <th>NO5_price</th>\n",
       "      <th>date_time</th>\n",
       "    </tr>\n",
       "  </thead>\n",
       "  <tbody>\n",
       "    <tr>\n",
       "      <th>44279</th>\n",
       "      <td>0.291576</td>\n",
       "      <td>2021-01-21-11</td>\n",
       "    </tr>\n",
       "  </tbody>\n",
       "</table>\n",
       "</div>"
      ],
      "text/plain": [
       "       NO5_price      date_time\n",
       "44279   0.291576  2021-01-21-11"
      ]
     },
     "metadata": {},
     "output_type": "display_data"
    },
    {
     "name": "stdout",
     "output_type": "stream",
     "text": [
      "X_new.shape=(72, 1, 1)\n",
      "Y_new.shape=(1, 24, 1)\n",
      "X.shape: (1, 72, 1)\n",
      "X_to_predict.shape=(1, 72, 1)\n",
      "y_pred_one.shape=(1, 1, 1)\n",
      "y_pred_one.shape=(1, 1, 1)\n",
      "now (1, 72, 1) (1, 1, 1)\n",
      "X.shape=(1, 73, 1)\n",
      "X.shape: (1, 73, 1)\n",
      "X_to_predict.shape=(1, 72, 1)\n",
      "y_pred_one.shape=(1, 1, 1)\n",
      "y_pred_one.shape=(1, 1, 1)\n",
      "now (1, 73, 1) (1, 1, 1)\n",
      "X.shape=(1, 74, 1)\n",
      "X.shape: (1, 74, 1)\n",
      "X_to_predict.shape=(1, 72, 1)\n",
      "y_pred_one.shape=(1, 1, 1)\n",
      "y_pred_one.shape=(1, 1, 1)\n",
      "now (1, 74, 1) (1, 1, 1)\n",
      "X.shape=(1, 75, 1)\n",
      "X.shape: (1, 75, 1)\n",
      "X_to_predict.shape=(1, 72, 1)\n",
      "y_pred_one.shape=(1, 1, 1)\n",
      "y_pred_one.shape=(1, 1, 1)\n",
      "now (1, 75, 1) (1, 1, 1)\n",
      "X.shape=(1, 76, 1)\n",
      "X.shape: (1, 76, 1)\n",
      "X_to_predict.shape=(1, 72, 1)\n",
      "y_pred_one.shape=(1, 1, 1)\n",
      "y_pred_one.shape=(1, 1, 1)\n",
      "now (1, 76, 1) (1, 1, 1)\n",
      "X.shape=(1, 77, 1)\n",
      "X.shape: (1, 77, 1)\n",
      "X_to_predict.shape=(1, 72, 1)\n",
      "y_pred_one.shape=(1, 1, 1)\n",
      "y_pred_one.shape=(1, 1, 1)\n",
      "now (1, 77, 1) (1, 1, 1)\n",
      "X.shape=(1, 78, 1)\n",
      "X.shape: (1, 78, 1)\n",
      "X_to_predict.shape=(1, 72, 1)\n",
      "y_pred_one.shape=(1, 1, 1)\n",
      "y_pred_one.shape=(1, 1, 1)\n",
      "now (1, 78, 1) (1, 1, 1)\n",
      "X.shape=(1, 79, 1)\n",
      "X.shape: (1, 79, 1)\n",
      "X_to_predict.shape=(1, 72, 1)\n",
      "y_pred_one.shape=(1, 1, 1)\n",
      "y_pred_one.shape=(1, 1, 1)\n",
      "now (1, 79, 1) (1, 1, 1)\n",
      "X.shape=(1, 80, 1)\n",
      "X.shape: (1, 80, 1)\n",
      "X_to_predict.shape=(1, 72, 1)\n",
      "y_pred_one.shape=(1, 1, 1)\n",
      "y_pred_one.shape=(1, 1, 1)\n",
      "now (1, 80, 1) (1, 1, 1)\n",
      "X.shape=(1, 81, 1)\n",
      "X.shape: (1, 81, 1)\n",
      "X_to_predict.shape=(1, 72, 1)\n",
      "y_pred_one.shape=(1, 1, 1)\n",
      "y_pred_one.shape=(1, 1, 1)\n",
      "now (1, 81, 1) (1, 1, 1)\n",
      "X.shape=(1, 82, 1)\n",
      "X.shape: (1, 82, 1)\n",
      "X_to_predict.shape=(1, 72, 1)\n",
      "y_pred_one.shape=(1, 1, 1)\n",
      "y_pred_one.shape=(1, 1, 1)\n",
      "now (1, 82, 1) (1, 1, 1)\n",
      "X.shape=(1, 83, 1)\n",
      "X.shape: (1, 83, 1)\n",
      "X_to_predict.shape=(1, 72, 1)\n",
      "y_pred_one.shape=(1, 1, 1)\n",
      "y_pred_one.shape=(1, 1, 1)\n",
      "now (1, 83, 1) (1, 1, 1)\n",
      "X.shape=(1, 84, 1)\n",
      "X.shape: (1, 84, 1)\n",
      "X_to_predict.shape=(1, 72, 1)\n",
      "y_pred_one.shape=(1, 1, 1)\n",
      "y_pred_one.shape=(1, 1, 1)\n",
      "now (1, 84, 1) (1, 1, 1)\n",
      "X.shape=(1, 85, 1)\n",
      "X.shape: (1, 85, 1)\n",
      "X_to_predict.shape=(1, 72, 1)\n",
      "y_pred_one.shape=(1, 1, 1)\n",
      "y_pred_one.shape=(1, 1, 1)\n",
      "now (1, 85, 1) (1, 1, 1)\n",
      "X.shape=(1, 86, 1)\n",
      "X.shape: (1, 86, 1)\n",
      "X_to_predict.shape=(1, 72, 1)\n",
      "y_pred_one.shape=(1, 1, 1)\n",
      "y_pred_one.shape=(1, 1, 1)\n",
      "now (1, 86, 1) (1, 1, 1)\n",
      "X.shape=(1, 87, 1)\n",
      "X.shape: (1, 87, 1)\n",
      "X_to_predict.shape=(1, 72, 1)\n",
      "y_pred_one.shape=(1, 1, 1)\n",
      "y_pred_one.shape=(1, 1, 1)\n",
      "now (1, 87, 1) (1, 1, 1)\n",
      "X.shape=(1, 88, 1)\n",
      "X.shape: (1, 88, 1)\n",
      "X_to_predict.shape=(1, 72, 1)\n",
      "y_pred_one.shape=(1, 1, 1)\n",
      "y_pred_one.shape=(1, 1, 1)\n",
      "now (1, 88, 1) (1, 1, 1)\n",
      "X.shape=(1, 89, 1)\n",
      "X.shape: (1, 89, 1)\n",
      "X_to_predict.shape=(1, 72, 1)\n",
      "y_pred_one.shape=(1, 1, 1)\n",
      "y_pred_one.shape=(1, 1, 1)\n",
      "now (1, 89, 1) (1, 1, 1)\n",
      "X.shape=(1, 90, 1)\n",
      "X.shape: (1, 90, 1)\n",
      "X_to_predict.shape=(1, 72, 1)\n",
      "y_pred_one.shape=(1, 1, 1)\n",
      "y_pred_one.shape=(1, 1, 1)\n",
      "now (1, 90, 1) (1, 1, 1)\n",
      "X.shape=(1, 91, 1)\n",
      "X.shape: (1, 91, 1)\n",
      "X_to_predict.shape=(1, 72, 1)\n",
      "y_pred_one.shape=(1, 1, 1)\n",
      "y_pred_one.shape=(1, 1, 1)\n",
      "now (1, 91, 1) (1, 1, 1)\n",
      "X.shape=(1, 92, 1)\n",
      "X.shape: (1, 92, 1)\n",
      "X_to_predict.shape=(1, 72, 1)\n",
      "y_pred_one.shape=(1, 1, 1)\n",
      "y_pred_one.shape=(1, 1, 1)\n",
      "now (1, 92, 1) (1, 1, 1)\n",
      "X.shape=(1, 93, 1)\n",
      "X.shape: (1, 93, 1)\n",
      "X_to_predict.shape=(1, 72, 1)\n",
      "y_pred_one.shape=(1, 1, 1)\n",
      "y_pred_one.shape=(1, 1, 1)\n",
      "now (1, 93, 1) (1, 1, 1)\n",
      "X.shape=(1, 94, 1)\n",
      "X.shape: (1, 94, 1)\n",
      "X_to_predict.shape=(1, 72, 1)\n",
      "y_pred_one.shape=(1, 1, 1)\n",
      "y_pred_one.shape=(1, 1, 1)\n",
      "now (1, 94, 1) (1, 1, 1)\n",
      "X.shape=(1, 95, 1)\n",
      "X.shape: (1, 95, 1)\n",
      "X_to_predict.shape=(1, 72, 1)\n",
      "y_pred_one.shape=(1, 1, 1)\n",
      "y_pred_one.shape=(1, 1, 1)\n",
      "now (1, 95, 1) (1, 1, 1)\n",
      "X.shape=(1, 96, 1)\n",
      "X.shape=(1, 96, 1)\n"
     ]
    }
   ],
   "source": [
    "np.random.seed(43) # not 42, as it would give the first series in the train set\n",
    "print(f\"{y_test.shape=}\")\n",
    "print(f\"{X_test.shape=}\")\n",
    "\n",
    "X_new = X_test[-96:-24, :, :]\n",
    "\n",
    "\n",
    "Y_new = np.swapaxes(np.expand_dims(y_test[-24:, :], 2),0,1)\n",
    "print(f\"{Y_new.shape=}\")\n",
    "\n",
    "display(dataset_df[[\"NO5_price\", \"date_time\"]].tail(1))\n",
    "\n",
    "print(f\"{X_new.shape=}\")\n",
    "print(f\"{Y_new.shape=}\")\n",
    "\n",
    "# X = X_new\n",
    "X = np.swapaxes(X_new, 0,1).copy()\n",
    "\n",
    "\n",
    "nbf_forecasts = 24\n",
    "for step_ahead in range(nbf_forecasts):\n",
    "    # y_pred_one = model.predict(X[:, step_ahead:])[:, np.newaxis, :]\n",
    "    print(\"X.shape:\",X.shape)\n",
    "    X_to_predict = X[:, step_ahead:, :]\n",
    "    print(f\"{X_to_predict.shape=}\")\n",
    "    y_pred_one = model.predict(X_to_predict)[:, np.newaxis, :]\n",
    "\n",
    "    print(f\"{y_pred_one.shape=}\")\n",
    "    #y_pred_one = y_pred_one[:, np.newaxis, :]\n",
    "\n",
    "    # X = np.concatenate([X, y_pred_one], axis=1)\n",
    "    print(f\"{y_pred_one.shape=}\")\n",
    "\n",
    "    print(\"now\", X.shape, y_pred_one.shape)\n",
    "    X = np.concatenate([X, y_pred_one], axis=1)\n",
    "    print(f\"{X.shape=}\")\n",
    "\n",
    "print(f\"{X.shape=}\")\n",
    "\n",
    "\n",
    "Y_pred = X[:,72:,:]\n",
    "#Y_pred = X[:,:, n_steps:]"
   ]
  },
  {
   "cell_type": "code",
   "execution_count": 12,
   "metadata": {},
   "outputs": [
    {
     "name": "stdout",
     "output_type": "stream",
     "text": [
      "(1, 24, 1)\n",
      "(1, 24, 1)\n",
      "(1, 72, 1)\n"
     ]
    }
   ],
   "source": [
    "\n",
    "print(Y_pred.shape)\n",
    "print(Y_new.shape)\n",
    "\n",
    "X_new = np.swapaxes(X_new, 0,1)\n",
    "\n",
    "print(X_new.shape)"
   ]
  },
  {
   "cell_type": "code",
   "execution_count": 20,
   "metadata": {},
   "outputs": [
    {
     "name": "stdout",
     "output_type": "stream",
     "text": [
      "[[[2.09768128]\n",
      "  [2.42358136]\n",
      "  [2.6042707 ]\n",
      "  [2.69139528]\n",
      "  [2.73478246]\n",
      "  [2.7572763 ]\n",
      "  [2.7693634 ]\n",
      "  [2.7760241 ]\n",
      "  [2.77974987]\n",
      "  [2.78184056]\n",
      "  [2.78299975]\n",
      "  [2.78362203]\n",
      "  [2.78393269]\n",
      "  [2.78406405]\n",
      "  [2.78409314]\n",
      "  [2.78406525]\n",
      "  [2.78400946]\n",
      "  [2.78394103]\n",
      "  [2.78387022]\n",
      "  [2.78380203]\n",
      "  [2.78373909]\n",
      "  [2.78368235]\n",
      "  [2.78363276]\n",
      "  [2.7835896 ]]]\n",
      "Saving figure forecast_ahead_plot\n"
     ]
    },
    {
     "data": {
      "image/png": "[encoded data removed]",
      "text/plain": [
       "<Figure size 432x288 with 1 Axes>"
      ]
     },
     "metadata": {
      "needs_background": "light"
     },
     "output_type": "display_data"
    }
   ],
   "source": [
    "print(Y_pred)\n",
    "plot_multiple_forecasts(X_new, Y_new, Y_pred)\n",
    "save_fig(\"forecast_ahead_plot\")\n",
    "# plt.ylim(0.10,0.70)\n",
    "plt.show()"
   ]
  },
  {
   "cell_type": "code",
   "execution_count": null,
   "metadata": {},
   "outputs": [],
   "source": [
    "np.random.seed(43) # not 42, as it would give the first series in the train set\n",
    "\n",
    "\n",
    "X_prev = X_test[-2:-1, -24:, :]\n",
    "print(X_prev.shape)\n",
    "X_curr = X_test[-1:, :-24, :]\n",
    "print(X_curr.shape)\n",
    "X_new = np.concatenate([X_prev,X_curr], axis=1)\n",
    "print(X_new.shape)\n",
    "\n",
    "\n",
    "Y_target_future = y_test[-1:, -24:, :]\n",
    "print(\"Y_target_future.shape\",Y_target_future.shape)\n",
    "Y_new = Y_target_future\n",
    "\n",
    "\n",
    "# display(dataset_df[[\"NO5_price\", \"date_time\"]].tail(1))\n",
    "\n",
    "print(f\"{X_new.shape=}\")\n",
    "print(f\"{Y_new.shape=}\")\n",
    "\n",
    "# X = X_new\n",
    "X = X_new\n",
    "\n",
    "print(\"X.shape:\",X.shape)\n"
   ]
  },
  {
   "cell_type": "code",
   "execution_count": null,
   "metadata": {},
   "outputs": [],
   "source": [
    "nbf_forecasts=24\n",
    "\n",
    "for step_ahead in range(nbf_forecasts):\n",
    "    # y_pred_one = model.predict(X[:, step_ahead:])[:, np.newaxis, :]\n",
    "    X_for_pred = X[:, step_ahead:, :]\n",
    "    print(f\"\\n{X_for_pred.shape=}\")\n",
    "\n",
    "\n",
    "    y_pred_one = model.predict(X_for_pred)[:, np.newaxis, :]\n",
    "\n",
    "    print(f\"{y_pred_one.shape=}\")\n",
    "    # y_pred_one = y_pred_one[:, np.newaxis, :]\n",
    "\n",
    "    # X = np.concatenate([X, y_pred_one], axis=1)\n",
    "    print(f\"{y_pred_one.shape=}\")\n",
    "\n",
    "    X = np.concatenate([X, y_pred_one], axis=1)\n",
    "    print(f\"{X.shape=}\")\n",
    "\n"
   ]
  },
  {
   "cell_type": "code",
   "execution_count": null,
   "metadata": {
    "id": "G8a0durfOq63"
   },
   "outputs": [],
   "source": [
    "print(f\"{X.shape=}\")\n",
    "Y_pred = X[:, -24:, :]\n",
    "#Y_pred = X[:,:, n_steps:]\n",
    "\n",
    "\n",
    "print(Y_pred.shape)\n",
    "\n",
    "Y_pred = Y_pred\n",
    "# Y_pred = np.squeeze(Y_pred)\n",
    "\n",
    "print(X_new.shape, Y_new.shape, Y_pred.shape)\n"
   ]
  },
  {
   "cell_type": "code",
   "execution_count": null,
   "metadata": {
    "id": "TPkffJjsOq64"
   },
   "outputs": [],
   "source": [
    "def plot_multiple_forecasts(X, Y, Y_pred):\n",
    "    n_steps = X.shape[1]\n",
    "    ahead = Y.shape[1]\n",
    "    plot_series(X[0, :, 0])\n",
    "    plt.plot(np.arange(n_steps, n_steps + ahead), Y[0, :, 0], \"bo-\", label=\"Actual\")\n",
    "    plt.plot(np.arange(n_steps, n_steps + ahead), Y_pred[0, :, 0], \"rx-\", label=\"Forecast\", markersize=10)\n",
    "    plt.ylim(0,1)\n",
    "    plt.axis([0, n_steps + ahead, -1, 1])\n",
    "    plt.legend(fontsize=14)\n",
    "\n",
    "plot_multiple_forecasts(X_new, Y_new, Y_pred)\n",
    "save_fig(\"forecast_ahead_plot\")\n",
    "plt.ylim(0.10,0.70)\n",
    "plt.show()"
   ]
  },
  {
   "cell_type": "markdown",
   "metadata": {},
   "source": [
    "# Do not touch above"
   ]
  },
  {
   "cell_type": "code",
   "execution_count": null,
   "metadata": {},
   "outputs": [],
   "source": []
  },
  {
   "cell_type": "code",
   "execution_count": null,
   "metadata": {},
   "outputs": [],
   "source": []
  },
  {
   "cell_type": "code",
   "execution_count": null,
   "metadata": {},
   "outputs": [],
   "source": []
  },
  {
   "cell_type": "code",
   "execution_count": null,
   "metadata": {},
   "outputs": [],
   "source": []
  },
  {
   "cell_type": "code",
   "execution_count": null,
   "metadata": {},
   "outputs": [],
   "source": []
  },
  {
   "cell_type": "code",
   "execution_count": null,
   "metadata": {},
   "outputs": [],
   "source": []
  },
  {
   "cell_type": "code",
   "execution_count": null,
   "metadata": {},
   "outputs": [],
   "source": []
  },
  {
   "cell_type": "markdown",
   "metadata": {
    "id": "5h8hZrHQOq64"
   },
   "source": [
    "Now let's use this model to predict the next 24 values. We first need to regenerate the sequences with 23 more time steps."
   ]
  },
  {
   "cell_type": "code",
   "execution_count": null,
   "metadata": {},
   "outputs": [],
   "source": [
    "# Time series slicing parameters\n",
    "nbf_features = input_window = 1\n",
    "nbf_outputs = output_window = horizon = 24\n",
    "n_steps = time_steps = 72\n",
    "\n",
    "# Creating time series traing and evaluation (test) data besed on sliding window approach\n",
    "time_series, time_series_df = create_time_series_data(dataset_df,                                                                             \n",
    "                                                      nbf_features, \n",
    "                                                      nbf_outputs, \n",
    "                                                      column_key=\"NO5_price\", \n",
    "                                                      column_suffix=\"DA\",\n",
    "                                                      include_target_outputs=True)\n",
    "#time_series_df.to_csv(\"TIMESERIES_VALIDATION.csv\")\n",
    "\n",
    "# Displaying time series data\n",
    "time_series_df.index.name = \"t\"\n",
    "\n",
    "print(time_series.shape)\n",
    "print(time_series_df.shape)\n",
    "# print(time_series_df.columns)\n",
    "\n",
    "X_train, y_train = time_series[ :34272, :input_window], time_series[ :34272, input_window:]\n",
    "X_valid, y_valid = time_series[34272:34272+6581, :input_window], time_series[34272:34272+6581, input_window:]\n",
    "X_test, y_test = time_series[34272+6581:, :input_window], time_series[34272+6581:, input_window:]\n",
    "\n",
    "# X_train = np.expand_dims(X_train, axis=1)\n",
    "# X_valid = np.expand_dims(X_valid, axis=1)\n",
    "# X_test = np.expand_dims(X_test, axis=1)\n",
    "\n",
    "# print(X_train.shape, y_train.shape)\n",
    "# print(X_valid.shape, y_valid.shape)\n",
    "# print(X_test.shape, y_test.shape)\n",
    "\n",
    "print(\"before\")\n",
    "print(X_train.shape, y_train.shape)\n",
    "print(X_valid.shape, y_valid.shape)\n",
    "print(X_test.shape, y_test.shape)\n",
    "\n",
    "train_start_idx = X_train.shape[0]%time_steps\n",
    "X_train = X_train[train_start_idx: , :] # \n",
    "y_train = y_train[train_start_idx: , :] # \n",
    "\n",
    "batch_size_train = X_train.shape[0] // time_steps\n",
    "x_train_RNN = X_train.reshape((batch_size_train, time_steps, nbf_features))\n",
    "y_train_RNN = y_train.copy()\n",
    "y_train_RNN = y_train_RNN.reshape((batch_size_train, time_steps, nbf_outputs))\n",
    "\n",
    "\n",
    "# Validation \n",
    "valid_start_idx = X_valid.shape[0]%time_steps\n",
    "X_valid = X_valid[valid_start_idx: , :] # \n",
    "y_valid = y_valid[valid_start_idx: , :] # \n",
    "\n",
    "batch_size_valid = X_valid.shape[0] // time_steps\n",
    "x_valid_RNN = X_valid.reshape((batch_size_valid, time_steps, nbf_features))\n",
    "y_valid_RNN = y_valid.copy()\n",
    "y_valid_RNN = y_valid_RNN.reshape((batch_size_valid, time_steps, nbf_outputs))\n",
    "\n",
    "# Test \n",
    "test_start_idx = X_test.shape[0]%time_steps\n",
    "X_test = X_test[test_start_idx: , :] # \n",
    "y_test = y_test[test_start_idx: , :] # \n",
    "\n",
    "batch_size_test = X_test.shape[0] // time_steps\n",
    "x_test_RNN = X_test.reshape((batch_size_test, time_steps, nbf_features))\n",
    "y_test_RNN = y_test.copy()\n",
    "y_test_RNN = y_test_RNN.reshape((batch_size_test, time_steps, nbf_outputs))\n",
    "\n",
    "X_train = x_train_RNN#.swapaxes(1,2)\n",
    "y_train = y_train_RNN#.squeeze()   \n",
    "\n",
    "X_valid = x_valid_RNN#.swapaxes(1,2)   \n",
    "y_valid = y_valid_RNN#.squeeze()   \n",
    "\n",
    "X_test = x_test_RNN#.swapaxes(1,2)   \n",
    "y_test = y_test_RNN#.squeeze()\n",
    "\n",
    "print(\"After\")\n",
    "print(X_train.shape, y_train.shape)\n",
    "print(X_valid.shape, y_valid.shape)\n",
    "print(X_test.shape, y_test.shape)"
   ]
  },
  {
   "cell_type": "code",
   "execution_count": null,
   "metadata": {},
   "outputs": [],
   "source": [
    "eta = 0.002\n",
    "batch_size = 100\n",
    "model = keras.models.Sequential([\n",
    "    LSTM(20, return_sequences=True, input_shape=[None, 1]),\n",
    "    # keras.layers.LSTM(20, return_sequences=True, input_shape=[None, nbf_features]),\n",
    "    # keras.layers.LSTM(20, return_sequences=True, input_shape=[None, 1]),\n",
    "    LSTM(20, return_sequences=True),\n",
    "    TimeDistributed(keras.layers.Dense(1))\n",
    "])\n",
    "\n",
    "learning_rate_reduction = ReduceLROnPlateau(monitor='val_loss', \n",
    "                                            patience=3, \n",
    "                                            verbose=1, \n",
    "                                            factor=0.5, \n",
    "                                            min_lr=0.000001)\n",
    "\n",
    "opt = tf.keras.optimizers.Adam(learning_rate=eta)\n",
    "model.compile(loss=\"mse\", optimizer=opt)\n",
    "\n",
    "callbacks = [learning_rate_reduction]\n",
    "\n",
    "print(X_train.shape)\n",
    "print(y_train.shape)\n",
    "\n",
    "history = model.fit(X_train, y_train, \n",
    "                    epochs=20, shuffle=False, \n",
    "                    batch_size=batch_size,\n",
    "                    validation_data=(X_valid, y_valid),\n",
    "                    callbacks= callbacks)   "
   ]
  },
  {
   "cell_type": "markdown",
   "metadata": {
    "id": "bmJHirS7Oq64"
   },
   "source": [
    "Now let's predict the next 24 values one by one:"
   ]
  },
  {
   "cell_type": "code",
   "execution_count": null,
   "metadata": {},
   "outputs": [],
   "source": [
    "\n",
    "# X = np.swapaxes(X_valid, 1, 2)\n",
    "X = X_valid\n",
    "print(X.shape)\n",
    "\n",
    "for step_ahead in range(24):\n",
    "    y_pred_one = model.predict(X[:,:,step_ahead:])\n",
    "\n",
    "    #print(f\"{y_pred_one.shape=}\")\n",
    "    #y_pred_one = y_pred_one[:, np.newaxis, :]\n",
    "    \n",
    "    print(f\"{y_pred_one.shape=}\")\n",
    "    #y_pred_one = y_pred_one[:, np.newaxis, :]\n",
    "    #print(f\"{y_pred_one.shape=}\")\n",
    "    \n",
    "    print(f\"{X.shape=}\")\n",
    "\n",
    "    X = np.concatenate([X, y_pred_one], axis=2)\n",
    "    print(f\"{X.shape=}\")\n",
    "\n",
    "print(f\"{X.shape=}\")\n",
    "#X = X.swapaxes(1,2)\n",
    "Y_pred = X[:, n_steps:, 0]\n",
    "print(f\"{Y_pred.shape=}\")"
   ]
  },
  {
   "cell_type": "code",
   "execution_count": null,
   "metadata": {},
   "outputs": [],
   "source": [
    "Y_pred.shape"
   ]
  },
  {
   "cell_type": "code",
   "execution_count": null,
   "metadata": {},
   "outputs": [],
   "source": [
    "\n",
    "mse = keras.metrics.mean_squared_error(y_valid, np.expand_dims(Y_pred, 1))\n",
    "print(mse.shape)\n",
    "print(np.mean(mse))"
   ]
  },
  {
   "cell_type": "markdown",
   "metadata": {},
   "source": [
    "Let's compare this performance with some baselines: naive predictions and a simple linear model:"
   ]
  },
  {
   "cell_type": "code",
   "execution_count": null,
   "metadata": {},
   "outputs": [],
   "source": [
    "# print(X_valid[:, -1].shape)\n",
    "# Y_naive_pred = np.tile(X_valid[:, -1], 24) # take the last time step value, and repeat it 10 times\n",
    "# print(Y_naive_pred.shape)\n",
    "# print(y_valid.shape)\n",
    "# np.mean(keras.metrics.mean_squared_error(y_valid, Y_naive_pred))"
   ]
  },
  {
   "cell_type": "code",
   "execution_count": null,
   "metadata": {
    "id": "O3y6rtjKOq64"
   },
   "outputs": [],
   "source": [
    "# X = X_valid#[-1:, :]\n",
    "# X = np.swapaxes(X, 1,2)\n",
    "# print(X.shape)\n",
    "\n",
    "# for step_ahead in range(horizon):\n",
    "#     y_pred_one = model.predict(X)\n",
    "#     print(f\"{y_pred_one.shape=}\")\n",
    "    \n",
    "#     # y_pred_one = y_pred_one[:, np.newaxis, :]\n",
    "#     # print(f\"{y_pred_one.shape=}\")\n",
    "    \n",
    "#     X = np.concatenate([X, y_pred_one], axis=1)\n",
    "\n",
    "# Y_pred = X[:, n_steps:, 0]"
   ]
  },
  {
   "cell_type": "code",
   "execution_count": null,
   "metadata": {},
   "outputs": [],
   "source": [
    "# X_new = X_test[-1:, :]\n",
    "# print(X_new.shape)\n",
    "# Y_new = np.expand_dims(y_test[-1:, :], 2)\n",
    "# Y_pred = model.predict(X_new.swapaxes(1,2))#[..., np.newaxis]\n",
    "\n",
    "# print(Y_pred.shape)"
   ]
  },
  {
   "cell_type": "code",
   "execution_count": null,
   "metadata": {},
   "outputs": [],
   "source": [
    "# plot_multiple_forecasts(X_new, Y_new, Y_pred)\n",
    "# plt.ylim(0.10,0.70)\n",
    "# plt.show()"
   ]
  },
  {
   "cell_type": "markdown",
   "metadata": {},
   "source": [
    "Now let's create an RNN that predicts all 10 next values at once:"
   ]
  },
  {
   "cell_type": "code",
   "execution_count": null,
   "metadata": {},
   "outputs": [],
   "source": []
  },
  {
   "cell_type": "code",
   "execution_count": null,
   "metadata": {},
   "outputs": [],
   "source": []
  },
  {
   "cell_type": "code",
   "execution_count": null,
   "metadata": {},
   "outputs": [],
   "source": []
  },
  {
   "cell_type": "markdown",
   "metadata": {
    "id": "ESgrz_CIOq65"
   },
   "source": [
    "Now let's create an RNN that predicts the next 10 steps at each time step. That is, instead of just forecasting time steps 72 to 72+9 based on time steps 0 to 71, it will forecast time steps 1 to 24 at time step 0, then time steps 2 to 11 at time step 1, and so on, and finally it will forecast time steps 72 to 72+9 at the last time step. Notice that the model is causal: when it makes predictions at any time step, it can only see past time steps."
   ]
  },
  {
   "cell_type": "code",
   "execution_count": null,
   "metadata": {},
   "outputs": [],
   "source": [
    "Y = np.empty((time_series.shape[0], n_steps, horizon))\n",
    "for step_ahead in range(1, horizon + 1):\n",
    "    Y[..., step_ahead - 1] = time_series[..., step_ahead:step_ahead + n_steps, 0]\n"
   ]
  },
  {
   "cell_type": "code",
   "execution_count": null,
   "metadata": {},
   "outputs": [],
   "source": [
    "X_train.shape, y_train.shape"
   ]
  },
  {
   "cell_type": "code",
   "execution_count": null,
   "metadata": {},
   "outputs": [],
   "source": [
    "np.random.seed(42)\n",
    "\n",
    "#n_steps = 48\n",
    "dataset_len = X_train.shape[0] + X_train.shape[1] + X_train.shape[2]\n",
    "\n",
    "Y = np.empty((dataset_len, n_steps, horizon))\n",
    "for step_ahead in range(1, horizon + 1):\n",
    "    Y[..., step_ahead - 1] = time_series[..., step_ahead:step_ahead + n_steps, 0]\n",
    "\n",
    "print(f\"{Y.shape=}\")\n",
    "Y_train = Y[:y_train.shape[0]]\n",
    "Y_valid = Y[y_train.shape[0]:y_train.shape[0]+y_valid.shape[0]]\n",
    "Y_test = Y[y_train.shape[0]+y_valid.shape[0]:]"
   ]
  },
  {
   "cell_type": "code",
   "execution_count": null,
   "metadata": {},
   "outputs": [],
   "source": [
    "print(X_train.shape, Y_train.shape)\n",
    "print(X_valid.shape, Y_valid.shape)\n",
    "print(X_test.shape, Y_test.shape)"
   ]
  },
  {
   "cell_type": "code",
   "execution_count": null,
   "metadata": {},
   "outputs": [],
   "source": []
  },
  {
   "cell_type": "code",
   "execution_count": null,
   "metadata": {},
   "outputs": [],
   "source": [
    "np.random.seed(42)\n",
    "tf.random.set_seed(42)\n",
    "\n",
    "eta = 0.002\n",
    "batch_size = 100\n",
    "\n",
    "model = keras.models.Sequential([\n",
    "    # keras.layers.LSTM(20, return_sequences=True, input_shape=[None, 1]),\n",
    "    keras.layers.LSTM(20, return_sequences=True, input_shape=[None, 1]),\n",
    "    # keras.layers.LSTM(20, return_sequences=True, input_shape=[None, 1]),\n",
    "    keras.layers.LSTM(20, return_sequences=True),\n",
    "    keras.layers.TimeDistributed(keras.layers.Dense(horizon))\n",
    "])\n",
    "\n",
    "learning_rate_reduction = ReduceLROnPlateau(monitor='val_loss', \n",
    "                                            patience=3, \n",
    "                                            verbose=1, \n",
    "                                            factor=0.5, \n",
    "                                            min_lr=0.000001)\n",
    "\n",
    "opt = tf.keras.optimizers.Adam(learning_rate=eta)\n",
    "model.compile(loss=\"mse\", optimizer=opt)\n",
    "\n",
    "callbacks = [learning_rate_reduction]\n",
    "\n",
    "print(X_train.shape)\n",
    "print(y_train.squeeze().shape)\n",
    "\n",
    "history = model.fit(X_train, y_train, \n",
    "                    epochs=20, shuffle=False, \n",
    "                    batch_size=batch_size,\n",
    "                    validation_data=(X_valid, y_valid),\n",
    "                    callbacks= callbacks)"
   ]
  },
  {
   "cell_type": "code",
   "execution_count": null,
   "metadata": {},
   "outputs": [],
   "source": [
    "model.evaluate(X_valid, y_valid)\n",
    "\n",
    "plot_learning_curves(history.history[\"loss\"], history.history[\"val_loss\"])\n",
    "plt.show()"
   ]
  },
  {
   "cell_type": "code",
   "execution_count": null,
   "metadata": {},
   "outputs": [],
   "source": [
    "np.random.seed(43)\n",
    "\n",
    "# series = generate_time_series(1, 50 + 10)\n",
    "# X_new, Y_new = series[:, :50, :], series[:, 50:, :]\n",
    "\n",
    "#print(f\"{X_test.shape=}\")\n",
    "\n",
    "print(\"X_test.shape:\",X_test.shape)\n",
    "print(\"y_test.shape:\",y_test.shape)\n",
    "\n",
    "\n",
    "X_new = X_test[-1:, :, :]\n",
    "# Y_new = np.expand_dims(y_test[-1:, :], 2)\n",
    "Y_new = y_test[-1:, :, :]\n",
    "# Y_new = y_test[-1:, -1:, :].swapaxes(1,2)\n",
    "\n",
    "# Y_new = Y_new[..., np.newaxis].squeeze(0)\n",
    "Y_new = Y_new[:, -1]\n",
    "Y_new = Y_new[..., np.newaxis]\n",
    "\n",
    "\n",
    "print(\"X_new.shape:\",X_new.shape)\n",
    "print(\"Y_new.shape:\",Y_new.shape)\n",
    "\n",
    "Y_pred = model.predict(X_new)\n",
    "print(\"Y_pred.shape:\",Y_pred.shape)\n",
    "\n",
    "Y_pred = Y_pred[:, -1]\n",
    "print(\"Y_pred[:, -1]:\",Y_pred.shape)\n",
    "\n",
    "Y_pred = Y_pred[..., np.newaxis]\n",
    "print(\"Y_pred[..., np.newaxis]:\",Y_pred.shape)\n",
    "\n",
    "\n",
    "\n",
    "# Y_pred = model.predict(X_new)\n",
    "# print(f\"Before: {Y_pred.shape=}\")\n",
    "\n",
    "# Y_pred = Y_pred[:, -1][..., np.newaxis]\n",
    "\n",
    "# print(f\"{X_new.shape=}\")\n",
    "# print(f\"{Y_new.shape=}\")\n",
    "# print(f\"After: {Y_pred.shape=}\")"
   ]
  },
  {
   "cell_type": "code",
   "execution_count": null,
   "metadata": {},
   "outputs": [],
   "source": [
    "print(X_new.shape)\n",
    "print(Y_new.shape)\n",
    "print(Y_pred.shape)\n",
    "\n",
    "plot_multiple_forecasts(X_new, Y_new, Y_pred)\n",
    "plt.ylim(0.10,0.70)\n",
    "plt.show()"
   ]
  }
 ],
 "metadata": {
  "interpreter": {
   "hash": "664767e83c7b06364e16bf4bb7694b1f8b5947c6e3e0843db3deeed47f8be06a"
  },
  "kernelspec": {
   "display_name": "Python 3.8.11 64-bit ('fysstk1': conda)",
   "language": "python",
   "name": "python3"
  },
  "language_info": {
   "codemirror_mode": {
    "name": "ipython",
    "version": 3
   },
   "file_extension": ".py",
   "mimetype": "text/x-python",
   "name": "python",
   "nbconvert_exporter": "python",
   "pygments_lexer": "ipython3",
   "version": "3.8.11"
  },
  "orig_nbformat": 4
 },
 "nbformat": 4,
 "nbformat_minor": 2
}
