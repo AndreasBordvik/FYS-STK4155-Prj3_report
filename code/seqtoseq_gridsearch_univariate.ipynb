{
 "cells": [
  {
   "cell_type": "code",
   "execution_count": 1,
   "metadata": {},
   "outputs": [
    {
     "name": "stderr",
     "output_type": "stream",
     "text": [
      "2021-12-17 15:44:00.541917: W tensorflow/stream_executor/platform/default/dso_loader.cc:64] Could not load dynamic library 'libcudart.so.11.0'; dlerror: libcudart.so.11.0: cannot open shared object file: No such file or directory\n",
      "2021-12-17 15:44:00.541993: I tensorflow/stream_executor/cuda/cudart_stub.cc:29] Ignore above cudart dlerror if you do not have a GPU set up on your machine.\n"
     ]
    }
   ],
   "source": [
    "from sklearn.metrics import mean_absolute_error as MSE\n",
    "from cmcrameri import cm\n",
    "from tqdm import tqdm\n",
    "from common import *\n",
    "from models import *"
   ]
  },
  {
   "cell_type": "markdown",
   "metadata": {},
   "source": [
    "# Reading in the data"
   ]
  },
  {
   "cell_type": "code",
   "execution_count": 2,
   "metadata": {},
   "outputs": [],
   "source": [
    "df = pd.read_csv(\"../data/input_data/MAIN_DATASET.csv\")\n",
    "price = df['NO2_price'].values.reshape(-1,1)"
   ]
  },
  {
   "cell_type": "code",
   "execution_count": 3,
   "metadata": {},
   "outputs": [],
   "source": [
    "scaler = MinMaxScaler()\n",
    "price = scaler.fit_transform(price)"
   ]
  },
  {
   "cell_type": "code",
   "execution_count": 4,
   "metadata": {},
   "outputs": [
    {
     "name": "stdout",
     "output_type": "stream",
     "text": [
      "2145 192 1\n"
     ]
    }
   ],
   "source": [
    "lookbehind = 7\n",
    "input_width = lookbehind*24\n",
    "horizon = 24\n",
    "no_hours = input_width + horizon\n",
    "\n",
    "price_dataset = []\n",
    "\n",
    "for i in range(0, len(price) - input_width, horizon):\n",
    "    price_dataset.append(price[i:i+no_hours])\n",
    "\n",
    "price_dataset = np.array(price_dataset)\n",
    "\n",
    "dataset = price_dataset\n",
    "n,m,k = dataset.shape\n",
    "print(n,m,k)"
   ]
  },
  {
   "cell_type": "code",
   "execution_count": 5,
   "metadata": {},
   "outputs": [],
   "source": [
    "train = int(0.7*n)\n",
    "valid = int(0.9*n)\n",
    "X_train = dataset[:train, :input_width]\n",
    "X_valid = dataset[train:valid, :input_width]\n",
    "X_test = dataset[valid:, :input_width]\n",
    "\n",
    "Y = np.empty((n, input_width, horizon))\n",
    "for step_ahead in range(1, horizon + 1):\n",
    "    Y[:,:, step_ahead - 1] = dataset[:,step_ahead:step_ahead + input_width, 0]\n",
    "\n",
    "Y_train = Y[:train]\n",
    "Y_valid = Y[train:valid]\n",
    "Y_test = Y[valid:]"
   ]
  },
  {
   "cell_type": "markdown",
   "metadata": {},
   "source": [
    "The idea behind this grid search is to first study which cells performs the best for our current dataset, with a univariate model"
   ]
  },
  {
   "cell_type": "markdown",
   "metadata": {},
   "source": [
    "# Common parameters for Grid Search"
   ]
  },
  {
   "cell_type": "code",
   "execution_count": 6,
   "metadata": {},
   "outputs": [],
   "source": [
    "epochs = 10\n",
    "no_neurons = np.array([16,32,64,128])\n",
    "mse_list_small = np.zeros((3, len(no_neurons)))\n",
    "best_mse_small = np.inf*np.ones(3)"
   ]
  },
  {
   "cell_type": "code",
   "execution_count": 7,
   "metadata": {},
   "outputs": [
    {
     "name": "stdout",
     "output_type": "stream",
     "text": [
      "Iteration 0\n"
     ]
    },
    {
     "name": "stderr",
     "output_type": "stream",
     "text": [
      "2021-12-17 15:44:03.496972: I tensorflow/stream_executor/cuda/cuda_gpu_executor.cc:925] could not open file to read NUMA node: /sys/bus/pci/devices/0000:01:00.0/numa_node\n",
      "Your kernel may have been built without NUMA support.\n",
      "2021-12-17 15:44:03.497381: W tensorflow/stream_executor/platform/default/dso_loader.cc:64] Could not load dynamic library 'libcudart.so.11.0'; dlerror: libcudart.so.11.0: cannot open shared object file: No such file or directory\n",
      "2021-12-17 15:44:03.497470: W tensorflow/stream_executor/platform/default/dso_loader.cc:64] Could not load dynamic library 'libcublas.so.11'; dlerror: libcublas.so.11: cannot open shared object file: No such file or directory\n",
      "2021-12-17 15:44:03.497516: W tensorflow/stream_executor/platform/default/dso_loader.cc:64] Could not load dynamic library 'libcublasLt.so.11'; dlerror: libcublasLt.so.11: cannot open shared object file: No such file or directory\n",
      "2021-12-17 15:44:03.497597: W tensorflow/stream_executor/platform/default/dso_loader.cc:64] Could not load dynamic library 'libcufft.so.10'; dlerror: libcufft.so.10: cannot open shared object file: No such file or directory\n",
      "2021-12-17 15:44:03.497647: W tensorflow/stream_executor/platform/default/dso_loader.cc:64] Could not load dynamic library 'libcurand.so.10'; dlerror: libcurand.so.10: cannot open shared object file: No such file or directory\n",
      "2021-12-17 15:44:03.497690: W tensorflow/stream_executor/platform/default/dso_loader.cc:64] Could not load dynamic library 'libcusolver.so.11'; dlerror: libcusolver.so.11: cannot open shared object file: No such file or directory\n",
      "2021-12-17 15:44:03.497731: W tensorflow/stream_executor/platform/default/dso_loader.cc:64] Could not load dynamic library 'libcusparse.so.11'; dlerror: libcusparse.so.11: cannot open shared object file: No such file or directory\n",
      "2021-12-17 15:44:03.497809: W tensorflow/stream_executor/platform/default/dso_loader.cc:64] Could not load dynamic library 'libcudnn.so.8'; dlerror: libcudnn.so.8: cannot open shared object file: No such file or directory\n",
      "2021-12-17 15:44:03.497818: W tensorflow/core/common_runtime/gpu/gpu_device.cc:1850] Cannot dlopen some GPU libraries. Please make sure the missing libraries mentioned above are installed properly if you would like to use GPU. Follow the guide at https://www.tensorflow.org/install/gpu for how to download and setup the required libraries for your platform.\n",
      "Skipping registering GPU devices...\n",
      "2021-12-17 15:44:03.498306: I tensorflow/core/platform/cpu_feature_guard.cc:151] This TensorFlow binary is optimized with oneAPI Deep Neural Network Library (oneDNN) to use the following CPU instructions in performance-critical operations:  AVX2 FMA\n",
      "To enable them in other operations, rebuild TensorFlow with the appropriate compiler flags.\n"
     ]
    },
    {
     "name": "stdout",
     "output_type": "stream",
     "text": [
      "Found new best SimpleRNN mse 0.04248968234560002 with 16 neurons\n",
      "Found new best LSTM mse 0.031484144450458294 with 16 neurons\n",
      "Found new best GRU mse 0.02898325399344877 with 16 neurons\n",
      "Iteration 1\n",
      "Found new best SimpleRNN mse 0.03771272045393253 with 32 neurons\n",
      "Found new best LSTM mse 0.030661262145870286 with 32 neurons\n",
      "Iteration 2\n",
      "Found new best SimpleRNN mse 0.030936439593489795 with 64 neurons\n",
      "Found new best LSTM mse 0.02872706295119525 with 64 neurons\n",
      "Found new best GRU mse 0.028418306872478885 with 64 neurons\n",
      "Iteration 3\n",
      "Found new best SimpleRNN mse 0.02803054347113047 with 128 neurons\n"
     ]
    }
   ],
   "source": [
    "for n, neurons in enumerate(no_neurons):\n",
    "    print(f\"Iteration {n}\")\n",
    "    rnn = keras.models.Sequential([\n",
    "        keras.layers.SimpleRNN(neurons, return_sequences=True, input_shape=[None, 1]),\n",
    "        keras.layers.Dense(horizon)\n",
    "    ])\n",
    "\n",
    "    lstm = keras.models.Sequential([\n",
    "        keras.layers.LSTM(neurons, return_sequences=True, input_shape=[None, 1]),\n",
    "        keras.layers.Dense(horizon)\n",
    "    ])\n",
    "\n",
    "    gru = keras.models.Sequential([\n",
    "        keras.layers.GRU(neurons, return_sequences=True, input_shape=[None, 1]),\n",
    "        keras.layers.Dense(horizon)\n",
    "    ])\n",
    "\n",
    "    rnn.compile(loss=\"mse\", optimizer=\"adam\", metrics=[last_time_step_mse])\n",
    "    lstm.compile(loss=\"mse\", optimizer=\"adam\", metrics=[last_time_step_mse])\n",
    "    gru.compile(loss=\"mse\", optimizer=\"adam\", metrics=[last_time_step_mse])\n",
    "\n",
    "    rnn.fit(X_train, Y_train, epochs=epochs, validation_data=(X_valid, Y_valid), verbose=False)\n",
    "    lstm.fit(X_train, Y_train, epochs=epochs, validation_data=(X_valid, Y_valid), verbose=False)\n",
    "    gru.fit(X_train, Y_train, epochs=epochs, validation_data=(X_valid, Y_valid), verbose=False)\n",
    "\n",
    "    Y_pred_rnn = rnn.predict(X_test)\n",
    "    Y_pred_lstm = lstm.predict(X_test)\n",
    "    Y_pred_gru = gru.predict(X_test)\n",
    "\n",
    "    mse_rnn = MSE(Y_test[:,-1], Y_pred_rnn[:,-1])\n",
    "    mse_lstm = MSE(Y_test[:,-1], Y_pred_lstm[:,-1])\n",
    "    mse_gru = MSE(Y_test[:,-1], Y_pred_gru[:,-1])\n",
    "\n",
    "    if mse_rnn < best_mse_small[0]:\n",
    "        print(f\"Found new best SimpleRNN mse {mse_rnn} with {neurons} neurons\")\n",
    "        best_mse_small[0] = mse_rnn\n",
    "        fname = f\"../data/models/small_rnn.h5\"\n",
    "        keras.models.save_model(rnn, fname)\n",
    "\n",
    "    if mse_lstm < best_mse_small[1]:\n",
    "        print(f\"Found new best LSTM mse {mse_lstm} with {neurons} neurons\")\n",
    "        best_mse_small[1] = mse_lstm\n",
    "        fname = f\"../data/models/small_lstm.h5\"\n",
    "        keras.models.save_model(lstm, fname)\n",
    "\n",
    "    if mse_gru < best_mse_small[2]:\n",
    "        print(f\"Found new best GRU mse {mse_gru} with {neurons} neurons\")\n",
    "        best_mse_small[2] = mse_gru\n",
    "        fname = f\"../data/models/small_gru.h5\"\n",
    "        keras.models.save_model(gru, fname)\n",
    "\n",
    "    mse_list_small[0,n] = mse_rnn\n",
    "    mse_list_small[1,n] = mse_lstm\n",
    "    mse_list_small[2,n] = mse_gru\n",
    "\n"
   ]
  },
  {
   "cell_type": "code",
   "execution_count": 8,
   "metadata": {},
   "outputs": [
    {
     "data": {
      "image/png": "[encoded data removed]",
      "text/plain": [
       "<Figure size 432x288 with 1 Axes>"
      ]
     },
     "metadata": {
      "needs_background": "light"
     },
     "output_type": "display_data"
    }
   ],
   "source": [
    "plt.figure()\n",
    "plt.plot(mse_list_small[0], '.--', markersize=20, label=\"SimpleRNN\")\n",
    "plt.plot(mse_list_small[1], '.--', markersize=20, label=\"LSTM\")\n",
    "plt.plot(mse_list_small[2], '.--', markersize=20, label=\"GRU\")\n",
    "plt.xticks(ticks = np.arange(4), labels=no_neurons)\n",
    "plt.xlabel(f\"Number of neurons\")\n",
    "plt.ylabel(f\"Mean Squared Error\")\n",
    "plt.grid()\n",
    "plt.legend()\n",
    "plt.savefig(f\"../figures/small_architecture_grid_search.pdf\")"
   ]
  },
  {
   "cell_type": "markdown",
   "metadata": {},
   "source": [
    "# Perform the same gridsearch, but for large architecture"
   ]
  },
  {
   "cell_type": "code",
   "execution_count": 9,
   "metadata": {},
   "outputs": [],
   "source": [
    "no_neurons = np.array([16,32,64,128])\n",
    "mse_list = np.zeros((3, len(no_neurons), len(no_neurons)))\n",
    "best_mse = np.inf*np.ones(3)"
   ]
  },
  {
   "cell_type": "code",
   "execution_count": 10,
   "metadata": {},
   "outputs": [
    {
     "name": "stdout",
     "output_type": "stream",
     "text": [
      "Iteration 00\n",
      "Found new best SimpleRNN mse 0.04080267572060975 with 16 and 16 neurons\n",
      "Found new best LSTM mse 0.03257583433613521 with 16 and 16 neurons\n",
      "Found new best GRU mse 0.028640661011801627 with 16 and 16 neurons\n",
      "Iteration 01\n",
      "Found new best LSTM mse 0.029782209323992174 with 16 and 32 neurons\n",
      "Iteration 02\n",
      "Iteration 03\n",
      "Found new best SimpleRNN mse 0.029057223749047012 with 16 and 128 neurons\n",
      "Found new best LSTM mse 0.029316018758260856 with 16 and 128 neurons\n",
      "Found new best GRU mse 0.028461607039777608 with 16 and 128 neurons\n",
      "Iteration 10\n",
      "Iteration 11\n",
      "Iteration 12\n",
      "Iteration 13\n",
      "Iteration 20\n",
      "Iteration 21\n",
      "Found new best GRU mse 0.027992010554322808 with 64 and 32 neurons\n",
      "Iteration 22\n",
      "Iteration 23\n",
      "Found new best LSTM mse 0.0290088658719015 with 64 and 128 neurons\n",
      "Iteration 30\n",
      "Iteration 31\n",
      "Iteration 32\n",
      "Iteration 33\n"
     ]
    }
   ],
   "source": [
    "for n, neurons_first in enumerate(no_neurons):\n",
    "    for m, neurons_second in enumerate(no_neurons):\n",
    "        print(f\"Iteration {n}{m}\")\n",
    "        rnn = keras.models.Sequential([\n",
    "            keras.layers.SimpleRNN(neurons_first, return_sequences=True, input_shape=[None, 1]),\n",
    "            keras.layers.SimpleRNN(neurons_second, return_sequences=True),\n",
    "            keras.layers.Dense(horizon)\n",
    "        ])\n",
    "\n",
    "        lstm = keras.models.Sequential([\n",
    "            keras.layers.LSTM(neurons_first, return_sequences=True, input_shape=[None, 1]),\n",
    "            keras.layers.LSTM(neurons_second, return_sequences=True),\n",
    "            keras.layers.Dense(horizon)\n",
    "        ])\n",
    "\n",
    "        gru = keras.models.Sequential([\n",
    "            keras.layers.GRU(neurons_first, return_sequences=True, input_shape=[None, 1]),\n",
    "            keras.layers.GRU(neurons_second, return_sequences=True),\n",
    "            keras.layers.Dense(horizon)\n",
    "        ])\n",
    "\n",
    "        rnn.compile(loss=\"mse\", optimizer=\"adam\", metrics=[last_time_step_mse])\n",
    "        lstm.compile(loss=\"mse\", optimizer=\"adam\", metrics=[last_time_step_mse])\n",
    "        gru.compile(loss=\"mse\", optimizer=\"adam\", metrics=[last_time_step_mse])\n",
    "\n",
    "        rnn.fit(X_train, Y_train, epochs=epochs, validation_data=(X_valid, Y_valid), verbose=False)\n",
    "        lstm.fit(X_train, Y_train, epochs=epochs, validation_data=(X_valid, Y_valid), verbose=False)\n",
    "        gru.fit(X_train, Y_train, epochs=epochs, validation_data=(X_valid, Y_valid), verbose=False)\n",
    "\n",
    "        Y_pred_rnn = rnn.predict(X_test)\n",
    "        Y_pred_lstm = lstm.predict(X_test)\n",
    "        Y_pred_gru = gru.predict(X_test)\n",
    "\n",
    "        mse_rnn = MSE(Y_test[:,-1], Y_pred_rnn[:,-1])\n",
    "        mse_lstm = MSE(Y_test[:,-1], Y_pred_lstm[:,-1])\n",
    "        mse_gru = MSE(Y_test[:,-1], Y_pred_gru[:,-1])\n",
    "\n",
    "        if mse_rnn < best_mse[0]:\n",
    "            print(f\"Found new best SimpleRNN mse {mse_rnn} with {neurons_first} and {neurons_second} neurons\")\n",
    "            best_mse[0] = mse_rnn\n",
    "            fname = f\"../data/models/large_rnn.h5\"\n",
    "            keras.models.save_model(rnn, fname)\n",
    "\n",
    "        if mse_lstm < best_mse[1]:\n",
    "            print(f\"Found new best LSTM mse {mse_lstm} with {neurons_first} and {neurons_second} neurons\")\n",
    "            best_mse[1] = mse_lstm\n",
    "            fname = f\"../data/models/large_lstm.h5\"\n",
    "            keras.models.save_model(lstm, fname)\n",
    "\n",
    "        if mse_gru < best_mse[2]:\n",
    "            print(f\"Found new best GRU mse {mse_gru} with {neurons_first} and {neurons_second} neurons\")\n",
    "            best_mse[2] = mse_gru\n",
    "            fname = f\"../data/models/large_gru.h5\"\n",
    "            keras.models.save_model(gru, fname)\n",
    "\n",
    "        mse_list[0,n,m] = mse_rnn\n",
    "        mse_list[1,n,m] = mse_lstm\n",
    "        mse_list[2,n,m] = mse_gru"
   ]
  },
  {
   "cell_type": "code",
   "execution_count": 11,
   "metadata": {},
   "outputs": [
    {
     "name": "stdout",
     "output_type": "stream",
     "text": [
      "[[[0.04080268 0.05009565 0.04106109 0.02905722]\n",
      "  [0.04563613 0.04173129 0.03404656 0.03483869]\n",
      "  [0.04346305 0.04219087 0.03616917 0.03036424]\n",
      "  [0.04208429 0.03407757 0.03541273 0.03519897]]\n",
      "\n",
      " [[0.03257583 0.02978221 0.03036022 0.02931602]\n",
      "  [0.03334163 0.03064569 0.02962194 0.0299152 ]\n",
      "  [0.0343795  0.03095987 0.02984983 0.02900887]\n",
      "  [0.0405945  0.03219617 0.03063241 0.0294435 ]]\n",
      "\n",
      " [[0.02864066 0.02907141 0.02909657 0.02846161]\n",
      "  [0.02949001 0.02892587 0.02893928 0.02863291]\n",
      "  [0.03155077 0.02799201 0.02911176 0.02811938]\n",
      "  [0.03285592 0.02907824 0.0280799  0.02826831]]]\n",
      "[0.02905722 0.02900887 0.02799201]\n"
     ]
    }
   ],
   "source": [
    "print(mse_list)\n",
    "print(best_mse)"
   ]
  },
  {
   "cell_type": "markdown",
   "metadata": {},
   "source": [
    "From these results, the best models are\n",
    "* SimpleRNN 128 and 128 neurons @ 0.06939392 MSE\n",
    "* LSTM 32 and 128 neurons @ 0.08641151\n",
    "* GRU 32 and 128 neurons @ 0.08066217"
   ]
  }
 ],
 "metadata": {
  "interpreter": {
   "hash": "f9f85f796d01129d0dd105a088854619f454435301f6ffec2fea96ecbd9be4ac"
  },
  "kernelspec": {
   "display_name": "Python 3.9.5 64-bit",
   "language": "python",
   "name": "python3"
  },
  "language_info": {
   "codemirror_mode": {
    "name": "ipython",
    "version": 3
   },
   "file_extension": ".py",
   "mimetype": "text/x-python",
   "name": "python",
   "nbconvert_exporter": "python",
   "pygments_lexer": "ipython3",
   "version": "3.9.7"
  },
  "orig_nbformat": 4
 },
 "nbformat": 4,
 "nbformat_minor": 2
}
