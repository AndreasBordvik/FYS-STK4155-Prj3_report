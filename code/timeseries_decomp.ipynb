{
 "cells": [
  {
   "cell_type": "code",
   "execution_count": null,
   "metadata": {},
   "outputs": [],
   "source": [
    "\n",
    "import pandas as pd\n",
    "import numpy as np\n",
    "import matplotlib.pyplot as plt\n",
    "from statsmodels.tsa.seasonal import seasonal_decompose\n",
    "from matplotlib.pyplot import figure\n",
    "\n",
    "\n",
    "df = pd.read_csv(f\"../data/input_data/MAIN_DATASET.csv\", index_col=0)\n",
    "df\n",
    "new = df[['NO2_price',\"index\"]].copy()\n",
    "# new['Datetime'] = pd.to_datetime(df['date_time'])\n",
    "new = new.set_index('index')\n",
    "# new = new.drop(columns=[\"date_time\"])\n",
    "len(df)"
   ]
  },
  {
   "cell_type": "code",
   "execution_count": null,
   "metadata": {},
   "outputs": [],
   "source": [
    "result = seasonal_decompose(freq_series, model='add')\n",
    "observedarray = result.observed\n",
    "seasonalarray = result.seasonal\n",
    "trendarray = result.trend\n",
    "residarray = result.resid\n",
    "observedarray.plot(figsize=(12,5), label = \"Observed\")\n",
    "trendarray.plot(figsize=(12,5), label = \"Trend\")\n",
    "residarray.plot(figsize=(12,5), label= \"Residuals\")\n",
    "seasonalarray.plot(figsize=(12,5),label= \"Seasonal\", alpha = 0.4)\n",
    "\n",
    "plt.legend()"
   ]
  },
  {
   "cell_type": "code",
   "execution_count": null,
   "metadata": {},
   "outputs": [],
   "source": []
  },
  {
   "cell_type": "code",
   "execution_count": null,
   "metadata": {},
   "outputs": [],
   "source": []
  }
 ],
 "metadata": {
  "interpreter": {
   "hash": "1341f2ca8bae0273958fc68fc9062d4567e8214cb67a8c75fe7f4d8d8f4d5eac"
  },
  "kernelspec": {
   "display_name": "Python 3.9.7 64-bit ('geo4300_env': conda)",
   "language": "python",
   "name": "python3"
  },
  "language_info": {
   "codemirror_mode": {
    "name": "ipython",
    "version": 3
   },
   "file_extension": ".py",
   "mimetype": "text/x-python",
   "name": "python",
   "nbconvert_exporter": "python",
   "pygments_lexer": "ipython3",
   "version": "3.9.7"
  },
  "orig_nbformat": 4
 },
 "nbformat": 4,
 "nbformat_minor": 2
}
