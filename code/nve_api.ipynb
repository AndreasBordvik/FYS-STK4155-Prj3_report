{
 "cells": [
  {
   "cell_type": "code",
   "execution_count": null,
   "metadata": {},
   "outputs": [],
   "source": [
    "import requests\n",
    "import pandas as pd\n",
    "from matplotlib import pyplot as plt\n",
    "from common import *\n"
   ]
  },
  {
   "cell_type": "code",
   "execution_count": null,
   "metadata": {},
   "outputs": [],
   "source": [
    "r = requests.get('https://nvebiapi.nve.no/api/Magasinstatistikk/HentOffentligData')\n",
    "x = r.json()\n",
    "df = pd.DataFrame(x)\n",
    "df = df.sort_values(by='dato_Id', ascending=True, ignore_index=True)\n",
    "#df.to_csv(f\"{INPUT_DATA}magasin_statistikk_nve.csv\")\n",
    "df.head()"
   ]
  },
  {
   "cell_type": "code",
   "execution_count": null,
   "metadata": {},
   "outputs": [],
   "source": [
    "def get_område(df, omrnr, data_from_year=2016):\n",
    "    omr = df.loc[df['omrnr'] == omrnr]\n",
    "    omr = omr.loc[omr['iso_aar'] >= data_from_year]\n",
    "    omr = omr.loc[omr['omrType'] == \"EL\"]\n",
    "    return omr"
   ]
  },
  {
   "cell_type": "code",
   "execution_count": null,
   "metadata": {},
   "outputs": [],
   "source": [
    "ax = get_område(df, 1).plot(\"dato_Id\", \"fyllingsgrad\", figsize=(20,8))\n",
    "\n",
    "get_område(df, 2).plot(\"dato_Id\", \"fyllingsgrad\", figsize=(20,8), ax=ax)\n",
    "get_område(df, 3).plot(\"dato_Id\", \"fyllingsgrad\", figsize=(20,8), ax=ax)\n",
    "get_område(df, 4).plot(\"dato_Id\", \"fyllingsgrad\", figsize=(20,8), ax=ax)\n",
    "get_område(df, 5).plot(\"dato_Id\", \"fyllingsgrad\", figsize=(20,8), ax=ax)\n",
    "plt.title(\"Fyllingsgrad i %\")\n",
    "plt.ylabel(\"TWh\")\n",
    "plt.xlabel(\"Date\")\n"
   ]
  },
  {
   "cell_type": "code",
   "execution_count": null,
   "metadata": {},
   "outputs": [],
   "source": [
    "ax = get_område(df, 1).plot(\"dato_Id\", \"fylling_TWh\", figsize=(20,8), label=\"NO1\")\n",
    "get_område(df, 2).plot(\"dato_Id\", \"fylling_TWh\", figsize=(20,8), ax=ax, label=\"NO2\")\n",
    "get_område(df, 3).plot(\"dato_Id\", \"fylling_TWh\", figsize=(20,8), ax=ax, label=\"NO3\")\n",
    "get_område(df, 4).plot(\"dato_Id\", \"fylling_TWh\", figsize=(20,8), ax=ax, label=\"NO4\")\n",
    "get_område(df, 5).plot(\"dato_Id\", \"fylling_TWh\", figsize=(20,8), ax=ax, label=\"NO5\")\n",
    "plt.title(\"Fylling TWh\")\n",
    "plt.ylabel(\"TWh\")\n",
    "plt.xlabel(\"Date\")"
   ]
  },
  {
   "cell_type": "code",
   "execution_count": null,
   "metadata": {},
   "outputs": [],
   "source": [
    "get_område(df, 2).plot(\"dato_Id\", \"fyllingsgrad\", figsize=(20,8))"
   ]
  },
  {
   "cell_type": "code",
   "execution_count": null,
   "metadata": {},
   "outputs": [],
   "source": [
    "get_område(df, 3).plot(\"dato_Id\", \"fyllingsgrad\", figsize=(20,8))"
   ]
  },
  {
   "cell_type": "code",
   "execution_count": null,
   "metadata": {},
   "outputs": [],
   "source": [
    "get_område(df, 4).plot(\"dato_Id\", \"fyllingsgrad\", figsize=(20,8))"
   ]
  },
  {
   "cell_type": "code",
   "execution_count": null,
   "metadata": {},
   "outputs": [],
   "source": [
    "get_område(df, 5).plot(\"dato_Id\", \"fyllingsgrad\", figsize=(20,8))"
   ]
  },
  {
   "cell_type": "markdown",
   "metadata": {},
   "source": [
    "## CREATE DATASET FOR TRAINING:  "
   ]
  },
  {
   "cell_type": "code",
   "execution_count": null,
   "metadata": {},
   "outputs": [],
   "source": [
    "\n",
    "def get_fyllingsgrad_array(omrnr:int, data_from_year:int)->pd.DataFrame:   \n",
    "    df['year'] = pd.DatetimeIndex(df['dato_Id']).year\n",
    "    omr = df.loc[df['omrnr'] == omrnr]\n",
    "    omr = omr.loc[omr['year'] >= data_from_year]\n",
    "    omr = omr.loc[omr['omrType'] == \"EL\"]\n",
    "    omr = omr[\"fyllingsgrad\"]\n",
    "    return omr.to_numpy()\n",
    "\n",
    "\n"
   ]
  },
  {
   "cell_type": "code",
   "execution_count": null,
   "metadata": {},
   "outputs": [],
   "source": [
    "for omrnr in range(1,6):\n",
    "     #init empty array with nans   \n",
    "     magasin_stats = np.empty(len(df_entso))\n",
    "     magasin_stats[:] = np.nan\n",
    "     fyllingsgrad_array = get_fyllingsgrad_array(omrnr,2016)\n",
    "     #fill array with 1 weekly magazine-stat, the rest of the week as NaN:\n",
    "     nve_time_step = 0\n",
    "     for timestep in range(0,len(magasin_stats),(24*7)):\n",
    "          magasin_stats[timestep] = fyllingsgrad_array[nve_time_step]\n",
    "          nve_time_step+=1\n",
    "     #Add stats to entso:\n",
    "     df_entso[f\"NO{omrnr}_Fyllingsgrad_NVE\"] = magasin_stats\n",
    "\n",
    "     print(f\"Number of Non-Nan values after filling: {np.count_nonzero(~np.isnan(magasin_stats))}\")\n",
    "     \n",
    "#Save to csv:      \n",
    "#df_entso.to_csv(f\"{INPUT_DATA}entso_NVE.csv\")\n",
    "     "
   ]
  },
  {
   "cell_type": "markdown",
   "metadata": {},
   "source": [
    "### Interpolate Nan: "
   ]
  },
  {
   "cell_type": "code",
   "execution_count": null,
   "metadata": {},
   "outputs": [],
   "source": [
    "for omrnr in range(1,6):\n",
    "    df_entso[f\"NO{omrnr}_Fyllingsgrad_NVE\"].interpolate(method= \"linear\", inplace= True)\n",
    "#Save to csv:      \n",
    "#df_entso.to_csv(f\"{INPUT_DATA}entso_NVE_interpolated.csv\")"
   ]
  },
  {
   "cell_type": "code",
   "execution_count": null,
   "metadata": {},
   "outputs": [],
   "source": [
    "df_entso.head()"
   ]
  }
 ],
 "metadata": {
  "interpreter": {
   "hash": "07eb81dabebf7ad6f74b5238d49e057678648a9f463800e12ec7c4306c5e2dc1"
  },
  "kernelspec": {
   "display_name": "Python 3.10.0 64-bit ('FYSSTK_ENV': conda)",
   "language": "python",
   "name": "python3"
  },
  "language_info": {
   "codemirror_mode": {
    "name": "ipython",
    "version": 3
   },
   "file_extension": ".py",
   "mimetype": "text/x-python",
   "name": "python",
   "nbconvert_exporter": "python",
   "pygments_lexer": "ipython3",
   "version": "3.9.7"
  },
  "orig_nbformat": 4
 },
 "nbformat": 4,
 "nbformat_minor": 2
}
