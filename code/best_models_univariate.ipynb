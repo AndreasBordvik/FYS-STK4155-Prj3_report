{
 "cells": [
  {
   "cell_type": "code",
   "execution_count": 1,
   "metadata": {},
   "outputs": [
    {
     "name": "stderr",
     "output_type": "stream",
     "text": [
      "2021-12-16 17:52:53.108425: W tensorflow/stream_executor/platform/default/dso_loader.cc:64] Could not load dynamic library 'libcudart.so.11.0'; dlerror: libcudart.so.11.0: cannot open shared object file: No such file or directory\n",
      "2021-12-16 17:52:53.108445: I tensorflow/stream_executor/cuda/cudart_stub.cc:29] Ignore above cudart dlerror if you do not have a GPU set up on your machine.\n"
     ]
    }
   ],
   "source": [
    "from sklearn.metrics import mean_absolute_error as MSE\n",
    "from tensorflow.keras.models import Sequential\n",
    "from cmcrameri import cm\n",
    "from tqdm import tqdm\n",
    "import seaborn as sns\n",
    "from common import *\n",
    "from models import *"
   ]
  },
  {
   "cell_type": "markdown",
   "metadata": {},
   "source": [
    "# Loading our data"
   ]
  },
  {
   "cell_type": "code",
   "execution_count": 2,
   "metadata": {},
   "outputs": [],
   "source": [
    "df = pd.read_csv(\"../data/input_data/MAIN_DATASET.csv\")\n",
    "price = df['NO2_price'].values.reshape(-1,1)\n",
    "price_days = seperate_column_to_days(price)"
   ]
  },
  {
   "cell_type": "markdown",
   "metadata": {},
   "source": [
    "# Structuring our data"
   ]
  },
  {
   "cell_type": "code",
   "execution_count": 3,
   "metadata": {},
   "outputs": [
    {
     "name": "stdout",
     "output_type": "stream",
     "text": [
      "(2145, 192, 1)\n"
     ]
    }
   ],
   "source": [
    "lookbehind = 7\n",
    "input_width = lookbehind*24\n",
    "horizon = 24\n",
    "no_hours = input_width + horizon\n",
    "stride = 24\n",
    "hour_in_days = int(no_hours / stride)\n",
    "\n",
    "price_dataset = []\n",
    "\n",
    "\n",
    "for i in range(len(price_days) - hour_in_days+1):\n",
    "    price_dataset.append(np.concatenate((price_days[i:i+hour_in_days])))\n",
    "\n",
    "\n",
    "price_dataset = np.array(price_dataset)\n",
    "\n",
    "scaler = MinMaxScaler()\n",
    "price_dataset = scaler.fit_transform(price_dataset[:,:,0])\n",
    "price_dataset = price_dataset[..., np.newaxis].astype(np.float32)\n",
    "\n",
    "\n",
    "\n",
    "n,m,k = price_dataset.shape\n",
    "\n",
    "print(price_dataset.shape)\n"
   ]
  },
  {
   "cell_type": "markdown",
   "metadata": {},
   "source": [
    "# Train test split"
   ]
  },
  {
   "cell_type": "code",
   "execution_count": 4,
   "metadata": {},
   "outputs": [],
   "source": [
    "train = int(0.7*n)\n",
    "valid = int(0.9*n)\n",
    "X_train = price_dataset[:train, :input_width]\n",
    "X_valid = price_dataset[train:valid, :input_width]\n",
    "X_test = price_dataset[valid:, :input_width]\n",
    "\n",
    "Y = np.empty((n, input_width, horizon))\n",
    "for step_ahead in range(1, horizon + 1):\n",
    "    Y[:,:, step_ahead - 1] = price_dataset[:,step_ahead:step_ahead + input_width, 0]\n",
    "\n",
    "Y_train = Y[:train]\n",
    "Y_valid = Y[train:valid]\n",
    "Y_test = Y[valid:]"
   ]
  },
  {
   "cell_type": "code",
   "execution_count": 5,
   "metadata": {},
   "outputs": [
    {
     "name": "stdout",
     "output_type": "stream",
     "text": [
      "(1501, 168, 1)\n"
     ]
    }
   ],
   "source": [
    "print(X_train.shape)"
   ]
  },
  {
   "cell_type": "markdown",
   "metadata": {},
   "source": [
    "## Hyperparameters"
   ]
  },
  {
   "cell_type": "code",
   "execution_count": 6,
   "metadata": {},
   "outputs": [],
   "source": [
    "# Common\n",
    "epochs = 25\n",
    "batch_size = [100, 200, 300]\n",
    "eta_list = np.logspace(-2, -4, 3)\n",
    "neurons_list = [128, 64, 32]\n",
    "filters = 64\n",
    "kernel_size = 3\n",
    "strides = 3\n",
    "\n",
    "learning_rate_reduction = keras.callbacks.ReduceLROnPlateau(monitor='val_loss', \n",
    "                                                            patience=3, \n",
    "                                                            verbose=1, \n",
    "                                                            factor=0.5, \n",
    "                                                            min_lr=0.000001)\n",
    "callbacks = [learning_rate_reduction]"
   ]
  },
  {
   "cell_type": "markdown",
   "metadata": {},
   "source": [
    "# Setting up the univariate SimpleRNN"
   ]
  },
  {
   "cell_type": "code",
   "execution_count": 7,
   "metadata": {},
   "outputs": [],
   "source": [
    "class RNN(Sequential):\n",
    "    def __init__(self, eta, neurons, horizon=24):\n",
    "        super(self.__class__, self).__init__()\n",
    "\n",
    "        # RNN architecture\n",
    "        self.add(keras.layers.SimpleRNN(neurons, return_sequences=True, input_shape=[None, k]))\n",
    "        self.add(keras.layers.SimpleRNN(neurons, return_sequences=True))\n",
    "        self.add(keras.layers.Dense(horizon))\n",
    "\n",
    "        # Model compile settings\n",
    "        opt = keras.optimizers.Adam(learning_rate=eta)\n",
    "\n",
    "        # Compile model\n",
    "        self.compile(loss='mse', optimizer=opt)\n",
    "\n",
    "\n",
    "# return_sequences=True --> (256, 168, 24)\n",
    "# return_sequences=False --> (256, 24)"
   ]
  },
  {
   "cell_type": "markdown",
   "metadata": {},
   "source": [
    "## Grid search"
   ]
  },
  {
   "cell_type": "code",
   "execution_count": 8,
   "metadata": {},
   "outputs": [
    {
     "name": "stderr",
     "output_type": "stream",
     "text": [
      "  0%|          | 0/3 [00:00<?, ?it/s]2021-12-16 17:52:55.617824: I tensorflow/stream_executor/cuda/cuda_gpu_executor.cc:925] could not open file to read NUMA node: /sys/bus/pci/devices/0000:01:00.0/numa_node\n",
      "Your kernel may have been built without NUMA support.\n",
      "2021-12-16 17:52:55.617967: W tensorflow/stream_executor/platform/default/dso_loader.cc:64] Could not load dynamic library 'libcudart.so.11.0'; dlerror: libcudart.so.11.0: cannot open shared object file: No such file or directory\n",
      "2021-12-16 17:52:55.618025: W tensorflow/stream_executor/platform/default/dso_loader.cc:64] Could not load dynamic library 'libcublas.so.11'; dlerror: libcublas.so.11: cannot open shared object file: No such file or directory\n",
      "2021-12-16 17:52:55.618066: W tensorflow/stream_executor/platform/default/dso_loader.cc:64] Could not load dynamic library 'libcublasLt.so.11'; dlerror: libcublasLt.so.11: cannot open shared object file: No such file or directory\n",
      "2021-12-16 17:52:55.618105: W tensorflow/stream_executor/platform/default/dso_loader.cc:64] Could not load dynamic library 'libcufft.so.10'; dlerror: libcufft.so.10: cannot open shared object file: No such file or directory\n",
      "2021-12-16 17:52:55.618143: W tensorflow/stream_executor/platform/default/dso_loader.cc:64] Could not load dynamic library 'libcurand.so.10'; dlerror: libcurand.so.10: cannot open shared object file: No such file or directory\n",
      "2021-12-16 17:52:55.618180: W tensorflow/stream_executor/platform/default/dso_loader.cc:64] Could not load dynamic library 'libcusolver.so.11'; dlerror: libcusolver.so.11: cannot open shared object file: No such file or directory\n",
      "2021-12-16 17:52:55.618217: W tensorflow/stream_executor/platform/default/dso_loader.cc:64] Could not load dynamic library 'libcusparse.so.11'; dlerror: libcusparse.so.11: cannot open shared object file: No such file or directory\n",
      "2021-12-16 17:52:55.618256: W tensorflow/stream_executor/platform/default/dso_loader.cc:64] Could not load dynamic library 'libcudnn.so.8'; dlerror: libcudnn.so.8: cannot open shared object file: No such file or directory\n",
      "2021-12-16 17:52:55.618262: W tensorflow/core/common_runtime/gpu/gpu_device.cc:1850] Cannot dlopen some GPU libraries. Please make sure the missing libraries mentioned above are installed properly if you would like to use GPU. Follow the guide at https://www.tensorflow.org/install/gpu for how to download and setup the required libraries for your platform.\n",
      "Skipping registering GPU devices...\n",
      "2021-12-16 17:52:55.618476: I tensorflow/core/platform/cpu_feature_guard.cc:151] This TensorFlow binary is optimized with oneAPI Deep Neural Network Library (oneDNN) to use the following CPU instructions in performance-critical operations:  AVX2 FMA\n",
      "To enable them in other operations, rebuild TensorFlow with the appropriate compiler flags.\n"
     ]
    },
    {
     "name": "stdout",
     "output_type": "stream",
     "text": [
      "\n",
      "Epoch 00006: ReduceLROnPlateau reducing learning rate to 0.005.\n",
      "\n",
      "Epoch 00012: ReduceLROnPlateau reducing learning rate to 0.0025.\n",
      "\n",
      "Epoch 00021: ReduceLROnPlateau reducing learning rate to 0.00125.\n",
      "\n",
      "Epoch 00024: ReduceLROnPlateau reducing learning rate to 0.000625.\n",
      "\n",
      "New best model with MSE = 0.23545351115823954 !\n",
      "\n",
      "\n",
      "Epoch 00013: ReduceLROnPlateau reducing learning rate to 0.005.\n",
      "\n",
      "Epoch 00018: ReduceLROnPlateau reducing learning rate to 0.0025.\n",
      "\n",
      "Epoch 00021: ReduceLROnPlateau reducing learning rate to 0.00125.\n",
      "\n",
      "Epoch 00025: ReduceLROnPlateau reducing learning rate to 0.000625.\n",
      "\n",
      "New best model with MSE = 0.08737326971345177 !\n",
      "\n",
      "\n",
      "Epoch 00012: ReduceLROnPlateau reducing learning rate to 0.005.\n",
      "\n",
      "Epoch 00018: ReduceLROnPlateau reducing learning rate to 0.0025.\n",
      "\n",
      "Epoch 00025: ReduceLROnPlateau reducing learning rate to 0.00125.\n",
      "\n",
      "Epoch 00019: ReduceLROnPlateau reducing learning rate to 0.005.\n",
      "\n",
      "Epoch 00006: ReduceLROnPlateau reducing learning rate to 0.005.\n",
      "\n",
      "Epoch 00021: ReduceLROnPlateau reducing learning rate to 0.0025.\n",
      "\n",
      "Epoch 00024: ReduceLROnPlateau reducing learning rate to 0.00125.\n",
      "\n",
      "Epoch 00013: ReduceLROnPlateau reducing learning rate to 0.005.\n",
      "\n",
      "Epoch 00022: ReduceLROnPlateau reducing learning rate to 0.0025.\n",
      "\n",
      "Epoch 00022: ReduceLROnPlateau reducing learning rate to 0.005.\n",
      "\n",
      "New best model with MSE = 0.08597539760514987 !\n",
      "\n",
      "\n",
      "Epoch 00022: ReduceLROnPlateau reducing learning rate to 0.005.\n",
      "\n",
      "Epoch 00025: ReduceLROnPlateau reducing learning rate to 0.0025.\n"
     ]
    },
    {
     "name": "stderr",
     "output_type": "stream",
     "text": [
      " 33%|███▎      | 1/3 [06:43<13:26, 403.12s/it]"
     ]
    },
    {
     "name": "stdout",
     "output_type": "stream",
     "text": [
      "\n",
      "Epoch 00010: ReduceLROnPlateau reducing learning rate to 0.0005.\n",
      "\n",
      "Epoch 00021: ReduceLROnPlateau reducing learning rate to 0.00025.\n",
      "\n",
      "Epoch 00024: ReduceLROnPlateau reducing learning rate to 0.000125.\n",
      "\n",
      "New best model with MSE = 0.07699931553145921 !\n",
      "\n",
      "\n",
      "Epoch 00007: ReduceLROnPlateau reducing learning rate to 0.0005.\n",
      "\n",
      "Epoch 00015: ReduceLROnPlateau reducing learning rate to 0.00025.\n",
      "\n",
      "Epoch 00019: ReduceLROnPlateau reducing learning rate to 0.000125.\n",
      "\n",
      "Epoch 00022: ReduceLROnPlateau reducing learning rate to 6.25e-05.\n",
      "\n",
      "Epoch 00013: ReduceLROnPlateau reducing learning rate to 0.0005.\n",
      "\n",
      "Epoch 00017: ReduceLROnPlateau reducing learning rate to 0.00025.\n",
      "\n",
      "Epoch 00022: ReduceLROnPlateau reducing learning rate to 0.000125.\n",
      "\n",
      "Epoch 00025: ReduceLROnPlateau reducing learning rate to 6.25e-05.\n",
      "\n",
      "Epoch 00015: ReduceLROnPlateau reducing learning rate to 0.0005.\n",
      "\n",
      "Epoch 00019: ReduceLROnPlateau reducing learning rate to 0.00025.\n",
      "\n",
      "Epoch 00022: ReduceLROnPlateau reducing learning rate to 0.000125.\n",
      "\n",
      "Epoch 00025: ReduceLROnPlateau reducing learning rate to 6.25e-05.\n",
      "\n",
      "Epoch 00010: ReduceLROnPlateau reducing learning rate to 0.0005.\n",
      "\n",
      "Epoch 00013: ReduceLROnPlateau reducing learning rate to 0.00025.\n",
      "\n",
      "Epoch 00018: ReduceLROnPlateau reducing learning rate to 0.000125.\n",
      "\n",
      "Epoch 00022: ReduceLROnPlateau reducing learning rate to 6.25e-05.\n",
      "\n",
      "Epoch 00025: ReduceLROnPlateau reducing learning rate to 3.125e-05.\n",
      "\n",
      "Epoch 00016: ReduceLROnPlateau reducing learning rate to 0.0005.\n",
      "\n",
      "Epoch 00020: ReduceLROnPlateau reducing learning rate to 0.00025.\n",
      "\n",
      "Epoch 00025: ReduceLROnPlateau reducing learning rate to 0.000125.\n",
      "\n",
      "Epoch 00021: ReduceLROnPlateau reducing learning rate to 0.0005.\n"
     ]
    }
   ],
   "source": [
    "results_columns = [\"model\",\"batch_size\", \"learning_rate\", \"epoch\", \"neurons\", \"mse_all\"]\n",
    "results_columns += [f\"mse{i}\" for i in range(1,horizon+1)] \n",
    "results = pd.DataFrame(columns=results_columns)\n",
    "\n",
    "x_columns = [f\"x{k}\" for k in range(1, input_width+1)]\n",
    "t_columns = [f\"t{k}\" for k in range(1, horizon+1)]\n",
    "t_hat_columns = [f\"t_hat{k}\" for k in range(1, horizon+1)]\n",
    "preds_columns = columns=x_columns+t_columns+t_hat_columns\n",
    "results_preds = pd.DataFrame(columns=preds_columns)\n",
    "\n",
    "epochs_colmns = [f\"epoch{i}\" for i in range(epochs)]\n",
    "Y_test_last = Y_test[:,-1]\n",
    "best_mse = np.inf\n",
    "\n",
    "i = 0\n",
    "for eta in tqdm(eta_list):\n",
    "    for batch in batch_size:\n",
    "        for neurons in neurons_list:\n",
    "            RNN_model = RNN(eta, neurons, horizon=horizon)\n",
    "\n",
    "            # Training\n",
    "            history = RNN_model.fit(X_train, Y_train, \n",
    "                        epochs=epochs, batch_size = batch, \n",
    "                        shuffle=False, callbacks= callbacks,  \n",
    "                        validation_data=(X_valid, Y_valid), verbose=0)\n",
    "\n",
    "            # Prediction\n",
    "            Y_pred_rnn = RNN_model.predict(X_test)\n",
    "            Y_pred_rnn_last = Y_pred_rnn[:,-1]     \n",
    "            \n",
    "            # Results\n",
    "            mse_val = MSE(Y_test_last, Y_pred_rnn_last)\n",
    "            mse_all = np.mean((Y_test_last - Y_pred_rnn_last) ** 2, axis=0) # The mean of each column \n",
    "            \n",
    "            \n",
    "            # Storing results for all models\n",
    "            res1 = np.array([i, batch, eta, epochs, neurons, mse_val])\n",
    "            res2 = np.array(mse_all)\n",
    "            res = np.concatenate([res1,res2], axis=0)\n",
    "            results.loc[i] = res\n",
    "            results.to_csv(f\"{REPORT_DATA}univariate_simpleRNN_results.csv\")\n",
    "\n",
    "            # Storing results from the best model\n",
    "            if best_mse > mse_val:\n",
    "                best_mse = mse_val\n",
    "                print(f\"\\nNew best model with MSE = {mse_val} !\\n\")\n",
    "                # Predictions and target for best results\n",
    "                preds_res =  np.concatenate([X_test[...,0], Y_test_last, Y_pred_rnn_last],axis=1)\n",
    "                best_results_preds = pd.DataFrame(preds_res, columns=preds_columns)\n",
    "                best_results_preds.to_csv(f\"{REPORT_DATA}best_models/univariate_simpleRNN_preds_best.csv\")\n",
    "\n",
    "                \n",
    "                # Best results relative to parameters\n",
    "                best_results = pd.DataFrame(columns=results_columns)\n",
    "                best_results.loc[i] = res\n",
    "                best_results.to_csv(f\"{REPORT_DATA}best_models/univariate_simpleRNN_results_best.csv\")\n",
    "                \n",
    "                # Model evaluation result            \n",
    "                best_train_val_losses = pd.DataFrame(columns=[\"training_loss\", \"validation_loss\"])\n",
    "                best_train_val_losses[\"training_loss\"] = history.history[\"loss\"]\n",
    "                best_train_val_losses[\"validation_loss\"] = history.history[\"val_loss\"]\n",
    "                best_train_val_losses.to_csv(f\"{REPORT_DATA}best_models/univariate_simpleRNN_train_val_losses_best.csv\")            \n",
    "                \n",
    "            i += 1"
   ]
  },
  {
   "cell_type": "markdown",
   "metadata": {},
   "source": [
    "# Setting up the multivariate ConvGRU"
   ]
  },
  {
   "cell_type": "code",
   "execution_count": null,
   "metadata": {},
   "outputs": [],
   "source": [
    "class ConvGRU(Sequential):\n",
    "    def __init__(self, eta, neurons_first, neurons_second, horizon=24):\n",
    "        super(self.__class__, self).__init__()\n",
    "\n",
    "        # ConvGRU architecture\n",
    "        self.add(keras.layers.Conv1D(filters=filters, kernel_size=kernel_size, strides=strides, padding=\"valid\", input_shape=[None, k]))\n",
    "        self.add(keras.layers.GRU(neurons_first, return_sequences=True))\n",
    "        self.add(keras.layers.GRU(neurons_second, return_sequences=True))\n",
    "        self.add(keras.layers.Dense(horizon))\n",
    "\n",
    "        # Model compile settings\n",
    "        opt = keras.optimizers.Adam(learning_rate=eta)\n",
    "\n",
    "        # Compile model\n",
    "        self.compile(loss='mse', optimizer=opt)"
   ]
  },
  {
   "cell_type": "markdown",
   "metadata": {},
   "source": [
    "## Grid search"
   ]
  },
  {
   "cell_type": "code",
   "execution_count": null,
   "metadata": {},
   "outputs": [],
   "source": [
    "results_columns = [\"model\",\"batch_size\", \"learning_rate\", \"epoch\", \"neurons\", \"mse_all\"]\n",
    "results_columns += [f\"mse{i}\" for i in range(1,horizon+1)] \n",
    "results = pd.DataFrame(columns=results_columns)\n",
    "\n",
    "x_columns = [f\"x{k}\" for k in range(1, input_width+1)]\n",
    "t_columns = [f\"t{k}\" for k in range(1, horizon+1)]\n",
    "t_hat_columns = [f\"t_hat{k}\" for k in range(1, horizon+1)]\n",
    "preds_columns = columns=x_columns+t_columns+t_hat_columns\n",
    "results_preds = pd.DataFrame(columns=preds_columns)\n",
    "\n",
    "epochs_colmns = [f\"epoch{i}\" for i in range(epochs)]\n",
    "Y_test_last = Y_test[:,-1]\n",
    "best_mse = np.inf\n",
    "\n",
    "i = 0\n",
    "for eta in tqdm(eta_list):\n",
    "    for batch in batch_size:\n",
    "        for neurons in neurons_list:\n",
    "            ConvGRU_model = ConvGRU(eta, neurons, neurons, horizon=horizon)\n",
    "\n",
    "            # Training\n",
    "            history = ConvGRU_model.fit(X_train, Y_train[:,2::strides], \n",
    "                        epochs=epochs, batch_size = batch, \n",
    "                        shuffle=False, callbacks= callbacks,  \n",
    "                        validation_data=(X_valid, Y_valid[:,2::strides]), verbose=0)\n",
    "\n",
    "            # Prediction\n",
    "            Y_pred_rnn = ConvGRU_model.predict(X_test)\n",
    "            Y_pred_rnn_last = Y_pred_rnn[:,-1]     \n",
    "            \n",
    "            # Results\n",
    "            mse_val = MSE(Y_test_last, Y_pred_rnn_last)\n",
    "            mse_all = np.mean((Y_test_last - Y_pred_rnn_last) ** 2, axis=0) # The mean of each column \n",
    "                        \n",
    "            # Storing results for all models\n",
    "            res1 = np.array([i, batch, eta, epochs, neurons, mse_val])\n",
    "            res2 = np.array(mse_all)\n",
    "            res = np.concatenate([res1,res2], axis=0)\n",
    "            results.loc[i] = res\n",
    "            results.to_csv(f\"{REPORT_DATA}univariate_convGRU_results.csv\")\n",
    "\n",
    "            # Storing results from the best model\n",
    "            if best_mse > mse_val:\n",
    "                best_mse = mse_val\n",
    "                print(f\"\\nNew best model with MSE = {mse_val} !\\n\")\n",
    "                # Predictions and target for best results\n",
    "                preds_res =  np.concatenate([X_test[...,0], Y_test_last, Y_pred_rnn_last],axis=1)\n",
    "                best_results_preds = pd.DataFrame(preds_res, columns=preds_columns)\n",
    "                best_results_preds.to_csv(f\"{REPORT_DATA}best_models/univariate_convGRU_preds_best.csv\")\n",
    "\n",
    "                \n",
    "                # Best results relative to parameters\n",
    "                best_results = pd.DataFrame(columns=results_columns)\n",
    "                best_results.loc[i] = res\n",
    "                best_results.to_csv(f\"{REPORT_DATA}best_models/univariate_convGRU_results_best.csv\")\n",
    "                \n",
    "                # Model evaluation result            \n",
    "                best_train_val_losses = pd.DataFrame(columns=[\"training_loss\", \"validation_loss\"])\n",
    "                best_train_val_losses[\"training_loss\"] = history.history[\"loss\"]\n",
    "                best_train_val_losses[\"validation_loss\"] = history.history[\"val_loss\"]\n",
    "                best_train_val_losses.to_csv(f\"{REPORT_DATA}best_models/univariate_convGRU_train_val_losses_best.csv\")            \n",
    "                \n",
    "            i += 1"
   ]
  },
  {
   "cell_type": "markdown",
   "metadata": {},
   "source": [
    "# Setting up the multivariate LSTM"
   ]
  },
  {
   "cell_type": "code",
   "execution_count": null,
   "metadata": {},
   "outputs": [],
   "source": [
    "class LSTM(Sequential):\n",
    "    def __init__(self, eta, neurons, horizon=24):\n",
    "        super(self.__class__, self).__init__()\n",
    "        \n",
    "        # self.add(keras.layers.Bidirectional(keras.layers.LSTM(neurons, return_sequences=True)))\n",
    "        # self.add(keras.layers.Bidirectional(keras.layers.LSTM(neurons, return_sequences=True)))\n",
    "        \n",
    "        self.add(keras.layers.LSTM(neurons, return_sequences=True, input_shape=[None, k]))\n",
    "        self.add(keras.layers.LSTM(neurons, return_sequences=True))\n",
    "        self.add(keras.layers.Dense(horizon))\n",
    "\n",
    "        # Model compile settings\n",
    "        opt = keras.optimizers.Adam(learning_rate=eta)\n",
    "\n",
    "        # Compile model\n",
    "        self.compile(loss='mse', optimizer=opt)"
   ]
  },
  {
   "cell_type": "markdown",
   "metadata": {},
   "source": [
    "## Grid search"
   ]
  },
  {
   "cell_type": "code",
   "execution_count": null,
   "metadata": {},
   "outputs": [],
   "source": [
    "results_columns = [\"model\",\"batch_size\", \"learning_rate\", \"epoch\", \"neurons\", \"mse_all\"]\n",
    "results_columns += [f\"mse{i}\" for i in range(1,horizon+1)] \n",
    "results = pd.DataFrame(columns=results_columns)\n",
    "\n",
    "x_columns = [f\"x{k}\" for k in range(1, input_width+1)]\n",
    "t_columns = [f\"t{k}\" for k in range(1, horizon+1)]\n",
    "t_hat_columns = [f\"t_hat{k}\" for k in range(1, horizon+1)]\n",
    "preds_columns = columns=x_columns+t_columns+t_hat_columns\n",
    "results_preds = pd.DataFrame(columns=preds_columns)\n",
    "\n",
    "epochs_colmns = [f\"epoch{i}\" for i in range(epochs)]\n",
    "\n",
    "Y_test_last = Y_test[:,-1]\n",
    "\n",
    "best_mse = np.inf\n",
    "\n",
    "i = 0\n",
    "for eta in tqdm(eta_list):\n",
    "    for batch in batch_size:\n",
    "        for neurons in neurons_list:\n",
    "            LSTM_model = LSTM(eta, neurons, horizon=horizon)\n",
    "\n",
    "            # Training\n",
    "            history = LSTM_model.fit(X_train, Y_train, \n",
    "                        epochs=epochs, batch_size = batch, \n",
    "                        shuffle=False, callbacks= callbacks,  \n",
    "                        validation_data=(X_valid, Y_valid), verbose=0)\n",
    "\n",
    "            # Prediction\n",
    "            Y_pred_rnn = LSTM_model.predict(X_test)\n",
    "            Y_pred_rnn_last = Y_pred_rnn[:,-1]     \n",
    "            \n",
    "            # Results\n",
    "            mse_val = MSE(Y_test_last, Y_pred_rnn_last)\n",
    "            mse_all = np.mean((Y_test_last - Y_pred_rnn_last) ** 2, axis=0) # The mean of each column \n",
    "            \n",
    "            \n",
    "            # Storing results for all models\n",
    "            res1 = np.array([i, batch, eta, epochs, neurons, mse_val])\n",
    "            res2 = np.array(mse_all)\n",
    "            res = np.concatenate([res1,res2], axis=0)\n",
    "            results.loc[i] = res\n",
    "            results.to_csv(f\"{REPORT_DATA}univariate_LSTM_results.csv\")\n",
    "\n",
    "            # Storing results from the best model\n",
    "            if best_mse > mse_val:\n",
    "                best_mse = mse_val\n",
    "                print(f\"\\nNew best model with MSE = {mse_val} !\\n\")\n",
    "                # Predictions and target for best results\n",
    "                preds_res =  np.concatenate([X_test[...,0], Y_test_last, Y_pred_rnn_last],axis=1)\n",
    "                best_results_preds = pd.DataFrame(preds_res, columns=preds_columns)\n",
    "                best_results_preds.to_csv(f\"{REPORT_DATA}best_models/univariate_LSTM_preds_best.csv\")\n",
    "\n",
    "                \n",
    "                # Best results relative to parameters\n",
    "                best_results = pd.DataFrame(columns=results_columns)\n",
    "                best_results.loc[i] = res\n",
    "                best_results.to_csv(f\"{REPORT_DATA}best_models/univariate_LSTM_results_best.csv\")\n",
    "                \n",
    "                # Model evaluation result            \n",
    "                best_train_val_losses = pd.DataFrame(columns=[\"training_loss\", \"validation_loss\"])\n",
    "                best_train_val_losses[\"training_loss\"] = history.history[\"loss\"]\n",
    "                best_train_val_losses[\"validation_loss\"] = history.history[\"val_loss\"]\n",
    "                best_train_val_losses.to_csv(f\"{REPORT_DATA}best_models/univariate_LSTM_train_val_losses_best.csv\")            \n",
    "                \n",
    "            i += 1"
   ]
  }
 ],
 "metadata": {
  "interpreter": {
   "hash": "f9f85f796d01129d0dd105a088854619f454435301f6ffec2fea96ecbd9be4ac"
  },
  "kernelspec": {
   "display_name": "Python 3.9.5 64-bit",
   "language": "python",
   "name": "python3"
  },
  "language_info": {
   "codemirror_mode": {
    "name": "ipython",
    "version": 3
   },
   "file_extension": ".py",
   "mimetype": "text/x-python",
   "name": "python",
   "nbconvert_exporter": "python",
   "pygments_lexer": "ipython3",
   "version": "3.9.7"
  },
  "orig_nbformat": 4
 },
 "nbformat": 4,
 "nbformat_minor": 2
}
