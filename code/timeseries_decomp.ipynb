{
 "cells": [
  {
   "cell_type": "code",
   "execution_count": null,
   "metadata": {},
   "outputs": [],
   "source": [
    "\n",
    "import pandas as pd\n",
    "import numpy as np\n",
    "import matplotlib.pyplot as plt\n",
    "from statsmodels.tsa.seasonal import seasonal_decompose\n",
    "from matplotlib.pyplot import figure\n",
    "\n",
    "\n",
    "df = pd.read_csv(f\"../data/input_data/MAIN_DATASET.csv\", index_col=0)\n",
    "df.head()"
   ]
  },
  {
   "cell_type": "markdown",
   "metadata": {},
   "source": [
    "##### Adding frequency to datetime to be able to decompose:"
   ]
  },
  {
   "cell_type": "code",
   "execution_count": null,
   "metadata": {},
   "outputs": [],
   "source": [
    "index = pd.date_range(start='2016-01-03-12', periods=len(df), freq=\"H\")\n",
    "\n",
    "\n",
    "freq_series = pd.DataFrame(df[\"NO2_price\"])\n",
    "freq_series[\"Datetime\"] = index\n",
    "freq_series = freq_series.set_index([\"Datetime\"])\n",
    "freq_series.head()"
   ]
  },
  {
   "cell_type": "markdown",
   "metadata": {},
   "source": [
    "#### Decomposition of characteristics:"
   ]
  },
  {
   "cell_type": "code",
   "execution_count": null,
   "metadata": {},
   "outputs": [],
   "source": [
    "result = seasonal_decompose(freq_series, model='add')\n",
    "observedarray = result.observed\n",
    "seasonalarray = result.seasonal\n",
    "trendarray = result.trend\n",
    "residarray = result.resid\n",
    "observedarray.plot(figsize=(12,5), label = \"Observed\")\n",
    "trendarray.plot(figsize=(12,5), label = \"Trend\")\n",
    "residarray.plot(figsize=(12,5), label= \"Residuals\")\n",
    "seasonalarray.plot(figsize=(12,5),label= \"Seasonal\", alpha = 0.4)\n",
    "plt.ylabel(\"Decomposed Characteristics\")\n",
    "plt.legend()\n",
    "plt.savefig(\"../figures/decomposed_characteristics.pdf\", bbox_inches='tight')"
   ]
  },
  {
   "cell_type": "code",
   "execution_count": null,
   "metadata": {},
   "outputs": [],
   "source": [
    "df_NVE = pd.read_csv(f\"../data/input_data/magasin_statistikk_nve.csv\", index_col=0)\n",
    "df_NVE = df_NVE[df_NVE[\"omrnr\" ]== 2]\n",
    "df_NVE = df_NVE[df_NVE[\"omrType\" ]== \"EL\"]\n",
    "df_NVE['year'] = pd.DatetimeIndex(df_NVE['dato_Id']).year\n",
    "df_NVE = df_NVE[df_NVE[\"year\" ]>= 2016]\n",
    "\n",
    "df_NVE.head()\n",
    "df_NVE = df_NVE[[\"fyllingsgrad\",\"dato_Id\"]]\n",
    "df_NVE = df_NVE.set_index([\"dato_Id\"])\n",
    "df_NVE=df_NVE.sort_index()\n",
    "\n",
    "\n",
    "\n",
    "index = pd.date_range(start='2016-01-03', periods=len(df_NVE), freq=\"W\")\n",
    "\n",
    "freq_series = pd.DataFrame(df_NVE[\"fyllingsgrad\"])\n",
    "freq_series[\"Datetime\"] = index\n",
    "freq_series = freq_series.set_index([\"Datetime\"])\n",
    "freq_series.head()\n",
    "result = seasonal_decompose(freq_series, model='add')\n",
    "observedarray = result.observed\n",
    "seasonalarray = result.seasonal\n",
    "trendarray = result.trend\n",
    "residarray = result.resid\n",
    "observedarray.plot(figsize=(12,5), label = \"Observed\")\n",
    "trendarray.plot(figsize=(12,5), label = \"Trend\")\n",
    "residarray.plot(figsize=(12,5), label= \"Residuals\")\n",
    "seasonalarray.plot(figsize=(12,5),label= \"Seasonal\", alpha = 0.4)\n",
    "plt.title(\"Fyllingsgrad - Decomposed\")\n",
    "plt.ylabel(\"Decomposed Characteristics\")\n",
    "\n",
    "plt.legend()\n",
    "plt.savefig(\"../figures/NVE_decomposed_characteristics.pdf\", bbox_inches='tight')"
   ]
  },
  {
   "cell_type": "code",
   "execution_count": null,
   "metadata": {},
   "outputs": [],
   "source": []
  }
 ],
 "metadata": {
  "interpreter": {
   "hash": "1341f2ca8bae0273958fc68fc9062d4567e8214cb67a8c75fe7f4d8d8f4d5eac"
  },
  "kernelspec": {
   "display_name": "Python 3.9.7 64-bit ('geo4300_env': conda)",
   "language": "python",
   "name": "python3"
  },
  "language_info": {
   "codemirror_mode": {
    "name": "ipython",
    "version": 3
   },
   "file_extension": ".py",
   "mimetype": "text/x-python",
   "name": "python",
   "nbconvert_exporter": "python",
   "pygments_lexer": "ipython3",
   "version": "3.9.7"
  },
  "orig_nbformat": 4
 },
 "nbformat": 4,
 "nbformat_minor": 2
}
