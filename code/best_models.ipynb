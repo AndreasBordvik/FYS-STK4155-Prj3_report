{
 "cells": [
  {
   "cell_type": "code",
   "execution_count": 1,
   "metadata": {},
   "outputs": [
    {
     "name": "stderr",
     "output_type": "stream",
     "text": [
      "2021-12-15 23:12:08.626189: W tensorflow/stream_executor/platform/default/dso_loader.cc:64] Could not load dynamic library 'libcudart.so.11.0'; dlerror: libcudart.so.11.0: cannot open shared object file: No such file or directory\n",
      "2021-12-15 23:12:08.626219: I tensorflow/stream_executor/cuda/cudart_stub.cc:29] Ignore above cudart dlerror if you do not have a GPU set up on your machine.\n"
     ]
    }
   ],
   "source": [
    "from sklearn.metrics import mean_absolute_error as MSE\n",
    "from cmcrameri import cm\n",
    "from tqdm import tqdm\n",
    "import seaborn as sns\n",
    "from common import *\n",
    "from models import *"
   ]
  },
  {
   "cell_type": "markdown",
   "metadata": {},
   "source": [
    "# Loading our data"
   ]
  },
  {
   "cell_type": "code",
   "execution_count": 2,
   "metadata": {},
   "outputs": [],
   "source": [
    "df = pd.read_csv(\"../data/input_data/MAIN_DATASET.csv\")\n",
    "\n",
    "price = df['NO2_price'].values.reshape(-1,1)\n",
    "fload = df['NO2_load_forecasted'].values.reshape(-1,1)\n",
    "fgen = df['NO2_generation_forecast'].values.reshape(-1,1)\n",
    "\n",
    "\n",
    "price_days = seperate_column_to_days(price)\n",
    "fload_days = seperate_column_to_days(fload)\n",
    "fgen_days = seperate_column_to_days(fgen)"
   ]
  },
  {
   "cell_type": "markdown",
   "metadata": {},
   "source": [
    "# Structuring our data"
   ]
  },
  {
   "cell_type": "code",
   "execution_count": 3,
   "metadata": {},
   "outputs": [
    {
     "name": "stdout",
     "output_type": "stream",
     "text": [
      "(2145, 192, 3)\n"
     ]
    }
   ],
   "source": [
    "lookbehind = 7\n",
    "input_width = lookbehind*24\n",
    "horizon = 24\n",
    "no_hours = input_width + horizon\n",
    "stride = 24\n",
    "hour_in_days = int(no_hours / stride)\n",
    "\n",
    "price_dataset = []\n",
    "fload_dataset = []\n",
    "fgen_dataset = []\n",
    "\n",
    "for i in range(len(price_days) - hour_in_days+1):\n",
    "    price_dataset.append(np.concatenate((price_days[i:i+hour_in_days])))\n",
    "    fload_dataset.append(np.concatenate((fload_days[i:i+hour_in_days])))\n",
    "    fgen_dataset.append(np.concatenate((fgen_days[i:i+hour_in_days])))\n",
    "\n",
    "price_dataset = np.array(price_dataset)\n",
    "fload_dataset = np.array(fload_dataset)\n",
    "fgen_dataset = np.array(fgen_dataset)\n",
    "\n",
    "scaler = MinMaxScaler()\n",
    "price_dataset = scaler.fit_transform(price_dataset[:,:,0])\n",
    "price_dataset = price_dataset[..., np.newaxis].astype(np.float32)\n",
    "\n",
    "fload_dataset = scaler.fit_transform(fload_dataset[:,:,0])\n",
    "fload_dataset = fload_dataset[..., np.newaxis].astype(np.float32)\n",
    "\n",
    "fgen_dataset = scaler.fit_transform(fgen_dataset[:,:,0])\n",
    "fgen_dataset = fgen_dataset[..., np.newaxis].astype(np.float32)\n",
    "\n",
    "dataset_forecast = np.concatenate((price_dataset, fload_dataset, fgen_dataset), axis=2)\n",
    "\n",
    "n,m,k = dataset_forecast.shape\n",
    "\n",
    "print(dataset_forecast.shape)\n"
   ]
  },
  {
   "cell_type": "markdown",
   "metadata": {},
   "source": [
    "# Train test split"
   ]
  },
  {
   "cell_type": "code",
   "execution_count": 4,
   "metadata": {},
   "outputs": [],
   "source": [
    "train = int(0.7*n)\n",
    "valid = int(0.9*n)\n",
    "x_train, X_train = price_dataset[:train, :input_width], dataset_forecast[:train, :input_width]\n",
    "x_valid, X_valid = price_dataset[train:valid, :input_width], dataset_forecast[train:valid, :input_width]\n",
    "x_test, X_test = price_dataset[valid:, :input_width], dataset_forecast[valid:, :input_width]\n",
    "\n",
    "Y = np.empty((n, input_width, horizon))\n",
    "for step_ahead in range(1, horizon + 1):\n",
    "    Y[:,:, step_ahead - 1] = dataset_forecast[:,step_ahead:step_ahead + input_width, 0]\n",
    "\n",
    "Y_train = Y[:train]\n",
    "Y_valid = Y[train:valid]\n",
    "Y_test = Y[valid:]"
   ]
  },
  {
   "cell_type": "markdown",
   "metadata": {},
   "source": [
    "# Setting up the models"
   ]
  },
  {
   "cell_type": "markdown",
   "metadata": {},
   "source": [
    "## Common parameters"
   ]
  },
  {
   "cell_type": "code",
   "execution_count": 5,
   "metadata": {},
   "outputs": [],
   "source": [
    "epochs = 2\n",
    "loss = \"mse\" \n",
    "optimizer = \"adam\"\n",
    "\n",
    "univ_neurons = 128\n",
    "\n",
    "multi_neurons_first = 128\n",
    "multi_neurons_second = 64\n",
    "filters = 64\n",
    "kernel_size = 3\n",
    "strides = 3"
   ]
  },
  {
   "cell_type": "markdown",
   "metadata": {},
   "source": [
    "# Grid search parameters"
   ]
  },
  {
   "cell_type": "code",
   "execution_count": 6,
   "metadata": {},
   "outputs": [],
   "source": [
    "batch_size = [200, 400, 600, 800]\n",
    "eta_list = np.logspace(-1, -4, 6)"
   ]
  },
  {
   "cell_type": "markdown",
   "metadata": {},
   "source": [
    "# Setting up the univariate SimpleRNN"
   ]
  },
  {
   "cell_type": "code",
   "execution_count": 7,
   "metadata": {},
   "outputs": [
    {
     "name": "stderr",
     "output_type": "stream",
     "text": [
      "2021-12-15 23:12:10.391638: I tensorflow/stream_executor/cuda/cuda_gpu_executor.cc:925] could not open file to read NUMA node: /sys/bus/pci/devices/0000:01:00.0/numa_node\n",
      "Your kernel may have been built without NUMA support.\n",
      "2021-12-15 23:12:10.391744: W tensorflow/stream_executor/platform/default/dso_loader.cc:64] Could not load dynamic library 'libcudart.so.11.0'; dlerror: libcudart.so.11.0: cannot open shared object file: No such file or directory\n",
      "2021-12-15 23:12:10.391807: W tensorflow/stream_executor/platform/default/dso_loader.cc:64] Could not load dynamic library 'libcublas.so.11'; dlerror: libcublas.so.11: cannot open shared object file: No such file or directory\n",
      "2021-12-15 23:12:10.391852: W tensorflow/stream_executor/platform/default/dso_loader.cc:64] Could not load dynamic library 'libcublasLt.so.11'; dlerror: libcublasLt.so.11: cannot open shared object file: No such file or directory\n",
      "2021-12-15 23:12:10.391893: W tensorflow/stream_executor/platform/default/dso_loader.cc:64] Could not load dynamic library 'libcufft.so.10'; dlerror: libcufft.so.10: cannot open shared object file: No such file or directory\n",
      "2021-12-15 23:12:10.391936: W tensorflow/stream_executor/platform/default/dso_loader.cc:64] Could not load dynamic library 'libcurand.so.10'; dlerror: libcurand.so.10: cannot open shared object file: No such file or directory\n",
      "2021-12-15 23:12:10.391977: W tensorflow/stream_executor/platform/default/dso_loader.cc:64] Could not load dynamic library 'libcusolver.so.11'; dlerror: libcusolver.so.11: cannot open shared object file: No such file or directory\n",
      "2021-12-15 23:12:10.392018: W tensorflow/stream_executor/platform/default/dso_loader.cc:64] Could not load dynamic library 'libcusparse.so.11'; dlerror: libcusparse.so.11: cannot open shared object file: No such file or directory\n",
      "2021-12-15 23:12:10.392058: W tensorflow/stream_executor/platform/default/dso_loader.cc:64] Could not load dynamic library 'libcudnn.so.8'; dlerror: libcudnn.so.8: cannot open shared object file: No such file or directory\n",
      "2021-12-15 23:12:10.392065: W tensorflow/core/common_runtime/gpu/gpu_device.cc:1850] Cannot dlopen some GPU libraries. Please make sure the missing libraries mentioned above are installed properly if you would like to use GPU. Follow the guide at https://www.tensorflow.org/install/gpu for how to download and setup the required libraries for your platform.\n",
      "Skipping registering GPU devices...\n",
      "2021-12-15 23:12:10.392409: I tensorflow/core/platform/cpu_feature_guard.cc:151] This TensorFlow binary is optimized with oneAPI Deep Neural Network Library (oneDNN) to use the following CPU instructions in performance-critical operations:  AVX2 FMA\n",
      "To enable them in other operations, rebuild TensorFlow with the appropriate compiler flags.\n"
     ]
    },
    {
     "name": "stdout",
     "output_type": "stream",
     "text": [
      "Epoch 1/2\n",
      "16/16 [==============================] - 5s 236ms/step - loss: 0.0457 - val_loss: 0.0052\n",
      "Epoch 2/2\n",
      "16/16 [==============================] - 2s 151ms/step - loss: 0.0057 - val_loss: 0.0031\n"
     ]
    }
   ],
   "source": [
    "rnn = keras.models.Sequential([\n",
    "    keras.layers.SimpleRNN(univ_neurons, return_sequences=True, input_shape=[None, 1]),\n",
    "    keras.layers.SimpleRNN(univ_neurons, return_sequences=True),\n",
    "    keras.layers.Dense(horizon)\n",
    "])\n",
    "\n",
    "rnn.compile(loss=loss, optimizer=optimizer)\n",
    "rnn.fit(x_train, Y_train, epochs=epochs, batch_size = 100, validation_data=(x_valid, Y_valid))\n",
    "Y_pred_rnn = rnn.predict(x_test)"
   ]
  },
  {
   "cell_type": "code",
   "execution_count": 8,
   "metadata": {},
   "outputs": [
    {
     "name": "stdout",
     "output_type": "stream",
     "text": [
      "(215, 168, 24)\n",
      "(215, 168, 24)\n",
      "0.13920488719620555\n"
     ]
    }
   ],
   "source": [
    "print(Y_test.shape)\n",
    "print(Y_pred_rnn.shape)\n",
    "\n",
    "print(MSE(Y_test[:,-1], Y_pred_rnn[:,-1]))"
   ]
  },
  {
   "cell_type": "markdown",
   "metadata": {},
   "source": [
    "# Setting up the multivariate ConvGRU"
   ]
  },
  {
   "cell_type": "code",
   "execution_count": 9,
   "metadata": {},
   "outputs": [
    {
     "name": "stdout",
     "output_type": "stream",
     "text": [
      "X_train.shape=(1501, 168, 3)\n",
      "Y_train.shape=(1501, 168, 24)\n",
      "X_valid.shape=(429, 168, 3)\n",
      "Y_valid.shape=(429, 168, 24)\n",
      "X_train.shape=(1501, 168, 3)\n",
      "Y_train[:,2::3].shape=(1501, 56, 24)\n",
      "X_valid.shape=(429, 168, 3)\n",
      "Y_valid[:,2::3].shape=(429, 56, 24)\n"
     ]
    }
   ],
   "source": [
    "print(f\"{X_train.shape=}\")\n",
    "print(f\"{Y_train.shape=}\")\n",
    "print(f\"{X_valid.shape=}\")\n",
    "print(f\"{Y_valid.shape=}\")\n",
    "\n",
    "print(f\"{X_train.shape=}\")\n",
    "print(f\"{Y_train[:,2::3].shape=}\")\n",
    "print(f\"{X_valid.shape=}\")\n",
    "print(f\"{Y_valid[:,2::3].shape=}\")"
   ]
  },
  {
   "cell_type": "code",
   "execution_count": 10,
   "metadata": {},
   "outputs": [
    {
     "name": "stdout",
     "output_type": "stream",
     "text": [
      "Epoch 1/2\n",
      "16/16 [==============================] - 5s 136ms/step - loss: 0.0173 - val_loss: 0.0118\n",
      "Epoch 2/2\n",
      "16/16 [==============================] - 2s 99ms/step - loss: 0.0057 - val_loss: 0.0062\n",
      "0.16341531596554118\n"
     ]
    }
   ],
   "source": [
    "gru = keras.models.Sequential([\n",
    "    keras.layers.Conv1D(filters=filters, kernel_size=kernel_size, strides=strides, padding=\"valid\", input_shape=[None, k]),\n",
    "    keras.layers.GRU(multi_neurons_first, return_sequences=True),\n",
    "    keras.layers.GRU(multi_neurons_second, return_sequences=True),\n",
    "    keras.layers.Dense(horizon)\n",
    "])\n",
    "\n",
    "gru.compile(loss=loss, optimizer=optimizer)\n",
    "gru.fit(X_train, Y_train[:,2::3], epochs=epochs, batch_size=100, validation_data=(X_valid, Y_valid[:,2::3]))\n",
    "Y_pred_gru = gru.predict(X_test)\n",
    "\n",
    "print(MSE(Y_test[:,-1], Y_pred_gru[:,-1]))"
   ]
  },
  {
   "cell_type": "code",
   "execution_count": null,
   "metadata": {},
   "outputs": [],
   "source": []
  }
 ],
 "metadata": {
  "interpreter": {
   "hash": "f9f85f796d01129d0dd105a088854619f454435301f6ffec2fea96ecbd9be4ac"
  },
  "kernelspec": {
   "display_name": "Python 3.9.5 64-bit",
   "language": "python",
   "name": "python3"
  },
  "language_info": {
   "codemirror_mode": {
    "name": "ipython",
    "version": 3
   },
   "file_extension": ".py",
   "mimetype": "text/x-python",
   "name": "python",
   "nbconvert_exporter": "python",
   "pygments_lexer": "ipython3",
   "version": "3.9.7"
  },
  "orig_nbformat": 4
 },
 "nbformat": 4,
 "nbformat_minor": 2
}
