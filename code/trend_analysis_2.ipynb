{
 "cells": [
  {
   "cell_type": "code",
   "execution_count": null,
   "metadata": {},
   "outputs": [],
   "source": [
    "import pandas as pd\n",
    "import numpy as np\n",
    "import matplotlib.pyplot as plt\n",
    "from statsmodels.tsa.stattools import adfuller\n",
    "from statsmodels.graphics.tsaplots import plot_acf,plot_pacf\n",
    "from statsmodels.regression.linear_model import yule_walker\n",
    "from sklearn.metrics import r2_score\n",
    "from sklearn.model_selection import TimeSeriesSplit"
   ]
  },
  {
   "cell_type": "code",
   "execution_count": null,
   "metadata": {},
   "outputs": [],
   "source": [
    "df = pd.read_csv(f\"../data/input_data/MAIN_DATASET.csv\", index_col=[0])\n",
    "df['year'] = pd.DatetimeIndex(df['date_time']).year\n",
    "df = df[df['year'] == 2021]\n",
    "df.head()\n"
   ]
  },
  {
   "cell_type": "code",
   "execution_count": null,
   "metadata": {},
   "outputs": [],
   "source": [
    "day_ahead_prices = df[[\"dato_id\",\"NO2_price\", \"NO5_price\"]].head(200)\n",
    "day_ahead_prices.head()"
   ]
  },
  {
   "cell_type": "code",
   "execution_count": null,
   "metadata": {},
   "outputs": [],
   "source": [
    "ax = day_ahead_prices.plot()\n",
    "ax.set_ylabel(\"Day Ahead Price\")\n",
    "plt.show()"
   ]
  },
  {
   "cell_type": "markdown",
   "metadata": {},
   "source": [
    "### Test if data is stationary: "
   ]
  },
  {
   "cell_type": "code",
   "execution_count": null,
   "metadata": {},
   "outputs": [],
   "source": [
    "def hypothesis_test(df:pd.DataFrame):\n",
    "    result = adfuller(df)\n",
    "    #print(result)\n",
    "    p_value = result[1]\n",
    "    if p_value > 0.005: \n",
    "        print(f\"{p_value=}, differencing data\")\n",
    "        df = df.diff()\n",
    "        return df\n",
    "    else:\n",
    "        print(f\"{p_value=}>0.05, no need to difference data\")\n",
    "        return df\n",
    "\n",
    "differenced_NO2 = hypothesis_test(day_ahead_prices[\"NO2_price\"])\n",
    "\n",
    "ax1 = differenced_NO2.plot()\n",
    "day_ahead_prices[\"NO2_price\"].plot(ax=ax1)\n",
    "ax1.set_ylabel(\"Day Ahead Price\")\n",
    "plt.show()\n",
    "\n",
    "differenced_NO5 = hypothesis_test(day_ahead_prices[\"NO5_price\"])\n",
    "\n",
    "ax2 = differenced_NO5.plot()\n",
    "day_ahead_prices[\"NO5_price\"].plot(ax=ax2)\n",
    "ax2.set_ylabel(\"Day Ahead Price\")\n",
    "plt.show()"
   ]
  },
  {
   "cell_type": "code",
   "execution_count": null,
   "metadata": {},
   "outputs": [],
   "source": [
    "plot_acf(differenced_NO5.dropna(), lags=24)\n",
    "plt.show()"
   ]
  },
  {
   "cell_type": "code",
   "execution_count": null,
   "metadata": {},
   "outputs": [],
   "source": [
    "plot_pacf(differenced_NO5.dropna(),method='ywm', lags = 24)\n",
    "plt.show()"
   ]
  },
  {
   "cell_type": "code",
   "execution_count": null,
   "metadata": {},
   "outputs": [],
   "source": [
    "from sklearn.metrics import r2_score\n",
    "\n",
    "\n",
    "n_steps = 10\n",
    "\n",
    "train = list(differenced_NO5.dropna())[:-n_steps]\n",
    "test = list(day_ahead_prices[\"NO5_price\"])[-n_steps:]\n",
    "\n",
    "coefficients, sigma = yule_walker(train, order = 24)\n",
    "\n",
    "# Make a list of differenced values\n",
    "val_list = list(train)\n",
    "# Reverse the list so that the order corresponds with the order of the coefficients\n",
    "val_list.reverse()\n",
    "# Define the number of years to predict\n",
    "\n",
    "# For each year to predict\n",
    "for i in range(n_steps):\n",
    "    \n",
    "    # Compute the new value as the sum of lagged values multiplied by their corresponding coefficient\n",
    "    new_val = 0\n",
    "    for j in range(len(coefficients)):\n",
    "        \n",
    "        new_val += coefficients[j] * val_list[j]\n",
    "    \n",
    "    # Insert the new value at the beginning of the list\n",
    "    val_list.insert(0, new_val)\n",
    "\n",
    "# Redo the reverso to have the order of time\n",
    "val_list.reverse()\n",
    "\n",
    "# Add the original first value back into the list and do a cumulative sum to undo the differencing \n",
    "val_list = [day_ahead_prices[\"NO5_price\"].values[0]] + val_list\n",
    "new_val_list = pd.Series(val_list).cumsum()\n",
    "\n",
    "# Plot the newly obtained list\n",
    "validation = pd.DataFrame({\n",
    "    'pred': new_val_list,\n",
    "    'original': day_ahead_prices[\"NO5_price\"].reset_index(drop=True)\n",
    "     })\n",
    "\n",
    "# print('Test R2:', r2_score(validation.iloc[-10:, 0], validation.iloc[-10:, 1]))\n",
    "\n",
    "# Plot the newly obtained list\n",
    "plot_window = n_steps+12\n",
    "plt.plot(range(len(validation)-plot_window, len(validation)),validation[\"original\"].tail(plot_window))\n",
    "plt.plot(range(len(validation)-plot_window, len(validation)),validation[\"pred\"].tail(plot_window))\n",
    "plt.legend(validation.columns)\n",
    "plt.ylabel('Day Ahead Price')\n",
    "plt.xlabel('t')\n",
    "plt.show()"
   ]
  },
  {
   "cell_type": "code",
   "execution_count": null,
   "metadata": {},
   "outputs": [],
   "source": []
  },
  {
   "cell_type": "code",
   "execution_count": null,
   "metadata": {},
   "outputs": [],
   "source": []
  }
 ],
 "metadata": {
  "interpreter": {
   "hash": "1341f2ca8bae0273958fc68fc9062d4567e8214cb67a8c75fe7f4d8d8f4d5eac"
  },
  "kernelspec": {
   "display_name": "Python 3.9.7 64-bit ('geo4300_env': conda)",
   "language": "python",
   "name": "python3"
  },
  "language_info": {
   "codemirror_mode": {
    "name": "ipython",
    "version": 3
   },
   "file_extension": ".py",
   "mimetype": "text/x-python",
   "name": "python",
   "nbconvert_exporter": "python",
   "pygments_lexer": "ipython3",
   "version": "3.9.7"
  },
  "orig_nbformat": 4
 },
 "nbformat": 4,
 "nbformat_minor": 2
}
