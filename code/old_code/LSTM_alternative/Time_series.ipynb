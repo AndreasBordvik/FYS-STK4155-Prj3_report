{
 "cells": [
  {
   "cell_type": "markdown",
   "metadata": {},
   "source": [
    "## Imports and data loading"
   ]
  },
  {
   "cell_type": "code",
   "execution_count": 1,
   "metadata": {},
   "outputs": [],
   "source": [
    "import numpy as np\n",
    "import pandas as pd\n",
    "import seaborn as sns\n",
    "import matplotlib.pyplot as plt\n",
    "from sklearn.linear_model import LinearRegression\n",
    "from sklearn.metrics import mean_squared_error as MSE\n",
    "from sklearn.svm import SVR\n",
    "import tensorflow as tf\n",
    "from tensorflow.keras.models import Sequential\n",
    "from tensorflow.keras.layers import Dense, Dropout, LSTM, BatchNormalization, Bidirectional, TimeDistributed\n",
    "from tensorflow.keras.callbacks import Callback, EarlyStopping, ReduceLROnPlateau, History\n",
    "from xgboost import XGBRegressor\n",
    "from sklearn.model_selection import train_test_split\n",
    "from sklearn.preprocessing import MinMaxScaler\n",
    "\n",
    "plt.rcParams.update({\n",
    "    \"text.usetex\": True,\n",
    "    \"font.family\": \"serif\",\n",
    "    \"font.serif\": [\"Palatino\"],\n",
    "    \"font.size\": 10,\n",
    "})\n",
    "\n",
    "def RMSE(true, predicted):\n",
    "    MSE_score = MSE(true, predicted)\n",
    "    return np.round(np.sqrt(MSE_score), decimals=4)"
   ]
  },
  {
   "cell_type": "code",
   "execution_count": null,
   "metadata": {},
   "outputs": [],
   "source": []
  },
  {
   "cell_type": "code",
   "execution_count": 2,
   "metadata": {},
   "outputs": [
    {
     "name": "stdout",
     "output_type": "stream",
     "text": [
      "(42901, 6)\n",
      "*** (42901, 1)\n"
     ]
    },
    {
     "data": {
      "text/html": [
       "<div>\n",
       "<style scoped>\n",
       "    .dataframe tbody tr th:only-of-type {\n",
       "        vertical-align: middle;\n",
       "    }\n",
       "\n",
       "    .dataframe tbody tr th {\n",
       "        vertical-align: top;\n",
       "    }\n",
       "\n",
       "    .dataframe thead th {\n",
       "        text-align: right;\n",
       "    }\n",
       "</style>\n",
       "<table border=\"1\" class=\"dataframe\">\n",
       "  <thead>\n",
       "    <tr style=\"text-align: right;\">\n",
       "      <th></th>\n",
       "      <th>NO5_price</th>\n",
       "      <th>NO5_load_actual</th>\n",
       "      <th>NO5_load_delta</th>\n",
       "      <th>NO5_generation_actual</th>\n",
       "      <th>NO5_generation_delta</th>\n",
       "      <th>dato_id</th>\n",
       "    </tr>\n",
       "  </thead>\n",
       "  <tbody>\n",
       "    <tr>\n",
       "      <th>34317</th>\n",
       "      <td>0.619305</td>\n",
       "      <td>0.461089</td>\n",
       "      <td>0.663352</td>\n",
       "      <td>0.641362</td>\n",
       "      <td>0.648132</td>\n",
       "      <td>2019-12-03 09:00:00+01:00</td>\n",
       "    </tr>\n",
       "    <tr>\n",
       "      <th>34318</th>\n",
       "      <td>0.527746</td>\n",
       "      <td>0.470009</td>\n",
       "      <td>0.591529</td>\n",
       "      <td>0.695433</td>\n",
       "      <td>0.591000</td>\n",
       "      <td>2019-12-03 10:00:00+01:00</td>\n",
       "    </tr>\n",
       "    <tr>\n",
       "      <th>34319</th>\n",
       "      <td>0.517467</td>\n",
       "      <td>0.475854</td>\n",
       "      <td>0.582689</td>\n",
       "      <td>0.712387</td>\n",
       "      <td>0.573001</td>\n",
       "      <td>2019-12-03 11:00:00+01:00</td>\n",
       "    </tr>\n",
       "  </tbody>\n",
       "</table>\n",
       "</div>"
      ],
      "text/plain": [
       "       NO5_price  NO5_load_actual  NO5_load_delta  NO5_generation_actual  \\\n",
       "34317   0.619305         0.461089        0.663352               0.641362   \n",
       "34318   0.527746         0.470009        0.591529               0.695433   \n",
       "34319   0.517467         0.475854        0.582689               0.712387   \n",
       "\n",
       "       NO5_generation_delta                    dato_id  \n",
       "34317              0.648132  2019-12-03 09:00:00+01:00  \n",
       "34318              0.591000  2019-12-03 10:00:00+01:00  \n",
       "34319              0.573001  2019-12-03 11:00:00+01:00  "
      ]
     },
     "metadata": {},
     "output_type": "display_data"
    },
    {
     "name": "stdout",
     "output_type": "stream",
     "text": [
      "(34320, 6)\n"
     ]
    },
    {
     "data": {
      "text/html": [
       "<div>\n",
       "<style scoped>\n",
       "    .dataframe tbody tr th:only-of-type {\n",
       "        vertical-align: middle;\n",
       "    }\n",
       "\n",
       "    .dataframe tbody tr th {\n",
       "        vertical-align: top;\n",
       "    }\n",
       "\n",
       "    .dataframe thead th {\n",
       "        text-align: right;\n",
       "    }\n",
       "</style>\n",
       "<table border=\"1\" class=\"dataframe\">\n",
       "  <thead>\n",
       "    <tr style=\"text-align: right;\">\n",
       "      <th></th>\n",
       "      <th>NO5_price</th>\n",
       "      <th>NO5_load_actual</th>\n",
       "      <th>NO5_load_delta</th>\n",
       "      <th>NO5_generation_actual</th>\n",
       "      <th>NO5_generation_delta</th>\n",
       "      <th>dato_id</th>\n",
       "    </tr>\n",
       "  </thead>\n",
       "  <tbody>\n",
       "    <tr>\n",
       "      <th>34320</th>\n",
       "      <td>0.482011</td>\n",
       "      <td>0.467856</td>\n",
       "      <td>0.589687</td>\n",
       "      <td>0.685047</td>\n",
       "      <td>0.588751</td>\n",
       "      <td>2019-12-03 12:00:00+01:00</td>\n",
       "    </tr>\n",
       "    <tr>\n",
       "      <th>34321</th>\n",
       "      <td>0.406133</td>\n",
       "      <td>0.441403</td>\n",
       "      <td>0.626151</td>\n",
       "      <td>0.661372</td>\n",
       "      <td>0.594777</td>\n",
       "      <td>2019-12-03 13:00:00+01:00</td>\n",
       "    </tr>\n",
       "    <tr>\n",
       "      <th>34322</th>\n",
       "      <td>0.402039</td>\n",
       "      <td>0.430022</td>\n",
       "      <td>0.625783</td>\n",
       "      <td>0.620284</td>\n",
       "      <td>0.622097</td>\n",
       "      <td>2019-12-03 14:00:00+01:00</td>\n",
       "    </tr>\n",
       "  </tbody>\n",
       "</table>\n",
       "</div>"
      ],
      "text/plain": [
       "       NO5_price  NO5_load_actual  NO5_load_delta  NO5_generation_actual  \\\n",
       "34320   0.482011         0.467856        0.589687               0.685047   \n",
       "34321   0.406133         0.441403        0.626151               0.661372   \n",
       "34322   0.402039         0.430022        0.625783               0.620284   \n",
       "\n",
       "       NO5_generation_delta                    dato_id  \n",
       "34320              0.588751  2019-12-03 12:00:00+01:00  \n",
       "34321              0.594777  2019-12-03 13:00:00+01:00  \n",
       "34322              0.622097  2019-12-03 14:00:00+01:00  "
      ]
     },
     "metadata": {},
     "output_type": "display_data"
    },
    {
     "name": "stdout",
     "output_type": "stream",
     "text": [
      "(8581, 6)\n",
      "NO5_price                                      1.0\n",
      "NO5_load_actual                                1.0\n",
      "NO5_load_delta                                 1.0\n",
      "NO5_generation_actual                          1.0\n",
      "NO5_generation_delta                       0.96826\n",
      "dato_id                  2019-12-03 11:00:00+01:00\n",
      "dtype: object\n",
      "NO5_price                                  0.01751\n",
      "NO5_load_actual                                0.0\n",
      "NO5_load_delta                                 0.0\n",
      "NO5_generation_actual                          0.0\n",
      "NO5_generation_delta                           0.0\n",
      "dato_id                  2016-01-03 12:00:00+01:00\n",
      "dtype: object\n",
      "NO5_price                                 0.482011\n",
      "NO5_load_actual                           0.734851\n",
      "NO5_load_delta                            0.853039\n",
      "NO5_generation_actual                     0.863449\n",
      "NO5_generation_delta                           1.0\n",
      "dato_id                  2020-11-25 00:00:00+01:00\n",
      "dtype: object\n",
      "NO5_price                                      0.0\n",
      "NO5_load_actual                           0.091972\n",
      "NO5_load_delta                            0.264457\n",
      "NO5_generation_actual                     0.052238\n",
      "NO5_generation_delta                      0.475131\n",
      "dato_id                  2019-12-03 12:00:00+01:00\n",
      "dtype: object\n"
     ]
    }
   ],
   "source": [
    "# Training data\n",
    "training_df = pd.read_csv(\"MAIN_DATASET.csv\")[[\"NO5_price\", \"NO5_load_actual\",\"NO5_load_delta\", \"NO5_generation_actual\", \"NO5_generation_delta\", \"dato_id\"]][:-8760]; print(training_df.shape)\n",
    "\n",
    "scaler = MinMaxScaler()\n",
    "\n",
    "print(\"***\",training_df[\"NO5_price\"].values.reshape(-1,1).shape)\n",
    "\n",
    "training_df[\"NO5_price\"] = scaler.fit_transform(training_df[\"NO5_price\"].values.reshape(-1,1))\n",
    "training_df[\"NO5_load_actual\"] = scaler.fit_transform(training_df[\"NO5_load_actual\"].values.reshape(-1,1))\n",
    "training_df[\"NO5_load_delta\"] = scaler.fit_transform(training_df[\"NO5_load_delta\"].values.reshape(-1,1))\n",
    "training_df[\"NO5_generation_actual\"] = scaler.fit_transform(training_df[\"NO5_generation_actual\"].values.reshape(-1,1))\n",
    "training_df[\"NO5_generation_delta\"] = scaler.fit_transform(training_df[\"NO5_generation_delta\"].values.reshape(-1,1))\n",
    "\n",
    "# Forecast solutions\n",
    "training_df, forcast_sol_df = train_test_split(training_df, shuffle=False, test_size=0.2, random_state=4155)\n",
    "\n",
    "# Displaying the loaded data\n",
    "display(training_df.tail(3))\n",
    "print(training_df.shape)\n",
    "display(forcast_sol_df.head(3))\n",
    "print(forcast_sol_df.shape)\n",
    "\n",
    "print(training_df.max())\n",
    "print(training_df.min())\n",
    "print(forcast_sol_df.max())\n",
    "print(forcast_sol_df.min())"
   ]
  },
  {
   "cell_type": "markdown",
   "metadata": {},
   "source": [
    "## Time series data processing"
   ]
  },
  {
   "cell_type": "markdown",
   "metadata": {},
   "source": [
    "### Sliding window process"
   ]
  },
  {
   "cell_type": "code",
   "execution_count": 3,
   "metadata": {},
   "outputs": [],
   "source": [
    "def create_time_series_data(raw_train_df, raw_forcast_df, nbf_features, nbf_outputs, column_key, column_suffix=\"\", include_target_outputs=True):\n",
    "\n",
    "    nbf_columns = nbf_features + nbf_outputs\n",
    "    \n",
    "    # Timeseries combining training and solutions\n",
    "    train_and_forcast_df = pd.concat([raw_train_df, raw_forcast_df], axis=0)\n",
    "    ts_df_combined, ts_data_combined = sliding_window_algorithm(train_and_forcast_df,nbf_columns, nbf_features, nbf_outputs, column_key, column_suffix, include_target_outputs)\n",
    "    ts_df_combined.to_csv(\"timeseries_combined.csv\")\n",
    "    \n",
    "    # Timeseries training only\n",
    "    ts_df_train, ts_data_train = sliding_window_algorithm(raw_train_df,nbf_columns, nbf_features, nbf_outputs, column_key, column_suffix, include_target_outputs)\n",
    "    ts_df_train.to_csv(\"timeseries_train.csv\")\n",
    "    \n",
    "    # Forcast solution only\n",
    "    ts_df_forcast, ts_data_forcast = sliding_window_algorithm(raw_forcast_df,nbf_columns, nbf_features, nbf_outputs, column_key, column_suffix, include_target_outputs)\n",
    "    ts_df_forcast.to_csv(\"timeseries_forcast.csv\")\n",
    "    n_forcasts = raw_forcast_df.shape[0]\n",
    "    training_data_df = ts_df_combined[:-n_forcasts]; print(\"training_data_df.shape:\", training_data_df.shape)\n",
    "    \n",
    "    # Adding timestamp to the training data frame \n",
    "    train_timestamps_df = raw_train_df[\"dato_id\"][nbf_features:]; \n",
    "    if(nbf_outputs>1):\n",
    "        train_timestamp = train_timestamps_df.to_numpy()[ :(-nbf_outputs)+1]\n",
    "    else:\n",
    "        train_timestamp = train_timestamps_df.to_numpy()\n",
    "    \n",
    "    training_data_df.insert(0,'dato_id',train_timestamp)\n",
    "    training_data_df.to_csv(\"training_data_processed.csv\")\n",
    "\n",
    "    # Adding timestamp to the evaluation data frame\n",
    "    evaluation_data_df = ts_df_combined[-n_forcasts:]; print(\"evaluation_data_df:\", evaluation_data_df.shape)\n",
    "    eval_timestamps_df = raw_forcast_df[\"dato_id\"]\n",
    "    evaluation_data_df.insert(0,'dato_id',eval_timestamps_df.to_numpy())\n",
    "    evaluation_data_df.to_csv(\"evaluation_data_processed.csv\")\n",
    "    \n",
    "    # Creating numerical and trainable data\n",
    "    y_train = training_data_df.iloc[:, 1+nbf_features:].to_numpy()\n",
    "    x_train = training_data_df.iloc[:, 1:1+nbf_features].to_numpy()\n",
    "    \n",
    "    # Creating numerical evaluation data\n",
    "    y_test = evaluation_data_df.iloc[:, 1+nbf_features:].to_numpy()\n",
    "    x_test = evaluation_data_df.iloc[:, 1:1+nbf_features].to_numpy()\n",
    "    \n",
    "    return x_train, y_train, x_test, y_test, training_data_df, evaluation_data_df\n",
    "\n",
    "\n",
    "def sliding_window_algorithm(raw_data_df, nbf_columns, input_window, output_window, column_key, column_suffix, include_target_outputs):\n",
    "    raw_data = raw_data_df[column_key].to_numpy()\n",
    "    dim0 = raw_data.shape[0] - (nbf_columns - 1) # Number of time-slices\n",
    "    dim1 = nbf_columns # Time-step length including input window and output window\n",
    "    data = np.zeros((dim0,dim1)) # Time series matrix\n",
    "    data[0, :] = raw_data[:dim1] # First initial sample/time-slice (n equals 0)\n",
    "    n = 1 # n is the count variable\n",
    "    \n",
    "    # Looping through the initial input data and constucting the \n",
    "    # time series data based on the sliding window approach. \n",
    "    # See the report for more descriptions\n",
    "    for j in range(dim1, raw_data.shape[0]):\n",
    "        data[n, :-1] = data[n-1, 1:]\n",
    "        data[n, nbf_columns-1:] = raw_data[j]\n",
    "        n += 1\n",
    "\n",
    "    if include_target_outputs:\n",
    "        # Creating dataframe    \n",
    "        feature_names = [f\"x{i}_{column_suffix}\" for i in range(1,input_window+1)]\n",
    "        if(output_window > 1):\n",
    "            output_names = [f\"y{i}_{column_suffix}\" for i in range(1,output_window+1)]    \n",
    "        else:\n",
    "            output_names = [f\"y_{column_suffix}\"]\n",
    "        \n",
    "        time_series_df = pd.DataFrame(data=data, columns=feature_names+output_names)\n",
    "    else:\n",
    "        feature_names = [f\"x{i}_{column_suffix}\" for i in range(1,input_window+2)]\n",
    "        time_series_df = pd.DataFrame(data=data, columns=feature_names)\n",
    "\n",
    "    return time_series_df, data"
   ]
  },
  {
   "cell_type": "markdown",
   "metadata": {},
   "source": [
    "## Create windowed time series data"
   ]
  },
  {
   "cell_type": "code",
   "execution_count": 4,
   "metadata": {},
   "outputs": [
    {
     "name": "stdout",
     "output_type": "stream",
     "text": [
      "training_data_df.shape: (34319, 2)\n",
      "evaluation_data_df: (8581, 2)\n"
     ]
    },
    {
     "data": {
      "text/html": [
       "<div>\n",
       "<style scoped>\n",
       "    .dataframe tbody tr th:only-of-type {\n",
       "        vertical-align: middle;\n",
       "    }\n",
       "\n",
       "    .dataframe tbody tr th {\n",
       "        vertical-align: top;\n",
       "    }\n",
       "\n",
       "    .dataframe thead th {\n",
       "        text-align: right;\n",
       "    }\n",
       "</style>\n",
       "<table border=\"1\" class=\"dataframe\">\n",
       "  <thead>\n",
       "    <tr style=\"text-align: right;\">\n",
       "      <th></th>\n",
       "      <th>dato_id</th>\n",
       "      <th>x1_GEN</th>\n",
       "      <th>y_GEN</th>\n",
       "    </tr>\n",
       "  </thead>\n",
       "  <tbody>\n",
       "    <tr>\n",
       "      <th>0</th>\n",
       "      <td>2016-01-03 13:00:00+01:00</td>\n",
       "      <td>0.655926</td>\n",
       "      <td>0.641302</td>\n",
       "    </tr>\n",
       "    <tr>\n",
       "      <th>1</th>\n",
       "      <td>2016-01-03 14:00:00+01:00</td>\n",
       "      <td>0.641302</td>\n",
       "      <td>0.624588</td>\n",
       "    </tr>\n",
       "    <tr>\n",
       "      <th>2</th>\n",
       "      <td>2016-01-03 15:00:00+01:00</td>\n",
       "      <td>0.624588</td>\n",
       "      <td>0.584733</td>\n",
       "    </tr>\n",
       "    <tr>\n",
       "      <th>3</th>\n",
       "      <td>2016-01-03 16:00:00+01:00</td>\n",
       "      <td>0.584733</td>\n",
       "      <td>0.563600</td>\n",
       "    </tr>\n",
       "    <tr>\n",
       "      <th>4</th>\n",
       "      <td>2016-01-03 17:00:00+01:00</td>\n",
       "      <td>0.563600</td>\n",
       "      <td>0.532342</td>\n",
       "    </tr>\n",
       "  </tbody>\n",
       "</table>\n",
       "</div>"
      ],
      "text/plain": [
       "                     dato_id    x1_GEN     y_GEN\n",
       "0  2016-01-03 13:00:00+01:00  0.655926  0.641302\n",
       "1  2016-01-03 14:00:00+01:00  0.641302  0.624588\n",
       "2  2016-01-03 15:00:00+01:00  0.624588  0.584733\n",
       "3  2016-01-03 16:00:00+01:00  0.584733  0.563600\n",
       "4  2016-01-03 17:00:00+01:00  0.563600  0.532342"
      ]
     },
     "metadata": {},
     "output_type": "display_data"
    },
    {
     "data": {
      "text/html": [
       "<div>\n",
       "<style scoped>\n",
       "    .dataframe tbody tr th:only-of-type {\n",
       "        vertical-align: middle;\n",
       "    }\n",
       "\n",
       "    .dataframe tbody tr th {\n",
       "        vertical-align: top;\n",
       "    }\n",
       "\n",
       "    .dataframe thead th {\n",
       "        text-align: right;\n",
       "    }\n",
       "</style>\n",
       "<table border=\"1\" class=\"dataframe\">\n",
       "  <thead>\n",
       "    <tr style=\"text-align: right;\">\n",
       "      <th></th>\n",
       "      <th>dato_id</th>\n",
       "      <th>x1_GEN</th>\n",
       "      <th>y_GEN</th>\n",
       "    </tr>\n",
       "  </thead>\n",
       "  <tbody>\n",
       "    <tr>\n",
       "      <th>34319</th>\n",
       "      <td>2019-12-03 12:00:00+01:00</td>\n",
       "      <td>0.573001</td>\n",
       "      <td>0.588751</td>\n",
       "    </tr>\n",
       "    <tr>\n",
       "      <th>34320</th>\n",
       "      <td>2019-12-03 13:00:00+01:00</td>\n",
       "      <td>0.588751</td>\n",
       "      <td>0.594777</td>\n",
       "    </tr>\n",
       "    <tr>\n",
       "      <th>34321</th>\n",
       "      <td>2019-12-03 14:00:00+01:00</td>\n",
       "      <td>0.594777</td>\n",
       "      <td>0.622097</td>\n",
       "    </tr>\n",
       "    <tr>\n",
       "      <th>34322</th>\n",
       "      <td>2019-12-03 15:00:00+01:00</td>\n",
       "      <td>0.622097</td>\n",
       "      <td>0.596625</td>\n",
       "    </tr>\n",
       "    <tr>\n",
       "      <th>34323</th>\n",
       "      <td>2019-12-03 16:00:00+01:00</td>\n",
       "      <td>0.596625</td>\n",
       "      <td>0.580956</td>\n",
       "    </tr>\n",
       "  </tbody>\n",
       "</table>\n",
       "</div>"
      ],
      "text/plain": [
       "                         dato_id    x1_GEN     y_GEN\n",
       "34319  2019-12-03 12:00:00+01:00  0.573001  0.588751\n",
       "34320  2019-12-03 13:00:00+01:00  0.588751  0.594777\n",
       "34321  2019-12-03 14:00:00+01:00  0.594777  0.622097\n",
       "34322  2019-12-03 15:00:00+01:00  0.622097  0.596625\n",
       "34323  2019-12-03 16:00:00+01:00  0.596625  0.580956"
      ]
     },
     "metadata": {},
     "output_type": "display_data"
    },
    {
     "name": "stdout",
     "output_type": "stream",
     "text": [
      "(34319, 1)\n"
     ]
    }
   ],
   "source": [
    "# Time series slicing parameters\n",
    "nbf_features = input_window = 1 \n",
    "nbf_outputs = output_window = 1\n",
    "\n",
    "generation_feature = \"NO5_generation_delta\"\n",
    "# generation_feature = \"NO5_generation_actual\"\n",
    "\n",
    "# Creating time series traing and evaluation (test) data besed on sliding window approach\n",
    "x_train_GEN, y_train_GEN, x_test_GEN, y_test_GEN, train_df_GEN, eval_df_GEN = create_time_series_data(training_df, \n",
    "                                                                                                    forcast_sol_df, \n",
    "                                                                                                    nbf_features, \n",
    "                                                                                                    nbf_outputs, \n",
    "                                                                                                    column_key=generation_feature, \n",
    "                                                                                                    column_suffix=\"GEN\",\n",
    "                                                                                                    include_target_outputs=True)\n",
    "display(train_df_GEN.head())\n",
    "display(eval_df_GEN.head())\n",
    "\n",
    "print(x_train_GEN.shape)"
   ]
  },
  {
   "cell_type": "code",
   "execution_count": 6,
   "metadata": {},
   "outputs": [
    {
     "name": "stdout",
     "output_type": "stream",
     "text": [
      "training_data_df.shape: (34225, 96)\n",
      "evaluation_data_df: (8581, 96)\n"
     ]
    },
    {
     "data": {
      "text/html": [
       "<div>\n",
       "<style scoped>\n",
       "    .dataframe tbody tr th:only-of-type {\n",
       "        vertical-align: middle;\n",
       "    }\n",
       "\n",
       "    .dataframe tbody tr th {\n",
       "        vertical-align: top;\n",
       "    }\n",
       "\n",
       "    .dataframe thead th {\n",
       "        text-align: right;\n",
       "    }\n",
       "</style>\n",
       "<table border=\"1\" class=\"dataframe\">\n",
       "  <thead>\n",
       "    <tr style=\"text-align: right;\">\n",
       "      <th></th>\n",
       "      <th>dato_id</th>\n",
       "      <th>x1_LOAD</th>\n",
       "      <th>x2_LOAD</th>\n",
       "      <th>x3_LOAD</th>\n",
       "      <th>x4_LOAD</th>\n",
       "      <th>x5_LOAD</th>\n",
       "      <th>x6_LOAD</th>\n",
       "      <th>x7_LOAD</th>\n",
       "      <th>x8_LOAD</th>\n",
       "      <th>x9_LOAD</th>\n",
       "      <th>...</th>\n",
       "      <th>y15_LOAD</th>\n",
       "      <th>y16_LOAD</th>\n",
       "      <th>y17_LOAD</th>\n",
       "      <th>y18_LOAD</th>\n",
       "      <th>y19_LOAD</th>\n",
       "      <th>y20_LOAD</th>\n",
       "      <th>y21_LOAD</th>\n",
       "      <th>y22_LOAD</th>\n",
       "      <th>y23_LOAD</th>\n",
       "      <th>y24_LOAD</th>\n",
       "    </tr>\n",
       "  </thead>\n",
       "  <tbody>\n",
       "    <tr>\n",
       "      <th>0</th>\n",
       "      <td>2016-01-06 12:00:00+01:00</td>\n",
       "      <td>0.593738</td>\n",
       "      <td>0.600368</td>\n",
       "      <td>0.595212</td>\n",
       "      <td>0.598527</td>\n",
       "      <td>0.587477</td>\n",
       "      <td>0.588214</td>\n",
       "      <td>0.583057</td>\n",
       "      <td>0.580479</td>\n",
       "      <td>0.586740</td>\n",
       "      <td>...</td>\n",
       "      <td>0.589687</td>\n",
       "      <td>0.587477</td>\n",
       "      <td>0.586740</td>\n",
       "      <td>0.580847</td>\n",
       "      <td>0.570902</td>\n",
       "      <td>0.560221</td>\n",
       "      <td>0.549908</td>\n",
       "      <td>0.548066</td>\n",
       "      <td>0.542173</td>\n",
       "      <td>0.540331</td>\n",
       "    </tr>\n",
       "    <tr>\n",
       "      <th>1</th>\n",
       "      <td>2016-01-06 13:00:00+01:00</td>\n",
       "      <td>0.600368</td>\n",
       "      <td>0.595212</td>\n",
       "      <td>0.598527</td>\n",
       "      <td>0.587477</td>\n",
       "      <td>0.588214</td>\n",
       "      <td>0.583057</td>\n",
       "      <td>0.580479</td>\n",
       "      <td>0.586740</td>\n",
       "      <td>0.575691</td>\n",
       "      <td>...</td>\n",
       "      <td>0.587477</td>\n",
       "      <td>0.586740</td>\n",
       "      <td>0.580847</td>\n",
       "      <td>0.570902</td>\n",
       "      <td>0.560221</td>\n",
       "      <td>0.549908</td>\n",
       "      <td>0.548066</td>\n",
       "      <td>0.542173</td>\n",
       "      <td>0.540331</td>\n",
       "      <td>0.544751</td>\n",
       "    </tr>\n",
       "    <tr>\n",
       "      <th>2</th>\n",
       "      <td>2016-01-06 14:00:00+01:00</td>\n",
       "      <td>0.595212</td>\n",
       "      <td>0.598527</td>\n",
       "      <td>0.587477</td>\n",
       "      <td>0.588214</td>\n",
       "      <td>0.583057</td>\n",
       "      <td>0.580479</td>\n",
       "      <td>0.586740</td>\n",
       "      <td>0.575691</td>\n",
       "      <td>0.620626</td>\n",
       "      <td>...</td>\n",
       "      <td>0.586740</td>\n",
       "      <td>0.580847</td>\n",
       "      <td>0.570902</td>\n",
       "      <td>0.560221</td>\n",
       "      <td>0.549908</td>\n",
       "      <td>0.548066</td>\n",
       "      <td>0.542173</td>\n",
       "      <td>0.540331</td>\n",
       "      <td>0.544751</td>\n",
       "      <td>0.546961</td>\n",
       "    </tr>\n",
       "    <tr>\n",
       "      <th>3</th>\n",
       "      <td>2016-01-06 15:00:00+01:00</td>\n",
       "      <td>0.598527</td>\n",
       "      <td>0.587477</td>\n",
       "      <td>0.588214</td>\n",
       "      <td>0.583057</td>\n",
       "      <td>0.580479</td>\n",
       "      <td>0.586740</td>\n",
       "      <td>0.575691</td>\n",
       "      <td>0.620626</td>\n",
       "      <td>0.617680</td>\n",
       "      <td>...</td>\n",
       "      <td>0.580847</td>\n",
       "      <td>0.570902</td>\n",
       "      <td>0.560221</td>\n",
       "      <td>0.549908</td>\n",
       "      <td>0.548066</td>\n",
       "      <td>0.542173</td>\n",
       "      <td>0.540331</td>\n",
       "      <td>0.544751</td>\n",
       "      <td>0.546961</td>\n",
       "      <td>0.563536</td>\n",
       "    </tr>\n",
       "    <tr>\n",
       "      <th>4</th>\n",
       "      <td>2016-01-06 16:00:00+01:00</td>\n",
       "      <td>0.587477</td>\n",
       "      <td>0.588214</td>\n",
       "      <td>0.583057</td>\n",
       "      <td>0.580479</td>\n",
       "      <td>0.586740</td>\n",
       "      <td>0.575691</td>\n",
       "      <td>0.620626</td>\n",
       "      <td>0.617680</td>\n",
       "      <td>0.579742</td>\n",
       "      <td>...</td>\n",
       "      <td>0.570902</td>\n",
       "      <td>0.560221</td>\n",
       "      <td>0.549908</td>\n",
       "      <td>0.548066</td>\n",
       "      <td>0.542173</td>\n",
       "      <td>0.540331</td>\n",
       "      <td>0.544751</td>\n",
       "      <td>0.546961</td>\n",
       "      <td>0.563536</td>\n",
       "      <td>0.562799</td>\n",
       "    </tr>\n",
       "  </tbody>\n",
       "</table>\n",
       "<p>5 rows × 97 columns</p>\n",
       "</div>"
      ],
      "text/plain": [
       "                     dato_id   x1_LOAD   x2_LOAD   x3_LOAD   x4_LOAD  \\\n",
       "0  2016-01-06 12:00:00+01:00  0.593738  0.600368  0.595212  0.598527   \n",
       "1  2016-01-06 13:00:00+01:00  0.600368  0.595212  0.598527  0.587477   \n",
       "2  2016-01-06 14:00:00+01:00  0.595212  0.598527  0.587477  0.588214   \n",
       "3  2016-01-06 15:00:00+01:00  0.598527  0.587477  0.588214  0.583057   \n",
       "4  2016-01-06 16:00:00+01:00  0.587477  0.588214  0.583057  0.580479   \n",
       "\n",
       "    x5_LOAD   x6_LOAD   x7_LOAD   x8_LOAD   x9_LOAD  ...  y15_LOAD  y16_LOAD  \\\n",
       "0  0.587477  0.588214  0.583057  0.580479  0.586740  ...  0.589687  0.587477   \n",
       "1  0.588214  0.583057  0.580479  0.586740  0.575691  ...  0.587477  0.586740   \n",
       "2  0.583057  0.580479  0.586740  0.575691  0.620626  ...  0.586740  0.580847   \n",
       "3  0.580479  0.586740  0.575691  0.620626  0.617680  ...  0.580847  0.570902   \n",
       "4  0.586740  0.575691  0.620626  0.617680  0.579742  ...  0.570902  0.560221   \n",
       "\n",
       "   y17_LOAD  y18_LOAD  y19_LOAD  y20_LOAD  y21_LOAD  y22_LOAD  y23_LOAD  \\\n",
       "0  0.586740  0.580847  0.570902  0.560221  0.549908  0.548066  0.542173   \n",
       "1  0.580847  0.570902  0.560221  0.549908  0.548066  0.542173  0.540331   \n",
       "2  0.570902  0.560221  0.549908  0.548066  0.542173  0.540331  0.544751   \n",
       "3  0.560221  0.549908  0.548066  0.542173  0.540331  0.544751  0.546961   \n",
       "4  0.549908  0.548066  0.542173  0.540331  0.544751  0.546961  0.563536   \n",
       "\n",
       "   y24_LOAD  \n",
       "0  0.540331  \n",
       "1  0.544751  \n",
       "2  0.546961  \n",
       "3  0.563536  \n",
       "4  0.562799  \n",
       "\n",
       "[5 rows x 97 columns]"
      ]
     },
     "metadata": {},
     "output_type": "display_data"
    },
    {
     "data": {
      "text/html": [
       "<div>\n",
       "<style scoped>\n",
       "    .dataframe tbody tr th:only-of-type {\n",
       "        vertical-align: middle;\n",
       "    }\n",
       "\n",
       "    .dataframe tbody tr th {\n",
       "        vertical-align: top;\n",
       "    }\n",
       "\n",
       "    .dataframe thead th {\n",
       "        text-align: right;\n",
       "    }\n",
       "</style>\n",
       "<table border=\"1\" class=\"dataframe\">\n",
       "  <thead>\n",
       "    <tr style=\"text-align: right;\">\n",
       "      <th></th>\n",
       "      <th>dato_id</th>\n",
       "      <th>x1_LOAD</th>\n",
       "      <th>x2_LOAD</th>\n",
       "      <th>x3_LOAD</th>\n",
       "      <th>x4_LOAD</th>\n",
       "      <th>x5_LOAD</th>\n",
       "      <th>x6_LOAD</th>\n",
       "      <th>x7_LOAD</th>\n",
       "      <th>x8_LOAD</th>\n",
       "      <th>x9_LOAD</th>\n",
       "      <th>...</th>\n",
       "      <th>y15_LOAD</th>\n",
       "      <th>y16_LOAD</th>\n",
       "      <th>y17_LOAD</th>\n",
       "      <th>y18_LOAD</th>\n",
       "      <th>y19_LOAD</th>\n",
       "      <th>y20_LOAD</th>\n",
       "      <th>y21_LOAD</th>\n",
       "      <th>y22_LOAD</th>\n",
       "      <th>y23_LOAD</th>\n",
       "      <th>y24_LOAD</th>\n",
       "    </tr>\n",
       "  </thead>\n",
       "  <tbody>\n",
       "    <tr>\n",
       "      <th>34225</th>\n",
       "      <td>2019-12-03 12:00:00+01:00</td>\n",
       "      <td>0.564273</td>\n",
       "      <td>0.588582</td>\n",
       "      <td>0.634991</td>\n",
       "      <td>0.615838</td>\n",
       "      <td>0.663352</td>\n",
       "      <td>0.641989</td>\n",
       "      <td>0.612891</td>\n",
       "      <td>0.606262</td>\n",
       "      <td>0.594843</td>\n",
       "      <td>...</td>\n",
       "      <td>0.549908</td>\n",
       "      <td>0.608840</td>\n",
       "      <td>0.578637</td>\n",
       "      <td>0.673297</td>\n",
       "      <td>0.659669</td>\n",
       "      <td>0.644567</td>\n",
       "      <td>0.663352</td>\n",
       "      <td>0.591529</td>\n",
       "      <td>0.582689</td>\n",
       "      <td>0.589687</td>\n",
       "    </tr>\n",
       "    <tr>\n",
       "      <th>34226</th>\n",
       "      <td>2019-12-03 13:00:00+01:00</td>\n",
       "      <td>0.588582</td>\n",
       "      <td>0.634991</td>\n",
       "      <td>0.615838</td>\n",
       "      <td>0.663352</td>\n",
       "      <td>0.641989</td>\n",
       "      <td>0.612891</td>\n",
       "      <td>0.606262</td>\n",
       "      <td>0.594843</td>\n",
       "      <td>0.594843</td>\n",
       "      <td>...</td>\n",
       "      <td>0.608840</td>\n",
       "      <td>0.578637</td>\n",
       "      <td>0.673297</td>\n",
       "      <td>0.659669</td>\n",
       "      <td>0.644567</td>\n",
       "      <td>0.663352</td>\n",
       "      <td>0.591529</td>\n",
       "      <td>0.582689</td>\n",
       "      <td>0.589687</td>\n",
       "      <td>0.626151</td>\n",
       "    </tr>\n",
       "    <tr>\n",
       "      <th>34227</th>\n",
       "      <td>2019-12-03 14:00:00+01:00</td>\n",
       "      <td>0.634991</td>\n",
       "      <td>0.615838</td>\n",
       "      <td>0.663352</td>\n",
       "      <td>0.641989</td>\n",
       "      <td>0.612891</td>\n",
       "      <td>0.606262</td>\n",
       "      <td>0.594843</td>\n",
       "      <td>0.594843</td>\n",
       "      <td>0.579374</td>\n",
       "      <td>...</td>\n",
       "      <td>0.578637</td>\n",
       "      <td>0.673297</td>\n",
       "      <td>0.659669</td>\n",
       "      <td>0.644567</td>\n",
       "      <td>0.663352</td>\n",
       "      <td>0.591529</td>\n",
       "      <td>0.582689</td>\n",
       "      <td>0.589687</td>\n",
       "      <td>0.626151</td>\n",
       "      <td>0.625783</td>\n",
       "    </tr>\n",
       "    <tr>\n",
       "      <th>34228</th>\n",
       "      <td>2019-12-03 15:00:00+01:00</td>\n",
       "      <td>0.615838</td>\n",
       "      <td>0.663352</td>\n",
       "      <td>0.641989</td>\n",
       "      <td>0.612891</td>\n",
       "      <td>0.606262</td>\n",
       "      <td>0.594843</td>\n",
       "      <td>0.594843</td>\n",
       "      <td>0.579374</td>\n",
       "      <td>0.533333</td>\n",
       "      <td>...</td>\n",
       "      <td>0.673297</td>\n",
       "      <td>0.659669</td>\n",
       "      <td>0.644567</td>\n",
       "      <td>0.663352</td>\n",
       "      <td>0.591529</td>\n",
       "      <td>0.582689</td>\n",
       "      <td>0.589687</td>\n",
       "      <td>0.626151</td>\n",
       "      <td>0.625783</td>\n",
       "      <td>0.600368</td>\n",
       "    </tr>\n",
       "    <tr>\n",
       "      <th>34229</th>\n",
       "      <td>2019-12-03 16:00:00+01:00</td>\n",
       "      <td>0.663352</td>\n",
       "      <td>0.641989</td>\n",
       "      <td>0.612891</td>\n",
       "      <td>0.606262</td>\n",
       "      <td>0.594843</td>\n",
       "      <td>0.594843</td>\n",
       "      <td>0.579374</td>\n",
       "      <td>0.533333</td>\n",
       "      <td>0.531492</td>\n",
       "      <td>...</td>\n",
       "      <td>0.659669</td>\n",
       "      <td>0.644567</td>\n",
       "      <td>0.663352</td>\n",
       "      <td>0.591529</td>\n",
       "      <td>0.582689</td>\n",
       "      <td>0.589687</td>\n",
       "      <td>0.626151</td>\n",
       "      <td>0.625783</td>\n",
       "      <td>0.600368</td>\n",
       "      <td>0.598158</td>\n",
       "    </tr>\n",
       "  </tbody>\n",
       "</table>\n",
       "<p>5 rows × 97 columns</p>\n",
       "</div>"
      ],
      "text/plain": [
       "                         dato_id   x1_LOAD   x2_LOAD   x3_LOAD   x4_LOAD  \\\n",
       "34225  2019-12-03 12:00:00+01:00  0.564273  0.588582  0.634991  0.615838   \n",
       "34226  2019-12-03 13:00:00+01:00  0.588582  0.634991  0.615838  0.663352   \n",
       "34227  2019-12-03 14:00:00+01:00  0.634991  0.615838  0.663352  0.641989   \n",
       "34228  2019-12-03 15:00:00+01:00  0.615838  0.663352  0.641989  0.612891   \n",
       "34229  2019-12-03 16:00:00+01:00  0.663352  0.641989  0.612891  0.606262   \n",
       "\n",
       "        x5_LOAD   x6_LOAD   x7_LOAD   x8_LOAD   x9_LOAD  ...  y15_LOAD  \\\n",
       "34225  0.663352  0.641989  0.612891  0.606262  0.594843  ...  0.549908   \n",
       "34226  0.641989  0.612891  0.606262  0.594843  0.594843  ...  0.608840   \n",
       "34227  0.612891  0.606262  0.594843  0.594843  0.579374  ...  0.578637   \n",
       "34228  0.606262  0.594843  0.594843  0.579374  0.533333  ...  0.673297   \n",
       "34229  0.594843  0.594843  0.579374  0.533333  0.531492  ...  0.659669   \n",
       "\n",
       "       y16_LOAD  y17_LOAD  y18_LOAD  y19_LOAD  y20_LOAD  y21_LOAD  y22_LOAD  \\\n",
       "34225  0.608840  0.578637  0.673297  0.659669  0.644567  0.663352  0.591529   \n",
       "34226  0.578637  0.673297  0.659669  0.644567  0.663352  0.591529  0.582689   \n",
       "34227  0.673297  0.659669  0.644567  0.663352  0.591529  0.582689  0.589687   \n",
       "34228  0.659669  0.644567  0.663352  0.591529  0.582689  0.589687  0.626151   \n",
       "34229  0.644567  0.663352  0.591529  0.582689  0.589687  0.626151  0.625783   \n",
       "\n",
       "       y23_LOAD  y24_LOAD  \n",
       "34225  0.582689  0.589687  \n",
       "34226  0.589687  0.626151  \n",
       "34227  0.626151  0.625783  \n",
       "34228  0.625783  0.600368  \n",
       "34229  0.600368  0.598158  \n",
       "\n",
       "[5 rows x 97 columns]"
      ]
     },
     "metadata": {},
     "output_type": "display_data"
    },
    {
     "name": "stdout",
     "output_type": "stream",
     "text": [
      "(34225, 72)\n"
     ]
    }
   ],
   "source": [
    "# Time series slicing parameters\n",
    "nbf_features = input_window = 72 \n",
    "nbf_outputs = output_window = 24\n",
    "\n",
    "generation_feature = \"NO5_load_delta\"\n",
    "# generation_feature = \"NO5_load_actual\"\n",
    "\n",
    "# Creating time series traing and evaluation (test) data besed on sliding window approach\n",
    "x_train_LOAD, y_train_LOAD, x_test_LOAD, y_test_LOAD, train_df_LOAD, eval_df_LOAD = create_time_series_data(training_df, \n",
    "                                                                                                    forcast_sol_df, \n",
    "                                                                                                    nbf_features, \n",
    "                                                                                                    nbf_outputs, \n",
    "                                                                                                    column_key=generation_feature, \n",
    "                                                                                                    column_suffix=\"LOAD\",\n",
    "                                                                                                    include_target_outputs=True)\n",
    "display(train_df_LOAD.head())\n",
    "display(eval_df_LOAD.head())\n",
    "\n",
    "print(x_train_LOAD.shape)"
   ]
  },
  {
   "cell_type": "code",
   "execution_count": 7,
   "metadata": {},
   "outputs": [
    {
     "name": "stdout",
     "output_type": "stream",
     "text": [
      "training_data_df.shape: (34225, 96)\n",
      "evaluation_data_df: (8581, 96)\n",
      "x_test.shape=(8581, 72)\n",
      "y_test.shape=(8581, 24)\n",
      "eval_df.shape=(8581, 97)\n",
      "Index(['dato_id', 'x1_DA', 'x2_DA', 'x3_DA', 'x4_DA', 'x5_DA', 'x6_DA',\n",
      "       'x7_DA', 'x8_DA', 'x9_DA', 'x10_DA', 'x11_DA', 'x12_DA', 'x13_DA',\n",
      "       'x14_DA', 'x15_DA', 'x16_DA', 'x17_DA', 'x18_DA', 'x19_DA', 'x20_DA',\n",
      "       'x21_DA', 'x22_DA', 'x23_DA', 'x24_DA', 'x25_DA', 'x26_DA', 'x27_DA',\n",
      "       'x28_DA', 'x29_DA', 'x30_DA', 'x31_DA', 'x32_DA', 'x33_DA', 'x34_DA',\n",
      "       'x35_DA', 'x36_DA', 'x37_DA', 'x38_DA', 'x39_DA', 'x40_DA', 'x41_DA',\n",
      "       'x42_DA', 'x43_DA', 'x44_DA', 'x45_DA', 'x46_DA', 'x47_DA', 'x48_DA',\n",
      "       'x49_DA', 'x50_DA', 'x51_DA', 'x52_DA', 'x53_DA', 'x54_DA', 'x55_DA',\n",
      "       'x56_DA', 'x57_DA', 'x58_DA', 'x59_DA', 'x60_DA', 'x61_DA', 'x62_DA',\n",
      "       'x63_DA', 'x64_DA', 'x65_DA', 'x66_DA', 'x67_DA', 'x68_DA', 'x69_DA',\n",
      "       'x70_DA', 'x71_DA', 'x72_DA', 'y1_DA', 'y2_DA', 'y3_DA', 'y4_DA',\n",
      "       'y5_DA', 'y6_DA', 'y7_DA', 'y8_DA', 'y9_DA', 'y10_DA', 'y11_DA',\n",
      "       'y12_DA', 'y13_DA', 'y14_DA', 'y15_DA', 'y16_DA', 'y17_DA', 'y18_DA',\n",
      "       'y19_DA', 'y20_DA', 'y21_DA', 'y22_DA', 'y23_DA', 'y24_DA'],\n",
      "      dtype='object')\n"
     ]
    },
    {
     "data": {
      "text/html": [
       "<div>\n",
       "<style scoped>\n",
       "    .dataframe tbody tr th:only-of-type {\n",
       "        vertical-align: middle;\n",
       "    }\n",
       "\n",
       "    .dataframe tbody tr th {\n",
       "        vertical-align: top;\n",
       "    }\n",
       "\n",
       "    .dataframe thead th {\n",
       "        text-align: right;\n",
       "    }\n",
       "</style>\n",
       "<table border=\"1\" class=\"dataframe\">\n",
       "  <thead>\n",
       "    <tr style=\"text-align: right;\">\n",
       "      <th></th>\n",
       "      <th>dato_id</th>\n",
       "      <th>x1_DA</th>\n",
       "      <th>x2_DA</th>\n",
       "      <th>x3_DA</th>\n",
       "      <th>x4_DA</th>\n",
       "      <th>x5_DA</th>\n",
       "      <th>x6_DA</th>\n",
       "      <th>x7_DA</th>\n",
       "      <th>x8_DA</th>\n",
       "      <th>x9_DA</th>\n",
       "      <th>...</th>\n",
       "      <th>y15_DA</th>\n",
       "      <th>y16_DA</th>\n",
       "      <th>y17_DA</th>\n",
       "      <th>y18_DA</th>\n",
       "      <th>y19_DA</th>\n",
       "      <th>y20_DA</th>\n",
       "      <th>y21_DA</th>\n",
       "      <th>y22_DA</th>\n",
       "      <th>y23_DA</th>\n",
       "      <th>y24_DA</th>\n",
       "    </tr>\n",
       "    <tr>\n",
       "      <th>t</th>\n",
       "      <th></th>\n",
       "      <th></th>\n",
       "      <th></th>\n",
       "      <th></th>\n",
       "      <th></th>\n",
       "      <th></th>\n",
       "      <th></th>\n",
       "      <th></th>\n",
       "      <th></th>\n",
       "      <th></th>\n",
       "      <th></th>\n",
       "      <th></th>\n",
       "      <th></th>\n",
       "      <th></th>\n",
       "      <th></th>\n",
       "      <th></th>\n",
       "      <th></th>\n",
       "      <th></th>\n",
       "      <th></th>\n",
       "      <th></th>\n",
       "      <th></th>\n",
       "    </tr>\n",
       "  </thead>\n",
       "  <tbody>\n",
       "    <tr>\n",
       "      <th>0</th>\n",
       "      <td>2016-01-06 12:00:00+01:00</td>\n",
       "      <td>0.157069</td>\n",
       "      <td>0.154630</td>\n",
       "      <td>0.154630</td>\n",
       "      <td>0.154108</td>\n",
       "      <td>0.162906</td>\n",
       "      <td>0.167262</td>\n",
       "      <td>0.165084</td>\n",
       "      <td>0.162035</td>\n",
       "      <td>0.158289</td>\n",
       "      <td>...</td>\n",
       "      <td>0.188083</td>\n",
       "      <td>0.188257</td>\n",
       "      <td>0.188954</td>\n",
       "      <td>0.189128</td>\n",
       "      <td>0.193832</td>\n",
       "      <td>0.242965</td>\n",
       "      <td>0.266312</td>\n",
       "      <td>0.256381</td>\n",
       "      <td>0.255771</td>\n",
       "      <td>0.236345</td>\n",
       "    </tr>\n",
       "    <tr>\n",
       "      <th>1</th>\n",
       "      <td>2016-01-06 13:00:00+01:00</td>\n",
       "      <td>0.154630</td>\n",
       "      <td>0.154630</td>\n",
       "      <td>0.154108</td>\n",
       "      <td>0.162906</td>\n",
       "      <td>0.167262</td>\n",
       "      <td>0.165084</td>\n",
       "      <td>0.162035</td>\n",
       "      <td>0.158289</td>\n",
       "      <td>0.155153</td>\n",
       "      <td>...</td>\n",
       "      <td>0.188257</td>\n",
       "      <td>0.188954</td>\n",
       "      <td>0.189128</td>\n",
       "      <td>0.193832</td>\n",
       "      <td>0.242965</td>\n",
       "      <td>0.266312</td>\n",
       "      <td>0.256381</td>\n",
       "      <td>0.255771</td>\n",
       "      <td>0.236345</td>\n",
       "      <td>0.248541</td>\n",
       "    </tr>\n",
       "    <tr>\n",
       "      <th>2</th>\n",
       "      <td>2016-01-06 14:00:00+01:00</td>\n",
       "      <td>0.154630</td>\n",
       "      <td>0.154108</td>\n",
       "      <td>0.162906</td>\n",
       "      <td>0.167262</td>\n",
       "      <td>0.165084</td>\n",
       "      <td>0.162035</td>\n",
       "      <td>0.158289</td>\n",
       "      <td>0.155153</td>\n",
       "      <td>0.149142</td>\n",
       "      <td>...</td>\n",
       "      <td>0.188954</td>\n",
       "      <td>0.189128</td>\n",
       "      <td>0.193832</td>\n",
       "      <td>0.242965</td>\n",
       "      <td>0.266312</td>\n",
       "      <td>0.256381</td>\n",
       "      <td>0.255771</td>\n",
       "      <td>0.236345</td>\n",
       "      <td>0.248541</td>\n",
       "      <td>0.227982</td>\n",
       "    </tr>\n",
       "    <tr>\n",
       "      <th>3</th>\n",
       "      <td>2016-01-06 15:00:00+01:00</td>\n",
       "      <td>0.154108</td>\n",
       "      <td>0.162906</td>\n",
       "      <td>0.167262</td>\n",
       "      <td>0.165084</td>\n",
       "      <td>0.162035</td>\n",
       "      <td>0.158289</td>\n",
       "      <td>0.155153</td>\n",
       "      <td>0.149142</td>\n",
       "      <td>0.137904</td>\n",
       "      <td>...</td>\n",
       "      <td>0.189128</td>\n",
       "      <td>0.193832</td>\n",
       "      <td>0.242965</td>\n",
       "      <td>0.266312</td>\n",
       "      <td>0.256381</td>\n",
       "      <td>0.255771</td>\n",
       "      <td>0.236345</td>\n",
       "      <td>0.248541</td>\n",
       "      <td>0.227982</td>\n",
       "      <td>0.217266</td>\n",
       "    </tr>\n",
       "    <tr>\n",
       "      <th>4</th>\n",
       "      <td>2016-01-06 16:00:00+01:00</td>\n",
       "      <td>0.162906</td>\n",
       "      <td>0.167262</td>\n",
       "      <td>0.165084</td>\n",
       "      <td>0.162035</td>\n",
       "      <td>0.158289</td>\n",
       "      <td>0.155153</td>\n",
       "      <td>0.149142</td>\n",
       "      <td>0.137904</td>\n",
       "      <td>0.139821</td>\n",
       "      <td>...</td>\n",
       "      <td>0.193832</td>\n",
       "      <td>0.242965</td>\n",
       "      <td>0.266312</td>\n",
       "      <td>0.256381</td>\n",
       "      <td>0.255771</td>\n",
       "      <td>0.236345</td>\n",
       "      <td>0.248541</td>\n",
       "      <td>0.227982</td>\n",
       "      <td>0.217266</td>\n",
       "      <td>0.206377</td>\n",
       "    </tr>\n",
       "  </tbody>\n",
       "</table>\n",
       "<p>5 rows × 97 columns</p>\n",
       "</div>"
      ],
      "text/plain": [
       "                     dato_id     x1_DA     x2_DA     x3_DA     x4_DA  \\\n",
       "t                                                                      \n",
       "0  2016-01-06 12:00:00+01:00  0.157069  0.154630  0.154630  0.154108   \n",
       "1  2016-01-06 13:00:00+01:00  0.154630  0.154630  0.154108  0.162906   \n",
       "2  2016-01-06 14:00:00+01:00  0.154630  0.154108  0.162906  0.167262   \n",
       "3  2016-01-06 15:00:00+01:00  0.154108  0.162906  0.167262  0.165084   \n",
       "4  2016-01-06 16:00:00+01:00  0.162906  0.167262  0.165084  0.162035   \n",
       "\n",
       "      x5_DA     x6_DA     x7_DA     x8_DA     x9_DA  ...    y15_DA    y16_DA  \\\n",
       "t                                                    ...                       \n",
       "0  0.162906  0.167262  0.165084  0.162035  0.158289  ...  0.188083  0.188257   \n",
       "1  0.167262  0.165084  0.162035  0.158289  0.155153  ...  0.188257  0.188954   \n",
       "2  0.165084  0.162035  0.158289  0.155153  0.149142  ...  0.188954  0.189128   \n",
       "3  0.162035  0.158289  0.155153  0.149142  0.137904  ...  0.189128  0.193832   \n",
       "4  0.158289  0.155153  0.149142  0.137904  0.139821  ...  0.193832  0.242965   \n",
       "\n",
       "     y17_DA    y18_DA    y19_DA    y20_DA    y21_DA    y22_DA    y23_DA  \\\n",
       "t                                                                         \n",
       "0  0.188954  0.189128  0.193832  0.242965  0.266312  0.256381  0.255771   \n",
       "1  0.189128  0.193832  0.242965  0.266312  0.256381  0.255771  0.236345   \n",
       "2  0.193832  0.242965  0.266312  0.256381  0.255771  0.236345  0.248541   \n",
       "3  0.242965  0.266312  0.256381  0.255771  0.236345  0.248541  0.227982   \n",
       "4  0.266312  0.256381  0.255771  0.236345  0.248541  0.227982  0.217266   \n",
       "\n",
       "     y24_DA  \n",
       "t            \n",
       "0  0.236345  \n",
       "1  0.248541  \n",
       "2  0.227982  \n",
       "3  0.217266  \n",
       "4  0.206377  \n",
       "\n",
       "[5 rows x 97 columns]"
      ]
     },
     "metadata": {},
     "output_type": "display_data"
    },
    {
     "data": {
      "text/html": [
       "<div>\n",
       "<style scoped>\n",
       "    .dataframe tbody tr th:only-of-type {\n",
       "        vertical-align: middle;\n",
       "    }\n",
       "\n",
       "    .dataframe tbody tr th {\n",
       "        vertical-align: top;\n",
       "    }\n",
       "\n",
       "    .dataframe thead th {\n",
       "        text-align: right;\n",
       "    }\n",
       "</style>\n",
       "<table border=\"1\" class=\"dataframe\">\n",
       "  <thead>\n",
       "    <tr style=\"text-align: right;\">\n",
       "      <th></th>\n",
       "      <th>dato_id</th>\n",
       "      <th>x1_DA</th>\n",
       "      <th>x2_DA</th>\n",
       "      <th>x3_DA</th>\n",
       "      <th>x4_DA</th>\n",
       "      <th>x5_DA</th>\n",
       "      <th>x6_DA</th>\n",
       "      <th>x7_DA</th>\n",
       "      <th>x8_DA</th>\n",
       "      <th>x9_DA</th>\n",
       "      <th>...</th>\n",
       "      <th>y15_DA</th>\n",
       "      <th>y16_DA</th>\n",
       "      <th>y17_DA</th>\n",
       "      <th>y18_DA</th>\n",
       "      <th>y19_DA</th>\n",
       "      <th>y20_DA</th>\n",
       "      <th>y21_DA</th>\n",
       "      <th>y22_DA</th>\n",
       "      <th>y23_DA</th>\n",
       "      <th>y24_DA</th>\n",
       "    </tr>\n",
       "  </thead>\n",
       "  <tbody>\n",
       "    <tr>\n",
       "      <th>34225</th>\n",
       "      <td>2019-12-03 12:00:00+01:00</td>\n",
       "      <td>0.368586</td>\n",
       "      <td>0.370851</td>\n",
       "      <td>0.373726</td>\n",
       "      <td>0.383309</td>\n",
       "      <td>0.392978</td>\n",
       "      <td>0.385748</td>\n",
       "      <td>0.379127</td>\n",
       "      <td>0.369022</td>\n",
       "      <td>0.361530</td>\n",
       "      <td>...</td>\n",
       "      <td>0.344281</td>\n",
       "      <td>0.348462</td>\n",
       "      <td>0.361965</td>\n",
       "      <td>0.384615</td>\n",
       "      <td>0.586898</td>\n",
       "      <td>0.666957</td>\n",
       "      <td>0.619305</td>\n",
       "      <td>0.527746</td>\n",
       "      <td>0.517467</td>\n",
       "      <td>0.482011</td>\n",
       "    </tr>\n",
       "    <tr>\n",
       "      <th>34226</th>\n",
       "      <td>2019-12-03 13:00:00+01:00</td>\n",
       "      <td>0.370851</td>\n",
       "      <td>0.373726</td>\n",
       "      <td>0.383309</td>\n",
       "      <td>0.392978</td>\n",
       "      <td>0.385748</td>\n",
       "      <td>0.379127</td>\n",
       "      <td>0.369022</td>\n",
       "      <td>0.361530</td>\n",
       "      <td>0.357435</td>\n",
       "      <td>...</td>\n",
       "      <td>0.348462</td>\n",
       "      <td>0.361965</td>\n",
       "      <td>0.384615</td>\n",
       "      <td>0.586898</td>\n",
       "      <td>0.666957</td>\n",
       "      <td>0.619305</td>\n",
       "      <td>0.527746</td>\n",
       "      <td>0.517467</td>\n",
       "      <td>0.482011</td>\n",
       "      <td>0.406133</td>\n",
       "    </tr>\n",
       "    <tr>\n",
       "      <th>34227</th>\n",
       "      <td>2019-12-03 14:00:00+01:00</td>\n",
       "      <td>0.373726</td>\n",
       "      <td>0.383309</td>\n",
       "      <td>0.392978</td>\n",
       "      <td>0.385748</td>\n",
       "      <td>0.379127</td>\n",
       "      <td>0.369022</td>\n",
       "      <td>0.361530</td>\n",
       "      <td>0.357435</td>\n",
       "      <td>0.354212</td>\n",
       "      <td>...</td>\n",
       "      <td>0.361965</td>\n",
       "      <td>0.384615</td>\n",
       "      <td>0.586898</td>\n",
       "      <td>0.666957</td>\n",
       "      <td>0.619305</td>\n",
       "      <td>0.527746</td>\n",
       "      <td>0.517467</td>\n",
       "      <td>0.482011</td>\n",
       "      <td>0.406133</td>\n",
       "      <td>0.402039</td>\n",
       "    </tr>\n",
       "    <tr>\n",
       "      <th>34228</th>\n",
       "      <td>2019-12-03 15:00:00+01:00</td>\n",
       "      <td>0.383309</td>\n",
       "      <td>0.392978</td>\n",
       "      <td>0.385748</td>\n",
       "      <td>0.379127</td>\n",
       "      <td>0.369022</td>\n",
       "      <td>0.361530</td>\n",
       "      <td>0.357435</td>\n",
       "      <td>0.354212</td>\n",
       "      <td>0.353080</td>\n",
       "      <td>...</td>\n",
       "      <td>0.384615</td>\n",
       "      <td>0.586898</td>\n",
       "      <td>0.666957</td>\n",
       "      <td>0.619305</td>\n",
       "      <td>0.527746</td>\n",
       "      <td>0.517467</td>\n",
       "      <td>0.482011</td>\n",
       "      <td>0.406133</td>\n",
       "      <td>0.402039</td>\n",
       "      <td>0.407962</td>\n",
       "    </tr>\n",
       "    <tr>\n",
       "      <th>34229</th>\n",
       "      <td>2019-12-03 16:00:00+01:00</td>\n",
       "      <td>0.392978</td>\n",
       "      <td>0.385748</td>\n",
       "      <td>0.379127</td>\n",
       "      <td>0.369022</td>\n",
       "      <td>0.361530</td>\n",
       "      <td>0.357435</td>\n",
       "      <td>0.354212</td>\n",
       "      <td>0.353080</td>\n",
       "      <td>0.351599</td>\n",
       "      <td>...</td>\n",
       "      <td>0.586898</td>\n",
       "      <td>0.666957</td>\n",
       "      <td>0.619305</td>\n",
       "      <td>0.527746</td>\n",
       "      <td>0.517467</td>\n",
       "      <td>0.482011</td>\n",
       "      <td>0.406133</td>\n",
       "      <td>0.402039</td>\n",
       "      <td>0.407962</td>\n",
       "      <td>0.427825</td>\n",
       "    </tr>\n",
       "  </tbody>\n",
       "</table>\n",
       "<p>5 rows × 97 columns</p>\n",
       "</div>"
      ],
      "text/plain": [
       "                         dato_id     x1_DA     x2_DA     x3_DA     x4_DA  \\\n",
       "34225  2019-12-03 12:00:00+01:00  0.368586  0.370851  0.373726  0.383309   \n",
       "34226  2019-12-03 13:00:00+01:00  0.370851  0.373726  0.383309  0.392978   \n",
       "34227  2019-12-03 14:00:00+01:00  0.373726  0.383309  0.392978  0.385748   \n",
       "34228  2019-12-03 15:00:00+01:00  0.383309  0.392978  0.385748  0.379127   \n",
       "34229  2019-12-03 16:00:00+01:00  0.392978  0.385748  0.379127  0.369022   \n",
       "\n",
       "          x5_DA     x6_DA     x7_DA     x8_DA     x9_DA  ...    y15_DA  \\\n",
       "34225  0.392978  0.385748  0.379127  0.369022  0.361530  ...  0.344281   \n",
       "34226  0.385748  0.379127  0.369022  0.361530  0.357435  ...  0.348462   \n",
       "34227  0.379127  0.369022  0.361530  0.357435  0.354212  ...  0.361965   \n",
       "34228  0.369022  0.361530  0.357435  0.354212  0.353080  ...  0.384615   \n",
       "34229  0.361530  0.357435  0.354212  0.353080  0.351599  ...  0.586898   \n",
       "\n",
       "         y16_DA    y17_DA    y18_DA    y19_DA    y20_DA    y21_DA    y22_DA  \\\n",
       "34225  0.348462  0.361965  0.384615  0.586898  0.666957  0.619305  0.527746   \n",
       "34226  0.361965  0.384615  0.586898  0.666957  0.619305  0.527746  0.517467   \n",
       "34227  0.384615  0.586898  0.666957  0.619305  0.527746  0.517467  0.482011   \n",
       "34228  0.586898  0.666957  0.619305  0.527746  0.517467  0.482011  0.406133   \n",
       "34229  0.666957  0.619305  0.527746  0.517467  0.482011  0.406133  0.402039   \n",
       "\n",
       "         y23_DA    y24_DA  \n",
       "34225  0.517467  0.482011  \n",
       "34226  0.482011  0.406133  \n",
       "34227  0.406133  0.402039  \n",
       "34228  0.402039  0.407962  \n",
       "34229  0.407962  0.427825  \n",
       "\n",
       "[5 rows x 97 columns]"
      ]
     },
     "metadata": {},
     "output_type": "display_data"
    }
   ],
   "source": [
    "# Time series slicing parameters\n",
    "nbf_features = input_window = 72 \n",
    "nbf_outputs = output_window = 24\n",
    "\n",
    "# Creating time series traing and evaluation (test) data besed on sliding window approach\n",
    "x_train, y_train, x_test, y_test, train_df, eval_df = create_time_series_data(training_df, \n",
    "                                                                              forcast_sol_df, \n",
    "                                                                              nbf_features, \n",
    "                                                                              nbf_outputs, \n",
    "                                                                              column_key=\"NO5_price\", \n",
    "                                                                              column_suffix=\"DA\",\n",
    "                                                                              include_target_outputs=True)\n",
    "print(f\"{x_test.shape=}\")\n",
    "print(f\"{y_test.shape=}\")\n",
    "print(f\"{eval_df.shape=}\")\n",
    "print(eval_df.columns)\n",
    "\n",
    "# Displaying time series data\n",
    "train_df.index.name = \"t\"\n",
    "display(train_df.head())\n",
    "\n",
    "# Save the table.\n",
    "train_df.head().to_csv(\"time_series_data.csv\")\n",
    "\n",
    "\n",
    "display(eval_df.head())"
   ]
  },
  {
   "cell_type": "code",
   "execution_count": 8,
   "metadata": {},
   "outputs": [
    {
     "name": "stdout",
     "output_type": "stream",
     "text": [
      "(34225, 72)\n"
     ]
    },
    {
     "ename": "ValueError",
     "evalue": "all the input array dimensions for the concatenation axis must match exactly, but along dimension 0, the array at index 0 has size 34225 and the array at index 1 has size 34319",
     "output_type": "error",
     "traceback": [
      "\u001b[1;31m---------------------------------------------------------------------------\u001b[0m",
      "\u001b[1;31mValueError\u001b[0m                                Traceback (most recent call last)",
      "\u001b[1;32m~\\AppData\\Local\\Temp/ipykernel_12624/1962916657.py\u001b[0m in \u001b[0;36m<module>\u001b[1;34m\u001b[0m\n\u001b[0;32m      1\u001b[0m \u001b[0mprint\u001b[0m\u001b[1;33m(\u001b[0m\u001b[0mx_train\u001b[0m\u001b[1;33m.\u001b[0m\u001b[0mshape\u001b[0m\u001b[1;33m)\u001b[0m\u001b[1;33m\u001b[0m\u001b[1;33m\u001b[0m\u001b[0m\n\u001b[1;32m----> 2\u001b[1;33m \u001b[0mx_train\u001b[0m \u001b[1;33m=\u001b[0m \u001b[0mnp\u001b[0m\u001b[1;33m.\u001b[0m\u001b[0mconcatenate\u001b[0m\u001b[1;33m(\u001b[0m\u001b[1;33m[\u001b[0m\u001b[0mx_train\u001b[0m\u001b[1;33m,\u001b[0m \u001b[0mx_train_GEN\u001b[0m\u001b[1;33m,\u001b[0m \u001b[0mx_train_LOAD\u001b[0m\u001b[1;33m]\u001b[0m\u001b[1;33m,\u001b[0m \u001b[0maxis\u001b[0m\u001b[1;33m=\u001b[0m\u001b[1;36m1\u001b[0m\u001b[1;33m)\u001b[0m\u001b[1;33m\u001b[0m\u001b[1;33m\u001b[0m\u001b[0m\n\u001b[0m\u001b[0;32m      3\u001b[0m \u001b[0mprint\u001b[0m\u001b[1;33m(\u001b[0m\u001b[0mx_train\u001b[0m\u001b[1;33m.\u001b[0m\u001b[0mshape\u001b[0m\u001b[1;33m)\u001b[0m\u001b[1;33m\u001b[0m\u001b[1;33m\u001b[0m\u001b[0m\n\u001b[0;32m      4\u001b[0m \u001b[1;33m\u001b[0m\u001b[0m\n\u001b[0;32m      5\u001b[0m \u001b[0mprint\u001b[0m\u001b[1;33m(\u001b[0m\u001b[0mx_test\u001b[0m\u001b[1;33m.\u001b[0m\u001b[0mshape\u001b[0m\u001b[1;33m)\u001b[0m\u001b[1;33m\u001b[0m\u001b[1;33m\u001b[0m\u001b[0m\n",
      "\u001b[1;32m<__array_function__ internals>\u001b[0m in \u001b[0;36mconcatenate\u001b[1;34m(*args, **kwargs)\u001b[0m\n",
      "\u001b[1;31mValueError\u001b[0m: all the input array dimensions for the concatenation axis must match exactly, but along dimension 0, the array at index 0 has size 34225 and the array at index 1 has size 34319"
     ]
    }
   ],
   "source": [
    "print(x_train.shape)\n",
    "x_train = np.concatenate([x_train, x_train_GEN, x_train_LOAD], axis=1)\n",
    "print(x_train.shape)\n",
    "\n",
    "print(x_test.shape)\n",
    "x_test = np.concatenate([x_test, x_test_GEN, x_test_LOAD], axis=1)\n",
    "print(x_test.shape)"
   ]
  },
  {
   "cell_type": "code",
   "execution_count": 9,
   "metadata": {},
   "outputs": [
    {
     "name": "stdout",
     "output_type": "stream",
     "text": [
      "[0.15706943 0.15463019 0.15463019 0.1541075  0.16290618 0.16726196\n",
      " 0.16508407 0.16203502 0.15828905 0.15515289 0.14914191 0.137904\n",
      " 0.13982054 0.13851381 0.13633592 0.13642303 0.13947208 0.14678979\n",
      " 0.15767924 0.17100793 0.17928391 0.17928391 0.17910968 0.17623486\n",
      " 0.17370851 0.17353428 0.17396986 0.17579929 0.18189738 0.18433661\n",
      " 0.17971949 0.17301159 0.16673926 0.1619479  0.15506577 0.14914191\n",
      " 0.15480443 0.15175538 0.15097134 0.15166826 0.15463019 0.1568952\n",
      " 0.16456137 0.17945814 0.19749107 0.19008624 0.19052182 0.1893022\n",
      " 0.18294277 0.1803293  0.18050353 0.18120045 0.18337834 0.18573046\n",
      " 0.18093911 0.17919679 0.17405697 0.16970119 0.16395156 0.15733078\n",
      " 0.17518948 0.17179197 0.1691785  0.16935273 0.17074658 0.17336005\n",
      " 0.17937103 0.19296106 0.22022824 0.2467985  0.3054273  0.33138775]\n",
      "[0.36858611 0.37085112 0.37372593 0.38330865 0.39297848 0.38574789\n",
      " 0.3791271  0.36902169 0.36152975 0.35743532 0.35421204 0.35307954\n",
      " 0.35159857 0.35264396 0.35246973 0.35246973 0.35264396 0.35238261\n",
      " 0.35482185 0.35821936 0.36440456 0.36745361 0.36379476 0.36057148\n",
      " 0.35595435 0.35917763 0.36649534 0.40212562 0.40639429 0.39846677\n",
      " 0.38409269 0.37424863 0.36597265 0.36074571 0.35578012 0.34767837\n",
      " 0.34184162 0.34131893 0.34105758 0.3411447  0.34140605 0.34140605\n",
      " 0.3422772  0.34942068 0.35891628 0.3763394  0.37825595 0.37677498\n",
      " 0.37424863 0.37660075 0.38008537 0.39358829 0.38513808 0.37694921\n",
      " 0.36832477 0.36327206 0.35551877 0.35133722 0.34541336 0.34271278\n",
      " 0.34149316 0.34062201 0.33966373 0.34009931 0.34933357 0.36806342\n",
      " 0.40125446 0.46458751 0.42512414 0.39550483 0.38052095 0.36632111]\n"
     ]
    }
   ],
   "source": [
    "print(x_train[0, :])\n",
    "print(x_test[0, :])"
   ]
  },
  {
   "cell_type": "markdown",
   "metadata": {},
   "source": [
    "## Analysing the data "
   ]
  },
  {
   "cell_type": "code",
   "execution_count": null,
   "metadata": {},
   "outputs": [],
   "source": [
    "# Create correlation matrix\n",
    "corr_matrix = train_df.corr(method='spearman')\n",
    "# Plot\n",
    "fig, axs = plt.subplots(1, 1,figsize=(3.5, 2.5))\n",
    "sns.heatmap(abs(corr_matrix), annot=True, cmap = plt.cm.autumn_r, fmt='.2f', ax=axs)\n",
    "#axs.set_title(f'Correlation analysis on times series data')\n",
    "\n",
    "# Save the figure.\n",
    "fig.savefig(\"corr_analysis.pdf\", bbox_inches='tight')"
   ]
  },
  {
   "cell_type": "code",
   "execution_count": 10,
   "metadata": {},
   "outputs": [
    {
     "data": {
      "text/plain": [
       "(8581,)"
      ]
     },
     "execution_count": 10,
     "metadata": {},
     "output_type": "execute_result"
    }
   ],
   "source": [
    "y_test[:, 5].shape"
   ]
  },
  {
   "cell_type": "markdown",
   "metadata": {},
   "source": [
    "# Linear regression model "
   ]
  },
  {
   "cell_type": "markdown",
   "metadata": {},
   "source": [
    "#### Creating model"
   ]
  },
  {
   "cell_type": "code",
   "execution_count": null,
   "metadata": {},
   "outputs": [],
   "source": [
    "MLR_model = LinearRegression()"
   ]
  },
  {
   "cell_type": "markdown",
   "metadata": {},
   "source": [
    "#### Training the model"
   ]
  },
  {
   "cell_type": "code",
   "execution_count": null,
   "metadata": {},
   "outputs": [],
   "source": [
    "MLR_model.fit(x_train, y_train)"
   ]
  },
  {
   "cell_type": "markdown",
   "metadata": {},
   "source": [
    "#### Prediction"
   ]
  },
  {
   "cell_type": "code",
   "execution_count": null,
   "metadata": {},
   "outputs": [],
   "source": [
    "y_hat_MLR = MLR_model.predict(x_test)\n",
    "\n",
    "\n",
    "\n",
    "# Save the forecast in a CSV file.\n",
    "forecast_MLR = pd.read_csv(\"FYS_STK_ForecastTemplate.csv\", index_col=0)\n",
    "forecast_MLR[\"TIMESTAMP\"] = eval_df[\"dato_id\"]\n",
    "forecast_MLR[\"FORECAST\"] = y_hat_MLR\n",
    "forecast_MLR.to_csv(\"FYS_STK_ForecastTemplate-LR.csv\")"
   ]
  },
  {
   "cell_type": "markdown",
   "metadata": {},
   "source": [
    "#### Evaluation"
   ]
  },
  {
   "cell_type": "code",
   "execution_count": null,
   "metadata": {},
   "outputs": [],
   "source": [
    "RMSE_MLR = RMSE(y_test, y_hat_MLR)\n",
    "print(f\"Overall model score evaluated on training data using RMSE: {RMSE_MLR}\")"
   ]
  },
  {
   "cell_type": "markdown",
   "metadata": {},
   "source": [
    "-----\n"
   ]
  },
  {
   "cell_type": "markdown",
   "metadata": {},
   "source": [
    "# XGBOOST"
   ]
  },
  {
   "cell_type": "code",
   "execution_count": null,
   "metadata": {},
   "outputs": [],
   "source": [
    "# fit model\n",
    "#xgboost = XGBRegressor(objective='reg:squarederror', n_estimators=5000)\n",
    "xgboost = XGBRegressor(objective='reg:squarederror', eta=0.1)\n",
    "xgboost.fit(x_train, y_train)\n",
    "# construct an input for a new preduction\n",
    "#row = values[-6:].flatten()\n",
    "# make a one-step prediction\n",
    "yhat = xgboost.predict(x_test)\n",
    "\n",
    "print(yhat.shape)\n",
    "print(y_test.shape)\n",
    "\n",
    "RMSE_xgboost = RMSE(y_test, yhat)\n",
    "print(f\"Overall model score evaluated on training data using RMSE: {RMSE_xgboost}\")"
   ]
  },
  {
   "cell_type": "code",
   "execution_count": null,
   "metadata": {},
   "outputs": [],
   "source": [
    "idx_from=0; \n",
    "idx_to=720\n",
    "idx_to = y_test.shape[0]\n",
    "\n",
    "x_plot = np.arange(x_test.shape[0])\n",
    "\n",
    "fig, ax = plt.subplots(figsize=(14, 6))\n",
    "ax.set_xlabel(\"Time\")\n",
    "ax.set_ylabel(\"Price\")\n",
    "ax.plot(x_plot[idx_from:idx_to], y_test[idx_from:idx_to], label=\"Actual data / Target data\")\n",
    "ax.plot(x_plot[idx_from:idx_to], yhat[idx_from:idx_to], c=\"r\",linewidth=1, label=f\"XGBOOST , RMSE:{RMSE_xgboost}\")\n",
    "ax.legend(loc=\"upper center\", bbox_to_anchor=(0.5, -0.2))\n",
    "\n",
    "\n",
    "\n",
    "# Save the figure.\n",
    "plt.savefig(\"forecast_plot0.pdf\", bbox_inches='tight')\n",
    "\n"
   ]
  },
  {
   "cell_type": "markdown",
   "metadata": {},
   "source": [
    "# SVR"
   ]
  },
  {
   "cell_type": "markdown",
   "metadata": {},
   "source": [
    "#### Creating model"
   ]
  },
  {
   "cell_type": "code",
   "execution_count": null,
   "metadata": {},
   "outputs": [],
   "source": [
    "SVR_model = SVR(C=1.0, epsilon=0.05) "
   ]
  },
  {
   "cell_type": "markdown",
   "metadata": {},
   "source": [
    "#### Training the model"
   ]
  },
  {
   "cell_type": "code",
   "execution_count": null,
   "metadata": {},
   "outputs": [],
   "source": [
    "SVR_model.fit(x_train, y_train.flatten()) "
   ]
  },
  {
   "cell_type": "markdown",
   "metadata": {},
   "source": [
    "#### Prediction"
   ]
  },
  {
   "cell_type": "code",
   "execution_count": null,
   "metadata": {},
   "outputs": [],
   "source": [
    "y_hat_SVR = SVR_model.predict(x_test)\n",
    "\n",
    "print(y_hat_SVR.shape)\n",
    "\n",
    "# Save the forecast in a CSV file.\n",
    "forecast_SVR = pd.read_csv(\"FYS_STK_ForecastTemplate.csv\", index_col=0)\n",
    "forecast_SVR[\"TIMESTAMP\"] = eval_df[\"dato_id\"]\n",
    "forecast_SVR[\"FORECAST\"] = y_hat_SVR\n",
    "forecast_SVR.to_csv(\"FYS_STK_ForecastTemplate-SVR.csv\")"
   ]
  },
  {
   "cell_type": "markdown",
   "metadata": {},
   "source": [
    "#### Evaluation"
   ]
  },
  {
   "cell_type": "code",
   "execution_count": null,
   "metadata": {},
   "outputs": [],
   "source": [
    "# Calculation the model score using RMSE\n",
    "RMSE_SVR = RMSE(y_test, y_hat_SVR)\n",
    "print(f\"Overall model score evaluated on training data using RMSE: {RMSE_SVR}\")"
   ]
  },
  {
   "cell_type": "markdown",
   "metadata": {},
   "source": [
    "# Evaluation results"
   ]
  },
  {
   "cell_type": "code",
   "execution_count": null,
   "metadata": {},
   "outputs": [],
   "source": [
    "idx_from=0; \n",
    "#idx_to=720\n",
    "idx_to = y_test.shape[0]\n",
    "\n",
    "x_plot = np.arange(x_test.shape[0])\n",
    "\n",
    "fig, ax = plt.subplots(figsize=(7, 4))\n",
    "ax.set_xlabel(\"Time\")\n",
    "ax.set_ylabel(\"Price\")\n",
    "ax.plot(x_plot[idx_from:idx_to], y_test[idx_from:idx_to], linewidth=1, label=\"Actual data / Target data\")\n",
    "ax.plot(x_plot[idx_from:idx_to], y_hat_MLR[idx_from:idx_to], c=\"r\",linewidth=1, label=f\"MLR, RMSE: {RMSE_MLR}\")\n",
    "ax.plot(x_plot[idx_from:idx_to], y_hat_SVR[idx_from:idx_to], c=\"orange\", linewidth=1, label=f\"SVR, RMSE: {RMSE_SVR}\")\n",
    "#ax.set_title(f\"Predicted data using Multiple Linear Regression (MLR) and Support Vector Regression (SVR)\")\n",
    "ax.legend(loc=\"upper center\", bbox_to_anchor=(0.5, -0.2))\n",
    "\n",
    "# Save the figure.\n",
    "plt.savefig(\"forecast_plot1.pdf\", bbox_inches='tight')"
   ]
  },
  {
   "cell_type": "markdown",
   "metadata": {},
   "source": [
    "# Neural Networks\n",
    "We chose to use mean square error as our loss function. Adam is used as the optimizer."
   ]
  },
  {
   "cell_type": "markdown",
   "metadata": {},
   "source": [
    "# ANN - Simple architecture"
   ]
  },
  {
   "cell_type": "markdown",
   "metadata": {},
   "source": [
    "#### Hyperparameters"
   ]
  },
  {
   "cell_type": "code",
   "execution_count": null,
   "metadata": {},
   "outputs": [],
   "source": [
    "eta = 0.004\n",
    "units = 32\n",
    "batch_size = 500\n",
    "EPOCHS = 100"
   ]
  },
  {
   "cell_type": "markdown",
   "metadata": {},
   "source": [
    "#### Model architecture"
   ]
  },
  {
   "cell_type": "code",
   "execution_count": null,
   "metadata": {},
   "outputs": [],
   "source": [
    "class ANN_simple(Sequential):\n",
    "    def __init__(self, eta, units, nbf_outputs):\n",
    "        super(self.__class__, self).__init__()\n",
    "       \n",
    "        self.add(Dense(units, activation='relu')) # First layer\n",
    "        self.add(Dense(units//2, activation='relu')) # Second layer\n",
    "        self.add(Dense(nbf_outputs)) # Output layer\n",
    "\n",
    "        # Model optimizer\n",
    "        opt = tf.keras.optimizers.Adam(learning_rate=eta)\n",
    "        \n",
    "        ## Compile model\n",
    "        self.compile(loss='mse',  optimizer=opt)"
   ]
  },
  {
   "cell_type": "markdown",
   "metadata": {},
   "source": [
    "#### Create model"
   ]
  },
  {
   "cell_type": "code",
   "execution_count": null,
   "metadata": {},
   "outputs": [],
   "source": [
    "ANN_model1 = ANN_simple(eta, units, nbf_outputs)"
   ]
  },
  {
   "cell_type": "markdown",
   "metadata": {},
   "source": [
    "#### Preparing data for training and evaluation"
   ]
  },
  {
   "cell_type": "code",
   "execution_count": null,
   "metadata": {},
   "outputs": [],
   "source": [
    "# Reshaping the training data for it to fit to the model\n",
    "x_train_ANN = x_train.reshape((x_train.shape[0],x_train.shape[1],1))\n",
    "x_train_ANN = np.swapaxes(x_train_ANN,1,2)\n",
    "y_train_ANN = y_train.copy()\n",
    "\n",
    "# Reshaping the test data for it to fit to the model\n",
    "x_test_ANN = x_test.copy()\n",
    "x_test_ANN = x_test_ANN.reshape((x_test_ANN.shape[0],x_test_ANN.shape[1],1))\n",
    "x_test_ANN = np.swapaxes(x_test_ANN,1,2)"
   ]
  },
  {
   "cell_type": "markdown",
   "metadata": {},
   "source": [
    "#### Training the model"
   ]
  },
  {
   "cell_type": "code",
   "execution_count": null,
   "metadata": {},
   "outputs": [],
   "source": [
    "ANN_model1.fit(x_train_ANN, y_train_ANN, shuffle=True, batch_size=batch_size, epochs=EPOCHS, verbose=0)\n",
    "print(ANN_model1.summary())"
   ]
  },
  {
   "cell_type": "markdown",
   "metadata": {},
   "source": [
    "#### Prediction"
   ]
  },
  {
   "cell_type": "code",
   "execution_count": null,
   "metadata": {},
   "outputs": [],
   "source": [
    "y_hat_ANN1 = ANN_model1.predict(x_test_ANN)\n",
    "y_hat_ANN1 = np.squeeze(y_hat_ANN1) # Removing excess dimensions\n",
    "\n",
    "# Save the forecast in a CSV file.\n",
    "forecast_ANN = pd.read_csv(\"FYS_STK_ForecastTemplate.csv\", index_col=0)\n",
    "forecast_ANN[\"TIMESTAMP\"] = eval_df[\"dato_id\"]\n",
    "forecast_ANN[\"FORECAST\"] = y_hat_ANN1.flatten()\n",
    "forecast_ANN.to_csv(\"FYS_STK_ForecastTemplate-ANN.csv\")"
   ]
  },
  {
   "cell_type": "markdown",
   "metadata": {},
   "source": [
    "#### Evaluation"
   ]
  },
  {
   "cell_type": "code",
   "execution_count": null,
   "metadata": {},
   "outputs": [],
   "source": [
    "# Calculation the model score using RMSE\n",
    "RMSE_ANN1 = RMSE(y_test, y_hat_ANN1)\n",
    "print(f\"Overall model score evaluated on training data using RMSE: {RMSE_ANN1}\")"
   ]
  },
  {
   "cell_type": "markdown",
   "metadata": {},
   "source": [
    "# ANN - Complex architecture"
   ]
  },
  {
   "cell_type": "markdown",
   "metadata": {},
   "source": [
    "#### Hyperparameters"
   ]
  },
  {
   "cell_type": "code",
   "execution_count": null,
   "metadata": {},
   "outputs": [],
   "source": [
    "decay= 1e-5\n",
    "eta = 0.005\n",
    "lam = 0.0001\n",
    "units = 32\n",
    "batch_size = 1000\n",
    "drop = 0.2\n",
    "EPOCHS=100"
   ]
  },
  {
   "cell_type": "markdown",
   "metadata": {},
   "source": [
    "#### Model architecture"
   ]
  },
  {
   "cell_type": "code",
   "execution_count": null,
   "metadata": {},
   "outputs": [],
   "source": [
    "class ANN_complex1(Sequential):\n",
    "    def __init__(self, eta, lam, decay, units, drop,  nbf_outputs):\n",
    "        super(self.__class__, self).__init__()\n",
    "       \n",
    "        # Initialization\n",
    "        regz = tf.keras.regularizers.l2(lam)\n",
    "        self.add(Dense(units, kernel_regularizer=regz, activation='relu'))\n",
    "        self.add(BatchNormalization())\n",
    "        self.add(Dropout(drop))\n",
    "        \n",
    "        self.add(Dense(units*2, kernel_regularizer=regz, activation='relu'))\n",
    "        self.add(BatchNormalization())\n",
    "        self.add(Dropout(drop))\n",
    "        \n",
    "        self.add(Dense(units*4, kernel_regularizer=regz, activation='relu'))\n",
    "        self.add(BatchNormalization())\n",
    "        self.add(Dropout(drop))\n",
    "        \n",
    "        self.add(Dense(units*2, kernel_regularizer=regz, activation='relu'))\n",
    "        self.add(BatchNormalization())\n",
    "        self.add(Dropout(drop))\n",
    "        \n",
    "        self.add(Dense(units//2, kernel_regularizer=regz, activation='relu'))\n",
    "        self.add(BatchNormalization())\n",
    "        self.add(Dropout(drop))\n",
    "          \n",
    "        self.add(Dense(nbf_outputs))\n",
    "\n",
    "        # Model optimizer\n",
    "        opt = tf.keras.optimizers.Adam(learning_rate=eta, decay=decay)\n",
    "        \n",
    "        ## Compile model\n",
    "        self.compile(loss='mse',  optimizer=opt, metrics=[tf.keras.metrics.RootMeanSquaredError()])\n",
    "        \n",
    "        tf.keras.backend.clear_session()\n",
    "        \n",
    "    \n",
    "    def fit(self, x_train, y_train, shuffle = True, batch_size = 32, epochs=100,\n",
    "            validation_split=0.2, verbose=0):\n",
    "        \"\"\"\n",
    "        Wrapper method that builds regularization into the training to \n",
    "        intentionally prevent overfitting. This method splits the\n",
    "        training data into traning and validation such that validation \n",
    "        data can be used to validate the model during the traning process.\n",
    "        \"\"\"\n",
    "        learning_rate_reduction = ReduceLROnPlateau(monitor='val_loss', \n",
    "                                            patience=6, \n",
    "                                            verbose=1, \n",
    "                                            factor=0.1, \n",
    "                                            min_lr=0.000001)\n",
    "        earlystop = EarlyStopping(patience=20)\n",
    "        callbacks = [earlystop, learning_rate_reduction]\n",
    "        \n",
    "        return super().fit(x_train, y_train, shuffle=shuffle, batch_size=batch_size, epochs=epochs, \n",
    "                      validation_split=validation_split, callbacks= callbacks, verbose=verbose)"
   ]
  },
  {
   "cell_type": "markdown",
   "metadata": {},
   "source": [
    "#### Create model"
   ]
  },
  {
   "cell_type": "code",
   "execution_count": null,
   "metadata": {},
   "outputs": [],
   "source": [
    "ANN_model2 = ANN_complex1(eta, lam, decay, units, drop, nbf_outputs)"
   ]
  },
  {
   "cell_type": "markdown",
   "metadata": {},
   "source": [
    "#### Preparing data for training and evaluation"
   ]
  },
  {
   "cell_type": "code",
   "execution_count": null,
   "metadata": {},
   "outputs": [],
   "source": [
    "print(f\"x_train.shape:{x_train.shape}, y_train.shape:{y_train.shape}\")\n",
    "# Reshaping the training data for it to fit to the model\n",
    "x_train_ANN = x_train.reshape((x_train.shape[0],x_train.shape[1],1))\n",
    "x_train_ANN = np.swapaxes(x_train_ANN,1,2)\n",
    "y_train_ANN = y_train.copy()\n",
    "\n",
    "# Reshaping the test data for it to fit to the model\n",
    "x_test_ANN = x_test.copy()\n",
    "x_test_ANN = x_test_ANN.reshape((x_test_ANN.shape[0],x_test_ANN.shape[1],1))\n",
    "x_test_ANN = np.swapaxes(x_test_ANN,1,2)"
   ]
  },
  {
   "cell_type": "markdown",
   "metadata": {},
   "source": [
    "#### Training the model"
   ]
  },
  {
   "cell_type": "code",
   "execution_count": null,
   "metadata": {},
   "outputs": [],
   "source": [
    "training = ANN_model2.fit(x_train_ANN, y_train_ANN,shuffle=True,batch_size=batch_size, epochs=EPOCHS,\n",
    "               validation_split=0.1, verbose=0)\n",
    "print(ANN_model2.summary())"
   ]
  },
  {
   "cell_type": "code",
   "execution_count": null,
   "metadata": {},
   "outputs": [],
   "source": [
    "train_losses = np.array(training.history['loss'])\n",
    "val_losses = np.array(training.history['val_loss'])\n",
    "val_rmse = np.array(training.history['val_root_mean_squared_error'])\n",
    "x = np.arange(train_losses.shape[0])\n",
    "\n",
    "fig, ax = plt.subplots(figsize=(6, 2))\n",
    "ax.set_xlabel(\"Epoch\")\n",
    "ax.set_ylabel(\"Loss values\")\n",
    "ax.plot(x, train_losses, linewidth=1, label=\"Training loss\")\n",
    "ax.plot(x, val_losses, linewidth=1, label=\"Validation loss\")\n",
    "ax.legend(loc=\"upper center\")\n",
    "\n",
    "plt.savefig(\"ANN_training.pdf\", bbox_inches='tight')"
   ]
  },
  {
   "cell_type": "markdown",
   "metadata": {},
   "source": [
    "The plot above indicates how the training went. We can see from the plot that the validation loss does not have an increasing trend, and it converge towards the training loss. This shows us that the model is not overfitted to the training data despite the relatively advanced model architecture. \n",
    "\n",
    "The model is constructed with regularization; regularizers, dropouts, early stopping, and learning rate reduction. The main purpose of regularization is to prevent underfitting and overfitting of the model and generalize it properly for new previously unseen data. The regularization definitely contributes to the curvature of the losses in the plot. However, it seems that the models we explored for this assignment were not so easy overfitted to the training data. The regularization may have been unnecessary considering the data we have and the setup we are using. "
   ]
  },
  {
   "cell_type": "markdown",
   "metadata": {},
   "source": [
    "#### Prediction"
   ]
  },
  {
   "cell_type": "code",
   "execution_count": null,
   "metadata": {},
   "outputs": [],
   "source": [
    "y_hat_ANN2 = ANN_model2.predict(x_test_ANN)\n",
    "y_hat_ANN2 = np.squeeze(y_hat_ANN2) # Removing excess dimensions"
   ]
  },
  {
   "cell_type": "markdown",
   "metadata": {},
   "source": [
    "#### Evaluation"
   ]
  },
  {
   "cell_type": "code",
   "execution_count": null,
   "metadata": {},
   "outputs": [],
   "source": [
    "# Calculation the model score using RMSE\n",
    "RMSE_ANN2 = RMSE(y_test, y_hat_ANN2)\n",
    "print(f\"Overall model score evaluated on test data using RMSE: {RMSE_ANN2}\")"
   ]
  },
  {
   "cell_type": "markdown",
   "metadata": {},
   "source": [
    "# LSTM (RNN)\n",
    "We are using the LSTM model as our RNN model. The LSTM is configured for a many-to-one problem using a bidirectional wrapper."
   ]
  },
  {
   "cell_type": "markdown",
   "metadata": {},
   "source": [
    "#### Hyperparameters"
   ]
  },
  {
   "cell_type": "code",
   "execution_count": 11,
   "metadata": {},
   "outputs": [],
   "source": [
    "eta = 0.001\n",
    "units = 100\n",
    "batch_size = 16\n",
    "EPOCHS=50\n",
    "nbf_outputs=24"
   ]
  },
  {
   "cell_type": "markdown",
   "metadata": {},
   "source": [
    "#### Model architecture"
   ]
  },
  {
   "cell_type": "code",
   "execution_count": 14,
   "metadata": {},
   "outputs": [],
   "source": [
    "class LSTM_model(Sequential):\n",
    "    def __init__(self, eta, units, model_shape, nbf_outputs):\n",
    "        super(self.__class__, self).__init__()\n",
    "        # regz = tf.keras.regularizers.l2(lam)\n",
    "        # Bidirectional LSTM layer\n",
    "        # self.add(Bidirectional(LSTM(units, input_shape = model_shape, kernel_regularizer=regz  ,return_sequences = True)))\n",
    "        # self.add(LSTM(units, input_shape = model_shape, return_sequences = True))\n",
    "        # self.add(Bidirectional(LSTM(units, input_shape = model_shape, return_sequences = True)))\n",
    "        self.add(LSTM(units, input_shape = model_shape, return_sequences = True))\n",
    "        \n",
    "                \n",
    "        # Dense layer\n",
    "        # self.add(Dense(units, kernel_regularizer=regz, activation='relu'))\n",
    "        self.add(Dense(units, activation='relu'))\n",
    "        # self.add(TimeDistributed(Dense(units, activation='relu')))\n",
    "        \n",
    "        \n",
    "\n",
    "        # Output layer\n",
    "        self.add(Dense(nbf_outputs))\n",
    "\n",
    "        # Model compile settings\n",
    "        opt = tf.keras.optimizers.Adam(learning_rate=eta)\n",
    "        \n",
    "        ## Compile model\n",
    "        self.compile(loss='mse', optimizer=opt, metrics=[tf.keras.metrics.RootMeanSquaredError()])"
   ]
  },
  {
   "cell_type": "code",
   "execution_count": 15,
   "metadata": {},
   "outputs": [],
   "source": [
    "learning_rate_reduction = ReduceLROnPlateau(monitor='val_loss', \n",
    "                                            patience=5, \n",
    "                                            verbose=1, \n",
    "                                            factor=0.1, \n",
    "                                            min_lr=0.000001)\n",
    "callbacks = [learning_rate_reduction]"
   ]
  },
  {
   "cell_type": "markdown",
   "metadata": {},
   "source": [
    "#### Model shape\n",
    "LSTM requires a shape of (batch_size, time_steps, num_features)"
   ]
  },
  {
   "cell_type": "code",
   "execution_count": 27,
   "metadata": {},
   "outputs": [
    {
     "name": "stdout",
     "output_type": "stream",
     "text": [
      "(72, 1)\n"
     ]
    }
   ],
   "source": [
    "time_steps = 72 # 72 hours = 3 days of history per training sequence\n",
    "nbf_features = x_train.shape[1]\n",
    "nbf_features = 1\n",
    "model_shape = (time_steps, nbf_features); print(model_shape)"
   ]
  },
  {
   "cell_type": "markdown",
   "metadata": {},
   "source": [
    "#### Create model"
   ]
  },
  {
   "cell_type": "code",
   "execution_count": 28,
   "metadata": {},
   "outputs": [],
   "source": [
    "RNN_model1 = LSTM_model(eta, units, model_shape, nbf_outputs)"
   ]
  },
  {
   "cell_type": "code",
   "execution_count": 29,
   "metadata": {},
   "outputs": [
    {
     "name": "stdout",
     "output_type": "stream",
     "text": [
      "34225\n",
      "25\n",
      "475.2638888888889\n",
      "8581\n",
      "13\n",
      "118.375\n",
      "(34174, 24)\n",
      "(8529, 24)\n"
     ]
    }
   ],
   "source": [
    "print(x_train.shape[0])\n",
    "print(x_train.shape[0]%time_steps)\n",
    "print((x_train.shape[0]-6)/time_steps)\n",
    "\n",
    "print(x_test.shape[0])\n",
    "print(x_test.shape[0]%time_steps)\n",
    "print((x_test.shape[0]-58)/time_steps)\n",
    "\n",
    "print(y_train[34351-34300: , :].shape)\n",
    "print(y_test[8592-8540:,:].shape)"
   ]
  },
  {
   "cell_type": "markdown",
   "metadata": {},
   "source": [
    "#### Preparing data for training and evaluation"
   ]
  },
  {
   "cell_type": "code",
   "execution_count": 30,
   "metadata": {},
   "outputs": [
    {
     "name": "stdout",
     "output_type": "stream",
     "text": [
      "(34225, 72)\n",
      "(34200, 72)\n"
     ]
    },
    {
     "ename": "ValueError",
     "evalue": "cannot reshape array of size 2462400 into shape (475,72,1)",
     "output_type": "error",
     "traceback": [
      "\u001b[1;31m---------------------------------------------------------------------------\u001b[0m",
      "\u001b[1;31mValueError\u001b[0m                                Traceback (most recent call last)",
      "\u001b[1;32m~\\AppData\\Local\\Temp/ipykernel_12624/3840038815.py\u001b[0m in \u001b[0;36m<module>\u001b[1;34m\u001b[0m\n\u001b[0;32m      8\u001b[0m \u001b[1;33m\u001b[0m\u001b[0m\n\u001b[0;32m      9\u001b[0m \u001b[0mbatch_size_train\u001b[0m \u001b[1;33m=\u001b[0m \u001b[0mtrainX\u001b[0m\u001b[1;33m.\u001b[0m\u001b[0mshape\u001b[0m\u001b[1;33m[\u001b[0m\u001b[1;36m0\u001b[0m\u001b[1;33m]\u001b[0m \u001b[1;33m//\u001b[0m \u001b[0mtime_steps\u001b[0m\u001b[1;33m\u001b[0m\u001b[1;33m\u001b[0m\u001b[0m\n\u001b[1;32m---> 10\u001b[1;33m \u001b[0mx_train_RNN\u001b[0m \u001b[1;33m=\u001b[0m \u001b[0mtrainX\u001b[0m\u001b[1;33m.\u001b[0m\u001b[0mreshape\u001b[0m\u001b[1;33m(\u001b[0m\u001b[1;33m(\u001b[0m\u001b[0mbatch_size_train\u001b[0m\u001b[1;33m,\u001b[0m \u001b[0mtime_steps\u001b[0m\u001b[1;33m,\u001b[0m \u001b[0mnbf_features\u001b[0m\u001b[1;33m)\u001b[0m\u001b[1;33m)\u001b[0m\u001b[1;33m\u001b[0m\u001b[1;33m\u001b[0m\u001b[0m\n\u001b[0m\u001b[0;32m     11\u001b[0m \u001b[0my_train_RNN\u001b[0m \u001b[1;33m=\u001b[0m \u001b[0mtrainY\u001b[0m\u001b[1;33m.\u001b[0m\u001b[0mcopy\u001b[0m\u001b[1;33m(\u001b[0m\u001b[1;33m)\u001b[0m\u001b[1;33m\u001b[0m\u001b[1;33m\u001b[0m\u001b[0m\n\u001b[0;32m     12\u001b[0m \u001b[0my_train_RNN\u001b[0m \u001b[1;33m=\u001b[0m \u001b[0my_train_RNN\u001b[0m\u001b[1;33m.\u001b[0m\u001b[0mreshape\u001b[0m\u001b[1;33m(\u001b[0m\u001b[1;33m(\u001b[0m\u001b[0mbatch_size_train\u001b[0m\u001b[1;33m,\u001b[0m \u001b[0mtime_steps\u001b[0m\u001b[1;33m,\u001b[0m \u001b[0mnbf_outputs\u001b[0m\u001b[1;33m)\u001b[0m\u001b[1;33m)\u001b[0m\u001b[1;33m\u001b[0m\u001b[1;33m\u001b[0m\u001b[0m\n",
      "\u001b[1;31mValueError\u001b[0m: cannot reshape array of size 2462400 into shape (475,72,1)"
     ]
    }
   ],
   "source": [
    "# Training data pre-processing\n",
    "train_start_idx = x_train.shape[0]%time_steps\n",
    "trainX = x_train[train_start_idx: , :] # \n",
    "trainY = y_train[train_start_idx: , :] # \n",
    "\n",
    "print(x_train.shape)\n",
    "print(trainX.shape)\n",
    "\n",
    "batch_size_train = trainX.shape[0] // time_steps\n",
    "x_train_RNN = trainX.reshape((batch_size_train, time_steps, nbf_features))\n",
    "y_train_RNN = trainY.copy()\n",
    "y_train_RNN = y_train_RNN.reshape((batch_size_train, time_steps, nbf_outputs))\n",
    "\n",
    "# Test data pre-processing\n",
    "test_start_idx = x_test.shape[0]%time_steps\n",
    "x_test_ = x_test[test_start_idx:,:]\n",
    "y_test_ = y_test[test_start_idx:,:]\n",
    "\n",
    "batch_size_test = x_test_.shape[0] // time_steps\n",
    "x_test_RNN = x_test_.reshape((batch_size_test, time_steps, nbf_features))\n",
    "y_test_RNN = y_test_.copy()\n",
    "y_test_RNN = y_test_RNN.reshape((batch_size_test, time_steps, nbf_outputs))\n",
    "y_test_RNN = y_test_RNN#.flatten()\n",
    "\n",
    "print(y_test_RNN.shape)\n",
    "print(y_test_.shape)\n",
    "\n",
    "print(f\"{x_train_RNN.shape=}\")\n",
    "print(f\"{y_train_RNN.shape=}\")"
   ]
  },
  {
   "cell_type": "markdown",
   "metadata": {},
   "source": [
    "#### Training the model"
   ]
  },
  {
   "cell_type": "code",
   "execution_count": 21,
   "metadata": {},
   "outputs": [
    {
     "name": "stdout",
     "output_type": "stream",
     "text": [
      "\n",
      "Epoch 00006: ReduceLROnPlateau reducing learning rate to 0.00010000000474974513.\n",
      "\n",
      "Epoch 00017: ReduceLROnPlateau reducing learning rate to 1.0000000474974514e-05.\n",
      "\n",
      "Epoch 00022: ReduceLROnPlateau reducing learning rate to 1.0000000656873453e-06.\n",
      "\n",
      "Epoch 00027: ReduceLROnPlateau reducing learning rate to 1e-06.\n",
      "Model: \"lstm_model\"\n",
      "_________________________________________________________________\n",
      " Layer (type)                Output Shape              Param #   \n",
      "=================================================================\n",
      " lstm (LSTM)                 (None, 72, 100)           69200     \n",
      "                                                                 \n",
      " dense (Dense)               (None, 72, 100)           10100     \n",
      "                                                                 \n",
      " dense_1 (Dense)             (None, 72, 24)            2424      \n",
      "                                                                 \n",
      "=================================================================\n",
      "Total params: 81,724\n",
      "Trainable params: 81,724\n",
      "Non-trainable params: 0\n",
      "_________________________________________________________________\n",
      "None\n"
     ]
    }
   ],
   "source": [
    "RNN_training = RNN_model1.fit(x_train_RNN,  y_train_RNN, \n",
    "                              validation_split=0.10, \n",
    "                              callbacks= callbacks, \n",
    "                              shuffle=False, \n",
    "                              batch_size=batch_size, \n",
    "                              epochs=EPOCHS, \n",
    "                              verbose=0)\n",
    "print(RNN_model1.summary())\n"
   ]
  },
  {
   "cell_type": "code",
   "execution_count": 22,
   "metadata": {},
   "outputs": [
    {
     "data": {
      "image/png": "[encoded data removed]",
      "text/plain": [
       "<Figure size 576x288 with 1 Axes>"
      ]
     },
     "metadata": {
      "needs_background": "light"
     },
     "output_type": "display_data"
    }
   ],
   "source": [
    "train_losses = np.array(RNN_training.history['loss'])\n",
    "val_losses = np.array(RNN_training.history['val_loss'])\n",
    "val_rmse = np.array(RNN_training.history['val_root_mean_squared_error'])\n",
    "x = np.arange(train_losses.shape[0])\n",
    "\n",
    "fig, ax = plt.subplots(figsize=(8, 4))\n",
    "ax.set_xlabel(\"Epoch\")\n",
    "ax.set_ylabel(\"Loss values\")\n",
    "ax.plot(x, train_losses, linewidth=1, label=\"Training loss\")\n",
    "ax.plot(x, val_losses, linewidth=1, label=\"Validation loss\")\n",
    "ax.legend(loc=\"upper center\")\n",
    "\n",
    "plt.savefig(\"RNN_training.pdf\", bbox_inches='tight')"
   ]
  },
  {
   "cell_type": "markdown",
   "metadata": {},
   "source": [
    "#### Prediction"
   ]
  },
  {
   "cell_type": "code",
   "execution_count": 23,
   "metadata": {},
   "outputs": [
    {
     "name": "stdout",
     "output_type": "stream",
     "text": [
      "(119, 72)\n"
     ]
    }
   ],
   "source": [
    "\n",
    "y_hat_RNN1 = RNN_model1.predict(x_test_RNN)\n",
    "print(y_hat_RNN1[:,:,0].shape)\n",
    "\n",
    "y_hat_RNN1 = y_hat_RNN1[:,:,0].flatten()\n",
    "\n",
    "# Save the forecast in a CSV file.\n",
    "forecast_RNN = pd.read_csv(\"FYS_STK_ForecastTemplate.csv\", index_col=0)\n",
    "forecast_RNN[\"TIMESTAMP\"] = eval_df[\"dato_id\"][test_start_idx:]\n",
    "forecast_RNN[\"FORECAST\"] = y_hat_RNN1\n",
    "forecast_RNN.to_csv(\"FYS_STK_ForecastTemplate-RNN.csv\")"
   ]
  },
  {
   "cell_type": "markdown",
   "metadata": {},
   "source": [
    "#### Evaluation"
   ]
  },
  {
   "cell_type": "code",
   "execution_count": 24,
   "metadata": {},
   "outputs": [
    {
     "name": "stdout",
     "output_type": "stream",
     "text": [
      "(8568,)\n",
      "(8568,)\n",
      "0.0193\n"
     ]
    }
   ],
   "source": [
    "print(y_hat_RNN1.shape)\n",
    "print(y_test_RNN[:,:,0].flatten().shape)\n",
    "\n",
    "RMSE_RNN1 = RMSE(y_test_RNN[:,:,0].flatten(), y_hat_RNN1)\n",
    "print(RMSE_RNN1)"
   ]
  },
  {
   "cell_type": "markdown",
   "metadata": {},
   "source": [
    "# Evaluation results"
   ]
  },
  {
   "cell_type": "code",
   "execution_count": 25,
   "metadata": {},
   "outputs": [
    {
     "name": "stdout",
     "output_type": "stream",
     "text": [
      "(8568,)\n",
      "(8581, 24)\n"
     ]
    },
    {
     "data": {
      "image/png": "[encoded data removed]",
      "text/plain": [
       "<Figure size 1440x648 with 1 Axes>"
      ]
     },
     "metadata": {
      "needs_background": "light"
     },
     "output_type": "display_data"
    }
   ],
   "source": [
    "print(y_hat_RNN1.shape)\n",
    "print(y_test.shape)\n",
    "\n",
    "idx_from=0\n",
    "# idx_to=2200\n",
    "idx_to=y_hat_RNN1.shape[0]\n",
    "x_plot = np.arange(y_hat_RNN1.shape[0]+time_steps)\n",
    "\n",
    "fig, ax = plt.subplots(figsize=(20, 9))\n",
    "ax.set_xlabel(\"Time\")\n",
    "ax.set_ylabel(\"Price\")\n",
    "ax.plot(x_plot[idx_from : idx_to], y_test[idx_from:idx_to, 0], label=\"Actual data / Target data\")\n",
    "ax.plot(x_plot[idx_from+time_steps-38 : idx_to+time_steps-38], y_hat_RNN1[idx_from:idx_to], c=\"red\", linewidth=1, label=f\"LSTM, RMSE:{RMSE_RNN1}\")\n",
    "ax.legend(loc=\"upper center\", bbox_to_anchor=(0.5, -0.2))\n",
    "\n",
    "plt.savefig(\"RNN_results.pdf\", bbox_inches='tight')\n"
   ]
  },
  {
   "cell_type": "markdown",
   "metadata": {},
   "source": [
    "# Final results"
   ]
  },
  {
   "cell_type": "code",
   "execution_count": null,
   "metadata": {},
   "outputs": [],
   "source": [
    "data = {'RMSE': [RMSE_MLR, RMSE_SVR, RMSE_ANN1, RMSE_RNN1]}\n",
    "results = pd.DataFrame.from_dict(data, orient='index',  columns=['MLR', 'SVR', 'ANN', 'RNN'])\n",
    "results = results.style.background_gradient(cmap='RdYlGn_r',axis=1)\n",
    "display(results) "
   ]
  },
  {
   "cell_type": "code",
   "execution_count": null,
   "metadata": {},
   "outputs": [],
   "source": [
    "a = c"
   ]
  },
  {
   "cell_type": "markdown",
   "metadata": {},
   "source": [
    "-----\n"
   ]
  },
  {
   "cell_type": "markdown",
   "metadata": {},
   "source": [
    "# Stateful LSTM (RNN)\n",
    "We are using the LSTM model as our RNN model\n",
    "Many-to-one configuration using the stateful flag"
   ]
  },
  {
   "cell_type": "markdown",
   "metadata": {},
   "source": [
    "#### Hyperparameters"
   ]
  },
  {
   "cell_type": "code",
   "execution_count": null,
   "metadata": {},
   "outputs": [],
   "source": [
    "eta = 0.004\n",
    "units = 64\n",
    "batch_size = 1\n",
    "EPOCHS = 50"
   ]
  },
  {
   "cell_type": "markdown",
   "metadata": {},
   "source": [
    "#### Model architecture"
   ]
  },
  {
   "cell_type": "code",
   "execution_count": null,
   "metadata": {},
   "outputs": [],
   "source": [
    "# The best performing model\n",
    "class LSTM_stateful_model(Sequential):\n",
    "    def __init__(self, eta, units, model_shape, nbf_outputs):\n",
    "        super(self.__class__, self).__init__()\n",
    "       \n",
    "        self.add(Bidirectional(LSTM(units, input_shape=model_shape, stateful=True, return_sequences = True)))\n",
    "        self.add(Dense(units, activation='relu'))\n",
    "\n",
    "        # Output layer\n",
    "        self.add(TimeDistributed(Dense(1)))\n",
    "\n",
    "        # Model compile settings\n",
    "        opt = tf.keras.optimizers.Adam(learning_rate=eta)\n",
    "        \n",
    "        ## Compile model\n",
    "        self.compile(loss='mse', optimizer=opt)"
   ]
  },
  {
   "cell_type": "markdown",
   "metadata": {},
   "source": [
    "#### Model shape\n",
    "LSTM requires a shape of (batch_size, time_steps, num_features). Stateful models are trained using a fixed batch size of 1 since it uses the hidden state output from the previous batch as input to the initial hidden state for the current batch"
   ]
  },
  {
   "cell_type": "code",
   "execution_count": null,
   "metadata": {},
   "outputs": [],
   "source": [
    "time_steps = 70 # 72 hours = 3 days of history per training sequence\n",
    "model_shape = (time_steps, nbf_features); print(model_shape)"
   ]
  },
  {
   "cell_type": "markdown",
   "metadata": {},
   "source": [
    "#### Create model"
   ]
  },
  {
   "cell_type": "code",
   "execution_count": null,
   "metadata": {},
   "outputs": [],
   "source": [
    "RNN_model2 = LSTM_stateful_model(eta, units, model_shape, nbf_outputs)"
   ]
  },
  {
   "cell_type": "markdown",
   "metadata": {},
   "source": [
    "#### Preparing data for training and evaluation"
   ]
  },
  {
   "cell_type": "code",
   "execution_count": null,
   "metadata": {},
   "outputs": [],
   "source": [
    "# # Time series slicing parameters\n",
    "# nbf_features = input_window = 24 \n",
    "# nbf_outputs = output_window = 1\n",
    "\n",
    "# # Creating time series traing and evaluation (test) data besed on sliding window approach\n",
    "# x_train, y_train, x_test, y_test, train_df, eval_df = create_time_series_data(training_df, forcast_sol_df, nbf_features, nbf_outputs)\n",
    "\n",
    "\n",
    "# Training data pre-processing\n",
    "\n",
    "trainX = x_train[x_train.shape[0]-34300: , :] # Discarding some samples to make the shapes add up\n",
    "trainY = y_train[y_train.shape[0]-34300: , :] # Discarding some samples to make the shapes add up\n",
    "\n",
    "\n",
    "batch_size_train = x_train.shape[0] // time_steps\n",
    "x_train_RNN2 = trainX.reshape((batch_size_train, time_steps, nbf_features))\n",
    "y_train_RNN2 = trainY.copy()\n",
    "y_train_RNN2 = y_train_RNN.reshape((batch_size_train, time_steps, nbf_outputs))\n",
    "\n",
    "print(f\"{x_train_RNN2.shape=}\")\n",
    "# Test data pre-processing\n",
    "\n",
    "x_test_ = x_test[8592-8540:,:]\n",
    "y_test_ = y_test[8592-8540:,:]\n",
    "\n",
    "batch_size_test = x_test_.shape[0] // time_steps\n",
    "x_test_RNN = x_test_.reshape((batch_size_test, time_steps, nbf_features))\n",
    "y_test_RNN = y_test_.copy()\n",
    "y_test_RNN = y_test_RNN.reshape((batch_size_test, time_steps, nbf_outputs))\n",
    "y_test_RNN = y_test_RNN#.flatten()\n",
    "\n",
    "print(y_test_RNN.shape)\n",
    "print(y_test_.shape)\n",
    "\n",
    "\n",
    "\n",
    "# Training data pre-processing\n",
    "# trainX = x_train[20:] # Discarding some samples to make the shapes add up\n",
    "# trainY = y_train[20:] # Discarding some samples to make the shapes add up\n",
    "\n",
    "# batch_size_train = x_train.shape[0] // time_steps\n",
    "# x_train_RNN2 = trainX.reshape((batch_size_train, time_steps, nbf_features))\n",
    "# y_train_RNN2 = trainY.copy()\n",
    "# y_train_RNN2 = y_train_RNN2.reshape((batch_size_train, time_steps, 1))\n",
    "\n",
    "# # Test data pre-processing\n",
    "# batch_size_test = x_test.shape[0] // time_steps\n",
    "# x_test_RNN = x_test.reshape((batch_size_test, time_steps, nbf_features))\n",
    "# y_test_RNN = y_test.copy()\n",
    "# y_test_RNN = y_test_RNN.reshape((batch_size_test, time_steps, 1))\n",
    "# y_test_RNN = y_test_RNN.flatten()"
   ]
  },
  {
   "cell_type": "markdown",
   "metadata": {},
   "source": [
    "#### Training the model\n",
    "Stateful LSTMs are trained differently than the default LSTM. Since they carry over the hidden state from batch-to-batch, the batch size must be 1. Shuffle must be false, since the order of the batches matter in the data series. Lastly the hidden state must be reset at the ende of the each epoch, otherwise the hidden state at the end of the dataset will be feed into the starte of the next epoch. You only want batches to be orderly chained, not epochs.  "
   ]
  },
  {
   "cell_type": "code",
   "execution_count": null,
   "metadata": {
    "collapsed": true,
    "jupyter": {
     "outputs_hidden": true
    }
   },
   "outputs": [],
   "source": [
    "for e in range(EPOCHS):\n",
    "    print(f\"Training epoch {e}\")\n",
    "    RNN_model2.fit(x_train_RNN2, y_train_RNN2, epochs=1, batch_size=batch_size, verbose=0, shuffle=False)\n",
    "    RNN_model2.reset_states()\n",
    "print(RNN_model2.summary())"
   ]
  },
  {
   "cell_type": "markdown",
   "metadata": {},
   "source": [
    "#### Prediction"
   ]
  },
  {
   "cell_type": "code",
   "execution_count": null,
   "metadata": {},
   "outputs": [],
   "source": [
    "y_hat_RNN2 = RNN_model2.predict(x_test_RNN, batch_size=1)\n",
    "print(y_hat_RNN2.shape)\n",
    "y_hat_RNN2 = y_hat_RNN2.flatten()"
   ]
  },
  {
   "cell_type": "markdown",
   "metadata": {},
   "source": [
    "#### Evaluation"
   ]
  },
  {
   "cell_type": "code",
   "execution_count": null,
   "metadata": {},
   "outputs": [],
   "source": [
    "print(y_test_RNN.flatten().shape)\n",
    "RMSE_RNN2 = RMSE(y_test_RNN.flatten(), y_hat_RNN2)\n",
    "print(RMSE_RNN2)"
   ]
  },
  {
   "cell_type": "markdown",
   "metadata": {},
   "source": [
    "\n",
    "\n",
    "\n",
    "\n",
    "\n",
    "\n",
    "\n",
    "\n",
    "\n",
    "\n",
    "\n",
    "\n",
    "\n",
    "# Evaluation results"
   ]
  },
  {
   "cell_type": "code",
   "execution_count": null,
   "metadata": {},
   "outputs": [],
   "source": [
    "idx_from=0; \n",
    "idx_to=720\n",
    "idx_to=y_hat_RNN2.shape[0]\n",
    "x_plot = np.arange(x_test.shape[0])\n",
    "\n",
    "fig, ax = plt.subplots(figsize=(7, 4))\n",
    "ax.set_xlabel(\"Time\")\n",
    "ax.set_ylabel(\"Power\")\n",
    "ax.plot(x_plot[idx_from:idx_to], y_test[idx_from:idx_to], linewidth=1, label=\"Actual data / Target data\")\n",
    "ax.plot(x_plot[idx_from:idx_to], y_hat_RNN2[idx_from:idx_to], c=\"orange\", linewidth=1, label=f\"RNN (LSTM), RMSE: {RMSE_RNN1}\")\n",
    "#ax.set_title(f\"Predicted data using Artificial Neural Network (ANN) and Recurrent Neural Network (RNN)\")\n",
    "ax.legend(loc=\"upper center\", bbox_to_anchor=(0.5, -0.2))\n",
    "\n",
    "# Save the figure.\n",
    "plt.savefig(\"forecast_plot2.pdf\", bbox_inches='tight')"
   ]
  },
  {
   "cell_type": "markdown",
   "metadata": {},
   "source": [
    "# Final results"
   ]
  },
  {
   "cell_type": "code",
   "execution_count": null,
   "metadata": {},
   "outputs": [],
   "source": [
    "data = {'RMSE': [RMSE_MLR, RMSE_SVR, RMSE_ANN1, RMSE_RNN1]}\n",
    "RMSEs = pd.DataFrame.from_dict(data, orient='index',  columns=['MLR', 'SVR', 'ANN', 'RNN'])\n",
    "RMSEs_styled = RMSEs.style.background_gradient(cmap='RdYlGn_r',axis=1)\n",
    "display(RMSEs_styled)"
   ]
  },
  {
   "cell_type": "markdown",
   "metadata": {},
   "source": [
    "## A table of all relevant RMSEs"
   ]
  },
  {
   "cell_type": "code",
   "execution_count": null,
   "metadata": {},
   "outputs": [],
   "source": [
    "RMSEs = RMSEs.T\n",
    "RMSEs = RMSEs.rename({\"RNN\" : \"RNN (LSTM)\"})\n",
    "RMSEs.to_csv(\"q3_RMSE.csv\")"
   ]
  },
  {
   "cell_type": "markdown",
   "metadata": {},
   "source": [
    "----------------------------\n",
    "# Tests using different window size in the time series data"
   ]
  },
  {
   "cell_type": "markdown",
   "metadata": {},
   "source": [
    "## Create windowed time series data"
   ]
  },
  {
   "cell_type": "code",
   "execution_count": null,
   "metadata": {},
   "outputs": [],
   "source": [
    "# Training data\n",
    "training_df = pd.read_csv(\"entsoe_dataset_main.csv\")[[\"NO5_day_ahead_prices\",\"dato_id\"]][0:-8760]; print(training_df.shape)\n",
    "\n",
    "# Forecast solutions\n",
    "training_df, forcast_sol_df = train_test_split(training_df, shuffle=False, test_size=0.2, random_state=4155)\n",
    "\n",
    "nbf_features = window_size = 20\n",
    "nbf_outputs = 1\n",
    "\n",
    "# Creating time series traing and evaluation (test) data besed on sliding window approach\n",
    "x_train, y_train, x_test, y_test, train_df, eval_df = create_time_series_data(training_df, forcast_sol_df, window_size, nbf_outputs)"
   ]
  },
  {
   "cell_type": "markdown",
   "metadata": {},
   "source": [
    "# Linear regression model "
   ]
  },
  {
   "cell_type": "code",
   "execution_count": null,
   "metadata": {},
   "outputs": [],
   "source": [
    "MLR_model2 = LinearRegression()\n",
    "MLR_model2.fit(x_train, y_train)\n",
    "y_hat_MLR2 = MLR_model2.predict(x_test)\n",
    "RMSE_MLR2 = RMSE(y_test, y_hat_MLR2)\n",
    "print(f\"Overall model score evaluated on training data using RMSE: {RMSE_MLR2}\")"
   ]
  },
  {
   "cell_type": "markdown",
   "metadata": {},
   "source": [
    "# SVR"
   ]
  },
  {
   "cell_type": "code",
   "execution_count": null,
   "metadata": {},
   "outputs": [],
   "source": [
    "SVR_model2 = SVR(C=1.0, epsilon=0.05) \n",
    "SVR_model2.fit(x_train, y_train.flatten()) \n",
    "y_hat_SVR2 = SVR_model2.predict(x_test)\n",
    "RMSE_SVR2 = RMSE(y_test, y_hat_SVR2)\n",
    "print(f\"Overall model score evaluated on training data using RMSE: {RMSE_SVR2}\")"
   ]
  },
  {
   "cell_type": "markdown",
   "metadata": {},
   "source": [
    "# ANN - Simple architecture"
   ]
  },
  {
   "cell_type": "code",
   "execution_count": null,
   "metadata": {},
   "outputs": [],
   "source": [
    "# Hyperparameters\n",
    "eta = 0.004\n",
    "units = 64\n",
    "batch_size = 500\n",
    "EPOCHS = 100\n",
    "\n",
    "# Create model\n",
    "ANN_model3 = ANN_simple(eta, units, nbf_outputs)\n",
    "\n",
    "# Reshaping the training data for it to fit to the model\n",
    "x_train_ANN = x_train.reshape((x_train.shape[0],x_train.shape[1],1))\n",
    "x_train_ANN = np.swapaxes(x_train_ANN,1,2)\n",
    "y_train_ANN = y_train.copy()\n",
    "\n",
    "# Reshaping the test data for it to fit to the model\n",
    "x_test_ANN = x_test.copy()\n",
    "x_test_ANN = x_test_ANN.reshape((x_test_ANN.shape[0],x_test_ANN.shape[1],1))\n",
    "x_test_ANN = np.swapaxes(x_test_ANN,1,2)\n",
    "\n",
    "# Training\n",
    "ANN_model3.fit(x_train_ANN, y_train_ANN, shuffle=True, batch_size=batch_size, epochs=EPOCHS, verbose=0)\n",
    "\n",
    "# Prediction\n",
    "y_hat_ANN3 = ANN_model3.predict(x_test_ANN)\n",
    "y_hat_ANN3 = np.squeeze(y_hat_ANN3) # Removing excess dimensions\n",
    "\n",
    "# Calculation the model score using RMSE\n",
    "RMSE_ANN3 = RMSE(y_test, y_hat_ANN3)\n",
    "print(f\"Overall model score evaluated on training data using RMSE: {RMSE_ANN3}\")"
   ]
  },
  {
   "cell_type": "markdown",
   "metadata": {},
   "source": [
    "# ANN - Complex architecture"
   ]
  },
  {
   "cell_type": "code",
   "execution_count": null,
   "metadata": {},
   "outputs": [],
   "source": [
    "# Hyperparameters\n",
    "decay= 1e-5\n",
    "eta = 0.005\n",
    "lam = 0.0001\n",
    "units = 64\n",
    "batch_size = 500\n",
    "drop = 0.3\n",
    "EPOCHS=100\n",
    "\n",
    "# Create model\n",
    "ANN_model4 = ANN_complex1(eta, lam, decay, units, drop, nbf_outputs)\n",
    "\n",
    "# Reshaping the training data for it to fit to the model\n",
    "x_train_ANN = x_train.reshape((x_train.shape[0],x_train.shape[1],1))\n",
    "x_train_ANN = np.swapaxes(x_train_ANN,1,2)\n",
    "y_train_ANN = y_train.copy()\n",
    "\n",
    "# Reshaping the test data for it to fit to the model\n",
    "x_test_ANN = x_test.copy()\n",
    "x_test_ANN = x_test_ANN.reshape((x_test_ANN.shape[0],x_test_ANN.shape[1],1))\n",
    "x_test_ANN = np.swapaxes(x_test_ANN,1,2)\n",
    "\n",
    "# Training\n",
    "ANN_model4.fit(x_train_ANN, y_train_ANN,shuffle=True,batch_size=batch_size, epochs=EPOCHS,\n",
    "               validation_split=0.1, verbose=0)\n",
    "\n",
    "# Prediction\n",
    "y_hat_ANN4 = ANN_model4.predict(x_test_ANN)\n",
    "y_hat_ANN4 = np.squeeze(y_hat_ANN4) # Removing excess dimensions\n",
    "\n",
    "# Calculation the model score using RMSE\n",
    "RMSE_ANN4 = RMSE(y_test, y_hat_ANN4)\n",
    "print(f\"Overall model score evaluated on test data using RMSE: {RMSE_ANN4}\")"
   ]
  },
  {
   "cell_type": "markdown",
   "metadata": {},
   "source": [
    "# LSTM (RNN)"
   ]
  },
  {
   "cell_type": "code",
   "execution_count": null,
   "metadata": {},
   "outputs": [],
   "source": [
    "# Hyperparameters\n",
    "eta = 0.004\n",
    "units = 64\n",
    "batch_size = 16\n",
    "EPOCHS=100\n",
    "\n",
    "# Model shape\n",
    "time_steps = 72 # 72 hours = 3 days of history per training sequence\n",
    "model_shape = (time_steps, nbf_features); print(model_shape)\n",
    "\n",
    "# Create model\n",
    "RNN_model3 = LSTM_model(eta, units, model_shape, nbf_outputs)\n",
    "\n",
    "# Training data pre-processing\n",
    "trainX = x_train[4:]\n",
    "trainY = y_train[4:]\n",
    "batch_size_train = x_train.shape[0] // time_steps\n",
    "x_train_RNN = trainX.reshape((batch_size_train, time_steps, nbf_features))\n",
    "y_train_RNN = trainY.copy()\n",
    "y_train_RNN = y_train_RNN.reshape((batch_size_train, time_steps, 1))\n",
    "\n",
    "# Test data pre-processing\n",
    "batch_size_test = x_test.shape[0] // time_steps\n",
    "x_test_RNN = x_test.reshape((batch_size_test, time_steps, nbf_features))\n",
    "y_test_RNN = y_test.copy()\n",
    "y_test_RNN = y_test_RNN.reshape((batch_size_test, time_steps, 1))\n",
    "y_test_RNN = y_test_RNN.flatten()\n",
    "\n",
    "# Training\n",
    "RNN_model3.fit(x_train_RNN, y_train_RNN, shuffle=False, batch_size=batch_size, epochs=EPOCHS, verbose=0)\n",
    "\n",
    "# Prediction\n",
    "y_hat_RNN3 = RNN_model3.predict(x_test_RNN)\n",
    "y_hat_RNN3 = y_hat_RNN3.flatten()\n",
    "\n",
    "# Calculation the model score using RMSE\n",
    "RMSE_RNN3 = RMSE(y_test_RNN, y_hat_RNN3)\n",
    "print(RMSE_RNN3)"
   ]
  },
  {
   "cell_type": "markdown",
   "metadata": {},
   "source": [
    "# Final results on window size of 20"
   ]
  },
  {
   "cell_type": "code",
   "execution_count": null,
   "metadata": {},
   "outputs": [],
   "source": [
    "data = {'RMSE': [RMSE_MLR, RMSE_SVR, RMSE_ANN1, RMSE_RNN3]}\n",
    "RMSEs = pd.DataFrame.from_dict(data, orient='index',  columns=['MLR', 'SVR', 'ANN', 'RNN'])\n",
    "RMSEs_styled = RMSEs.style.background_gradient(cmap='RdYlGn_r',axis=1)\n",
    "display(RMSEs_styled)"
   ]
  },
  {
   "cell_type": "markdown",
   "metadata": {},
   "source": [
    "# Stateful LSTM (RNN)\n",
    "Many-to-one configuration using the stateful flag"
   ]
  },
  {
   "cell_type": "code",
   "execution_count": null,
   "metadata": {
    "collapsed": true,
    "jupyter": {
     "outputs_hidden": true
    }
   },
   "outputs": [],
   "source": [
    "# Hyperparameters\n",
    "eta = 0.004\n",
    "units = 64\n",
    "batch_size = 1\n",
    "EPOCHS = 100\n",
    "\n",
    "# Model shape\n",
    "time_steps = 72 # 72 hours = 3 days of history per training sequence\n",
    "model_shape = (time_steps, nbf_features); print(model_shape)\n",
    "\n",
    "# Create model\n",
    "RNN_model4 = LSTM_stateful_model(eta, units, model_shape, nbf_outputs)\n",
    "\n",
    "# Training data pre-processing\n",
    "trainX = x_train[4:]\n",
    "trainY = y_train[4:]\n",
    "batch_size_train = x_train.shape[0] // time_steps\n",
    "x_train_RNN4 = trainX.reshape((batch_size_train, time_steps, nbf_features))\n",
    "y_train_RNN4 = trainY.copy()\n",
    "y_train_RNN4 = y_train_RNN4.reshape((batch_size_train, time_steps, 1))\n",
    "\n",
    "# Test data pre-processing\n",
    "batch_size_test = x_test.shape[0] // time_steps\n",
    "x_test_RNN = x_test.reshape((batch_size_test, time_steps, nbf_features))\n",
    "y_test_RNN = y_test.copy()\n",
    "y_test_RNN = y_test_RNN.reshape((batch_size_test, time_steps, 1))\n",
    "y_test_RNN = y_test_RNN.flatten()\n",
    "\n",
    "\n",
    "# Training\n",
    "for e in range(EPOCHS):\n",
    "    print(f\"Training epoch {e}\")\n",
    "    RNN_model4.fit(x_train_RNN4, y_train_RNN4, epochs=1, batch_size=batch_size, verbose=0, shuffle=False)\n",
    "    RNN_model4.reset_states()\n",
    "    \n",
    "# Prediction\n",
    "y_hat_RNN4 = RNN_model4.predict(x_test_RNN, batch_size=1)\n",
    "y_hat_RNN4 = y_hat_RNN4.flatten()"
   ]
  },
  {
   "cell_type": "code",
   "execution_count": null,
   "metadata": {},
   "outputs": [],
   "source": [
    "# Calculation the model score using RMSE\n",
    "RMSE_RNN4 = RMSE(y_test_RNN, y_hat_RNN4)\n",
    "print(RMSE_RNN4)"
   ]
  },
  {
   "cell_type": "markdown",
   "metadata": {},
   "source": [
    "# Final results on window size of 20"
   ]
  },
  {
   "cell_type": "code",
   "execution_count": null,
   "metadata": {},
   "outputs": [],
   "source": [
    "data = {'RMSE': [RMSE_MLR, RMSE_SVR, RMSE_ANN1, RMSE_RNN4]}\n",
    "RMSEs = pd.DataFrame.from_dict(data, orient='index',  columns=['MLR', 'SVR', 'ANN', 'RNN'])\n",
    "RMSEs_styled = RMSEs.style.background_gradient(cmap='RdYlGn_r',axis=1)\n",
    "display(RMSEs_styled)"
   ]
  },
  {
   "cell_type": "code",
   "execution_count": null,
   "metadata": {},
   "outputs": [],
   "source": []
  }
 ],
 "metadata": {
  "kernelspec": {
   "display_name": "Python 3",
   "language": "python",
   "name": "python3"
  },
  "language_info": {
   "codemirror_mode": {
    "name": "ipython",
    "version": 3
   },
   "file_extension": ".py",
   "mimetype": "text/x-python",
   "name": "python",
   "nbconvert_exporter": "python",
   "pygments_lexer": "ipython3",
   "version": "3.8.12"
  }
 },
 "nbformat": 4,
 "nbformat_minor": 4
}
