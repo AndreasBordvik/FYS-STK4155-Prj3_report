{
 "cells": [
  {
   "cell_type": "code",
   "execution_count": 1,
   "metadata": {},
   "outputs": [],
   "source": [
    "from sklearn.metrics import mean_squared_error as MSE\n",
    "from common import *\n",
    "from models import *"
   ]
  },
  {
   "cell_type": "code",
   "execution_count": 2,
   "metadata": {},
   "outputs": [
    {
     "name": "stdout",
     "output_type": "stream",
     "text": [
      "(51648, 20)\n"
     ]
    }
   ],
   "source": [
    "df = pd.read_csv(\"../data/input_data/MAIN_DATASET.csv\")\n",
    "print(df.shape)"
   ]
  },
  {
   "cell_type": "code",
   "execution_count": 3,
   "metadata": {},
   "outputs": [],
   "source": [
    "days = seperate_column_to_days(df['NO2_price'])\n"
   ]
  },
  {
   "cell_type": "markdown",
   "metadata": {},
   "source": [
    "# Creating datasets of days\n",
    "What I want is to create individual sequences of days, the idea is to use 72 hours to create 3 days, which can then be used to predict further on in time"
   ]
  },
  {
   "cell_type": "code",
   "execution_count": 4,
   "metadata": {},
   "outputs": [],
   "source": [
    "lookbehind = 3\n",
    "horizon = 24\n",
    "no_hours = lookbehind*24 + horizon# lookbehind + one horizon\n",
    "hour_in_days = int(no_hours / 24)\n",
    "\n",
    "dataset = []\n",
    "for i in range(len(days)-hour_in_days+1):\n",
    "    dataset.append(np.concatenate((days[i:i+hour_in_days])))\n",
    "\n",
    "dataset = np.array(dataset)"
   ]
  },
  {
   "cell_type": "code",
   "execution_count": 5,
   "metadata": {},
   "outputs": [
    {
     "name": "stdout",
     "output_type": "stream",
     "text": [
      "2145 192 1\n"
     ]
    }
   ],
   "source": [
    "scaler = MinMaxScaler()\n",
    "dataset = scaler.fit_transform(dataset)\n",
    "dataset = dataset[..., np.newaxis].astype(np.float32)\n",
    "\n",
    "n,m,k = dataset.shape\n",
    "print(n,m,k)\n",
    "\n",
    "n_steps = m - 24\n",
    "horizon = 24"
   ]
  },
  {
   "cell_type": "code",
   "execution_count": 6,
   "metadata": {},
   "outputs": [
    {
     "name": "stdout",
     "output_type": "stream",
     "text": [
      "X_train.shape=(1501, 168, 1)\n",
      "X_valid.shape=(429, 168, 1)\n",
      "X_test.shape=(215, 168, 1)\n"
     ]
    }
   ],
   "source": [
    "train = int(0.7*n)\n",
    "valid = int(0.9*n)\n",
    "#train = int(0.9*n)\n",
    "\n",
    "# (7000 time series, 50 steps each)\n",
    "X_train, y_train = dataset[:train, :n_steps], dataset[:train, -horizon:, 0]\n",
    "X_valid, y_valid = dataset[train:valid, :n_steps], dataset[train:valid, -horizon: 0]\n",
    "X_test, y_test = dataset[valid:, :n_steps], dataset[valid:, -horizon:, 0]\n",
    "#X_test, y_test = dataset[train:, :n_steps], dataset[train:, -horizon:, 0]\n",
    "\n",
    "\n",
    "# Seq - to - seq does not give satisfying results\n",
    "\n",
    "Y = np.empty((n, n_steps, horizon))\n",
    "for step_ahead in range(1, horizon + 1):\n",
    "    Y[:,:, step_ahead - 1] = dataset[:,step_ahead:step_ahead + n_steps, 0]\n",
    "\n",
    "Y_train = Y[:train]\n",
    "Y_valid = Y[train:valid]\n",
    "Y_test = Y[valid:]\n",
    "\n",
    "\n",
    "print(f\"{X_train.shape=}\")\n",
    "print(f\"{X_valid.shape=}\")\n",
    "print(f\"{X_test.shape=}\")"
   ]
  },
  {
   "cell_type": "code",
   "execution_count": 7,
   "metadata": {},
   "outputs": [
    {
     "data": {
      "text/plain": [
       "'\\nmodel_gru = keras.models.Sequential([\\n    keras.layers.GRU(20, return_sequences=True, input_shape=[None, 1]),\\n    keras.layers.GRU(20, return_sequences=True),\\n    keras.layers.TimeDistributed(keras.layers.Dense(horizon))\\n])\\n'"
      ]
     },
     "execution_count": 7,
     "metadata": {},
     "output_type": "execute_result"
    }
   ],
   "source": [
    "model = keras.models.Sequential([\n",
    "    keras.layers.SimpleRNN(20, return_sequences=True, input_shape=[None, 1]),\n",
    "    keras.layers.SimpleRNN(20),\n",
    "    keras.layers.Dense(horizon)\n",
    "])\n",
    "\n",
    "\n",
    "model_ln = keras.models.Sequential([\n",
    "    keras.layers.RNN(LNSimpleRNNCell(20), return_sequences=True, input_shape=[None, 1]),\n",
    "    keras.layers.RNN(LNSimpleRNNCell(20)),\n",
    "    keras.layers.Dense(horizon)\n",
    "])\n",
    "\n",
    "model_lstm = keras.models.Sequential([\n",
    "    keras.layers.LSTM(20, return_sequences=True, input_shape=[None, 1]),\n",
    "    keras.layers.LSTM(20),\n",
    "    keras.layers.Dense(horizon)\n",
    "])\n",
    "\n",
    "\"\"\"\n",
    "model_gru = keras.models.Sequential([\n",
    "    keras.layers.GRU(20, return_sequences=True, input_shape=[None, 1]),\n",
    "    keras.layers.GRU(20, return_sequences=True),\n",
    "    keras.layers.TimeDistributed(keras.layers.Dense(horizon))\n",
    "])\n",
    "\"\"\""
   ]
  },
  {
   "cell_type": "code",
   "execution_count": 8,
   "metadata": {},
   "outputs": [
    {
     "name": "stdout",
     "output_type": "stream",
     "text": [
      "Model: \"sequential\"\n",
      "_________________________________________________________________\n",
      " Layer (type)                Output Shape              Param #   \n",
      "=================================================================\n",
      " simple_rnn (SimpleRNN)      (None, None, 20)          440       \n",
      "                                                                 \n",
      " simple_rnn_1 (SimpleRNN)    (None, 20)                820       \n",
      "                                                                 \n",
      " dense (Dense)               (None, 24)                504       \n",
      "                                                                 \n",
      "=================================================================\n",
      "Total params: 1,764\n",
      "Trainable params: 1,764\n",
      "Non-trainable params: 0\n",
      "_________________________________________________________________\n",
      "Model: \"sequential_1\"\n",
      "_________________________________________________________________\n",
      " Layer (type)                Output Shape              Param #   \n",
      "=================================================================\n",
      " rnn (RNN)                   (None, None, 20)          480       \n",
      "                                                                 \n",
      " rnn_1 (RNN)                 (None, 20)                860       \n",
      "                                                                 \n",
      " dense_1 (Dense)             (None, 24)                504       \n",
      "                                                                 \n",
      "=================================================================\n",
      "Total params: 1,844\n",
      "Trainable params: 1,844\n",
      "Non-trainable params: 0\n",
      "_________________________________________________________________\n",
      "Model: \"sequential_2\"\n",
      "_________________________________________________________________\n",
      " Layer (type)                Output Shape              Param #   \n",
      "=================================================================\n",
      " lstm (LSTM)                 (None, None, 20)          1760      \n",
      "                                                                 \n",
      " lstm_1 (LSTM)               (None, 20)                3280      \n",
      "                                                                 \n",
      " dense_2 (Dense)             (None, 24)                504       \n",
      "                                                                 \n",
      "=================================================================\n",
      "Total params: 5,544\n",
      "Trainable params: 5,544\n",
      "Non-trainable params: 0\n",
      "_________________________________________________________________\n"
     ]
    }
   ],
   "source": [
    "model.summary()\n",
    "model_ln.summary()\n",
    "model_lstm.summary()\n",
    "#model_gru.summary()"
   ]
  },
  {
   "cell_type": "code",
   "execution_count": 9,
   "metadata": {},
   "outputs": [],
   "source": [
    "optimizer = keras.optimizers.Adam(learning_rate=0.01)\n",
    "epochs = 5\n",
    "model.compile(loss=\"mse\", optimizer=optimizer, metrics=[last_time_step_mse])\n",
    "model_ln.compile(loss=\"mse\", optimizer=optimizer, metrics=[last_time_step_mse])\n",
    "model_lstm.compile(loss=\"mse\", optimizer=optimizer, metrics=[last_time_step_mse])\n",
    "#model_gru.compile(loss=\"mse\", optimizer=optimizer, metrics=[last_time_step_mse])"
   ]
  },
  {
   "cell_type": "code",
   "execution_count": 10,
   "metadata": {},
   "outputs": [
    {
     "name": "stdout",
     "output_type": "stream",
     "text": [
      "Epoch 1/5\n",
      "2/2 [==============================] - 4s 580ms/step - loss: 0.1072 - last_time_step_mse: 0.3511\n",
      "Epoch 2/5\n",
      "2/2 [==============================] - 1s 584ms/step - loss: 0.0701 - last_time_step_mse: 0.1674\n",
      "Epoch 3/5\n",
      "2/2 [==============================] - 1s 588ms/step - loss: 0.0472 - last_time_step_mse: 0.0919\n",
      "Epoch 4/5\n",
      "2/2 [==============================] - 1s 584ms/step - loss: 0.0175 - last_time_step_mse: 0.1431\n",
      "Epoch 5/5\n",
      "2/2 [==============================] - 1s 604ms/step - loss: 0.0127 - last_time_step_mse: 0.1580\n"
     ]
    }
   ],
   "source": [
    "batch_size = 1000\n",
    "\n",
    "history = model.fit(X_train, y_train, batch_size=batch_size, epochs=epochs)#, validation_data=(X_valid, y_valid))"
   ]
  },
  {
   "cell_type": "code",
   "execution_count": 11,
   "metadata": {},
   "outputs": [
    {
     "name": "stdout",
     "output_type": "stream",
     "text": [
      "Epoch 1/5\n",
      "2/2 [==============================] - 5s 1s/step - loss: 0.3779 - last_time_step_mse: 0.5113\n",
      "Epoch 2/5\n",
      "2/2 [==============================] - 2s 1s/step - loss: 0.3203 - last_time_step_mse: 0.3637\n",
      "Epoch 3/5\n",
      "2/2 [==============================] - 2s 1s/step - loss: 0.2135 - last_time_step_mse: 0.5054\n",
      "Epoch 4/5\n",
      "2/2 [==============================] - 2s 1s/step - loss: 0.1507 - last_time_step_mse: 0.1502\n",
      "Epoch 5/5\n",
      "2/2 [==============================] - 2s 1s/step - loss: 0.1764 - last_time_step_mse: 0.6063\n"
     ]
    }
   ],
   "source": [
    "history_ln = model_ln.fit(X_train, y_train, batch_size=batch_size, epochs=epochs)#, validation_data=(X_valid, y_valid))"
   ]
  },
  {
   "cell_type": "code",
   "execution_count": 12,
   "metadata": {},
   "outputs": [
    {
     "name": "stdout",
     "output_type": "stream",
     "text": [
      "Epoch 1/5\n",
      "2/2 [==============================] - 7s 21ms/step - loss: 0.0478 - last_time_step_mse: 0.1843\n",
      "Epoch 2/5\n",
      "2/2 [==============================] - 0s 24ms/step - loss: 0.0300 - last_time_step_mse: 0.1988\n",
      "Epoch 3/5\n",
      "2/2 [==============================] - 0s 73ms/step - loss: 0.0130 - last_time_step_mse: 0.1470\n",
      "Epoch 4/5\n",
      "2/2 [==============================] - 0s 50ms/step - loss: 0.0044 - last_time_step_mse: 0.0466\n",
      "Epoch 5/5\n",
      "2/2 [==============================] - 0s 32ms/step - loss: 0.0057 - last_time_step_mse: 0.0414\n"
     ]
    }
   ],
   "source": [
    "history_lstm = model_lstm.fit(X_train, y_train, batch_size=batch_size, epochs=epochs)#, validation_data=(X_valid, y_valid))"
   ]
  },
  {
   "cell_type": "code",
   "execution_count": 13,
   "metadata": {},
   "outputs": [],
   "source": [
    "#history_gru = model_gru.fit(X_train, Y_train, epochs=epochs, validation_data=(X_valid, Y_valid))"
   ]
  },
  {
   "cell_type": "code",
   "execution_count": 14,
   "metadata": {},
   "outputs": [],
   "source": [
    "Y_pred = model.predict(X_test)"
   ]
  },
  {
   "cell_type": "code",
   "execution_count": 15,
   "metadata": {},
   "outputs": [],
   "source": [
    "Y_pred_ln = model_ln.predict(X_test)"
   ]
  },
  {
   "cell_type": "code",
   "execution_count": 16,
   "metadata": {},
   "outputs": [],
   "source": [
    "Y_pred_lstm = model_lstm.predict(X_test)"
   ]
  },
  {
   "cell_type": "markdown",
   "metadata": {},
   "source": [
    "# Sequence to vector, with 24 outputs at final timestep"
   ]
  },
  {
   "cell_type": "code",
   "execution_count": 17,
   "metadata": {},
   "outputs": [
    {
     "data": {
      "image/png": "[encoded data removed]",
      "text/plain": [
       "<Figure size 1080x720 with 1 Axes>"
      ]
     },
     "metadata": {
      "needs_background": "light"
     },
     "output_type": "display_data"
    }
   ],
   "source": [
    "x = np.arange(no_hours)\n",
    "plt.figure(figsize=(15,10))\n",
    "plt.plot(x[:no_hours-horizon], X_test[36,:].flatten(), '.-')\n",
    "plt.plot(x[-horizon:], Y_pred[36].flatten(), '-.', label=\"SimpleRNN\")\n",
    "#plt.plot(x[-horizon:], Y_pred_ln[36].flatten(), '-.', label=\"LayerNorm\")\n",
    "#plt.plot(x[-horizon:], Y_pred_lstm[36].flatten(), '-.', label=\"LSTM\")\n",
    "plt.legend()\n",
    "plt.grid()\n",
    "plt.show()"
   ]
  },
  {
   "cell_type": "markdown",
   "metadata": {},
   "source": [
    "# SEQ to SEQ plots\n",
    "These are now corrected"
   ]
  },
  {
   "cell_type": "code",
   "execution_count": 18,
   "metadata": {},
   "outputs": [],
   "source": [
    "model = keras.models.Sequential([\n",
    "    keras.layers.SimpleRNN(64, return_sequences=True, input_shape=[None, 1]),\n",
    "    keras.layers.SimpleRNN(32, return_sequences=True),\n",
    "    #keras.layers.SimpleRNN(32, return_sequences=True),\n",
    "    #keras.layers.SimpleRNN(64, return_sequences=True),\n",
    "    keras.layers.Dense(horizon)#, activation='leaky_relu')\n",
    "])\n",
    "\n",
    "model_lstm = keras.models.Sequential([\n",
    "    keras.layers.LSTM(64, return_sequences=True, input_shape=[None, 1]),\n",
    "    keras.layers.LSTM(32, return_sequences=True),\n",
    "    #keras.layers.LSTM(32, return_sequences=True),\n",
    "    #keras.layers.LSTM(64, return_sequences=True),\n",
    "    keras.layers.Dense(horizon)#, activation='leaky_relu')\n",
    "])\n",
    "\n",
    "model_gru = keras.models.Sequential([\n",
    "    keras.layers.Conv1D(filters=32, kernel_size=4, strides=2, padding=\"valid\", input_shape=[None, 1]),\n",
    "    keras.layers.GRU(64, return_sequences=True),\n",
    "    keras.layers.GRU(32, return_sequences=True),\n",
    "    #keras.layers.GRU(32, return_sequences=True),\n",
    "    #keras.layers.GRU(64, return_sequences=True),\n",
    "    keras.layers.Dense(horizon)#, activation='leaky_relu')\n",
    "])"
   ]
  },
  {
   "cell_type": "code",
   "execution_count": 19,
   "metadata": {},
   "outputs": [],
   "source": [
    "optimizer = keras.optimizers.Adam(learning_rate=0.01)\n",
    "epochs = 25\n",
    "model.compile(loss=\"mse\", optimizer=optimizer, metrics=[last_time_step_mse])\n",
    "model_lstm.compile(loss=\"mse\", optimizer=optimizer, metrics=[last_time_step_mse])\n",
    "model_gru.compile(loss=\"mse\", optimizer=optimizer, metrics=[last_time_step_mse])"
   ]
  },
  {
   "cell_type": "code",
   "execution_count": 20,
   "metadata": {},
   "outputs": [
    {
     "name": "stdout",
     "output_type": "stream",
     "text": [
      "Model: \"sequential_3\"\n",
      "_________________________________________________________________\n",
      " Layer (type)                Output Shape              Param #   \n",
      "=================================================================\n",
      " simple_rnn_2 (SimpleRNN)    (None, None, 64)          4224      \n",
      "                                                                 \n",
      " simple_rnn_3 (SimpleRNN)    (None, None, 32)          3104      \n",
      "                                                                 \n",
      " dense_3 (Dense)             (None, None, 24)          792       \n",
      "                                                                 \n",
      "=================================================================\n",
      "Total params: 8,120\n",
      "Trainable params: 8,120\n",
      "Non-trainable params: 0\n",
      "_________________________________________________________________\n",
      "Model: \"sequential_4\"\n",
      "_________________________________________________________________\n",
      " Layer (type)                Output Shape              Param #   \n",
      "=================================================================\n",
      " lstm_2 (LSTM)               (None, None, 64)          16896     \n",
      "                                                                 \n",
      " lstm_3 (LSTM)               (None, None, 32)          12416     \n",
      "                                                                 \n",
      " dense_4 (Dense)             (None, None, 24)          792       \n",
      "                                                                 \n",
      "=================================================================\n",
      "Total params: 30,104\n",
      "Trainable params: 30,104\n",
      "Non-trainable params: 0\n",
      "_________________________________________________________________\n"
     ]
    }
   ],
   "source": [
    "model.summary()\n",
    "model_lstm.summary()"
   ]
  },
  {
   "cell_type": "code",
   "execution_count": 22,
   "metadata": {},
   "outputs": [
    {
     "name": "stdout",
     "output_type": "stream",
     "text": [
      "Epoch 1/25\n",
      "2/2 [==============================] - 3s 2s/step - loss: 0.0021 - last_time_step_mse: 0.0342 - val_loss: 0.0020 - val_last_time_step_mse: 0.0264\n",
      "Epoch 2/25\n",
      "2/2 [==============================] - 3s 2s/step - loss: 0.0020 - last_time_step_mse: 0.0332 - val_loss: 0.0020 - val_last_time_step_mse: 0.0268\n",
      "Epoch 3/25\n",
      "2/2 [==============================] - 3s 2s/step - loss: 0.0020 - last_time_step_mse: 0.0336 - val_loss: 0.0019 - val_last_time_step_mse: 0.0257\n",
      "Epoch 4/25\n",
      "2/2 [==============================] - 3s 2s/step - loss: 0.0020 - last_time_step_mse: 0.0330 - val_loss: 0.0019 - val_last_time_step_mse: 0.0255\n",
      "Epoch 5/25\n",
      "2/2 [==============================] - 3s 2s/step - loss: 0.0019 - last_time_step_mse: 0.0328 - val_loss: 0.0019 - val_last_time_step_mse: 0.0253\n",
      "Epoch 6/25\n",
      "2/2 [==============================] - 3s 2s/step - loss: 0.0019 - last_time_step_mse: 0.0331 - val_loss: 0.0019 - val_last_time_step_mse: 0.0244\n",
      "Epoch 7/25\n",
      "2/2 [==============================] - 3s 2s/step - loss: 0.0019 - last_time_step_mse: 0.0322 - val_loss: 0.0019 - val_last_time_step_mse: 0.0248\n",
      "Epoch 8/25\n",
      "2/2 [==============================] - 3s 2s/step - loss: 0.0018 - last_time_step_mse: 0.0326 - val_loss: 0.0018 - val_last_time_step_mse: 0.0242\n",
      "Epoch 9/25\n",
      "2/2 [==============================] - 3s 2s/step - loss: 0.0018 - last_time_step_mse: 0.0323 - val_loss: 0.0018 - val_last_time_step_mse: 0.0237\n",
      "Epoch 10/25\n",
      "2/2 [==============================] - 3s 2s/step - loss: 0.0018 - last_time_step_mse: 0.0318 - val_loss: 0.0018 - val_last_time_step_mse: 0.0240\n",
      "Epoch 11/25\n",
      "2/2 [==============================] - 3s 2s/step - loss: 0.0017 - last_time_step_mse: 0.0318 - val_loss: 0.0018 - val_last_time_step_mse: 0.0237\n",
      "Epoch 12/25\n",
      "2/2 [==============================] - 3s 2s/step - loss: 0.0017 - last_time_step_mse: 0.0321 - val_loss: 0.0018 - val_last_time_step_mse: 0.0228\n",
      "Epoch 13/25\n",
      "2/2 [==============================] - 3s 2s/step - loss: 0.0017 - last_time_step_mse: 0.0313 - val_loss: 0.0018 - val_last_time_step_mse: 0.0226\n",
      "Epoch 14/25\n",
      "2/2 [==============================] - 3s 2s/step - loss: 0.0016 - last_time_step_mse: 0.0312 - val_loss: 0.0017 - val_last_time_step_mse: 0.0225\n",
      "Epoch 15/25\n",
      "2/2 [==============================] - 3s 2s/step - loss: 0.0016 - last_time_step_mse: 0.0310 - val_loss: 0.0017 - val_last_time_step_mse: 0.0224\n",
      "Epoch 16/25\n",
      "2/2 [==============================] - 3s 2s/step - loss: 0.0016 - last_time_step_mse: 0.0308 - val_loss: 0.0017 - val_last_time_step_mse: 0.0222\n",
      "Epoch 17/25\n",
      "2/2 [==============================] - 3s 2s/step - loss: 0.0015 - last_time_step_mse: 0.0306 - val_loss: 0.0017 - val_last_time_step_mse: 0.0215\n",
      "Epoch 18/25\n",
      "2/2 [==============================] - 3s 2s/step - loss: 0.0015 - last_time_step_mse: 0.0299 - val_loss: 0.0017 - val_last_time_step_mse: 0.0216\n",
      "Epoch 19/25\n",
      "2/2 [==============================] - 3s 2s/step - loss: 0.0015 - last_time_step_mse: 0.0295 - val_loss: 0.0017 - val_last_time_step_mse: 0.0218\n",
      "Epoch 20/25\n",
      "2/2 [==============================] - 3s 2s/step - loss: 0.0015 - last_time_step_mse: 0.0293 - val_loss: 0.0017 - val_last_time_step_mse: 0.0221\n",
      "Epoch 21/25\n",
      "2/2 [==============================] - 3s 2s/step - loss: 0.0015 - last_time_step_mse: 0.0291 - val_loss: 0.0017 - val_last_time_step_mse: 0.0216\n",
      "Epoch 22/25\n",
      "2/2 [==============================] - 3s 2s/step - loss: 0.0014 - last_time_step_mse: 0.0288 - val_loss: 0.0017 - val_last_time_step_mse: 0.0209\n",
      "Epoch 23/25\n",
      "2/2 [==============================] - 3s 2s/step - loss: 0.0014 - last_time_step_mse: 0.0281 - val_loss: 0.0017 - val_last_time_step_mse: 0.0209\n",
      "Epoch 24/25\n",
      "2/2 [==============================] - 3s 3s/step - loss: 0.0014 - last_time_step_mse: 0.0277 - val_loss: 0.0017 - val_last_time_step_mse: 0.0205\n",
      "Epoch 25/25\n",
      "2/2 [==============================] - 2s 1s/step - loss: 0.0014 - last_time_step_mse: 0.0273 - val_loss: 0.0017 - val_last_time_step_mse: 0.0210\n"
     ]
    }
   ],
   "source": [
    "\n",
    "history = model.fit(X_train, Y_train, epochs=epochs, batch_size=batch_size, validation_data=(X_valid, Y_valid))"
   ]
  },
  {
   "cell_type": "code",
   "execution_count": 23,
   "metadata": {},
   "outputs": [
    {
     "name": "stdout",
     "output_type": "stream",
     "text": [
      "Epoch 1/25\n"
     ]
    },
    {
     "ename": "KeyboardInterrupt",
     "evalue": "",
     "output_type": "error",
     "traceback": [
      "\u001b[1;31m---------------------------------------------------------------------------\u001b[0m",
      "\u001b[1;31mKeyboardInterrupt\u001b[0m                         Traceback (most recent call last)",
      "\u001b[1;32m~\\AppData\\Local\\Temp/ipykernel_21300/1256473692.py\u001b[0m in \u001b[0;36m<module>\u001b[1;34m\u001b[0m\n\u001b[1;32m----> 1\u001b[1;33m \u001b[0mhistory_lstm\u001b[0m \u001b[1;33m=\u001b[0m \u001b[0mmodel_lstm\u001b[0m\u001b[1;33m.\u001b[0m\u001b[0mfit\u001b[0m\u001b[1;33m(\u001b[0m\u001b[0mX_train\u001b[0m\u001b[1;33m,\u001b[0m \u001b[0mY_train\u001b[0m\u001b[1;33m,\u001b[0m \u001b[0mepochs\u001b[0m\u001b[1;33m=\u001b[0m\u001b[0mepochs\u001b[0m\u001b[1;33m,\u001b[0m \u001b[0mvalidation_data\u001b[0m\u001b[1;33m=\u001b[0m\u001b[1;33m(\u001b[0m\u001b[0mX_valid\u001b[0m\u001b[1;33m,\u001b[0m \u001b[0mY_valid\u001b[0m\u001b[1;33m)\u001b[0m\u001b[1;33m)\u001b[0m\u001b[1;33m\u001b[0m\u001b[1;33m\u001b[0m\u001b[0m\n\u001b[0m",
      "\u001b[1;32m~\\anaconda3\\envs\\fysstk_tf\\lib\\site-packages\\keras\\utils\\traceback_utils.py\u001b[0m in \u001b[0;36merror_handler\u001b[1;34m(*args, **kwargs)\u001b[0m\n\u001b[0;32m     62\u001b[0m     \u001b[0mfiltered_tb\u001b[0m \u001b[1;33m=\u001b[0m \u001b[1;32mNone\u001b[0m\u001b[1;33m\u001b[0m\u001b[1;33m\u001b[0m\u001b[0m\n\u001b[0;32m     63\u001b[0m     \u001b[1;32mtry\u001b[0m\u001b[1;33m:\u001b[0m\u001b[1;33m\u001b[0m\u001b[1;33m\u001b[0m\u001b[0m\n\u001b[1;32m---> 64\u001b[1;33m       \u001b[1;32mreturn\u001b[0m \u001b[0mfn\u001b[0m\u001b[1;33m(\u001b[0m\u001b[1;33m*\u001b[0m\u001b[0margs\u001b[0m\u001b[1;33m,\u001b[0m \u001b[1;33m**\u001b[0m\u001b[0mkwargs\u001b[0m\u001b[1;33m)\u001b[0m\u001b[1;33m\u001b[0m\u001b[1;33m\u001b[0m\u001b[0m\n\u001b[0m\u001b[0;32m     65\u001b[0m     \u001b[1;32mexcept\u001b[0m \u001b[0mException\u001b[0m \u001b[1;32mas\u001b[0m \u001b[0me\u001b[0m\u001b[1;33m:\u001b[0m  \u001b[1;31m# pylint: disable=broad-except\u001b[0m\u001b[1;33m\u001b[0m\u001b[1;33m\u001b[0m\u001b[0m\n\u001b[0;32m     66\u001b[0m       \u001b[0mfiltered_tb\u001b[0m \u001b[1;33m=\u001b[0m \u001b[0m_process_traceback_frames\u001b[0m\u001b[1;33m(\u001b[0m\u001b[0me\u001b[0m\u001b[1;33m.\u001b[0m\u001b[0m__traceback__\u001b[0m\u001b[1;33m)\u001b[0m\u001b[1;33m\u001b[0m\u001b[1;33m\u001b[0m\u001b[0m\n",
      "\u001b[1;32m~\\anaconda3\\envs\\fysstk_tf\\lib\\site-packages\\keras\\engine\\training.py\u001b[0m in \u001b[0;36mfit\u001b[1;34m(self, x, y, batch_size, epochs, verbose, callbacks, validation_split, validation_data, shuffle, class_weight, sample_weight, initial_epoch, steps_per_epoch, validation_steps, validation_batch_size, validation_freq, max_queue_size, workers, use_multiprocessing)\u001b[0m\n\u001b[0;32m   1214\u001b[0m                 _r=1):\n\u001b[0;32m   1215\u001b[0m               \u001b[0mcallbacks\u001b[0m\u001b[1;33m.\u001b[0m\u001b[0mon_train_batch_begin\u001b[0m\u001b[1;33m(\u001b[0m\u001b[0mstep\u001b[0m\u001b[1;33m)\u001b[0m\u001b[1;33m\u001b[0m\u001b[1;33m\u001b[0m\u001b[0m\n\u001b[1;32m-> 1216\u001b[1;33m               \u001b[0mtmp_logs\u001b[0m \u001b[1;33m=\u001b[0m \u001b[0mself\u001b[0m\u001b[1;33m.\u001b[0m\u001b[0mtrain_function\u001b[0m\u001b[1;33m(\u001b[0m\u001b[0miterator\u001b[0m\u001b[1;33m)\u001b[0m\u001b[1;33m\u001b[0m\u001b[1;33m\u001b[0m\u001b[0m\n\u001b[0m\u001b[0;32m   1217\u001b[0m               \u001b[1;32mif\u001b[0m \u001b[0mdata_handler\u001b[0m\u001b[1;33m.\u001b[0m\u001b[0mshould_sync\u001b[0m\u001b[1;33m:\u001b[0m\u001b[1;33m\u001b[0m\u001b[1;33m\u001b[0m\u001b[0m\n\u001b[0;32m   1218\u001b[0m                 \u001b[0mcontext\u001b[0m\u001b[1;33m.\u001b[0m\u001b[0masync_wait\u001b[0m\u001b[1;33m(\u001b[0m\u001b[1;33m)\u001b[0m\u001b[1;33m\u001b[0m\u001b[1;33m\u001b[0m\u001b[0m\n",
      "\u001b[1;32m~\\AppData\\Roaming\\Python\\Python38\\site-packages\\tensorflow\\python\\util\\traceback_utils.py\u001b[0m in \u001b[0;36merror_handler\u001b[1;34m(*args, **kwargs)\u001b[0m\n\u001b[0;32m    148\u001b[0m     \u001b[0mfiltered_tb\u001b[0m \u001b[1;33m=\u001b[0m \u001b[1;32mNone\u001b[0m\u001b[1;33m\u001b[0m\u001b[1;33m\u001b[0m\u001b[0m\n\u001b[0;32m    149\u001b[0m     \u001b[1;32mtry\u001b[0m\u001b[1;33m:\u001b[0m\u001b[1;33m\u001b[0m\u001b[1;33m\u001b[0m\u001b[0m\n\u001b[1;32m--> 150\u001b[1;33m       \u001b[1;32mreturn\u001b[0m \u001b[0mfn\u001b[0m\u001b[1;33m(\u001b[0m\u001b[1;33m*\u001b[0m\u001b[0margs\u001b[0m\u001b[1;33m,\u001b[0m \u001b[1;33m**\u001b[0m\u001b[0mkwargs\u001b[0m\u001b[1;33m)\u001b[0m\u001b[1;33m\u001b[0m\u001b[1;33m\u001b[0m\u001b[0m\n\u001b[0m\u001b[0;32m    151\u001b[0m     \u001b[1;32mexcept\u001b[0m \u001b[0mException\u001b[0m \u001b[1;32mas\u001b[0m \u001b[0me\u001b[0m\u001b[1;33m:\u001b[0m\u001b[1;33m\u001b[0m\u001b[1;33m\u001b[0m\u001b[0m\n\u001b[0;32m    152\u001b[0m       \u001b[0mfiltered_tb\u001b[0m \u001b[1;33m=\u001b[0m \u001b[0m_process_traceback_frames\u001b[0m\u001b[1;33m(\u001b[0m\u001b[0me\u001b[0m\u001b[1;33m.\u001b[0m\u001b[0m__traceback__\u001b[0m\u001b[1;33m)\u001b[0m\u001b[1;33m\u001b[0m\u001b[1;33m\u001b[0m\u001b[0m\n",
      "\u001b[1;32m~\\AppData\\Roaming\\Python\\Python38\\site-packages\\tensorflow\\python\\eager\\def_function.py\u001b[0m in \u001b[0;36m__call__\u001b[1;34m(self, *args, **kwds)\u001b[0m\n\u001b[0;32m    908\u001b[0m \u001b[1;33m\u001b[0m\u001b[0m\n\u001b[0;32m    909\u001b[0m       \u001b[1;32mwith\u001b[0m \u001b[0mOptionalXlaContext\u001b[0m\u001b[1;33m(\u001b[0m\u001b[0mself\u001b[0m\u001b[1;33m.\u001b[0m\u001b[0m_jit_compile\u001b[0m\u001b[1;33m)\u001b[0m\u001b[1;33m:\u001b[0m\u001b[1;33m\u001b[0m\u001b[1;33m\u001b[0m\u001b[0m\n\u001b[1;32m--> 910\u001b[1;33m         \u001b[0mresult\u001b[0m \u001b[1;33m=\u001b[0m \u001b[0mself\u001b[0m\u001b[1;33m.\u001b[0m\u001b[0m_call\u001b[0m\u001b[1;33m(\u001b[0m\u001b[1;33m*\u001b[0m\u001b[0margs\u001b[0m\u001b[1;33m,\u001b[0m \u001b[1;33m**\u001b[0m\u001b[0mkwds\u001b[0m\u001b[1;33m)\u001b[0m\u001b[1;33m\u001b[0m\u001b[1;33m\u001b[0m\u001b[0m\n\u001b[0m\u001b[0;32m    911\u001b[0m \u001b[1;33m\u001b[0m\u001b[0m\n\u001b[0;32m    912\u001b[0m       \u001b[0mnew_tracing_count\u001b[0m \u001b[1;33m=\u001b[0m \u001b[0mself\u001b[0m\u001b[1;33m.\u001b[0m\u001b[0mexperimental_get_tracing_count\u001b[0m\u001b[1;33m(\u001b[0m\u001b[1;33m)\u001b[0m\u001b[1;33m\u001b[0m\u001b[1;33m\u001b[0m\u001b[0m\n",
      "\u001b[1;32m~\\AppData\\Roaming\\Python\\Python38\\site-packages\\tensorflow\\python\\eager\\def_function.py\u001b[0m in \u001b[0;36m_call\u001b[1;34m(self, *args, **kwds)\u001b[0m\n\u001b[0;32m    973\u001b[0m         \u001b[1;31m# Lifting succeeded, so variables are initialized and we can run the\u001b[0m\u001b[1;33m\u001b[0m\u001b[1;33m\u001b[0m\u001b[1;33m\u001b[0m\u001b[0m\n\u001b[0;32m    974\u001b[0m         \u001b[1;31m# stateless function.\u001b[0m\u001b[1;33m\u001b[0m\u001b[1;33m\u001b[0m\u001b[1;33m\u001b[0m\u001b[0m\n\u001b[1;32m--> 975\u001b[1;33m         \u001b[1;32mreturn\u001b[0m \u001b[0mself\u001b[0m\u001b[1;33m.\u001b[0m\u001b[0m_stateless_fn\u001b[0m\u001b[1;33m(\u001b[0m\u001b[1;33m*\u001b[0m\u001b[0margs\u001b[0m\u001b[1;33m,\u001b[0m \u001b[1;33m**\u001b[0m\u001b[0mkwds\u001b[0m\u001b[1;33m)\u001b[0m\u001b[1;33m\u001b[0m\u001b[1;33m\u001b[0m\u001b[0m\n\u001b[0m\u001b[0;32m    976\u001b[0m     \u001b[1;32melse\u001b[0m\u001b[1;33m:\u001b[0m\u001b[1;33m\u001b[0m\u001b[1;33m\u001b[0m\u001b[0m\n\u001b[0;32m    977\u001b[0m       \u001b[0m_\u001b[0m\u001b[1;33m,\u001b[0m \u001b[0m_\u001b[0m\u001b[1;33m,\u001b[0m \u001b[0m_\u001b[0m\u001b[1;33m,\u001b[0m \u001b[0mfiltered_flat_args\u001b[0m \u001b[1;33m=\u001b[0m\u001b[0;31m \u001b[0m\u001b[0;31m\\\u001b[0m\u001b[1;33m\u001b[0m\u001b[1;33m\u001b[0m\u001b[0m\n",
      "\u001b[1;32m~\\AppData\\Roaming\\Python\\Python38\\site-packages\\tensorflow\\python\\eager\\function.py\u001b[0m in \u001b[0;36m__call__\u001b[1;34m(self, *args, **kwargs)\u001b[0m\n\u001b[0;32m   2953\u001b[0m       (graph_function,\n\u001b[0;32m   2954\u001b[0m        filtered_flat_args) = self._maybe_define_function(args, kwargs)\n\u001b[1;32m-> 2955\u001b[1;33m     return graph_function._call_flat(\n\u001b[0m\u001b[0;32m   2956\u001b[0m         filtered_flat_args, captured_inputs=graph_function.captured_inputs)  # pylint: disable=protected-access\n\u001b[0;32m   2957\u001b[0m \u001b[1;33m\u001b[0m\u001b[0m\n",
      "\u001b[1;32m~\\AppData\\Roaming\\Python\\Python38\\site-packages\\tensorflow\\python\\eager\\function.py\u001b[0m in \u001b[0;36m_call_flat\u001b[1;34m(self, args, captured_inputs, cancellation_manager)\u001b[0m\n\u001b[0;32m   1850\u001b[0m         and executing_eagerly):\n\u001b[0;32m   1851\u001b[0m       \u001b[1;31m# No tape is watching; skip to running the function.\u001b[0m\u001b[1;33m\u001b[0m\u001b[1;33m\u001b[0m\u001b[1;33m\u001b[0m\u001b[0m\n\u001b[1;32m-> 1852\u001b[1;33m       return self._build_call_outputs(self._inference_function.call(\n\u001b[0m\u001b[0;32m   1853\u001b[0m           ctx, args, cancellation_manager=cancellation_manager))\n\u001b[0;32m   1854\u001b[0m     forward_backward = self._select_forward_and_backward_functions(\n",
      "\u001b[1;32m~\\AppData\\Roaming\\Python\\Python38\\site-packages\\tensorflow\\python\\eager\\function.py\u001b[0m in \u001b[0;36mcall\u001b[1;34m(self, ctx, args, cancellation_manager)\u001b[0m\n\u001b[0;32m    496\u001b[0m       \u001b[1;32mwith\u001b[0m \u001b[0m_InterpolateFunctionError\u001b[0m\u001b[1;33m(\u001b[0m\u001b[0mself\u001b[0m\u001b[1;33m)\u001b[0m\u001b[1;33m:\u001b[0m\u001b[1;33m\u001b[0m\u001b[1;33m\u001b[0m\u001b[0m\n\u001b[0;32m    497\u001b[0m         \u001b[1;32mif\u001b[0m \u001b[0mcancellation_manager\u001b[0m \u001b[1;32mis\u001b[0m \u001b[1;32mNone\u001b[0m\u001b[1;33m:\u001b[0m\u001b[1;33m\u001b[0m\u001b[1;33m\u001b[0m\u001b[0m\n\u001b[1;32m--> 498\u001b[1;33m           outputs = execute.execute(\n\u001b[0m\u001b[0;32m    499\u001b[0m               \u001b[0mstr\u001b[0m\u001b[1;33m(\u001b[0m\u001b[0mself\u001b[0m\u001b[1;33m.\u001b[0m\u001b[0msignature\u001b[0m\u001b[1;33m.\u001b[0m\u001b[0mname\u001b[0m\u001b[1;33m)\u001b[0m\u001b[1;33m,\u001b[0m\u001b[1;33m\u001b[0m\u001b[1;33m\u001b[0m\u001b[0m\n\u001b[0;32m    500\u001b[0m               \u001b[0mnum_outputs\u001b[0m\u001b[1;33m=\u001b[0m\u001b[0mself\u001b[0m\u001b[1;33m.\u001b[0m\u001b[0m_num_outputs\u001b[0m\u001b[1;33m,\u001b[0m\u001b[1;33m\u001b[0m\u001b[1;33m\u001b[0m\u001b[0m\n",
      "\u001b[1;32m~\\AppData\\Roaming\\Python\\Python38\\site-packages\\tensorflow\\python\\eager\\execute.py\u001b[0m in \u001b[0;36mquick_execute\u001b[1;34m(op_name, num_outputs, inputs, attrs, ctx, name)\u001b[0m\n\u001b[0;32m     52\u001b[0m   \u001b[1;32mtry\u001b[0m\u001b[1;33m:\u001b[0m\u001b[1;33m\u001b[0m\u001b[1;33m\u001b[0m\u001b[0m\n\u001b[0;32m     53\u001b[0m     \u001b[0mctx\u001b[0m\u001b[1;33m.\u001b[0m\u001b[0mensure_initialized\u001b[0m\u001b[1;33m(\u001b[0m\u001b[1;33m)\u001b[0m\u001b[1;33m\u001b[0m\u001b[1;33m\u001b[0m\u001b[0m\n\u001b[1;32m---> 54\u001b[1;33m     tensors = pywrap_tfe.TFE_Py_Execute(ctx._handle, device_name, op_name,\n\u001b[0m\u001b[0;32m     55\u001b[0m                                         inputs, attrs, num_outputs)\n\u001b[0;32m     56\u001b[0m   \u001b[1;32mexcept\u001b[0m \u001b[0mcore\u001b[0m\u001b[1;33m.\u001b[0m\u001b[0m_NotOkStatusException\u001b[0m \u001b[1;32mas\u001b[0m \u001b[0me\u001b[0m\u001b[1;33m:\u001b[0m\u001b[1;33m\u001b[0m\u001b[1;33m\u001b[0m\u001b[0m\n",
      "\u001b[1;31mKeyboardInterrupt\u001b[0m: "
     ]
    }
   ],
   "source": [
    "history_lstm = model_lstm.fit(X_train, Y_train, epochs=epochs, validation_data=(X_valid, Y_valid))"
   ]
  },
  {
   "cell_type": "code",
   "execution_count": 24,
   "metadata": {},
   "outputs": [
    {
     "name": "stdout",
     "output_type": "stream",
     "text": [
      "Epoch 1/25\n"
     ]
    }
   ],
   "source": [
    "history_gru = model_gru.fit(X_train, Y_train[:,3::2], epochs=epochs, batch_size=batch_size, validation_data=(X_valid, Y_valid[:,3::2]))"
   ]
  },
  {
   "cell_type": "code",
   "execution_count": null,
   "metadata": {},
   "outputs": [],
   "source": [
    "pd.DataFrame(history.history).plot(figsize=(8,5))\n",
    "plt.grid(True)\n",
    "#plt.gca().set_ylim(-0,0.06)\n",
    "plt.show()"
   ]
  },
  {
   "cell_type": "code",
   "execution_count": null,
   "metadata": {},
   "outputs": [],
   "source": [
    "pd.DataFrame(history_lstm.history).plot(figsize=(8,5))\n",
    "plt.grid(True)\n",
    "#plt.gca().set_ylim(-0,0.06)\n",
    "plt.show()"
   ]
  },
  {
   "cell_type": "code",
   "execution_count": null,
   "metadata": {},
   "outputs": [],
   "source": [
    "pd.DataFrame(history_gru.history).plot(figsize=(8,5))\n",
    "plt.grid(True)\n",
    "#plt.gca().set_ylim(-0,0.06)\n",
    "plt.show()"
   ]
  },
  {
   "cell_type": "code",
   "execution_count": null,
   "metadata": {},
   "outputs": [],
   "source": [
    "Y_pred = model.predict(X_test)\n",
    "Y_pred_lstm = model_lstm.predict(X_test)\n",
    "Y_pred_gru = model_gru.predict(X_test)"
   ]
  },
  {
   "cell_type": "code",
   "execution_count": null,
   "metadata": {},
   "outputs": [],
   "source": [
    "print(f\"{MSE(Y_test[36,-1], Y_pred[36,-1])=}\")\n",
    "print(f\"{MSE(Y_test[36,-1], Y_pred_lstm[36,-1])=}\")\n",
    "print(f\"{MSE(Y_test[36,-1], Y_pred_gru[36,-1])=}\")"
   ]
  },
  {
   "cell_type": "code",
   "execution_count": null,
   "metadata": {},
   "outputs": [],
   "source": [
    "x = np.arange(no_hours)\n",
    "plt.figure(figsize=(30,15))\n",
    "plt.plot(x[:no_hours-horizon], X_test[36,:].flatten(), '.-')\n",
    "plt.plot(x[-horizon:], Y_test[test_sample[0],-1].flatten(), '.-', label=\"True Solution\")\n",
    "plt.plot(x[-horizon:], Y_pred[test_sample[0],-1].flatten(), '-.', label=\"SimpleRNN\")\n",
    "plt.plot(x[-horizon:], Y_pred_lstm[36,-1].flatten(), '-.', label=\"LSTM\")\n",
    "plt.plot(x[-horizon:], Y_pred_gru[36,-1].flatten(), '-.', label=\"GRU\")\n",
    "plt.legend()\n",
    "plt.grid()\n",
    "plt.show()"
   ]
  },
  {
   "cell_type": "code",
   "execution_count": null,
   "metadata": {},
   "outputs": [],
   "source": []
  },
  {
   "cell_type": "code",
   "execution_count": null,
   "metadata": {},
   "outputs": [],
   "source": [
    "\"\"\"\n",
    "Y_pred = model.predict(X_test)\n",
    "Y_pred_ln = model_ln.predict(X_test)\n",
    "Y_pred_lstm = model_lstm.predict(X_test)\n",
    "#Y_pred_gru = model_gru.predict(X_test)\n",
    "\"\"\""
   ]
  },
  {
   "cell_type": "code",
   "execution_count": null,
   "metadata": {},
   "outputs": [],
   "source": [
    "\"\"\"\n",
    "sequence = np.concatenate((X_test[0].flatten(), Y_pred[0,-1,:].flatten()))\n",
    "sequence_ln = np.concatenate((X_test[0].flatten(), Y_pred_ln[0,-1,:].flatten()))\n",
    "sequence_lstm = np.concatenate((X_test[0].flatten(), Y_pred_lstm[0,-1,:].flatten()))\n",
    "#sequence_gru = np.concatenate((X_test[20].flatten(), Y_pred_gru[20,-horizon:,-1].flatten()))\n",
    "\n",
    "x = np.arange(n_steps + horizon)\n",
    "plt.figure(figsize=(15,10))\n",
    "plt.plot(x[:n_steps], sequence[:n_steps], '.-')\n",
    "plt.plot(x[n_steps-1:], sequence[n_steps-1:], '-.', label=\"SimpleRNN\")\n",
    "plt.plot(x[n_steps-1:], sequence_ln[n_steps-1:], '-.', label=\"Layer norm\")\n",
    "plt.plot(x[n_steps-1:], sequence_lstm[n_steps-1:], '-.', label=\"LSTM\")\n",
    "#plt.plot(x[n_steps-1:], sequence_gru[n_steps-1:], '-.', label=\"GRU\")\n",
    "\n",
    "plt.legend()\n",
    "plt.grid()\n",
    "plt.show()\n",
    "\"\"\""
   ]
  },
  {
   "cell_type": "code",
   "execution_count": null,
   "metadata": {},
   "outputs": [],
   "source": [
    "\"\"\"\n",
    "fig = plt.figure()\n",
    "x = np.arange(5*24)\n",
    "plt.plot(x[:72],dataset[0],'--')\n",
    "plt.plot(x[24:4*24],dataset[1],'--')\n",
    "plt.plot(x[2*24:5*24],dataset[2],'--')\n",
    "plt.xlabel(\"time\")\n",
    "plt.ylabel(\"price\")\n",
    "plt.grid()\n",
    "plt.show\n",
    "\"\"\""
   ]
  }
 ],
 "metadata": {
  "interpreter": {
   "hash": "e7370f93d1d0cde622a1f8e1c04877d8463912d04d973331ad4851f04de6915a"
  },
  "kernelspec": {
   "display_name": "Python 3.9.9 64-bit",
   "language": "python",
   "name": "python3"
  },
  "language_info": {
   "codemirror_mode": {
    "name": "ipython",
    "version": 3
   },
   "file_extension": ".py",
   "mimetype": "text/x-python",
   "name": "python",
   "nbconvert_exporter": "python",
   "pygments_lexer": "ipython3",
   "version": "3.9.7"
  },
  "orig_nbformat": 4
 },
 "nbformat": 4,
 "nbformat_minor": 2
}
