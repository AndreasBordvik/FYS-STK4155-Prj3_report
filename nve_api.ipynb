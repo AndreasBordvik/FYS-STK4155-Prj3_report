{
 "cells": [
  {
   "cell_type": "code",
   "execution_count": null,
   "metadata": {},
   "outputs": [],
   "source": [
    "import requests\n",
    "import pandas as pd\n",
    "from matplotlib import pyplot as plt\n"
   ]
  },
  {
   "cell_type": "code",
   "execution_count": null,
   "metadata": {},
   "outputs": [],
   "source": [
    "r = requests.get('https://nvebiapi.nve.no/api/Magasinstatistikk/HentOffentligData')\n",
    "x = r.json()\n",
    "df = pd.DataFrame(x)\n",
    "df"
   ]
  },
  {
   "cell_type": "code",
   "execution_count": null,
   "metadata": {},
   "outputs": [],
   "source": [
    "df_omr1 = df.loc[df['omrnr'] == 1]\n",
    "df_omr1 = df_omr1.loc[df['omrType'] != \"VASS\"]\n",
    "# df_omr2 = df.loc[df['omrnr'] == 2]\n",
    "df_omr1 = df_omr1.sort_values(by='dato_Id', ascending=True)\n",
    "df_omr1"
   ]
  },
  {
   "cell_type": "code",
   "execution_count": null,
   "metadata": {},
   "outputs": [],
   "source": [
    "plt.plot(df_omr1[\"dato_Id\"], df_omr1[\"kapasitet_TWh\"])"
   ]
  },
  {
   "cell_type": "code",
   "execution_count": null,
   "metadata": {},
   "outputs": [],
   "source": []
  }
 ],
 "metadata": {
  "interpreter": {
   "hash": "07eb81dabebf7ad6f74b5238d49e057678648a9f463800e12ec7c4306c5e2dc1"
  },
  "kernelspec": {
   "display_name": "Python 3.10.0 64-bit ('FYSSTK_ENV': conda)",
   "language": "python",
   "name": "python3"
  },
  "language_info": {
   "codemirror_mode": {
    "name": "ipython",
    "version": 3
   },
   "file_extension": ".py",
   "mimetype": "text/x-python",
   "name": "python",
   "nbconvert_exporter": "python",
   "pygments_lexer": "ipython3",
   "version": "3.9.7"
  },
  "orig_nbformat": 4
 },
 "nbformat": 4,
 "nbformat_minor": 2
}
