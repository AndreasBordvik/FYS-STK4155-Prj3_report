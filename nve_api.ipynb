{
 "cells": [
  {
   "cell_type": "code",
   "execution_count": null,
   "metadata": {},
   "outputs": [],
   "source": [
    "import requests\n",
    "import pandas as pd\n",
    "from matplotlib import pyplot as plt\n"
   ]
  },
  {
   "cell_type": "code",
   "execution_count": null,
   "metadata": {},
   "outputs": [],
   "source": [
    "r = requests.get('https://nvebiapi.nve.no/api/Magasinstatistikk/HentOffentligData')\n",
    "x = r.json()\n",
    "df = pd.DataFrame(x)\n",
    "df"
   ]
  },
  {
   "cell_type": "code",
   "execution_count": null,
   "metadata": {},
   "outputs": [],
   "source": [
    "df_omr1 = df.loc[df['omrnr'] == 1]\n",
    "df_omr1 = df_omr1.loc[df['omrType'] != \"VASS\"]\n",
    "# df_omr2 = df.loc[df['omrnr'] == 2]\n",
    "df_omr1 = df_omr1.sort_values(by='dato_Id', ascending=True)\n",
    "df_omr1"
   ]
  },
  {
   "cell_type": "code",
   "execution_count": null,
   "metadata": {},
   "outputs": [],
   "source": [
    "for omr in range(1,6):\n",
    "    df_omr = df.loc[df['omrnr'] == omr]\n",
    "    df_omr = df_omr.loc[df_omr['iso_aar'] >= 2018]\n",
    "    \n",
    "    df_omr = df_omr.loc[df['omrType'] == \"EL\"]\n",
    "    # # df_omr2 = df.loc[df['omrnr'] == 2]\n",
    "    df_omr = df_omr.sort_values(by='dato_Id', ascending=True)\n",
    "    plt.plot(df_omr[\"dato_Id\"], df_omr[\"fylling_TWh\"], label =f\"Område {omr}\")\n",
    "    plt.legend()\n",
    "    \n",
    "plt.show()\n",
    "\n"
   ]
  },
  {
   "cell_type": "code",
   "execution_count": null,
   "metadata": {},
   "outputs": [],
   "source": [
    "import numpy as np\n",
    "\n",
    "L = np.arange(1,len(df)//4)\n",
    "r_L = [df_omr1[\"fylling_TWh\"].autocorr(lag = lag) for lag in L]\n",
    "plt.plot(L,r_L, \"o--\")\n",
    "plt.xlabel(\"L\")\n",
    "plt.ylabel(\"r_L\")"
   ]
  },
  {
   "cell_type": "code",
   "execution_count": null,
   "metadata": {},
   "outputs": [],
   "source": []
  }
 ],
 "metadata": {
  "interpreter": {
   "hash": "07eb81dabebf7ad6f74b5238d49e057678648a9f463800e12ec7c4306c5e2dc1"
  },
  "kernelspec": {
   "display_name": "Python 3.10.0 64-bit ('FYSSTK_ENV': conda)",
   "language": "python",
   "name": "python3"
  },
  "language_info": {
   "codemirror_mode": {
    "name": "ipython",
    "version": 3
   },
   "file_extension": ".py",
   "mimetype": "text/x-python",
   "name": "python",
   "nbconvert_exporter": "python",
   "pygments_lexer": "ipython3",
   "version": "3.9.7"
  },
  "orig_nbformat": 4
 },
 "nbformat": 4,
 "nbformat_minor": 2
}
