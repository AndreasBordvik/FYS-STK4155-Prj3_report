{
 "cells": [
  {
   "cell_type": "code",
   "execution_count": null,
   "metadata": {},
   "outputs": [],
   "source": [
    "from sklearn.metrics import mean_absolute_error as MSE\n",
    "from tensorflow.keras.models import Sequential\n",
    "from cmcrameri import cm\n",
    "from tqdm import tqdm\n",
    "import seaborn as sns\n",
    "from common import *\n",
    "from models import *"
   ]
  },
  {
   "cell_type": "markdown",
   "metadata": {},
   "source": [
    "# Loading our data"
   ]
  },
  {
   "cell_type": "code",
   "execution_count": null,
   "metadata": {},
   "outputs": [],
   "source": [
    "df = pd.read_csv(\"../data/input_data/MAIN_DATASET.csv\")\n",
    "\n",
    "price = df['NO2_price'].values.reshape(-1,1)\n",
    "fload = df['NO2_load_forecasted'].values.reshape(-1,1)\n",
    "fgen = df['NO2_generation_forecast'].values.reshape(-1,1)\n",
    "\n",
    "price_days = seperate_column_to_days(price)\n",
    "fload_days = seperate_column_to_days(fload)\n",
    "fgen_days = seperate_column_to_days(fgen)"
   ]
  },
  {
   "cell_type": "markdown",
   "metadata": {},
   "source": [
    "# Structuring our data"
   ]
  },
  {
   "cell_type": "code",
   "execution_count": null,
   "metadata": {},
   "outputs": [],
   "source": [
    "lookbehind = 4\n",
    "input_width = lookbehind*24\n",
    "horizon = 24\n",
    "no_hours = input_width + horizon\n",
    "stride = 24\n",
    "hour_in_days = int(no_hours / stride)\n",
    "\n",
    "price_dataset = []\n",
    "fload_dataset = []\n",
    "fgen_dataset = []\n",
    "\n",
    "for i in range(len(price_days) - hour_in_days+1):\n",
    "    price_dataset.append(np.concatenate((price_days[i:i+hour_in_days])))\n",
    "    fload_dataset.append(np.concatenate((fload_days[i:i+hour_in_days])))\n",
    "    fgen_dataset.append(np.concatenate((fgen_days[i:i+hour_in_days])))\n",
    "\n",
    "price_dataset = np.array(price_dataset)\n",
    "fload_dataset = np.array(fload_dataset)\n",
    "fgen_dataset = np.array(fgen_dataset)\n",
    "\n",
    "scaler = MinMaxScaler()\n",
    "price_dataset = scaler.fit_transform(price_dataset[:,:,0])\n",
    "price_dataset = price_dataset[..., np.newaxis].astype(np.float32)\n",
    "\n",
    "fload_dataset = scaler.fit_transform(fload_dataset[:,:,0])\n",
    "fload_dataset = fload_dataset[..., np.newaxis].astype(np.float32)\n",
    "\n",
    "fgen_dataset = scaler.fit_transform(fgen_dataset[:,:,0])\n",
    "fgen_dataset = fgen_dataset[..., np.newaxis].astype(np.float32)\n",
    "\n",
    "dataset_forecast = np.concatenate((price_dataset, fload_dataset, fgen_dataset), axis=2)\n",
    "\n",
    "n,m,k = dataset_forecast.shape\n",
    "\n",
    "print(dataset_forecast.shape)\n"
   ]
  },
  {
   "cell_type": "markdown",
   "metadata": {},
   "source": [
    "# Train test split"
   ]
  },
  {
   "cell_type": "code",
   "execution_count": null,
   "metadata": {},
   "outputs": [],
   "source": [
    "train = int(0.7*n)\n",
    "valid = int(0.9*n)\n",
    "x_train, X_train = price_dataset[:train, :input_width], dataset_forecast[:train, :input_width]\n",
    "x_valid, X_valid = price_dataset[train:valid, :input_width], dataset_forecast[train:valid, :input_width]\n",
    "x_test, X_test = price_dataset[valid:, :input_width], dataset_forecast[valid:, :input_width]\n",
    "\n",
    "Y = np.empty((n, input_width, horizon))\n",
    "for step_ahead in range(1, horizon + 1):\n",
    "    Y[:,:, step_ahead - 1] = dataset_forecast[:,step_ahead:step_ahead + input_width, 0]\n",
    "\n",
    "Y_train = Y[:train]\n",
    "Y_valid = Y[train:valid]\n",
    "Y_test = Y[valid:]"
   ]
  },
  {
   "cell_type": "code",
   "execution_count": null,
   "metadata": {},
   "outputs": [],
   "source": [
    "print(X_train.shape)"
   ]
  },
  {
   "cell_type": "markdown",
   "metadata": {},
   "source": [
    "## Hyperparameters"
   ]
  },
  {
   "cell_type": "code",
   "execution_count": null,
   "metadata": {},
   "outputs": [],
   "source": [
    "# Common\n",
    "epochs = 1\n",
    "batch_size = [200, 300]\n",
    "batch_size = [200]\n",
    "eta_list = np.logspace(-2, -4, 3)\n",
    "neurons_list = [128,64, 32]\n",
    "neurons_list = [128]\n",
    "filters = 64\n",
    "kernel_size = 3\n",
    "strides = 3\n",
    "\n",
    "learning_rate_reduction = keras.callbacks.ReduceLROnPlateau(monitor='val_loss', \n",
    "                                                            patience=3, \n",
    "                                                            verbose=1, \n",
    "                                                            factor=0.5, \n",
    "                                                            min_lr=0.000001)\n",
    "callbacks = [learning_rate_reduction]"
   ]
  },
  {
   "cell_type": "markdown",
   "metadata": {},
   "source": [
    "# Setting up the univariate SimpleRNN"
   ]
  },
  {
   "cell_type": "code",
   "execution_count": null,
   "metadata": {},
   "outputs": [],
   "source": [
    "class RNN(Sequential):\n",
    "    def __init__(self, eta, neurons, horizon=24):\n",
    "        super(self.__class__, self).__init__()\n",
    "\n",
    "        # RNN architecture\n",
    "        self.add(keras.layers.SimpleRNN(neurons, return_sequences=True, input_shape=[None, k]))\n",
    "        self.add(keras.layers.SimpleRNN(neurons, return_sequences=True))\n",
    "        self.add(keras.layers.Dense(horizon))\n",
    "\n",
    "        # Model compile settings\n",
    "        opt = keras.optimizers.Adam(learning_rate=eta)\n",
    "\n",
    "        # Compile model\n",
    "        self.compile(loss='mse', optimizer=opt)\n",
    "\n",
    "\n",
    "# return_sequences=True --> (256, 168, 24)\n",
    "# return_sequences=False --> (256, 24)"
   ]
  },
  {
   "cell_type": "markdown",
   "metadata": {},
   "source": [
    "## Grid search"
   ]
  },
  {
   "cell_type": "code",
   "execution_count": null,
   "metadata": {},
   "outputs": [],
   "source": [
    "results_columns = [\"model\",\"batch_size\", \"learning_rate\", \"epoch\", \"neurons\", \"mse_all\"]\n",
    "results_columns += [f\"mse{i}\" for i in range(1,horizon+1)] \n",
    "results = pd.DataFrame(columns=results_columns)\n",
    "\n",
    "t_columns = [f\"t{k}\" for k in range(1, horizon+1)]\n",
    "t_hat_columns = [f\"t_hat{k}\" for k in range(1, horizon+1)]\n",
    "preds_columns = columns=t_columns+t_hat_columns\n",
    "results_preds = pd.DataFrame(columns=preds_columns)\n",
    "\n",
    "epochs_colmns = [f\"epoch{i}\" for i in range(epochs)]\n",
    "Y_test_last = Y_test[:,-1]\n",
    "best_mse = np.inf\n",
    "\n",
    "i = 0\n",
    "for eta in tqdm(eta_list):\n",
    "    for batch in batch_size:\n",
    "        for neurons in neurons_list:\n",
    "            RNN_model = RNN(eta, neurons, horizon=horizon)\n",
    "\n",
    "            # Training\n",
    "            history = RNN_model.fit(X_train, Y_train, \n",
    "                        epochs=epochs, batch_size = batch, \n",
    "                        shuffle=False, callbacks= callbacks,  \n",
    "                        validation_data=(X_valid, Y_valid), verbose=0)\n",
    "\n",
    "            # Prediction\n",
    "            Y_pred_rnn = RNN_model.predict(X_test)\n",
    "            Y_pred_rnn_last = Y_pred_rnn[:,-1]     \n",
    "            \n",
    "            # Results\n",
    "            mse_val = MSE(Y_test_last, Y_pred_rnn_last)\n",
    "            mse_all = np.mean((Y_test_last - Y_pred_rnn_last) ** 2, axis=0) # The mean of each column \n",
    "            \n",
    "            \n",
    "            # Storing results for all models\n",
    "            res1 = np.array([i, batch, eta, epochs, neurons, mse_val])\n",
    "            res2 = np.array(mse_all)\n",
    "            res = np.concatenate([res1,res2], axis=0)\n",
    "            results.loc[i] = res\n",
    "            results.to_csv(f\"{REPORT_DATA}multivariate_simpleRNN_results_control.csv\")\n",
    "\n",
    "            # Storing results from the best model\n",
    "            if best_mse > mse_val:\n",
    "                best_mse = mse_val\n",
    "                print(f\"\\nNew best model with MSE = {mse_val} !\\n\")\n",
    "                # Predictions and target for best results\n",
    "                preds_res =  np.concatenate([Y_test_last, Y_pred_rnn_last],axis=1)\n",
    "                best_results_preds = pd.DataFrame(preds_res, columns=preds_columns)\n",
    "                best_results_preds.to_csv(f\"{REPORT_DATA}best_models/multivariate_simpleRNN_preds_best_control.csv\")\n",
    "\n",
    "                \n",
    "                # Best results relative to parameters\n",
    "                best_results = pd.DataFrame(columns=results_columns)\n",
    "                best_results.loc[i] = res\n",
    "                best_results.to_csv(f\"{REPORT_DATA}best_models/multivariate_simpleRNN_results_best_control.csv\")\n",
    "                \n",
    "                # Model evaluation result            \n",
    "                best_train_val_losses = pd.DataFrame(columns=[\"training_loss\", \"validation_loss\"])\n",
    "                best_train_val_losses[\"training_loss\"] = history.history[\"loss\"]\n",
    "                best_train_val_losses[\"validation_loss\"] = history.history[\"val_loss\"]\n",
    "                best_train_val_losses.to_csv(f\"{REPORT_DATA}best_models/multivariate_simpleRNN_train_val_losses_best_control.csv\")            \n",
    "                \n",
    "            i += 1"
   ]
  },
  {
   "cell_type": "markdown",
   "metadata": {},
   "source": [
    "# Setting up the multivariate ConvGRU"
   ]
  },
  {
   "cell_type": "code",
   "execution_count": null,
   "metadata": {},
   "outputs": [],
   "source": [
    "class ConvGRU(Sequential):\n",
    "    def __init__(self, eta, neurons_first, neurons_second, horizon=24):\n",
    "        super(self.__class__, self).__init__()\n",
    "\n",
    "        # ConvGRU architecture\n",
    "        self.add(keras.layers.Conv1D(filters=filters, kernel_size=kernel_size, strides=strides, padding=\"valid\", input_shape=[None, k]))\n",
    "        self.add(keras.layers.GRU(neurons_first, return_sequences=True))\n",
    "        self.add(keras.layers.GRU(neurons_second, return_sequences=True))\n",
    "        self.add(keras.layers.Dense(horizon))\n",
    "\n",
    "        # Model compile settings\n",
    "        opt = keras.optimizers.Adam(learning_rate=eta)\n",
    "\n",
    "        # Compile model\n",
    "        self.compile(loss='mse', optimizer=opt)"
   ]
  },
  {
   "cell_type": "markdown",
   "metadata": {},
   "source": [
    "## Grid search"
   ]
  },
  {
   "cell_type": "code",
   "execution_count": null,
   "metadata": {},
   "outputs": [],
   "source": [
    "results_columns = [\"model\",\"batch_size\", \"learning_rate\", \"epoch\", \"neurons\", \"mse_all\"]\n",
    "results_columns += [f\"mse{i}\" for i in range(1,horizon+1)] \n",
    "results = pd.DataFrame(columns=results_columns)\n",
    "\n",
    "t_columns = [f\"t{k}\" for k in range(1, horizon+1)]\n",
    "t_hat_columns = [f\"t_hat{k}\" for k in range(1, horizon+1)]\n",
    "preds_columns = columns=t_columns+t_hat_columns\n",
    "results_preds = pd.DataFrame(columns=preds_columns)\n",
    "\n",
    "epochs_colmns = [f\"epoch{i}\" for i in range(epochs)]\n",
    "Y_test_last = Y_test[:,-1]\n",
    "best_mse = np.inf\n",
    "\n",
    "i = 0\n",
    "for eta in tqdm(eta_list):\n",
    "    for batch in batch_size:\n",
    "        for neurons in neurons_list:\n",
    "            ConvGRU_model = ConvGRU(eta, neurons, neurons, horizon=horizon)\n",
    "\n",
    "            # Training\n",
    "            history = ConvGRU_model.fit(X_train, Y_train[:,2::strides], \n",
    "                        epochs=epochs, batch_size = batch, \n",
    "                        shuffle=False, callbacks= callbacks,  \n",
    "                        validation_data=(X_valid, Y_valid[:,2::strides]), verbose=0)\n",
    "\n",
    "            # Prediction\n",
    "            Y_pred_rnn = ConvGRU_model.predict(X_test)\n",
    "            Y_pred_rnn_last = Y_pred_rnn[:,-1]     \n",
    "            \n",
    "            # Results\n",
    "            mse_val = MSE(Y_test_last, Y_pred_rnn_last)\n",
    "            mse_all = np.mean((Y_test_last - Y_pred_rnn_last) ** 2, axis=0) # The mean of each column \n",
    "                        \n",
    "            # Storing results for all models\n",
    "            res1 = np.array([i, batch, eta, epochs, neurons, mse_val])\n",
    "            res2 = np.array(mse_all)\n",
    "            res = np.concatenate([res1,res2], axis=0)\n",
    "            results.loc[i] = res\n",
    "            results.to_csv(f\"{REPORT_DATA}multivariate_convGRU_results_control.csv\")\n",
    "\n",
    "            # Storing results from the best model\n",
    "            if best_mse > mse_val:\n",
    "                best_mse = mse_val\n",
    "                print(f\"\\nNew best model with MSE = {mse_val} !\\n\")\n",
    "                # Predictions and target for best results\n",
    "                preds_res =  np.concatenate([Y_test_last, Y_pred_rnn_last],axis=1)\n",
    "                best_results_preds = pd.DataFrame(preds_res, columns=preds_columns)\n",
    "                best_results_preds.to_csv(f\"{REPORT_DATA}best_models/multivariate_convGRU_preds_best_control.csv\")\n",
    "\n",
    "                \n",
    "                # Best results relative to parameters\n",
    "                best_results = pd.DataFrame(columns=results_columns)\n",
    "                best_results.loc[i] = res\n",
    "                best_results.to_csv(f\"{REPORT_DATA}best_models/multivariate_convGRU_results_best_control.csv\")\n",
    "                \n",
    "                # Model evaluation result            \n",
    "                best_train_val_losses = pd.DataFrame(columns=[\"training_loss\", \"validation_loss\"])\n",
    "                best_train_val_losses[\"training_loss\"] = history.history[\"loss\"]\n",
    "                best_train_val_losses[\"validation_loss\"] = history.history[\"val_loss\"]\n",
    "                best_train_val_losses.to_csv(f\"{REPORT_DATA}best_models/multivariate_convGRU_train_val_losses_best_control.csv\")            \n",
    "                \n",
    "            i += 1"
   ]
  },
  {
   "cell_type": "markdown",
   "metadata": {},
   "source": [
    "# Setting up the multivariate LSTM"
   ]
  },
  {
   "cell_type": "code",
   "execution_count": null,
   "metadata": {},
   "outputs": [],
   "source": [
    "class LSTM(Sequential):\n",
    "    def __init__(self, eta, neurons, horizon=24):\n",
    "        super(self.__class__, self).__init__()\n",
    "        \n",
    "        # self.add(keras.layers.Bidirectional(keras.layers.LSTM(neurons, return_sequences=True)))\n",
    "        # self.add(keras.layers.Bidirectional(keras.layers.LSTM(neurons, return_sequences=True)))\n",
    "        \n",
    "        self.add(keras.layers.LSTM(neurons, return_sequences=True))\n",
    "        self.add(keras.layers.LSTM(neurons, return_sequences=True))\n",
    "        self.add(keras.layers.Dense(horizon))\n",
    "\n",
    "        # Model compile settings\n",
    "        opt = keras.optimizers.Adam(learning_rate=eta)\n",
    "\n",
    "        # Compile model\n",
    "        self.compile(loss='mse', optimizer=opt)"
   ]
  },
  {
   "cell_type": "markdown",
   "metadata": {},
   "source": [
    "## Grid search"
   ]
  },
  {
   "cell_type": "code",
   "execution_count": null,
   "metadata": {},
   "outputs": [],
   "source": [
    "results_columns = [\"model\",\"batch_size\", \"learning_rate\", \"epoch\", \"neurons\", \"mse_all\"]\n",
    "results_columns += [f\"mse{i}\" for i in range(1,horizon+1)] \n",
    "results = pd.DataFrame(columns=results_columns)\n",
    "\n",
    "t_columns = [f\"t{k}\" for k in range(1, horizon+1)]\n",
    "t_hat_columns = [f\"t_hat{k}\" for k in range(1, horizon+1)]\n",
    "preds_columns = columns=t_columns+t_hat_columns\n",
    "results_preds = pd.DataFrame(columns=preds_columns)\n",
    "\n",
    "epochs_colmns = [f\"epoch{i}\" for i in range(epochs)]\n",
    "\n",
    "Y_test_last = Y_test[:,-1]\n",
    "\n",
    "best_mse = np.inf\n",
    "\n",
    "i = 0\n",
    "for eta in tqdm(eta_list):\n",
    "    for batch in batch_size:\n",
    "        for neurons in neurons_list:\n",
    "            LSTM_model = LSTM(eta, neurons, horizon=horizon)\n",
    "\n",
    "            # Training\n",
    "            history = LSTM_model.fit(X_train, Y_train, \n",
    "                        epochs=epochs, batch_size = batch, \n",
    "                        shuffle=False, callbacks= callbacks,  \n",
    "                        validation_data=(X_valid, Y_valid), verbose=0)\n",
    "\n",
    "            # Prediction\n",
    "            Y_pred_rnn = LSTM_model.predict(X_test)\n",
    "            Y_pred_rnn_last = Y_pred_rnn[:,-1]     \n",
    "            \n",
    "            # Results\n",
    "            mse_val = MSE(Y_test_last, Y_pred_rnn_last)\n",
    "            mse_all = np.mean((Y_test_last - Y_pred_rnn_last) ** 2, axis=0) # The mean of each column \n",
    "            \n",
    "            \n",
    "            # Storing results for all models\n",
    "            res1 = np.array([i, batch, eta, epochs, neurons, mse_val])\n",
    "            res2 = np.array(mse_all)\n",
    "            res = np.concatenate([res1,res2], axis=0)\n",
    "            results.loc[i] = res\n",
    "            results.to_csv(f\"{REPORT_DATA}multivariate_LSTM_results_control.csv\")\n",
    "\n",
    "            # Storing results from the best model\n",
    "            if best_mse > mse_val:\n",
    "                best_mse = mse_val\n",
    "                print(f\"\\nNew best model with MSE = {mse_val} !\\n\")\n",
    "                # Predictions and target for best results\n",
    "                preds_res =  np.concatenate([Y_test_last, Y_pred_rnn_last],axis=1)\n",
    "                best_results_preds = pd.DataFrame(preds_res, columns=preds_columns)\n",
    "                best_results_preds.to_csv(f\"{REPORT_DATA}best_models/multivariate_LSTM_preds_best_control.csv\")\n",
    "\n",
    "                \n",
    "                # Best results relative to parameters\n",
    "                best_results = pd.DataFrame(columns=results_columns)\n",
    "                best_results.loc[i] = res\n",
    "                best_results.to_csv(f\"{REPORT_DATA}best_models/multivariate_LSTM_results_best_control.csv\")\n",
    "                \n",
    "                # Model evaluation result            \n",
    "                best_train_val_losses = pd.DataFrame(columns=[\"training_loss\", \"validation_loss\"])\n",
    "                best_train_val_losses[\"training_loss\"] = history.history[\"loss\"]\n",
    "                best_train_val_losses[\"validation_loss\"] = history.history[\"val_loss\"]\n",
    "                best_train_val_losses.to_csv(f\"{REPORT_DATA}best_models/multivariate_LSTM_train_val_losses_best_control.csv\")            \n",
    "                \n",
    "            i += 1"
   ]
  }
 ],
 "metadata": {
  "interpreter": {
   "hash": "f9f85f796d01129d0dd105a088854619f454435301f6ffec2fea96ecbd9be4ac"
  },
  "kernelspec": {
   "display_name": "Python 3.9.5 64-bit",
   "language": "python",
   "name": "python3"
  },
  "language_info": {
   "codemirror_mode": {
    "name": "ipython",
    "version": 3
   },
   "file_extension": ".py",
   "mimetype": "text/x-python",
   "name": "python",
   "nbconvert_exporter": "python",
   "pygments_lexer": "ipython3",
   "version": "3.8.12"
  },
  "orig_nbformat": 4
 },
 "nbformat": 4,
 "nbformat_minor": 2
}
