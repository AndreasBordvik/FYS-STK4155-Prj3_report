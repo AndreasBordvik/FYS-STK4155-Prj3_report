{
 "cells": [
  {
   "cell_type": "code",
   "execution_count": 1,
   "metadata": {},
   "outputs": [
    {
     "name": "stderr",
     "output_type": "stream",
     "text": [
      "2021-12-15 23:12:08.626189: W tensorflow/stream_executor/platform/default/dso_loader.cc:64] Could not load dynamic library 'libcudart.so.11.0'; dlerror: libcudart.so.11.0: cannot open shared object file: No such file or directory\n",
      "2021-12-15 23:12:08.626219: I tensorflow/stream_executor/cuda/cudart_stub.cc:29] Ignore above cudart dlerror if you do not have a GPU set up on your machine.\n"
     ]
    }
   ],
   "source": [
    "from sklearn.metrics import mean_absolute_error as MSE\n",
    "from tensorflow.keras.models import Sequential\n",
    "from cmcrameri import cm\n",
    "from tqdm import tqdm\n",
    "import seaborn as sns\n",
    "from common import *\n",
    "from models import *"
   ]
  },
  {
   "cell_type": "markdown",
   "metadata": {},
   "source": [
    "# Loading our data"
   ]
  },
  {
   "cell_type": "code",
   "execution_count": 2,
   "metadata": {},
   "outputs": [],
   "source": [
    "df = pd.read_csv(\"../data/input_data/MAIN_DATASET.csv\")\n",
    "\n",
    "price = df['NO2_price'].values.reshape(-1,1)\n",
    "fload = df['NO2_load_forecasted'].values.reshape(-1,1)\n",
    "fgen = df['NO2_generation_forecast'].values.reshape(-1,1)\n",
    "\n",
    "\n",
    "price_days = seperate_column_to_days(price)\n",
    "fload_days = seperate_column_to_days(fload)\n",
    "fgen_days = seperate_column_to_days(fgen)"
   ]
  },
  {
   "cell_type": "markdown",
   "metadata": {},
   "source": [
    "# Structuring our data"
   ]
  },
  {
   "cell_type": "code",
   "execution_count": 3,
   "metadata": {},
   "outputs": [
    {
     "name": "stdout",
     "output_type": "stream",
     "text": [
      "(2145, 192, 3)\n"
     ]
    }
   ],
   "source": [
    "lookbehind = 7\n",
    "input_width = lookbehind*24\n",
    "horizon = 24\n",
    "no_hours = input_width + horizon\n",
    "stride = 24\n",
    "hour_in_days = int(no_hours / stride)\n",
    "\n",
    "price_dataset = []\n",
    "fload_dataset = []\n",
    "fgen_dataset = []\n",
    "\n",
    "for i in range(len(price_days) - hour_in_days+1):\n",
    "    price_dataset.append(np.concatenate((price_days[i:i+hour_in_days])))\n",
    "    fload_dataset.append(np.concatenate((fload_days[i:i+hour_in_days])))\n",
    "    fgen_dataset.append(np.concatenate((fgen_days[i:i+hour_in_days])))\n",
    "\n",
    "price_dataset = np.array(price_dataset)\n",
    "fload_dataset = np.array(fload_dataset)\n",
    "fgen_dataset = np.array(fgen_dataset)\n",
    "\n",
    "scaler = MinMaxScaler()\n",
    "price_dataset = scaler.fit_transform(price_dataset[:,:,0])\n",
    "price_dataset = price_dataset[..., np.newaxis].astype(np.float32)\n",
    "\n",
    "fload_dataset = scaler.fit_transform(fload_dataset[:,:,0])\n",
    "fload_dataset = fload_dataset[..., np.newaxis].astype(np.float32)\n",
    "\n",
    "fgen_dataset = scaler.fit_transform(fgen_dataset[:,:,0])\n",
    "fgen_dataset = fgen_dataset[..., np.newaxis].astype(np.float32)\n",
    "\n",
    "dataset_forecast = np.concatenate((price_dataset, fload_dataset, fgen_dataset), axis=2)\n",
    "\n",
    "n,m,k = dataset_forecast.shape\n",
    "\n",
    "print(dataset_forecast.shape)\n"
   ]
  },
  {
   "cell_type": "markdown",
   "metadata": {},
   "source": [
    "# Train test split"
   ]
  },
  {
   "cell_type": "code",
   "execution_count": 4,
   "metadata": {},
   "outputs": [],
   "source": [
    "train = int(0.7*n)\n",
    "valid = int(0.9*n)\n",
    "x_train, X_train = price_dataset[:train, :input_width], dataset_forecast[:train, :input_width]\n",
    "x_valid, X_valid = price_dataset[train:valid, :input_width], dataset_forecast[train:valid, :input_width]\n",
    "x_test, X_test = price_dataset[valid:, :input_width], dataset_forecast[valid:, :input_width]\n",
    "\n",
    "Y = np.empty((n, input_width, horizon))\n",
    "for step_ahead in range(1, horizon + 1):\n",
    "    Y[:,:, step_ahead - 1] = dataset_forecast[:,step_ahead:step_ahead + input_width, 0]\n",
    "\n",
    "Y_train = Y[:train]\n",
    "Y_valid = Y[train:valid]\n",
    "Y_test = Y[valid:]"
   ]
  },
  {
   "cell_type": "markdown",
   "metadata": {},
   "source": [
    "# Setting up the models"
   ]
  },
  {
   "cell_type": "markdown",
   "metadata": {},
   "source": [
    "## Hyperparameters"
   ]
  },
  {
   "cell_type": "code",
   "execution_count": 5,
   "metadata": {},
   "outputs": [],
   "source": [
    "# Common\n",
    "epochs = 50\n",
    "loss = \"mse\" \n",
    "batch_size = [200, 400, 600, 800]\n",
    "eta_list = np.logspace(-1, -4, 4)\n",
    "\n",
    "# Univariate\n",
    "univ_neurons = 128\n",
    "\n",
    "# Multivariate\n",
    "multi_neurons_first = 128\n",
    "multi_neurons_second = 64\n",
    "filters = 64\n",
    "kernel_size = 3\n",
    "strides = 3\n",
    "\n",
    "\n",
    "learning_rate_reduction = keras.callbacks.ReduceLROnPlateau(monitor='val_loss', \n",
    "                                                            patience=3, \n",
    "                                                            verbose=1, \n",
    "                                                            factor=0.5, \n",
    "                                                            min_lr=0.000001)\n",
    "callbacks = [learning_rate_reduction]"
   ]
  },
  {
   "cell_type": "markdown",
   "metadata": {},
   "source": [
    "# Setting up the univariate SimpleRNN"
   ]
  },
  {
   "cell_type": "code",
   "execution_count": 6,
   "metadata": {},
   "outputs": [],
   "source": [
    "class RNN(Sequential):\n",
    "    def __init__(self, eta, neurons, horizon=24):\n",
    "        super(self.__class__, self).__init__()\n",
    "\n",
    "        # RNN architecture\n",
    "        self.add(keras.layers.SimpleRNN(neurons, return_sequences=True, input_shape=[None, 1]))\n",
    "        self.add(keras.layers.SimpleRNN(neurons, return_sequences=True))\n",
    "        self.add(keras.layers.Dense(horizon))\n",
    "\n",
    "        # Model compile settings\n",
    "        opt = keras.optimizers.Adam(learning_rate=eta)\n",
    "\n",
    "        # Compile model\n",
    "        self.compile(loss='mse', optimizer=opt)\n",
    "\n",
    "\n",
    "# return_sequences=True --> (256, 168, 24)\n",
    "# return_sequences=False --> (256, 24)"
   ]
  },
  {
   "cell_type": "markdown",
   "metadata": {},
   "source": [
    "## Grid search"
   ]
  },
  {
   "cell_type": "code",
   "execution_count": 8,
   "metadata": {},
   "outputs": [
    {
     "name": "stdout",
     "output_type": "stream",
     "text": [
      "(215, 168, 24)\n",
      "(215, 168, 24)\n",
      "0.13920488719620555\n"
     ]
    }
   ],
   "source": [
    "columns = [\"batch_size\", \"learning_rate\", \"epoch\", \"univ_neurons\", \"mse_all\", \"mse_all2\"]\n",
    "columns += [f\"mse{i}\" for i in range(1,25)]\n",
    "results = pd.DataFrame(columns=columns)\n",
    "Y_test_last = Y_test[:,-1]\n",
    "\n",
    "epochs_colmns = [f\"epoch{i}\" for i in range(epochs)]\n",
    "training_losses = pd.DataFrame(columns=epochs_colmns)\n",
    "validation_losses = pd.DataFrame(columns=epochs_colmns)\n",
    "\n",
    "i = 0\n",
    "for eta in tqdm(eta_list):\n",
    "    for batch in batch_size:\n",
    "        RNN_model = RNN(eta, univ_neurons, horizon=horizon)\n",
    "\n",
    "        # Training\n",
    "        history = RNN_model.fit(x_train, Y_train, \n",
    "                      epochs=epochs, batch_size = batch, \n",
    "                      shuffle=False, callbacks= callbacks,  \n",
    "                      validation_data=(x_valid, Y_valid), verbose=0)\n",
    "\n",
    "        \n",
    "        # Model evaluation result\n",
    "        training_losses.loc[i] = history.history[\"loss\"]\n",
    "        validation_losses.loc[i] = history.history[\"val_loss\"]\n",
    "\n",
    "        # Prediction\n",
    "        Y_pred_rnn = RNN_model.predict(x_test)\n",
    "        Y_pred_rnn_last = Y_pred_rnn[:,-1]     \n",
    "        \n",
    "        # Results\n",
    "        mse_val = MSE(Y_test_last, Y_pred_rnn_last)\n",
    "        se_all = (Y_test_last - Y_pred_rnn_last) ** 2 \n",
    "        mse_all = np.mean(se_all, axis=0) # The mean of each column \n",
    "        mse_val2 = np.mean(mse_all)\n",
    "\n",
    "        # Storing results\n",
    "        res1 = np.array([batch, eta, epochs, univ_neurons, mse_val, mse_val2])\n",
    "        res2 = np.array(mse_all)\n",
    "        res = np.concatenate([res1,res2], axis=0)\n",
    "        results.loc[i] = res\n",
    "        i += 1\n",
    "\n",
    "        results.to_csv(f\"{REPORT_DATA}univariate_results_best_models.csv\")\n",
    "        training_losses.to_csv(f\"{REPORT_DATA}univariate_evaluation_training_losses.csv\")\n",
    "        validation_losses.to_csv(f\"{REPORT_DATA}univariate_evaluation_validation_losses.csv\")"
   ]
  },
  {
   "cell_type": "markdown",
   "metadata": {},
   "source": [
    "# Setting up the multivariate ConvGRU"
   ]
  },
  {
   "cell_type": "code",
   "execution_count": 9,
   "metadata": {},
   "outputs": [
    {
     "name": "stdout",
     "output_type": "stream",
     "text": [
      "X_train.shape=(1501, 168, 3)\n",
      "Y_train.shape=(1501, 168, 24)\n",
      "X_valid.shape=(429, 168, 3)\n",
      "Y_valid.shape=(429, 168, 24)\n",
      "X_train.shape=(1501, 168, 3)\n",
      "Y_train[:,2::3].shape=(1501, 56, 24)\n",
      "X_valid.shape=(429, 168, 3)\n",
      "Y_valid[:,2::3].shape=(429, 56, 24)\n"
     ]
    }
   ],
   "source": [
    "class ConvGRU(Sequential):\n",
    "    def __init__(self, eta, neurons_first, neurons_second, horizon=24):\n",
    "        super(self.__class__, self).__init__()\n",
    "\n",
    "        # ConvGRU architecture\n",
    "        self.add(keras.layers.Conv1D(filters=filters, kernel_size=kernel_size, strides=strides, padding=\"valid\", input_shape=[None, k]))\n",
    "        self.add(keras.layers.GRU(neurons_first, return_sequences=True))\n",
    "        self.add(keras.layers.GRU(neurons_second, return_sequences=True))\n",
    "        self.add(keras.layers.Dense(horizon))\n",
    "\n",
    "        # Model compile settings\n",
    "        opt = keras.optimizers.Adam(learning_rate=eta)\n",
    "\n",
    "        # Compile model\n",
    "        self.compile(loss='mse', optimizer=opt)"
   ]
  },
  {
   "cell_type": "markdown",
   "metadata": {},
   "source": [
    "## Grid search"
   ]
  },
  {
   "cell_type": "code",
   "execution_count": 10,
   "metadata": {},
   "outputs": [
    {
     "name": "stdout",
     "output_type": "stream",
     "text": [
      "Epoch 1/2\n",
      "16/16 [==============================] - 5s 136ms/step - loss: 0.0173 - val_loss: 0.0118\n",
      "Epoch 2/2\n",
      "16/16 [==============================] - 2s 99ms/step - loss: 0.0057 - val_loss: 0.0062\n",
      "0.16341531596554118\n"
     ]
    }
   ],
   "source": [
    "columns = [\"batch_size\", \"learning_rate\", \"epoch\", \"univ_neurons\", \"mse_all\", \"mse_all2\"]\n",
    "columns += [f\"mse{i}\" for i in range(1,25)]\n",
    "results = pd.DataFrame(columns=columns)\n",
    "Y_test_last = Y_test[:,-1]\n",
    "\n",
    "epochs_colmns = [f\"epoch{i}\" for i in range(epochs)]\n",
    "training_losses = pd.DataFrame(columns=epochs_colmns)\n",
    "validation_losses = pd.DataFrame(columns=epochs_colmns)\n",
    "\n",
    "i = 0\n",
    "for eta in tqdm(eta_list):\n",
    "    for batch in batch_size:\n",
    "        ConvGRU_model = ConvGRU(eta, multi_neurons_first, multi_neurons_second, horizon=horizon)\n",
    "\n",
    "        # Training\n",
    "        history = ConvGRU_model.fit(X_train, Y_train[:,2::strides], \n",
    "                          epochs=epochs, batch_size = batch, \n",
    "                          shuffle=False, callbacks= callbacks,\n",
    "                          validation_data=(X_valid, Y_valid[:,2::strides]), verbose=0)\n",
    "        \n",
    "        \n",
    "        # Model evaluation result\n",
    "        training_losses.loc[i] = history.history[\"loss\"]\n",
    "        validation_losses.loc[i] = history.history[\"val_loss\"]\n",
    "\n",
    "        # Prediction\n",
    "        Y_pred_rnn = ConvGRU_model.predict(X_test)\n",
    "        Y_pred_rnn_last = Y_pred_rnn[:,-1]     \n",
    "        \n",
    "        # Results\n",
    "        mse_val = MSE(Y_test_last, Y_pred_rnn_last)\n",
    "        se_all = (Y_test_last - Y_pred_rnn_last) ** 2 \n",
    "        mse_all = np.mean(se_all, axis=0) # The mean of each column \n",
    "        mse_val2 = np.mean(mse_all)\n",
    "\n",
    "        # Storing results\n",
    "        res1 = np.array([batch, eta, epochs, univ_neurons, mse_val, mse_val2])\n",
    "        res2 = np.array(mse_all)\n",
    "        res = np.concatenate([res1,res2], axis=0)\n",
    "        results.loc[i] = res\n",
    "        i += 1\n",
    "\n",
    "        results.to_csv(f\"{REPORT_DATA}multivariate_results_best_models.csv\")\n",
    "        training_losses.to_csv(f\"{REPORT_DATA}multivariate_evaluation_training_losses.csv\")\n",
    "        validation_losses.to_csv(f\"{REPORT_DATA}multivariate_evaluation_validation_losses.csv\")"
   ]
  },
  {
   "cell_type": "code",
   "execution_count": null,
   "metadata": {},
   "outputs": [],
   "source": []
  }
 ],
 "metadata": {
  "interpreter": {
   "hash": "f9f85f796d01129d0dd105a088854619f454435301f6ffec2fea96ecbd9be4ac"
  },
  "kernelspec": {
   "display_name": "Python 3.9.5 64-bit",
   "language": "python",
   "name": "python3"
  },
  "language_info": {
   "codemirror_mode": {
    "name": "ipython",
    "version": 3
   },
   "file_extension": ".py",
   "mimetype": "text/x-python",
   "name": "python",
   "nbconvert_exporter": "python",
   "pygments_lexer": "ipython3",
   "version": "3.9.7"
  },
  "orig_nbformat": 4
 },
 "nbformat": 4,
 "nbformat_minor": 2
}
