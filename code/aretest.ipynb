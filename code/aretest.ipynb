{
 "cells": [
  {
   "cell_type": "code",
   "execution_count": 2,
   "metadata": {},
   "outputs": [],
   "source": [
    "import numpy as np\n",
    "import pandas as pd\n",
    "from tensorflow import keras\n",
    "from matplotlib import pyplot as plt"
   ]
  },
  {
   "cell_type": "code",
   "execution_count": 3,
   "metadata": {},
   "outputs": [],
   "source": [
    "def generate_time_series(batch_size, n_steps):\n",
    "    freq1, freq2, offset1, offset2 = np.random.rand(4, batch_size, 1)\n",
    "    time = np.linspace(0, 1, n_steps)\n",
    "    series = 0.5 * np.sin((time - offset1) * (freq1 * 10 + 10))\n",
    "    series += 0.2 * np.sin((time - offset2) * (freq2 * 20 + 20))\n",
    "    series += 0.1 * (np.random.rand(batch_size, n_steps) - 0.5)\n",
    "    return series[..., np.newaxis].astype(np.float32)"
   ]
  },
  {
   "cell_type": "code",
   "execution_count": 4,
   "metadata": {},
   "outputs": [
    {
     "name": "stdout",
     "output_type": "stream",
     "text": [
      "(1, 50, 1)\n"
     ]
    }
   ],
   "source": [
    "series = generate_time_series(1, 50 + 10)\n",
    "X_new, Y_new = series[:, :50], series[:, 50:]\n",
    "print(X_new.shape)"
   ]
  },
  {
   "cell_type": "code",
   "execution_count": 8,
   "metadata": {},
   "outputs": [],
   "source": [
    "def last_time_step_mse(Y_true, Y_pred):\n",
    "    return keras.metrics.mean_absolute_error(Y_true[:,-1], Y_pred[:,-1])"
   ]
  },
  {
   "cell_type": "code",
   "execution_count": 9,
   "metadata": {},
   "outputs": [],
   "source": [
    "class LNSimpleRNNCell(keras.layers.Layer):\n",
    "    def __init__(self, units, activation=\"tanh\", **kwargs):\n",
    "        super().__init__(**kwargs)\n",
    "        self.state_size = units\n",
    "        self.output_size = units\n",
    "        self.simple_rnn_cell = keras.layers.SimpleRNNCell(units, activation=None)\n",
    "        self.layer_norm = keras.layers.LayerNormalization()\n",
    "        self.activation = keras.activations.get(activation)\n",
    "\n",
    "    def call(self, inputs, states):\n",
    "        outputs, new_states = self.simple_rnn_cell(inputs, states)\n",
    "        norm_outputs = self.activation(self.layer_norm(outputs))\n",
    "        return norm_outputs, [norm_outputs]"
   ]
  },
  {
   "cell_type": "code",
   "execution_count": 10,
   "metadata": {},
   "outputs": [
    {
     "name": "stdout",
     "output_type": "stream",
     "text": [
      "(10000, 75, 1)\n",
      "(10000, 50)\n",
      "(10000, 50)\n",
      "(10000, 50)\n",
      "(10000, 50)\n",
      "(10000, 50)\n",
      "(10000, 50)\n",
      "(10000, 50)\n",
      "(10000, 50)\n",
      "(10000, 50)\n",
      "(10000, 50)\n",
      "(10000, 50)\n",
      "(10000, 50)\n",
      "(10000, 50)\n",
      "(10000, 50)\n",
      "(10000, 50)\n",
      "(10000, 50)\n",
      "(10000, 50)\n",
      "(10000, 50)\n",
      "(10000, 50)\n",
      "(10000, 50)\n",
      "(10000, 50)\n",
      "(10000, 50)\n",
      "(10000, 50)\n",
      "(10000, 50)\n",
      "(10000, 50)\n",
      "(10000, 50)\n",
      "(10000, 50)\n",
      "(10000, 50)\n",
      "(10000, 50)\n",
      "(10000, 50)\n",
      "(10000, 50)\n",
      "(10000, 50)\n",
      "(10000, 50)\n",
      "(10000, 50)\n",
      "(10000, 50)\n",
      "(10000, 50)\n",
      "(10000, 50)\n",
      "(10000, 50)\n",
      "(10000, 50)\n",
      "(10000, 50)\n",
      "(10000, 50)\n",
      "(10000, 50)\n",
      "(10000, 50)\n",
      "(10000, 50)\n",
      "(10000, 50)\n",
      "(10000, 50)\n",
      "(10000, 50)\n",
      "(10000, 50)\n",
      "(10000, 50)\n",
      "(10000, 50)\n"
     ]
    }
   ],
   "source": [
    "n_steps = 50\n",
    "horizon = 25 # One entire period\n",
    "series = generate_time_series(10000, n_steps + horizon)\n",
    "\n",
    "print(series.shape)\n",
    "\n",
    "# (7000 time series, 50 steps each)\n",
    "X_train, y_train = series[:7000, :n_steps], series[:7000, -horizon, 0]\n",
    "X_valid, y_valid = series[7000:9000, :n_steps], series[7000:9000, -horizon, 0]\n",
    "X_test, y_test = series[9000:, :n_steps], series[9000:, -horizon, 0]\n",
    "\n",
    "\n",
    "Y = np.empty((10000, n_steps, horizon))\n",
    "for step_ahead in range(1, horizon + 1):\n",
    "    Y[:,:, step_ahead - 1] = series[:,step_ahead:step_ahead + n_steps, 0]\n",
    "Y_train = Y[:7000]\n",
    "Y_valid = Y[7000:9000]\n",
    "Y_test = Y[9000:]"
   ]
  },
  {
   "cell_type": "code",
   "execution_count": 6,
   "metadata": {},
   "outputs": [
    {
     "name": "stderr",
     "output_type": "stream",
     "text": [
      "2021-12-09 22:26:57.340736: I tensorflow/core/platform/cpu_feature_guard.cc:151] This TensorFlow binary is optimized with oneAPI Deep Neural Network Library (oneDNN) to use the following CPU instructions in performance-critical operations:  SSE3 SSE4.1 SSE4.2 AVX\n",
      "To enable them in other operations, rebuild TensorFlow with the appropriate compiler flags.\n",
      "2021-12-09 22:26:57.341555: I tensorflow/core/common_runtime/process_util.cc:146] Creating new thread pool with default inter op setting: 2. Tune using inter_op_parallelism_threads for best performance.\n"
     ]
    }
   ],
   "source": [
    "model = keras.models.Sequential([\n",
    "    keras.layers.SimpleRNN(20, return_sequences=True, input_shape=[None, 1]),\n",
    "    keras.layers.SimpleRNN(20, return_sequences=True),\n",
    "    keras.layers.TimeDistributed(keras.layers.Dense(horizon))\n",
    "])\n",
    "\n",
    "model_ln = keras.models.Sequential([\n",
    "    keras.layers.RNN(LNSimpleRNNCell(20), return_sequences=True, input_shape=[None, 1]),\n",
    "    keras.layers.RNN(LNSimpleRNNCell(20), return_sequences=True),\n",
    "    keras.layers.TimeDistributed(keras.layers.Dense(horizon))\n",
    "])\n",
    "\n",
    "model_lstm = keras.models.Sequential([\n",
    "    keras.layers.LSTM(20, return_sequences=True, input_shape=[None, 1]),\n",
    "    keras.layers.LSTM(20, return_sequences=True),\n",
    "    keras.layers.TimeDistributed(keras.layers.Dense(horizon))\n",
    "])"
   ]
  },
  {
   "cell_type": "code",
   "execution_count": 7,
   "metadata": {},
   "outputs": [],
   "source": [
    "model_gru = keras.models.Sequential([\n",
    "    keras.layers.GRU(20, return_sequences=True, input_shape=[None, 1]),\n",
    "    keras.layers.GRU(20, return_sequences=True),\n",
    "    keras.layers.TimeDistributed(keras.layers.Dense(horizon))\n",
    "])"
   ]
  },
  {
   "cell_type": "code",
   "execution_count": 8,
   "metadata": {},
   "outputs": [
    {
     "name": "stdout",
     "output_type": "stream",
     "text": [
      "Model: \"sequential\"\n",
      "_________________________________________________________________\n",
      " Layer (type)                Output Shape              Param #   \n",
      "=================================================================\n",
      " simple_rnn (SimpleRNN)      (None, None, 20)          440       \n",
      "                                                                 \n",
      " simple_rnn_1 (SimpleRNN)    (None, None, 20)          820       \n",
      "                                                                 \n",
      " time_distributed (TimeDistr  (None, None, 25)         525       \n",
      " ibuted)                                                         \n",
      "                                                                 \n",
      "=================================================================\n",
      "Total params: 1,785\n",
      "Trainable params: 1,785\n",
      "Non-trainable params: 0\n",
      "_________________________________________________________________\n",
      "Model: \"sequential_1\"\n",
      "_________________________________________________________________\n",
      " Layer (type)                Output Shape              Param #   \n",
      "=================================================================\n",
      " rnn (RNN)                   (None, None, 20)          480       \n",
      "                                                                 \n",
      " rnn_1 (RNN)                 (None, None, 20)          860       \n",
      "                                                                 \n",
      " time_distributed_1 (TimeDis  (None, None, 25)         525       \n",
      " tributed)                                                       \n",
      "                                                                 \n",
      "=================================================================\n",
      "Total params: 1,865\n",
      "Trainable params: 1,865\n",
      "Non-trainable params: 0\n",
      "_________________________________________________________________\n",
      "Model: \"sequential_2\"\n",
      "_________________________________________________________________\n",
      " Layer (type)                Output Shape              Param #   \n",
      "=================================================================\n",
      " lstm (LSTM)                 (None, None, 20)          1760      \n",
      "                                                                 \n",
      " lstm_1 (LSTM)               (None, None, 20)          3280      \n",
      "                                                                 \n",
      " time_distributed_2 (TimeDis  (None, None, 25)         525       \n",
      " tributed)                                                       \n",
      "                                                                 \n",
      "=================================================================\n",
      "Total params: 5,565\n",
      "Trainable params: 5,565\n",
      "Non-trainable params: 0\n",
      "_________________________________________________________________\n",
      "Model: \"sequential_3\"\n",
      "_________________________________________________________________\n",
      " Layer (type)                Output Shape              Param #   \n",
      "=================================================================\n",
      " gru (GRU)                   (None, None, 20)          1380      \n",
      "                                                                 \n",
      " gru_1 (GRU)                 (None, None, 20)          2520      \n",
      "                                                                 \n",
      " time_distributed_3 (TimeDis  (None, None, 25)         525       \n",
      " tributed)                                                       \n",
      "                                                                 \n",
      "=================================================================\n",
      "Total params: 4,425\n",
      "Trainable params: 4,425\n",
      "Non-trainable params: 0\n",
      "_________________________________________________________________\n"
     ]
    }
   ],
   "source": [
    "model.summary()\n",
    "model_ln.summary()\n",
    "model_lstm.summary()\n",
    "model_gru.summary()"
   ]
  },
  {
   "cell_type": "code",
   "execution_count": 9,
   "metadata": {},
   "outputs": [],
   "source": [
    "optimizer = keras.optimizers.Adam(learning_rate=0.01)\n",
    "epochs = 7\n",
    "model.compile(loss=\"mse\", optimizer=optimizer, metrics=[last_time_step_mse])\n",
    "model_ln.compile(loss=\"mse\", optimizer=optimizer, metrics=[last_time_step_mse])\n",
    "model_lstm.compile(loss=\"mse\", optimizer=optimizer, metrics=[last_time_step_mse])\n",
    "model_gru.compile(loss=\"mse\", optimizer=optimizer, metrics=[last_time_step_mse])"
   ]
  },
  {
   "cell_type": "code",
   "execution_count": 10,
   "metadata": {},
   "outputs": [
    {
     "name": "stdout",
     "output_type": "stream",
     "text": [
      "Epoch 1/7\n",
      "219/219 [==============================] - 30s 127ms/step - loss: 0.0759 - last_time_step_mse: 0.2051 - val_loss: 0.0678 - val_last_time_step_mse: 0.1892\n",
      "Epoch 2/7\n",
      "219/219 [==============================] - 30s 139ms/step - loss: 0.0644 - last_time_step_mse: 0.1817 - val_loss: 0.0674 - val_last_time_step_mse: 0.1817\n",
      "Epoch 3/7\n",
      "219/219 [==============================] - 21s 97ms/step - loss: 0.0579 - last_time_step_mse: 0.1650 - val_loss: 0.0554 - val_last_time_step_mse: 0.1503\n",
      "Epoch 4/7\n",
      "219/219 [==============================] - 27s 125ms/step - loss: 0.0538 - last_time_step_mse: 0.1544 - val_loss: 0.0513 - val_last_time_step_mse: 0.1395\n",
      "Epoch 5/7\n",
      "219/219 [==============================] - 26s 118ms/step - loss: 0.0516 - last_time_step_mse: 0.1482 - val_loss: 0.0515 - val_last_time_step_mse: 0.1511\n",
      "Epoch 6/7\n",
      "219/219 [==============================] - 27s 125ms/step - loss: 0.0484 - last_time_step_mse: 0.1388 - val_loss: 0.0463 - val_last_time_step_mse: 0.1321\n",
      "Epoch 7/7\n",
      "219/219 [==============================] - 27s 123ms/step - loss: 0.0466 - last_time_step_mse: 0.1342 - val_loss: 0.0506 - val_last_time_step_mse: 0.1482\n"
     ]
    }
   ],
   "source": [
    "history = model.fit(X_train, Y_train, epochs=epochs, validation_data=(X_valid, Y_valid))"
   ]
  },
  {
   "cell_type": "code",
   "execution_count": 11,
   "metadata": {},
   "outputs": [
    {
     "name": "stdout",
     "output_type": "stream",
     "text": [
      "Epoch 1/7\n",
      "219/219 [==============================] - 69s 298ms/step - loss: 0.0854 - last_time_step_mse: 0.2220 - val_loss: 0.0747 - val_last_time_step_mse: 0.2089\n",
      "Epoch 2/7\n",
      "219/219 [==============================] - 55s 250ms/step - loss: 0.0678 - last_time_step_mse: 0.1933 - val_loss: 0.0658 - val_last_time_step_mse: 0.1826\n",
      "Epoch 3/7\n",
      "219/219 [==============================] - 55s 251ms/step - loss: 0.0619 - last_time_step_mse: 0.1794 - val_loss: 0.0603 - val_last_time_step_mse: 0.1718\n",
      "Epoch 4/7\n",
      "219/219 [==============================] - 53s 240ms/step - loss: 0.0579 - last_time_step_mse: 0.1662 - val_loss: 0.0548 - val_last_time_step_mse: 0.1531\n",
      "Epoch 5/7\n",
      "219/219 [==============================] - 59s 269ms/step - loss: 0.0514 - last_time_step_mse: 0.1468 - val_loss: 0.0503 - val_last_time_step_mse: 0.1429\n",
      "Epoch 6/7\n",
      "219/219 [==============================] - 50s 230ms/step - loss: 0.0488 - last_time_step_mse: 0.1399 - val_loss: 0.0503 - val_last_time_step_mse: 0.1463\n",
      "Epoch 7/7\n",
      "219/219 [==============================] - 55s 253ms/step - loss: 0.0458 - last_time_step_mse: 0.1331 - val_loss: 0.0473 - val_last_time_step_mse: 0.1298\n"
     ]
    }
   ],
   "source": [
    "history_ln = model_ln.fit(X_train, Y_train, epochs=epochs, validation_data=(X_valid, Y_valid))"
   ]
  },
  {
   "cell_type": "code",
   "execution_count": 12,
   "metadata": {},
   "outputs": [
    {
     "name": "stdout",
     "output_type": "stream",
     "text": [
      "Epoch 1/7\n",
      "219/219 [==============================] - 45s 178ms/step - loss: 0.0668 - last_time_step_mse: 0.1811 - val_loss: 0.0474 - val_last_time_step_mse: 0.1356\n",
      "Epoch 2/7\n",
      "219/219 [==============================] - 38s 173ms/step - loss: 0.0439 - last_time_step_mse: 0.1274 - val_loss: 0.0420 - val_last_time_step_mse: 0.1217\n",
      "Epoch 3/7\n",
      "219/219 [==============================] - 35s 161ms/step - loss: 0.0387 - last_time_step_mse: 0.1129 - val_loss: 0.0373 - val_last_time_step_mse: 0.1038\n",
      "Epoch 4/7\n",
      "219/219 [==============================] - 38s 175ms/step - loss: 0.0337 - last_time_step_mse: 0.0920 - val_loss: 0.0320 - val_last_time_step_mse: 0.0809\n",
      "Epoch 5/7\n",
      "219/219 [==============================] - 42s 191ms/step - loss: 0.0304 - last_time_step_mse: 0.0769 - val_loss: 0.0295 - val_last_time_step_mse: 0.0739\n",
      "Epoch 6/7\n",
      "219/219 [==============================] - 35s 162ms/step - loss: 0.0289 - last_time_step_mse: 0.0714 - val_loss: 0.0287 - val_last_time_step_mse: 0.0688\n",
      "Epoch 7/7\n",
      "219/219 [==============================] - 34s 153ms/step - loss: 0.0279 - last_time_step_mse: 0.0684 - val_loss: 0.0272 - val_last_time_step_mse: 0.0634\n"
     ]
    }
   ],
   "source": [
    "history_lstm = model_lstm.fit(X_train, Y_train, epochs=epochs, validation_data=(X_valid, Y_valid))"
   ]
  },
  {
   "cell_type": "code",
   "execution_count": 13,
   "metadata": {},
   "outputs": [
    {
     "name": "stdout",
     "output_type": "stream",
     "text": [
      "Epoch 1/7\n",
      "219/219 [==============================] - 49s 209ms/step - loss: 0.0677 - last_time_step_mse: 0.1882 - val_loss: 0.0514 - val_last_time_step_mse: 0.1460\n",
      "Epoch 2/7\n",
      "219/219 [==============================] - 53s 242ms/step - loss: 0.0438 - last_time_step_mse: 0.1269 - val_loss: 0.0410 - val_last_time_step_mse: 0.1147\n",
      "Epoch 3/7\n",
      "219/219 [==============================] - 50s 227ms/step - loss: 0.0379 - last_time_step_mse: 0.1057 - val_loss: 0.0370 - val_last_time_step_mse: 0.0987\n",
      "Epoch 4/7\n",
      "219/219 [==============================] - 54s 248ms/step - loss: 0.0338 - last_time_step_mse: 0.0890 - val_loss: 0.0337 - val_last_time_step_mse: 0.0883\n",
      "Epoch 5/7\n",
      "219/219 [==============================] - 48s 219ms/step - loss: 0.0317 - last_time_step_mse: 0.0816 - val_loss: 0.0314 - val_last_time_step_mse: 0.0817\n",
      "Epoch 6/7\n",
      "219/219 [==============================] - 51s 234ms/step - loss: 0.0304 - last_time_step_mse: 0.0762 - val_loss: 0.0308 - val_last_time_step_mse: 0.0759\n",
      "Epoch 7/7\n",
      "219/219 [==============================] - 48s 219ms/step - loss: 0.0296 - last_time_step_mse: 0.0741 - val_loss: 0.0291 - val_last_time_step_mse: 0.0706\n"
     ]
    }
   ],
   "source": [
    "history_gru = model_gru.fit(X_train, Y_train, epochs=epochs, validation_data=(X_valid, Y_valid))"
   ]
  },
  {
   "cell_type": "code",
   "execution_count": 14,
   "metadata": {},
   "outputs": [
    {
     "data": {
      "image/png": "[encoded data removed]",
      "text/plain": [
       "<Figure size 576x360 with 1 Axes>"
      ]
     },
     "metadata": {
      "needs_background": "light"
     },
     "output_type": "display_data"
    }
   ],
   "source": [
    "pd.DataFrame(history.history).plot(figsize=(8,5))\n",
    "plt.grid(True)\n",
    "plt.gca().set_ylim(-0,0.06)\n",
    "plt.show()"
   ]
  },
  {
   "cell_type": "code",
   "execution_count": 15,
   "metadata": {},
   "outputs": [],
   "source": [
    "Y_pred = model.predict(X_test)\n",
    "Y_pred_ln = model_ln.predict(X_test)\n",
    "Y_pred_lstm = model_lstm.predict(X_test)\n",
    "Y_pred_gru = model_gru.predict(X_test)"
   ]
  },
  {
   "cell_type": "code",
   "execution_count": 24,
   "metadata": {},
   "outputs": [
    {
     "data": {
      "image/png": "[encoded data removed]",
      "text/plain": [
       "<Figure size 720x504 with 1 Axes>"
      ]
     },
     "metadata": {
      "needs_background": "light"
     },
     "output_type": "display_data"
    }
   ],
   "source": [
    "sequence = np.concatenate((X_test[222].flatten(), Y_pred[222,-horizon:,-1].flatten()))\n",
    "sequence_ln = np.concatenate((X_test[222].flatten(), Y_pred_ln[222,-horizon:,-1].flatten()))\n",
    "sequence_lstm = np.concatenate((X_test[222].flatten(), Y_pred_lstm[222,-horizon:,-1].flatten()))\n",
    "sequence_gru = np.concatenate((X_test[222].flatten(), Y_pred_gru[222,-horizon:,-1].flatten()))\n",
    "\n",
    "\n",
    "x = np.arange(n_steps+horizon)\n",
    "plt.figure(figsize=(10,7))\n",
    "plt.plot(x[:n_steps], sequence[:n_steps], '.-')\n",
    "plt.plot(x[n_steps-1:], sequence[n_steps-1:], '-.', label=\"Simple RNN\")\n",
    "plt.plot(x[n_steps-1:], sequence_ln[n_steps-1:], '-.', label=\"Layer norm\")\n",
    "plt.plot(x[n_steps-1:], sequence_lstm[n_steps-1:], '-.', label=\"LSTM\")\n",
    "plt.plot(x[n_steps-1:], sequence_gru[n_steps-1:], '-.', label=\"GRU\")\n",
    "plt.legend()\n",
    "plt.grid()\n",
    "plt.show()"
   ]
  }
 ],
 "metadata": {
  "interpreter": {
   "hash": "e7370f93d1d0cde622a1f8e1c04877d8463912d04d973331ad4851f04de6915a"
  },
  "kernelspec": {
   "display_name": "Python 3.9.9 64-bit",
   "language": "python",
   "name": "python3"
  },
  "language_info": {
   "codemirror_mode": {
    "name": "ipython",
    "version": 3
   },
   "file_extension": ".py",
   "mimetype": "text/x-python",
   "name": "python",
   "nbconvert_exporter": "python",
   "pygments_lexer": "ipython3",
   "version": "3.9.9"
  },
  "orig_nbformat": 4
 },
 "nbformat": 4,
 "nbformat_minor": 2
}
