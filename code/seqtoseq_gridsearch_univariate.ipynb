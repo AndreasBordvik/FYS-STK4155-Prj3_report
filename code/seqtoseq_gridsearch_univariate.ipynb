{
 "cells": [
  {
   "cell_type": "code",
   "execution_count": 1,
   "metadata": {},
   "outputs": [
    {
     "name": "stderr",
     "output_type": "stream",
     "text": [
      "2021-12-14 23:20:06.499479: W tensorflow/stream_executor/platform/default/dso_loader.cc:64] Could not load dynamic library 'libcudart.so.11.0'; dlerror: libcudart.so.11.0: cannot open shared object file: No such file or directory\n",
      "2021-12-14 23:20:06.499517: I tensorflow/stream_executor/cuda/cudart_stub.cc:29] Ignore above cudart dlerror if you do not have a GPU set up on your machine.\n"
     ]
    }
   ],
   "source": [
    "from sklearn.metrics import mean_absolute_error as MSE\n",
    "from cmcrameri import cm\n",
    "from tqdm import tqdm\n",
    "from common import *\n",
    "from models import *"
   ]
  },
  {
   "cell_type": "markdown",
   "metadata": {},
   "source": [
    "# Reading in the data"
   ]
  },
  {
   "cell_type": "code",
   "execution_count": 2,
   "metadata": {},
   "outputs": [],
   "source": [
    "df = pd.read_csv(\"../data/input_data/MAIN_DATASET.csv\")\n",
    "\n",
    "price = df['NO2_price'].values.reshape(-1,1)\n",
    "\n",
    "price_days = seperate_column_to_days(price)"
   ]
  },
  {
   "cell_type": "code",
   "execution_count": 3,
   "metadata": {},
   "outputs": [
    {
     "name": "stdout",
     "output_type": "stream",
     "text": [
      "2145 192 1\n"
     ]
    }
   ],
   "source": [
    "lookbehind = 7\n",
    "input_width = lookbehind*24\n",
    "horizon = 24\n",
    "no_hours = input_width + horizon\n",
    "hour_in_days = int(no_hours / 24)\n",
    "\n",
    "price_dataset = []\n",
    "for i in range(len(price_days) - hour_in_days+1):\n",
    "    price_dataset.append(np.concatenate((price_days[i:i+hour_in_days])))\n",
    "\n",
    "price_dataset = np.array(price_dataset)\n",
    "\n",
    "scaler = MinMaxScaler()\n",
    "price_dataset = scaler.fit_transform(price_dataset[:,:,0])\n",
    "price_dataset = price_dataset[..., np.newaxis].astype(np.float32)\n",
    "\n",
    "dataset = price_dataset\n",
    "n,m,k = dataset.shape\n",
    "print(n,m,k)"
   ]
  },
  {
   "cell_type": "code",
   "execution_count": 4,
   "metadata": {},
   "outputs": [
    {
     "name": "stdout",
     "output_type": "stream",
     "text": [
      "X_train.shape=(1501, 168, 1)\n",
      "X_valid.shape=(429, 168, 1)\n",
      "X_test.shape=(215, 168, 1)\n",
      "Y_train.shape=(1501, 168, 24)\n",
      "Y_valid.shape=(429, 168, 24)\n",
      "Y_test.shape=(215, 168, 24)\n"
     ]
    }
   ],
   "source": [
    "train = int(0.7*n)\n",
    "valid = int(0.9*n)\n",
    "X_train = dataset[:train, :input_width]\n",
    "X_valid = dataset[train:valid, :input_width]\n",
    "X_test = dataset[valid:, :input_width]\n",
    "\n",
    "Y = np.empty((n, input_width, horizon))\n",
    "for step_ahead in range(1, horizon + 1):\n",
    "    Y[:,:, step_ahead - 1] = dataset[:,step_ahead:step_ahead + input_width, 0]\n",
    "\n",
    "Y_train = Y[:train]\n",
    "Y_valid = Y[train:valid]\n",
    "Y_test = Y[valid:]"
   ]
  },
  {
   "cell_type": "markdown",
   "metadata": {},
   "source": [
    "The idea behind this grid search is to first study which cells performs the best for our current dataset, with a univariate model"
   ]
  },
  {
   "cell_type": "markdown",
   "metadata": {},
   "source": [
    "# Common parameters for Grid Search"
   ]
  },
  {
   "cell_type": "code",
   "execution_count": 5,
   "metadata": {},
   "outputs": [],
   "source": [
    "epochs = 10\n",
    "no_neurons = np.array([16,32,64,128])\n",
    "mse_list_small = np.zeros((3, len(no_neurons)))\n",
    "best_mse_small = np.inf*np.ones(3)"
   ]
  },
  {
   "cell_type": "code",
   "execution_count": 6,
   "metadata": {},
   "outputs": [
    {
     "name": "stdout",
     "output_type": "stream",
     "text": [
      "Iteration 0\n"
     ]
    },
    {
     "name": "stderr",
     "output_type": "stream",
     "text": [
      "2021-12-14 23:20:07.843938: I tensorflow/stream_executor/cuda/cuda_gpu_executor.cc:925] could not open file to read NUMA node: /sys/bus/pci/devices/0000:01:00.0/numa_node\n",
      "Your kernel may have been built without NUMA support.\n",
      "2021-12-14 23:20:07.844056: W tensorflow/stream_executor/platform/default/dso_loader.cc:64] Could not load dynamic library 'libcudart.so.11.0'; dlerror: libcudart.so.11.0: cannot open shared object file: No such file or directory\n",
      "2021-12-14 23:20:07.844125: W tensorflow/stream_executor/platform/default/dso_loader.cc:64] Could not load dynamic library 'libcublas.so.11'; dlerror: libcublas.so.11: cannot open shared object file: No such file or directory\n",
      "2021-12-14 23:20:07.844177: W tensorflow/stream_executor/platform/default/dso_loader.cc:64] Could not load dynamic library 'libcublasLt.so.11'; dlerror: libcublasLt.so.11: cannot open shared object file: No such file or directory\n",
      "2021-12-14 23:20:07.844227: W tensorflow/stream_executor/platform/default/dso_loader.cc:64] Could not load dynamic library 'libcufft.so.10'; dlerror: libcufft.so.10: cannot open shared object file: No such file or directory\n",
      "2021-12-14 23:20:07.844275: W tensorflow/stream_executor/platform/default/dso_loader.cc:64] Could not load dynamic library 'libcurand.so.10'; dlerror: libcurand.so.10: cannot open shared object file: No such file or directory\n",
      "2021-12-14 23:20:07.844322: W tensorflow/stream_executor/platform/default/dso_loader.cc:64] Could not load dynamic library 'libcusolver.so.11'; dlerror: libcusolver.so.11: cannot open shared object file: No such file or directory\n",
      "2021-12-14 23:20:07.844369: W tensorflow/stream_executor/platform/default/dso_loader.cc:64] Could not load dynamic library 'libcusparse.so.11'; dlerror: libcusparse.so.11: cannot open shared object file: No such file or directory\n",
      "2021-12-14 23:20:07.844418: W tensorflow/stream_executor/platform/default/dso_loader.cc:64] Could not load dynamic library 'libcudnn.so.8'; dlerror: libcudnn.so.8: cannot open shared object file: No such file or directory\n",
      "2021-12-14 23:20:07.844425: W tensorflow/core/common_runtime/gpu/gpu_device.cc:1850] Cannot dlopen some GPU libraries. Please make sure the missing libraries mentioned above are installed properly if you would like to use GPU. Follow the guide at https://www.tensorflow.org/install/gpu for how to download and setup the required libraries for your platform.\n",
      "Skipping registering GPU devices...\n",
      "2021-12-14 23:20:07.844751: I tensorflow/core/platform/cpu_feature_guard.cc:151] This TensorFlow binary is optimized with oneAPI Deep Neural Network Library (oneDNN) to use the following CPU instructions in performance-critical operations:  AVX2 FMA\n",
      "To enable them in other operations, rebuild TensorFlow with the appropriate compiler flags.\n"
     ]
    },
    {
     "name": "stdout",
     "output_type": "stream",
     "text": [
      "Found new best SimpleRNN mse 0.1564814715280506 with 16 neurons\n"
     ]
    },
    {
     "name": "stderr",
     "output_type": "stream",
     "text": [
      "2021-12-14 23:21:12.190700: W tensorflow/python/util/util.cc:368] Sets are not currently considered sequences, but this may change in the future, so consider avoiding using them.\n"
     ]
    },
    {
     "name": "stdout",
     "output_type": "stream",
     "text": [
      "INFO:tensorflow:Assets written to: ram://a47c15be-65bd-469f-b261-f7284804817d/assets\n",
      "Found new best LSTM mse 0.11912772070439293 with 16 neurons\n"
     ]
    },
    {
     "name": "stderr",
     "output_type": "stream",
     "text": [
      "WARNING:absl:Found untraced functions such as lstm_cell_layer_call_fn, lstm_cell_layer_call_and_return_conditional_losses, lstm_cell_layer_call_fn, lstm_cell_layer_call_and_return_conditional_losses, lstm_cell_layer_call_and_return_conditional_losses while saving (showing 5 of 5). These functions will not be directly callable after loading.\n"
     ]
    },
    {
     "name": "stdout",
     "output_type": "stream",
     "text": [
      "INFO:tensorflow:Assets written to: ram://ebb54cea-9ef1-4d6a-9cd1-1a6ebc3374ec/assets\n"
     ]
    },
    {
     "name": "stderr",
     "output_type": "stream",
     "text": [
      "INFO:tensorflow:Assets written to: ram://ebb54cea-9ef1-4d6a-9cd1-1a6ebc3374ec/assets\n",
      "WARNING:absl:<keras.layers.recurrent.LSTMCell object at 0x7f92b82a17f0> has the same name 'LSTMCell' as a built-in Keras object. Consider renaming <class 'keras.layers.recurrent.LSTMCell'> to avoid naming conflicts when loading with `tf.keras.models.load_model`. If renaming is not possible, pass the object in the `custom_objects` parameter of the load function.\n"
     ]
    },
    {
     "name": "stdout",
     "output_type": "stream",
     "text": [
      "Found new best GRU mse 0.11783184701197492 with 16 neurons\n"
     ]
    },
    {
     "name": "stderr",
     "output_type": "stream",
     "text": [
      "WARNING:absl:Found untraced functions such as gru_cell_layer_call_fn, gru_cell_layer_call_and_return_conditional_losses, gru_cell_layer_call_fn, gru_cell_layer_call_and_return_conditional_losses, gru_cell_layer_call_and_return_conditional_losses while saving (showing 5 of 5). These functions will not be directly callable after loading.\n"
     ]
    },
    {
     "name": "stdout",
     "output_type": "stream",
     "text": [
      "INFO:tensorflow:Assets written to: ram://eb6456f0-591b-4783-aa40-15eb76dec2e2/assets\n"
     ]
    },
    {
     "name": "stderr",
     "output_type": "stream",
     "text": [
      "INFO:tensorflow:Assets written to: ram://eb6456f0-591b-4783-aa40-15eb76dec2e2/assets\n",
      "WARNING:absl:<keras.layers.recurrent.GRUCell object at 0x7f92b8186040> has the same name 'GRUCell' as a built-in Keras object. Consider renaming <class 'keras.layers.recurrent.GRUCell'> to avoid naming conflicts when loading with `tf.keras.models.load_model`. If renaming is not possible, pass the object in the `custom_objects` parameter of the load function.\n"
     ]
    },
    {
     "name": "stdout",
     "output_type": "stream",
     "text": [
      "Iteration 1\n",
      "Found new best SimpleRNN mse 0.1307345659884254 with 32 neurons\n",
      "INFO:tensorflow:Assets written to: ram://eeaa8046-69a1-4abb-ab56-7d7d63c265b0/assets\n"
     ]
    },
    {
     "name": "stderr",
     "output_type": "stream",
     "text": [
      "INFO:tensorflow:Assets written to: ram://eeaa8046-69a1-4abb-ab56-7d7d63c265b0/assets\n"
     ]
    },
    {
     "name": "stdout",
     "output_type": "stream",
     "text": [
      "Found new best LSTM mse 0.11909048117202388 with 32 neurons\n"
     ]
    },
    {
     "name": "stderr",
     "output_type": "stream",
     "text": [
      "WARNING:absl:Found untraced functions such as lstm_cell_1_layer_call_fn, lstm_cell_1_layer_call_and_return_conditional_losses, lstm_cell_1_layer_call_fn, lstm_cell_1_layer_call_and_return_conditional_losses, lstm_cell_1_layer_call_and_return_conditional_losses while saving (showing 5 of 5). These functions will not be directly callable after loading.\n"
     ]
    },
    {
     "name": "stdout",
     "output_type": "stream",
     "text": [
      "INFO:tensorflow:Assets written to: ram://d06e1572-3999-47e9-9243-3018a83a60d4/assets\n"
     ]
    },
    {
     "name": "stderr",
     "output_type": "stream",
     "text": [
      "INFO:tensorflow:Assets written to: ram://d06e1572-3999-47e9-9243-3018a83a60d4/assets\n",
      "WARNING:absl:<keras.layers.recurrent.LSTMCell object at 0x7f9265b2e130> has the same name 'LSTMCell' as a built-in Keras object. Consider renaming <class 'keras.layers.recurrent.LSTMCell'> to avoid naming conflicts when loading with `tf.keras.models.load_model`. If renaming is not possible, pass the object in the `custom_objects` parameter of the load function.\n"
     ]
    },
    {
     "name": "stdout",
     "output_type": "stream",
     "text": [
      "Found new best GRU mse 0.0914161777169622 with 32 neurons\n"
     ]
    },
    {
     "name": "stderr",
     "output_type": "stream",
     "text": [
      "WARNING:absl:Found untraced functions such as gru_cell_1_layer_call_fn, gru_cell_1_layer_call_and_return_conditional_losses, gru_cell_1_layer_call_fn, gru_cell_1_layer_call_and_return_conditional_losses, gru_cell_1_layer_call_and_return_conditional_losses while saving (showing 5 of 5). These functions will not be directly callable after loading.\n"
     ]
    },
    {
     "name": "stdout",
     "output_type": "stream",
     "text": [
      "INFO:tensorflow:Assets written to: ram://13096f87-d3f9-42f6-b73c-d6840b824aee/assets\n"
     ]
    },
    {
     "name": "stderr",
     "output_type": "stream",
     "text": [
      "INFO:tensorflow:Assets written to: ram://13096f87-d3f9-42f6-b73c-d6840b824aee/assets\n",
      "WARNING:absl:<keras.layers.recurrent.GRUCell object at 0x7f9265dd2d00> has the same name 'GRUCell' as a built-in Keras object. Consider renaming <class 'keras.layers.recurrent.GRUCell'> to avoid naming conflicts when loading with `tf.keras.models.load_model`. If renaming is not possible, pass the object in the `custom_objects` parameter of the load function.\n"
     ]
    },
    {
     "name": "stdout",
     "output_type": "stream",
     "text": [
      "Iteration 2\n",
      "Found new best SimpleRNN mse 0.11208996423292421 with 64 neurons\n",
      "INFO:tensorflow:Assets written to: ram://c9c51ba0-ab30-47a1-97ed-cb1e0269651e/assets\n"
     ]
    },
    {
     "name": "stderr",
     "output_type": "stream",
     "text": [
      "INFO:tensorflow:Assets written to: ram://c9c51ba0-ab30-47a1-97ed-cb1e0269651e/assets\n"
     ]
    },
    {
     "name": "stdout",
     "output_type": "stream",
     "text": [
      "Found new best LSTM mse 0.09401803232786882 with 64 neurons\n"
     ]
    },
    {
     "name": "stderr",
     "output_type": "stream",
     "text": [
      "WARNING:absl:Found untraced functions such as lstm_cell_2_layer_call_fn, lstm_cell_2_layer_call_and_return_conditional_losses, lstm_cell_2_layer_call_fn, lstm_cell_2_layer_call_and_return_conditional_losses, lstm_cell_2_layer_call_and_return_conditional_losses while saving (showing 5 of 5). These functions will not be directly callable after loading.\n"
     ]
    },
    {
     "name": "stdout",
     "output_type": "stream",
     "text": [
      "INFO:tensorflow:Assets written to: ram://ebe01562-d59f-4290-b628-aa2e313ec291/assets\n"
     ]
    },
    {
     "name": "stderr",
     "output_type": "stream",
     "text": [
      "INFO:tensorflow:Assets written to: ram://ebe01562-d59f-4290-b628-aa2e313ec291/assets\n",
      "WARNING:absl:<keras.layers.recurrent.LSTMCell object at 0x7f92a05fdbe0> has the same name 'LSTMCell' as a built-in Keras object. Consider renaming <class 'keras.layers.recurrent.LSTMCell'> to avoid naming conflicts when loading with `tf.keras.models.load_model`. If renaming is not possible, pass the object in the `custom_objects` parameter of the load function.\n"
     ]
    },
    {
     "name": "stdout",
     "output_type": "stream",
     "text": [
      "Found new best GRU mse 0.08983860884442645 with 64 neurons\n"
     ]
    },
    {
     "name": "stderr",
     "output_type": "stream",
     "text": [
      "WARNING:absl:Found untraced functions such as gru_cell_2_layer_call_fn, gru_cell_2_layer_call_and_return_conditional_losses, gru_cell_2_layer_call_fn, gru_cell_2_layer_call_and_return_conditional_losses, gru_cell_2_layer_call_and_return_conditional_losses while saving (showing 5 of 5). These functions will not be directly callable after loading.\n"
     ]
    },
    {
     "name": "stdout",
     "output_type": "stream",
     "text": [
      "INFO:tensorflow:Assets written to: ram://627b7636-72bc-4720-864d-2ae7e8e6af86/assets\n"
     ]
    },
    {
     "name": "stderr",
     "output_type": "stream",
     "text": [
      "INFO:tensorflow:Assets written to: ram://627b7636-72bc-4720-864d-2ae7e8e6af86/assets\n",
      "WARNING:absl:<keras.layers.recurrent.GRUCell object at 0x7f926590a880> has the same name 'GRUCell' as a built-in Keras object. Consider renaming <class 'keras.layers.recurrent.GRUCell'> to avoid naming conflicts when loading with `tf.keras.models.load_model`. If renaming is not possible, pass the object in the `custom_objects` parameter of the load function.\n"
     ]
    },
    {
     "name": "stdout",
     "output_type": "stream",
     "text": [
      "Iteration 3\n",
      "Found new best SimpleRNN mse 0.07613025754390249 with 128 neurons\n",
      "INFO:tensorflow:Assets written to: ram://972023ac-4b31-49f7-a502-46adf81ce124/assets\n"
     ]
    },
    {
     "name": "stderr",
     "output_type": "stream",
     "text": [
      "INFO:tensorflow:Assets written to: ram://972023ac-4b31-49f7-a502-46adf81ce124/assets\n"
     ]
    },
    {
     "name": "stdout",
     "output_type": "stream",
     "text": [
      "Found new best LSTM mse 0.09051073147369919 with 128 neurons\n"
     ]
    },
    {
     "name": "stderr",
     "output_type": "stream",
     "text": [
      "WARNING:absl:Found untraced functions such as lstm_cell_3_layer_call_fn, lstm_cell_3_layer_call_and_return_conditional_losses, lstm_cell_3_layer_call_fn, lstm_cell_3_layer_call_and_return_conditional_losses, lstm_cell_3_layer_call_and_return_conditional_losses while saving (showing 5 of 5). These functions will not be directly callable after loading.\n"
     ]
    },
    {
     "name": "stdout",
     "output_type": "stream",
     "text": [
      "INFO:tensorflow:Assets written to: ram://bd0f0117-e616-45fa-b4d8-2ae28c5c444a/assets\n"
     ]
    },
    {
     "name": "stderr",
     "output_type": "stream",
     "text": [
      "INFO:tensorflow:Assets written to: ram://bd0f0117-e616-45fa-b4d8-2ae28c5c444a/assets\n",
      "WARNING:absl:<keras.layers.recurrent.LSTMCell object at 0x7f92a05dbe50> has the same name 'LSTMCell' as a built-in Keras object. Consider renaming <class 'keras.layers.recurrent.LSTMCell'> to avoid naming conflicts when loading with `tf.keras.models.load_model`. If renaming is not possible, pass the object in the `custom_objects` parameter of the load function.\n"
     ]
    },
    {
     "name": "stdout",
     "output_type": "stream",
     "text": [
      "Found new best GRU mse 0.0849436012794081 with 128 neurons\n"
     ]
    },
    {
     "name": "stderr",
     "output_type": "stream",
     "text": [
      "WARNING:absl:Found untraced functions such as gru_cell_3_layer_call_fn, gru_cell_3_layer_call_and_return_conditional_losses, gru_cell_3_layer_call_fn, gru_cell_3_layer_call_and_return_conditional_losses, gru_cell_3_layer_call_and_return_conditional_losses while saving (showing 5 of 5). These functions will not be directly callable after loading.\n"
     ]
    },
    {
     "name": "stdout",
     "output_type": "stream",
     "text": [
      "INFO:tensorflow:Assets written to: ram://22ae4618-1aff-4043-b267-dc4e9e97bd61/assets\n"
     ]
    },
    {
     "name": "stderr",
     "output_type": "stream",
     "text": [
      "INFO:tensorflow:Assets written to: ram://22ae4618-1aff-4043-b267-dc4e9e97bd61/assets\n",
      "WARNING:absl:<keras.layers.recurrent.GRUCell object at 0x7f9265e247c0> has the same name 'GRUCell' as a built-in Keras object. Consider renaming <class 'keras.layers.recurrent.GRUCell'> to avoid naming conflicts when loading with `tf.keras.models.load_model`. If renaming is not possible, pass the object in the `custom_objects` parameter of the load function.\n"
     ]
    }
   ],
   "source": [
    "for n, neurons in enumerate(no_neurons):\n",
    "    print(f\"Iteration {n}\")\n",
    "    rnn = keras.models.Sequential([\n",
    "        keras.layers.SimpleRNN(neurons, return_sequences=True, input_shape=[None, 1]),\n",
    "        keras.layers.Dense(horizon)\n",
    "    ])\n",
    "\n",
    "    lstm = keras.models.Sequential([\n",
    "        keras.layers.LSTM(neurons, return_sequences=True, input_shape=[None, 1]),\n",
    "        keras.layers.Dense(horizon)\n",
    "    ])\n",
    "\n",
    "    gru = keras.models.Sequential([\n",
    "        keras.layers.GRU(neurons, return_sequences=True, input_shape=[None, 1]),\n",
    "        keras.layers.Dense(horizon)\n",
    "    ])\n",
    "\n",
    "    rnn.compile(loss=\"mse\", optimizer=\"adam\", metrics=[last_time_step_mse])\n",
    "    lstm.compile(loss=\"mse\", optimizer=\"adam\", metrics=[last_time_step_mse])\n",
    "    gru.compile(loss=\"mse\", optimizer=\"adam\", metrics=[last_time_step_mse])\n",
    "\n",
    "    rnn.fit(X_train, Y_train, epochs=epochs, validation_data=(X_valid, Y_valid), verbose=False)\n",
    "    lstm.fit(X_train, Y_train, epochs=epochs, validation_data=(X_valid, Y_valid), verbose=False)\n",
    "    gru.fit(X_train, Y_train, epochs=epochs, validation_data=(X_valid, Y_valid), verbose=False)\n",
    "\n",
    "    Y_pred_rnn = rnn.predict(X_test)\n",
    "    Y_pred_lstm = lstm.predict(X_test)\n",
    "    Y_pred_gru = gru.predict(X_test)\n",
    "\n",
    "    mse_rnn = MSE(Y_test[:,-1], Y_pred_rnn[:,-1])\n",
    "    mse_lstm = MSE(Y_test[:,-1], Y_pred_lstm[:,-1])\n",
    "    mse_gru = MSE(Y_test[:,-1], Y_pred_gru[:,-1])\n",
    "\n",
    "    if mse_rnn < best_mse_small[0]:\n",
    "        print(f\"Found new best SimpleRNN mse {mse_rnn} with {neurons} neurons\")\n",
    "        best_mse_small[0] = mse_rnn\n",
    "        fname = f\"../data/models/small_rnn.pkl\"\n",
    "        save_model(rnn, fname)\n",
    "\n",
    "    if mse_lstm < best_mse_small[1]:\n",
    "        print(f\"Found new best LSTM mse {mse_lstm} with {neurons} neurons\")\n",
    "        best_mse_small[1] = mse_lstm\n",
    "        fname = f\"../data/models/small_lstm.pkl\"\n",
    "        save_model(lstm, fname)\n",
    "\n",
    "    if mse_gru < best_mse_small[2]:\n",
    "        print(f\"Found new best GRU mse {mse_gru} with {neurons} neurons\")\n",
    "        best_mse_small[2] = mse_gru\n",
    "        fname = f\"../data/models/small_gru.pkl\"\n",
    "        save_model(gru, fname)\n",
    "\n",
    "    mse_list_small[0,n] = mse_rnn\n",
    "    mse_list_small[1,n] = mse_lstm\n",
    "    mse_list_small[2,n] = mse_gru\n",
    "\n"
   ]
  },
  {
   "cell_type": "code",
   "execution_count": 7,
   "metadata": {},
   "outputs": [
    {
     "data": {
      "text/plain": [
       "<matplotlib.legend.Legend at 0x7f92a06a23d0>"
      ]
     },
     "execution_count": 7,
     "metadata": {},
     "output_type": "execute_result"
    },
    {
     "data": {
      "image/png": "[encoded data removed]",
      "text/plain": [
       "<Figure size 1080x720 with 1 Axes>"
      ]
     },
     "metadata": {
      "needs_background": "light"
     },
     "output_type": "display_data"
    }
   ],
   "source": [
    "plt.figure(figsize=(15,10))\n",
    "plt.plot(mse_list_small[0], '.--', markersize=20, label=\"SimpleRNN\")\n",
    "plt.plot(mse_list_small[1], '.--', markersize=20, label=\"LSTM\")\n",
    "plt.plot(mse_list_small[2], '.--', markersize=20, label=\"GRU\")\n",
    "plt.xticks(ticks = np.arange(4), labels=no_neurons)\n",
    "plt.xlabel(f\"Number of neurons\")\n",
    "plt.ylabel(f\"Mean Squared Error\")\n",
    "plt.grid()\n",
    "plt.legend()\n",
    "#plt.savefig(f\"../figures/small_architecture_grid_search.pdf\")"
   ]
  },
  {
   "cell_type": "markdown",
   "metadata": {},
   "source": [
    "# Perform the same gridsearch, but for large architecture"
   ]
  },
  {
   "cell_type": "code",
   "execution_count": 8,
   "metadata": {},
   "outputs": [],
   "source": [
    "no_neurons = np.array([16,32,64,128])\n",
    "mse_list = np.zeros((3, len(no_neurons), len(no_neurons)))\n",
    "best_mse = np.inf*np.ones(3)"
   ]
  },
  {
   "cell_type": "code",
   "execution_count": 9,
   "metadata": {},
   "outputs": [
    {
     "name": "stdout",
     "output_type": "stream",
     "text": [
      "Iteration 00\n",
      "Found new best SimpleRNN mse 0.17797824312062524 with 16 and 16 neurons\n",
      "INFO:tensorflow:Assets written to: ram://6e98e3f8-450c-424a-a4c3-99644c0d0836/assets\n"
     ]
    },
    {
     "name": "stderr",
     "output_type": "stream",
     "text": [
      "INFO:tensorflow:Assets written to: ram://6e98e3f8-450c-424a-a4c3-99644c0d0836/assets\n"
     ]
    },
    {
     "name": "stdout",
     "output_type": "stream",
     "text": [
      "Found new best LSTM mse 0.11918401681958539 with 16 and 16 neurons\n"
     ]
    },
    {
     "name": "stderr",
     "output_type": "stream",
     "text": [
      "WARNING:absl:Found untraced functions such as lstm_cell_4_layer_call_fn, lstm_cell_4_layer_call_and_return_conditional_losses, lstm_cell_5_layer_call_fn, lstm_cell_5_layer_call_and_return_conditional_losses, lstm_cell_4_layer_call_fn while saving (showing 5 of 10). These functions will not be directly callable after loading.\n"
     ]
    },
    {
     "name": "stdout",
     "output_type": "stream",
     "text": [
      "INFO:tensorflow:Assets written to: ram://e2c1e7de-a2ca-4acb-9823-0f94ac912740/assets\n"
     ]
    },
    {
     "name": "stderr",
     "output_type": "stream",
     "text": [
      "INFO:tensorflow:Assets written to: ram://e2c1e7de-a2ca-4acb-9823-0f94ac912740/assets\n",
      "WARNING:absl:<keras.layers.recurrent.LSTMCell object at 0x7f92666c4dc0> has the same name 'LSTMCell' as a built-in Keras object. Consider renaming <class 'keras.layers.recurrent.LSTMCell'> to avoid naming conflicts when loading with `tf.keras.models.load_model`. If renaming is not possible, pass the object in the `custom_objects` parameter of the load function.\n",
      "WARNING:absl:<keras.layers.recurrent.LSTMCell object at 0x7f9266510370> has the same name 'LSTMCell' as a built-in Keras object. Consider renaming <class 'keras.layers.recurrent.LSTMCell'> to avoid naming conflicts when loading with `tf.keras.models.load_model`. If renaming is not possible, pass the object in the `custom_objects` parameter of the load function.\n"
     ]
    },
    {
     "name": "stdout",
     "output_type": "stream",
     "text": [
      "Found new best GRU mse 0.10812906619013056 with 16 and 16 neurons\n"
     ]
    },
    {
     "name": "stderr",
     "output_type": "stream",
     "text": [
      "WARNING:absl:Found untraced functions such as gru_cell_4_layer_call_fn, gru_cell_4_layer_call_and_return_conditional_losses, gru_cell_5_layer_call_fn, gru_cell_5_layer_call_and_return_conditional_losses, gru_cell_4_layer_call_fn while saving (showing 5 of 10). These functions will not be directly callable after loading.\n"
     ]
    },
    {
     "name": "stdout",
     "output_type": "stream",
     "text": [
      "INFO:tensorflow:Assets written to: ram://8abbf21c-2037-4a5e-b76e-480276671e72/assets\n"
     ]
    },
    {
     "name": "stderr",
     "output_type": "stream",
     "text": [
      "INFO:tensorflow:Assets written to: ram://8abbf21c-2037-4a5e-b76e-480276671e72/assets\n",
      "WARNING:absl:<keras.layers.recurrent.GRUCell object at 0x7f92a03017c0> has the same name 'GRUCell' as a built-in Keras object. Consider renaming <class 'keras.layers.recurrent.GRUCell'> to avoid naming conflicts when loading with `tf.keras.models.load_model`. If renaming is not possible, pass the object in the `custom_objects` parameter of the load function.\n",
      "WARNING:absl:<keras.layers.recurrent.GRUCell object at 0x7f92b7b8ef10> has the same name 'GRUCell' as a built-in Keras object. Consider renaming <class 'keras.layers.recurrent.GRUCell'> to avoid naming conflicts when loading with `tf.keras.models.load_model`. If renaming is not possible, pass the object in the `custom_objects` parameter of the load function.\n"
     ]
    },
    {
     "name": "stdout",
     "output_type": "stream",
     "text": [
      "Iteration 01\n",
      "Found new best SimpleRNN mse 0.10903281135339875 with 16 and 32 neurons\n",
      "INFO:tensorflow:Assets written to: ram://860a2300-562a-4f78-b59f-60852a68a644/assets\n"
     ]
    },
    {
     "name": "stderr",
     "output_type": "stream",
     "text": [
      "INFO:tensorflow:Assets written to: ram://860a2300-562a-4f78-b59f-60852a68a644/assets\n"
     ]
    },
    {
     "name": "stdout",
     "output_type": "stream",
     "text": [
      "Found new best LSTM mse 0.1024411859614166 with 16 and 32 neurons\n"
     ]
    },
    {
     "name": "stderr",
     "output_type": "stream",
     "text": [
      "WARNING:absl:Found untraced functions such as lstm_cell_6_layer_call_fn, lstm_cell_6_layer_call_and_return_conditional_losses, lstm_cell_7_layer_call_fn, lstm_cell_7_layer_call_and_return_conditional_losses, lstm_cell_6_layer_call_fn while saving (showing 5 of 10). These functions will not be directly callable after loading.\n"
     ]
    },
    {
     "name": "stdout",
     "output_type": "stream",
     "text": [
      "INFO:tensorflow:Assets written to: ram://f702f9af-2370-476a-b23d-f4051a803e54/assets\n"
     ]
    },
    {
     "name": "stderr",
     "output_type": "stream",
     "text": [
      "INFO:tensorflow:Assets written to: ram://f702f9af-2370-476a-b23d-f4051a803e54/assets\n",
      "WARNING:absl:<keras.layers.recurrent.LSTMCell object at 0x7f9264ee4f70> has the same name 'LSTMCell' as a built-in Keras object. Consider renaming <class 'keras.layers.recurrent.LSTMCell'> to avoid naming conflicts when loading with `tf.keras.models.load_model`. If renaming is not possible, pass the object in the `custom_objects` parameter of the load function.\n",
      "WARNING:absl:<keras.layers.recurrent.LSTMCell object at 0x7f9264b95ca0> has the same name 'LSTMCell' as a built-in Keras object. Consider renaming <class 'keras.layers.recurrent.LSTMCell'> to avoid naming conflicts when loading with `tf.keras.models.load_model`. If renaming is not possible, pass the object in the `custom_objects` parameter of the load function.\n"
     ]
    },
    {
     "name": "stdout",
     "output_type": "stream",
     "text": [
      "Found new best GRU mse 0.0980141423358154 with 16 and 32 neurons\n"
     ]
    },
    {
     "name": "stderr",
     "output_type": "stream",
     "text": [
      "WARNING:absl:Found untraced functions such as gru_cell_6_layer_call_fn, gru_cell_6_layer_call_and_return_conditional_losses, gru_cell_7_layer_call_fn, gru_cell_7_layer_call_and_return_conditional_losses, gru_cell_6_layer_call_fn while saving (showing 5 of 10). These functions will not be directly callable after loading.\n"
     ]
    },
    {
     "name": "stdout",
     "output_type": "stream",
     "text": [
      "INFO:tensorflow:Assets written to: ram://1b81b24b-ec27-48e4-a08d-503e1d92a2ab/assets\n"
     ]
    },
    {
     "name": "stderr",
     "output_type": "stream",
     "text": [
      "INFO:tensorflow:Assets written to: ram://1b81b24b-ec27-48e4-a08d-503e1d92a2ab/assets\n",
      "WARNING:absl:<keras.layers.recurrent.GRUCell object at 0x7f926629c760> has the same name 'GRUCell' as a built-in Keras object. Consider renaming <class 'keras.layers.recurrent.GRUCell'> to avoid naming conflicts when loading with `tf.keras.models.load_model`. If renaming is not possible, pass the object in the `custom_objects` parameter of the load function.\n",
      "WARNING:absl:<keras.layers.recurrent.GRUCell object at 0x7f926512db80> has the same name 'GRUCell' as a built-in Keras object. Consider renaming <class 'keras.layers.recurrent.GRUCell'> to avoid naming conflicts when loading with `tf.keras.models.load_model`. If renaming is not possible, pass the object in the `custom_objects` parameter of the load function.\n"
     ]
    },
    {
     "name": "stdout",
     "output_type": "stream",
     "text": [
      "Iteration 02\n",
      "Found new best SimpleRNN mse 0.09700182079246983 with 16 and 64 neurons\n",
      "INFO:tensorflow:Assets written to: ram://83f5ca85-e610-4462-8b09-4b95e57dac99/assets\n"
     ]
    },
    {
     "name": "stderr",
     "output_type": "stream",
     "text": [
      "INFO:tensorflow:Assets written to: ram://83f5ca85-e610-4462-8b09-4b95e57dac99/assets\n"
     ]
    },
    {
     "name": "stdout",
     "output_type": "stream",
     "text": [
      "Found new best LSTM mse 0.10208826301240075 with 16 and 64 neurons\n"
     ]
    },
    {
     "name": "stderr",
     "output_type": "stream",
     "text": [
      "WARNING:absl:Found untraced functions such as lstm_cell_8_layer_call_fn, lstm_cell_8_layer_call_and_return_conditional_losses, lstm_cell_9_layer_call_fn, lstm_cell_9_layer_call_and_return_conditional_losses, lstm_cell_8_layer_call_fn while saving (showing 5 of 10). These functions will not be directly callable after loading.\n"
     ]
    },
    {
     "name": "stdout",
     "output_type": "stream",
     "text": [
      "INFO:tensorflow:Assets written to: ram://bf51d4a9-d01a-4f0c-b304-0ba1cafa6c55/assets\n"
     ]
    },
    {
     "name": "stderr",
     "output_type": "stream",
     "text": [
      "INFO:tensorflow:Assets written to: ram://bf51d4a9-d01a-4f0c-b304-0ba1cafa6c55/assets\n",
      "WARNING:absl:<keras.layers.recurrent.LSTMCell object at 0x7f92a02e05e0> has the same name 'LSTMCell' as a built-in Keras object. Consider renaming <class 'keras.layers.recurrent.LSTMCell'> to avoid naming conflicts when loading with `tf.keras.models.load_model`. If renaming is not possible, pass the object in the `custom_objects` parameter of the load function.\n",
      "WARNING:absl:<keras.layers.recurrent.LSTMCell object at 0x7f926572ac10> has the same name 'LSTMCell' as a built-in Keras object. Consider renaming <class 'keras.layers.recurrent.LSTMCell'> to avoid naming conflicts when loading with `tf.keras.models.load_model`. If renaming is not possible, pass the object in the `custom_objects` parameter of the load function.\n"
     ]
    },
    {
     "name": "stdout",
     "output_type": "stream",
     "text": [
      "Found new best GRU mse 0.08376749867269849 with 16 and 64 neurons\n"
     ]
    },
    {
     "name": "stderr",
     "output_type": "stream",
     "text": [
      "WARNING:absl:Found untraced functions such as gru_cell_8_layer_call_fn, gru_cell_8_layer_call_and_return_conditional_losses, gru_cell_9_layer_call_fn, gru_cell_9_layer_call_and_return_conditional_losses, gru_cell_8_layer_call_fn while saving (showing 5 of 10). These functions will not be directly callable after loading.\n"
     ]
    },
    {
     "name": "stdout",
     "output_type": "stream",
     "text": [
      "INFO:tensorflow:Assets written to: ram://18c7b495-9d42-4223-86b3-9d6a45d53c04/assets\n"
     ]
    },
    {
     "name": "stderr",
     "output_type": "stream",
     "text": [
      "INFO:tensorflow:Assets written to: ram://18c7b495-9d42-4223-86b3-9d6a45d53c04/assets\n",
      "WARNING:absl:<keras.layers.recurrent.GRUCell object at 0x7f9265ca18e0> has the same name 'GRUCell' as a built-in Keras object. Consider renaming <class 'keras.layers.recurrent.GRUCell'> to avoid naming conflicts when loading with `tf.keras.models.load_model`. If renaming is not possible, pass the object in the `custom_objects` parameter of the load function.\n",
      "WARNING:absl:<keras.layers.recurrent.GRUCell object at 0x7f9266129430> has the same name 'GRUCell' as a built-in Keras object. Consider renaming <class 'keras.layers.recurrent.GRUCell'> to avoid naming conflicts when loading with `tf.keras.models.load_model`. If renaming is not possible, pass the object in the `custom_objects` parameter of the load function.\n"
     ]
    },
    {
     "name": "stdout",
     "output_type": "stream",
     "text": [
      "Iteration 03\n",
      "Found new best SimpleRNN mse 0.08053608687272952 with 16 and 128 neurons\n",
      "INFO:tensorflow:Assets written to: ram://7d3848ac-74f9-4461-94d0-74fc029ed209/assets\n"
     ]
    },
    {
     "name": "stderr",
     "output_type": "stream",
     "text": [
      "INFO:tensorflow:Assets written to: ram://7d3848ac-74f9-4461-94d0-74fc029ed209/assets\n"
     ]
    },
    {
     "name": "stdout",
     "output_type": "stream",
     "text": [
      "Found new best LSTM mse 0.09275335177565909 with 16 and 128 neurons\n"
     ]
    },
    {
     "name": "stderr",
     "output_type": "stream",
     "text": [
      "WARNING:absl:Found untraced functions such as lstm_cell_10_layer_call_fn, lstm_cell_10_layer_call_and_return_conditional_losses, lstm_cell_11_layer_call_fn, lstm_cell_11_layer_call_and_return_conditional_losses, lstm_cell_10_layer_call_fn while saving (showing 5 of 10). These functions will not be directly callable after loading.\n"
     ]
    },
    {
     "name": "stdout",
     "output_type": "stream",
     "text": [
      "INFO:tensorflow:Assets written to: ram://13b762b4-c53b-440d-b025-1d3e478b518b/assets\n"
     ]
    },
    {
     "name": "stderr",
     "output_type": "stream",
     "text": [
      "INFO:tensorflow:Assets written to: ram://13b762b4-c53b-440d-b025-1d3e478b518b/assets\n",
      "WARNING:absl:<keras.layers.recurrent.LSTMCell object at 0x7f9265871370> has the same name 'LSTMCell' as a built-in Keras object. Consider renaming <class 'keras.layers.recurrent.LSTMCell'> to avoid naming conflicts when loading with `tf.keras.models.load_model`. If renaming is not possible, pass the object in the `custom_objects` parameter of the load function.\n",
      "WARNING:absl:<keras.layers.recurrent.LSTMCell object at 0x7f9265eabb50> has the same name 'LSTMCell' as a built-in Keras object. Consider renaming <class 'keras.layers.recurrent.LSTMCell'> to avoid naming conflicts when loading with `tf.keras.models.load_model`. If renaming is not possible, pass the object in the `custom_objects` parameter of the load function.\n"
     ]
    },
    {
     "name": "stdout",
     "output_type": "stream",
     "text": [
      "Iteration 10\n",
      "Iteration 11\n",
      "Iteration 12\n",
      "Iteration 13\n",
      "Found new best LSTM mse 0.08641150524222176 with 32 and 128 neurons\n"
     ]
    },
    {
     "name": "stderr",
     "output_type": "stream",
     "text": [
      "WARNING:absl:Found untraced functions such as lstm_cell_18_layer_call_fn, lstm_cell_18_layer_call_and_return_conditional_losses, lstm_cell_19_layer_call_fn, lstm_cell_19_layer_call_and_return_conditional_losses, lstm_cell_18_layer_call_fn while saving (showing 5 of 10). These functions will not be directly callable after loading.\n"
     ]
    },
    {
     "name": "stdout",
     "output_type": "stream",
     "text": [
      "INFO:tensorflow:Assets written to: ram://95f9c422-5b62-4546-b7ea-b1dcf5cc3297/assets\n"
     ]
    },
    {
     "name": "stderr",
     "output_type": "stream",
     "text": [
      "INFO:tensorflow:Assets written to: ram://95f9c422-5b62-4546-b7ea-b1dcf5cc3297/assets\n",
      "WARNING:absl:<keras.layers.recurrent.LSTMCell object at 0x7f92661afd00> has the same name 'LSTMCell' as a built-in Keras object. Consider renaming <class 'keras.layers.recurrent.LSTMCell'> to avoid naming conflicts when loading with `tf.keras.models.load_model`. If renaming is not possible, pass the object in the `custom_objects` parameter of the load function.\n",
      "WARNING:absl:<keras.layers.recurrent.LSTMCell object at 0x7f92a065d430> has the same name 'LSTMCell' as a built-in Keras object. Consider renaming <class 'keras.layers.recurrent.LSTMCell'> to avoid naming conflicts when loading with `tf.keras.models.load_model`. If renaming is not possible, pass the object in the `custom_objects` parameter of the load function.\n"
     ]
    },
    {
     "name": "stdout",
     "output_type": "stream",
     "text": [
      "Found new best GRU mse 0.08066217499059249 with 32 and 128 neurons\n"
     ]
    },
    {
     "name": "stderr",
     "output_type": "stream",
     "text": [
      "WARNING:absl:Found untraced functions such as gru_cell_18_layer_call_fn, gru_cell_18_layer_call_and_return_conditional_losses, gru_cell_19_layer_call_fn, gru_cell_19_layer_call_and_return_conditional_losses, gru_cell_18_layer_call_fn while saving (showing 5 of 10). These functions will not be directly callable after loading.\n"
     ]
    },
    {
     "name": "stdout",
     "output_type": "stream",
     "text": [
      "INFO:tensorflow:Assets written to: ram://3c579dd7-c11a-4f88-b234-89b4693720fd/assets\n"
     ]
    },
    {
     "name": "stderr",
     "output_type": "stream",
     "text": [
      "INFO:tensorflow:Assets written to: ram://3c579dd7-c11a-4f88-b234-89b4693720fd/assets\n",
      "WARNING:absl:<keras.layers.recurrent.GRUCell object at 0x7f92a03eac10> has the same name 'GRUCell' as a built-in Keras object. Consider renaming <class 'keras.layers.recurrent.GRUCell'> to avoid naming conflicts when loading with `tf.keras.models.load_model`. If renaming is not possible, pass the object in the `custom_objects` parameter of the load function.\n",
      "WARNING:absl:<keras.layers.recurrent.GRUCell object at 0x7f92b7884940> has the same name 'GRUCell' as a built-in Keras object. Consider renaming <class 'keras.layers.recurrent.GRUCell'> to avoid naming conflicts when loading with `tf.keras.models.load_model`. If renaming is not possible, pass the object in the `custom_objects` parameter of the load function.\n"
     ]
    },
    {
     "name": "stdout",
     "output_type": "stream",
     "text": [
      "Iteration 20\n",
      "Iteration 21\n",
      "Iteration 22\n",
      "Iteration 23\n",
      "Found new best SimpleRNN mse 0.07257373842089163 with 64 and 128 neurons\n",
      "INFO:tensorflow:Assets written to: ram://e01fec28-cbe1-4932-b89a-3ccaa83329b1/assets\n"
     ]
    },
    {
     "name": "stderr",
     "output_type": "stream",
     "text": [
      "INFO:tensorflow:Assets written to: ram://e01fec28-cbe1-4932-b89a-3ccaa83329b1/assets\n"
     ]
    },
    {
     "name": "stdout",
     "output_type": "stream",
     "text": [
      "Iteration 30\n",
      "Iteration 31\n",
      "Iteration 32\n",
      "Iteration 33\n",
      "Found new best SimpleRNN mse 0.06939392309550739 with 128 and 128 neurons\n",
      "INFO:tensorflow:Assets written to: ram://1fa21671-8aaf-469b-a3b4-d83407686739/assets\n"
     ]
    },
    {
     "name": "stderr",
     "output_type": "stream",
     "text": [
      "INFO:tensorflow:Assets written to: ram://1fa21671-8aaf-469b-a3b4-d83407686739/assets\n"
     ]
    }
   ],
   "source": [
    "for n, neurons_first in enumerate(no_neurons):\n",
    "    for m, neurons_second in enumerate(no_neurons):\n",
    "        print(f\"Iteration {n}{m}\")\n",
    "        rnn = keras.models.Sequential([\n",
    "            keras.layers.SimpleRNN(neurons_first, return_sequences=True, input_shape=[None, 1]),\n",
    "            keras.layers.SimpleRNN(neurons_second, return_sequences=True),\n",
    "            keras.layers.Dense(horizon)\n",
    "        ])\n",
    "\n",
    "        lstm = keras.models.Sequential([\n",
    "            keras.layers.LSTM(neurons_first, return_sequences=True, input_shape=[None, 1]),\n",
    "            keras.layers.LSTM(neurons_second, return_sequences=True),\n",
    "            keras.layers.Dense(horizon)\n",
    "        ])\n",
    "\n",
    "        gru = keras.models.Sequential([\n",
    "            keras.layers.GRU(neurons_first, return_sequences=True, input_shape=[None, 1]),\n",
    "            keras.layers.GRU(neurons_second, return_sequences=True),\n",
    "            keras.layers.Dense(horizon)\n",
    "        ])\n",
    "\n",
    "        rnn.compile(loss=\"mse\", optimizer=\"adam\", metrics=[last_time_step_mse])\n",
    "        lstm.compile(loss=\"mse\", optimizer=\"adam\", metrics=[last_time_step_mse])\n",
    "        gru.compile(loss=\"mse\", optimizer=\"adam\", metrics=[last_time_step_mse])\n",
    "\n",
    "        rnn.fit(X_train, Y_train, epochs=epochs, validation_data=(X_valid, Y_valid), verbose=False)\n",
    "        lstm.fit(X_train, Y_train, epochs=epochs, validation_data=(X_valid, Y_valid), verbose=False)\n",
    "        gru.fit(X_train, Y_train, epochs=epochs, validation_data=(X_valid, Y_valid), verbose=False)\n",
    "\n",
    "        Y_pred_rnn = rnn.predict(X_test)\n",
    "        Y_pred_lstm = lstm.predict(X_test)\n",
    "        Y_pred_gru = gru.predict(X_test)\n",
    "\n",
    "        mse_rnn = MSE(Y_test[:,-1], Y_pred_rnn[:,-1])\n",
    "        mse_lstm = MSE(Y_test[:,-1], Y_pred_lstm[:,-1])\n",
    "        mse_gru = MSE(Y_test[:,-1], Y_pred_gru[:,-1])\n",
    "\n",
    "        if mse_rnn < best_mse[0]:\n",
    "            print(f\"Found new best SimpleRNN mse {mse_rnn} with {neurons_first} and {neurons_second} neurons\")\n",
    "            best_mse[0] = mse_rnn\n",
    "            fname = f\"../data/models/large_rnn.pkl\"\n",
    "            save_model(rnn, fname)\n",
    "\n",
    "        if mse_lstm < best_mse[1]:\n",
    "            print(f\"Found new best LSTM mse {mse_lstm} with {neurons_first} and {neurons_second} neurons\")\n",
    "            best_mse[1] = mse_lstm\n",
    "            fname = f\"../data/models/large_lstm.pkl\"\n",
    "            save_model(lstm, fname)\n",
    "\n",
    "        if mse_gru < best_mse[2]:\n",
    "            print(f\"Found new best GRU mse {mse_gru} with {neurons_first} and {neurons_second} neurons\")\n",
    "            best_mse[2] = mse_gru\n",
    "            fname = f\"../data/models/large_gru.pkl\"\n",
    "            save_model(gru, fname)\n",
    "\n",
    "        mse_list[0,n,m] = mse_rnn\n",
    "        mse_list[1,n,m] = mse_lstm\n",
    "        mse_list[2,n,m] = mse_gru"
   ]
  },
  {
   "cell_type": "code",
   "execution_count": 10,
   "metadata": {},
   "outputs": [
    {
     "name": "stdout",
     "output_type": "stream",
     "text": [
      "[[[0.17797824 0.10903281 0.09700182 0.08053609]\n",
      "  [0.15108914 0.11841515 0.10343045 0.08740797]\n",
      "  [0.12654837 0.11391362 0.08522634 0.07257374]\n",
      "  [0.11148168 0.11281334 0.08831262 0.06939392]]\n",
      "\n",
      " [[0.11918402 0.10244119 0.10208826 0.09275335]\n",
      "  [0.13179839 0.1025492  0.10117043 0.08641151]\n",
      "  [0.11690016 0.10052218 0.09728017 0.09017644]\n",
      "  [0.11013928 0.1037902  0.09758631 0.08719932]]\n",
      "\n",
      " [[0.10812907 0.09801414 0.0837675  0.08600341]\n",
      "  [0.11310487 0.08687814 0.08387653 0.08066217]\n",
      "  [0.11194858 0.09024661 0.08597667 0.08928518]\n",
      "  [0.09169727 0.0826923  0.08835175 0.08517792]]]\n",
      "[0.06939392 0.08641151 0.08066217]\n"
     ]
    }
   ],
   "source": [
    "print(mse_list)\n",
    "print(best_mse)"
   ]
  },
  {
   "cell_type": "markdown",
   "metadata": {},
   "source": [
    "From these results, the best models are\n",
    "* SimpleRNN 128 and 128 neurons @ 0.06939392 MSE\n",
    "* LSTM 32 and 128 neurons @ 0.08641151\n",
    "* GRU 32 and 128 neurons @ 0.08066217"
   ]
  }
 ],
 "metadata": {
  "interpreter": {
   "hash": "f9f85f796d01129d0dd105a088854619f454435301f6ffec2fea96ecbd9be4ac"
  },
  "kernelspec": {
   "display_name": "Python 3.9.5 64-bit",
   "language": "python",
   "name": "python3"
  },
  "language_info": {
   "codemirror_mode": {
    "name": "ipython",
    "version": 3
   },
   "file_extension": ".py",
   "mimetype": "text/x-python",
   "name": "python",
   "nbconvert_exporter": "python",
   "pygments_lexer": "ipython3",
   "version": "3.9.7"
  },
  "orig_nbformat": 4
 },
 "nbformat": 4,
 "nbformat_minor": 2
}
