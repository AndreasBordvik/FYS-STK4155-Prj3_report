{
 "cells": [
  {
   "cell_type": "code",
   "execution_count": null,
   "metadata": {},
   "outputs": [],
   "source": [
    "import pandas as pd\n",
    "import numpy as np\n",
    "import matplotlib.pyplot as plt\n",
    "from statsmodels.tsa.stattools import adfuller\n",
    "from statsmodels.graphics.tsaplots import plot_acf,plot_pacf\n",
    "from statsmodels.regression.linear_model import yule_walker\n",
    "from sklearn.metrics import r2_score\n",
    "from sklearn.model_selection import TimeSeriesSplit"
   ]
  },
  {
   "cell_type": "code",
   "execution_count": null,
   "metadata": {},
   "outputs": [],
   "source": [
    "df = pd.read_csv(f\"../data/input_data/MAIN_DATASET.csv\", index_col=[0])\n",
    "\n",
    "selceted_df = df.iloc[41000:]\n",
    "selceted_df.head()"
   ]
  },
  {
   "cell_type": "code",
   "execution_count": null,
   "metadata": {},
   "outputs": [],
   "source": []
  },
  {
   "cell_type": "code",
   "execution_count": null,
   "metadata": {},
   "outputs": [],
   "source": [
    "day_ahead_prices = selceted_df[[\"dato_id\",\"NO2_price\"]]\n",
    "day_ahead_prices.head()"
   ]
  },
  {
   "cell_type": "code",
   "execution_count": null,
   "metadata": {},
   "outputs": [],
   "source": [
    "ax = day_ahead_prices.plot()\n",
    "ax.set_ylabel(\"Day Ahead Price\")\n",
    "plt.show()"
   ]
  },
  {
   "cell_type": "markdown",
   "metadata": {},
   "source": [
    "### Test if data is stationary: \n",
    "Example to show how data is processed in the case where data needs to be differenced"
   ]
  },
  {
   "cell_type": "code",
   "execution_count": null,
   "metadata": {},
   "outputs": [],
   "source": [
    "def hypothesis_test(df:pd.DataFrame):\n",
    "    result = adfuller(df)\n",
    "    #print(result)\n",
    "    p_value = result[1]\n",
    "    if p_value > 0.05: \n",
    "        print(f\"{p_value=}, differencing data\")\n",
    "        df = df.diff()\n",
    "        return df\n",
    "    else:\n",
    "        print(f\"{p_value=}>0.05, no need to difference data\")\n",
    "        return df\n",
    "\n",
    "differenced_NO2 = hypothesis_test(day_ahead_prices[\"NO2_price\"])\n",
    "\n",
    "ax1 = differenced_NO2.plot(label = \"Differenced Time Series\")\n",
    "day_ahead_prices[\"NO2_price\"].plot(ax=ax1, label = \"Original Time Series\")\n",
    "ax1.set_ylabel(\"Day Ahead Price\")\n",
    "plt.title(\"NO2 Price\")\n",
    "plt.legend()\n",
    "plt.show()\n",
    "\n"
   ]
  }
 ],
 "metadata": {
  "interpreter": {
   "hash": "1341f2ca8bae0273958fc68fc9062d4567e8214cb67a8c75fe7f4d8d8f4d5eac"
  },
  "kernelspec": {
   "display_name": "Python 3.9.7 64-bit ('geo4300_env': conda)",
   "language": "python",
   "name": "python3"
  },
  "language_info": {
   "codemirror_mode": {
    "name": "ipython",
    "version": 3
   },
   "file_extension": ".py",
   "mimetype": "text/x-python",
   "name": "python",
   "nbconvert_exporter": "python",
   "pygments_lexer": "ipython3",
   "version": "3.9.7"
  },
  "orig_nbformat": 4
 },
 "nbformat": 4,
 "nbformat_minor": 2
}
